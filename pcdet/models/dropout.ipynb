{
 "cells": [
  {
   "cell_type": "code",
   "execution_count": 33,
   "id": "3a453c14-feb4-4ca1-9b04-e14634ec3845",
   "metadata": {
    "ExecutionIndicator": {
     "show": true
    },
    "execution": {
     "iopub.execute_input": "2023-05-28T18:36:55.918556Z",
     "iopub.status.busy": "2023-05-28T18:36:55.918082Z",
     "iopub.status.idle": "2023-05-28T18:36:55.993720Z",
     "shell.execute_reply": "2023-05-28T18:36:55.992896Z",
     "shell.execute_reply.started": "2023-05-28T18:36:55.918529Z"
    },
    "tags": []
   },
   "outputs": [
    {
     "ename": "RuntimeError",
     "evalue": "invalid multinomial distribution (encountering probability entry < 0)",
     "output_type": "error",
     "traceback": [
      "\u001b[0;31m---------------------------------------------------------------------------\u001b[0m",
      "\u001b[0;31mRuntimeError\u001b[0m                              Traceback (most recent call last)",
      "Cell \u001b[0;32mIn[33], line 2\u001b[0m\n\u001b[1;32m      1\u001b[0m weights \u001b[38;5;241m=\u001b[39m torch\u001b[38;5;241m.\u001b[39mTensor([\u001b[38;5;241m1\u001b[39m, \u001b[38;5;241m2\u001b[39m, \u001b[38;5;241m3\u001b[39m, \u001b[38;5;241m4\u001b[39m, \u001b[38;5;241m99\u001b[39m, \u001b[38;5;241m99999\u001b[39m, \u001b[38;5;241m-\u001b[39m\u001b[38;5;241m2\u001b[39m])   \u001b[38;5;66;03m# 采样权重\u001b[39;00m\n\u001b[0;32m----> 2\u001b[0m \u001b[43mtorch\u001b[49m\u001b[38;5;241;43m.\u001b[39;49m\u001b[43mmultinomial\u001b[49m\u001b[43m(\u001b[49m\u001b[43mweights\u001b[49m\u001b[43m,\u001b[49m\u001b[43m \u001b[49m\u001b[38;5;241;43m10\u001b[39;49m\u001b[43m,\u001b[49m\u001b[43m \u001b[49m\u001b[43mreplacement\u001b[49m\u001b[38;5;241;43m=\u001b[39;49m\u001b[38;5;28;43;01mTrue\u001b[39;49;00m\u001b[43m)\u001b[49m\n",
      "\u001b[0;31mRuntimeError\u001b[0m: invalid multinomial distribution (encountering probability entry < 0)"
     ]
    }
   ],
   "source": [
    "weights = torch.Tensor([1, 2, 3, 4, 99, 99999, -2])   # 采样权重\n",
    "torch.multinomial(weights, 10, replacement=True)"
   ]
  },
  {
   "cell_type": "code",
   "execution_count": 25,
   "id": "5e54036c-bc25-451d-bbcd-6786116cb339",
   "metadata": {
    "ExecutionIndicator": {
     "show": true
    },
    "execution": {
     "iopub.execute_input": "2023-05-28T16:37:47.233255Z",
     "iopub.status.busy": "2023-05-28T16:37:47.232656Z",
     "iopub.status.idle": "2023-05-28T16:37:47.238297Z",
     "shell.execute_reply": "2023-05-28T16:37:47.237507Z",
     "shell.execute_reply.started": "2023-05-28T16:37:47.233235Z"
    },
    "tags": []
   },
   "outputs": [
    {
     "data": {
      "text/plain": [
       "tensor([[[[1., 2., 3.],\n",
       "          [4., 4., 5.]],\n",
       "\n",
       "         [[6., 8., 8.],\n",
       "          [9., 5., 7.]]]])"
      ]
     },
     "execution_count": 25,
     "metadata": {},
     "output_type": "execute_result"
    }
   ],
   "source": [
    "import torch\n",
    "\n",
    "z = torch.tensor([[[[1.,2.,3.],[4.,4.,5.]],[[6.,8.,8.],[9.,5.,7.]]]])\n",
    "z.contiguous().view(-1)\n",
    "z"
   ]
  },
  {
   "cell_type": "code",
   "execution_count": 18,
   "id": "bab42325-60b2-47c9-97f4-f2e22f4a7e2c",
   "metadata": {
    "ExecutionIndicator": {
     "show": true
    },
    "execution": {
     "iopub.execute_input": "2023-05-28T16:08:13.091535Z",
     "iopub.status.busy": "2023-05-28T16:08:13.091206Z",
     "iopub.status.idle": "2023-05-28T16:08:13.100171Z",
     "shell.execute_reply": "2023-05-28T16:08:13.099740Z",
     "shell.execute_reply.started": "2023-05-28T16:08:13.091516Z"
    },
    "tags": []
   },
   "outputs": [
    {
     "data": {
      "text/plain": [
       "tensor([[ 1.6667,  1.6667,  2.5000],\n",
       "        [ 3.3333,  3.3333,  8.3333],\n",
       "        [ 5.0000,  0.0000, 13.3333],\n",
       "        [ 7.5000,  8.3333, 11.6667]])"
      ]
     },
     "execution_count": 18,
     "metadata": {},
     "output_type": "execute_result"
    }
   ],
   "source": [
    "import torch\n",
    "from torch import Tensor\n",
    "from torch.nn import Module\n",
    "\n",
    "from torch import _VF\n",
    "\n",
    "\n",
    "# X = torch.tensor([[1.,2.,3.],[4.,4.,5.],[6.,8.,8.],[9.,5.,7.]])\n",
    "# p0 = 0.4\n",
    "# p1 = 0.6\n",
    "# p05 = 1- p0 - p1\n",
    "# training = True\n",
    "\n",
    "def dropout(X, p0, p1, training, inplace=False):\n",
    "    p05 = 1 - p0 - p1\n",
    "    # print(X.sum())\n",
    "    weights = torch.Tensor([p0, p05, p1])   # 采样权重\n",
    "    mask = torch.multinomial(weights, len(X.view(-1)), replacement=True)\n",
    "    mask = mask.view(X.shape)/2\n",
    "    # print((mask * X / (0*p0 + 0.5*p05 + 1*p1)).sum())\n",
    "    return mask * X / (0*p0 + 0.5*p05 + 1*p1)\n",
    "\n",
    "# dropout(X, p0, p1, training)\n",
    "\n",
    "\n",
    "class _DropoutNd(Module):\n",
    "    __constants__ = ['p', 'inplace']\n",
    "    p: float\n",
    "    inplace: bool\n",
    "\n",
    "    def __init__(self, p1: float = 0.2, p2: float = 0.2, inplace: bool = False) -> None:\n",
    "        super(_DropoutNd, self).__init__()\n",
    "        # if p < 0 or p > 1:\n",
    "        #     raise ValueError(\"dropout probability has to be between 0 and 1, \"\n",
    "        #                      \"but got {}\".format(p))\n",
    "        self.p1 = p1\n",
    "        self.p2 = p2\n",
    "        self.inplace = inplace\n",
    "\n",
    "    # def extra_repr(self) -> str:\n",
    "    #     return 'p={}, inplace={}'.format(self.p, self.inplace)\n",
    "\n",
    "\n",
    "class Dropout(_DropoutNd):\n",
    "    def forward(self, input: Tensor) -> Tensor:\n",
    "        return dropout(input, self.p1, self.p2, self.training, self.inplace)\n",
    "\n",
    "import torch\n",
    "do = Dropout(0.2, 0.4)\n",
    "input_ = torch.tensor([[1.,2.,3.],[4.,4.,5.],[6.,8.,8.],[9.,5.,7.]])\n",
    "do(input_)"
   ]
  },
  {
   "cell_type": "code",
   "execution_count": null,
   "id": "bf767a0f-3f5f-42c0-8e6f-b54f1a8f4324",
   "metadata": {
    "execution": {
     "iopub.status.busy": "2023-05-28T16:00:43.153298Z",
     "iopub.status.idle": "2023-05-28T16:00:43.153488Z",
     "shell.execute_reply": "2023-05-28T16:00:43.153404Z",
     "shell.execute_reply.started": "2023-05-28T16:00:43.153395Z"
    }
   },
   "outputs": [],
   "source": [
    "def dropout(X, p0, p1, training):\n",
    "\n",
    "    a = dropout_rate\n",
    "    b = 1 - dropout_rate\n",
    "    \n",
    "    mask = torch.tensor(beta.rvs(a, b, size=tuple(X.shape)).astype(np.float32))\n",
    "    mask = mask.to(torch.device(\"cuda\"))  # .float()\n",
    "    \n",
    "    return mask * X * (X.sum() / (mask * X).sum())"
   ]
  },
  {
   "cell_type": "code",
   "execution_count": null,
   "id": "030d9c87-d798-4302-a607-dac3d8aedcc3",
   "metadata": {
    "execution": {
     "iopub.status.busy": "2023-05-28T16:00:43.153993Z",
     "iopub.status.idle": "2023-05-28T16:00:43.154193Z",
     "shell.execute_reply": "2023-05-28T16:00:43.154098Z",
     "shell.execute_reply.started": "2023-05-28T16:00:43.154089Z"
    },
    "tags": []
   },
   "outputs": [],
   "source": [
    "from scipy.stats import multinomial"
   ]
  },
  {
   "cell_type": "code",
   "execution_count": 6,
   "id": "c423e93a-e25f-48c9-af1c-01ed75508ffc",
   "metadata": {
    "ExecutionIndicator": {
     "show": false
    },
    "execution": {
     "iopub.execute_input": "2023-05-28T16:02:31.381409Z",
     "iopub.status.busy": "2023-05-28T16:02:31.381066Z",
     "iopub.status.idle": "2023-05-28T16:02:31.384528Z",
     "shell.execute_reply": "2023-05-28T16:02:31.384097Z",
     "shell.execute_reply.started": "2023-05-28T16:02:31.381391Z"
    },
    "tags": []
   },
   "outputs": [],
   "source": [
    "y = torch.tensor([[1.,2.,3.,4.],[4.,5.,6.,8.]])\n"
   ]
  },
  {
   "cell_type": "code",
   "execution_count": 12,
   "id": "7dd0a6ab-1535-4241-ad01-656283520be5",
   "metadata": {
    "ExecutionIndicator": {
     "show": true
    },
    "execution": {
     "iopub.execute_input": "2023-05-28T16:03:54.835777Z",
     "iopub.status.busy": "2023-05-28T16:03:54.835195Z",
     "iopub.status.idle": "2023-05-28T16:03:54.839231Z",
     "shell.execute_reply": "2023-05-28T16:03:54.838840Z",
     "shell.execute_reply.started": "2023-05-28T16:03:54.835758Z"
    },
    "tags": []
   },
   "outputs": [
    {
     "data": {
      "text/plain": [
       "8"
      ]
     },
     "execution_count": 12,
     "metadata": {},
     "output_type": "execute_result"
    }
   ],
   "source": [
    "len(y.view(-1))"
   ]
  },
  {
   "cell_type": "code",
   "execution_count": 11,
   "id": "db15bcd5-ebe7-4f7c-99cc-cd19aa92e4ee",
   "metadata": {
    "execution": {
     "iopub.execute_input": "2023-05-28T16:03:36.865743Z",
     "iopub.status.busy": "2023-05-28T16:03:36.865152Z",
     "iopub.status.idle": "2023-05-28T16:03:36.869550Z",
     "shell.execute_reply": "2023-05-28T16:03:36.869148Z",
     "shell.execute_reply.started": "2023-05-28T16:03:36.865723Z"
    },
    "tags": []
   },
   "outputs": [
    {
     "data": {
      "text/plain": [
       "tensor([[1., 2., 3., 4.],\n",
       "        [4., 5., 6., 8.]])"
      ]
     },
     "execution_count": 11,
     "metadata": {},
     "output_type": "execute_result"
    }
   ],
   "source": [
    "y"
   ]
  },
  {
   "cell_type": "code",
   "execution_count": null,
   "id": "3a93dc8d-4122-4b00-beb3-3a0d51bff4a8",
   "metadata": {
    "execution": {
     "iopub.status.busy": "2023-05-28T16:00:43.155752Z",
     "iopub.status.idle": "2023-05-28T16:00:43.155930Z",
     "shell.execute_reply": "2023-05-28T16:00:43.155853Z",
     "shell.execute_reply.started": "2023-05-28T16:00:43.155845Z"
    },
    "tags": []
   },
   "outputs": [],
   "source": [
    "tuple(X.shape)"
   ]
  },
  {
   "cell_type": "code",
   "execution_count": null,
   "id": "bcd49625-9037-4b25-a7c1-26c25d3f5ee9",
   "metadata": {
    "ExecutionIndicator": {
     "show": true
    },
    "execution": {
     "iopub.status.busy": "2023-05-28T16:00:43.156466Z",
     "iopub.status.idle": "2023-05-28T16:00:43.156634Z",
     "shell.execute_reply": "2023-05-28T16:00:43.156557Z",
     "shell.execute_reply.started": "2023-05-28T16:00:43.156549Z"
    },
    "tags": []
   },
   "outputs": [],
   "source": [
    "multinomial.rvs(n=9,p=(0.3, 0.4, 0.1, 0.1),size=1, replacement=True)"
   ]
  },
  {
   "cell_type": "code",
   "execution_count": null,
   "id": "d11429dc-25a7-4a5f-8ef2-83b4b96f9595",
   "metadata": {
    "ExecutionIndicator": {
     "show": true
    },
    "execution": {
     "iopub.status.busy": "2023-05-28T16:00:43.157027Z",
     "iopub.status.idle": "2023-05-28T16:00:43.157201Z",
     "shell.execute_reply": "2023-05-28T16:00:43.157116Z",
     "shell.execute_reply.started": "2023-05-28T16:00:43.157109Z"
    },
    "tags": []
   },
   "outputs": [],
   "source": [
    "import inspect\n",
    "\n",
    "inspect.getfullargspec(multinomial.rvs)"
   ]
  },
  {
   "cell_type": "code",
   "execution_count": null,
   "id": "4fbf84fd-d816-4152-80f8-f857e390a5db",
   "metadata": {
    "execution": {
     "iopub.status.busy": "2023-05-28T16:00:43.157707Z",
     "iopub.status.idle": "2023-05-28T16:00:43.157888Z",
     "shell.execute_reply": "2023-05-28T16:00:43.157800Z",
     "shell.execute_reply.started": "2023-05-28T16:00:43.157792Z"
    }
   },
   "outputs": [],
   "source": [
    "import torch\n",
    "\n",
    "def dropout(X, p0, p1, training):\n",
    "\n",
    "    a = dropout_rate\n",
    "    b = 1 - dropout_rate\n",
    "    \n",
    "    mask = torch.tensor(beta.rvs(a, b, size=tuple(X.shape)).astype(np.float32))\n",
    "    mask = mask.to(torch.device(\"cuda\"))  # .float()\n",
    "    \n",
    "    return mask * X * (X.sum() / (mask * X).sum())"
   ]
  },
  {
   "cell_type": "code",
   "execution_count": null,
   "id": "0eb6c976-b0da-4eb7-8eaf-4a70ea75a8c3",
   "metadata": {
    "ExecutionIndicator": {
     "show": true
    },
    "execution": {
     "iopub.status.busy": "2023-05-28T16:00:43.158313Z",
     "iopub.status.idle": "2023-05-28T16:00:43.158479Z",
     "shell.execute_reply": "2023-05-28T16:00:43.158406Z",
     "shell.execute_reply.started": "2023-05-28T16:00:43.158398Z"
    },
    "tags": []
   },
   "outputs": [],
   "source": [
    "from torch import Tensor\n",
    "from torch.nn import Module\n",
    "\n",
    "from torch import _VF\n",
    "\n",
    "def dropout(input: Tensor, p: float = 0.5, training: bool = True, inplace: bool = False) -> Tensor:\n",
    "    # if has_torch_function_unary(input):\n",
    "    #     return handle_torch_function(dropout, (input,), input, p=p, training=training, inplace=inplace)\n",
    "    if p < 0.0 or p > 1.0:\n",
    "        raise ValueError(\"dropout probability has to be between 0 and 1, \" \"but got {}\".format(p))\n",
    "    return _VF.dropout_(input, p, training) if inplace else _VF.dropout(input, p, training)\n",
    "\n",
    "class _DropoutNd(Module):\n",
    "    __constants__ = ['p', 'inplace']\n",
    "    p: float\n",
    "    inplace: bool\n",
    "\n",
    "    def __init__(self, p: float = 0.5, inplace: bool = False) -> None:\n",
    "        super(_DropoutNd, self).__init__()\n",
    "        if p < 0 or p > 1:\n",
    "            raise ValueError(\"dropout probability has to be between 0 and 1, \"\n",
    "                             \"but got {}\".format(p))\n",
    "        self.p = p\n",
    "        self.inplace = inplace\n",
    "\n",
    "    def extra_repr(self) -> str:\n",
    "        return 'p={}, inplace={}'.format(self.p, self.inplace)\n",
    "\n",
    "\n",
    "class Dropout(_DropoutNd):\n",
    "    def forward(self, input: Tensor) -> Tensor:\n",
    "        return dropout(input, self.p, self.training, self.inplace)\n",
    "\n",
    "import torch\n",
    "do = Dropout(0.5)\n",
    "input_ = torch.tensor([[1.,2.,3.],[4.,5.,6.]])\n",
    "do(input_)"
   ]
  }
 ],
 "metadata": {
  "kernelspec": {
   "display_name": "Python 3 (ipykernel)",
   "language": "python",
   "name": "python3"
  },
  "language_info": {
   "codemirror_mode": {
    "name": "ipython",
    "version": 3
   },
   "file_extension": ".py",
   "mimetype": "text/x-python",
   "name": "python",
   "nbconvert_exporter": "python",
   "pygments_lexer": "ipython3",
   "version": "3.9.15"
  }
 },
 "nbformat": 4,
 "nbformat_minor": 5
}
