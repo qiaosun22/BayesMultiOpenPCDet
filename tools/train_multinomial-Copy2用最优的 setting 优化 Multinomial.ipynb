{
 "cells": [
  {
   "cell_type": "markdown",
   "id": "262d683d-4c38-4ecc-92b0-e8fbaa386662",
   "metadata": {},
   "source": [
    "BayesOpt Multi\n",
    "\n",
    "已完成：调整学习率，降低代码复杂度"
   ]
  },
  {
   "cell_type": "code",
   "execution_count": 1,
   "id": "87f7a3b7-423e-48d0-aef4-3d6f53af4196",
   "metadata": {
    "ExecutionIndicator": {
     "show": true
    },
    "execution": {
     "iopub.execute_input": "2023-07-22T23:25:17.334937Z",
     "iopub.status.busy": "2023-07-22T23:25:17.334786Z",
     "iopub.status.idle": "2023-07-23T00:01:46.984218Z",
     "shell.execute_reply": "2023-07-23T00:01:46.982689Z",
     "shell.execute_reply.started": "2023-07-22T23:25:17.334920Z"
    },
    "tags": []
   },
   "outputs": [
    {
     "name": "stderr",
     "output_type": "stream",
     "text": [
      "2023-07-23 07:25:23,471   INFO  Database filter by min points Car: 14357 => 13532\n",
      "2023-07-23 07:25:23,472   INFO  Database filter by min points Pedestrian: 2207 => 2168\n",
      "2023-07-23 07:25:23,473   INFO  Database filter by min points Cyclist: 734 => 705\n",
      "2023-07-23 07:25:23,488   INFO  Database filter by difficulty Car: 13532 => 10759\n",
      "2023-07-23 07:25:23,491   INFO  Database filter by difficulty Pedestrian: 2168 => 2075\n",
      "2023-07-23 07:25:23,492   INFO  Database filter by difficulty Cyclist: 705 => 581\n",
      "2023-07-23 07:25:23,497   INFO  Loading KITTI dataset\n"
     ]
    },
    {
     "name": "stdout",
     "output_type": "stream",
     "text": [
      "Using GPU:0\n",
      "=============\n",
      "0.23 0.77 0.68\n",
      "=============\n"
     ]
    },
    {
     "name": "stderr",
     "output_type": "stream",
     "text": [
      "2023-07-23 07:25:23,577   INFO  Total samples for KITTI dataset: 3712\n",
      "2023-07-23 07:25:25,103   INFO  Loading KITTI dataset\n",
      "2023-07-23 07:25:25,182   INFO  Total samples for KITTI dataset: 3769\n",
      "2023-07-23 07:25:25,183   INFO  ----------------Bayes Optimization----------------\n",
      "2023-07-23 07:25:25,185   INFO  Loading KITTI dataset\n",
      "2023-07-23 07:25:25,260   INFO  Total samples for KITTI dataset: 3769\n"
     ]
    },
    {
     "name": "stdout",
     "output_type": "stream",
     "text": [
      "|   iter    |  target   |    p1     |    p2     |    p3     |\n",
      "-------------------------------------------------------------\n",
      "Average predicted number of objects(3769 samples): 28.003\n"
     ]
    },
    {
     "name": "stderr",
     "output_type": "stream",
     "text": [
      "2023-07-23 07:28:59,196   INFO  Loading KITTI dataset\n",
      "2023-07-23 07:28:59,280   INFO  Total samples for KITTI dataset: 3769\n"
     ]
    },
    {
     "name": "stdout",
     "output_type": "stream",
     "text": [
      "{'recall/roi_0.3': 0.0, 'recall/rcnn_0.3': 0.0, 'recall/roi_0.5': 0.0, 'recall/rcnn_0.5': 0.0, 'recall/roi_0.7': 0.0, 'recall/rcnn_0.7': 0.0, 'Car_aos/easy_R40': 96.57340472027546, 'Car_aos/moderate_R40': 89.56130852186905, 'Car_aos/hard_R40': 87.13537467613894, 'Car_3d/easy_R40': 85.01158914039182, 'Car_3d/moderate_R40': 71.82001447929107, 'Car_3d/hard_R40': 68.97282227996924, 'Car_bev/easy_R40': 93.53865460246176, 'Car_bev/moderate_R40': 86.30507094788172, 'Car_bev/hard_R40': 83.92403847593279, 'Car_image/easy_R40': 96.60532982555081, 'Car_image/moderate_R40': 89.81683143746501, 'Car_image/hard_R40': 87.52583157967506, 'Pedestrian_aos/easy_R40': 32.604615051953026, 'Pedestrian_aos/moderate_R40': 30.24704792019554, 'Pedestrian_aos/hard_R40': 28.226198709361437, 'Pedestrian_3d/easy_R40': 49.27835447911003, 'Pedestrian_3d/moderate_R40': 42.484505571614896, 'Pedestrian_3d/hard_R40': 37.998820209846315, 'Pedestrian_bev/easy_R40': 54.60346101051681, 'Pedestrian_bev/moderate_R40': 47.83701949255656, 'Pedestrian_bev/hard_R40': 43.1800118305842, 'Pedestrian_image/easy_R40': 53.666703030015015, 'Pedestrian_image/moderate_R40': 48.470479330561425, 'Pedestrian_image/hard_R40': 45.516464425289136, 'Cyclist_aos/easy_R40': 79.33394568859964, 'Cyclist_aos/moderate_R40': 64.31447064757151, 'Cyclist_aos/hard_R40': 60.44804100217779, 'Cyclist_3d/easy_R40': 70.19359214167889, 'Cyclist_3d/moderate_R40': 51.30234640765676, 'Cyclist_3d/hard_R40': 48.14048819033469, 'Cyclist_bev/easy_R40': 77.50889355563488, 'Cyclist_bev/moderate_R40': 56.90368579476983, 'Cyclist_bev/hard_R40': 53.7349413737586, 'Cyclist_image/easy_R40': 80.2639557794366, 'Cyclist_image/moderate_R40': 65.91277938220846, 'Cyclist_image/hard_R40': 62.178158166282614}\n",
      "| \u001b[0m1        \u001b[0m | \u001b[0m58.36    \u001b[0m | \u001b[0m0.23     \u001b[0m | \u001b[0m0.77     \u001b[0m | \u001b[0m0.68     \u001b[0m |\n",
      "Average predicted number of objects(3769 samples): 27.967\n"
     ]
    },
    {
     "name": "stderr",
     "output_type": "stream",
     "text": [
      "2023-07-23 07:32:38,903   INFO  Loading KITTI dataset\n",
      "2023-07-23 07:32:38,987   INFO  Total samples for KITTI dataset: 3769\n"
     ]
    },
    {
     "name": "stdout",
     "output_type": "stream",
     "text": [
      "{'recall/roi_0.3': 0.0, 'recall/rcnn_0.3': 0.0, 'recall/roi_0.5': 0.0, 'recall/rcnn_0.5': 0.0, 'recall/roi_0.7': 0.0, 'recall/rcnn_0.7': 0.0, 'Car_aos/easy_R40': 96.54140292413584, 'Car_aos/moderate_R40': 89.5853047795468, 'Car_aos/hard_R40': 87.10143612859669, 'Car_3d/easy_R40': 85.25049611124545, 'Car_3d/moderate_R40': 71.94786596536647, 'Car_3d/hard_R40': 69.02874284242652, 'Car_bev/easy_R40': 93.43744727110057, 'Car_bev/moderate_R40': 86.02428973701878, 'Car_bev/hard_R40': 83.86291097324052, 'Car_image/easy_R40': 96.59139333993642, 'Car_image/moderate_R40': 89.82669768749622, 'Car_image/hard_R40': 87.46711002101722, 'Pedestrian_aos/easy_R40': 32.17554756465608, 'Pedestrian_aos/moderate_R40': 29.428484085863214, 'Pedestrian_aos/hard_R40': 27.571007862578888, 'Pedestrian_3d/easy_R40': 49.59728037481416, 'Pedestrian_3d/moderate_R40': 42.67312693103681, 'Pedestrian_3d/hard_R40': 37.94751488059451, 'Pedestrian_bev/easy_R40': 54.88451689268283, 'Pedestrian_bev/moderate_R40': 47.85176794822103, 'Pedestrian_bev/hard_R40': 43.142373992464755, 'Pedestrian_image/easy_R40': 52.763346742551306, 'Pedestrian_image/moderate_R40': 47.87020554897564, 'Pedestrian_image/hard_R40': 44.66703533085556, 'Cyclist_aos/easy_R40': 78.74662595287971, 'Cyclist_aos/moderate_R40': 64.24498601898688, 'Cyclist_aos/hard_R40': 60.59826377571619, 'Cyclist_3d/easy_R40': 69.97114995728472, 'Cyclist_3d/moderate_R40': 51.467790237575294, 'Cyclist_3d/hard_R40': 48.566623659815136, 'Cyclist_bev/easy_R40': 77.20514439776764, 'Cyclist_bev/moderate_R40': 56.954875655486624, 'Cyclist_bev/hard_R40': 53.85423806911122, 'Cyclist_image/easy_R40': 79.78856435829958, 'Cyclist_image/moderate_R40': 65.94358923854331, 'Cyclist_image/hard_R40': 62.34021986431373}\n",
      "| \u001b[95m2        \u001b[0m | \u001b[95m58.49    \u001b[0m | \u001b[95m0.4336   \u001b[0m | \u001b[95m0.6763   \u001b[0m | \u001b[95m0.1001   \u001b[0m |\n",
      "Average predicted number of objects(3769 samples): 28.001\n"
     ]
    },
    {
     "name": "stderr",
     "output_type": "stream",
     "text": [
      "2023-07-23 07:36:24,348   INFO  Loading KITTI dataset\n",
      "2023-07-23 07:36:24,430   INFO  Total samples for KITTI dataset: 3769\n"
     ]
    },
    {
     "name": "stdout",
     "output_type": "stream",
     "text": [
      "{'recall/roi_0.3': 0.0, 'recall/rcnn_0.3': 0.0, 'recall/roi_0.5': 0.0, 'recall/rcnn_0.5': 0.0, 'recall/roi_0.7': 0.0, 'recall/rcnn_0.7': 0.0, 'Car_aos/easy_R40': 96.25915237940453, 'Car_aos/moderate_R40': 89.61093516708006, 'Car_aos/hard_R40': 87.09909965848883, 'Car_3d/easy_R40': 84.10567186149818, 'Car_3d/moderate_R40': 71.60622406375123, 'Car_3d/hard_R40': 68.46517274259641, 'Car_bev/easy_R40': 93.43518698607042, 'Car_bev/moderate_R40': 86.41316818833099, 'Car_bev/hard_R40': 83.96188933012027, 'Car_image/easy_R40': 96.29786922361069, 'Car_image/moderate_R40': 89.87209813113435, 'Car_image/hard_R40': 87.47878884164454, 'Pedestrian_aos/easy_R40': 32.77646770119682, 'Pedestrian_aos/moderate_R40': 30.204066463961908, 'Pedestrian_aos/hard_R40': 28.12833966500016, 'Pedestrian_3d/easy_R40': 49.623079151785845, 'Pedestrian_3d/moderate_R40': 42.6019618104765, 'Pedestrian_3d/hard_R40': 37.80487003715898, 'Pedestrian_bev/easy_R40': 55.19119162542655, 'Pedestrian_bev/moderate_R40': 47.93542192714223, 'Pedestrian_bev/hard_R40': 43.296164800101124, 'Pedestrian_image/easy_R40': 53.446166681802886, 'Pedestrian_image/moderate_R40': 48.502793932245226, 'Pedestrian_image/hard_R40': 45.21093814756819, 'Cyclist_aos/easy_R40': 78.39293316748324, 'Cyclist_aos/moderate_R40': 62.98475715251087, 'Cyclist_aos/hard_R40': 59.83715677882301, 'Cyclist_3d/easy_R40': 68.84557615283367, 'Cyclist_3d/moderate_R40': 49.481757446580914, 'Cyclist_3d/hard_R40': 46.44222237137659, 'Cyclist_bev/easy_R40': 76.96417955349281, 'Cyclist_bev/moderate_R40': 55.5969704815444, 'Cyclist_bev/hard_R40': 52.370278488631094, 'Cyclist_image/easy_R40': 79.130328362498, 'Cyclist_image/moderate_R40': 64.18203513484471, 'Cyclist_image/hard_R40': 61.14173743912581}\n",
      "| \u001b[0m3        \u001b[0m | \u001b[0m57.66    \u001b[0m | \u001b[0m0.3419   \u001b[0m | \u001b[0m0.2174   \u001b[0m | \u001b[0m0.1739   \u001b[0m |\n",
      "Average predicted number of objects(3769 samples): 27.974\n"
     ]
    },
    {
     "name": "stderr",
     "output_type": "stream",
     "text": [
      "2023-07-23 07:40:07,114   INFO  Loading KITTI dataset\n",
      "2023-07-23 07:40:07,194   INFO  Total samples for KITTI dataset: 3769\n"
     ]
    },
    {
     "name": "stdout",
     "output_type": "stream",
     "text": [
      "{'recall/roi_0.3': 0.0, 'recall/rcnn_0.3': 0.0, 'recall/roi_0.5': 0.0, 'recall/rcnn_0.5': 0.0, 'recall/roi_0.7': 0.0, 'recall/rcnn_0.7': 0.0, 'Car_aos/easy_R40': 96.26412873225776, 'Car_aos/moderate_R40': 89.5820611330206, 'Car_aos/hard_R40': 87.10275118348318, 'Car_3d/easy_R40': 84.07011120943338, 'Car_3d/moderate_R40': 71.84197553042544, 'Car_3d/hard_R40': 68.91488475898446, 'Car_bev/easy_R40': 93.30326240664256, 'Car_bev/moderate_R40': 85.58350175659038, 'Car_bev/hard_R40': 83.72152143178893, 'Car_image/easy_R40': 96.3039944243713, 'Car_image/moderate_R40': 89.81598907379103, 'Car_image/hard_R40': 87.48053262675157, 'Pedestrian_aos/easy_R40': 31.70055419341481, 'Pedestrian_aos/moderate_R40': 29.04025065640633, 'Pedestrian_aos/hard_R40': 27.209347370790272, 'Pedestrian_3d/easy_R40': 50.28270688950449, 'Pedestrian_3d/moderate_R40': 43.189517980404865, 'Pedestrian_3d/hard_R40': 38.60211528372609, 'Pedestrian_bev/easy_R40': 55.36459127321951, 'Pedestrian_bev/moderate_R40': 48.2378614656979, 'Pedestrian_bev/hard_R40': 43.54048056684472, 'Pedestrian_image/easy_R40': 52.99506590887061, 'Pedestrian_image/moderate_R40': 47.80109039692476, 'Pedestrian_image/hard_R40': 44.7172446310743, 'Cyclist_aos/easy_R40': 77.72565631774144, 'Cyclist_aos/moderate_R40': 62.86813104601274, 'Cyclist_aos/hard_R40': 59.65427151884466, 'Cyclist_3d/easy_R40': 68.49700371478653, 'Cyclist_3d/moderate_R40': 50.15854736063883, 'Cyclist_3d/hard_R40': 47.04777186903171, 'Cyclist_bev/easy_R40': 77.02488792084804, 'Cyclist_bev/moderate_R40': 56.5835844889653, 'Cyclist_bev/hard_R40': 53.52708959533338, 'Cyclist_image/easy_R40': 78.80987279031044, 'Cyclist_image/moderate_R40': 64.3120851192575, 'Cyclist_image/hard_R40': 61.25957884082989}\n",
      "| \u001b[0m4        \u001b[0m | \u001b[0m58.07    \u001b[0m | \u001b[0m0.249    \u001b[0m | \u001b[0m0.3764   \u001b[0m | \u001b[0m0.4174   \u001b[0m |\n",
      "Average predicted number of objects(3769 samples): 28.008\n"
     ]
    },
    {
     "name": "stderr",
     "output_type": "stream",
     "text": [
      "2023-07-23 07:43:48,434   INFO  Loading KITTI dataset\n",
      "2023-07-23 07:43:48,520   INFO  Total samples for KITTI dataset: 3769\n"
     ]
    },
    {
     "name": "stdout",
     "output_type": "stream",
     "text": [
      "{'recall/roi_0.3': 0.0, 'recall/rcnn_0.3': 0.0, 'recall/roi_0.5': 0.0, 'recall/rcnn_0.5': 0.0, 'recall/roi_0.7': 0.0, 'recall/rcnn_0.7': 0.0, 'Car_aos/easy_R40': 96.5055902413828, 'Car_aos/moderate_R40': 89.71344887293874, 'Car_aos/hard_R40': 87.18533998368521, 'Car_3d/easy_R40': 84.82428897251515, 'Car_3d/moderate_R40': 71.8860641219224, 'Car_3d/hard_R40': 68.9880407347355, 'Car_bev/easy_R40': 93.42883086328344, 'Car_bev/moderate_R40': 86.3376651659834, 'Car_bev/hard_R40': 83.95792104154202, 'Car_image/easy_R40': 96.54649893015473, 'Car_image/moderate_R40': 89.96982780034492, 'Car_image/hard_R40': 87.57310456346703, 'Pedestrian_aos/easy_R40': 32.65004664260007, 'Pedestrian_aos/moderate_R40': 29.998290000931505, 'Pedestrian_aos/hard_R40': 28.15966023158345, 'Pedestrian_3d/easy_R40': 49.297001155636075, 'Pedestrian_3d/moderate_R40': 42.612562801826456, 'Pedestrian_3d/hard_R40': 37.95053450890625, 'Pedestrian_bev/easy_R40': 54.42726223702672, 'Pedestrian_bev/moderate_R40': 47.80383365544382, 'Pedestrian_bev/hard_R40': 42.92278505045567, 'Pedestrian_image/easy_R40': 53.078188070292974, 'Pedestrian_image/moderate_R40': 48.06941985455837, 'Pedestrian_image/hard_R40': 45.09870167602371, 'Cyclist_aos/easy_R40': 78.90060464152326, 'Cyclist_aos/moderate_R40': 63.08012150900257, 'Cyclist_aos/hard_R40': 59.817208206475236, 'Cyclist_3d/easy_R40': 69.83958659906266, 'Cyclist_3d/moderate_R40': 50.7194004157707, 'Cyclist_3d/hard_R40': 47.32010929993471, 'Cyclist_bev/easy_R40': 77.84603110253882, 'Cyclist_bev/moderate_R40': 56.967821945563934, 'Cyclist_bev/hard_R40': 53.842635919583316, 'Cyclist_image/easy_R40': 79.88015722848509, 'Cyclist_image/moderate_R40': 64.56992959465575, 'Cyclist_image/hard_R40': 61.42796420960222}\n",
      "| \u001b[0m5        \u001b[0m | \u001b[0m58.16    \u001b[0m | \u001b[0m0.5311   \u001b[0m | \u001b[0m0.4354   \u001b[0m | \u001b[0m0.6482   \u001b[0m |\n",
      "Average predicted number of objects(3769 samples): 27.952\n"
     ]
    },
    {
     "name": "stderr",
     "output_type": "stream",
     "text": [
      "2023-07-23 07:47:30,923   INFO  Loading KITTI dataset\n",
      "2023-07-23 07:47:31,010   INFO  Total samples for KITTI dataset: 3769\n"
     ]
    },
    {
     "name": "stdout",
     "output_type": "stream",
     "text": [
      "{'recall/roi_0.3': 0.0, 'recall/rcnn_0.3': 0.0, 'recall/roi_0.5': 0.0, 'recall/rcnn_0.5': 0.0, 'recall/roi_0.7': 0.0, 'recall/rcnn_0.7': 0.0, 'Car_aos/easy_R40': 96.38279075967466, 'Car_aos/moderate_R40': 89.65194497755856, 'Car_aos/hard_R40': 87.17492597999218, 'Car_3d/easy_R40': 84.45839687984935, 'Car_3d/moderate_R40': 71.92222736844609, 'Car_3d/hard_R40': 69.0571225343767, 'Car_bev/easy_R40': 93.42700345357281, 'Car_bev/moderate_R40': 86.2224121855133, 'Car_bev/hard_R40': 83.9294129584551, 'Car_image/easy_R40': 96.41513817825442, 'Car_image/moderate_R40': 89.9054481530483, 'Car_image/hard_R40': 87.56602874953445, 'Pedestrian_aos/easy_R40': 32.230618339581284, 'Pedestrian_aos/moderate_R40': 29.394338132731185, 'Pedestrian_aos/hard_R40': 27.668410458521187, 'Pedestrian_3d/easy_R40': 49.31971085936803, 'Pedestrian_3d/moderate_R40': 42.51977754347001, 'Pedestrian_3d/hard_R40': 37.87314078546826, 'Pedestrian_bev/easy_R40': 54.869812854302005, 'Pedestrian_bev/moderate_R40': 47.63836944558261, 'Pedestrian_bev/hard_R40': 43.07528949244446, 'Pedestrian_image/easy_R40': 53.214096439710644, 'Pedestrian_image/moderate_R40': 48.0500477971561, 'Pedestrian_image/hard_R40': 45.11376437707989, 'Cyclist_aos/easy_R40': 78.50197044207383, 'Cyclist_aos/moderate_R40': 63.52507025204292, 'Cyclist_aos/hard_R40': 60.02138667525967, 'Cyclist_3d/easy_R40': 69.15750531859074, 'Cyclist_3d/moderate_R40': 51.11527657738908, 'Cyclist_3d/hard_R40': 48.010163493900855, 'Cyclist_bev/easy_R40': 77.35191987844173, 'Cyclist_bev/moderate_R40': 56.569692137252545, 'Cyclist_bev/hard_R40': 53.31655986647992, 'Cyclist_image/easy_R40': 79.28917964557878, 'Cyclist_image/moderate_R40': 64.78432199137943, 'Cyclist_image/hard_R40': 61.30333881604917}\n",
      "| \u001b[0m6        \u001b[0m | \u001b[0m58.16    \u001b[0m | \u001b[0m0.2636   \u001b[0m | \u001b[0m0.8025   \u001b[0m | \u001b[0m0.1219   \u001b[0m |\n",
      "Average predicted number of objects(3769 samples): 28.026\n"
     ]
    },
    {
     "name": "stderr",
     "output_type": "stream",
     "text": [
      "2023-07-23 07:51:12,153   INFO  Loading KITTI dataset\n",
      "2023-07-23 07:51:12,243   INFO  Total samples for KITTI dataset: 3769\n"
     ]
    },
    {
     "name": "stdout",
     "output_type": "stream",
     "text": [
      "{'recall/roi_0.3': 0.0, 'recall/rcnn_0.3': 0.0, 'recall/roi_0.5': 0.0, 'recall/rcnn_0.5': 0.0, 'recall/roi_0.7': 0.0, 'recall/rcnn_0.7': 0.0, 'Car_aos/easy_R40': 96.65987928907418, 'Car_aos/moderate_R40': 89.65793882336122, 'Car_aos/hard_R40': 87.14843717578876, 'Car_3d/easy_R40': 85.0694604659697, 'Car_3d/moderate_R40': 72.05426277630569, 'Car_3d/hard_R40': 69.16303304770521, 'Car_bev/easy_R40': 93.5179756842522, 'Car_bev/moderate_R40': 86.2587251892789, 'Car_bev/hard_R40': 83.9074575802339, 'Car_image/easy_R40': 96.69920934122734, 'Car_image/moderate_R40': 89.90192935638603, 'Car_image/hard_R40': 87.52599042143972, 'Pedestrian_aos/easy_R40': 32.849501374336896, 'Pedestrian_aos/moderate_R40': 30.05240994137235, 'Pedestrian_aos/hard_R40': 28.05350512674757, 'Pedestrian_3d/easy_R40': 49.87294895621532, 'Pedestrian_3d/moderate_R40': 42.81518431755361, 'Pedestrian_3d/hard_R40': 38.08767978900153, 'Pedestrian_bev/easy_R40': 54.72554841165731, 'Pedestrian_bev/moderate_R40': 47.81926722895376, 'Pedestrian_bev/hard_R40': 43.129559254275414, 'Pedestrian_image/easy_R40': 52.803162576560304, 'Pedestrian_image/moderate_R40': 47.82468003449177, 'Pedestrian_image/hard_R40': 44.695170177060476, 'Cyclist_aos/easy_R40': 79.50261516918566, 'Cyclist_aos/moderate_R40': 64.04635011474733, 'Cyclist_aos/hard_R40': 60.29140479298902, 'Cyclist_3d/easy_R40': 70.13241436024433, 'Cyclist_3d/moderate_R40': 50.72316020097111, 'Cyclist_3d/hard_R40': 47.53919227000502, 'Cyclist_bev/easy_R40': 78.23814283516626, 'Cyclist_bev/moderate_R40': 57.01120864614902, 'Cyclist_bev/hard_R40': 53.77372040188304, 'Cyclist_image/easy_R40': 80.71898937914487, 'Cyclist_image/moderate_R40': 65.79551725766578, 'Cyclist_image/hard_R40': 62.08030321124684}\n",
      "| \u001b[0m7        \u001b[0m | \u001b[0m58.38    \u001b[0m | \u001b[0m0.6364   \u001b[0m | \u001b[0m0.4338   \u001b[0m | \u001b[0m0.547    \u001b[0m |\n",
      "Average predicted number of objects(3769 samples): 27.996\n"
     ]
    },
    {
     "name": "stderr",
     "output_type": "stream",
     "text": [
      "2023-07-23 07:54:53,558   INFO  Loading KITTI dataset\n",
      "2023-07-23 07:54:53,646   INFO  Total samples for KITTI dataset: 3769\n"
     ]
    },
    {
     "name": "stdout",
     "output_type": "stream",
     "text": [
      "{'recall/roi_0.3': 0.0, 'recall/rcnn_0.3': 0.0, 'recall/roi_0.5': 0.0, 'recall/rcnn_0.5': 0.0, 'recall/roi_0.7': 0.0, 'recall/rcnn_0.7': 0.0, 'Car_aos/easy_R40': 96.37968702423818, 'Car_aos/moderate_R40': 89.56973506683256, 'Car_aos/hard_R40': 87.1257753837769, 'Car_3d/easy_R40': 84.32215087117069, 'Car_3d/moderate_R40': 71.84612835533808, 'Car_3d/hard_R40': 68.91366170123241, 'Car_bev/easy_R40': 93.45958564992347, 'Car_bev/moderate_R40': 85.65020575274139, 'Car_bev/hard_R40': 83.69688683021275, 'Car_image/easy_R40': 96.42966649504562, 'Car_image/moderate_R40': 89.83515212132318, 'Car_image/hard_R40': 87.51978968958399, 'Pedestrian_aos/easy_R40': 33.0271032870996, 'Pedestrian_aos/moderate_R40': 30.284290261723317, 'Pedestrian_aos/hard_R40': 28.55523381767082, 'Pedestrian_3d/easy_R40': 50.34253889867792, 'Pedestrian_3d/moderate_R40': 43.127348798622236, 'Pedestrian_3d/hard_R40': 38.377090567805375, 'Pedestrian_bev/easy_R40': 55.358053742684085, 'Pedestrian_bev/moderate_R40': 48.16366244434767, 'Pedestrian_bev/hard_R40': 43.49159625632629, 'Pedestrian_image/easy_R40': 53.6080304109782, 'Pedestrian_image/moderate_R40': 48.543084049138585, 'Pedestrian_image/hard_R40': 45.5724355435936, 'Cyclist_aos/easy_R40': 79.51837209415832, 'Cyclist_aos/moderate_R40': 63.09704242110523, 'Cyclist_aos/hard_R40': 59.79977935943073, 'Cyclist_3d/easy_R40': 69.35206097121647, 'Cyclist_3d/moderate_R40': 49.62145102962568, 'Cyclist_3d/hard_R40': 46.6504882790901, 'Cyclist_bev/easy_R40': 78.29019246112144, 'Cyclist_bev/moderate_R40': 56.33206535591305, 'Cyclist_bev/hard_R40': 53.13208152669725, 'Cyclist_image/easy_R40': 80.50208818002862, 'Cyclist_image/moderate_R40': 64.56850730891313, 'Cyclist_image/hard_R40': 61.24575313672869}\n",
      "| \u001b[0m8        \u001b[0m | \u001b[0m58.06    \u001b[0m | \u001b[0m0.2123   \u001b[0m | \u001b[0m0.2585   \u001b[0m | \u001b[0m0.7406   \u001b[0m |\n",
      "Average predicted number of objects(3769 samples): 27.918\n"
     ]
    },
    {
     "name": "stderr",
     "output_type": "stream",
     "text": [
      "2023-07-23 07:58:35,919   INFO  Loading KITTI dataset\n",
      "2023-07-23 07:58:36,007   INFO  Total samples for KITTI dataset: 3769\n"
     ]
    },
    {
     "name": "stdout",
     "output_type": "stream",
     "text": [
      "{'recall/roi_0.3': 0.0, 'recall/rcnn_0.3': 0.0, 'recall/roi_0.5': 0.0, 'recall/rcnn_0.5': 0.0, 'recall/roi_0.7': 0.0, 'recall/rcnn_0.7': 0.0, 'Car_aos/easy_R40': 96.45573411090996, 'Car_aos/moderate_R40': 89.48017969666002, 'Car_aos/hard_R40': 87.02309103704555, 'Car_3d/easy_R40': 84.29514424600777, 'Car_3d/moderate_R40': 71.88124674018694, 'Car_3d/hard_R40': 69.00746571339666, 'Car_bev/easy_R40': 93.49396848210769, 'Car_bev/moderate_R40': 85.95709546697996, 'Car_bev/hard_R40': 83.79742866080466, 'Car_image/easy_R40': 96.50853690027228, 'Car_image/moderate_R40': 89.73329058014752, 'Car_image/hard_R40': 87.40002022974586, 'Pedestrian_aos/easy_R40': 32.37262026079265, 'Pedestrian_aos/moderate_R40': 29.935440157537684, 'Pedestrian_aos/hard_R40': 27.768562719670754, 'Pedestrian_3d/easy_R40': 49.671901413956014, 'Pedestrian_3d/moderate_R40': 42.60311796959071, 'Pedestrian_3d/hard_R40': 37.675023891537975, 'Pedestrian_bev/easy_R40': 54.501118071755215, 'Pedestrian_bev/moderate_R40': 47.71705981547088, 'Pedestrian_bev/hard_R40': 42.98233979537384, 'Pedestrian_image/easy_R40': 53.12857954174295, 'Pedestrian_image/moderate_R40': 48.22228942500007, 'Pedestrian_image/hard_R40': 45.017121638967225, 'Cyclist_aos/easy_R40': 76.92616665305006, 'Cyclist_aos/moderate_R40': 61.57366890176893, 'Cyclist_aos/hard_R40': 58.363270118021084, 'Cyclist_3d/easy_R40': 66.84866300107737, 'Cyclist_3d/moderate_R40': 49.231289692618034, 'Cyclist_3d/hard_R40': 46.22325950461407, 'Cyclist_bev/easy_R40': 75.26521694727627, 'Cyclist_bev/moderate_R40': 55.387013438001034, 'Cyclist_bev/hard_R40': 51.88205004997328, 'Cyclist_image/easy_R40': 77.75058149938566, 'Cyclist_image/moderate_R40': 62.764593019341696, 'Cyclist_image/hard_R40': 59.664098410655754}\n",
      "| \u001b[0m9        \u001b[0m | \u001b[0m57.49    \u001b[0m | \u001b[0m0.8746   \u001b[0m | \u001b[0m0.3507   \u001b[0m | \u001b[0m0.6539   \u001b[0m |\n"
     ]
    },
    {
     "ename": "KeyboardInterrupt",
     "evalue": "",
     "output_type": "error",
     "traceback": [
      "\u001b[0;31m---------------------------------------------------------------------------\u001b[0m",
      "\u001b[0;31mKeyboardInterrupt\u001b[0m                         Traceback (most recent call last)",
      "Cell \u001b[0;32mIn[1], line 314\u001b[0m\n\u001b[1;32m    309\u001b[0m \u001b[38;5;66;03m# logger_bayes = JSONLogger(path=save_path+\"logs2.json\")\u001b[39;00m\n\u001b[1;32m    310\u001b[0m \u001b[38;5;66;03m# optimizer.subscribe(Events.OPTIMIZATION_STEP, logger_bayes)\u001b[39;00m\n\u001b[1;32m    313\u001b[0m n \u001b[38;5;241m=\u001b[39m \u001b[38;5;241m0\u001b[39m\n\u001b[0;32m--> 314\u001b[0m \u001b[43moptimizer\u001b[49m\u001b[38;5;241;43m.\u001b[39;49m\u001b[43mmaximize\u001b[49m\u001b[43m(\u001b[49m\n\u001b[1;32m    315\u001b[0m \u001b[43m    \u001b[49m\u001b[43minit_points\u001b[49m\u001b[38;5;241;43m=\u001b[39;49m\u001b[38;5;241;43m10\u001b[39;49m\u001b[43m,\u001b[49m\n\u001b[1;32m    316\u001b[0m \u001b[43m    \u001b[49m\u001b[43mn_iter\u001b[49m\u001b[38;5;241;43m=\u001b[39;49m\u001b[38;5;241;43m100\u001b[39;49m\u001b[43m,\u001b[49m\n\u001b[1;32m    317\u001b[0m \u001b[43m\u001b[49m\u001b[43m)\u001b[49m\n\u001b[1;32m    318\u001b[0m \u001b[38;5;28mprint\u001b[39m(\u001b[38;5;124m\"\u001b[39m\u001b[38;5;124m=======end========\u001b[39m\u001b[38;5;124m\"\u001b[39m)\n",
      "File \u001b[0;32m/home/pai/lib/python3.9/site-packages/bayes_opt/bayesian_optimization.py:310\u001b[0m, in \u001b[0;36mBayesianOptimization.maximize\u001b[0;34m(self, init_points, n_iter, acquisition_function, acq, kappa, kappa_decay, kappa_decay_delay, xi, **gp_params)\u001b[0m\n\u001b[1;32m    308\u001b[0m     x_probe \u001b[38;5;241m=\u001b[39m \u001b[38;5;28mself\u001b[39m\u001b[38;5;241m.\u001b[39msuggest(util)\n\u001b[1;32m    309\u001b[0m     iteration \u001b[38;5;241m+\u001b[39m\u001b[38;5;241m=\u001b[39m \u001b[38;5;241m1\u001b[39m\n\u001b[0;32m--> 310\u001b[0m \u001b[38;5;28;43mself\u001b[39;49m\u001b[38;5;241;43m.\u001b[39;49m\u001b[43mprobe\u001b[49m\u001b[43m(\u001b[49m\u001b[43mx_probe\u001b[49m\u001b[43m,\u001b[49m\u001b[43m \u001b[49m\u001b[43mlazy\u001b[49m\u001b[38;5;241;43m=\u001b[39;49m\u001b[38;5;28;43;01mFalse\u001b[39;49;00m\u001b[43m)\u001b[49m\n\u001b[1;32m    312\u001b[0m \u001b[38;5;28;01mif\u001b[39;00m \u001b[38;5;28mself\u001b[39m\u001b[38;5;241m.\u001b[39m_bounds_transformer \u001b[38;5;129;01mand\u001b[39;00m iteration \u001b[38;5;241m>\u001b[39m \u001b[38;5;241m0\u001b[39m:\n\u001b[1;32m    313\u001b[0m     \u001b[38;5;66;03m# The bounds transformer should only modify the bounds after\u001b[39;00m\n\u001b[1;32m    314\u001b[0m     \u001b[38;5;66;03m# the init_points points (only for the true iterations)\u001b[39;00m\n\u001b[1;32m    315\u001b[0m     \u001b[38;5;28mself\u001b[39m\u001b[38;5;241m.\u001b[39mset_bounds(\n\u001b[1;32m    316\u001b[0m         \u001b[38;5;28mself\u001b[39m\u001b[38;5;241m.\u001b[39m_bounds_transformer\u001b[38;5;241m.\u001b[39mtransform(\u001b[38;5;28mself\u001b[39m\u001b[38;5;241m.\u001b[39m_space))\n",
      "File \u001b[0;32m/home/pai/lib/python3.9/site-packages/bayes_opt/bayesian_optimization.py:208\u001b[0m, in \u001b[0;36mBayesianOptimization.probe\u001b[0;34m(self, params, lazy)\u001b[0m\n\u001b[1;32m    206\u001b[0m     \u001b[38;5;28mself\u001b[39m\u001b[38;5;241m.\u001b[39m_queue\u001b[38;5;241m.\u001b[39madd(params)\n\u001b[1;32m    207\u001b[0m \u001b[38;5;28;01melse\u001b[39;00m:\n\u001b[0;32m--> 208\u001b[0m     \u001b[38;5;28;43mself\u001b[39;49m\u001b[38;5;241;43m.\u001b[39;49m\u001b[43m_space\u001b[49m\u001b[38;5;241;43m.\u001b[39;49m\u001b[43mprobe\u001b[49m\u001b[43m(\u001b[49m\u001b[43mparams\u001b[49m\u001b[43m)\u001b[49m\n\u001b[1;32m    209\u001b[0m     \u001b[38;5;28mself\u001b[39m\u001b[38;5;241m.\u001b[39mdispatch(Events\u001b[38;5;241m.\u001b[39mOPTIMIZATION_STEP)\n",
      "File \u001b[0;32m/home/pai/lib/python3.9/site-packages/bayes_opt/target_space.py:236\u001b[0m, in \u001b[0;36mTargetSpace.probe\u001b[0;34m(self, params)\u001b[0m\n\u001b[1;32m    234\u001b[0m x \u001b[38;5;241m=\u001b[39m \u001b[38;5;28mself\u001b[39m\u001b[38;5;241m.\u001b[39m_as_array(params)\n\u001b[1;32m    235\u001b[0m params \u001b[38;5;241m=\u001b[39m \u001b[38;5;28mdict\u001b[39m(\u001b[38;5;28mzip\u001b[39m(\u001b[38;5;28mself\u001b[39m\u001b[38;5;241m.\u001b[39m_keys, x))\n\u001b[0;32m--> 236\u001b[0m target \u001b[38;5;241m=\u001b[39m \u001b[38;5;28;43mself\u001b[39;49m\u001b[38;5;241;43m.\u001b[39;49m\u001b[43mtarget_func\u001b[49m\u001b[43m(\u001b[49m\u001b[38;5;241;43m*\u001b[39;49m\u001b[38;5;241;43m*\u001b[39;49m\u001b[43mparams\u001b[49m\u001b[43m)\u001b[49m\n\u001b[1;32m    238\u001b[0m \u001b[38;5;28;01mif\u001b[39;00m \u001b[38;5;28mself\u001b[39m\u001b[38;5;241m.\u001b[39m_constraint \u001b[38;5;129;01mis\u001b[39;00m \u001b[38;5;28;01mNone\u001b[39;00m:\n\u001b[1;32m    239\u001b[0m     \u001b[38;5;28mself\u001b[39m\u001b[38;5;241m.\u001b[39mregister(x, target)\n",
      "Cell \u001b[0;32mIn[1], line 151\u001b[0m, in \u001b[0;36mOpt.opt_function\u001b[0;34m(self, p1, p2, p3)\u001b[0m\n\u001b[1;32m    109\u001b[0m \u001b[38;5;66;03m# rank=cfg.LOCAL_RANK\u001b[39;00m\n\u001b[1;32m    110\u001b[0m \n\u001b[1;32m    111\u001b[0m \u001b[38;5;66;03m# model.train()  # before wrap to DistributedDataParallel to support fixed some parameters\u001b[39;00m\n\u001b[0;32m   (...)\u001b[0m\n\u001b[1;32m    141\u001b[0m \n\u001b[1;32m    142\u001b[0m \u001b[38;5;66;03m# logger.info('**********************Start testing**********************')\u001b[39;00m\n\u001b[1;32m    144\u001b[0m test_set, test_loader, sampler \u001b[38;5;241m=\u001b[39m build_dataloader(\n\u001b[1;32m    145\u001b[0m                                 dataset_cfg\u001b[38;5;241m=\u001b[39mcfg\u001b[38;5;241m.\u001b[39mDATA_CONFIG,\n\u001b[1;32m    146\u001b[0m                                 class_names\u001b[38;5;241m=\u001b[39mcfg\u001b[38;5;241m.\u001b[39mCLASS_NAMES,\n\u001b[1;32m    147\u001b[0m                                 batch_size\u001b[38;5;241m=\u001b[39margs\u001b[38;5;241m.\u001b[39mbatch_size,\n\u001b[1;32m    148\u001b[0m                                 dist\u001b[38;5;241m=\u001b[39mdist_train, workers\u001b[38;5;241m=\u001b[39margs\u001b[38;5;241m.\u001b[39mworkers, logger\u001b[38;5;241m=\u001b[39mlogger, training\u001b[38;5;241m=\u001b[39m\u001b[38;5;28;01mFalse\u001b[39;00m\n\u001b[1;32m    149\u001b[0m                             )\n\u001b[0;32m--> 151\u001b[0m acc1, acc2, ret \u001b[38;5;241m=\u001b[39m \u001b[43meval_utils\u001b[49m\u001b[38;5;241;43m.\u001b[39;49m\u001b[43meval_\u001b[49m\u001b[43m(\u001b[49m\u001b[43mcfg\u001b[49m\u001b[43m,\u001b[49m\u001b[43m \u001b[49m\u001b[43mmodel\u001b[49m\u001b[43m,\u001b[49m\u001b[43m \u001b[49m\u001b[43mtest_loader\u001b[49m\u001b[43m)\u001b[49m\n\u001b[1;32m    152\u001b[0m \u001b[38;5;28mprint\u001b[39m(ret)\n\u001b[1;32m    153\u001b[0m \u001b[38;5;28;01mreturn\u001b[39;00m acc1\n",
      "File \u001b[0;32m/mnt/workspace/sunqiao/OpenPCDet/tools/eval_utils/eval_utils_multinomial_finalv_half.py:31\u001b[0m, in \u001b[0;36meval_\u001b[0;34m(cfg, model, dataloader)\u001b[0m\n\u001b[1;32m     29\u001b[0m load_data_to_gpu(batch_dict)\n\u001b[1;32m     30\u001b[0m \u001b[38;5;28;01mwith\u001b[39;00m torch\u001b[38;5;241m.\u001b[39mno_grad():\n\u001b[0;32m---> 31\u001b[0m     pred_dicts, ret_dict \u001b[38;5;241m=\u001b[39m \u001b[43mmodel\u001b[49m\u001b[43m(\u001b[49m\u001b[43mbatch_dict\u001b[49m\u001b[43m)\u001b[49m\n\u001b[1;32m     32\u001b[0m disp_dict \u001b[38;5;241m=\u001b[39m {}\n\u001b[1;32m     34\u001b[0m annos \u001b[38;5;241m=\u001b[39m dataset\u001b[38;5;241m.\u001b[39mgenerate_prediction_dicts(\n\u001b[1;32m     35\u001b[0m     batch_dict, pred_dicts, class_names, \u001b[38;5;28;01mNone\u001b[39;00m\n\u001b[1;32m     36\u001b[0m )\n",
      "File \u001b[0;32m/home/pai/lib/python3.9/site-packages/torch/nn/modules/module.py:1130\u001b[0m, in \u001b[0;36mModule._call_impl\u001b[0;34m(self, *input, **kwargs)\u001b[0m\n\u001b[1;32m   1126\u001b[0m \u001b[38;5;66;03m# If we don't have any hooks, we want to skip the rest of the logic in\u001b[39;00m\n\u001b[1;32m   1127\u001b[0m \u001b[38;5;66;03m# this function, and just call forward.\u001b[39;00m\n\u001b[1;32m   1128\u001b[0m \u001b[38;5;28;01mif\u001b[39;00m \u001b[38;5;129;01mnot\u001b[39;00m (\u001b[38;5;28mself\u001b[39m\u001b[38;5;241m.\u001b[39m_backward_hooks \u001b[38;5;129;01mor\u001b[39;00m \u001b[38;5;28mself\u001b[39m\u001b[38;5;241m.\u001b[39m_forward_hooks \u001b[38;5;129;01mor\u001b[39;00m \u001b[38;5;28mself\u001b[39m\u001b[38;5;241m.\u001b[39m_forward_pre_hooks \u001b[38;5;129;01mor\u001b[39;00m _global_backward_hooks\n\u001b[1;32m   1129\u001b[0m         \u001b[38;5;129;01mor\u001b[39;00m _global_forward_hooks \u001b[38;5;129;01mor\u001b[39;00m _global_forward_pre_hooks):\n\u001b[0;32m-> 1130\u001b[0m     \u001b[38;5;28;01mreturn\u001b[39;00m \u001b[43mforward_call\u001b[49m\u001b[43m(\u001b[49m\u001b[38;5;241;43m*\u001b[39;49m\u001b[38;5;28;43minput\u001b[39;49m\u001b[43m,\u001b[49m\u001b[43m \u001b[49m\u001b[38;5;241;43m*\u001b[39;49m\u001b[38;5;241;43m*\u001b[39;49m\u001b[43mkwargs\u001b[49m\u001b[43m)\u001b[49m\n\u001b[1;32m   1131\u001b[0m \u001b[38;5;66;03m# Do not call functions when jit is used\u001b[39;00m\n\u001b[1;32m   1132\u001b[0m full_backward_hooks, non_full_backward_hooks \u001b[38;5;241m=\u001b[39m [], []\n",
      "File \u001b[0;32m/mnt/workspace/sunqiao/OpenPCDet/pcdet/models_multinomial_half/detectors/pointpillar.py:423\u001b[0m, in \u001b[0;36mPointPillar.forward\u001b[0;34m(self, batch_dict)\u001b[0m\n\u001b[1;32m    421\u001b[0m     \u001b[38;5;28;01mreturn\u001b[39;00m ret_dict, tb_dict, disp_dict\n\u001b[1;32m    422\u001b[0m \u001b[38;5;28;01melse\u001b[39;00m:\n\u001b[0;32m--> 423\u001b[0m     pred_dicts, recall_dicts \u001b[38;5;241m=\u001b[39m \u001b[38;5;28;43mself\u001b[39;49m\u001b[38;5;241;43m.\u001b[39;49m\u001b[43mpost_processing\u001b[49m\u001b[43m(\u001b[49m\u001b[43mbatch_dict\u001b[49m\u001b[43m)\u001b[49m\n\u001b[1;32m    424\u001b[0m     \u001b[38;5;28;01mreturn\u001b[39;00m pred_dicts, recall_dicts\n",
      "File \u001b[0;32m/mnt/workspace/sunqiao/OpenPCDet/pcdet/models_multinomial_half/detectors/pointpillar.py:285\u001b[0m, in \u001b[0;36mDetector3DTemplate.post_processing\u001b[0;34m(self, batch_dict)\u001b[0m\n\u001b[1;32m    282\u001b[0m     final_labels \u001b[38;5;241m=\u001b[39m label_preds[selected]\n\u001b[1;32m    283\u001b[0m     final_boxes \u001b[38;5;241m=\u001b[39m box_preds[selected]\n\u001b[0;32m--> 285\u001b[0m recall_dict \u001b[38;5;241m=\u001b[39m \u001b[38;5;28;43mself\u001b[39;49m\u001b[38;5;241;43m.\u001b[39;49m\u001b[43mgenerate_recall_record\u001b[49m\u001b[43m(\u001b[49m\n\u001b[1;32m    286\u001b[0m \u001b[43m    \u001b[49m\u001b[43mbox_preds\u001b[49m\u001b[38;5;241;43m=\u001b[39;49m\u001b[43mfinal_boxes\u001b[49m\u001b[43m \u001b[49m\u001b[38;5;28;43;01mif\u001b[39;49;00m\u001b[43m \u001b[49m\u001b[38;5;124;43m'\u001b[39;49m\u001b[38;5;124;43mrois\u001b[39;49m\u001b[38;5;124;43m'\u001b[39;49m\u001b[43m \u001b[49m\u001b[38;5;129;43;01mnot\u001b[39;49;00m\u001b[43m \u001b[49m\u001b[38;5;129;43;01min\u001b[39;49;00m\u001b[43m \u001b[49m\u001b[43mbatch_dict\u001b[49m\u001b[43m \u001b[49m\u001b[38;5;28;43;01melse\u001b[39;49;00m\u001b[43m \u001b[49m\u001b[43msrc_box_preds\u001b[49m\u001b[43m,\u001b[49m\n\u001b[1;32m    287\u001b[0m \u001b[43m    \u001b[49m\u001b[43mrecall_dict\u001b[49m\u001b[38;5;241;43m=\u001b[39;49m\u001b[43mrecall_dict\u001b[49m\u001b[43m,\u001b[49m\u001b[43m \u001b[49m\u001b[43mbatch_index\u001b[49m\u001b[38;5;241;43m=\u001b[39;49m\u001b[43mindex\u001b[49m\u001b[43m,\u001b[49m\u001b[43m \u001b[49m\u001b[43mdata_dict\u001b[49m\u001b[38;5;241;43m=\u001b[39;49m\u001b[43mbatch_dict\u001b[49m\u001b[43m,\u001b[49m\n\u001b[1;32m    288\u001b[0m \u001b[43m    \u001b[49m\u001b[43mthresh_list\u001b[49m\u001b[38;5;241;43m=\u001b[39;49m\u001b[43mpost_process_cfg\u001b[49m\u001b[38;5;241;43m.\u001b[39;49m\u001b[43mRECALL_THRESH_LIST\u001b[49m\n\u001b[1;32m    289\u001b[0m \u001b[43m\u001b[49m\u001b[43m)\u001b[49m\n\u001b[1;32m    291\u001b[0m record_dict \u001b[38;5;241m=\u001b[39m {\n\u001b[1;32m    292\u001b[0m     \u001b[38;5;124m'\u001b[39m\u001b[38;5;124mpred_boxes\u001b[39m\u001b[38;5;124m'\u001b[39m: final_boxes,\n\u001b[1;32m    293\u001b[0m     \u001b[38;5;124m'\u001b[39m\u001b[38;5;124mpred_scores\u001b[39m\u001b[38;5;124m'\u001b[39m: final_scores,\n\u001b[1;32m    294\u001b[0m     \u001b[38;5;124m'\u001b[39m\u001b[38;5;124mpred_labels\u001b[39m\u001b[38;5;124m'\u001b[39m: final_labels\n\u001b[1;32m    295\u001b[0m }\n\u001b[1;32m    296\u001b[0m pred_dicts\u001b[38;5;241m.\u001b[39mappend(record_dict)\n",
      "File \u001b[0;32m/mnt/workspace/sunqiao/OpenPCDet/pcdet/models_multinomial_half/detectors/pointpillar.py:333\u001b[0m, in \u001b[0;36mDetector3DTemplate.generate_recall_record\u001b[0;34m(box_preds, recall_dict, batch_index, data_dict, thresh_list)\u001b[0m\n\u001b[1;32m    331\u001b[0m     recall_dict[\u001b[38;5;124m'\u001b[39m\u001b[38;5;124mrcnn_\u001b[39m\u001b[38;5;132;01m%s\u001b[39;00m\u001b[38;5;124m'\u001b[39m \u001b[38;5;241m%\u001b[39m \u001b[38;5;28mstr\u001b[39m(cur_thresh)] \u001b[38;5;241m+\u001b[39m\u001b[38;5;241m=\u001b[39m \u001b[38;5;241m0\u001b[39m\n\u001b[1;32m    332\u001b[0m \u001b[38;5;28;01melse\u001b[39;00m:\n\u001b[0;32m--> 333\u001b[0m     rcnn_recalled \u001b[38;5;241m=\u001b[39m \u001b[43m(\u001b[49m\u001b[43miou3d_rcnn\u001b[49m\u001b[38;5;241;43m.\u001b[39;49m\u001b[43mmax\u001b[49m\u001b[43m(\u001b[49m\u001b[43mdim\u001b[49m\u001b[38;5;241;43m=\u001b[39;49m\u001b[38;5;241;43m0\u001b[39;49m\u001b[43m)\u001b[49m\u001b[43m[\u001b[49m\u001b[38;5;241;43m0\u001b[39;49m\u001b[43m]\u001b[49m\u001b[43m \u001b[49m\u001b[38;5;241;43m>\u001b[39;49m\u001b[43m \u001b[49m\u001b[43mcur_thresh\u001b[49m\u001b[43m)\u001b[49m\u001b[38;5;241;43m.\u001b[39;49m\u001b[43msum\u001b[49m\u001b[43m(\u001b[49m\u001b[43m)\u001b[49m\u001b[38;5;241m.\u001b[39mitem()\n\u001b[1;32m    334\u001b[0m     recall_dict[\u001b[38;5;124m'\u001b[39m\u001b[38;5;124mrcnn_\u001b[39m\u001b[38;5;132;01m%s\u001b[39;00m\u001b[38;5;124m'\u001b[39m \u001b[38;5;241m%\u001b[39m \u001b[38;5;28mstr\u001b[39m(cur_thresh)] \u001b[38;5;241m+\u001b[39m\u001b[38;5;241m=\u001b[39m rcnn_recalled\n\u001b[1;32m    335\u001b[0m \u001b[38;5;28;01mif\u001b[39;00m rois \u001b[38;5;129;01mis\u001b[39;00m \u001b[38;5;129;01mnot\u001b[39;00m \u001b[38;5;28;01mNone\u001b[39;00m:\n",
      "\u001b[0;31mKeyboardInterrupt\u001b[0m: "
     ]
    }
   ],
   "source": [
    "import tqdm\n",
    "from torch.nn.utils import clip_grad_norm_\n",
    "from pcdet.models_multinomial_half.detectors.pointpillar import PointPillar\n",
    "\n",
    "import argparse\n",
    "import datetime\n",
    "import glob\n",
    "import os\n",
    "from pathlib import Path\n",
    "from test import repeat_eval_ckpt, eval_single_ckpt\n",
    "from noise import add_noise_to_weights\n",
    "import numba\n",
    "import logging\n",
    "import time\n",
    "\n",
    "from bayes_opt import BayesianOptimization\n",
    "from bayes_opt.logger import JSONLogger\n",
    "from bayes_opt.event import Events\n",
    "\n",
    "import torch\n",
    "import torch.distributed as dist\n",
    "import torch.nn as nn\n",
    "from tensorboardX import SummaryWriter\n",
    "\n",
    "from pcdet.config import cfg, cfg_from_list, cfg_from_yaml_file, log_config_to_file\n",
    "from pcdet.datasets import build_dataloader\n",
    "from pcdet.models_multinomial_half import build_network, model_fn_decorator\n",
    "from pcdet.utils import common_utils\n",
    "from train_utils.optimization import build_optimizer, build_scheduler\n",
    "# from train_utils.train_utils import train_model\n",
    "# from eval_utils import eval_utils_multinomial\n",
    "import numpy as np\n",
    "\n",
    "import matplotlib.pyplot as plt\n",
    "import matplotlib\n",
    "from eval_utils import eval_utils_multinomial_finalv_half as eval_utils\n",
    "import warnings\n",
    "warnings.filterwarnings(\"ignore\")\n",
    "\n",
    "\n",
    "\n",
    "def load_data_to_gpu(batch_dict):\n",
    "    for key, val in batch_dict.items():\n",
    "        if not isinstance(val, np.ndarray):\n",
    "            continue\n",
    "        elif key in ['frame_id', 'metadata', 'calib']:\n",
    "            continue\n",
    "        elif key in ['images']:\n",
    "            batch_dict[key] = image_to_tensor(val).float().cuda().contiguous()\n",
    "        elif key in ['image_shape']:\n",
    "            batch_dict[key] = torch.from_numpy(val).int().cuda()\n",
    "        else:\n",
    "            batch_dict[key] = torch.from_numpy(val).float().cuda()\n",
    "\n",
    "\n",
    "def parse_config():\n",
    "    parser = argparse.ArgumentParser(description='arg parser')\n",
    "    parser.add_argument('--cfg_file', type=str, default='./cfgs/kitti_models/pointpillar_bayes.yaml', help='specify the config for training')\n",
    "    parser.add_argument('--batch_size', type=int, default=4, required=False, help='batch size for training')\n",
    "    parser.add_argument('--workers', type=int, default=32, help='number of workers for dataloader')\n",
    "    parser.add_argument('--extra_tag', type=str, default='default', help='extra tag for this experiment')\n",
    "    parser.add_argument('--pretrained_model', type=str, default=True, help='pretrained_model')\n",
    "    parser.add_argument('--launcher', choices=['none', 'pytorch', 'slurm'], default='none')\n",
    "    parser.add_argument('--tcp_port', type=int, default=18888, help='tcp port for distrbuted training')\n",
    "    parser.add_argument('--sync_bn', action='store_true', default=False, help='whether to use sync bn')\n",
    "    parser.add_argument('--fix_random_seed', action='store_true', default=True, help='')\n",
    "    parser.add_argument('--ckpt_save_interval', type=int, default=80, help='number of training epochs')\n",
    "    parser.add_argument('--local_rank', type=int, default=0, help='local rank for distributed training')\n",
    "    parser.add_argument('--max_ckpt_save_num', type=int, default=81, help='max number of saved checkpoint')\n",
    "    parser.add_argument('--merge_all_iters_to_one_epoch', action='store_true', default=False, help='')\n",
    "    parser.add_argument('--set', dest='set_cfgs', default=None, nargs=argparse.REMAINDER, help='set extra config keys if needed')\n",
    "    parser.add_argument('--max_waiting_mins', type=int, default=0, help='max waiting minutes')\n",
    "    parser.add_argument('--start_epoch', type=int, default=0, help='')\n",
    "    parser.add_argument('--save_to_file', action='store_true', default=False, help='')\n",
    "    \n",
    "    \n",
    "    parser.add_argument('--epochs', type=int, default=800, required=False, help='number of epochs to train for')\n",
    "    parser.add_argument('--ckpt', type=str, default='checkpoint_epoch_33_multinomial.pth', help='checkpoint to start from')\n",
    "\n",
    "    args = parser.parse_known_args()[0]\n",
    "\n",
    "    cfg_from_yaml_file(args.cfg_file, cfg)\n",
    "    cfg.TAG = Path(args.cfg_file).stem\n",
    "    cfg.EXP_GROUP_PATH = '/'.join(args.cfg_file.split('/')[1: -1])  # remove 'cfgs' and 'xxxx.yaml'\n",
    "\n",
    "    if args.set_cfgs is not None:\n",
    "        cfg_from_list(args.set_cfgs, cfg)\n",
    "\n",
    "    return args, cfg\n",
    "\n",
    "\n",
    "class Opt():\n",
    "    def __init__(self, model, cfg, train_loader, test_loader):\n",
    "        # self.sigma = sigma\n",
    "        self.model = model\n",
    "        self.cfg = cfg\n",
    "        # self.train_set = train_set\n",
    "        self.train_loader = train_loader\n",
    "        # self.train_sampler = train_sampler\n",
    "        # self.test_set = test_set\n",
    "        self.test_loader = test_loader\n",
    "        # self.sampler = sampler\n",
    "        \n",
    "    def opt_function(self, p1, p2, p3):\n",
    "        model = self.model\n",
    "        cfg = self.cfg\n",
    "        optim_cfg=cfg.OPTIMIZATION\n",
    "        total_epochs=args.epochs\n",
    "        # rank=cfg.LOCAL_RANK\n",
    "        \n",
    "        # model.train()  # before wrap to DistributedDataParallel to support fixed some parameters\n",
    "        # for m in model.modules():\n",
    "        #     if isinstance(m, nn.BatchNorm2d):\n",
    "        #         m.eval()\n",
    "\n",
    "#         total_it_each_epoch = len(train_loader)\n",
    "#         for cur_epoch in range(total_epochs):\n",
    "#             dataloader_iter = iter(train_loader)\n",
    "#             loss_list = []\n",
    "\n",
    "#             for cur_it in range(total_it_each_epoch):\n",
    "#                 batch = next(dataloader_iter)\n",
    "#                 model.train()\n",
    "#                 optimizer.zero_grad()\n",
    "\n",
    "#                 load_data_to_gpu(batch)\n",
    "#                 ret_dict, tb_dict, disp_dict = model(batch)\n",
    "\n",
    "#                 loss = ret_dict['loss'].mean()\n",
    "\n",
    "#                 loss_list.append(loss)\n",
    "#                 loss_avg = sum(loss_list) / len(loss_list)\n",
    "\n",
    "#                 loss.backward()\n",
    "#                 # clip_grad_norm_(model.parameters(), optim_cfg.GRAD_NORM_CLIP)\n",
    "\n",
    "#                 optimizer.step()\n",
    "#                 # lr_scheduler.step()\n",
    "\n",
    "#                 print('cur_epoch: {}/{}, cur_it: {}/{}, lr: {:.6}, loss: {:.6}'.format(cur_epoch+1, total_epochs, cur_it+1, total_it_each_epoch, optim_cfg.LR, loss_avg))\n",
    "\n",
    "        # logger.info('**********************Start testing**********************')\n",
    "        \n",
    "        test_set, test_loader, sampler = build_dataloader(\n",
    "                                        dataset_cfg=cfg.DATA_CONFIG,\n",
    "                                        class_names=cfg.CLASS_NAMES,\n",
    "                                        batch_size=args.batch_size,\n",
    "                                        dist=dist_train, workers=args.workers, logger=logger, training=False\n",
    "                                    )\n",
    "\n",
    "        acc1, acc2, ret = eval_utils.eval_(cfg, model, test_loader)\n",
    "        print(ret)\n",
    "        return acc1  #+acc2+acc3\n",
    "\n",
    "\n",
    "if __name__ == '__main__':\n",
    "    torch.cuda.set_device(0)\n",
    "\n",
    "    args, cfg = parse_config()\n",
    "    dist_train = False\n",
    "    total_gpus = 1\n",
    "    os.environ[\"CUDA_DEVICE_ORDER\"] = \"PCI_BUS_ID\"\n",
    "    os.system('nvidia-smi -q -d Memory |grep -A4 GPU|grep Free >tmp')\n",
    "    memory_gpu = [int(x.split()[2]) for x in open('tmp', 'r').readlines()]\n",
    "    print('Using GPU:' + str(np.argmax(memory_gpu)))\n",
    "    os.environ[\"CUDA_VISIBLE_DEVICES\"] = str(np.argmax(memory_gpu))\n",
    "    os.system('rm tmp')\n",
    "\n",
    "\n",
    "    if args.batch_size is None:\n",
    "        args.batch_size = cfg.OPTIMIZATION.BATCH_SIZE_PER_GPU\n",
    "    else:\n",
    "        assert args.batch_size % total_gpus == 0, 'Batch size should match the number of gpus'\n",
    "        args.batch_size = args.batch_size // total_gpus\n",
    "\n",
    "    args.epochs = cfg.OPTIMIZATION.NUM_EPOCHS if args.epochs is None else args.epochs\n",
    "    \n",
    "    common_utils.set_random_seed(666)\n",
    "    save_path = './save_path/logger/'#/bayes/pointpillar/'+time.strftime('%m%d-%H%M',time.localtime(time.time()))+'/'\n",
    "\n",
    "    logger = common_utils.create_logger(save_path+'log.txt', rank=cfg.LOCAL_RANK)\n",
    "    \n",
    "    print(\"=============\")\n",
    "    p1 = 0.23\n",
    "    p2 = 0.77\n",
    "    p3 = 0.68\n",
    "    print(p1, p2, p3)\n",
    "    print(\"=============\")\n",
    "    \n",
    "#     # ----------------------- training---------------------------\n",
    "    train_set, train_loader, train_sampler = build_dataloader(\n",
    "        dataset_cfg=cfg.DATA_CONFIG,\n",
    "        class_names=cfg.CLASS_NAMES,\n",
    "        batch_size=args.batch_size,\n",
    "        dist=dist_train, workers=args.workers,\n",
    "        logger=logger,\n",
    "        training=True,\n",
    "        merge_all_iters_to_one_epoch=args.merge_all_iters_to_one_epoch,\n",
    "        total_epochs=args.epochs\n",
    "    )\n",
    "\n",
    "    model = PointPillar(\n",
    "        model_cfg=cfg.MODEL, num_class=len(cfg.CLASS_NAMES), p1=p1, p2=p2, p3=p3, dataset=train_set\n",
    "    )\n",
    "    \n",
    "    model.load_state_dict(torch.load(args.ckpt, map_location=torch.device('cuda:0'))['model_state'], strict=False)#['model_state']\n",
    "#     # torch.load('./checkpoint_epoch_33_multinomial.pth')['model_state']\n",
    "    # torch.load(‘./checkpoint_epoch_80_multinomial.pth’, map_location=torch.device(‘cuda:0’))[‘model_state’]\n",
    "\n",
    "\n",
    "    model.cuda()\n",
    "\n",
    "    optim_cfg = cfg.OPTIMIZATION\n",
    "    optim_cfg.LR = 0.00001\n",
    "    optimizer = torch.optim.Adam(model.parameters(), lr=optim_cfg.LR, weight_decay=optim_cfg.WEIGHT_DECAY)\n",
    "\n",
    "    start_epoch = it = 0\n",
    "    last_epoch = -1\n",
    "\n",
    "    model.train()  # before wrap to DistributedDataParallel to support fixed some parameters\n",
    "    for m in model.modules():\n",
    "        if isinstance(m, nn.BatchNorm2d):\n",
    "            m.eval()\n",
    "\n",
    "    lr_scheduler = torch.optim.lr_scheduler.CosineAnnealingLR(optimizer, 20, eta_min=0, last_epoch=-1)\n",
    "    \n",
    "\n",
    "\n",
    "#     logger.info('**********************Start training %s/%s(%s)**********************'\n",
    "#                 % (cfg.EXP_GROUP_PATH, cfg.TAG, args.extra_tag))\n",
    "    \n",
    "#     optim_cfg=cfg.OPTIMIZATION\n",
    "#     total_epochs=args.epochs\n",
    "#     rank=cfg.LOCAL_RANK\n",
    "    \n",
    "#     with tqdm.trange(start_epoch, total_epochs, desc='epochs', dynamic_ncols=True, leave=(rank==0)) as tbar:\n",
    "#         total_it_each_epoch = len(train_loader)\n",
    "#         for cur_epoch in tbar:\n",
    "#             dataloader_iter = iter(train_loader)\n",
    "#             loss_list = []\n",
    "\n",
    "#             for cur_it in range(total_it_each_epoch):\n",
    "#                 batch = next(dataloader_iter)\n",
    "#                 model.train()\n",
    "#                 optimizer.zero_grad()\n",
    "                \n",
    "#                 load_data_to_gpu(batch)\n",
    "#                 ret_dict, tb_dict, disp_dict = model(batch)\n",
    "\n",
    "#                 loss = ret_dict['loss'].mean()\n",
    "        \n",
    "#                 loss_list.append(loss)\n",
    "#                 loss_avg = sum(loss_list) / len(loss_list)\n",
    "\n",
    "#                 loss.backward()\n",
    "#                 # clip_grad_norm_(model.parameters(), optim_cfg.GRAD_NORM_CLIP)\n",
    "                \n",
    "#                 optimizer.step()\n",
    "#                 # lr_scheduler.step()\n",
    "\n",
    "#                 print('cur_epoch: {}/{}, cur_it: {}/{}, lr: {:.6}, loss: {:.6}'.format(cur_epoch+1, total_epochs, cur_it+1, total_it_each_epoch, optim_cfg.LR, loss_avg))\n",
    "                \n",
    "#             logger.info('**********************Start testing**********************')\n",
    "#             test_set, test_loader, sampler = build_dataloader(\n",
    "#                                             dataset_cfg=cfg.DATA_CONFIG,\n",
    "#                                             class_names=cfg.CLASS_NAMES,\n",
    "#                                             batch_size=args.batch_size,\n",
    "#                                             dist=dist_train, workers=args.workers, logger=logger, training=False\n",
    "#                                         )\n",
    "\n",
    "#             acc1, acc2, ret = eval_utils.eval_(cfg, model, test_loader)\n",
    "#             print(acc1, acc2, ret)\n",
    "\n",
    "#             filename = './save_path/0722/ckpt_epoch{}.pth'.format(cur_epoch+1)\n",
    "#             last_filename = filename\n",
    "#             torch.save(model.state_dict(), filename)\n",
    "        \n",
    "        \n",
    "\n",
    "#     logger.info('**********************Start testing %s/%s(%s)**********************'\n",
    "#                 % (cfg.EXP_GROUP_PATH, cfg.TAG, args.extra_tag))\n",
    "    test_set, test_loader, sampler = build_dataloader(\n",
    "                                    dataset_cfg=cfg.DATA_CONFIG,\n",
    "                                    class_names=cfg.CLASS_NAMES,\n",
    "                                    batch_size=args.batch_size,\n",
    "                                    dist=dist_train, workers=args.workers, logger=logger, training=False\n",
    "                                )\n",
    "\n",
    "#     acc1, acc2, ret = eval_utils.eval_(cfg, model, test_loader)\n",
    "#     print(acc1, ac2, ret)\n",
    "\n",
    "    logger.info('----------------Bayes Optimization----------------')\n",
    "    # Bounded region of parameter space\n",
    "    pbounds = {'p1': (0.1, 0.9), 'p2': (0.1, 0.9), 'p3': (0.1, 0.9)}\n",
    "    \n",
    "    opt_function = Opt(model, cfg, train_loader, test_loader).opt_function\n",
    "    \n",
    "    optimizer = BayesianOptimization(\n",
    "        f=opt_function,\n",
    "        pbounds=pbounds,\n",
    "        verbose=2,  # verbose = 1 prints only when a maximum is observed, verbose = 0 is silent\n",
    "        random_state=1,\n",
    "    )\n",
    "    optimizer.probe(\n",
    "        params={'p1': 0.23, 'p2': 0.77, 'p3': 0.68},\n",
    "        lazy=True,\n",
    "    )\n",
    "\n",
    "    # logger_bayes = JSONLogger(path=save_path+\"logs2.json\")\n",
    "    # optimizer.subscribe(Events.OPTIMIZATION_STEP, logger_bayes)\n",
    "    \n",
    "    \n",
    "    n = 0\n",
    "    optimizer.maximize(\n",
    "        init_points=10,\n",
    "        n_iter=100,\n",
    "    )\n",
    "    print(\"=======end========\")\n",
    "\n",
    "\n",
    "\n"
   ]
  },
  {
   "cell_type": "code",
   "execution_count": null,
   "id": "f32d29d3-2a64-49d0-ad29-355969cb6231",
   "metadata": {},
   "outputs": [],
   "source": []
  }
 ],
 "metadata": {
  "kernelspec": {
   "display_name": "Python 3 (ipykernel)",
   "language": "python",
   "name": "python3"
  },
  "language_info": {
   "codemirror_mode": {
    "name": "ipython",
    "version": 3
   },
   "file_extension": ".py",
   "mimetype": "text/x-python",
   "name": "python",
   "nbconvert_exporter": "python",
   "pygments_lexer": "ipython3",
   "version": "3.9.15"
  }
 },
 "nbformat": 4,
 "nbformat_minor": 5
}
