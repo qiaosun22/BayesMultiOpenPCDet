{
 "cells": [
  {
   "cell_type": "code",
   "execution_count": 1,
   "id": "0d7840fe-32e3-4dd4-9188-9b3b22cc39c2",
   "metadata": {
    "execution": {
     "iopub.execute_input": "2023-07-04T01:32:48.411753Z",
     "iopub.status.busy": "2023-07-04T01:32:48.411602Z",
     "iopub.status.idle": "2023-07-04T01:32:48.419699Z",
     "shell.execute_reply": "2023-07-04T01:32:48.419318Z",
     "shell.execute_reply.started": "2023-07-04T01:32:48.411740Z"
    },
    "tags": []
   },
   "outputs": [
    {
     "data": {
      "text/plain": [
       "'/mnt/workspace/sunqiao/OpenPCDet/tools/MLE'"
      ]
     },
     "execution_count": 1,
     "metadata": {},
     "output_type": "execute_result"
    }
   ],
   "source": [
    "pwd"
   ]
  },
  {
   "cell_type": "markdown",
   "id": "68da7da9-735a-4ad7-bf38-08802f48fc8e",
   "metadata": {},
   "source": [
    "# 读取数据"
   ]
  },
  {
   "cell_type": "code",
   "execution_count": 2,
   "id": "06a433de-1e3d-4580-b35c-33be860cd2e6",
   "metadata": {
    "ExecutionIndicator": {
     "show": true
    },
    "execution": {
     "iopub.execute_input": "2023-07-04T01:32:48.420709Z",
     "iopub.status.busy": "2023-07-04T01:32:48.420379Z",
     "iopub.status.idle": "2023-07-04T01:32:48.807038Z",
     "shell.execute_reply": "2023-07-04T01:32:48.805649Z",
     "shell.execute_reply.started": "2023-07-04T01:32:48.420696Z"
    },
    "tags": []
   },
   "outputs": [],
   "source": [
    "import pandas as pd\n",
    "import numpy as np\n",
    "# data = pd.read_excel('I-V_data_30min_AAO_5min second etch_15min_Pb_ED_3h_180C_MAI_200nm_Ag_memory_6V.xlsx')\n",
    "\n",
    "\n",
    "\n",
    "    # df = pd.read_excel('I-V_data_25min_AAO_10min_Pb_ED_1h_180C_MAI_memory_8V_2.xlsx') #0.55\n",
    "    # df = pd.read_excel('I-V_data_30min_AAO_5min second etch_15min_Pb_ED_3h_180C_MAI_200nm_Ag_memory_6V.xlsx') #0.33\n",
    "    # df = pd.read_excel('I-V_data_25min_AAO_10min_Pb_ED_1h_180C_MAI_memory_8V.xlsx') #0.14\n",
    "    \n",
    "    \n",
    "# data = pd.read_excel('../hardware_noise/I-V_data_25min_AAO_10min_Pb_ED_1h_180C_MAI_memory_8V.xlsx') #0.14\n",
    "# data = pd.read_excel('../hardware_noise/I-V_data_30min_AAO_5min second etch_15min_Pb_ED_3h_180C_MAI_200nm_Ag_memory_6V.xlsx') #0.33\n",
    "data = pd.read_excel('../hardware_noise/I-V_data_25min_AAO_10min_Pb_ED_1h_180C_MAI_memory_8V_2.xlsx', engine='openpyxl') #0.55\n"
   ]
  },
  {
   "cell_type": "code",
   "execution_count": 3,
   "id": "9b22f20b-7d2d-4861-912c-77c3764fd826",
   "metadata": {
    "ExecutionIndicator": {
     "show": true
    },
    "execution": {
     "iopub.execute_input": "2023-07-04T01:32:48.807774Z",
     "iopub.status.busy": "2023-07-04T01:32:48.807587Z",
     "iopub.status.idle": "2023-07-04T01:32:48.811641Z",
     "shell.execute_reply": "2023-07-04T01:32:48.810815Z",
     "shell.execute_reply.started": "2023-07-04T01:32:48.807760Z"
    },
    "tags": []
   },
   "outputs": [
    {
     "data": {
      "text/plain": [
       "Index(['voltage', 'current_cycle1', 'current_cycle2', 'current_cycle3',\n",
       "       'current_cycle4', 'current_cycle5', 'current_cycle6', 'current_cycle7',\n",
       "       'current_cycle8', 'current_cycle9', 'current_cycle10',\n",
       "       'current_cycle11'],\n",
       "      dtype='object')"
      ]
     },
     "execution_count": 3,
     "metadata": {},
     "output_type": "execute_result"
    }
   ],
   "source": [
    "data.columns"
   ]
  },
  {
   "cell_type": "code",
   "execution_count": 4,
   "id": "439835c0-9afd-44bd-9fe8-cd4c1153fd75",
   "metadata": {
    "execution": {
     "iopub.execute_input": "2023-07-04T01:32:48.813203Z",
     "iopub.status.busy": "2023-07-04T01:32:48.812810Z",
     "iopub.status.idle": "2023-07-04T01:32:48.827716Z",
     "shell.execute_reply": "2023-07-04T01:32:48.827242Z",
     "shell.execute_reply.started": "2023-07-04T01:32:48.813189Z"
    },
    "tags": []
   },
   "outputs": [
    {
     "data": {
      "text/html": [
       "<div>\n",
       "<style scoped>\n",
       "    .dataframe tbody tr th:only-of-type {\n",
       "        vertical-align: middle;\n",
       "    }\n",
       "\n",
       "    .dataframe tbody tr th {\n",
       "        vertical-align: top;\n",
       "    }\n",
       "\n",
       "    .dataframe thead th {\n",
       "        text-align: right;\n",
       "    }\n",
       "</style>\n",
       "<table border=\"1\" class=\"dataframe\">\n",
       "  <thead>\n",
       "    <tr style=\"text-align: right;\">\n",
       "      <th></th>\n",
       "      <th>voltage</th>\n",
       "      <th>current_cycle1</th>\n",
       "      <th>current_cycle2</th>\n",
       "      <th>current_cycle3</th>\n",
       "      <th>current_cycle4</th>\n",
       "      <th>current_cycle5</th>\n",
       "      <th>current_cycle6</th>\n",
       "      <th>current_cycle7</th>\n",
       "      <th>current_cycle8</th>\n",
       "      <th>current_cycle9</th>\n",
       "      <th>current_cycle10</th>\n",
       "      <th>current_cycle11</th>\n",
       "    </tr>\n",
       "  </thead>\n",
       "  <tbody>\n",
       "    <tr>\n",
       "      <th>0</th>\n",
       "      <td>0.0</td>\n",
       "      <td>8.199700e-10</td>\n",
       "      <td>1.862643e-07</td>\n",
       "      <td>1.019886e-07</td>\n",
       "      <td>3.165176e-07</td>\n",
       "      <td>1.938595e-07</td>\n",
       "      <td>1.650216e-08</td>\n",
       "      <td>2.397635e-07</td>\n",
       "      <td>4.993587e-07</td>\n",
       "      <td>3.241142e-07</td>\n",
       "      <td>4.551608e-07</td>\n",
       "      <td>7.097827e-08</td>\n",
       "    </tr>\n",
       "    <tr>\n",
       "      <th>1</th>\n",
       "      <td>0.1</td>\n",
       "      <td>4.091893e-08</td>\n",
       "      <td>4.159178e-05</td>\n",
       "      <td>1.908209e-05</td>\n",
       "      <td>6.240630e-05</td>\n",
       "      <td>5.789698e-05</td>\n",
       "      <td>7.073933e-08</td>\n",
       "      <td>4.492738e-05</td>\n",
       "      <td>7.239819e-05</td>\n",
       "      <td>5.942373e-05</td>\n",
       "      <td>4.860291e-05</td>\n",
       "      <td>2.018215e-05</td>\n",
       "    </tr>\n",
       "    <tr>\n",
       "      <th>2</th>\n",
       "      <td>0.2</td>\n",
       "      <td>2.564771e-05</td>\n",
       "      <td>2.537938e-04</td>\n",
       "      <td>3.847867e-05</td>\n",
       "      <td>1.415855e-04</td>\n",
       "      <td>8.550060e-06</td>\n",
       "      <td>3.678666e-05</td>\n",
       "      <td>8.942200e-05</td>\n",
       "      <td>1.310099e-04</td>\n",
       "      <td>1.019129e-04</td>\n",
       "      <td>8.690113e-05</td>\n",
       "      <td>2.438329e-04</td>\n",
       "    </tr>\n",
       "    <tr>\n",
       "      <th>3</th>\n",
       "      <td>0.3</td>\n",
       "      <td>5.614296e-04</td>\n",
       "      <td>3.618512e-04</td>\n",
       "      <td>4.274177e-04</td>\n",
       "      <td>3.241998e-04</td>\n",
       "      <td>4.836029e-05</td>\n",
       "      <td>6.713507e-04</td>\n",
       "      <td>8.829214e-04</td>\n",
       "      <td>2.166431e-04</td>\n",
       "      <td>3.379858e-04</td>\n",
       "      <td>5.497976e-04</td>\n",
       "      <td>4.440320e-04</td>\n",
       "    </tr>\n",
       "    <tr>\n",
       "      <th>4</th>\n",
       "      <td>0.4</td>\n",
       "      <td>1.206093e-03</td>\n",
       "      <td>1.861174e-03</td>\n",
       "      <td>2.171101e-03</td>\n",
       "      <td>1.268287e-03</td>\n",
       "      <td>1.116826e-03</td>\n",
       "      <td>8.702506e-04</td>\n",
       "      <td>1.726659e-03</td>\n",
       "      <td>1.265513e-03</td>\n",
       "      <td>1.591321e-03</td>\n",
       "      <td>8.661542e-04</td>\n",
       "      <td>1.673192e-03</td>\n",
       "    </tr>\n",
       "    <tr>\n",
       "      <th>...</th>\n",
       "      <td>...</td>\n",
       "      <td>...</td>\n",
       "      <td>...</td>\n",
       "      <td>...</td>\n",
       "      <td>...</td>\n",
       "      <td>...</td>\n",
       "      <td>...</td>\n",
       "      <td>...</td>\n",
       "      <td>...</td>\n",
       "      <td>...</td>\n",
       "      <td>...</td>\n",
       "      <td>...</td>\n",
       "    </tr>\n",
       "    <tr>\n",
       "      <th>319</th>\n",
       "      <td>-0.4</td>\n",
       "      <td>3.955089e-04</td>\n",
       "      <td>3.030502e-04</td>\n",
       "      <td>3.724471e-04</td>\n",
       "      <td>4.463274e-04</td>\n",
       "      <td>2.275040e-04</td>\n",
       "      <td>4.780962e-04</td>\n",
       "      <td>3.054267e-04</td>\n",
       "      <td>4.793536e-04</td>\n",
       "      <td>3.325140e-04</td>\n",
       "      <td>6.270512e-04</td>\n",
       "      <td>NaN</td>\n",
       "    </tr>\n",
       "    <tr>\n",
       "      <th>320</th>\n",
       "      <td>-0.3</td>\n",
       "      <td>4.358107e-04</td>\n",
       "      <td>2.144209e-04</td>\n",
       "      <td>3.464018e-04</td>\n",
       "      <td>2.839921e-04</td>\n",
       "      <td>5.559864e-05</td>\n",
       "      <td>2.854121e-04</td>\n",
       "      <td>1.299074e-04</td>\n",
       "      <td>5.711678e-04</td>\n",
       "      <td>4.866660e-04</td>\n",
       "      <td>4.322909e-04</td>\n",
       "      <td>NaN</td>\n",
       "    </tr>\n",
       "    <tr>\n",
       "      <th>321</th>\n",
       "      <td>-0.2</td>\n",
       "      <td>3.007318e-04</td>\n",
       "      <td>1.198550e-04</td>\n",
       "      <td>2.635560e-04</td>\n",
       "      <td>1.813183e-04</td>\n",
       "      <td>3.232654e-05</td>\n",
       "      <td>1.583603e-04</td>\n",
       "      <td>2.039209e-04</td>\n",
       "      <td>2.993979e-04</td>\n",
       "      <td>2.850133e-04</td>\n",
       "      <td>2.641919e-04</td>\n",
       "      <td>NaN</td>\n",
       "    </tr>\n",
       "    <tr>\n",
       "      <th>322</th>\n",
       "      <td>-0.1</td>\n",
       "      <td>1.170390e-04</td>\n",
       "      <td>5.701051e-05</td>\n",
       "      <td>1.282861e-04</td>\n",
       "      <td>7.494765e-05</td>\n",
       "      <td>1.220139e-05</td>\n",
       "      <td>7.440791e-05</td>\n",
       "      <td>8.959109e-05</td>\n",
       "      <td>1.116415e-04</td>\n",
       "      <td>1.084824e-04</td>\n",
       "      <td>1.155947e-04</td>\n",
       "      <td>NaN</td>\n",
       "    </tr>\n",
       "    <tr>\n",
       "      <th>323</th>\n",
       "      <td>0.0</td>\n",
       "      <td>1.678916e-07</td>\n",
       "      <td>1.145580e-07</td>\n",
       "      <td>2.183245e-07</td>\n",
       "      <td>1.627350e-07</td>\n",
       "      <td>3.715753e-08</td>\n",
       "      <td>1.914150e-07</td>\n",
       "      <td>2.118754e-07</td>\n",
       "      <td>2.245972e-07</td>\n",
       "      <td>2.347799e-07</td>\n",
       "      <td>2.216733e-07</td>\n",
       "      <td>NaN</td>\n",
       "    </tr>\n",
       "  </tbody>\n",
       "</table>\n",
       "<p>324 rows × 12 columns</p>\n",
       "</div>"
      ],
      "text/plain": [
       "     voltage  current_cycle1  current_cycle2  current_cycle3  current_cycle4   \n",
       "0        0.0    8.199700e-10    1.862643e-07    1.019886e-07    3.165176e-07  \\\n",
       "1        0.1    4.091893e-08    4.159178e-05    1.908209e-05    6.240630e-05   \n",
       "2        0.2    2.564771e-05    2.537938e-04    3.847867e-05    1.415855e-04   \n",
       "3        0.3    5.614296e-04    3.618512e-04    4.274177e-04    3.241998e-04   \n",
       "4        0.4    1.206093e-03    1.861174e-03    2.171101e-03    1.268287e-03   \n",
       "..       ...             ...             ...             ...             ...   \n",
       "319     -0.4    3.955089e-04    3.030502e-04    3.724471e-04    4.463274e-04   \n",
       "320     -0.3    4.358107e-04    2.144209e-04    3.464018e-04    2.839921e-04   \n",
       "321     -0.2    3.007318e-04    1.198550e-04    2.635560e-04    1.813183e-04   \n",
       "322     -0.1    1.170390e-04    5.701051e-05    1.282861e-04    7.494765e-05   \n",
       "323      0.0    1.678916e-07    1.145580e-07    2.183245e-07    1.627350e-07   \n",
       "\n",
       "     current_cycle5  current_cycle6  current_cycle7  current_cycle8   \n",
       "0      1.938595e-07    1.650216e-08    2.397635e-07    4.993587e-07  \\\n",
       "1      5.789698e-05    7.073933e-08    4.492738e-05    7.239819e-05   \n",
       "2      8.550060e-06    3.678666e-05    8.942200e-05    1.310099e-04   \n",
       "3      4.836029e-05    6.713507e-04    8.829214e-04    2.166431e-04   \n",
       "4      1.116826e-03    8.702506e-04    1.726659e-03    1.265513e-03   \n",
       "..              ...             ...             ...             ...   \n",
       "319    2.275040e-04    4.780962e-04    3.054267e-04    4.793536e-04   \n",
       "320    5.559864e-05    2.854121e-04    1.299074e-04    5.711678e-04   \n",
       "321    3.232654e-05    1.583603e-04    2.039209e-04    2.993979e-04   \n",
       "322    1.220139e-05    7.440791e-05    8.959109e-05    1.116415e-04   \n",
       "323    3.715753e-08    1.914150e-07    2.118754e-07    2.245972e-07   \n",
       "\n",
       "     current_cycle9  current_cycle10  current_cycle11  \n",
       "0      3.241142e-07     4.551608e-07     7.097827e-08  \n",
       "1      5.942373e-05     4.860291e-05     2.018215e-05  \n",
       "2      1.019129e-04     8.690113e-05     2.438329e-04  \n",
       "3      3.379858e-04     5.497976e-04     4.440320e-04  \n",
       "4      1.591321e-03     8.661542e-04     1.673192e-03  \n",
       "..              ...              ...              ...  \n",
       "319    3.325140e-04     6.270512e-04              NaN  \n",
       "320    4.866660e-04     4.322909e-04              NaN  \n",
       "321    2.850133e-04     2.641919e-04              NaN  \n",
       "322    1.084824e-04     1.155947e-04              NaN  \n",
       "323    2.347799e-07     2.216733e-07              NaN  \n",
       "\n",
       "[324 rows x 12 columns]"
      ]
     },
     "execution_count": 4,
     "metadata": {},
     "output_type": "execute_result"
    }
   ],
   "source": [
    "data"
   ]
  },
  {
   "cell_type": "markdown",
   "id": "a22089cd-0e07-4925-9912-23e35754037d",
   "metadata": {},
   "source": [
    "# 截取前 100 行"
   ]
  },
  {
   "cell_type": "code",
   "execution_count": 5,
   "id": "1d724a10-116b-402a-89c2-28a8bd6a7131",
   "metadata": {
    "ExecutionIndicator": {
     "show": true
    },
    "execution": {
     "iopub.execute_input": "2023-07-04T01:32:48.828289Z",
     "iopub.status.busy": "2023-07-04T01:32:48.828159Z",
     "iopub.status.idle": "2023-07-04T01:32:48.831192Z",
     "shell.execute_reply": "2023-07-04T01:32:48.830265Z",
     "shell.execute_reply.started": "2023-07-04T01:32:48.828277Z"
    },
    "tags": []
   },
   "outputs": [],
   "source": [
    "data = data.iloc[:100, :]"
   ]
  },
  {
   "cell_type": "code",
   "execution_count": 6,
   "id": "4aba8c4d-2544-437e-8d31-705853597dd9",
   "metadata": {
    "execution": {
     "iopub.execute_input": "2023-07-04T01:32:48.831807Z",
     "iopub.status.busy": "2023-07-04T01:32:48.831673Z",
     "iopub.status.idle": "2023-07-04T01:32:49.223659Z",
     "shell.execute_reply": "2023-07-04T01:32:49.222200Z",
     "shell.execute_reply.started": "2023-07-04T01:32:48.831795Z"
    },
    "tags": []
   },
   "outputs": [],
   "source": [
    "from matplotlib import pyplot as plt"
   ]
  },
  {
   "cell_type": "code",
   "execution_count": 7,
   "id": "b529b5a0-c035-4ee3-973f-6ab32f485cfb",
   "metadata": {
    "ExecutionIndicator": {
     "show": true
    },
    "execution": {
     "iopub.execute_input": "2023-07-04T01:32:49.224732Z",
     "iopub.status.busy": "2023-07-04T01:32:49.224485Z",
     "iopub.status.idle": "2023-07-04T01:32:49.309285Z",
     "shell.execute_reply": "2023-07-04T01:32:49.308800Z",
     "shell.execute_reply.started": "2023-07-04T01:32:49.224718Z"
    },
    "tags": []
   },
   "outputs": [
    {
     "data": {
      "text/plain": [
       "[<matplotlib.lines.Line2D at 0x7fdfcadc1340>]"
      ]
     },
     "execution_count": 7,
     "metadata": {},
     "output_type": "execute_result"
    },
    {
     "data": {
      "image/png": "[encoded data removed]",
      "text/plain": [
       "<Figure size 640x480 with 1 Axes>"
      ]
     },
     "metadata": {},
     "output_type": "display_data"
    }
   ],
   "source": [
    "plt.plot(data['voltage'])"
   ]
  },
  {
   "cell_type": "code",
   "execution_count": 8,
   "id": "893bbb95-d8b8-426a-bc17-592531bc4ad5",
   "metadata": {
    "ExecutionIndicator": {
     "show": true
    },
    "execution": {
     "iopub.execute_input": "2023-07-04T01:32:49.310130Z",
     "iopub.status.busy": "2023-07-04T01:32:49.309983Z",
     "iopub.status.idle": "2023-07-04T01:32:49.386413Z",
     "shell.execute_reply": "2023-07-04T01:32:49.385697Z",
     "shell.execute_reply.started": "2023-07-04T01:32:49.310118Z"
    },
    "tags": []
   },
   "outputs": [
    {
     "data": {
      "image/png": "[encoded data removed]",
      "text/plain": [
       "<Figure size 640x480 with 1 Axes>"
      ]
     },
     "metadata": {},
     "output_type": "display_data"
    }
   ],
   "source": [
    "plt.plot(data.drop(['voltage'], axis=1))\n",
    "plt.show()"
   ]
  },
  {
   "cell_type": "code",
   "execution_count": 9,
   "id": "8b61f997-bd5b-419f-a618-e452bc63d5fe",
   "metadata": {
    "ExecutionIndicator": {
     "show": true
    },
    "execution": {
     "iopub.execute_input": "2023-07-04T01:32:49.387185Z",
     "iopub.status.busy": "2023-07-04T01:32:49.387040Z",
     "iopub.status.idle": "2023-07-04T01:32:49.456507Z",
     "shell.execute_reply": "2023-07-04T01:32:49.456054Z",
     "shell.execute_reply.started": "2023-07-04T01:32:49.387173Z"
    },
    "tags": []
   },
   "outputs": [
    {
     "data": {
      "text/plain": [
       "[<matplotlib.lines.Line2D at 0x7fdfc8c29220>]"
      ]
     },
     "execution_count": 9,
     "metadata": {},
     "output_type": "execute_result"
    },
    {
     "data": {
      "image/png": "[encoded data removed]",
      "text/plain": [
       "<Figure size 640x480 with 1 Axes>"
      ]
     },
     "metadata": {},
     "output_type": "display_data"
    }
   ],
   "source": [
    "plt.plot(data.drop(['voltage'], axis=1).mean(axis=1))"
   ]
  },
  {
   "cell_type": "markdown",
   "id": "93a6bfe9-674a-4d91-801e-44668f367182",
   "metadata": {},
   "source": [
    "# 计算电导"
   ]
  },
  {
   "cell_type": "code",
   "execution_count": 10,
   "id": "97422502-d316-472f-afbc-6a9258586cb4",
   "metadata": {
    "execution": {
     "iopub.execute_input": "2023-07-04T01:32:49.458200Z",
     "iopub.status.busy": "2023-07-04T01:32:49.458050Z",
     "iopub.status.idle": "2023-07-04T01:32:49.461505Z",
     "shell.execute_reply": "2023-07-04T01:32:49.460983Z",
     "shell.execute_reply.started": "2023-07-04T01:32:49.458187Z"
    },
    "tags": []
   },
   "outputs": [],
   "source": [
    "conductance = data.drop(['voltage'], axis=1).div(data['voltage'], axis=0)"
   ]
  },
  {
   "cell_type": "code",
   "execution_count": 11,
   "id": "a3aba096-c3a1-4f7a-a57f-dd1a64ea0206",
   "metadata": {
    "execution": {
     "iopub.execute_input": "2023-07-04T01:32:49.462211Z",
     "iopub.status.busy": "2023-07-04T01:32:49.462072Z",
     "iopub.status.idle": "2023-07-04T01:32:49.473157Z",
     "shell.execute_reply": "2023-07-04T01:32:49.472733Z",
     "shell.execute_reply.started": "2023-07-04T01:32:49.462200Z"
    },
    "tags": []
   },
   "outputs": [
    {
     "data": {
      "text/html": [
       "<div>\n",
       "<style scoped>\n",
       "    .dataframe tbody tr th:only-of-type {\n",
       "        vertical-align: middle;\n",
       "    }\n",
       "\n",
       "    .dataframe tbody tr th {\n",
       "        vertical-align: top;\n",
       "    }\n",
       "\n",
       "    .dataframe thead th {\n",
       "        text-align: right;\n",
       "    }\n",
       "</style>\n",
       "<table border=\"1\" class=\"dataframe\">\n",
       "  <thead>\n",
       "    <tr style=\"text-align: right;\">\n",
       "      <th></th>\n",
       "      <th>current_cycle1</th>\n",
       "      <th>current_cycle2</th>\n",
       "      <th>current_cycle3</th>\n",
       "      <th>current_cycle4</th>\n",
       "      <th>current_cycle5</th>\n",
       "      <th>current_cycle6</th>\n",
       "      <th>current_cycle7</th>\n",
       "      <th>current_cycle8</th>\n",
       "      <th>current_cycle9</th>\n",
       "      <th>current_cycle10</th>\n",
       "      <th>current_cycle11</th>\n",
       "    </tr>\n",
       "  </thead>\n",
       "  <tbody>\n",
       "    <tr>\n",
       "      <th>0</th>\n",
       "      <td>inf</td>\n",
       "      <td>inf</td>\n",
       "      <td>inf</td>\n",
       "      <td>inf</td>\n",
       "      <td>inf</td>\n",
       "      <td>inf</td>\n",
       "      <td>inf</td>\n",
       "      <td>inf</td>\n",
       "      <td>inf</td>\n",
       "      <td>inf</td>\n",
       "      <td>inf</td>\n",
       "    </tr>\n",
       "    <tr>\n",
       "      <th>1</th>\n",
       "      <td>4.091893e-07</td>\n",
       "      <td>0.000416</td>\n",
       "      <td>0.000191</td>\n",
       "      <td>0.000624</td>\n",
       "      <td>0.000579</td>\n",
       "      <td>7.073933e-07</td>\n",
       "      <td>0.000449</td>\n",
       "      <td>0.000724</td>\n",
       "      <td>0.000594</td>\n",
       "      <td>0.000486</td>\n",
       "      <td>0.000202</td>\n",
       "    </tr>\n",
       "    <tr>\n",
       "      <th>2</th>\n",
       "      <td>1.282386e-04</td>\n",
       "      <td>0.001269</td>\n",
       "      <td>0.000192</td>\n",
       "      <td>0.000708</td>\n",
       "      <td>0.000043</td>\n",
       "      <td>1.839333e-04</td>\n",
       "      <td>0.000447</td>\n",
       "      <td>0.000655</td>\n",
       "      <td>0.000510</td>\n",
       "      <td>0.000435</td>\n",
       "      <td>0.001219</td>\n",
       "    </tr>\n",
       "    <tr>\n",
       "      <th>3</th>\n",
       "      <td>1.871432e-03</td>\n",
       "      <td>0.001206</td>\n",
       "      <td>0.001425</td>\n",
       "      <td>0.001081</td>\n",
       "      <td>0.000161</td>\n",
       "      <td>2.237836e-03</td>\n",
       "      <td>0.002943</td>\n",
       "      <td>0.000722</td>\n",
       "      <td>0.001127</td>\n",
       "      <td>0.001833</td>\n",
       "      <td>0.001480</td>\n",
       "    </tr>\n",
       "    <tr>\n",
       "      <th>4</th>\n",
       "      <td>3.015232e-03</td>\n",
       "      <td>0.004653</td>\n",
       "      <td>0.005428</td>\n",
       "      <td>0.003171</td>\n",
       "      <td>0.002792</td>\n",
       "      <td>2.175626e-03</td>\n",
       "      <td>0.004317</td>\n",
       "      <td>0.003164</td>\n",
       "      <td>0.003978</td>\n",
       "      <td>0.002165</td>\n",
       "      <td>0.004183</td>\n",
       "    </tr>\n",
       "    <tr>\n",
       "      <th>...</th>\n",
       "      <td>...</td>\n",
       "      <td>...</td>\n",
       "      <td>...</td>\n",
       "      <td>...</td>\n",
       "      <td>...</td>\n",
       "      <td>...</td>\n",
       "      <td>...</td>\n",
       "      <td>...</td>\n",
       "      <td>...</td>\n",
       "      <td>...</td>\n",
       "      <td>...</td>\n",
       "    </tr>\n",
       "    <tr>\n",
       "      <th>95</th>\n",
       "      <td>1.515242e-02</td>\n",
       "      <td>0.015152</td>\n",
       "      <td>0.015152</td>\n",
       "      <td>0.015152</td>\n",
       "      <td>0.015152</td>\n",
       "      <td>1.515239e-02</td>\n",
       "      <td>0.015152</td>\n",
       "      <td>0.015152</td>\n",
       "      <td>0.015152</td>\n",
       "      <td>0.015152</td>\n",
       "      <td>0.015152</td>\n",
       "    </tr>\n",
       "    <tr>\n",
       "      <th>96</th>\n",
       "      <td>1.538550e-02</td>\n",
       "      <td>0.015385</td>\n",
       "      <td>0.015385</td>\n",
       "      <td>0.015385</td>\n",
       "      <td>0.015385</td>\n",
       "      <td>1.538551e-02</td>\n",
       "      <td>0.015386</td>\n",
       "      <td>0.015386</td>\n",
       "      <td>0.015385</td>\n",
       "      <td>0.015385</td>\n",
       "      <td>0.015386</td>\n",
       "    </tr>\n",
       "    <tr>\n",
       "      <th>97</th>\n",
       "      <td>1.562589e-02</td>\n",
       "      <td>0.015626</td>\n",
       "      <td>0.015626</td>\n",
       "      <td>0.015626</td>\n",
       "      <td>0.015626</td>\n",
       "      <td>1.562590e-02</td>\n",
       "      <td>0.015626</td>\n",
       "      <td>0.015626</td>\n",
       "      <td>0.015626</td>\n",
       "      <td>0.015626</td>\n",
       "      <td>0.015626</td>\n",
       "    </tr>\n",
       "    <tr>\n",
       "      <th>98</th>\n",
       "      <td>1.587394e-02</td>\n",
       "      <td>0.015874</td>\n",
       "      <td>0.015874</td>\n",
       "      <td>0.015874</td>\n",
       "      <td>0.015874</td>\n",
       "      <td>1.587394e-02</td>\n",
       "      <td>0.015874</td>\n",
       "      <td>0.015874</td>\n",
       "      <td>0.015874</td>\n",
       "      <td>0.015874</td>\n",
       "      <td>0.015874</td>\n",
       "    </tr>\n",
       "    <tr>\n",
       "      <th>99</th>\n",
       "      <td>1.612997e-02</td>\n",
       "      <td>0.016130</td>\n",
       "      <td>0.016130</td>\n",
       "      <td>0.016130</td>\n",
       "      <td>0.016130</td>\n",
       "      <td>1.612997e-02</td>\n",
       "      <td>0.016130</td>\n",
       "      <td>0.016130</td>\n",
       "      <td>0.016130</td>\n",
       "      <td>0.016130</td>\n",
       "      <td>0.016130</td>\n",
       "    </tr>\n",
       "  </tbody>\n",
       "</table>\n",
       "<p>100 rows × 11 columns</p>\n",
       "</div>"
      ],
      "text/plain": [
       "    current_cycle1  current_cycle2  current_cycle3  current_cycle4   \n",
       "0              inf             inf             inf             inf  \\\n",
       "1     4.091893e-07        0.000416        0.000191        0.000624   \n",
       "2     1.282386e-04        0.001269        0.000192        0.000708   \n",
       "3     1.871432e-03        0.001206        0.001425        0.001081   \n",
       "4     3.015232e-03        0.004653        0.005428        0.003171   \n",
       "..             ...             ...             ...             ...   \n",
       "95    1.515242e-02        0.015152        0.015152        0.015152   \n",
       "96    1.538550e-02        0.015385        0.015385        0.015385   \n",
       "97    1.562589e-02        0.015626        0.015626        0.015626   \n",
       "98    1.587394e-02        0.015874        0.015874        0.015874   \n",
       "99    1.612997e-02        0.016130        0.016130        0.016130   \n",
       "\n",
       "    current_cycle5  current_cycle6  current_cycle7  current_cycle8   \n",
       "0              inf             inf             inf             inf  \\\n",
       "1         0.000579    7.073933e-07        0.000449        0.000724   \n",
       "2         0.000043    1.839333e-04        0.000447        0.000655   \n",
       "3         0.000161    2.237836e-03        0.002943        0.000722   \n",
       "4         0.002792    2.175626e-03        0.004317        0.003164   \n",
       "..             ...             ...             ...             ...   \n",
       "95        0.015152    1.515239e-02        0.015152        0.015152   \n",
       "96        0.015385    1.538551e-02        0.015386        0.015386   \n",
       "97        0.015626    1.562590e-02        0.015626        0.015626   \n",
       "98        0.015874    1.587394e-02        0.015874        0.015874   \n",
       "99        0.016130    1.612997e-02        0.016130        0.016130   \n",
       "\n",
       "    current_cycle9  current_cycle10  current_cycle11  \n",
       "0              inf              inf              inf  \n",
       "1         0.000594         0.000486         0.000202  \n",
       "2         0.000510         0.000435         0.001219  \n",
       "3         0.001127         0.001833         0.001480  \n",
       "4         0.003978         0.002165         0.004183  \n",
       "..             ...              ...              ...  \n",
       "95        0.015152         0.015152         0.015152  \n",
       "96        0.015385         0.015385         0.015386  \n",
       "97        0.015626         0.015626         0.015626  \n",
       "98        0.015874         0.015874         0.015874  \n",
       "99        0.016130         0.016130         0.016130  \n",
       "\n",
       "[100 rows x 11 columns]"
      ]
     },
     "execution_count": 11,
     "metadata": {},
     "output_type": "execute_result"
    }
   ],
   "source": [
    "conductance"
   ]
  },
  {
   "cell_type": "markdown",
   "id": "6b3790d4-4dfe-4e5f-87e8-78ff25afa71b",
   "metadata": {},
   "source": [
    "## 这里需要消除无穷大和空值"
   ]
  },
  {
   "cell_type": "code",
   "execution_count": 12,
   "id": "24e53077-cd80-4096-9dea-624cc4e952bb",
   "metadata": {
    "ExecutionIndicator": {
     "show": true
    },
    "execution": {
     "iopub.execute_input": "2023-07-04T01:32:49.473819Z",
     "iopub.status.busy": "2023-07-04T01:32:49.473684Z",
     "iopub.status.idle": "2023-07-04T01:32:49.477274Z",
     "shell.execute_reply": "2023-07-04T01:32:49.476588Z",
     "shell.execute_reply.started": "2023-07-04T01:32:49.473808Z"
    },
    "tags": []
   },
   "outputs": [
    {
     "data": {
      "text/plain": [
       "11"
      ]
     },
     "execution_count": 12,
     "metadata": {},
     "output_type": "execute_result"
    }
   ],
   "source": [
    "np.isinf(conductance).values.sum()"
   ]
  },
  {
   "cell_type": "code",
   "execution_count": 13,
   "id": "ff58ed0d-d9a5-461e-8458-76be49925b34",
   "metadata": {
    "ExecutionIndicator": {
     "show": true
    },
    "execution": {
     "iopub.execute_input": "2023-07-04T01:32:49.477860Z",
     "iopub.status.busy": "2023-07-04T01:32:49.477729Z",
     "iopub.status.idle": "2023-07-04T01:32:49.488811Z",
     "shell.execute_reply": "2023-07-04T01:32:49.488358Z",
     "shell.execute_reply.started": "2023-07-04T01:32:49.477850Z"
    },
    "tags": []
   },
   "outputs": [
    {
     "data": {
      "text/html": [
       "<div>\n",
       "<style scoped>\n",
       "    .dataframe tbody tr th:only-of-type {\n",
       "        vertical-align: middle;\n",
       "    }\n",
       "\n",
       "    .dataframe tbody tr th {\n",
       "        vertical-align: top;\n",
       "    }\n",
       "\n",
       "    .dataframe thead th {\n",
       "        text-align: right;\n",
       "    }\n",
       "</style>\n",
       "<table border=\"1\" class=\"dataframe\">\n",
       "  <thead>\n",
       "    <tr style=\"text-align: right;\">\n",
       "      <th></th>\n",
       "      <th>current_cycle1</th>\n",
       "      <th>current_cycle2</th>\n",
       "      <th>current_cycle3</th>\n",
       "      <th>current_cycle4</th>\n",
       "      <th>current_cycle5</th>\n",
       "      <th>current_cycle6</th>\n",
       "      <th>current_cycle7</th>\n",
       "      <th>current_cycle8</th>\n",
       "      <th>current_cycle9</th>\n",
       "      <th>current_cycle10</th>\n",
       "      <th>current_cycle11</th>\n",
       "    </tr>\n",
       "  </thead>\n",
       "  <tbody>\n",
       "    <tr>\n",
       "      <th>1</th>\n",
       "      <td>4.091893e-07</td>\n",
       "      <td>0.000416</td>\n",
       "      <td>0.000191</td>\n",
       "      <td>0.000624</td>\n",
       "      <td>0.000579</td>\n",
       "      <td>7.073933e-07</td>\n",
       "      <td>0.000449</td>\n",
       "      <td>0.000724</td>\n",
       "      <td>0.000594</td>\n",
       "      <td>0.000486</td>\n",
       "      <td>0.000202</td>\n",
       "    </tr>\n",
       "    <tr>\n",
       "      <th>2</th>\n",
       "      <td>1.282386e-04</td>\n",
       "      <td>0.001269</td>\n",
       "      <td>0.000192</td>\n",
       "      <td>0.000708</td>\n",
       "      <td>0.000043</td>\n",
       "      <td>1.839333e-04</td>\n",
       "      <td>0.000447</td>\n",
       "      <td>0.000655</td>\n",
       "      <td>0.000510</td>\n",
       "      <td>0.000435</td>\n",
       "      <td>0.001219</td>\n",
       "    </tr>\n",
       "    <tr>\n",
       "      <th>3</th>\n",
       "      <td>1.871432e-03</td>\n",
       "      <td>0.001206</td>\n",
       "      <td>0.001425</td>\n",
       "      <td>0.001081</td>\n",
       "      <td>0.000161</td>\n",
       "      <td>2.237836e-03</td>\n",
       "      <td>0.002943</td>\n",
       "      <td>0.000722</td>\n",
       "      <td>0.001127</td>\n",
       "      <td>0.001833</td>\n",
       "      <td>0.001480</td>\n",
       "    </tr>\n",
       "    <tr>\n",
       "      <th>4</th>\n",
       "      <td>3.015232e-03</td>\n",
       "      <td>0.004653</td>\n",
       "      <td>0.005428</td>\n",
       "      <td>0.003171</td>\n",
       "      <td>0.002792</td>\n",
       "      <td>2.175626e-03</td>\n",
       "      <td>0.004317</td>\n",
       "      <td>0.003164</td>\n",
       "      <td>0.003978</td>\n",
       "      <td>0.002165</td>\n",
       "      <td>0.004183</td>\n",
       "    </tr>\n",
       "    <tr>\n",
       "      <th>5</th>\n",
       "      <td>4.214602e-03</td>\n",
       "      <td>0.005335</td>\n",
       "      <td>0.006282</td>\n",
       "      <td>0.003236</td>\n",
       "      <td>0.003561</td>\n",
       "      <td>2.767029e-03</td>\n",
       "      <td>0.003987</td>\n",
       "      <td>0.004685</td>\n",
       "      <td>0.004707</td>\n",
       "      <td>0.003446</td>\n",
       "      <td>0.004346</td>\n",
       "    </tr>\n",
       "    <tr>\n",
       "      <th>...</th>\n",
       "      <td>...</td>\n",
       "      <td>...</td>\n",
       "      <td>...</td>\n",
       "      <td>...</td>\n",
       "      <td>...</td>\n",
       "      <td>...</td>\n",
       "      <td>...</td>\n",
       "      <td>...</td>\n",
       "      <td>...</td>\n",
       "      <td>...</td>\n",
       "      <td>...</td>\n",
       "    </tr>\n",
       "    <tr>\n",
       "      <th>95</th>\n",
       "      <td>1.515242e-02</td>\n",
       "      <td>0.015152</td>\n",
       "      <td>0.015152</td>\n",
       "      <td>0.015152</td>\n",
       "      <td>0.015152</td>\n",
       "      <td>1.515239e-02</td>\n",
       "      <td>0.015152</td>\n",
       "      <td>0.015152</td>\n",
       "      <td>0.015152</td>\n",
       "      <td>0.015152</td>\n",
       "      <td>0.015152</td>\n",
       "    </tr>\n",
       "    <tr>\n",
       "      <th>96</th>\n",
       "      <td>1.538550e-02</td>\n",
       "      <td>0.015385</td>\n",
       "      <td>0.015385</td>\n",
       "      <td>0.015385</td>\n",
       "      <td>0.015385</td>\n",
       "      <td>1.538551e-02</td>\n",
       "      <td>0.015386</td>\n",
       "      <td>0.015386</td>\n",
       "      <td>0.015385</td>\n",
       "      <td>0.015385</td>\n",
       "      <td>0.015386</td>\n",
       "    </tr>\n",
       "    <tr>\n",
       "      <th>97</th>\n",
       "      <td>1.562589e-02</td>\n",
       "      <td>0.015626</td>\n",
       "      <td>0.015626</td>\n",
       "      <td>0.015626</td>\n",
       "      <td>0.015626</td>\n",
       "      <td>1.562590e-02</td>\n",
       "      <td>0.015626</td>\n",
       "      <td>0.015626</td>\n",
       "      <td>0.015626</td>\n",
       "      <td>0.015626</td>\n",
       "      <td>0.015626</td>\n",
       "    </tr>\n",
       "    <tr>\n",
       "      <th>98</th>\n",
       "      <td>1.587394e-02</td>\n",
       "      <td>0.015874</td>\n",
       "      <td>0.015874</td>\n",
       "      <td>0.015874</td>\n",
       "      <td>0.015874</td>\n",
       "      <td>1.587394e-02</td>\n",
       "      <td>0.015874</td>\n",
       "      <td>0.015874</td>\n",
       "      <td>0.015874</td>\n",
       "      <td>0.015874</td>\n",
       "      <td>0.015874</td>\n",
       "    </tr>\n",
       "    <tr>\n",
       "      <th>99</th>\n",
       "      <td>1.612997e-02</td>\n",
       "      <td>0.016130</td>\n",
       "      <td>0.016130</td>\n",
       "      <td>0.016130</td>\n",
       "      <td>0.016130</td>\n",
       "      <td>1.612997e-02</td>\n",
       "      <td>0.016130</td>\n",
       "      <td>0.016130</td>\n",
       "      <td>0.016130</td>\n",
       "      <td>0.016130</td>\n",
       "      <td>0.016130</td>\n",
       "    </tr>\n",
       "  </tbody>\n",
       "</table>\n",
       "<p>99 rows × 11 columns</p>\n",
       "</div>"
      ],
      "text/plain": [
       "    current_cycle1  current_cycle2  current_cycle3  current_cycle4   \n",
       "1     4.091893e-07        0.000416        0.000191        0.000624  \\\n",
       "2     1.282386e-04        0.001269        0.000192        0.000708   \n",
       "3     1.871432e-03        0.001206        0.001425        0.001081   \n",
       "4     3.015232e-03        0.004653        0.005428        0.003171   \n",
       "5     4.214602e-03        0.005335        0.006282        0.003236   \n",
       "..             ...             ...             ...             ...   \n",
       "95    1.515242e-02        0.015152        0.015152        0.015152   \n",
       "96    1.538550e-02        0.015385        0.015385        0.015385   \n",
       "97    1.562589e-02        0.015626        0.015626        0.015626   \n",
       "98    1.587394e-02        0.015874        0.015874        0.015874   \n",
       "99    1.612997e-02        0.016130        0.016130        0.016130   \n",
       "\n",
       "    current_cycle5  current_cycle6  current_cycle7  current_cycle8   \n",
       "1         0.000579    7.073933e-07        0.000449        0.000724  \\\n",
       "2         0.000043    1.839333e-04        0.000447        0.000655   \n",
       "3         0.000161    2.237836e-03        0.002943        0.000722   \n",
       "4         0.002792    2.175626e-03        0.004317        0.003164   \n",
       "5         0.003561    2.767029e-03        0.003987        0.004685   \n",
       "..             ...             ...             ...             ...   \n",
       "95        0.015152    1.515239e-02        0.015152        0.015152   \n",
       "96        0.015385    1.538551e-02        0.015386        0.015386   \n",
       "97        0.015626    1.562590e-02        0.015626        0.015626   \n",
       "98        0.015874    1.587394e-02        0.015874        0.015874   \n",
       "99        0.016130    1.612997e-02        0.016130        0.016130   \n",
       "\n",
       "    current_cycle9  current_cycle10  current_cycle11  \n",
       "1         0.000594         0.000486         0.000202  \n",
       "2         0.000510         0.000435         0.001219  \n",
       "3         0.001127         0.001833         0.001480  \n",
       "4         0.003978         0.002165         0.004183  \n",
       "5         0.004707         0.003446         0.004346  \n",
       "..             ...              ...              ...  \n",
       "95        0.015152         0.015152         0.015152  \n",
       "96        0.015385         0.015385         0.015386  \n",
       "97        0.015626         0.015626         0.015626  \n",
       "98        0.015874         0.015874         0.015874  \n",
       "99        0.016130         0.016130         0.016130  \n",
       "\n",
       "[99 rows x 11 columns]"
      ]
     },
     "execution_count": 13,
     "metadata": {},
     "output_type": "execute_result"
    }
   ],
   "source": [
    "conductance = conductance[(conductance!=np.inf).all(axis=1)]\n",
    "conductance"
   ]
  },
  {
   "cell_type": "markdown",
   "id": "084cd4b3-e084-46ca-91e1-48d88df48e94",
   "metadata": {},
   "source": [
    "## 每行除以该行的均值，得到用于参数估计的样本"
   ]
  },
  {
   "cell_type": "code",
   "execution_count": 14,
   "id": "afe8561d-abc0-406e-8f62-f79e7b5c2c44",
   "metadata": {
    "ExecutionIndicator": {
     "show": true
    },
    "execution": {
     "iopub.execute_input": "2023-07-04T01:32:49.489385Z",
     "iopub.status.busy": "2023-07-04T01:32:49.489249Z",
     "iopub.status.idle": "2023-07-04T01:32:49.539288Z",
     "shell.execute_reply": "2023-07-04T01:32:49.538428Z",
     "shell.execute_reply.started": "2023-07-04T01:32:49.489373Z"
    },
    "tags": []
   },
   "outputs": [
    {
     "data": {
      "text/html": [
       "<div>\n",
       "<style scoped>\n",
       "    .dataframe tbody tr th:only-of-type {\n",
       "        vertical-align: middle;\n",
       "    }\n",
       "\n",
       "    .dataframe tbody tr th {\n",
       "        vertical-align: top;\n",
       "    }\n",
       "\n",
       "    .dataframe thead th {\n",
       "        text-align: right;\n",
       "    }\n",
       "</style>\n",
       "<table border=\"1\" class=\"dataframe\">\n",
       "  <thead>\n",
       "    <tr style=\"text-align: right;\">\n",
       "      <th></th>\n",
       "      <th>current_cycle1</th>\n",
       "      <th>current_cycle2</th>\n",
       "      <th>current_cycle3</th>\n",
       "      <th>current_cycle4</th>\n",
       "      <th>current_cycle5</th>\n",
       "      <th>current_cycle6</th>\n",
       "      <th>current_cycle7</th>\n",
       "      <th>current_cycle8</th>\n",
       "      <th>current_cycle9</th>\n",
       "      <th>current_cycle10</th>\n",
       "      <th>current_cycle11</th>\n",
       "    </tr>\n",
       "  </thead>\n",
       "  <tbody>\n",
       "    <tr>\n",
       "      <th>1</th>\n",
       "      <td>0.001055</td>\n",
       "      <td>1.072397</td>\n",
       "      <td>0.492010</td>\n",
       "      <td>1.609077</td>\n",
       "      <td>1.492809</td>\n",
       "      <td>0.001824</td>\n",
       "      <td>1.158402</td>\n",
       "      <td>1.866706</td>\n",
       "      <td>1.532174</td>\n",
       "      <td>1.253172</td>\n",
       "      <td>0.520374</td>\n",
       "    </tr>\n",
       "    <tr>\n",
       "      <th>2</th>\n",
       "      <td>0.243648</td>\n",
       "      <td>2.410985</td>\n",
       "      <td>0.365539</td>\n",
       "      <td>1.345031</td>\n",
       "      <td>0.081224</td>\n",
       "      <td>0.349465</td>\n",
       "      <td>0.849490</td>\n",
       "      <td>1.244566</td>\n",
       "      <td>0.968151</td>\n",
       "      <td>0.825542</td>\n",
       "      <td>2.316360</td>\n",
       "    </tr>\n",
       "    <tr>\n",
       "      <th>3</th>\n",
       "      <td>1.279681</td>\n",
       "      <td>0.824777</td>\n",
       "      <td>0.974224</td>\n",
       "      <td>0.738957</td>\n",
       "      <td>0.110229</td>\n",
       "      <td>1.530227</td>\n",
       "      <td>2.012465</td>\n",
       "      <td>0.493800</td>\n",
       "      <td>0.770380</td>\n",
       "      <td>1.253168</td>\n",
       "      <td>1.012093</td>\n",
       "    </tr>\n",
       "    <tr>\n",
       "      <th>4</th>\n",
       "      <td>0.849548</td>\n",
       "      <td>1.310974</td>\n",
       "      <td>1.529280</td>\n",
       "      <td>0.893356</td>\n",
       "      <td>0.786670</td>\n",
       "      <td>0.612987</td>\n",
       "      <td>1.216224</td>\n",
       "      <td>0.891402</td>\n",
       "      <td>1.120895</td>\n",
       "      <td>0.610102</td>\n",
       "      <td>1.178563</td>\n",
       "    </tr>\n",
       "    <tr>\n",
       "      <th>5</th>\n",
       "      <td>0.995607</td>\n",
       "      <td>1.260173</td>\n",
       "      <td>1.483947</td>\n",
       "      <td>0.764336</td>\n",
       "      <td>0.841314</td>\n",
       "      <td>0.653650</td>\n",
       "      <td>0.941807</td>\n",
       "      <td>1.106647</td>\n",
       "      <td>1.111867</td>\n",
       "      <td>0.813970</td>\n",
       "      <td>1.026683</td>\n",
       "    </tr>\n",
       "    <tr>\n",
       "      <th>...</th>\n",
       "      <td>...</td>\n",
       "      <td>...</td>\n",
       "      <td>...</td>\n",
       "      <td>...</td>\n",
       "      <td>...</td>\n",
       "      <td>...</td>\n",
       "      <td>...</td>\n",
       "      <td>...</td>\n",
       "      <td>...</td>\n",
       "      <td>...</td>\n",
       "      <td>...</td>\n",
       "    </tr>\n",
       "    <tr>\n",
       "      <th>95</th>\n",
       "      <td>1.000001</td>\n",
       "      <td>0.999999</td>\n",
       "      <td>1.000003</td>\n",
       "      <td>1.000002</td>\n",
       "      <td>1.000000</td>\n",
       "      <td>1.000000</td>\n",
       "      <td>0.999999</td>\n",
       "      <td>1.000000</td>\n",
       "      <td>0.999999</td>\n",
       "      <td>0.999998</td>\n",
       "      <td>1.000000</td>\n",
       "    </tr>\n",
       "    <tr>\n",
       "      <th>96</th>\n",
       "      <td>1.000001</td>\n",
       "      <td>1.000001</td>\n",
       "      <td>1.000000</td>\n",
       "      <td>0.999994</td>\n",
       "      <td>1.000000</td>\n",
       "      <td>1.000001</td>\n",
       "      <td>1.000002</td>\n",
       "      <td>1.000001</td>\n",
       "      <td>1.000000</td>\n",
       "      <td>1.000000</td>\n",
       "      <td>1.000001</td>\n",
       "    </tr>\n",
       "    <tr>\n",
       "      <th>97</th>\n",
       "      <td>1.000000</td>\n",
       "      <td>1.000000</td>\n",
       "      <td>0.999999</td>\n",
       "      <td>0.999998</td>\n",
       "      <td>1.000000</td>\n",
       "      <td>1.000001</td>\n",
       "      <td>1.000002</td>\n",
       "      <td>0.999999</td>\n",
       "      <td>0.999999</td>\n",
       "      <td>1.000001</td>\n",
       "      <td>1.000001</td>\n",
       "    </tr>\n",
       "    <tr>\n",
       "      <th>98</th>\n",
       "      <td>1.000000</td>\n",
       "      <td>1.000003</td>\n",
       "      <td>0.999999</td>\n",
       "      <td>1.000003</td>\n",
       "      <td>0.999999</td>\n",
       "      <td>1.000000</td>\n",
       "      <td>0.999999</td>\n",
       "      <td>0.999999</td>\n",
       "      <td>1.000000</td>\n",
       "      <td>0.999999</td>\n",
       "      <td>1.000000</td>\n",
       "    </tr>\n",
       "    <tr>\n",
       "      <th>99</th>\n",
       "      <td>1.000000</td>\n",
       "      <td>0.999998</td>\n",
       "      <td>1.000002</td>\n",
       "      <td>1.000001</td>\n",
       "      <td>1.000000</td>\n",
       "      <td>1.000000</td>\n",
       "      <td>1.000000</td>\n",
       "      <td>0.999999</td>\n",
       "      <td>0.999999</td>\n",
       "      <td>1.000000</td>\n",
       "      <td>1.000001</td>\n",
       "    </tr>\n",
       "  </tbody>\n",
       "</table>\n",
       "<p>99 rows × 11 columns</p>\n",
       "</div>"
      ],
      "text/plain": [
       "    current_cycle1  current_cycle2  current_cycle3  current_cycle4   \n",
       "1         0.001055        1.072397        0.492010        1.609077  \\\n",
       "2         0.243648        2.410985        0.365539        1.345031   \n",
       "3         1.279681        0.824777        0.974224        0.738957   \n",
       "4         0.849548        1.310974        1.529280        0.893356   \n",
       "5         0.995607        1.260173        1.483947        0.764336   \n",
       "..             ...             ...             ...             ...   \n",
       "95        1.000001        0.999999        1.000003        1.000002   \n",
       "96        1.000001        1.000001        1.000000        0.999994   \n",
       "97        1.000000        1.000000        0.999999        0.999998   \n",
       "98        1.000000        1.000003        0.999999        1.000003   \n",
       "99        1.000000        0.999998        1.000002        1.000001   \n",
       "\n",
       "    current_cycle5  current_cycle6  current_cycle7  current_cycle8   \n",
       "1         1.492809        0.001824        1.158402        1.866706  \\\n",
       "2         0.081224        0.349465        0.849490        1.244566   \n",
       "3         0.110229        1.530227        2.012465        0.493800   \n",
       "4         0.786670        0.612987        1.216224        0.891402   \n",
       "5         0.841314        0.653650        0.941807        1.106647   \n",
       "..             ...             ...             ...             ...   \n",
       "95        1.000000        1.000000        0.999999        1.000000   \n",
       "96        1.000000        1.000001        1.000002        1.000001   \n",
       "97        1.000000        1.000001        1.000002        0.999999   \n",
       "98        0.999999        1.000000        0.999999        0.999999   \n",
       "99        1.000000        1.000000        1.000000        0.999999   \n",
       "\n",
       "    current_cycle9  current_cycle10  current_cycle11  \n",
       "1         1.532174         1.253172         0.520374  \n",
       "2         0.968151         0.825542         2.316360  \n",
       "3         0.770380         1.253168         1.012093  \n",
       "4         1.120895         0.610102         1.178563  \n",
       "5         1.111867         0.813970         1.026683  \n",
       "..             ...              ...              ...  \n",
       "95        0.999999         0.999998         1.000000  \n",
       "96        1.000000         1.000000         1.000001  \n",
       "97        0.999999         1.000001         1.000001  \n",
       "98        1.000000         0.999999         1.000000  \n",
       "99        0.999999         1.000000         1.000001  \n",
       "\n",
       "[99 rows x 11 columns]"
      ]
     },
     "execution_count": 14,
     "metadata": {},
     "output_type": "execute_result"
    }
   ],
   "source": [
    "conductance.div(conductance.mean(axis=1), axis=0)"
   ]
  },
  {
   "cell_type": "markdown",
   "id": "c99555af-471c-414d-8b8c-7b7fb3654b2e",
   "metadata": {},
   "source": [
    "## 检查是否有负值"
   ]
  },
  {
   "cell_type": "code",
   "execution_count": 15,
   "id": "b784578e-2474-44db-a954-c0136e492b46",
   "metadata": {
    "ExecutionIndicator": {
     "show": true
    },
    "execution": {
     "iopub.execute_input": "2023-07-04T01:32:49.540015Z",
     "iopub.status.busy": "2023-07-04T01:32:49.539877Z",
     "iopub.status.idle": "2023-07-04T01:32:49.548260Z",
     "shell.execute_reply": "2023-07-04T01:32:49.547425Z",
     "shell.execute_reply.started": "2023-07-04T01:32:49.540003Z"
    },
    "tags": []
   },
   "outputs": [
    {
     "data": {
      "text/html": [
       "<div>\n",
       "<style scoped>\n",
       "    .dataframe tbody tr th:only-of-type {\n",
       "        vertical-align: middle;\n",
       "    }\n",
       "\n",
       "    .dataframe tbody tr th {\n",
       "        vertical-align: top;\n",
       "    }\n",
       "\n",
       "    .dataframe thead th {\n",
       "        text-align: right;\n",
       "    }\n",
       "</style>\n",
       "<table border=\"1\" class=\"dataframe\">\n",
       "  <thead>\n",
       "    <tr style=\"text-align: right;\">\n",
       "      <th></th>\n",
       "      <th>current_cycle1</th>\n",
       "      <th>current_cycle2</th>\n",
       "      <th>current_cycle3</th>\n",
       "      <th>current_cycle4</th>\n",
       "      <th>current_cycle5</th>\n",
       "      <th>current_cycle6</th>\n",
       "      <th>current_cycle7</th>\n",
       "      <th>current_cycle8</th>\n",
       "      <th>current_cycle9</th>\n",
       "      <th>current_cycle10</th>\n",
       "      <th>current_cycle11</th>\n",
       "    </tr>\n",
       "  </thead>\n",
       "  <tbody>\n",
       "  </tbody>\n",
       "</table>\n",
       "</div>"
      ],
      "text/plain": [
       "Empty DataFrame\n",
       "Columns: [current_cycle1, current_cycle2, current_cycle3, current_cycle4, current_cycle5, current_cycle6, current_cycle7, current_cycle8, current_cycle9, current_cycle10, current_cycle11]\n",
       "Index: []"
      ]
     },
     "execution_count": 15,
     "metadata": {},
     "output_type": "execute_result"
    }
   ],
   "source": [
    "conductance.div(conductance.mean(axis=1), axis=0)[(conductance.div(conductance.mean(axis=1), axis=0)<0).all(axis=1)]"
   ]
  },
  {
   "cell_type": "code",
   "execution_count": 16,
   "id": "e3bf8db2-b6cf-4124-8bfd-362c269843c6",
   "metadata": {
    "execution": {
     "iopub.execute_input": "2023-07-04T01:32:49.548998Z",
     "iopub.status.busy": "2023-07-04T01:32:49.548862Z",
     "iopub.status.idle": "2023-07-04T01:32:49.554511Z",
     "shell.execute_reply": "2023-07-04T01:32:49.553682Z",
     "shell.execute_reply.started": "2023-07-04T01:32:49.548986Z"
    },
    "tags": []
   },
   "outputs": [
    {
     "data": {
      "text/plain": [
       "current_cycle1     False\n",
       "current_cycle2     False\n",
       "current_cycle3     False\n",
       "current_cycle4     False\n",
       "current_cycle5     False\n",
       "current_cycle6     False\n",
       "current_cycle7     False\n",
       "current_cycle8     False\n",
       "current_cycle9     False\n",
       "current_cycle10    False\n",
       "current_cycle11    False\n",
       "dtype: bool"
      ]
     },
     "execution_count": 16,
     "metadata": {},
     "output_type": "execute_result"
    }
   ],
   "source": [
    "(conductance.div(conductance.mean(axis=1), axis=0)<0).all(axis=0)"
   ]
  },
  {
   "cell_type": "markdown",
   "id": "28435200-211c-437a-900c-444193bafa71",
   "metadata": {
    "execution": {
     "iopub.execute_input": "2023-06-14T02:10:52.489358Z",
     "iopub.status.busy": "2023-06-14T02:10:52.488783Z",
     "iopub.status.idle": "2023-06-14T02:10:52.491545Z",
     "shell.execute_reply": "2023-06-14T02:10:52.491107Z",
     "shell.execute_reply.started": "2023-06-14T02:10:52.489338Z"
    },
    "tags": []
   },
   "source": [
    "# 可视化"
   ]
  },
  {
   "cell_type": "code",
   "execution_count": 17,
   "id": "52a6f9ab-e658-4ae3-a784-bd3f8762d5eb",
   "metadata": {
    "ExecutionIndicator": {
     "show": true
    },
    "execution": {
     "iopub.execute_input": "2023-07-04T01:32:49.555253Z",
     "iopub.status.busy": "2023-07-04T01:32:49.555120Z",
     "iopub.status.idle": "2023-07-04T01:32:49.633387Z",
     "shell.execute_reply": "2023-07-04T01:32:49.632938Z",
     "shell.execute_reply.started": "2023-07-04T01:32:49.555241Z"
    },
    "tags": []
   },
   "outputs": [
    {
     "data": {
      "image/png": "[encoded data removed]",
      "text/plain": [
       "<Figure size 640x480 with 1 Axes>"
      ]
     },
     "metadata": {},
     "output_type": "display_data"
    }
   ],
   "source": [
    "plt.plot(conductance.div(conductance.mean(axis=1), axis=0))\n",
    "plt.show()"
   ]
  },
  {
   "cell_type": "code",
   "execution_count": 18,
   "id": "a4022e7d-78ef-48a2-8d96-d2fd35eb279d",
   "metadata": {
    "execution": {
     "iopub.execute_input": "2023-07-04T01:32:49.634086Z",
     "iopub.status.busy": "2023-07-04T01:32:49.633947Z",
     "iopub.status.idle": "2023-07-04T01:32:49.701411Z",
     "shell.execute_reply": "2023-07-04T01:32:49.700947Z",
     "shell.execute_reply.started": "2023-07-04T01:32:49.634073Z"
    }
   },
   "outputs": [
    {
     "data": {
      "text/plain": [
       "[<matplotlib.lines.Line2D at 0x7fdfc839f730>]"
      ]
     },
     "execution_count": 18,
     "metadata": {},
     "output_type": "execute_result"
    },
    {
     "data": {
      "image/png": "[encoded data removed]",
      "text/plain": [
       "<Figure size 640x480 with 1 Axes>"
      ]
     },
     "metadata": {},
     "output_type": "display_data"
    }
   ],
   "source": [
    "plt.plot(data.drop(['voltage'], axis=1).mean(axis=1))"
   ]
  },
  {
   "cell_type": "markdown",
   "id": "34e9a1d6-fafd-4219-957b-de190f0fd429",
   "metadata": {},
   "source": [
    "# 用最大似然估计（MLE）估计参数 $\\mu$ 和 $\\sigma$"
   ]
  },
  {
   "cell_type": "code",
   "execution_count": 19,
   "id": "44cb1b3e-51d1-46c4-a3d1-aa9a2222ba48",
   "metadata": {
    "ExecutionIndicator": {
     "show": true
    },
    "execution": {
     "iopub.execute_input": "2023-07-04T01:32:49.702019Z",
     "iopub.status.busy": "2023-07-04T01:32:49.701883Z",
     "iopub.status.idle": "2023-07-04T01:32:50.096686Z",
     "shell.execute_reply": "2023-07-04T01:32:50.096121Z",
     "shell.execute_reply.started": "2023-07-04T01:32:49.702007Z"
    },
    "tags": []
   },
   "outputs": [
    {
     "data": {
      "image/png": "[encoded data removed]",
      "text/plain": [
       "<Figure size 640x480 with 1 Axes>"
      ]
     },
     "metadata": {},
     "output_type": "display_data"
    },
    {
     "name": "stdout",
     "output_type": "stream",
     "text": [
      "(1.0, 0.16652900503737503)\n",
      "(0, 1.013771132711293)\n"
     ]
    }
   ],
   "source": [
    "from scipy.stats import norm\n",
    "import matplotlib.pyplot as plt\n",
    "\n",
    "conductance_by_mean = np.array(conductance.div(conductance.mean(axis=1), axis=0)).reshape(1, -1)[0]\n",
    "samples = np.log(conductance_by_mean)\n",
    "samples_fine = np.delete(conductance_by_mean, np.isfinite(samples)==False)\n",
    "plt.hist(samples_fine, bins=100)  # 直方图显示\n",
    "plt.show()\n",
    "print(norm.fit(samples_fine))  # 返回极大似然估计\n",
    "print(norm.fit(samples_fine, floc=0))  # 返回极大似然估计"
   ]
  },
  {
   "cell_type": "code",
   "execution_count": 20,
   "id": "78a6745d-d0d3-437b-abc7-a2b7f9c87aff",
   "metadata": {
    "ExecutionIndicator": {
     "show": true
    },
    "execution": {
     "iopub.execute_input": "2023-07-04T01:32:50.097483Z",
     "iopub.status.busy": "2023-07-04T01:32:50.097313Z",
     "iopub.status.idle": "2023-07-04T01:32:50.287951Z",
     "shell.execute_reply": "2023-07-04T01:32:50.287427Z",
     "shell.execute_reply.started": "2023-07-04T01:32:50.097470Z"
    },
    "tags": []
   },
   "outputs": [
    {
     "data": {
      "image/png": "[encoded data removed]",
      "text/plain": [
       "<Figure size 640x480 with 1 Axes>"
      ]
     },
     "metadata": {},
     "output_type": "display_data"
    },
    {
     "name": "stdout",
     "output_type": "stream",
     "text": [
      "(1.0001829956165393, 0.10820954682053549)\n",
      "(0, 1.0060195478933696)\n"
     ]
    }
   ],
   "source": [
    "samples_fine.sort()\n",
    "percentile = 20\n",
    "len_smps = len(samples_fine)\n",
    "start_indx = int(len_smps/percentile/2)\n",
    "end_indx = len_smps - start_indx\n",
    "samples20cut = samples_fine[start_indx: end_indx]\n",
    "plt.hist(samples20cut, bins=100)  # 直方图显示\n",
    "plt.show()\n",
    "print(norm.fit(samples20cut)) \n",
    "print(norm.fit(samples20cut, floc=0))  # 返回极大似然估计"
   ]
  }
 ],
 "metadata": {
  "kernelspec": {
   "display_name": "Python 3 (ipykernel)",
   "language": "python",
   "name": "python3"
  },
  "language_info": {
   "codemirror_mode": {
    "name": "ipython",
    "version": 3
   },
   "file_extension": ".py",
   "mimetype": "text/x-python",
   "name": "python",
   "nbconvert_exporter": "python",
   "pygments_lexer": "ipython3",
   "version": "3.9.15"
  }
 },
 "nbformat": 4,
 "nbformat_minor": 5
}
