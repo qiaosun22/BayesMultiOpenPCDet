{
 "cells": [
  {
   "cell_type": "code",
   "execution_count": 2,
   "id": "c375942a-4ed3-4a02-b06d-e0a010e61cb4",
   "metadata": {
    "ExecutionIndicator": {
     "show": true
    },
    "execution": {
     "iopub.execute_input": "2023-07-06T13:24:03.507647Z",
     "iopub.status.busy": "2023-07-06T13:24:03.506783Z",
     "iopub.status.idle": "2023-07-06T13:24:03.660112Z",
     "shell.execute_reply": "2023-07-06T13:24:03.659606Z",
     "shell.execute_reply.started": "2023-07-06T13:24:03.507618Z"
    },
    "tags": []
   },
   "outputs": [
    {
     "data": {
      "text/plain": [
       "array([1.00e-12, 2.50e-02, 5.00e-02, 7.50e-02, 1.00e-01, 1.25e-01,\n",
       "       1.50e-01, 1.75e-01, 2.00e-01, 2.25e-01, 2.50e-01, 2.75e-01,\n",
       "       3.00e-01, 3.25e-01, 3.50e-01, 3.75e-01, 4.00e-01, 4.25e-01,\n",
       "       4.50e-01, 4.75e-01, 5.00e-01])"
      ]
     },
     "execution_count": 2,
     "metadata": {},
     "output_type": "execute_result"
    }
   ],
   "source": [
    "import numpy as np\n",
    "np.linspace(1e-12, 0.5, 21)"
   ]
  },
  {
   "cell_type": "code",
   "execution_count": null,
   "id": "db9750bd-c161-401b-a04f-3c5d1d4c4389",
   "metadata": {},
   "outputs": [],
   "source": [
    "sunqiao/OpenPCDet/output/cfgs/kitti_models/bayes/default/ckpt/checkpoint_epoch_1.pth"
   ]
  }
 ],
 "metadata": {
  "kernelspec": {
   "display_name": "Python 3 (ipykernel)",
   "language": "python",
   "name": "python3"
  },
  "language_info": {
   "codemirror_mode": {
    "name": "ipython",
    "version": 3
   },
   "file_extension": ".py",
   "mimetype": "text/x-python",
   "name": "python",
   "nbconvert_exporter": "python",
   "pygments_lexer": "ipython3",
   "version": "3.9.15"
  }
 },
 "nbformat": 4,
 "nbformat_minor": 5
}
