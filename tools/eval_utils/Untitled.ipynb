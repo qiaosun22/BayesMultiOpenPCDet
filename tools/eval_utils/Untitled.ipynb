{
 "cells": [
  {
   "cell_type": "code",
   "execution_count": 1,
   "id": "1134e458-a1ed-495f-b37f-84c2148f7b4a",
   "metadata": {
    "execution": {
     "iopub.execute_input": "2023-05-30T08:50:26.880923Z",
     "iopub.status.busy": "2023-05-30T08:50:26.880519Z",
     "iopub.status.idle": "2023-05-30T08:50:26.886754Z",
     "shell.execute_reply": "2023-05-30T08:50:26.886341Z",
     "shell.execute_reply.started": "2023-05-30T08:50:26.880904Z"
    },
    "tags": []
   },
   "outputs": [],
   "source": [
    "a = '../output/cfgs/kitti_models/bayes/default/ckpt/checkpoint_epoch_79.pth'"
   ]
  },
  {
   "cell_type": "code",
   "execution_count": 4,
   "id": "fe0a87dd-f839-417a-b384-d4357f31438d",
   "metadata": {
    "ExecutionIndicator": {
     "show": true
    },
    "execution": {
     "iopub.execute_input": "2023-05-30T08:50:48.480874Z",
     "iopub.status.busy": "2023-05-30T08:50:48.480409Z",
     "iopub.status.idle": "2023-05-30T08:50:48.484345Z",
     "shell.execute_reply": "2023-05-30T08:50:48.483954Z",
     "shell.execute_reply.started": "2023-05-30T08:50:48.480854Z"
    },
    "tags": []
   },
   "outputs": [
    {
     "data": {
      "text/plain": [
       "'checkpoint_epoch_79.pth'"
      ]
     },
     "execution_count": 4,
     "metadata": {},
     "output_type": "execute_result"
    }
   ],
   "source": [
    "a.split(\"/\")[-1]"
   ]
  },
  {
   "cell_type": "code",
   "execution_count": null,
   "id": "46115c15-610e-4629-8aaf-108c3c5e2582",
   "metadata": {},
   "outputs": [],
   "source": [
    "'output/cfgs/kitti_models/bayes/default/ckpt/checkpoint_epoch_22.pth'"
   ]
  }
 ],
 "metadata": {
  "kernelspec": {
   "display_name": "Python 3 (ipykernel)",
   "language": "python",
   "name": "python3"
  },
  "language_info": {
   "codemirror_mode": {
    "name": "ipython",
    "version": 3
   },
   "file_extension": ".py",
   "mimetype": "text/x-python",
   "name": "python",
   "nbconvert_exporter": "python",
   "pygments_lexer": "ipython3",
   "version": "3.9.15"
  }
 },
 "nbformat": 4,
 "nbformat_minor": 5
}
