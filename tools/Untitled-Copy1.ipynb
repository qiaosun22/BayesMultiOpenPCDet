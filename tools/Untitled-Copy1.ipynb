{
 "cells": [
  {
   "cell_type": "code",
   "execution_count": 1,
   "id": "3145c1ef-c005-4e47-a6b0-923171565d37",
   "metadata": {
    "execution": {
     "iopub.execute_input": "2023-11-11T18:21:03.566473Z",
     "iopub.status.busy": "2023-11-11T18:21:03.565959Z",
     "iopub.status.idle": "2023-11-11T18:21:22.619791Z",
     "shell.execute_reply": "2023-11-11T18:21:22.618354Z",
     "shell.execute_reply.started": "2023-11-11T18:21:03.566449Z"
    },
    "tags": []
   },
   "outputs": [
    {
     "name": "stdout",
     "output_type": "stream",
     "text": [
      "Jupyter environment detected. Enabling Open3D WebVisualizer.\n",
      "[Open3D INFO] WebRTC GUI backend enabled.\n",
      "[Open3D INFO] WebRTCWindowSystem: HTTP handshake server disabled.\n"
     ]
    },
    {
     "name": "stderr",
     "output_type": "stream",
     "text": [
      "/home/pai/lib/python3.9/site-packages/traits/etsconfig/etsconfig.py:425: UserWarning: Environment variable \"HOME\" not set, setting home directory to /tmp\n",
      "  warn(\n",
      "usage: ipykernel_launcher.py [-h] [--cfg_file CFG_FILE]\n",
      "                             [--data_path DATA_PATH] [--ckpt CKPT] [--ext EXT]\n",
      "ipykernel_launcher.py: error: unrecognized arguments: -f /root/.local/share/jupyter/runtime/kernel-17aa90ce-ae61-417d-b542-463e1be502ae.json\n"
     ]
    },
    {
     "ename": "SystemExit",
     "evalue": "2",
     "output_type": "error",
     "traceback": [
      "An exception has occurred, use %tb to see the full traceback.\n",
      "\u001b[0;31mSystemExit\u001b[0m\u001b[0;31m:\u001b[0m 2\n"
     ]
    },
    {
     "name": "stderr",
     "output_type": "stream",
     "text": [
      "/home/pai/lib/python3.9/site-packages/IPython/core/interactiveshell.py:3513: UserWarning: To exit: use 'exit', 'quit', or Ctrl-D.\n",
      "  warn(\"To exit: use 'exit', 'quit', or Ctrl-D.\", stacklevel=1)\n"
     ]
    }
   ],
   "source": [
    "import argparse\n",
    "import glob\n",
    "from pathlib import Path\n",
    "\n",
    "try:\n",
    "    import open3d\n",
    "    from visual_utils import open3d_vis_utils as V\n",
    "    OPEN3D_FLAG = True\n",
    "except:\n",
    "    import mayavi.mlab as mlab\n",
    "    from visual_utils import visualize_utils as V\n",
    "    OPEN3D_FLAG = False\n",
    "\n",
    "import numpy as np\n",
    "import torch\n",
    "\n",
    "from pcdet.config import cfg, cfg_from_yaml_file\n",
    "from pcdet.datasets import DatasetTemplate\n",
    "from pcdet.models import build_network, load_data_to_gpu\n",
    "from pcdet.utils import common_utils\n",
    "\n",
    "\n",
    "class DemoDataset(DatasetTemplate):\n",
    "    def __init__(self, dataset_cfg, class_names, training=True, root_path=None, logger=None, ext='.bin'):\n",
    "        \"\"\"\n",
    "        Args:\n",
    "            root_path:\n",
    "            dataset_cfg:\n",
    "            class_names:\n",
    "            training:\n",
    "            logger:\n",
    "        \"\"\"\n",
    "        super().__init__(\n",
    "            dataset_cfg=dataset_cfg, class_names=class_names, training=training, root_path=root_path, logger=logger\n",
    "        )\n",
    "        self.root_path = root_path\n",
    "        self.ext = ext\n",
    "        data_file_list = glob.glob(str(root_path / f'*{self.ext}')) if self.root_path.is_dir() else [self.root_path]\n",
    "\n",
    "        data_file_list.sort()\n",
    "        self.sample_file_list = data_file_list\n",
    "\n",
    "    def __len__(self):\n",
    "        return len(self.sample_file_list)\n",
    "\n",
    "    def __getitem__(self, index):\n",
    "        if self.ext == '.bin':\n",
    "            points = np.fromfile(self.sample_file_list[index], dtype=np.float32).reshape(-1, 4)\n",
    "        elif self.ext == '.npy':\n",
    "            points = np.load(self.sample_file_list[index])\n",
    "        else:\n",
    "            raise NotImplementedError\n",
    "\n",
    "        input_dict = {\n",
    "            'points': points,\n",
    "            'frame_id': index,\n",
    "        }\n",
    "\n",
    "        data_dict = self.prepare_data(data_dict=input_dict)\n",
    "        return data_dict\n",
    "\n",
    "\n",
    "def parse_config():\n",
    "    parser = argparse.ArgumentParser(description='arg parser')\n",
    "    parser.add_argument('--cfg_file', type=str, default='cfgs/kitti_models/second.yaml',\n",
    "                        help='specify the config for demo')\n",
    "    parser.add_argument('--data_path', type=str, default='demo_data',\n",
    "                        help='specify the point cloud data file or directory')\n",
    "    parser.add_argument('--ckpt', type=str, default=None, help='specify the pretrained model')\n",
    "    parser.add_argument('--ext', type=str, default='.bin', help='specify the extension of your point cloud data file')\n",
    "\n",
    "    args = parser.parse_args()\n",
    "\n",
    "    cfg_from_yaml_file(args.cfg_file, cfg)\n",
    "\n",
    "    return args, cfg\n",
    "\n",
    "\n",
    "def main():\n",
    "    args, cfg = parse_config()\n",
    "    logger = common_utils.create_logger()\n",
    "    logger.info('-----------------Quick Demo of OpenPCDet-------------------------')\n",
    "    demo_dataset = DemoDataset(\n",
    "        dataset_cfg=cfg.DATA_CONFIG, class_names=cfg.CLASS_NAMES, training=False,\n",
    "        root_path=Path(args.data_path), ext=args.ext, logger=logger\n",
    "    )\n",
    "    logger.info(f'Total number of samples: \\t{len(demo_dataset)}')\n",
    "\n",
    "    model = build_network(model_cfg=cfg.MODEL, num_class=len(cfg.CLASS_NAMES), dataset=demo_dataset)\n",
    "    model.load_params_from_file(filename=args.ckpt, logger=logger, to_cpu=True)\n",
    "    model.cuda()\n",
    "    model.eval()\n",
    "    with torch.no_grad():\n",
    "        for idx, data_dict in enumerate(demo_dataset):\n",
    "            logger.info(f'Visualized sample index: \\t{idx + 1}')\n",
    "            data_dict = demo_dataset.collate_batch([data_dict])\n",
    "            load_data_to_gpu(data_dict)\n",
    "            pred_dicts, _ = model.forward(data_dict)\n",
    "\n",
    "            V.draw_scenes(\n",
    "                points=data_dict['points'][:, 1:], ref_boxes=pred_dicts[0]['pred_boxes'],\n",
    "                ref_scores=pred_dicts[0]['pred_scores'], ref_labels=pred_dicts[0]['pred_labels']\n",
    "            )\n",
    "\n",
    "            if not OPEN3D_FLAG:\n",
    "                mlab.show(stop=True)\n",
    "\n",
    "    logger.info('Demo done.')\n",
    "\n",
    "\n",
    "if __name__ == '__main__':\n",
    "    main()"
   ]
  }
 ],
 "metadata": {
  "kernelspec": {
   "display_name": "Python 3 (ipykernel)",
   "language": "python",
   "name": "python3"
  },
  "language_info": {
   "codemirror_mode": {
    "name": "ipython",
    "version": 3
   },
   "file_extension": ".py",
   "mimetype": "text/x-python",
   "name": "python",
   "nbconvert_exporter": "python",
   "pygments_lexer": "ipython3",
   "version": "3.9.15"
  }
 },
 "nbformat": 4,
 "nbformat_minor": 5
}
