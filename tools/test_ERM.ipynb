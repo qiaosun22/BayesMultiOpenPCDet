{
 "cells": [
  {
   "cell_type": "markdown",
   "id": "262d683d-4c38-4ecc-92b0-e8fbaa386662",
   "metadata": {},
   "source": [
    "加噪声测试\n",
    "\n",
    "已完成：调整学习率，降低代码复杂度"
   ]
  },
  {
   "cell_type": "code",
   "execution_count": 1,
   "id": "87f7a3b7-423e-48d0-aef4-3d6f53af4196",
   "metadata": {
    "ExecutionIndicator": {
     "show": true
    },
    "execution": {
     "iopub.execute_input": "2023-07-28T06:31:22.263975Z",
     "iopub.status.busy": "2023-07-28T06:31:22.263836Z",
     "iopub.status.idle": "2023-07-28T17:56:05.224288Z",
     "shell.execute_reply": "2023-07-28T17:56:05.222185Z",
     "shell.execute_reply.started": "2023-07-28T06:31:22.263959Z"
    },
    "tags": []
   },
   "outputs": [
    {
     "name": "stderr",
     "output_type": "stream",
     "text": [
      "2023-07-28 14:31:28,278   INFO  Loading KITTI dataset\n",
      "2023-07-28 14:31:28,367   INFO  Total samples for KITTI dataset: 3769\n"
     ]
    },
    {
     "name": "stdout",
     "output_type": "stream",
     "text": [
      "Using GPU:0\n",
      "file: I-V_data_1.5um_length_200nm_diameter_BT_4V_NA_third_etch_10min_Pb_ED_1h_180C_MAI_no_100nm_Ag_memory_8V_carbon_paste_no_wait_2.xlsx, sigma: 0.06283342003106338, usability: 0.25709728349414823, evaluate-0\n"
     ]
    },
    {
     "name": "stderr",
     "output_type": "stream",
     "text": [
      "eval: 100%|█████████▉| 942/943 [03:37<00:00, 23.65it/s]2023-07-28 14:35:08,423   INFO  Average predicted number of objects(3769 samples): 29.402\n",
      "eval: 100%|██████████| 943/943 [04:02<00:00,  3.89it/s]\n"
     ]
    },
    {
     "name": "stdout",
     "output_type": "stream",
     "text": [
      "{'recall/roi_0.3': 0.0, 'recall/rcnn_0.3': 0.0, 'recall/roi_0.5': 0.0, 'recall/rcnn_0.5': 0.0, 'recall/roi_0.7': 0.0, 'recall/rcnn_0.7': 0.0, 'Car_aos/easy_R40': 81.17413642832881, 'Car_aos/moderate_R40': 60.220448244064286, 'Car_aos/hard_R40': 57.27582521188113, 'Car_3d/easy_R40': 53.62619992615092, 'Car_3d/moderate_R40': 38.82763954006037, 'Car_3d/hard_R40': 36.125542680757064, 'Car_bev/easy_R40': 84.13545165784733, 'Car_bev/moderate_R40': 64.422577747004, 'Car_bev/hard_R40': 60.91943451631443, 'Car_image/easy_R40': 82.78536574940411, 'Car_image/moderate_R40': 62.83581745261938, 'Car_image/hard_R40': 60.38759723887047, 'Pedestrian_aos/easy_R40': 12.14151677393597, 'Pedestrian_aos/moderate_R40': 11.602034146692297, 'Pedestrian_aos/hard_R40': 10.538112837068384, 'Pedestrian_3d/easy_R40': 1.8626957175431165, 'Pedestrian_3d/moderate_R40': 2.0274081618662247, 'Pedestrian_3d/hard_R40': 1.8853548428729303, 'Pedestrian_bev/easy_R40': 7.5736523191511225, 'Pedestrian_bev/moderate_R40': 8.181317531766103, 'Pedestrian_bev/hard_R40': 7.938165864204044, 'Pedestrian_image/easy_R40': 28.181246291955812, 'Pedestrian_image/moderate_R40': 26.8019177096599, 'Pedestrian_image/hard_R40': 24.618807565435397, 'Cyclist_aos/easy_R40': 25.55316226035179, 'Cyclist_aos/moderate_R40': 15.215006045192927, 'Cyclist_aos/hard_R40': 14.01966399093609, 'Cyclist_3d/easy_R40': 22.734779924271532, 'Cyclist_3d/moderate_R40': 12.724744987336992, 'Cyclist_3d/hard_R40': 11.538750230050795, 'Cyclist_bev/easy_R40': 34.25104481296426, 'Cyclist_bev/moderate_R40': 19.176353800148384, 'Cyclist_bev/hard_R40': 17.67186859120099, 'Cyclist_image/easy_R40': 28.57909359625415, 'Cyclist_image/moderate_R40': 17.147392233813935, 'Cyclist_image/hard_R40': 15.929203226059425}\n",
      "file: I-V_data_1.5um_length_200nm_diameter_BT_4V_NA_third_etch_10min_Pb_ED_1h_180C_MAI_no_100nm_Ag_memory_8V_carbon_paste_no_wait_2.xlsx, sigma: 0.06283342003106338, usability: 0.25709728349414823, evaluate-1\n"
     ]
    },
    {
     "name": "stderr",
     "output_type": "stream",
     "text": [
      "eval: 100%|█████████▉| 942/943 [03:26<00:00, 22.64it/s]2023-07-28 14:39:00,455   INFO  Average predicted number of objects(3769 samples): 26.417\n",
      "eval: 100%|██████████| 943/943 [03:42<00:00,  4.24it/s]\n"
     ]
    },
    {
     "name": "stdout",
     "output_type": "stream",
     "text": [
      "{'recall/roi_0.3': 0.0, 'recall/rcnn_0.3': 0.0, 'recall/roi_0.5': 0.0, 'recall/rcnn_0.5': 0.0, 'recall/roi_0.7': 0.0, 'recall/rcnn_0.7': 0.0, 'Car_aos/easy_R40': 66.72838162375567, 'Car_aos/moderate_R40': 45.62553748410322, 'Car_aos/hard_R40': 41.27977549341921, 'Car_3d/easy_R40': 22.834188705861543, 'Car_3d/moderate_R40': 15.84768571008032, 'Car_3d/hard_R40': 13.87829280682689, 'Car_bev/easy_R40': 76.66755093431547, 'Car_bev/moderate_R40': 53.42215324006007, 'Car_bev/hard_R40': 48.862762942519936, 'Car_image/easy_R40': 67.44640553606766, 'Car_image/moderate_R40': 46.700257373073704, 'Car_image/hard_R40': 42.66424211719394, 'Pedestrian_aos/easy_R40': 5.183872292454927, 'Pedestrian_aos/moderate_R40': 4.60652628381631, 'Pedestrian_aos/hard_R40': 4.3407566473152, 'Pedestrian_3d/easy_R40': 0.13652597275762815, 'Pedestrian_3d/moderate_R40': 0.1520829322764954, 'Pedestrian_3d/hard_R40': 0.18851204922200968, 'Pedestrian_bev/easy_R40': 1.304136731956688, 'Pedestrian_bev/moderate_R40': 1.2841983870849305, 'Pedestrian_bev/hard_R40': 1.3045620488711895, 'Pedestrian_image/easy_R40': 9.709518757790683, 'Pedestrian_image/moderate_R40': 8.61620457615986, 'Pedestrian_image/hard_R40': 8.185627894266565, 'Cyclist_aos/easy_R40': 12.42188359556281, 'Cyclist_aos/moderate_R40': 6.765909366323575, 'Cyclist_aos/hard_R40': 6.172111157836415, 'Cyclist_3d/easy_R40': 6.70286750729967, 'Cyclist_3d/moderate_R40': 3.255321308852108, 'Cyclist_3d/hard_R40': 2.923099390214319, 'Cyclist_bev/easy_R40': 13.121005224294155, 'Cyclist_bev/moderate_R40': 6.922023908960612, 'Cyclist_bev/hard_R40': 6.233469354617643, 'Cyclist_image/easy_R40': 13.87636763556922, 'Cyclist_image/moderate_R40': 7.79693043270767, 'Cyclist_image/hard_R40': 7.2680122451313585}\n",
      "file: I-V_data_1.5um_length_200nm_diameter_BT_4V_NA_third_etch_10min_Pb_ED_1h_180C_MAI_no_100nm_Ag_memory_8V_carbon_paste_no_wait_2.xlsx, sigma: 0.06283342003106338, usability: 0.25709728349414823, evaluate-2\n"
     ]
    },
    {
     "name": "stderr",
     "output_type": "stream",
     "text": [
      "eval: 100%|█████████▉| 942/943 [03:27<00:00, 24.71it/s]2023-07-28 14:42:44,027   INFO  Average predicted number of objects(3769 samples): 14.998\n",
      "eval: 100%|██████████| 943/943 [03:40<00:00,  4.28it/s]\n"
     ]
    },
    {
     "name": "stdout",
     "output_type": "stream",
     "text": [
      "{'recall/roi_0.3': 0.0, 'recall/rcnn_0.3': 0.0, 'recall/roi_0.5': 0.0, 'recall/rcnn_0.5': 0.0, 'recall/roi_0.7': 0.0, 'recall/rcnn_0.7': 0.0, 'Car_aos/easy_R40': 64.77927247349726, 'Car_aos/moderate_R40': 44.13457610180991, 'Car_aos/hard_R40': 40.89248795197715, 'Car_3d/easy_R40': 24.645556358320945, 'Car_3d/moderate_R40': 17.34331582661501, 'Car_3d/hard_R40': 15.807483806505404, 'Car_bev/easy_R40': 72.28680104751287, 'Car_bev/moderate_R40': 48.00823344145158, 'Car_bev/hard_R40': 44.24126495365465, 'Car_image/easy_R40': 65.60445548177418, 'Car_image/moderate_R40': 45.25350020589515, 'Car_image/hard_R40': 42.339239719855335, 'Pedestrian_aos/easy_R40': 16.9954152763706, 'Pedestrian_aos/moderate_R40': 14.936737573273232, 'Pedestrian_aos/hard_R40': 13.029055026949296, 'Pedestrian_3d/easy_R40': 1.8521183792346747, 'Pedestrian_3d/moderate_R40': 1.8200135406708866, 'Pedestrian_3d/hard_R40': 1.5481883275696615, 'Pedestrian_bev/easy_R40': 6.376222339369836, 'Pedestrian_bev/moderate_R40': 6.221487675313426, 'Pedestrian_bev/hard_R40': 5.519881423746048, 'Pedestrian_image/easy_R40': 33.10815189467938, 'Pedestrian_image/moderate_R40': 29.219407234536394, 'Pedestrian_image/hard_R40': 25.390203167211727, 'Cyclist_aos/easy_R40': 27.921177561408605, 'Cyclist_aos/moderate_R40': 15.296857829187399, 'Cyclist_aos/hard_R40': 14.530546587771656, 'Cyclist_3d/easy_R40': 17.85190057236699, 'Cyclist_3d/moderate_R40': 9.983815519450525, 'Cyclist_3d/hard_R40': 9.913760313407764, 'Cyclist_bev/easy_R40': 37.33556132395274, 'Cyclist_bev/moderate_R40': 20.666803867413627, 'Cyclist_bev/hard_R40': 19.51392359622697, 'Cyclist_image/easy_R40': 33.97061561917521, 'Cyclist_image/moderate_R40': 18.88105064331385, 'Cyclist_image/hard_R40': 18.16456209427424}\n",
      "file: I-V_data_1.5um_length_200nm_diameter_BT_4V_NA_third_etch_10min_Pb_ED_1h_180C_MAI_no_100nm_Ag_memory_8V_carbon_paste_no_wait_2.xlsx, sigma: 0.06283342003106338, usability: 0.25709728349414823, evaluate-3\n"
     ]
    },
    {
     "name": "stderr",
     "output_type": "stream",
     "text": [
      "eval: 100%|█████████▉| 942/943 [03:24<00:00, 23.70it/s]2023-07-28 14:46:22,386   INFO  Average predicted number of objects(3769 samples): 24.373\n",
      "eval: 100%|██████████| 943/943 [03:39<00:00,  4.31it/s]\n"
     ]
    },
    {
     "name": "stdout",
     "output_type": "stream",
     "text": [
      "{'recall/roi_0.3': 0.0, 'recall/rcnn_0.3': 0.0, 'recall/roi_0.5': 0.0, 'recall/rcnn_0.5': 0.0, 'recall/roi_0.7': 0.0, 'recall/rcnn_0.7': 0.0, 'Car_aos/easy_R40': 78.1258173400788, 'Car_aos/moderate_R40': 55.78485336049739, 'Car_aos/hard_R40': 52.19932671634203, 'Car_3d/easy_R40': 59.90143442695164, 'Car_3d/moderate_R40': 41.92105272417688, 'Car_3d/hard_R40': 38.40865482872075, 'Car_bev/easy_R40': 83.97619669561634, 'Car_bev/moderate_R40': 61.59567558646022, 'Car_bev/hard_R40': 57.63373074138145, 'Car_image/easy_R40': 85.17786090449835, 'Car_image/moderate_R40': 62.4220145146738, 'Car_image/hard_R40': 59.46606212916479, 'Pedestrian_aos/easy_R40': 13.124388187439651, 'Pedestrian_aos/moderate_R40': 11.42804775041062, 'Pedestrian_aos/hard_R40': 10.012161338291728, 'Pedestrian_3d/easy_R40': 1.102642006227638, 'Pedestrian_3d/moderate_R40': 0.9515369626703074, 'Pedestrian_3d/hard_R40': 0.8139570649274088, 'Pedestrian_bev/easy_R40': 3.8901751084449177, 'Pedestrian_bev/moderate_R40': 3.5217017947559484, 'Pedestrian_bev/hard_R40': 3.19550711004203, 'Pedestrian_image/easy_R40': 26.663804166468267, 'Pedestrian_image/moderate_R40': 23.219711964087107, 'Pedestrian_image/hard_R40': 20.570900166027723, 'Cyclist_aos/easy_R40': 13.469025396008194, 'Cyclist_aos/moderate_R40': 6.943344947190081, 'Cyclist_aos/hard_R40': 6.58718265821911, 'Cyclist_3d/easy_R40': 13.348805918062844, 'Cyclist_3d/moderate_R40': 7.175508400964846, 'Cyclist_3d/hard_R40': 6.295759098563973, 'Cyclist_bev/easy_R40': 22.388926798561602, 'Cyclist_bev/moderate_R40': 11.154214681900399, 'Cyclist_bev/hard_R40': 11.025016387182156, 'Cyclist_image/easy_R40': 20.00236197835449, 'Cyclist_image/moderate_R40': 10.5551817931867, 'Cyclist_image/hard_R40': 9.976444497588165}\n",
      "file: I-V_data_1.5um_length_200nm_diameter_BT_4V_NA_third_etch_10min_Pb_ED_1h_180C_MAI_no_100nm_Ag_memory_8V_carbon_paste_no_wait_2.xlsx, sigma: 0.06283342003106338, usability: 0.25709728349414823, evaluate-4\n"
     ]
    },
    {
     "name": "stderr",
     "output_type": "stream",
     "text": [
      "eval: 100%|█████████▉| 942/943 [03:25<00:00, 22.95it/s]2023-07-28 14:50:03,846   INFO  Average predicted number of objects(3769 samples): 25.622\n",
      "eval: 100%|██████████| 943/943 [03:41<00:00,  4.26it/s]\n"
     ]
    },
    {
     "name": "stdout",
     "output_type": "stream",
     "text": [
      "{'recall/roi_0.3': 0.0, 'recall/rcnn_0.3': 0.0, 'recall/roi_0.5': 0.0, 'recall/rcnn_0.5': 0.0, 'recall/roi_0.7': 0.0, 'recall/rcnn_0.7': 0.0, 'Car_aos/easy_R40': 63.91252905222656, 'Car_aos/moderate_R40': 47.36513334256492, 'Car_aos/hard_R40': 44.03186410309253, 'Car_3d/easy_R40': 33.47515918618511, 'Car_3d/moderate_R40': 26.689029672119137, 'Car_3d/hard_R40': 24.06596472451828, 'Car_bev/easy_R40': 88.58889385389406, 'Car_bev/moderate_R40': 74.37044089628967, 'Car_bev/hard_R40': 69.47462741329439, 'Car_image/easy_R40': 67.24755176122225, 'Car_image/moderate_R40': 51.32411255971922, 'Car_image/hard_R40': 48.26646064881256, 'Pedestrian_aos/easy_R40': 13.865502736853564, 'Pedestrian_aos/moderate_R40': 12.869858230973483, 'Pedestrian_aos/hard_R40': 11.614997052425949, 'Pedestrian_3d/easy_R40': 1.4512695576379724, 'Pedestrian_3d/moderate_R40': 1.458479037455696, 'Pedestrian_3d/hard_R40': 1.2734247703458814, 'Pedestrian_bev/easy_R40': 9.055677471251112, 'Pedestrian_bev/moderate_R40': 9.674296837301611, 'Pedestrian_bev/hard_R40': 8.660229053886262, 'Pedestrian_image/easy_R40': 24.240251174693995, 'Pedestrian_image/moderate_R40': 22.54800956712668, 'Pedestrian_image/hard_R40': 20.577889653187658, 'Cyclist_aos/easy_R40': 24.145458805908607, 'Cyclist_aos/moderate_R40': 13.391540059874426, 'Cyclist_aos/hard_R40': 12.637515239293364, 'Cyclist_3d/easy_R40': 12.885351161988487, 'Cyclist_3d/moderate_R40': 7.07535926953429, 'Cyclist_3d/hard_R40': 6.505447811833302, 'Cyclist_bev/easy_R40': 35.07815235452952, 'Cyclist_bev/moderate_R40': 19.25866233420753, 'Cyclist_bev/hard_R40': 17.520388678337433, 'Cyclist_image/easy_R40': 27.0455139659565, 'Cyclist_image/moderate_R40': 15.113205286678017, 'Cyclist_image/hard_R40': 14.246016971181117}\n",
      "file: I-V_data_1.5um_length_200nm_diameter_BT_4V_NA_third_etch_10min_Pb_ED_1h_180C_MAI_no_100nm_Ag_memory_8V_carbon_paste_no_wait_2.xlsx, sigma: 0.06283342003106338, usability: 0.25709728349414823, evaluate-5\n"
     ]
    },
    {
     "name": "stderr",
     "output_type": "stream",
     "text": [
      "eval: 100%|█████████▉| 942/943 [03:24<00:00, 26.42it/s]2023-07-28 14:53:45,334   INFO  Average predicted number of objects(3769 samples): 38.548\n",
      "eval: 100%|██████████| 943/943 [03:44<00:00,  4.19it/s]\n"
     ]
    },
    {
     "name": "stdout",
     "output_type": "stream",
     "text": [
      "{'recall/roi_0.3': 0.0, 'recall/rcnn_0.3': 0.0, 'recall/roi_0.5': 0.0, 'recall/rcnn_0.5': 0.0, 'recall/roi_0.7': 0.0, 'recall/rcnn_0.7': 0.0, 'Car_aos/easy_R40': 72.9624823237275, 'Car_aos/moderate_R40': 54.19542835171909, 'Car_aos/hard_R40': 50.16699923712722, 'Car_3d/easy_R40': 44.11521702545638, 'Car_3d/moderate_R40': 32.05659677044309, 'Car_3d/hard_R40': 29.21872343800248, 'Car_bev/easy_R40': 85.84683269886612, 'Car_bev/moderate_R40': 68.62593494355409, 'Car_bev/hard_R40': 63.68165711311288, 'Car_image/easy_R40': 76.76281536311284, 'Car_image/moderate_R40': 58.79018765789057, 'Car_image/hard_R40': 55.632803666831585, 'Pedestrian_aos/easy_R40': 13.25790821939528, 'Pedestrian_aos/moderate_R40': 12.360397415536358, 'Pedestrian_aos/hard_R40': 11.126241550042142, 'Pedestrian_3d/easy_R40': 5.814164975449574, 'Pedestrian_3d/moderate_R40': 5.677291227935545, 'Pedestrian_3d/hard_R40': 5.2512162340036745, 'Pedestrian_bev/easy_R40': 14.39226778562967, 'Pedestrian_bev/moderate_R40': 14.390399679711749, 'Pedestrian_bev/hard_R40': 13.576391487768285, 'Pedestrian_image/easy_R40': 27.18376832081747, 'Pedestrian_image/moderate_R40': 25.130318751034192, 'Pedestrian_image/hard_R40': 23.189371413439158, 'Cyclist_aos/easy_R40': 25.55867744331618, 'Cyclist_aos/moderate_R40': 15.17868480266798, 'Cyclist_aos/hard_R40': 13.919057617116474, 'Cyclist_3d/easy_R40': 15.538500473240138, 'Cyclist_3d/moderate_R40': 9.461275445008647, 'Cyclist_3d/hard_R40': 8.222198880154446, 'Cyclist_bev/easy_R40': 30.3542055801049, 'Cyclist_bev/moderate_R40': 17.7601412035416, 'Cyclist_bev/hard_R40': 16.10053149207041, 'Cyclist_image/easy_R40': 28.91863377219954, 'Cyclist_image/moderate_R40': 17.196010989161525, 'Cyclist_image/hard_R40': 15.959451521866228}\n",
      "file: I-V_data_1.5um_length_200nm_diameter_BT_4V_NA_third_etch_10min_Pb_ED_1h_180C_MAI_no_100nm_Ag_memory_8V_carbon_paste_no_wait_2.xlsx, sigma: 0.06283342003106338, usability: 0.25709728349414823, evaluate-6\n"
     ]
    },
    {
     "name": "stderr",
     "output_type": "stream",
     "text": [
      "eval: 100%|█████████▉| 942/943 [03:24<00:00, 27.64it/s]2023-07-28 14:57:29,894   INFO  Average predicted number of objects(3769 samples): 23.181\n",
      "eval: 100%|██████████| 943/943 [03:38<00:00,  4.31it/s]\n"
     ]
    },
    {
     "name": "stdout",
     "output_type": "stream",
     "text": [
      "{'recall/roi_0.3': 0.0, 'recall/rcnn_0.3': 0.0, 'recall/roi_0.5': 0.0, 'recall/rcnn_0.5': 0.0, 'recall/roi_0.7': 0.0, 'recall/rcnn_0.7': 0.0, 'Car_aos/easy_R40': 64.40395891350109, 'Car_aos/moderate_R40': 48.34518668713238, 'Car_aos/hard_R40': 44.85647113791198, 'Car_3d/easy_R40': 22.98590939200363, 'Car_3d/moderate_R40': 18.827198889576973, 'Car_3d/hard_R40': 17.153898246049092, 'Car_bev/easy_R40': 87.19049533017746, 'Car_bev/moderate_R40': 68.11246879286476, 'Car_bev/hard_R40': 62.80768117436032, 'Car_image/easy_R40': 65.46225856024385, 'Car_image/moderate_R40': 50.16266325928724, 'Car_image/hard_R40': 47.06280936472289, 'Pedestrian_aos/easy_R40': 17.488131982156112, 'Pedestrian_aos/moderate_R40': 15.981277633367927, 'Pedestrian_aos/hard_R40': 14.259363292129423, 'Pedestrian_3d/easy_R40': 4.531891758037433, 'Pedestrian_3d/moderate_R40': 4.259416840839949, 'Pedestrian_3d/hard_R40': 3.788597544752601, 'Pedestrian_bev/easy_R40': 15.320307119545953, 'Pedestrian_bev/moderate_R40': 14.760262922413123, 'Pedestrian_bev/hard_R40': 13.263363980904854, 'Pedestrian_image/easy_R40': 32.27135833198603, 'Pedestrian_image/moderate_R40': 29.664444140157485, 'Pedestrian_image/hard_R40': 26.76909780635054, 'Cyclist_aos/easy_R40': 29.95934724088345, 'Cyclist_aos/moderate_R40': 17.122993797573287, 'Cyclist_aos/hard_R40': 15.689980994865465, 'Cyclist_3d/easy_R40': 22.421077459255752, 'Cyclist_3d/moderate_R40': 12.881985820722994, 'Cyclist_3d/hard_R40': 11.71952209898041, 'Cyclist_bev/easy_R40': 40.3712802254648, 'Cyclist_bev/moderate_R40': 22.41243125303786, 'Cyclist_bev/hard_R40': 20.677076040348616, 'Cyclist_image/easy_R40': 33.247876260188356, 'Cyclist_image/moderate_R40': 19.250466788787474, 'Cyclist_image/hard_R40': 17.69051396145281}\n",
      "file: I-V_data_1.5um_length_200nm_diameter_BT_4V_NA_third_etch_10min_Pb_ED_1h_180C_MAI_no_100nm_Ag_memory_8V_carbon_paste_no_wait_2.xlsx, sigma: 0.06283342003106338, usability: 0.25709728349414823, evaluate-7\n"
     ]
    },
    {
     "name": "stderr",
     "output_type": "stream",
     "text": [
      "eval: 100%|█████████▉| 942/943 [03:27<00:00, 22.89it/s]2023-07-28 15:01:14,507   INFO  Average predicted number of objects(3769 samples): 7.944\n",
      "eval: 100%|██████████| 943/943 [03:40<00:00,  4.28it/s]\n"
     ]
    },
    {
     "name": "stdout",
     "output_type": "stream",
     "text": [
      "{'recall/roi_0.3': 0.0, 'recall/rcnn_0.3': 0.0, 'recall/roi_0.5': 0.0, 'recall/rcnn_0.5': 0.0, 'recall/roi_0.7': 0.0, 'recall/rcnn_0.7': 0.0, 'Car_aos/easy_R40': 49.56717944374862, 'Car_aos/moderate_R40': 31.54645878372369, 'Car_aos/hard_R40': 27.51541460738277, 'Car_3d/easy_R40': 17.80370770578312, 'Car_3d/moderate_R40': 12.732223212068602, 'Car_3d/hard_R40': 10.913608963511246, 'Car_bev/easy_R40': 54.30524245134221, 'Car_bev/moderate_R40': 34.45290955773626, 'Car_bev/hard_R40': 29.85192897491441, 'Car_image/easy_R40': 51.63694594668282, 'Car_image/moderate_R40': 33.372172381576156, 'Car_image/hard_R40': 29.272788385416693, 'Pedestrian_aos/easy_R40': 11.400471921941342, 'Pedestrian_aos/moderate_R40': 10.003966160024563, 'Pedestrian_aos/hard_R40': 8.750661939436368, 'Pedestrian_3d/easy_R40': 0.5633511316259837, 'Pedestrian_3d/moderate_R40': 0.71206315977759, 'Pedestrian_3d/hard_R40': 0.5523373758060843, 'Pedestrian_bev/easy_R40': 2.754051716177146, 'Pedestrian_bev/moderate_R40': 2.8910004924700017, 'Pedestrian_bev/hard_R40': 2.4550593161830703, 'Pedestrian_image/easy_R40': 25.316798724459925, 'Pedestrian_image/moderate_R40': 22.76920762678827, 'Pedestrian_image/hard_R40': 19.99139812143215, 'Cyclist_aos/easy_R40': 13.762669636735572, 'Cyclist_aos/moderate_R40': 7.505452265188116, 'Cyclist_aos/hard_R40': 6.887159417623245, 'Cyclist_3d/easy_R40': 10.053257358399946, 'Cyclist_3d/moderate_R40': 5.2812951760102935, 'Cyclist_3d/hard_R40': 4.818171634564057, 'Cyclist_bev/easy_R40': 17.278357028106335, 'Cyclist_bev/moderate_R40': 8.949963840712812, 'Cyclist_bev/hard_R40': 8.16885500897161, 'Cyclist_image/easy_R40': 16.054697835431057, 'Cyclist_image/moderate_R40': 8.628964234982266, 'Cyclist_image/hard_R40': 7.924041223663202}\n",
      "file: I-V_data_1.5um_length_200nm_diameter_BT_4V_NA_third_etch_10min_Pb_ED_1h_180C_MAI_no_100nm_Ag_memory_8V_carbon_paste_no_wait_2.xlsx, sigma: 0.06283342003106338, usability: 0.25709728349414823, evaluate-8\n"
     ]
    },
    {
     "name": "stderr",
     "output_type": "stream",
     "text": [
      "eval: 100%|█████████▉| 942/943 [03:27<00:00, 25.39it/s]2023-07-28 15:04:55,250   INFO  Average predicted number of objects(3769 samples): 26.204\n",
      "eval: 100%|██████████| 943/943 [03:43<00:00,  4.23it/s]\n"
     ]
    },
    {
     "name": "stdout",
     "output_type": "stream",
     "text": [
      "{'recall/roi_0.3': 0.0, 'recall/rcnn_0.3': 0.0, 'recall/roi_0.5': 0.0, 'recall/rcnn_0.5': 0.0, 'recall/roi_0.7': 0.0, 'recall/rcnn_0.7': 0.0, 'Car_aos/easy_R40': 60.36129906396146, 'Car_aos/moderate_R40': 39.610434941399696, 'Car_aos/hard_R40': 37.19538824423824, 'Car_3d/easy_R40': 35.94140891525379, 'Car_3d/moderate_R40': 23.16360067732768, 'Car_3d/hard_R40': 21.019538694643884, 'Car_bev/easy_R40': 78.45330485309859, 'Car_bev/moderate_R40': 53.6422565360856, 'Car_bev/hard_R40': 50.53982467282737, 'Car_image/easy_R40': 67.26266444017259, 'Car_image/moderate_R40': 44.791148039452054, 'Car_image/hard_R40': 42.93917792650384, 'Pedestrian_aos/easy_R40': 14.582569966811961, 'Pedestrian_aos/moderate_R40': 13.478000800846793, 'Pedestrian_aos/hard_R40': 11.737310707030113, 'Pedestrian_3d/easy_R40': 1.747092962652793, 'Pedestrian_3d/moderate_R40': 1.621469666097109, 'Pedestrian_3d/hard_R40': 1.5772183800844184, 'Pedestrian_bev/easy_R40': 4.647063634135507, 'Pedestrian_bev/moderate_R40': 4.70419909666317, 'Pedestrian_bev/hard_R40': 4.284783938705752, 'Pedestrian_image/easy_R40': 28.464647298100033, 'Pedestrian_image/moderate_R40': 26.29858863956354, 'Pedestrian_image/hard_R40': 23.103496551999534, 'Cyclist_aos/easy_R40': 19.56229753397039, 'Cyclist_aos/moderate_R40': 10.372987707210994, 'Cyclist_aos/hard_R40': 9.404742225683824, 'Cyclist_3d/easy_R40': 17.145045107484048, 'Cyclist_3d/moderate_R40': 8.830490238532004, 'Cyclist_3d/hard_R40': 8.295480614614075, 'Cyclist_bev/easy_R40': 22.16908573600048, 'Cyclist_bev/moderate_R40': 11.443996192287676, 'Cyclist_bev/hard_R40': 10.753734728277061, 'Cyclist_image/easy_R40': 22.23516157253592, 'Cyclist_image/moderate_R40': 11.953245662576265, 'Cyclist_image/hard_R40': 10.72259522356855}\n",
      "file: I-V_data_1.5um_length_200nm_diameter_BT_4V_NA_third_etch_10min_Pb_ED_1h_180C_MAI_no_100nm_Ag_memory_8V_carbon_paste_no_wait_2.xlsx, sigma: 0.06283342003106338, usability: 0.25709728349414823, evaluate-9\n"
     ]
    },
    {
     "name": "stderr",
     "output_type": "stream",
     "text": [
      "eval: 100%|█████████▉| 942/943 [03:22<00:00, 26.69it/s]2023-07-28 15:08:34,012   INFO  Average predicted number of objects(3769 samples): 14.286\n",
      "eval: 100%|██████████| 943/943 [03:34<00:00,  4.40it/s]\n"
     ]
    },
    {
     "name": "stdout",
     "output_type": "stream",
     "text": [
      "{'recall/roi_0.3': 0.0, 'recall/rcnn_0.3': 0.0, 'recall/roi_0.5': 0.0, 'recall/rcnn_0.5': 0.0, 'recall/roi_0.7': 0.0, 'recall/rcnn_0.7': 0.0, 'Car_aos/easy_R40': 71.60238322987551, 'Car_aos/moderate_R40': 48.08386206320586, 'Car_aos/hard_R40': 45.661832698616536, 'Car_3d/easy_R40': 50.20205873116704, 'Car_3d/moderate_R40': 33.41932539045564, 'Car_3d/hard_R40': 30.255661743319806, 'Car_bev/easy_R40': 72.79573401913565, 'Car_bev/moderate_R40': 49.123886102038085, 'Car_bev/hard_R40': 46.08277075153451, 'Car_image/easy_R40': 75.16518008293272, 'Car_image/moderate_R40': 51.3365686846137, 'Car_image/hard_R40': 49.56585839211648, 'Pedestrian_aos/easy_R40': 13.381038947637386, 'Pedestrian_aos/moderate_R40': 12.494094243311713, 'Pedestrian_aos/hard_R40': 11.174037549468602, 'Pedestrian_3d/easy_R40': 1.2922722329664427, 'Pedestrian_3d/moderate_R40': 1.4135795088756076, 'Pedestrian_3d/hard_R40': 1.3941162155827276, 'Pedestrian_bev/easy_R40': 4.805916890620304, 'Pedestrian_bev/moderate_R40': 5.048645815139836, 'Pedestrian_bev/hard_R40': 4.915426917692703, 'Pedestrian_image/easy_R40': 32.308536858304606, 'Pedestrian_image/moderate_R40': 29.30951389505948, 'Pedestrian_image/hard_R40': 26.582792599590277, 'Cyclist_aos/easy_R40': 25.987882728348033, 'Cyclist_aos/moderate_R40': 14.59486938073821, 'Cyclist_aos/hard_R40': 13.49124707242226, 'Cyclist_3d/easy_R40': 21.04933983780169, 'Cyclist_3d/moderate_R40': 11.188283363604931, 'Cyclist_3d/hard_R40': 10.463640505697683, 'Cyclist_bev/easy_R40': 27.644724830940593, 'Cyclist_bev/moderate_R40': 15.090000152705734, 'Cyclist_bev/hard_R40': 13.776945831811263, 'Cyclist_image/easy_R40': 28.12158873487032, 'Cyclist_image/moderate_R40': 15.992733022514901, 'Cyclist_image/hard_R40': 14.856033545823816}\n",
      "file: I-V_data_1.5um_length_200nm_diameter_BT_2V_NA_third_etch_15min_Pb_ED_3h_180C_MAI_no_200nm_Ag_memory_4V_carbon_paste_wait_1min.xlsx, sigma: 0.10334850013273904, usability: 0.19108097741472657, evaluate-0\n"
     ]
    },
    {
     "name": "stderr",
     "output_type": "stream",
     "text": [
      "eval: 100%|█████████▉| 942/943 [03:22<00:00, 25.61it/s]2023-07-28 15:12:09,980   INFO  Average predicted number of objects(3769 samples): 58.884\n",
      "eval: 100%|██████████| 943/943 [03:48<00:00,  4.14it/s]\n"
     ]
    },
    {
     "name": "stdout",
     "output_type": "stream",
     "text": [
      "{'recall/roi_0.3': 0.0, 'recall/rcnn_0.3': 0.0, 'recall/roi_0.5': 0.0, 'recall/rcnn_0.5': 0.0, 'recall/roi_0.7': 0.0, 'recall/rcnn_0.7': 0.0, 'Car_aos/easy_R40': 50.978846146285036, 'Car_aos/moderate_R40': 41.78885033783436, 'Car_aos/hard_R40': 38.69853303003993, 'Car_3d/easy_R40': 1.1066414524296884, 'Car_3d/moderate_R40': 1.5278941329684987, 'Car_3d/hard_R40': 1.592723934775305, 'Car_bev/easy_R40': 39.95478114977216, 'Car_bev/moderate_R40': 41.129644504597266, 'Car_bev/hard_R40': 41.13620065018792, 'Car_image/easy_R40': 51.39970773062365, 'Car_image/moderate_R40': 42.370628684510656, 'Car_image/hard_R40': 39.54342398077108, 'Pedestrian_aos/easy_R40': 4.8020685574761615, 'Pedestrian_aos/moderate_R40': 4.210305034804736, 'Pedestrian_aos/hard_R40': 4.090176409088656, 'Pedestrian_3d/easy_R40': 1.8384990789260929, 'Pedestrian_3d/moderate_R40': 1.6459089603603643, 'Pedestrian_3d/hard_R40': 1.4585879901264833, 'Pedestrian_bev/easy_R40': 8.871729271878081, 'Pedestrian_bev/moderate_R40': 8.301342435718942, 'Pedestrian_bev/hard_R40': 7.94057514448156, 'Pedestrian_image/easy_R40': 9.233236370464354, 'Pedestrian_image/moderate_R40': 8.013050236455383, 'Pedestrian_image/hard_R40': 7.790932550940124, 'Cyclist_aos/easy_R40': 24.137837393180924, 'Cyclist_aos/moderate_R40': 16.930728894787556, 'Cyclist_aos/hard_R40': 15.6863216621656, 'Cyclist_3d/easy_R40': 10.461279039003449, 'Cyclist_3d/moderate_R40': 6.192615290005662, 'Cyclist_3d/hard_R40': 5.665046174655368, 'Cyclist_bev/easy_R40': 31.590644303206716, 'Cyclist_bev/moderate_R40': 20.03988389341235, 'Cyclist_bev/hard_R40': 18.08183173859156, 'Cyclist_image/easy_R40': 27.163068844436577, 'Cyclist_image/moderate_R40': 19.885900162116428, 'Cyclist_image/hard_R40': 18.363079434332498}\n",
      "file: I-V_data_1.5um_length_200nm_diameter_BT_2V_NA_third_etch_15min_Pb_ED_3h_180C_MAI_no_200nm_Ag_memory_4V_carbon_paste_wait_1min.xlsx, sigma: 0.10334850013273904, usability: 0.19108097741472657, evaluate-1\n"
     ]
    },
    {
     "name": "stderr",
     "output_type": "stream",
     "text": [
      "eval: 100%|█████████▉| 942/943 [03:31<00:00, 26.67it/s]2023-07-28 15:16:09,112   INFO  Average predicted number of objects(3769 samples): 55.903\n",
      "eval: 100%|██████████| 943/943 [03:58<00:00,  3.96it/s]\n"
     ]
    },
    {
     "name": "stdout",
     "output_type": "stream",
     "text": [
      "{'recall/roi_0.3': 0.0, 'recall/rcnn_0.3': 0.0, 'recall/roi_0.5': 0.0, 'recall/rcnn_0.5': 0.0, 'recall/roi_0.7': 0.0, 'recall/rcnn_0.7': 0.0, 'Car_aos/easy_R40': 72.72991489044162, 'Car_aos/moderate_R40': 62.9278616416528, 'Car_aos/hard_R40': 60.041436310881366, 'Car_3d/easy_R40': 7.392601243177246, 'Car_3d/moderate_R40': 8.594136523167714, 'Car_3d/hard_R40': 9.294028726340013, 'Car_bev/easy_R40': 71.19677009674183, 'Car_bev/moderate_R40': 63.085144020093075, 'Car_bev/hard_R40': 60.62279356645318, 'Car_image/easy_R40': 72.99833883586999, 'Car_image/moderate_R40': 63.50699815822073, 'Car_image/hard_R40': 60.741371631917985, 'Pedestrian_aos/easy_R40': 12.557382179259264, 'Pedestrian_aos/moderate_R40': 9.75212276491519, 'Pedestrian_aos/hard_R40': 9.422439849156115, 'Pedestrian_3d/easy_R40': 18.078006051091048, 'Pedestrian_3d/moderate_R40': 13.765469654625711, 'Pedestrian_3d/hard_R40': 12.533142295216143, 'Pedestrian_bev/easy_R40': 24.598273821808597, 'Pedestrian_bev/moderate_R40': 19.437841414699424, 'Pedestrian_bev/hard_R40': 18.174250631444867, 'Pedestrian_image/easy_R40': 23.698861181508644, 'Pedestrian_image/moderate_R40': 18.724972500849262, 'Pedestrian_image/hard_R40': 18.145264054279586, 'Cyclist_aos/easy_R40': 56.31886740256517, 'Cyclist_aos/moderate_R40': 39.64088402801509, 'Cyclist_aos/hard_R40': 37.242112678545034, 'Cyclist_3d/easy_R40': 50.56435741473304, 'Cyclist_3d/moderate_R40': 31.87112494509252, 'Cyclist_3d/hard_R40': 29.63997370472192, 'Cyclist_bev/easy_R40': 57.5434497632181, 'Cyclist_bev/moderate_R40': 38.12223608645541, 'Cyclist_bev/hard_R40': 35.530313085729034, 'Cyclist_image/easy_R40': 60.781487867259266, 'Cyclist_image/moderate_R40': 44.19595640289142, 'Cyclist_image/hard_R40': 41.84106249424357}\n",
      "file: I-V_data_1.5um_length_200nm_diameter_BT_2V_NA_third_etch_15min_Pb_ED_3h_180C_MAI_no_200nm_Ag_memory_4V_carbon_paste_wait_1min.xlsx, sigma: 0.10334850013273904, usability: 0.19108097741472657, evaluate-2\n"
     ]
    },
    {
     "name": "stderr",
     "output_type": "stream",
     "text": [
      "eval: 100%|█████████▉| 942/943 [03:29<00:00, 25.77it/s]2023-07-28 15:20:06,911   INFO  Average predicted number of objects(3769 samples): 45.027\n",
      "eval: 100%|██████████| 943/943 [03:53<00:00,  4.05it/s]\n"
     ]
    },
    {
     "name": "stdout",
     "output_type": "stream",
     "text": [
      "{'recall/roi_0.3': 0.0, 'recall/rcnn_0.3': 0.0, 'recall/roi_0.5': 0.0, 'recall/rcnn_0.5': 0.0, 'recall/roi_0.7': 0.0, 'recall/rcnn_0.7': 0.0, 'Car_aos/easy_R40': 92.04034910245636, 'Car_aos/moderate_R40': 74.85943856538323, 'Car_aos/hard_R40': 70.87055315377428, 'Car_3d/easy_R40': 66.33399898105242, 'Car_3d/moderate_R40': 51.30349189352486, 'Car_3d/hard_R40': 46.72649501331379, 'Car_bev/easy_R40': 86.82211968258112, 'Car_bev/moderate_R40': 73.63206469181438, 'Car_bev/hard_R40': 67.94749738614911, 'Car_image/easy_R40': 93.4006171711622, 'Car_image/moderate_R40': 76.9997592196176, 'Car_image/hard_R40': 73.66595643033192, 'Pedestrian_aos/easy_R40': 15.81180975355861, 'Pedestrian_aos/moderate_R40': 14.104955631595656, 'Pedestrian_aos/hard_R40': 13.287238038683952, 'Pedestrian_3d/easy_R40': 33.66097419871178, 'Pedestrian_3d/moderate_R40': 29.8855679317627, 'Pedestrian_3d/hard_R40': 27.08491905737402, 'Pedestrian_bev/easy_R40': 39.16286207367389, 'Pedestrian_bev/moderate_R40': 34.544598520356615, 'Pedestrian_bev/hard_R40': 31.847559715063323, 'Pedestrian_image/easy_R40': 33.41322199618706, 'Pedestrian_image/moderate_R40': 29.96705282376963, 'Pedestrian_image/hard_R40': 28.290573310565932, 'Cyclist_aos/easy_R40': 57.928628089464496, 'Cyclist_aos/moderate_R40': 40.07721811481889, 'Cyclist_aos/hard_R40': 37.20771089615035, 'Cyclist_3d/easy_R40': 51.84045804528961, 'Cyclist_3d/moderate_R40': 34.313864632486876, 'Cyclist_3d/hard_R40': 31.875057845606808, 'Cyclist_bev/easy_R40': 62.27418195252056, 'Cyclist_bev/moderate_R40': 41.561657744650695, 'Cyclist_bev/hard_R40': 38.82508285855322, 'Cyclist_image/easy_R40': 64.70142372545695, 'Cyclist_image/moderate_R40': 45.960656628285626, 'Cyclist_image/hard_R40': 43.1175351478728}\n",
      "file: I-V_data_1.5um_length_200nm_diameter_BT_2V_NA_third_etch_15min_Pb_ED_3h_180C_MAI_no_200nm_Ag_memory_4V_carbon_paste_wait_1min.xlsx, sigma: 0.10334850013273904, usability: 0.19108097741472657, evaluate-3\n"
     ]
    },
    {
     "name": "stderr",
     "output_type": "stream",
     "text": [
      "eval: 100%|█████████▉| 942/943 [03:31<00:00, 23.59it/s]2023-07-28 15:24:05,234   INFO  Average predicted number of objects(3769 samples): 16.107\n",
      "eval: 100%|██████████| 943/943 [03:45<00:00,  4.19it/s]\n"
     ]
    },
    {
     "name": "stdout",
     "output_type": "stream",
     "text": [
      "{'recall/roi_0.3': 0.0, 'recall/rcnn_0.3': 0.0, 'recall/roi_0.5': 0.0, 'recall/rcnn_0.5': 0.0, 'recall/roi_0.7': 0.0, 'recall/rcnn_0.7': 0.0, 'Car_aos/easy_R40': 68.28509503789068, 'Car_aos/moderate_R40': 59.33049553578115, 'Car_aos/hard_R40': 58.8940264374098, 'Car_3d/easy_R40': 11.390305464363822, 'Car_3d/moderate_R40': 13.170386449281049, 'Car_3d/hard_R40': 14.319919154912805, 'Car_bev/easy_R40': 80.88692479276732, 'Car_bev/moderate_R40': 72.07162003009057, 'Car_bev/hard_R40': 68.76370851294978, 'Car_image/easy_R40': 68.65838220882857, 'Car_image/moderate_R40': 60.020112419127756, 'Car_image/hard_R40': 60.0973236102315, 'Pedestrian_aos/easy_R40': 10.919847997218717, 'Pedestrian_aos/moderate_R40': 9.848845113229197, 'Pedestrian_aos/hard_R40': 9.02509409841071, 'Pedestrian_3d/easy_R40': 24.711237384744646, 'Pedestrian_3d/moderate_R40': 22.437739384195723, 'Pedestrian_3d/hard_R40': 20.29312051139152, 'Pedestrian_bev/easy_R40': 31.20987941545573, 'Pedestrian_bev/moderate_R40': 28.712070141223112, 'Pedestrian_bev/hard_R40': 25.75130594328721, 'Pedestrian_image/easy_R40': 28.96175160666449, 'Pedestrian_image/moderate_R40': 26.715499154255877, 'Pedestrian_image/hard_R40': 24.656523227457157, 'Cyclist_aos/easy_R40': 37.91634634293787, 'Cyclist_aos/moderate_R40': 24.011279798365102, 'Cyclist_aos/hard_R40': 22.26048500940088, 'Cyclist_3d/easy_R40': 44.77635149455235, 'Cyclist_3d/moderate_R40': 27.43283032066885, 'Cyclist_3d/hard_R40': 25.983188529059685, 'Cyclist_bev/easy_R40': 54.53167018073752, 'Cyclist_bev/moderate_R40': 33.55046845431145, 'Cyclist_bev/hard_R40': 31.761076842494973, 'Cyclist_image/easy_R40': 54.94599169162173, 'Cyclist_image/moderate_R40': 34.42728335882153, 'Cyclist_image/hard_R40': 32.80510092739167}\n",
      "file: I-V_data_1.5um_length_200nm_diameter_BT_2V_NA_third_etch_15min_Pb_ED_3h_180C_MAI_no_200nm_Ag_memory_4V_carbon_paste_wait_1min.xlsx, sigma: 0.10334850013273904, usability: 0.19108097741472657, evaluate-4\n"
     ]
    },
    {
     "name": "stderr",
     "output_type": "stream",
     "text": [
      "eval: 100%|█████████▉| 942/943 [03:28<00:00, 25.21it/s]2023-07-28 15:27:49,519   INFO  Average predicted number of objects(3769 samples): 55.834\n",
      "eval: 100%|██████████| 943/943 [03:54<00:00,  4.02it/s]\n"
     ]
    },
    {
     "name": "stdout",
     "output_type": "stream",
     "text": [
      "{'recall/roi_0.3': 0.0, 'recall/rcnn_0.3': 0.0, 'recall/roi_0.5': 0.0, 'recall/rcnn_0.5': 0.0, 'recall/roi_0.7': 0.0, 'recall/rcnn_0.7': 0.0, 'Car_aos/easy_R40': 91.7865165946195, 'Car_aos/moderate_R40': 69.20544006793027, 'Car_aos/hard_R40': 65.78892189869603, 'Car_3d/easy_R40': 54.21035806307945, 'Car_3d/moderate_R40': 40.13675425758238, 'Car_3d/hard_R40': 37.13127072906482, 'Car_bev/easy_R40': 88.86935866678873, 'Car_bev/moderate_R40': 72.68742617393326, 'Car_bev/hard_R40': 67.76464043364803, 'Car_image/easy_R40': 92.06374412492725, 'Car_image/moderate_R40': 70.17861973270692, 'Car_image/hard_R40': 66.95189165244715, 'Pedestrian_aos/easy_R40': 13.175198855562325, 'Pedestrian_aos/moderate_R40': 11.587734749308284, 'Pedestrian_aos/hard_R40': 10.855216206948164, 'Pedestrian_3d/easy_R40': 30.700351725264756, 'Pedestrian_3d/moderate_R40': 26.867169473990444, 'Pedestrian_3d/hard_R40': 24.241328498054617, 'Pedestrian_bev/easy_R40': 35.866272213394, 'Pedestrian_bev/moderate_R40': 31.398891611135184, 'Pedestrian_bev/hard_R40': 28.832830567201327, 'Pedestrian_image/easy_R40': 28.178547281645034, 'Pedestrian_image/moderate_R40': 24.96641359634225, 'Pedestrian_image/hard_R40': 23.845044193481332, 'Cyclist_aos/easy_R40': 31.183046082020745, 'Cyclist_aos/moderate_R40': 21.47322083747672, 'Cyclist_aos/hard_R40': 19.952811052035152, 'Cyclist_3d/easy_R40': 26.91731363741089, 'Cyclist_3d/moderate_R40': 17.40890703084202, 'Cyclist_3d/hard_R40': 16.30978717627258, 'Cyclist_bev/easy_R40': 29.48030206502911, 'Cyclist_bev/moderate_R40': 21.125418740936937, 'Cyclist_bev/hard_R40': 20.32214344231437, 'Cyclist_image/easy_R40': 35.89770938365493, 'Cyclist_image/moderate_R40': 26.236125228911654, 'Cyclist_image/hard_R40': 24.865804859462763}\n",
      "file: I-V_data_1.5um_length_200nm_diameter_BT_2V_NA_third_etch_15min_Pb_ED_3h_180C_MAI_no_200nm_Ag_memory_4V_carbon_paste_wait_1min.xlsx, sigma: 0.10334850013273904, usability: 0.19108097741472657, evaluate-5\n"
     ]
    },
    {
     "name": "stderr",
     "output_type": "stream",
     "text": [
      "eval: 100%|█████████▉| 942/943 [03:28<00:00, 23.70it/s]2023-07-28 15:31:45,894   INFO  Average predicted number of objects(3769 samples): 24.396\n",
      "eval: 100%|██████████| 943/943 [03:44<00:00,  4.20it/s]\n"
     ]
    },
    {
     "name": "stdout",
     "output_type": "stream",
     "text": [
      "{'recall/roi_0.3': 0.0, 'recall/rcnn_0.3': 0.0, 'recall/roi_0.5': 0.0, 'recall/rcnn_0.5': 0.0, 'recall/roi_0.7': 0.0, 'recall/rcnn_0.7': 0.0, 'Car_aos/easy_R40': 67.51718468700746, 'Car_aos/moderate_R40': 53.62156901631504, 'Car_aos/hard_R40': 53.02004394117752, 'Car_3d/easy_R40': 23.672719506320906, 'Car_3d/moderate_R40': 22.634341335800098, 'Car_3d/hard_R40': 22.133847453899293, 'Car_bev/easy_R40': 79.5906822431514, 'Car_bev/moderate_R40': 71.40193428769265, 'Car_bev/hard_R40': 67.53833403297055, 'Car_image/easy_R40': 67.89060547992479, 'Car_image/moderate_R40': 54.20601001306069, 'Car_image/hard_R40': 53.85005142277686, 'Pedestrian_aos/easy_R40': 9.703830812592427, 'Pedestrian_aos/moderate_R40': 8.80165371043837, 'Pedestrian_aos/hard_R40': 8.852019407620592, 'Pedestrian_3d/easy_R40': 16.084732654212523, 'Pedestrian_3d/moderate_R40': 15.604963459826182, 'Pedestrian_3d/hard_R40': 14.22480416605356, 'Pedestrian_bev/easy_R40': 33.227259040540375, 'Pedestrian_bev/moderate_R40': 30.422366154253506, 'Pedestrian_bev/hard_R40': 28.362151259933505, 'Pedestrian_image/easy_R40': 26.768241399044623, 'Pedestrian_image/moderate_R40': 24.781606864793833, 'Pedestrian_image/hard_R40': 24.390121446187475, 'Cyclist_aos/easy_R40': 32.20605079974815, 'Cyclist_aos/moderate_R40': 19.36425784643358, 'Cyclist_aos/hard_R40': 18.24664231607369, 'Cyclist_3d/easy_R40': 26.253085109457235, 'Cyclist_3d/moderate_R40': 15.024783602074118, 'Cyclist_3d/hard_R40': 13.895645543616247, 'Cyclist_bev/easy_R40': 49.17206529903151, 'Cyclist_bev/moderate_R40': 28.249807446585827, 'Cyclist_bev/hard_R40': 26.501155606776592, 'Cyclist_image/easy_R40': 35.35669246814065, 'Cyclist_image/moderate_R40': 21.201371853259595, 'Cyclist_image/hard_R40': 20.289106877639252}\n",
      "file: I-V_data_1.5um_length_200nm_diameter_BT_2V_NA_third_etch_15min_Pb_ED_3h_180C_MAI_no_200nm_Ag_memory_4V_carbon_paste_wait_1min.xlsx, sigma: 0.10334850013273904, usability: 0.19108097741472657, evaluate-6\n"
     ]
    },
    {
     "name": "stderr",
     "output_type": "stream",
     "text": [
      "eval: 100%|█████████▉| 942/943 [03:34<00:00, 25.53it/s]2023-07-28 15:35:38,187   INFO  Average predicted number of objects(3769 samples): 112.986\n",
      "eval: 100%|██████████| 943/943 [04:17<00:00,  3.66it/s]\n"
     ]
    },
    {
     "name": "stdout",
     "output_type": "stream",
     "text": [
      "{'recall/roi_0.3': 0.0, 'recall/rcnn_0.3': 0.0, 'recall/roi_0.5': 0.0, 'recall/rcnn_0.5': 0.0, 'recall/roi_0.7': 0.0, 'recall/rcnn_0.7': 0.0, 'Car_aos/easy_R40': 80.81820601461177, 'Car_aos/moderate_R40': 50.64379481183976, 'Car_aos/hard_R40': 47.893126742978446, 'Car_3d/easy_R40': 44.36353845495577, 'Car_3d/moderate_R40': 29.113871374093463, 'Car_3d/hard_R40': 26.40623449407257, 'Car_bev/easy_R40': 81.4839770116353, 'Car_bev/moderate_R40': 53.47807087312477, 'Car_bev/hard_R40': 50.4740780081067, 'Car_image/easy_R40': 81.76446965623781, 'Car_image/moderate_R40': 51.51862557351159, 'Car_image/hard_R40': 48.90861260162788, 'Pedestrian_aos/easy_R40': 8.217268736043787, 'Pedestrian_aos/moderate_R40': 6.48740854253939, 'Pedestrian_aos/hard_R40': 6.514884074715983, 'Pedestrian_3d/easy_R40': 20.726608351482877, 'Pedestrian_3d/moderate_R40': 16.266747618872852, 'Pedestrian_3d/hard_R40': 15.335216526428097, 'Pedestrian_bev/easy_R40': 23.08694040515014, 'Pedestrian_bev/moderate_R40': 18.453960096586993, 'Pedestrian_bev/hard_R40': 17.881690437868365, 'Pedestrian_image/easy_R40': 20.482193108079453, 'Pedestrian_image/moderate_R40': 16.398205316758645, 'Pedestrian_image/hard_R40': 16.385283797808427, 'Cyclist_aos/easy_R40': 30.134570708609193, 'Cyclist_aos/moderate_R40': 19.20062661687313, 'Cyclist_aos/hard_R40': 18.551433274168556, 'Cyclist_3d/easy_R40': 27.652907077114335, 'Cyclist_3d/moderate_R40': 16.620898985448477, 'Cyclist_3d/hard_R40': 15.468217699168688, 'Cyclist_bev/easy_R40': 29.666801988847425, 'Cyclist_bev/moderate_R40': 18.068076321267455, 'Cyclist_bev/hard_R40': 16.68858368008893, 'Cyclist_image/easy_R40': 31.691423053011974, 'Cyclist_image/moderate_R40': 20.2514980004518, 'Cyclist_image/hard_R40': 19.51696888787896}\n",
      "file: I-V_data_1.5um_length_200nm_diameter_BT_2V_NA_third_etch_15min_Pb_ED_3h_180C_MAI_no_200nm_Ag_memory_4V_carbon_paste_wait_1min.xlsx, sigma: 0.10334850013273904, usability: 0.19108097741472657, evaluate-7\n"
     ]
    },
    {
     "name": "stderr",
     "output_type": "stream",
     "text": [
      "eval: 100%|█████████▉| 942/943 [03:34<00:00, 26.06it/s]2023-07-28 15:39:58,613   INFO  Average predicted number of objects(3769 samples): 36.217\n",
      "eval: 100%|██████████| 943/943 [03:55<00:00,  4.01it/s]\n"
     ]
    },
    {
     "name": "stdout",
     "output_type": "stream",
     "text": [
      "{'recall/roi_0.3': 0.0, 'recall/rcnn_0.3': 0.0, 'recall/roi_0.5': 0.0, 'recall/rcnn_0.5': 0.0, 'recall/roi_0.7': 0.0, 'recall/rcnn_0.7': 0.0, 'Car_aos/easy_R40': 89.36856311423472, 'Car_aos/moderate_R40': 77.40466772786529, 'Car_aos/hard_R40': 74.17313373976582, 'Car_3d/easy_R40': 45.26851331307548, 'Car_3d/moderate_R40': 40.48767117828217, 'Car_3d/hard_R40': 37.67346893079252, 'Car_bev/easy_R40': 89.76239806964995, 'Car_bev/moderate_R40': 79.5027555545428, 'Car_bev/hard_R40': 75.1943453888976, 'Car_image/easy_R40': 89.55368701248284, 'Car_image/moderate_R40': 78.08459225607733, 'Car_image/hard_R40': 75.02775126102073, 'Pedestrian_aos/easy_R40': 20.53629648062993, 'Pedestrian_aos/moderate_R40': 18.26475540645057, 'Pedestrian_aos/hard_R40': 17.58116065912268, 'Pedestrian_3d/easy_R40': 29.148870899918588, 'Pedestrian_3d/moderate_R40': 25.85385462517141, 'Pedestrian_3d/hard_R40': 23.563707569108157, 'Pedestrian_bev/easy_R40': 36.64317373918148, 'Pedestrian_bev/moderate_R40': 32.63147733577434, 'Pedestrian_bev/hard_R40': 30.15044795624687, 'Pedestrian_image/easy_R40': 38.07474829659865, 'Pedestrian_image/moderate_R40': 34.370921588290194, 'Pedestrian_image/hard_R40': 32.58345861931823, 'Cyclist_aos/easy_R40': 62.796174763406995, 'Cyclist_aos/moderate_R40': 43.66537592243772, 'Cyclist_aos/hard_R40': 40.738213830202994, 'Cyclist_3d/easy_R40': 57.67891539016144, 'Cyclist_3d/moderate_R40': 37.84117111880828, 'Cyclist_3d/hard_R40': 34.89252857650346, 'Cyclist_bev/easy_R40': 64.12059670091777, 'Cyclist_bev/moderate_R40': 42.783350931106575, 'Cyclist_bev/hard_R40': 39.67643111183025, 'Cyclist_image/easy_R40': 68.4510605353402, 'Cyclist_image/moderate_R40': 48.67333063408292, 'Cyclist_image/hard_R40': 45.66261761181522}\n",
      "file: I-V_data_1.5um_length_200nm_diameter_BT_2V_NA_third_etch_15min_Pb_ED_3h_180C_MAI_no_200nm_Ag_memory_4V_carbon_paste_wait_1min.xlsx, sigma: 0.10334850013273904, usability: 0.19108097741472657, evaluate-8\n"
     ]
    },
    {
     "name": "stderr",
     "output_type": "stream",
     "text": [
      "eval: 100%|█████████▉| 942/943 [03:29<00:00, 24.95it/s]2023-07-28 15:43:50,803   INFO  Average predicted number of objects(3769 samples): 55.261\n",
      "eval: 100%|██████████| 943/943 [03:55<00:00,  4.01it/s]\n"
     ]
    },
    {
     "name": "stdout",
     "output_type": "stream",
     "text": [
      "{'recall/roi_0.3': 0.0, 'recall/rcnn_0.3': 0.0, 'recall/roi_0.5': 0.0, 'recall/rcnn_0.5': 0.0, 'recall/roi_0.7': 0.0, 'recall/rcnn_0.7': 0.0, 'Car_aos/easy_R40': 73.62056549555743, 'Car_aos/moderate_R40': 49.34404842643147, 'Car_aos/hard_R40': 46.094093219540554, 'Car_3d/easy_R40': 45.388589388265615, 'Car_3d/moderate_R40': 29.81154139527916, 'Car_3d/hard_R40': 26.504719780208436, 'Car_bev/easy_R40': 88.22725784981559, 'Car_bev/moderate_R40': 68.71054636601517, 'Car_bev/hard_R40': 64.81390736159031, 'Car_image/easy_R40': 74.37452659675435, 'Car_image/moderate_R40': 50.180110459378945, 'Car_image/hard_R40': 47.1232177538484, 'Pedestrian_aos/easy_R40': 19.87887468815924, 'Pedestrian_aos/moderate_R40': 17.709532906518728, 'Pedestrian_aos/hard_R40': 16.08878238043598, 'Pedestrian_3d/easy_R40': 27.807968959227974, 'Pedestrian_3d/moderate_R40': 24.623851781576985, 'Pedestrian_3d/hard_R40': 22.309207627157008, 'Pedestrian_bev/easy_R40': 37.316891462880555, 'Pedestrian_bev/moderate_R40': 33.04992330783927, 'Pedestrian_bev/hard_R40': 29.992270483987166, 'Pedestrian_image/easy_R40': 39.76866026494766, 'Pedestrian_image/moderate_R40': 35.545133094416684, 'Pedestrian_image/hard_R40': 32.89870280292894, 'Cyclist_aos/easy_R40': 41.741358767791645, 'Cyclist_aos/moderate_R40': 26.335431985848317, 'Cyclist_aos/hard_R40': 24.500704839980457, 'Cyclist_3d/easy_R40': 43.73790645353822, 'Cyclist_3d/moderate_R40': 26.257876901420403, 'Cyclist_3d/hard_R40': 24.599407946442703, 'Cyclist_bev/easy_R40': 49.47119447194252, 'Cyclist_bev/moderate_R40': 31.279364743889758, 'Cyclist_bev/hard_R40': 29.00968186141354, 'Cyclist_image/easy_R40': 53.974397603251624, 'Cyclist_image/moderate_R40': 34.574095678211506, 'Cyclist_image/hard_R40': 32.190959212906144}\n",
      "file: I-V_data_1.5um_length_200nm_diameter_BT_2V_NA_third_etch_15min_Pb_ED_3h_180C_MAI_no_200nm_Ag_memory_4V_carbon_paste_wait_1min.xlsx, sigma: 0.10334850013273904, usability: 0.19108097741472657, evaluate-9\n"
     ]
    },
    {
     "name": "stderr",
     "output_type": "stream",
     "text": [
      "eval: 100%|█████████▉| 942/943 [03:35<00:00, 27.24it/s]2023-07-28 15:47:53,972   INFO  Average predicted number of objects(3769 samples): 35.625\n",
      "eval: 100%|██████████| 943/943 [03:55<00:00,  4.00it/s]\n"
     ]
    },
    {
     "name": "stdout",
     "output_type": "stream",
     "text": [
      "{'recall/roi_0.3': 0.0, 'recall/rcnn_0.3': 0.0, 'recall/roi_0.5': 0.0, 'recall/rcnn_0.5': 0.0, 'recall/roi_0.7': 0.0, 'recall/rcnn_0.7': 0.0, 'Car_aos/easy_R40': 76.56924340840042, 'Car_aos/moderate_R40': 53.127903476699665, 'Car_aos/hard_R40': 51.78466819086178, 'Car_3d/easy_R40': 34.55646583743618, 'Car_3d/moderate_R40': 27.173922482914875, 'Car_3d/hard_R40': 25.546269506521348, 'Car_bev/easy_R40': 81.14249619064952, 'Car_bev/moderate_R40': 58.392782925058896, 'Car_bev/hard_R40': 57.06368033853455, 'Car_image/easy_R40': 79.66495655311626, 'Car_image/moderate_R40': 56.03185683750366, 'Car_image/hard_R40': 55.58493130871287, 'Pedestrian_aos/easy_R40': 14.887546797679269, 'Pedestrian_aos/moderate_R40': 13.324653537038472, 'Pedestrian_aos/hard_R40': 12.810742700350062, 'Pedestrian_3d/easy_R40': 30.708090830760888, 'Pedestrian_3d/moderate_R40': 27.075005480603142, 'Pedestrian_3d/hard_R40': 24.674553246084088, 'Pedestrian_bev/easy_R40': 37.49152080029124, 'Pedestrian_bev/moderate_R40': 33.06148900854794, 'Pedestrian_bev/hard_R40': 30.869697227073644, 'Pedestrian_image/easy_R40': 30.146536450512667, 'Pedestrian_image/moderate_R40': 26.73007948307581, 'Pedestrian_image/hard_R40': 26.13099665915203, 'Cyclist_aos/easy_R40': 53.616349593794475, 'Cyclist_aos/moderate_R40': 33.299406569869355, 'Cyclist_aos/hard_R40': 31.323072499148953, 'Cyclist_3d/easy_R40': 51.66596287438854, 'Cyclist_3d/moderate_R40': 32.013955842411505, 'Cyclist_3d/hard_R40': 29.50763975649524, 'Cyclist_bev/easy_R40': 58.7957263539565, 'Cyclist_bev/moderate_R40': 37.15154908397848, 'Cyclist_bev/hard_R40': 34.617889283678565, 'Cyclist_image/easy_R40': 61.561987612501134, 'Cyclist_image/moderate_R40': 39.185375324781766, 'Cyclist_image/hard_R40': 37.06850433605571}\n",
      "file: I-V_data_1.8um_length_50nm_diameter_BT_4V_NA_third_etch_20min_Pb_ED_3h_180C_MAI_no_200nm_Ag_memory_6V_carbon_paste_no_wait.xlsx, sigma: 0.11051303530682587, usability: 0.3279872460213791, evaluate-0\n"
     ]
    },
    {
     "name": "stderr",
     "output_type": "stream",
     "text": [
      "eval: 100%|█████████▉| 942/943 [03:33<00:00, 23.73it/s]2023-07-28 15:51:48,056   INFO  Average predicted number of objects(3769 samples): 74.375\n",
      "eval: 100%|██████████| 943/943 [04:03<00:00,  3.88it/s]\n"
     ]
    },
    {
     "name": "stdout",
     "output_type": "stream",
     "text": [
      "{'recall/roi_0.3': 0.0, 'recall/rcnn_0.3': 0.0, 'recall/roi_0.5': 0.0, 'recall/rcnn_0.5': 0.0, 'recall/roi_0.7': 0.0, 'recall/rcnn_0.7': 0.0, 'Car_aos/easy_R40': 1.195437837521018, 'Car_aos/moderate_R40': 1.5478086856103122, 'Car_aos/hard_R40': 1.9724951883984112, 'Car_3d/easy_R40': 0.005073678637606988, 'Car_3d/moderate_R40': 0.011451494645919732, 'Car_3d/hard_R40': 0.006739438992760209, 'Car_bev/easy_R40': 81.48521288524829, 'Car_bev/moderate_R40': 64.42801272919895, 'Car_bev/hard_R40': 61.811374271044684, 'Car_image/easy_R40': 1.2010386924974505, 'Car_image/moderate_R40': 1.575396054000092, 'Car_image/hard_R40': 2.021414187561308, 'Pedestrian_aos/easy_R40': 12.079091833182938, 'Pedestrian_aos/moderate_R40': 8.831790995887715, 'Pedestrian_aos/hard_R40': 8.869733167683538, 'Pedestrian_3d/easy_R40': 24.928376967408816, 'Pedestrian_3d/moderate_R40': 17.731518786534178, 'Pedestrian_3d/hard_R40': 16.39331250485791, 'Pedestrian_bev/easy_R40': 32.01690226642869, 'Pedestrian_bev/moderate_R40': 23.184335110985312, 'Pedestrian_bev/hard_R40': 22.331651501231732, 'Pedestrian_image/easy_R40': 24.32835818969357, 'Pedestrian_image/moderate_R40': 18.075119391505016, 'Pedestrian_image/hard_R40': 17.920675283889842, 'Cyclist_aos/easy_R40': 33.46008799203177, 'Cyclist_aos/moderate_R40': 20.983318802464833, 'Cyclist_aos/hard_R40': 20.213884382392482, 'Cyclist_3d/easy_R40': 34.72013106709114, 'Cyclist_3d/moderate_R40': 20.37441070323199, 'Cyclist_3d/hard_R40': 18.902848725165335, 'Cyclist_bev/easy_R40': 60.199098437277634, 'Cyclist_bev/moderate_R40': 36.4558241495364, 'Cyclist_bev/hard_R40': 34.19426079031653, 'Cyclist_image/easy_R40': 61.27844050015936, 'Cyclist_image/moderate_R40': 38.87633429952581, 'Cyclist_image/hard_R40': 37.01701587664065}\n",
      "file: I-V_data_1.8um_length_50nm_diameter_BT_4V_NA_third_etch_20min_Pb_ED_3h_180C_MAI_no_200nm_Ag_memory_6V_carbon_paste_no_wait.xlsx, sigma: 0.11051303530682587, usability: 0.3279872460213791, evaluate-1\n"
     ]
    },
    {
     "name": "stderr",
     "output_type": "stream",
     "text": [
      "eval: 100%|█████████▉| 942/943 [03:35<00:00, 26.08it/s]2023-07-28 15:55:54,611   INFO  Average predicted number of objects(3769 samples): 96.702\n",
      "eval: 100%|██████████| 943/943 [04:12<00:00,  3.73it/s]\n"
     ]
    },
    {
     "name": "stdout",
     "output_type": "stream",
     "text": [
      "{'recall/roi_0.3': 0.0, 'recall/rcnn_0.3': 0.0, 'recall/roi_0.5': 0.0, 'recall/rcnn_0.5': 0.0, 'recall/roi_0.7': 0.0, 'recall/rcnn_0.7': 0.0, 'Car_aos/easy_R40': 52.371811877382214, 'Car_aos/moderate_R40': 42.19791349173415, 'Car_aos/hard_R40': 40.297671670661416, 'Car_3d/easy_R40': 7.484186423586188, 'Car_3d/moderate_R40': 7.6940013710866335, 'Car_3d/hard_R40': 7.692661080690604, 'Car_bev/easy_R40': 89.33434917446009, 'Car_bev/moderate_R40': 71.91830357761927, 'Car_bev/hard_R40': 67.08754638299277, 'Car_image/easy_R40': 52.71463029589268, 'Car_image/moderate_R40': 42.98767276594596, 'Car_image/hard_R40': 41.288940479231805, 'Pedestrian_aos/easy_R40': 2.1839043211943174, 'Pedestrian_aos/moderate_R40': 1.7374444774527855, 'Pedestrian_aos/hard_R40': 1.8312254407988167, 'Pedestrian_3d/easy_R40': 4.584057211972175, 'Pedestrian_3d/moderate_R40': 3.1993089542259807, 'Pedestrian_3d/hard_R40': 3.1341493948485053, 'Pedestrian_bev/easy_R40': 24.216436019254672, 'Pedestrian_bev/moderate_R40': 16.84736407364301, 'Pedestrian_bev/hard_R40': 16.126846158384083, 'Pedestrian_image/easy_R40': 4.427740088863046, 'Pedestrian_image/moderate_R40': 3.4647032986194954, 'Pedestrian_image/hard_R40': 3.6787185449356454, 'Cyclist_aos/easy_R40': 29.53926629973714, 'Cyclist_aos/moderate_R40': 19.31471904888751, 'Cyclist_aos/hard_R40': 18.03344564540535, 'Cyclist_3d/easy_R40': 19.07508402030409, 'Cyclist_3d/moderate_R40': 10.777849949424526, 'Cyclist_3d/hard_R40': 10.268973588733068, 'Cyclist_bev/easy_R40': 60.86120493044855, 'Cyclist_bev/moderate_R40': 42.401196437209535, 'Cyclist_bev/hard_R40': 39.583496032034574, 'Cyclist_image/easy_R40': 41.073744205144415, 'Cyclist_image/moderate_R40': 26.579876199784273, 'Cyclist_image/hard_R40': 25.02761788612186}\n",
      "file: I-V_data_1.8um_length_50nm_diameter_BT_4V_NA_third_etch_20min_Pb_ED_3h_180C_MAI_no_200nm_Ag_memory_6V_carbon_paste_no_wait.xlsx, sigma: 0.11051303530682587, usability: 0.3279872460213791, evaluate-2\n"
     ]
    },
    {
     "name": "stderr",
     "output_type": "stream",
     "text": [
      "eval: 100%|█████████▉| 942/943 [03:30<00:00, 24.46it/s]2023-07-28 16:00:03,289   INFO  Average predicted number of objects(3769 samples): 21.096\n",
      "eval: 100%|██████████| 943/943 [03:44<00:00,  4.20it/s]\n"
     ]
    },
    {
     "name": "stdout",
     "output_type": "stream",
     "text": [
      "{'recall/roi_0.3': 0.0, 'recall/rcnn_0.3': 0.0, 'recall/roi_0.5': 0.0, 'recall/rcnn_0.5': 0.0, 'recall/roi_0.7': 0.0, 'recall/rcnn_0.7': 0.0, 'Car_aos/easy_R40': 2.806836671666265, 'Car_aos/moderate_R40': 2.144317815608037, 'Car_aos/hard_R40': 2.1483762089446667, 'Car_3d/easy_R40': 0.013922405791720808, 'Car_3d/moderate_R40': 0.012828103414249063, 'Car_3d/hard_R40': 0.016259361450532125, 'Car_bev/easy_R40': 84.45087241769332, 'Car_bev/moderate_R40': 74.9655038324605, 'Car_bev/hard_R40': 71.47350002257033, 'Car_image/easy_R40': 2.831891270369355, 'Car_image/moderate_R40': 2.174641370011252, 'Car_image/hard_R40': 2.188495759833416, 'Pedestrian_aos/easy_R40': 20.92884245095857, 'Pedestrian_aos/moderate_R40': 17.734527385741984, 'Pedestrian_aos/hard_R40': 16.155239951195977, 'Pedestrian_3d/easy_R40': 28.53400045954031, 'Pedestrian_3d/moderate_R40': 24.856602592834065, 'Pedestrian_3d/hard_R40': 21.753088168894312, 'Pedestrian_bev/easy_R40': 37.148992404082904, 'Pedestrian_bev/moderate_R40': 32.87215290600478, 'Pedestrian_bev/hard_R40': 29.8971876563289, 'Pedestrian_image/easy_R40': 38.62847543157938, 'Pedestrian_image/moderate_R40': 33.778337472957695, 'Pedestrian_image/hard_R40': 31.076538118240993, 'Cyclist_aos/easy_R40': 18.64170893360251, 'Cyclist_aos/moderate_R40': 12.910610442454823, 'Cyclist_aos/hard_R40': 12.137511647579569, 'Cyclist_3d/easy_R40': 13.632859414067438, 'Cyclist_3d/moderate_R40': 7.642678031882218, 'Cyclist_3d/hard_R40': 7.166526882450383, 'Cyclist_bev/easy_R40': 29.106119049671452, 'Cyclist_bev/moderate_R40': 17.746632649243807, 'Cyclist_bev/hard_R40': 16.647563182627806, 'Cyclist_image/easy_R40': 27.653698749189324, 'Cyclist_image/moderate_R40': 19.42102106310459, 'Cyclist_image/hard_R40': 18.507054203317914}\n",
      "file: I-V_data_1.8um_length_50nm_diameter_BT_4V_NA_third_etch_20min_Pb_ED_3h_180C_MAI_no_200nm_Ag_memory_6V_carbon_paste_no_wait.xlsx, sigma: 0.11051303530682587, usability: 0.3279872460213791, evaluate-3\n"
     ]
    },
    {
     "name": "stderr",
     "output_type": "stream",
     "text": [
      "eval: 100%|█████████▉| 942/943 [03:30<00:00, 24.76it/s]2023-07-28 16:03:48,802   INFO  Average predicted number of objects(3769 samples): 49.559\n",
      "eval: 100%|██████████| 943/943 [03:54<00:00,  4.02it/s]\n"
     ]
    },
    {
     "name": "stdout",
     "output_type": "stream",
     "text": [
      "{'recall/roi_0.3': 0.0, 'recall/rcnn_0.3': 0.0, 'recall/roi_0.5': 0.0, 'recall/rcnn_0.5': 0.0, 'recall/roi_0.7': 0.0, 'recall/rcnn_0.7': 0.0, 'Car_aos/easy_R40': 85.2080491742837, 'Car_aos/moderate_R40': 70.72358438741927, 'Car_aos/hard_R40': 69.29982394342443, 'Car_3d/easy_R40': 31.052790837085663, 'Car_3d/moderate_R40': 26.67131736462881, 'Car_3d/hard_R40': 26.05066544534771, 'Car_bev/easy_R40': 87.62237641398387, 'Car_bev/moderate_R40': 79.0008819814467, 'Car_bev/hard_R40': 77.54809565748488, 'Car_image/easy_R40': 85.69625437629573, 'Car_image/moderate_R40': 71.38210412415795, 'Car_image/hard_R40': 70.51369520092453, 'Pedestrian_aos/easy_R40': 14.123706847810693, 'Pedestrian_aos/moderate_R40': 12.043600119164429, 'Pedestrian_aos/hard_R40': 11.566838059658993, 'Pedestrian_3d/easy_R40': 19.74569746762237, 'Pedestrian_3d/moderate_R40': 17.024933342255693, 'Pedestrian_3d/hard_R40': 15.660217212590771, 'Pedestrian_bev/easy_R40': 26.099654742095623, 'Pedestrian_bev/moderate_R40': 22.548749725022795, 'Pedestrian_bev/hard_R40': 21.067845899846223, 'Pedestrian_image/easy_R40': 29.529010082102957, 'Pedestrian_image/moderate_R40': 25.387647392194136, 'Pedestrian_image/hard_R40': 24.077720262240007, 'Cyclist_aos/easy_R40': 48.14802886285404, 'Cyclist_aos/moderate_R40': 35.11778195747942, 'Cyclist_aos/hard_R40': 33.030343413598494, 'Cyclist_3d/easy_R40': 43.24855506664087, 'Cyclist_3d/moderate_R40': 28.589005900628685, 'Cyclist_3d/hard_R40': 26.69106315638889, 'Cyclist_bev/easy_R40': 47.29627863895966, 'Cyclist_bev/moderate_R40': 32.76289051447853, 'Cyclist_bev/hard_R40': 30.42432533354407, 'Cyclist_image/easy_R40': 51.19052211394581, 'Cyclist_image/moderate_R40': 38.50319343984368, 'Cyclist_image/hard_R40': 36.489515801454544}\n",
      "file: I-V_data_1.8um_length_50nm_diameter_BT_4V_NA_third_etch_20min_Pb_ED_3h_180C_MAI_no_200nm_Ag_memory_6V_carbon_paste_no_wait.xlsx, sigma: 0.11051303530682587, usability: 0.3279872460213791, evaluate-4\n"
     ]
    },
    {
     "name": "stderr",
     "output_type": "stream",
     "text": [
      "eval: 100%|█████████▉| 942/943 [03:28<00:00, 24.17it/s]2023-07-28 16:07:42,864   INFO  Average predicted number of objects(3769 samples): 92.785\n",
      "eval: 100%|██████████| 943/943 [04:04<00:00,  3.85it/s]\n"
     ]
    },
    {
     "name": "stdout",
     "output_type": "stream",
     "text": [
      "{'recall/roi_0.3': 0.0, 'recall/rcnn_0.3': 0.0, 'recall/roi_0.5': 0.0, 'recall/rcnn_0.5': 0.0, 'recall/roi_0.7': 0.0, 'recall/rcnn_0.7': 0.0, 'Car_aos/easy_R40': 28.12495429078493, 'Car_aos/moderate_R40': 24.035448925134375, 'Car_aos/hard_R40': 25.003063846400302, 'Car_3d/easy_R40': 1.7920917404276253, 'Car_3d/moderate_R40': 2.5990506221320193, 'Car_3d/hard_R40': 2.9489380205633373, 'Car_bev/easy_R40': 78.40787604094703, 'Car_bev/moderate_R40': 52.54525709963047, 'Car_bev/hard_R40': 48.684613100268606, 'Car_image/easy_R40': 28.358267854147464, 'Car_image/moderate_R40': 24.2840950191469, 'Car_image/hard_R40': 25.401610682482424, 'Pedestrian_aos/easy_R40': 11.861964577517368, 'Pedestrian_aos/moderate_R40': 9.89870961294965, 'Pedestrian_aos/hard_R40': 9.341190402635691, 'Pedestrian_3d/easy_R40': 21.427566202053914, 'Pedestrian_3d/moderate_R40': 18.537599633487208, 'Pedestrian_3d/hard_R40': 17.021402532384943, 'Pedestrian_bev/easy_R40': 31.559599842451487, 'Pedestrian_bev/moderate_R40': 27.325056400672615, 'Pedestrian_bev/hard_R40': 25.584932609870226, 'Pedestrian_image/easy_R40': 30.758959124162068, 'Pedestrian_image/moderate_R40': 25.9642971330018, 'Pedestrian_image/hard_R40': 24.947678823987708, 'Cyclist_aos/easy_R40': 35.658475990085705, 'Cyclist_aos/moderate_R40': 20.244644642518836, 'Cyclist_aos/hard_R40': 19.358563190662345, 'Cyclist_3d/easy_R40': 29.437672631357266, 'Cyclist_3d/moderate_R40': 17.235018280833707, 'Cyclist_3d/hard_R40': 16.34349123383133, 'Cyclist_bev/easy_R40': 37.56323873393074, 'Cyclist_bev/moderate_R40': 22.666178459626522, 'Cyclist_bev/hard_R40': 21.20855400556737, 'Cyclist_image/easy_R40': 41.88102534865189, 'Cyclist_image/moderate_R40': 25.00099745977818, 'Cyclist_image/hard_R40': 23.799514111103655}\n",
      "file: I-V_data_1.8um_length_50nm_diameter_BT_4V_NA_third_etch_20min_Pb_ED_3h_180C_MAI_no_200nm_Ag_memory_6V_carbon_paste_no_wait.xlsx, sigma: 0.11051303530682587, usability: 0.3279872460213791, evaluate-5\n"
     ]
    },
    {
     "name": "stderr",
     "output_type": "stream",
     "text": [
      "eval: 100%|█████████▉| 942/943 [03:35<00:00, 25.29it/s]2023-07-28 16:11:56,096   INFO  Average predicted number of objects(3769 samples): 51.487\n",
      "eval: 100%|██████████| 943/943 [03:59<00:00,  3.94it/s]\n"
     ]
    },
    {
     "name": "stdout",
     "output_type": "stream",
     "text": [
      "{'recall/roi_0.3': 0.0, 'recall/rcnn_0.3': 0.0, 'recall/roi_0.5': 0.0, 'recall/rcnn_0.5': 0.0, 'recall/roi_0.7': 0.0, 'recall/rcnn_0.7': 0.0, 'Car_aos/easy_R40': 38.053333756562594, 'Car_aos/moderate_R40': 27.710002453100262, 'Car_aos/hard_R40': 25.61701974563922, 'Car_3d/easy_R40': 19.10264516127104, 'Car_3d/moderate_R40': 13.346402030890022, 'Car_3d/hard_R40': 11.626521091248666, 'Car_bev/easy_R40': 83.7150887139806, 'Car_bev/moderate_R40': 68.52117858231036, 'Car_bev/hard_R40': 65.0131316456627, 'Car_image/easy_R40': 38.23137220144389, 'Car_image/moderate_R40': 27.91601753003604, 'Car_image/hard_R40': 25.880474750703396, 'Pedestrian_aos/easy_R40': 12.737517810515175, 'Pedestrian_aos/moderate_R40': 11.06283950027653, 'Pedestrian_aos/hard_R40': 10.385171584878487, 'Pedestrian_3d/easy_R40': 25.335546875171406, 'Pedestrian_3d/moderate_R40': 22.83857235906836, 'Pedestrian_3d/hard_R40': 20.72283294806879, 'Pedestrian_bev/easy_R40': 31.661175644058424, 'Pedestrian_bev/moderate_R40': 28.495920168224508, 'Pedestrian_bev/hard_R40': 26.618927423553103, 'Pedestrian_image/easy_R40': 29.84896360160194, 'Pedestrian_image/moderate_R40': 26.253254949515547, 'Pedestrian_image/hard_R40': 24.74470804948871, 'Cyclist_aos/easy_R40': 45.850264647484465, 'Cyclist_aos/moderate_R40': 28.148255530065462, 'Cyclist_aos/hard_R40': 26.50297506245383, 'Cyclist_3d/easy_R40': 34.15274279235474, 'Cyclist_3d/moderate_R40': 21.038878818301427, 'Cyclist_3d/hard_R40': 19.625478354505322, 'Cyclist_bev/easy_R40': 50.64964470533666, 'Cyclist_bev/moderate_R40': 31.603157227236007, 'Cyclist_bev/hard_R40': 29.62482548750913, 'Cyclist_image/easy_R40': 50.039419317477886, 'Cyclist_image/moderate_R40': 31.43536342453363, 'Cyclist_image/hard_R40': 29.69413956755318}\n",
      "file: I-V_data_1.8um_length_50nm_diameter_BT_4V_NA_third_etch_20min_Pb_ED_3h_180C_MAI_no_200nm_Ag_memory_6V_carbon_paste_no_wait.xlsx, sigma: 0.11051303530682587, usability: 0.3279872460213791, evaluate-6\n"
     ]
    },
    {
     "name": "stderr",
     "output_type": "stream",
     "text": [
      "eval: 100%|█████████▉| 942/943 [03:32<00:00, 26.53it/s]2023-07-28 16:15:52,956   INFO  Average predicted number of objects(3769 samples): 32.937\n",
      "eval: 100%|██████████| 943/943 [03:51<00:00,  4.07it/s]\n"
     ]
    },
    {
     "name": "stdout",
     "output_type": "stream",
     "text": [
      "{'recall/roi_0.3': 0.0, 'recall/rcnn_0.3': 0.0, 'recall/roi_0.5': 0.0, 'recall/rcnn_0.5': 0.0, 'recall/roi_0.7': 0.0, 'recall/rcnn_0.7': 0.0, 'Car_aos/easy_R40': 85.60956371415823, 'Car_aos/moderate_R40': 57.790342605969634, 'Car_aos/hard_R40': 56.13955406214749, 'Car_3d/easy_R40': 45.173153060226454, 'Car_3d/moderate_R40': 32.36565081496723, 'Car_3d/hard_R40': 30.670924896980118, 'Car_bev/easy_R40': 82.1046559056992, 'Car_bev/moderate_R40': 59.2696655305733, 'Car_bev/hard_R40': 56.993541020549785, 'Car_image/easy_R40': 85.948667955889, 'Car_image/moderate_R40': 58.250038332184495, 'Car_image/hard_R40': 56.85686958644588, 'Pedestrian_aos/easy_R40': 11.822362262934446, 'Pedestrian_aos/moderate_R40': 11.71924452886335, 'Pedestrian_aos/hard_R40': 11.352634948441983, 'Pedestrian_3d/easy_R40': 24.144352872495517, 'Pedestrian_3d/moderate_R40': 23.777577609770795, 'Pedestrian_3d/hard_R40': 21.99892230088135, 'Pedestrian_bev/easy_R40': 29.522348881764692, 'Pedestrian_bev/moderate_R40': 28.955037607045618, 'Pedestrian_bev/hard_R40': 27.177761912179655, 'Pedestrian_image/easy_R40': 28.840902460246255, 'Pedestrian_image/moderate_R40': 28.388971408468628, 'Pedestrian_image/hard_R40': 27.544376274295928, 'Cyclist_aos/easy_R40': 55.176768640454895, 'Cyclist_aos/moderate_R40': 35.13670614018443, 'Cyclist_aos/hard_R40': 32.67738121659303, 'Cyclist_3d/easy_R40': 55.48025528586488, 'Cyclist_3d/moderate_R40': 34.48219309930216, 'Cyclist_3d/hard_R40': 31.961840318345818, 'Cyclist_bev/easy_R40': 60.322553610586596, 'Cyclist_bev/moderate_R40': 38.39242799197407, 'Cyclist_bev/hard_R40': 35.58410842468096, 'Cyclist_image/easy_R40': 62.743762265528645, 'Cyclist_image/moderate_R40': 41.02485861268034, 'Cyclist_image/hard_R40': 38.225273185732384}\n",
      "file: I-V_data_1.8um_length_50nm_diameter_BT_4V_NA_third_etch_20min_Pb_ED_3h_180C_MAI_no_200nm_Ag_memory_6V_carbon_paste_no_wait.xlsx, sigma: 0.11051303530682587, usability: 0.3279872460213791, evaluate-7\n"
     ]
    },
    {
     "name": "stderr",
     "output_type": "stream",
     "text": [
      "eval: 100%|█████████▉| 942/943 [03:32<00:00, 26.55it/s]2023-07-28 16:19:46,098   INFO  Average predicted number of objects(3769 samples): 24.077\n",
      "eval: 100%|██████████| 943/943 [03:49<00:00,  4.11it/s]\n"
     ]
    },
    {
     "name": "stdout",
     "output_type": "stream",
     "text": [
      "{'recall/roi_0.3': 0.0, 'recall/rcnn_0.3': 0.0, 'recall/roi_0.5': 0.0, 'recall/rcnn_0.5': 0.0, 'recall/roi_0.7': 0.0, 'recall/rcnn_0.7': 0.0, 'Car_aos/easy_R40': 91.70482641862225, 'Car_aos/moderate_R40': 73.3785434363999, 'Car_aos/hard_R40': 71.9118408327256, 'Car_3d/easy_R40': 60.21143696255182, 'Car_3d/moderate_R40': 47.23947508605634, 'Car_3d/hard_R40': 44.99169429975412, 'Car_bev/easy_R40': 91.32262818714436, 'Car_bev/moderate_R40': 76.37174256755027, 'Car_bev/hard_R40': 73.32337927119362, 'Car_image/easy_R40': 91.84883333276632, 'Car_image/moderate_R40': 73.85966989803705, 'Car_image/hard_R40': 72.73862830992154, 'Pedestrian_aos/easy_R40': 19.030277950044198, 'Pedestrian_aos/moderate_R40': 16.149010863625634, 'Pedestrian_aos/hard_R40': 15.182419919888224, 'Pedestrian_3d/easy_R40': 18.70953479991136, 'Pedestrian_3d/moderate_R40': 17.56658471492074, 'Pedestrian_3d/hard_R40': 16.370996920083336, 'Pedestrian_bev/easy_R40': 32.77356921748462, 'Pedestrian_bev/moderate_R40': 29.525561667651225, 'Pedestrian_bev/hard_R40': 27.568405155379516, 'Pedestrian_image/easy_R40': 36.83368876168301, 'Pedestrian_image/moderate_R40': 32.3572266034583, 'Pedestrian_image/hard_R40': 30.7518410925657, 'Cyclist_aos/easy_R40': 31.065421045238516, 'Cyclist_aos/moderate_R40': 19.417616152594245, 'Cyclist_aos/hard_R40': 18.35166723336236, 'Cyclist_3d/easy_R40': 46.51214330971329, 'Cyclist_3d/moderate_R40': 27.37296169657845, 'Cyclist_3d/hard_R40': 25.410535690494374, 'Cyclist_bev/easy_R40': 53.738621202024305, 'Cyclist_bev/moderate_R40': 32.505277681389735, 'Cyclist_bev/hard_R40': 30.05303568713239, 'Cyclist_image/easy_R40': 56.828528000147585, 'Cyclist_image/moderate_R40': 35.17946397739657, 'Cyclist_image/hard_R40': 32.857109387430825}\n",
      "file: I-V_data_1.8um_length_50nm_diameter_BT_4V_NA_third_etch_20min_Pb_ED_3h_180C_MAI_no_200nm_Ag_memory_6V_carbon_paste_no_wait.xlsx, sigma: 0.11051303530682587, usability: 0.3279872460213791, evaluate-8\n"
     ]
    },
    {
     "name": "stderr",
     "output_type": "stream",
     "text": [
      "eval: 100%|█████████▉| 942/943 [03:28<00:00, 25.98it/s]2023-07-28 16:23:31,843   INFO  Average predicted number of objects(3769 samples): 16.280\n",
      "eval: 100%|██████████| 943/943 [03:40<00:00,  4.28it/s]\n"
     ]
    },
    {
     "name": "stdout",
     "output_type": "stream",
     "text": [
      "{'recall/roi_0.3': 0.0, 'recall/rcnn_0.3': 0.0, 'recall/roi_0.5': 0.0, 'recall/rcnn_0.5': 0.0, 'recall/roi_0.7': 0.0, 'recall/rcnn_0.7': 0.0, 'Car_aos/easy_R40': 1.0090500308307377, 'Car_aos/moderate_R40': 0.9626364090458419, 'Car_aos/hard_R40': 1.060966734898264, 'Car_3d/easy_R40': 0.0032719454052538097, 'Car_3d/moderate_R40': 0.003074029872337348, 'Car_3d/hard_R40': 0.004968921653657126, 'Car_bev/easy_R40': 84.31744223380642, 'Car_bev/moderate_R40': 64.67984312155659, 'Car_bev/hard_R40': 60.348465547646555, 'Car_image/easy_R40': 1.0114143045671848, 'Car_image/moderate_R40': 0.9741480122923671, 'Car_image/hard_R40': 1.0807705140816841, 'Pedestrian_aos/easy_R40': 6.0295314668686375, 'Pedestrian_aos/moderate_R40': 5.3379968818661885, 'Pedestrian_aos/hard_R40': 5.114950352940348, 'Pedestrian_3d/easy_R40': 3.6187907923104814, 'Pedestrian_3d/moderate_R40': 3.3907527089040426, 'Pedestrian_3d/hard_R40': 2.9851570810710015, 'Pedestrian_bev/easy_R40': 31.84423130699828, 'Pedestrian_bev/moderate_R40': 29.23152619681192, 'Pedestrian_bev/hard_R40': 27.239558266291926, 'Pedestrian_image/easy_R40': 13.547988684429232, 'Pedestrian_image/moderate_R40': 12.155208867496148, 'Pedestrian_image/hard_R40': 11.595678352519306, 'Cyclist_aos/easy_R40': 5.546753947897037, 'Cyclist_aos/moderate_R40': 3.6275418689612176, 'Cyclist_aos/hard_R40': 3.6724990899362355, 'Cyclist_3d/easy_R40': 1.0130019637538368, 'Cyclist_3d/moderate_R40': 0.5826392871969587, 'Cyclist_3d/hard_R40': 0.5568519409223934, 'Cyclist_bev/easy_R40': 34.88558762807583, 'Cyclist_bev/moderate_R40': 19.09693030589151, 'Cyclist_bev/hard_R40': 18.162570296083207, 'Cyclist_image/easy_R40': 6.109021340233599, 'Cyclist_image/moderate_R40': 4.01596663394076, 'Cyclist_image/hard_R40': 4.094601107289595}\n",
      "file: I-V_data_1.8um_length_50nm_diameter_BT_4V_NA_third_etch_20min_Pb_ED_3h_180C_MAI_no_200nm_Ag_memory_6V_carbon_paste_no_wait.xlsx, sigma: 0.11051303530682587, usability: 0.3279872460213791, evaluate-9\n"
     ]
    },
    {
     "name": "stderr",
     "output_type": "stream",
     "text": [
      "eval: 100%|█████████▉| 942/943 [03:31<00:00, 24.54it/s]2023-07-28 16:27:15,633   INFO  Average predicted number of objects(3769 samples): 61.627\n",
      "eval: 100%|██████████| 943/943 [03:54<00:00,  4.02it/s]\n"
     ]
    },
    {
     "name": "stdout",
     "output_type": "stream",
     "text": [
      "{'recall/roi_0.3': 0.0, 'recall/rcnn_0.3': 0.0, 'recall/roi_0.5': 0.0, 'recall/rcnn_0.5': 0.0, 'recall/roi_0.7': 0.0, 'recall/rcnn_0.7': 0.0, 'Car_aos/easy_R40': 0.05707239595020417, 'Car_aos/moderate_R40': 0.0793152343241665, 'Car_aos/hard_R40': 0.0716512663145881, 'Car_3d/easy_R40': 0.0022996057818659658, 'Car_3d/moderate_R40': 0.0024661926096428135, 'Car_3d/hard_R40': 0.002568845047266749, 'Car_bev/easy_R40': 38.057449590829584, 'Car_bev/moderate_R40': 24.64841675195885, 'Car_bev/hard_R40': 21.71106088820508, 'Car_image/easy_R40': 0.06466702049142639, 'Car_image/moderate_R40': 0.08951491104073804, 'Car_image/hard_R40': 0.08392314494021802, 'Pedestrian_aos/easy_R40': 0.06840081041045155, 'Pedestrian_aos/moderate_R40': 0.06704942478718373, 'Pedestrian_aos/hard_R40': 0.11575963572152237, 'Pedestrian_3d/easy_R40': 0.0016305959086866289, 'Pedestrian_3d/moderate_R40': 0.001920712968653964, 'Pedestrian_3d/hard_R40': 0.002879963136471853, 'Pedestrian_bev/easy_R40': 14.930723772407003, 'Pedestrian_bev/moderate_R40': 12.65797265328849, 'Pedestrian_bev/hard_R40': 12.596842087039112, 'Pedestrian_image/easy_R40': 0.12428278584716432, 'Pedestrian_image/moderate_R40': 0.1287748158824262, 'Pedestrian_image/hard_R40': 0.22224139156370926, 'Cyclist_aos/easy_R40': 0.44663251860207875, 'Cyclist_aos/moderate_R40': 0.3323410362268937, 'Cyclist_aos/hard_R40': 0.3774746271665371, 'Cyclist_3d/easy_R40': 0.00046112699437425065, 'Cyclist_3d/moderate_R40': 0.0004288565903561849, 'Cyclist_3d/hard_R40': 0.0005068147085425568, 'Cyclist_bev/easy_R40': 26.00364453714898, 'Cyclist_bev/moderate_R40': 15.875097369645497, 'Cyclist_bev/hard_R40': 15.154819810113413, 'Cyclist_image/easy_R40': 0.61733753789888, 'Cyclist_image/moderate_R40': 0.4399980851451555, 'Cyclist_image/hard_R40': 0.49591812387676343}\n",
      "file: I-V_data_1.5um_length_200nm_diameter_BT_4V_NA_third_etch_15min_Pb_ED_3h_180C_MAI_no_200nm_Ag_memory_6V_carbon_paste_no_wait.xlsx, sigma: 0.11413417169899973, usability: 0.13617621818629255, evaluate-0\n"
     ]
    },
    {
     "name": "stderr",
     "output_type": "stream",
     "text": [
      "eval: 100%|█████████▉| 942/943 [03:28<00:00, 23.45it/s]2023-07-28 16:31:09,332   INFO  Average predicted number of objects(3769 samples): 44.787\n",
      "eval: 100%|██████████| 943/943 [03:49<00:00,  4.10it/s]\n"
     ]
    },
    {
     "name": "stdout",
     "output_type": "stream",
     "text": [
      "{'recall/roi_0.3': 0.0, 'recall/rcnn_0.3': 0.0, 'recall/roi_0.5': 0.0, 'recall/rcnn_0.5': 0.0, 'recall/roi_0.7': 0.0, 'recall/rcnn_0.7': 0.0, 'Car_aos/easy_R40': 73.89515138364608, 'Car_aos/moderate_R40': 49.773537141744676, 'Car_aos/hard_R40': 46.217115463420456, 'Car_3d/easy_R40': 25.935352689274215, 'Car_3d/moderate_R40': 21.07016302879103, 'Car_3d/hard_R40': 19.36784352708061, 'Car_bev/easy_R40': 80.78248048233328, 'Car_bev/moderate_R40': 61.41953899807987, 'Car_bev/hard_R40': 56.68034085190368, 'Car_image/easy_R40': 74.5679896600301, 'Car_image/moderate_R40': 50.53125333691959, 'Car_image/hard_R40': 47.20853421770572, 'Pedestrian_aos/easy_R40': 5.525875864312128, 'Pedestrian_aos/moderate_R40': 4.423487248619995, 'Pedestrian_aos/hard_R40': 4.176723767308661, 'Pedestrian_3d/easy_R40': 15.101525729086005, 'Pedestrian_3d/moderate_R40': 12.320872728145629, 'Pedestrian_3d/hard_R40': 11.320200089620862, 'Pedestrian_bev/easy_R40': 24.88926004932707, 'Pedestrian_bev/moderate_R40': 19.906022893686988, 'Pedestrian_bev/hard_R40': 17.968998364372005, 'Pedestrian_image/easy_R40': 9.878336527476225, 'Pedestrian_image/moderate_R40': 8.318843496534381, 'Pedestrian_image/hard_R40': 8.012186465838683, 'Cyclist_aos/easy_R40': 34.85984811971484, 'Cyclist_aos/moderate_R40': 20.287362005894245, 'Cyclist_aos/hard_R40': 19.423326456669233, 'Cyclist_3d/easy_R40': 30.657262183958345, 'Cyclist_3d/moderate_R40': 17.71408856574523, 'Cyclist_3d/hard_R40': 16.57723500486164, 'Cyclist_bev/easy_R40': 40.5447271641256, 'Cyclist_bev/moderate_R40': 24.02778389571357, 'Cyclist_bev/hard_R40': 22.712883364557204, 'Cyclist_image/easy_R40': 38.91724631838899, 'Cyclist_image/moderate_R40': 23.09995058989797, 'Cyclist_image/hard_R40': 22.03182434018663}\n",
      "file: I-V_data_1.5um_length_200nm_diameter_BT_4V_NA_third_etch_15min_Pb_ED_3h_180C_MAI_no_200nm_Ag_memory_6V_carbon_paste_no_wait.xlsx, sigma: 0.11413417169899973, usability: 0.13617621818629255, evaluate-1\n"
     ]
    },
    {
     "name": "stderr",
     "output_type": "stream",
     "text": [
      "eval: 100%|█████████▉| 942/943 [03:35<00:00, 22.59it/s]2023-07-28 16:35:07,865   INFO  Average predicted number of objects(3769 samples): 44.325\n",
      "eval: 100%|██████████| 943/943 [03:57<00:00,  3.97it/s]\n"
     ]
    },
    {
     "name": "stdout",
     "output_type": "stream",
     "text": [
      "{'recall/roi_0.3': 0.0, 'recall/rcnn_0.3': 0.0, 'recall/roi_0.5': 0.0, 'recall/rcnn_0.5': 0.0, 'recall/roi_0.7': 0.0, 'recall/rcnn_0.7': 0.0, 'Car_aos/easy_R40': 72.6026730036092, 'Car_aos/moderate_R40': 56.208355320980296, 'Car_aos/hard_R40': 53.12672522924713, 'Car_3d/easy_R40': 21.343085757195244, 'Car_3d/moderate_R40': 19.546656448554373, 'Car_3d/hard_R40': 19.02583428726726, 'Car_bev/easy_R40': 89.09030944089508, 'Car_bev/moderate_R40': 69.88706602171273, 'Car_bev/hard_R40': 65.53982361430708, 'Car_image/easy_R40': 72.89958798024323, 'Car_image/moderate_R40': 56.67048645064655, 'Car_image/hard_R40': 53.71609371782515, 'Pedestrian_aos/easy_R40': 19.144654656846065, 'Pedestrian_aos/moderate_R40': 17.722934276062404, 'Pedestrian_aos/hard_R40': 16.595573546386618, 'Pedestrian_3d/easy_R40': 36.740794238998134, 'Pedestrian_3d/moderate_R40': 32.83122296532249, 'Pedestrian_3d/hard_R40': 29.245864131932564, 'Pedestrian_bev/easy_R40': 43.390863157456074, 'Pedestrian_bev/moderate_R40': 39.07443806679829, 'Pedestrian_bev/hard_R40': 35.92191993762147, 'Pedestrian_image/easy_R40': 43.434662326844794, 'Pedestrian_image/moderate_R40': 39.92040546377222, 'Pedestrian_image/hard_R40': 37.61524918879488, 'Cyclist_aos/easy_R40': 45.764550405263826, 'Cyclist_aos/moderate_R40': 29.68612423761486, 'Cyclist_aos/hard_R40': 28.00268979075119, 'Cyclist_3d/easy_R40': 53.45261152668572, 'Cyclist_3d/moderate_R40': 31.881199716839003, 'Cyclist_3d/hard_R40': 29.655814795068792, 'Cyclist_bev/easy_R40': 61.01245523015009, 'Cyclist_bev/moderate_R40': 37.278455088959674, 'Cyclist_bev/hard_R40': 34.622186505822214, 'Cyclist_image/easy_R40': 63.67001236189633, 'Cyclist_image/moderate_R40': 40.686207725718546, 'Cyclist_image/hard_R40': 38.39094147958092}\n",
      "file: I-V_data_1.5um_length_200nm_diameter_BT_4V_NA_third_etch_15min_Pb_ED_3h_180C_MAI_no_200nm_Ag_memory_6V_carbon_paste_no_wait.xlsx, sigma: 0.11413417169899973, usability: 0.13617621818629255, evaluate-2\n"
     ]
    },
    {
     "name": "stderr",
     "output_type": "stream",
     "text": [
      "eval: 100%|█████████▉| 942/943 [03:31<00:00, 23.63it/s]2023-07-28 16:39:09,230   INFO  Average predicted number of objects(3769 samples): 26.836\n",
      "eval: 100%|██████████| 943/943 [03:48<00:00,  4.13it/s]\n"
     ]
    },
    {
     "name": "stdout",
     "output_type": "stream",
     "text": [
      "{'recall/roi_0.3': 0.0, 'recall/rcnn_0.3': 0.0, 'recall/roi_0.5': 0.0, 'recall/rcnn_0.5': 0.0, 'recall/roi_0.7': 0.0, 'recall/rcnn_0.7': 0.0, 'Car_aos/easy_R40': 77.27274309650906, 'Car_aos/moderate_R40': 65.78107132282041, 'Car_aos/hard_R40': 63.74760522339671, 'Car_3d/easy_R40': 44.08855610604066, 'Car_3d/moderate_R40': 35.12283140002344, 'Car_3d/hard_R40': 31.91397245525529, 'Car_bev/easy_R40': 86.61025828780787, 'Car_bev/moderate_R40': 74.81558878297471, 'Car_bev/hard_R40': 71.71976392335674, 'Car_image/easy_R40': 77.44804189569959, 'Car_image/moderate_R40': 66.11911957632493, 'Car_image/hard_R40': 64.35537210773255, 'Pedestrian_aos/easy_R40': 22.466487675055983, 'Pedestrian_aos/moderate_R40': 20.04303198994602, 'Pedestrian_aos/hard_R40': 18.597541695261143, 'Pedestrian_3d/easy_R40': 13.728431167298924, 'Pedestrian_3d/moderate_R40': 13.098783566484059, 'Pedestrian_3d/hard_R40': 12.110617300744995, 'Pedestrian_bev/easy_R40': 26.418708803852432, 'Pedestrian_bev/moderate_R40': 24.540866494064453, 'Pedestrian_bev/hard_R40': 22.478490972638205, 'Pedestrian_image/easy_R40': 43.35253122554978, 'Pedestrian_image/moderate_R40': 39.68253894502851, 'Pedestrian_image/hard_R40': 36.8522858393058, 'Cyclist_aos/easy_R40': 50.72137352421719, 'Cyclist_aos/moderate_R40': 32.230334057650175, 'Cyclist_aos/hard_R40': 29.75078230121176, 'Cyclist_3d/easy_R40': 56.46047737005586, 'Cyclist_3d/moderate_R40': 35.00764854125865, 'Cyclist_3d/hard_R40': 32.372988535302866, 'Cyclist_bev/easy_R40': 60.62335853728437, 'Cyclist_bev/moderate_R40': 38.15884991792286, 'Cyclist_bev/hard_R40': 35.577385975413314, 'Cyclist_image/easy_R40': 62.444557467714176, 'Cyclist_image/moderate_R40': 40.10501711760398, 'Cyclist_image/hard_R40': 37.437445489168596}\n",
      "file: I-V_data_1.5um_length_200nm_diameter_BT_4V_NA_third_etch_15min_Pb_ED_3h_180C_MAI_no_200nm_Ag_memory_6V_carbon_paste_no_wait.xlsx, sigma: 0.11413417169899973, usability: 0.13617621818629255, evaluate-3\n"
     ]
    },
    {
     "name": "stderr",
     "output_type": "stream",
     "text": [
      "eval: 100%|█████████▉| 942/943 [03:36<00:00, 23.11it/s]2023-07-28 16:43:10,978   INFO  Average predicted number of objects(3769 samples): 68.249\n",
      "eval: 100%|██████████| 943/943 [04:06<00:00,  3.82it/s]\n"
     ]
    },
    {
     "name": "stdout",
     "output_type": "stream",
     "text": [
      "{'recall/roi_0.3': 0.0, 'recall/rcnn_0.3': 0.0, 'recall/roi_0.5': 0.0, 'recall/rcnn_0.5': 0.0, 'recall/roi_0.7': 0.0, 'recall/rcnn_0.7': 0.0, 'Car_aos/easy_R40': 48.38968530072044, 'Car_aos/moderate_R40': 35.79542056359693, 'Car_aos/hard_R40': 36.08049468732012, 'Car_3d/easy_R40': 11.727543035045082, 'Car_3d/moderate_R40': 9.097931706759677, 'Car_3d/hard_R40': 9.224236735661426, 'Car_bev/easy_R40': 86.65961181597854, 'Car_bev/moderate_R40': 69.90571345973876, 'Car_bev/hard_R40': 67.21972564936817, 'Car_image/easy_R40': 48.5531365919957, 'Car_image/moderate_R40': 36.037040487240006, 'Car_image/hard_R40': 36.591345557222866, 'Pedestrian_aos/easy_R40': 11.107938098299579, 'Pedestrian_aos/moderate_R40': 8.23763268660927, 'Pedestrian_aos/hard_R40': 8.194768316545264, 'Pedestrian_3d/easy_R40': 22.95425748095137, 'Pedestrian_3d/moderate_R40': 16.38573143915797, 'Pedestrian_3d/hard_R40': 15.589290696019814, 'Pedestrian_bev/easy_R40': 28.73205326739227, 'Pedestrian_bev/moderate_R40': 20.829487962305855, 'Pedestrian_bev/hard_R40': 20.23674015249996, 'Pedestrian_image/easy_R40': 25.155466809052772, 'Pedestrian_image/moderate_R40': 18.159925040785442, 'Pedestrian_image/hard_R40': 17.98348593997959, 'Cyclist_aos/easy_R40': 48.87228538245337, 'Cyclist_aos/moderate_R40': 33.20153302655685, 'Cyclist_aos/hard_R40': 31.03512191925034, 'Cyclist_3d/easy_R40': 53.88874564362061, 'Cyclist_3d/moderate_R40': 33.55408764593787, 'Cyclist_3d/hard_R40': 31.180855482328706, 'Cyclist_bev/easy_R40': 60.4751095463296, 'Cyclist_bev/moderate_R40': 38.83068281221418, 'Cyclist_bev/hard_R40': 36.17011018146451, 'Cyclist_image/easy_R40': 65.19971137061056, 'Cyclist_image/moderate_R40': 44.2656929753803, 'Cyclist_image/hard_R40': 41.63965278783969}\n",
      "file: I-V_data_1.5um_length_200nm_diameter_BT_4V_NA_third_etch_15min_Pb_ED_3h_180C_MAI_no_200nm_Ag_memory_6V_carbon_paste_no_wait.xlsx, sigma: 0.11413417169899973, usability: 0.13617621818629255, evaluate-4\n"
     ]
    },
    {
     "name": "stderr",
     "output_type": "stream",
     "text": [
      "eval: 100%|█████████▉| 942/943 [03:32<00:00, 23.52it/s]2023-07-28 16:47:21,457   INFO  Average predicted number of objects(3769 samples): 10.062\n",
      "eval: 100%|██████████| 943/943 [03:44<00:00,  4.20it/s]\n"
     ]
    },
    {
     "name": "stdout",
     "output_type": "stream",
     "text": [
      "{'recall/roi_0.3': 0.0, 'recall/rcnn_0.3': 0.0, 'recall/roi_0.5': 0.0, 'recall/rcnn_0.5': 0.0, 'recall/roi_0.7': 0.0, 'recall/rcnn_0.7': 0.0, 'Car_aos/easy_R40': 60.77215541504201, 'Car_aos/moderate_R40': 47.048699179681584, 'Car_aos/hard_R40': 46.529121882675135, 'Car_3d/easy_R40': 22.14341610074042, 'Car_3d/moderate_R40': 20.72538015181217, 'Car_3d/hard_R40': 20.64752406852937, 'Car_bev/easy_R40': 64.34892459098853, 'Car_bev/moderate_R40': 52.37657663565762, 'Car_bev/hard_R40': 51.45856454735248, 'Car_image/easy_R40': 62.73896666903968, 'Car_image/moderate_R40': 49.31843880925476, 'Car_image/hard_R40': 51.12169715741493, 'Pedestrian_aos/easy_R40': 17.93646862095693, 'Pedestrian_aos/moderate_R40': 15.710459850286657, 'Pedestrian_aos/hard_R40': 14.132054982087084, 'Pedestrian_3d/easy_R40': 18.944583626727578, 'Pedestrian_3d/moderate_R40': 16.095806476817287, 'Pedestrian_3d/hard_R40': 14.721227683940668, 'Pedestrian_bev/easy_R40': 34.59822258352956, 'Pedestrian_bev/moderate_R40': 29.717795278647614, 'Pedestrian_bev/hard_R40': 26.479847770456793, 'Pedestrian_image/easy_R40': 36.099606956555036, 'Pedestrian_image/moderate_R40': 31.31584427511035, 'Pedestrian_image/hard_R40': 28.534904639650428, 'Cyclist_aos/easy_R40': 32.99097008784905, 'Cyclist_aos/moderate_R40': 18.780823214424817, 'Cyclist_aos/hard_R40': 17.744413043636037, 'Cyclist_3d/easy_R40': 44.288653349186724, 'Cyclist_3d/moderate_R40': 24.85588517663624, 'Cyclist_3d/hard_R40': 23.01559725472899, 'Cyclist_bev/easy_R40': 47.19264923170439, 'Cyclist_bev/moderate_R40': 26.67380505264681, 'Cyclist_bev/hard_R40': 24.8476653033485, 'Cyclist_image/easy_R40': 47.08806477939526, 'Cyclist_image/moderate_R40': 26.87967970281575, 'Cyclist_image/hard_R40': 25.402600695359805}\n",
      "file: I-V_data_1.5um_length_200nm_diameter_BT_4V_NA_third_etch_15min_Pb_ED_3h_180C_MAI_no_200nm_Ag_memory_6V_carbon_paste_no_wait.xlsx, sigma: 0.11413417169899973, usability: 0.13617621818629255, evaluate-5\n"
     ]
    },
    {
     "name": "stderr",
     "output_type": "stream",
     "text": [
      "eval: 100%|█████████▉| 942/943 [03:30<00:00, 25.02it/s]2023-07-28 16:51:11,135   INFO  Average predicted number of objects(3769 samples): 14.388\n",
      "eval: 100%|██████████| 943/943 [03:42<00:00,  4.24it/s]\n"
     ]
    },
    {
     "name": "stdout",
     "output_type": "stream",
     "text": [
      "{'recall/roi_0.3': 0.0, 'recall/rcnn_0.3': 0.0, 'recall/roi_0.5': 0.0, 'recall/rcnn_0.5': 0.0, 'recall/roi_0.7': 0.0, 'recall/rcnn_0.7': 0.0, 'Car_aos/easy_R40': 53.86570500914274, 'Car_aos/moderate_R40': 36.28472638223273, 'Car_aos/hard_R40': 32.74610939890367, 'Car_3d/easy_R40': 14.522913073423, 'Car_3d/moderate_R40': 11.942615257769182, 'Car_3d/hard_R40': 10.606511237759117, 'Car_bev/easy_R40': 74.3479054212106, 'Car_bev/moderate_R40': 49.705906149951815, 'Car_bev/hard_R40': 45.322360095034824, 'Car_image/easy_R40': 54.075891832123745, 'Car_image/moderate_R40': 36.60884324266417, 'Car_image/hard_R40': 33.22083136221781, 'Pedestrian_aos/easy_R40': 19.30935376712081, 'Pedestrian_aos/moderate_R40': 17.151031620065215, 'Pedestrian_aos/hard_R40': 15.877383104151757, 'Pedestrian_3d/easy_R40': 16.501576898026617, 'Pedestrian_3d/moderate_R40': 15.75948522045435, 'Pedestrian_3d/hard_R40': 14.946417741166881, 'Pedestrian_bev/easy_R40': 30.94380041268206, 'Pedestrian_bev/moderate_R40': 28.395297153056077, 'Pedestrian_bev/hard_R40': 26.54656145840902, 'Pedestrian_image/easy_R40': 39.31701118211531, 'Pedestrian_image/moderate_R40': 35.85911809349018, 'Pedestrian_image/hard_R40': 33.93695702117455, 'Cyclist_aos/easy_R40': 23.530550237180098, 'Cyclist_aos/moderate_R40': 13.483372624846506, 'Cyclist_aos/hard_R40': 13.200997885755877, 'Cyclist_3d/easy_R40': 20.84469741687256, 'Cyclist_3d/moderate_R40': 12.11737641745367, 'Cyclist_3d/hard_R40': 11.538563670074762, 'Cyclist_bev/easy_R40': 25.39973982358142, 'Cyclist_bev/moderate_R40': 14.370388724544044, 'Cyclist_bev/hard_R40': 13.911302058499391, 'Cyclist_image/easy_R40': 25.516510106686763, 'Cyclist_image/moderate_R40': 14.70354887259084, 'Cyclist_image/hard_R40': 14.427387097567014}\n",
      "file: I-V_data_1.5um_length_200nm_diameter_BT_4V_NA_third_etch_15min_Pb_ED_3h_180C_MAI_no_200nm_Ag_memory_6V_carbon_paste_no_wait.xlsx, sigma: 0.11413417169899973, usability: 0.13617621818629255, evaluate-6\n"
     ]
    },
    {
     "name": "stderr",
     "output_type": "stream",
     "text": [
      "eval: 100%|█████████▉| 942/943 [03:30<00:00, 26.86it/s]2023-07-28 16:54:55,696   INFO  Average predicted number of objects(3769 samples): 45.014\n",
      "eval: 100%|██████████| 943/943 [03:51<00:00,  4.07it/s]\n"
     ]
    },
    {
     "name": "stdout",
     "output_type": "stream",
     "text": [
      "{'recall/roi_0.3': 0.0, 'recall/rcnn_0.3': 0.0, 'recall/roi_0.5': 0.0, 'recall/rcnn_0.5': 0.0, 'recall/roi_0.7': 0.0, 'recall/rcnn_0.7': 0.0, 'Car_aos/easy_R40': 11.125551679701365, 'Car_aos/moderate_R40': 14.132350471795288, 'Car_aos/hard_R40': 16.299432379365214, 'Car_3d/easy_R40': 0.29177474882867716, 'Car_3d/moderate_R40': 0.5611884513509446, 'Car_3d/hard_R40': 0.9356044271110647, 'Car_bev/easy_R40': 82.59708633977348, 'Car_bev/moderate_R40': 71.77770672309167, 'Car_bev/hard_R40': 69.12297860115929, 'Car_image/easy_R40': 11.153372445318363, 'Car_image/moderate_R40': 14.27062528499862, 'Car_image/hard_R40': 16.570907065802714, 'Pedestrian_aos/easy_R40': 4.196026535285779, 'Pedestrian_aos/moderate_R40': 4.3611278384201775, 'Pedestrian_aos/hard_R40': 4.336147918474533, 'Pedestrian_3d/easy_R40': 8.057035810411941, 'Pedestrian_3d/moderate_R40': 8.29416360472511, 'Pedestrian_3d/hard_R40': 8.119518691772608, 'Pedestrian_bev/easy_R40': 35.13327702096456, 'Pedestrian_bev/moderate_R40': 31.96242383199962, 'Pedestrian_bev/hard_R40': 28.88015178999525, 'Pedestrian_image/easy_R40': 8.36265204534856, 'Pedestrian_image/moderate_R40': 9.327526029094328, 'Pedestrian_image/hard_R40': 9.291842047076909, 'Cyclist_aos/easy_R40': 48.88108063336894, 'Cyclist_aos/moderate_R40': 29.045442472747347, 'Cyclist_aos/hard_R40': 26.824171536302714, 'Cyclist_3d/easy_R40': 33.88964284775079, 'Cyclist_3d/moderate_R40': 19.824698245051025, 'Cyclist_3d/hard_R40': 18.53608064374254, 'Cyclist_bev/easy_R40': 54.648643470593974, 'Cyclist_bev/moderate_R40': 32.647282551940386, 'Cyclist_bev/hard_R40': 30.569990002752434, 'Cyclist_image/easy_R40': 54.41406180309002, 'Cyclist_image/moderate_R40': 32.56967743762848, 'Cyclist_image/hard_R40': 30.224957742096226}\n",
      "file: I-V_data_1.5um_length_200nm_diameter_BT_4V_NA_third_etch_15min_Pb_ED_3h_180C_MAI_no_200nm_Ag_memory_6V_carbon_paste_no_wait.xlsx, sigma: 0.11413417169899973, usability: 0.13617621818629255, evaluate-7\n"
     ]
    },
    {
     "name": "stderr",
     "output_type": "stream",
     "text": [
      "eval: 100%|█████████▉| 942/943 [03:29<00:00, 24.38it/s]2023-07-28 16:58:48,158   INFO  Average predicted number of objects(3769 samples): 65.299\n",
      "eval: 100%|██████████| 943/943 [03:57<00:00,  3.96it/s]\n"
     ]
    },
    {
     "name": "stdout",
     "output_type": "stream",
     "text": [
      "{'recall/roi_0.3': 0.0, 'recall/rcnn_0.3': 0.0, 'recall/roi_0.5': 0.0, 'recall/rcnn_0.5': 0.0, 'recall/roi_0.7': 0.0, 'recall/rcnn_0.7': 0.0, 'Car_aos/easy_R40': 61.85169280696886, 'Car_aos/moderate_R40': 52.06492031209853, 'Car_aos/hard_R40': 49.487394646071515, 'Car_3d/easy_R40': 12.251004202027767, 'Car_3d/moderate_R40': 10.700269143903022, 'Car_3d/hard_R40': 10.54409757028109, 'Car_bev/easy_R40': 84.85433758613972, 'Car_bev/moderate_R40': 71.60766629654024, 'Car_bev/hard_R40': 67.42949098757921, 'Car_image/easy_R40': 62.49145997782082, 'Car_image/moderate_R40': 53.557374020742046, 'Car_image/hard_R40': 50.917808589527766, 'Pedestrian_aos/easy_R40': 11.870917357303112, 'Pedestrian_aos/moderate_R40': 11.532044891686933, 'Pedestrian_aos/hard_R40': 11.040338474184294, 'Pedestrian_3d/easy_R40': 19.555759542688094, 'Pedestrian_3d/moderate_R40': 18.58406373551418, 'Pedestrian_3d/hard_R40': 16.985906489847828, 'Pedestrian_bev/easy_R40': 28.802504213428982, 'Pedestrian_bev/moderate_R40': 26.89294444399518, 'Pedestrian_bev/hard_R40': 25.908813229334104, 'Pedestrian_image/easy_R40': 29.917638020537176, 'Pedestrian_image/moderate_R40': 29.088071495515205, 'Pedestrian_image/hard_R40': 28.167349164202886, 'Cyclist_aos/easy_R40': 48.42112599509193, 'Cyclist_aos/moderate_R40': 29.49142634775247, 'Cyclist_aos/hard_R40': 27.38354204953739, 'Cyclist_3d/easy_R40': 43.352879573554596, 'Cyclist_3d/moderate_R40': 26.195059083169024, 'Cyclist_3d/hard_R40': 24.187743155809134, 'Cyclist_bev/easy_R40': 45.27163940646794, 'Cyclist_bev/moderate_R40': 28.23236276320436, 'Cyclist_bev/hard_R40': 26.23431950713379, 'Cyclist_image/easy_R40': 52.22144614867143, 'Cyclist_image/moderate_R40': 32.36218457783242, 'Cyclist_image/hard_R40': 30.214727829815136}\n",
      "file: I-V_data_1.5um_length_200nm_diameter_BT_4V_NA_third_etch_15min_Pb_ED_3h_180C_MAI_no_200nm_Ag_memory_6V_carbon_paste_no_wait.xlsx, sigma: 0.11413417169899973, usability: 0.13617621818629255, evaluate-8\n"
     ]
    },
    {
     "name": "stderr",
     "output_type": "stream",
     "text": [
      "eval: 100%|█████████▉| 942/943 [03:30<00:00, 26.62it/s]2023-07-28 17:02:49,316   INFO  Average predicted number of objects(3769 samples): 59.201\n",
      "eval: 100%|██████████| 943/943 [03:57<00:00,  3.97it/s]\n"
     ]
    },
    {
     "name": "stdout",
     "output_type": "stream",
     "text": [
      "{'recall/roi_0.3': 0.0, 'recall/rcnn_0.3': 0.0, 'recall/roi_0.5': 0.0, 'recall/rcnn_0.5': 0.0, 'recall/roi_0.7': 0.0, 'recall/rcnn_0.7': 0.0, 'Car_aos/easy_R40': 45.65725722955382, 'Car_aos/moderate_R40': 41.87443454226128, 'Car_aos/hard_R40': 41.292786677861045, 'Car_3d/easy_R40': 3.7138031520031296, 'Car_3d/moderate_R40': 5.87004504825329, 'Car_3d/hard_R40': 6.329231109925823, 'Car_bev/easy_R40': 79.85680262463389, 'Car_bev/moderate_R40': 66.23974667001492, 'Car_bev/hard_R40': 62.24565019704041, 'Car_image/easy_R40': 45.892044976067254, 'Car_image/moderate_R40': 42.29483981105416, 'Car_image/hard_R40': 41.82373295829622, 'Pedestrian_aos/easy_R40': 9.13415870514032, 'Pedestrian_aos/moderate_R40': 7.149730651175247, 'Pedestrian_aos/hard_R40': 6.906290573595972, 'Pedestrian_3d/easy_R40': 12.078912582880688, 'Pedestrian_3d/moderate_R40': 9.484237888476281, 'Pedestrian_3d/hard_R40': 8.971264966173841, 'Pedestrian_bev/easy_R40': 27.112476555218045, 'Pedestrian_bev/moderate_R40': 20.27043016048983, 'Pedestrian_bev/hard_R40': 19.52232693510619, 'Pedestrian_image/easy_R40': 22.0814595257466, 'Pedestrian_image/moderate_R40': 16.682511867251506, 'Pedestrian_image/hard_R40': 15.867771289579725, 'Cyclist_aos/easy_R40': 39.93146494119652, 'Cyclist_aos/moderate_R40': 25.190149170286546, 'Cyclist_aos/hard_R40': 23.171724311173204, 'Cyclist_3d/easy_R40': 29.794053727243185, 'Cyclist_3d/moderate_R40': 17.59015950520375, 'Cyclist_3d/hard_R40': 16.69690529504308, 'Cyclist_bev/easy_R40': 54.71095095786116, 'Cyclist_bev/moderate_R40': 34.177448847687266, 'Cyclist_bev/hard_R40': 31.871980172105896, 'Cyclist_image/easy_R40': 53.72812515470693, 'Cyclist_image/moderate_R40': 34.54542709863478, 'Cyclist_image/hard_R40': 31.97191515996755}\n",
      "file: I-V_data_1.5um_length_200nm_diameter_BT_4V_NA_third_etch_15min_Pb_ED_3h_180C_MAI_no_200nm_Ag_memory_6V_carbon_paste_no_wait.xlsx, sigma: 0.11413417169899973, usability: 0.13617621818629255, evaluate-9\n"
     ]
    },
    {
     "name": "stderr",
     "output_type": "stream",
     "text": [
      "eval: 100%|█████████▉| 942/943 [03:34<00:00, 25.19it/s]2023-07-28 17:06:52,964   INFO  Average predicted number of objects(3769 samples): 89.787\n",
      "eval: 100%|██████████| 943/943 [04:10<00:00,  3.77it/s]\n"
     ]
    },
    {
     "name": "stdout",
     "output_type": "stream",
     "text": [
      "{'recall/roi_0.3': 0.0, 'recall/rcnn_0.3': 0.0, 'recall/roi_0.5': 0.0, 'recall/rcnn_0.5': 0.0, 'recall/roi_0.7': 0.0, 'recall/rcnn_0.7': 0.0, 'Car_aos/easy_R40': 70.92097113384014, 'Car_aos/moderate_R40': 54.71772286075998, 'Car_aos/hard_R40': 51.515621427548034, 'Car_3d/easy_R40': 9.628806632888818, 'Car_3d/moderate_R40': 9.627109389323099, 'Car_3d/hard_R40': 9.582821024413505, 'Car_bev/easy_R40': 80.34496006022242, 'Car_bev/moderate_R40': 69.95383521236236, 'Car_bev/hard_R40': 65.57524658303849, 'Car_image/easy_R40': 71.39429568338005, 'Car_image/moderate_R40': 55.47971867332586, 'Car_image/hard_R40': 52.56594141504781, 'Pedestrian_aos/easy_R40': 10.142115101769653, 'Pedestrian_aos/moderate_R40': 7.041554474880007, 'Pedestrian_aos/hard_R40': 6.750996996062114, 'Pedestrian_3d/easy_R40': 22.080382715685325, 'Pedestrian_3d/moderate_R40': 13.773101408058027, 'Pedestrian_3d/hard_R40': 12.902399855692199, 'Pedestrian_bev/easy_R40': 24.880002969120195, 'Pedestrian_bev/moderate_R40': 16.08689103579347, 'Pedestrian_bev/hard_R40': 15.526218597131969, 'Pedestrian_image/easy_R40': 22.113490199071357, 'Pedestrian_image/moderate_R40': 15.057162872739474, 'Pedestrian_image/hard_R40': 14.832553890380385, 'Cyclist_aos/easy_R40': 31.504650347543205, 'Cyclist_aos/moderate_R40': 22.064640762630816, 'Cyclist_aos/hard_R40': 20.508259557817837, 'Cyclist_3d/easy_R40': 27.537404744320547, 'Cyclist_3d/moderate_R40': 18.071989766999796, 'Cyclist_3d/hard_R40': 16.663249257652918, 'Cyclist_bev/easy_R40': 34.71955569158929, 'Cyclist_bev/moderate_R40': 23.38334660179365, 'Cyclist_bev/hard_R40': 21.72179078677609, 'Cyclist_image/easy_R40': 33.65022339151148, 'Cyclist_image/moderate_R40': 25.141497939792966, 'Cyclist_image/hard_R40': 23.39615280369399}\n",
      "file: I-V_data_1.5um_length_200nm_diameter_BT_2V_NA_third_etch_15min_Pb_ED_3h_180C_MAI_no_200nm_Ag_memory_6V_carbon_paste_no_wait.xlsx, sigma: 0.1279357252476451, usability: 0.25912426563260615, evaluate-0\n"
     ]
    },
    {
     "name": "stderr",
     "output_type": "stream",
     "text": [
      "eval: 100%|█████████▉| 942/943 [03:37<00:00, 24.91it/s]2023-07-28 17:11:14,072   INFO  Average predicted number of objects(3769 samples): 55.456\n",
      "eval: 100%|██████████| 943/943 [04:01<00:00,  3.91it/s]\n"
     ]
    },
    {
     "name": "stdout",
     "output_type": "stream",
     "text": [
      "{'recall/roi_0.3': 0.0, 'recall/rcnn_0.3': 0.0, 'recall/roi_0.5': 0.0, 'recall/rcnn_0.5': 0.0, 'recall/roi_0.7': 0.0, 'recall/rcnn_0.7': 0.0, 'Car_aos/easy_R40': 27.621902971077876, 'Car_aos/moderate_R40': 16.778318797573476, 'Car_aos/hard_R40': 15.649680646655215, 'Car_3d/easy_R40': 2.737973579769241, 'Car_3d/moderate_R40': 2.3703132022788194, 'Car_3d/hard_R40': 2.4043872703353353, 'Car_bev/easy_R40': 34.83862517627948, 'Car_bev/moderate_R40': 20.990219706801692, 'Car_bev/hard_R40': 19.153763133248788, 'Car_image/easy_R40': 29.98173179754581, 'Car_image/moderate_R40': 18.040621555313823, 'Car_image/hard_R40': 16.821612912190872, 'Pedestrian_aos/easy_R40': 1.1493237325430505, 'Pedestrian_aos/moderate_R40': 1.149662384758873, 'Pedestrian_aos/hard_R40': 1.252210753688271, 'Pedestrian_3d/easy_R40': 1.97721560572231, 'Pedestrian_3d/moderate_R40': 1.7574561630846202, 'Pedestrian_3d/hard_R40': 1.7887720123357562, 'Pedestrian_bev/easy_R40': 2.9239238661907225, 'Pedestrian_bev/moderate_R40': 2.8117657406068286, 'Pedestrian_bev/hard_R40': 3.058299091471713, 'Pedestrian_image/easy_R40': 2.6178470917455683, 'Pedestrian_image/moderate_R40': 2.4711227797873083, 'Pedestrian_image/hard_R40': 2.8019447705002523, 'Cyclist_aos/easy_R40': 3.3221717873174774, 'Cyclist_aos/moderate_R40': 2.4030585956604353, 'Cyclist_aos/hard_R40': 2.579189726715613, 'Cyclist_3d/easy_R40': 3.956199788538056, 'Cyclist_3d/moderate_R40': 3.110770725122459, 'Cyclist_3d/hard_R40': 3.1346584725323554, 'Cyclist_bev/easy_R40': 5.377440362557927, 'Cyclist_bev/moderate_R40': 4.046479542307395, 'Cyclist_bev/hard_R40': 4.035124206213246, 'Cyclist_image/easy_R40': 6.367535770350627, 'Cyclist_image/moderate_R40': 4.308115076362111, 'Cyclist_image/hard_R40': 4.415229664048485}\n",
      "file: I-V_data_1.5um_length_200nm_diameter_BT_2V_NA_third_etch_15min_Pb_ED_3h_180C_MAI_no_200nm_Ag_memory_6V_carbon_paste_no_wait.xlsx, sigma: 0.1279357252476451, usability: 0.25912426563260615, evaluate-1\n"
     ]
    },
    {
     "name": "stderr",
     "output_type": "stream",
     "text": [
      "eval: 100%|█████████▉| 942/943 [03:35<00:00, 23.26it/s]2023-07-28 17:15:21,410   INFO  Average predicted number of objects(3769 samples): 54.292\n",
      "eval: 100%|██████████| 943/943 [04:01<00:00,  3.91it/s]\n"
     ]
    },
    {
     "name": "stdout",
     "output_type": "stream",
     "text": [
      "{'recall/roi_0.3': 0.0, 'recall/rcnn_0.3': 0.0, 'recall/roi_0.5': 0.0, 'recall/rcnn_0.5': 0.0, 'recall/roi_0.7': 0.0, 'recall/rcnn_0.7': 0.0, 'Car_aos/easy_R40': 65.33398640160748, 'Car_aos/moderate_R40': 52.67569351255001, 'Car_aos/hard_R40': 50.48874257575216, 'Car_3d/easy_R40': 9.950840921404735, 'Car_3d/moderate_R40': 9.449182102402224, 'Car_3d/hard_R40': 9.060866429862429, 'Car_bev/easy_R40': 87.49288585616435, 'Car_bev/moderate_R40': 72.37925703158989, 'Car_bev/hard_R40': 69.54448592618076, 'Car_image/easy_R40': 65.65638430807846, 'Car_image/moderate_R40': 53.11593987021772, 'Car_image/hard_R40': 51.089333154957615, 'Pedestrian_aos/easy_R40': 17.22762601396234, 'Pedestrian_aos/moderate_R40': 14.335474872451643, 'Pedestrian_aos/hard_R40': 13.261908588318605, 'Pedestrian_3d/easy_R40': 32.48237215623377, 'Pedestrian_3d/moderate_R40': 28.321824170694832, 'Pedestrian_3d/hard_R40': 25.523250722446978, 'Pedestrian_bev/easy_R40': 37.48506657154647, 'Pedestrian_bev/moderate_R40': 33.01480810052356, 'Pedestrian_bev/hard_R40': 30.1360000983489, 'Pedestrian_image/easy_R40': 35.03075458116438, 'Pedestrian_image/moderate_R40': 29.790559655620275, 'Pedestrian_image/hard_R40': 27.20691753321121, 'Cyclist_aos/easy_R40': 50.61586840740632, 'Cyclist_aos/moderate_R40': 34.157073343693526, 'Cyclist_aos/hard_R40': 32.16027228330142, 'Cyclist_3d/easy_R40': 50.277762070396335, 'Cyclist_3d/moderate_R40': 32.19082820343038, 'Cyclist_3d/hard_R40': 30.16822241494777, 'Cyclist_bev/easy_R40': 54.734303981668894, 'Cyclist_bev/moderate_R40': 35.98474429997404, 'Cyclist_bev/hard_R40': 34.15969047121247, 'Cyclist_image/easy_R40': 61.75427775509953, 'Cyclist_image/moderate_R40': 42.49173662375056, 'Cyclist_image/hard_R40': 40.35231708737122}\n",
      "file: I-V_data_1.5um_length_200nm_diameter_BT_2V_NA_third_etch_15min_Pb_ED_3h_180C_MAI_no_200nm_Ag_memory_6V_carbon_paste_no_wait.xlsx, sigma: 0.1279357252476451, usability: 0.25912426563260615, evaluate-2\n"
     ]
    },
    {
     "name": "stderr",
     "output_type": "stream",
     "text": [
      "eval: 100%|██████████| 943/943 [03:35<00:00, 25.27it/s]2023-07-28 17:19:29,813   INFO  Average predicted number of objects(3769 samples): 49.328\n",
      "eval: 100%|██████████| 943/943 [03:59<00:00,  3.94it/s]\n"
     ]
    },
    {
     "name": "stdout",
     "output_type": "stream",
     "text": [
      "{'recall/roi_0.3': 0.0, 'recall/rcnn_0.3': 0.0, 'recall/roi_0.5': 0.0, 'recall/rcnn_0.5': 0.0, 'recall/roi_0.7': 0.0, 'recall/rcnn_0.7': 0.0, 'Car_aos/easy_R40': 65.1438055587494, 'Car_aos/moderate_R40': 47.16305326512649, 'Car_aos/hard_R40': 48.366835346851616, 'Car_3d/easy_R40': 34.10431436591192, 'Car_3d/moderate_R40': 24.961049188447625, 'Car_3d/hard_R40': 23.841897610185793, 'Car_bev/easy_R40': 55.851293005726646, 'Car_bev/moderate_R40': 41.866711072258454, 'Car_bev/hard_R40': 43.67866538716753, 'Car_image/easy_R40': 66.63200979710882, 'Car_image/moderate_R40': 48.9493822570666, 'Car_image/hard_R40': 50.74744087453076, 'Pedestrian_aos/easy_R40': 16.088377829209787, 'Pedestrian_aos/moderate_R40': 15.1543608507197, 'Pedestrian_aos/hard_R40': 14.12009523430959, 'Pedestrian_3d/easy_R40': 21.87850691684893, 'Pedestrian_3d/moderate_R40': 21.301492433166384, 'Pedestrian_3d/hard_R40': 20.05412571537904, 'Pedestrian_bev/easy_R40': 31.50148333950008, 'Pedestrian_bev/moderate_R40': 29.48362602065824, 'Pedestrian_bev/hard_R40': 27.434127900730953, 'Pedestrian_image/easy_R40': 35.458719532520824, 'Pedestrian_image/moderate_R40': 33.09752353791014, 'Pedestrian_image/hard_R40': 31.14148804471522, 'Cyclist_aos/easy_R40': 33.32045285878922, 'Cyclist_aos/moderate_R40': 20.899279635741696, 'Cyclist_aos/hard_R40': 19.36432400444883, 'Cyclist_3d/easy_R40': 14.310702334818098, 'Cyclist_3d/moderate_R40': 9.619927530545413, 'Cyclist_3d/hard_R40': 9.156296315945259, 'Cyclist_bev/easy_R40': 38.789790781278995, 'Cyclist_bev/moderate_R40': 24.185798054296274, 'Cyclist_bev/hard_R40': 22.185653236102137, 'Cyclist_image/easy_R40': 40.38901426159825, 'Cyclist_image/moderate_R40': 25.957928298658178, 'Cyclist_image/hard_R40': 24.02345866996713}\n",
      "file: I-V_data_1.5um_length_200nm_diameter_BT_2V_NA_third_etch_15min_Pb_ED_3h_180C_MAI_no_200nm_Ag_memory_6V_carbon_paste_no_wait.xlsx, sigma: 0.1279357252476451, usability: 0.25912426563260615, evaluate-3\n"
     ]
    },
    {
     "name": "stderr",
     "output_type": "stream",
     "text": [
      "eval: 100%|█████████▉| 942/943 [03:36<00:00, 23.40it/s]2023-07-28 17:23:37,249   INFO  Average predicted number of objects(3769 samples): 85.433\n",
      "eval: 100%|██████████| 943/943 [04:08<00:00,  3.79it/s]\n"
     ]
    },
    {
     "name": "stdout",
     "output_type": "stream",
     "text": [
      "{'recall/roi_0.3': 0.0, 'recall/rcnn_0.3': 0.0, 'recall/roi_0.5': 0.0, 'recall/rcnn_0.5': 0.0, 'recall/roi_0.7': 0.0, 'recall/rcnn_0.7': 0.0, 'Car_aos/easy_R40': 53.07976926464056, 'Car_aos/moderate_R40': 33.11542869394815, 'Car_aos/hard_R40': 28.40903722189444, 'Car_3d/easy_R40': 6.64690456768498, 'Car_3d/moderate_R40': 5.656286630997803, 'Car_3d/hard_R40': 4.8280943365303575, 'Car_bev/easy_R40': 50.67518315063707, 'Car_bev/moderate_R40': 32.65168016808589, 'Car_bev/hard_R40': 27.977167714789925, 'Car_image/easy_R40': 54.418057836353526, 'Car_image/moderate_R40': 34.26289654316153, 'Car_image/hard_R40': 29.45464902285876, 'Pedestrian_aos/easy_R40': 9.757174279813498, 'Pedestrian_aos/moderate_R40': 8.197856701149039, 'Pedestrian_aos/hard_R40': 7.544682223880754, 'Pedestrian_3d/easy_R40': 11.84844577911054, 'Pedestrian_3d/moderate_R40': 10.585377549169381, 'Pedestrian_3d/hard_R40': 9.696895827727728, 'Pedestrian_bev/easy_R40': 30.79708119867754, 'Pedestrian_bev/moderate_R40': 24.713727329890794, 'Pedestrian_bev/hard_R40': 22.01414388323597, 'Pedestrian_image/easy_R40': 22.66363563996011, 'Pedestrian_image/moderate_R40': 19.08466022090665, 'Pedestrian_image/hard_R40': 17.680545499736972, 'Cyclist_aos/easy_R40': 16.83679210634537, 'Cyclist_aos/moderate_R40': 10.785905966403938, 'Cyclist_aos/hard_R40': 9.586061360869405, 'Cyclist_3d/easy_R40': 27.151990273548577, 'Cyclist_3d/moderate_R40': 15.856755808387573, 'Cyclist_3d/hard_R40': 14.999168793774748, 'Cyclist_bev/easy_R40': 44.355466822041464, 'Cyclist_bev/moderate_R40': 26.294479863946673, 'Cyclist_bev/hard_R40': 24.409447701878822, 'Cyclist_image/easy_R40': 40.17109316657207, 'Cyclist_image/moderate_R40': 24.45787964487985, 'Cyclist_image/hard_R40': 22.660701037375368}\n",
      "file: I-V_data_1.5um_length_200nm_diameter_BT_2V_NA_third_etch_15min_Pb_ED_3h_180C_MAI_no_200nm_Ag_memory_6V_carbon_paste_no_wait.xlsx, sigma: 0.1279357252476451, usability: 0.25912426563260615, evaluate-4\n"
     ]
    },
    {
     "name": "stderr",
     "output_type": "stream",
     "text": [
      "eval: 100%|█████████▉| 942/943 [03:38<00:00, 22.91it/s]2023-07-28 17:27:57,087   INFO  Average predicted number of objects(3769 samples): 58.555\n",
      "eval: 100%|██████████| 943/943 [04:05<00:00,  3.83it/s]\n"
     ]
    },
    {
     "name": "stdout",
     "output_type": "stream",
     "text": [
      "{'recall/roi_0.3': 0.0, 'recall/rcnn_0.3': 0.0, 'recall/roi_0.5': 0.0, 'recall/rcnn_0.5': 0.0, 'recall/roi_0.7': 0.0, 'recall/rcnn_0.7': 0.0, 'Car_aos/easy_R40': 82.38959064424958, 'Car_aos/moderate_R40': 67.81787622476702, 'Car_aos/hard_R40': 66.03671386337122, 'Car_3d/easy_R40': 23.480308390527025, 'Car_3d/moderate_R40': 23.859417844012405, 'Car_3d/hard_R40': 24.76945142560481, 'Car_bev/easy_R40': 74.23047216772054, 'Car_bev/moderate_R40': 66.84387485215666, 'Car_bev/hard_R40': 64.63888544947672, 'Car_image/easy_R40': 83.09327148476144, 'Car_image/moderate_R40': 68.67034384797715, 'Car_image/hard_R40': 67.11738273534526, 'Pedestrian_aos/easy_R40': 8.597487497374349, 'Pedestrian_aos/moderate_R40': 7.012678979956608, 'Pedestrian_aos/hard_R40': 7.279096551727905, 'Pedestrian_3d/easy_R40': 18.934427718644038, 'Pedestrian_3d/moderate_R40': 15.515274245861754, 'Pedestrian_3d/hard_R40': 14.432530789097095, 'Pedestrian_bev/easy_R40': 27.090416654713717, 'Pedestrian_bev/moderate_R40': 22.837259575000797, 'Pedestrian_bev/hard_R40': 21.80432061269982, 'Pedestrian_image/easy_R40': 19.227440118311506, 'Pedestrian_image/moderate_R40': 15.784456342999672, 'Pedestrian_image/hard_R40': 16.125445923076242, 'Cyclist_aos/easy_R40': 43.37462780200544, 'Cyclist_aos/moderate_R40': 27.902442412489858, 'Cyclist_aos/hard_R40': 25.949978851827698, 'Cyclist_3d/easy_R40': 32.32043515727604, 'Cyclist_3d/moderate_R40': 19.233807541637525, 'Cyclist_3d/hard_R40': 17.859561758157152, 'Cyclist_bev/easy_R40': 52.85048080517816, 'Cyclist_bev/moderate_R40': 33.89260612629392, 'Cyclist_bev/hard_R40': 31.32776556777563, 'Cyclist_image/easy_R40': 47.74041706544333, 'Cyclist_image/moderate_R40': 31.465192940323295, 'Cyclist_image/hard_R40': 29.514121945390663}\n",
      "file: I-V_data_1.5um_length_200nm_diameter_BT_2V_NA_third_etch_15min_Pb_ED_3h_180C_MAI_no_200nm_Ag_memory_6V_carbon_paste_no_wait.xlsx, sigma: 0.1279357252476451, usability: 0.25912426563260615, evaluate-5\n"
     ]
    },
    {
     "name": "stderr",
     "output_type": "stream",
     "text": [
      "eval: 100%|█████████▉| 942/943 [03:33<00:00, 23.87it/s]2023-07-28 17:32:06,450   INFO  Average predicted number of objects(3769 samples): 24.731\n",
      "eval: 100%|██████████| 943/943 [03:50<00:00,  4.09it/s]\n"
     ]
    },
    {
     "name": "stdout",
     "output_type": "stream",
     "text": [
      "{'recall/roi_0.3': 0.0, 'recall/rcnn_0.3': 0.0, 'recall/roi_0.5': 0.0, 'recall/rcnn_0.5': 0.0, 'recall/roi_0.7': 0.0, 'recall/rcnn_0.7': 0.0, 'Car_aos/easy_R40': 76.57958587532379, 'Car_aos/moderate_R40': 59.467630340649904, 'Car_aos/hard_R40': 58.86057369835183, 'Car_3d/easy_R40': 24.180845611810643, 'Car_3d/moderate_R40': 20.51417441653639, 'Car_3d/hard_R40': 20.53830363356818, 'Car_bev/easy_R40': 81.83747841032998, 'Car_bev/moderate_R40': 68.57598878460416, 'Car_bev/hard_R40': 66.08449821553906, 'Car_image/easy_R40': 76.88825805027284, 'Car_image/moderate_R40': 59.83192357987317, 'Car_image/hard_R40': 59.43272572898173, 'Pedestrian_aos/easy_R40': 17.286076236956724, 'Pedestrian_aos/moderate_R40': 15.055984580499974, 'Pedestrian_aos/hard_R40': 13.703518237077747, 'Pedestrian_3d/easy_R40': 31.540991802675478, 'Pedestrian_3d/moderate_R40': 28.467603673878806, 'Pedestrian_3d/hard_R40': 25.392485771991502, 'Pedestrian_bev/easy_R40': 42.89161143230726, 'Pedestrian_bev/moderate_R40': 38.49542016178261, 'Pedestrian_bev/hard_R40': 35.502618738047154, 'Pedestrian_image/easy_R40': 39.364461657468446, 'Pedestrian_image/moderate_R40': 35.334306802133845, 'Pedestrian_image/hard_R40': 32.80601650841562, 'Cyclist_aos/easy_R40': 55.839575161434, 'Cyclist_aos/moderate_R40': 33.23961072960559, 'Cyclist_aos/hard_R40': 31.832791326701237, 'Cyclist_3d/easy_R40': 46.027040188041966, 'Cyclist_3d/moderate_R40': 27.423854903230094, 'Cyclist_3d/hard_R40': 25.317838728311898, 'Cyclist_bev/easy_R40': 50.51953108249517, 'Cyclist_bev/moderate_R40': 30.147707548756554, 'Cyclist_bev/hard_R40': 28.24568809394957, 'Cyclist_image/easy_R40': 59.400466240423015, 'Cyclist_image/moderate_R40': 36.10988058683453, 'Cyclist_image/hard_R40': 34.729145056316604}\n",
      "file: I-V_data_1.5um_length_200nm_diameter_BT_2V_NA_third_etch_15min_Pb_ED_3h_180C_MAI_no_200nm_Ag_memory_6V_carbon_paste_no_wait.xlsx, sigma: 0.1279357252476451, usability: 0.25912426563260615, evaluate-6\n"
     ]
    },
    {
     "name": "stderr",
     "output_type": "stream",
     "text": [
      "eval: 100%|██████████| 943/943 [03:31<00:00, 25.28it/s]2023-07-28 17:36:01,658   INFO  Average predicted number of objects(3769 samples): 37.300\n",
      "eval: 100%|██████████| 943/943 [03:52<00:00,  4.06it/s]\n"
     ]
    },
    {
     "name": "stdout",
     "output_type": "stream",
     "text": [
      "{'recall/roi_0.3': 0.0, 'recall/rcnn_0.3': 0.0, 'recall/roi_0.5': 0.0, 'recall/rcnn_0.5': 0.0, 'recall/roi_0.7': 0.0, 'recall/rcnn_0.7': 0.0, 'Car_aos/easy_R40': 76.17289716583092, 'Car_aos/moderate_R40': 60.3082923020519, 'Car_aos/hard_R40': 59.1800153057466, 'Car_3d/easy_R40': 52.4706949413718, 'Car_3d/moderate_R40': 43.02803539320753, 'Car_3d/hard_R40': 41.410245515588294, 'Car_bev/easy_R40': 76.8539477119159, 'Car_bev/moderate_R40': 65.25594173741716, 'Car_bev/hard_R40': 62.83533201371424, 'Car_image/easy_R40': 82.75837093954091, 'Car_image/moderate_R40': 68.05721269816004, 'Car_image/hard_R40': 67.44673573287142, 'Pedestrian_aos/easy_R40': 11.071773718905591, 'Pedestrian_aos/moderate_R40': 9.940084360571882, 'Pedestrian_aos/hard_R40': 9.679412652957211, 'Pedestrian_3d/easy_R40': 15.785903742410024, 'Pedestrian_3d/moderate_R40': 14.614175798298184, 'Pedestrian_3d/hard_R40': 13.547021021114608, 'Pedestrian_bev/easy_R40': 23.20160724883013, 'Pedestrian_bev/moderate_R40': 20.990443805738973, 'Pedestrian_bev/hard_R40': 19.9589226433227, 'Pedestrian_image/easy_R40': 24.14400118034275, 'Pedestrian_image/moderate_R40': 21.74984849203271, 'Pedestrian_image/hard_R40': 21.11273568864612, 'Cyclist_aos/easy_R40': 31.8047640365699, 'Cyclist_aos/moderate_R40': 20.025353936142405, 'Cyclist_aos/hard_R40': 19.098524678481642, 'Cyclist_3d/easy_R40': 34.900634969035835, 'Cyclist_3d/moderate_R40': 21.16772294199471, 'Cyclist_3d/hard_R40': 19.683498194048376, 'Cyclist_bev/easy_R40': 43.97915062995471, 'Cyclist_bev/moderate_R40': 26.763159126361213, 'Cyclist_bev/hard_R40': 24.84589116737984, 'Cyclist_image/easy_R40': 47.29939404910792, 'Cyclist_image/moderate_R40': 30.793075916008146, 'Cyclist_image/hard_R40': 29.062732893089795}\n",
      "file: I-V_data_1.5um_length_200nm_diameter_BT_2V_NA_third_etch_15min_Pb_ED_3h_180C_MAI_no_200nm_Ag_memory_6V_carbon_paste_no_wait.xlsx, sigma: 0.1279357252476451, usability: 0.25912426563260615, evaluate-7\n"
     ]
    },
    {
     "name": "stderr",
     "output_type": "stream",
     "text": [
      "eval: 100%|█████████▉| 942/943 [03:32<00:00, 25.13it/s]2023-07-28 17:40:01,947   INFO  Average predicted number of objects(3769 samples): 27.923\n",
      "eval: 100%|██████████| 943/943 [03:50<00:00,  4.10it/s]\n"
     ]
    },
    {
     "name": "stdout",
     "output_type": "stream",
     "text": [
      "{'recall/roi_0.3': 0.0, 'recall/rcnn_0.3': 0.0, 'recall/roi_0.5': 0.0, 'recall/rcnn_0.5': 0.0, 'recall/roi_0.7': 0.0, 'recall/rcnn_0.7': 0.0, 'Car_aos/easy_R40': 66.41922941363804, 'Car_aos/moderate_R40': 53.33333912021011, 'Car_aos/hard_R40': 54.84550936876475, 'Car_3d/easy_R40': 36.81906291534073, 'Car_3d/moderate_R40': 30.58541687014963, 'Car_3d/hard_R40': 30.24528676119945, 'Car_bev/easy_R40': 65.28330354483451, 'Car_bev/moderate_R40': 54.61640541532189, 'Car_bev/hard_R40': 56.05985397723045, 'Car_image/easy_R40': 67.34723317736494, 'Car_image/moderate_R40': 54.66815562716534, 'Car_image/hard_R40': 56.811526533880354, 'Pedestrian_aos/easy_R40': 13.791458505831505, 'Pedestrian_aos/moderate_R40': 13.494416770620049, 'Pedestrian_aos/hard_R40': 12.616752922241375, 'Pedestrian_3d/easy_R40': 25.04240403770351, 'Pedestrian_3d/moderate_R40': 23.81094216658354, 'Pedestrian_3d/hard_R40': 21.98782663654634, 'Pedestrian_bev/easy_R40': 30.130878605068634, 'Pedestrian_bev/moderate_R40': 28.44693326580345, 'Pedestrian_bev/hard_R40': 26.5114390588531, 'Pedestrian_image/easy_R40': 36.233889620716795, 'Pedestrian_image/moderate_R40': 33.708960833611066, 'Pedestrian_image/hard_R40': 31.540595536346704, 'Cyclist_aos/easy_R40': 26.75635012478731, 'Cyclist_aos/moderate_R40': 16.13874306220339, 'Cyclist_aos/hard_R40': 15.272357819080733, 'Cyclist_3d/easy_R40': 46.412294711032665, 'Cyclist_3d/moderate_R40': 28.243502983733038, 'Cyclist_3d/hard_R40': 26.36560388695313, 'Cyclist_bev/easy_R40': 50.266144118694534, 'Cyclist_bev/moderate_R40': 30.419762724863027, 'Cyclist_bev/hard_R40': 28.355002456335853, 'Cyclist_image/easy_R40': 55.161693865253824, 'Cyclist_image/moderate_R40': 33.54887109571573, 'Cyclist_image/hard_R40': 31.559995113045296}\n",
      "file: I-V_data_1.5um_length_200nm_diameter_BT_2V_NA_third_etch_15min_Pb_ED_3h_180C_MAI_no_200nm_Ag_memory_6V_carbon_paste_no_wait.xlsx, sigma: 0.1279357252476451, usability: 0.25912426563260615, evaluate-8\n"
     ]
    },
    {
     "name": "stderr",
     "output_type": "stream",
     "text": [
      "eval: 100%|█████████▉| 942/943 [03:33<00:00, 24.41it/s]2023-07-28 17:44:00,729   INFO  Average predicted number of objects(3769 samples): 29.286\n",
      "eval: 100%|██████████| 943/943 [03:50<00:00,  4.09it/s]\n"
     ]
    },
    {
     "name": "stdout",
     "output_type": "stream",
     "text": [
      "{'recall/roi_0.3': 0.0, 'recall/rcnn_0.3': 0.0, 'recall/roi_0.5': 0.0, 'recall/rcnn_0.5': 0.0, 'recall/roi_0.7': 0.0, 'recall/rcnn_0.7': 0.0, 'Car_aos/easy_R40': 26.770310501184753, 'Car_aos/moderate_R40': 23.804088721779845, 'Car_aos/hard_R40': 25.17234791087318, 'Car_3d/easy_R40': 4.3661798088891155, 'Car_3d/moderate_R40': 5.40234368175839, 'Car_3d/hard_R40': 5.759367167219341, 'Car_bev/easy_R40': 76.88470111400655, 'Car_bev/moderate_R40': 54.60526664323761, 'Car_bev/hard_R40': 52.14623159409217, 'Car_image/easy_R40': 27.23802060368078, 'Car_image/moderate_R40': 24.407510747140307, 'Car_image/hard_R40': 25.94876293117514, 'Pedestrian_aos/easy_R40': 5.506326875763061, 'Pedestrian_aos/moderate_R40': 5.526786508362669, 'Pedestrian_aos/hard_R40': 5.613751975149831, 'Pedestrian_3d/easy_R40': 12.957983005725005, 'Pedestrian_3d/moderate_R40': 12.550119508757978, 'Pedestrian_3d/hard_R40': 12.253802338897781, 'Pedestrian_bev/easy_R40': 30.638490607595003, 'Pedestrian_bev/moderate_R40': 28.340799097174884, 'Pedestrian_bev/hard_R40': 27.232336587122575, 'Pedestrian_image/easy_R40': 12.793423686941557, 'Pedestrian_image/moderate_R40': 12.422510863767714, 'Pedestrian_image/hard_R40': 12.708153439377586, 'Cyclist_aos/easy_R40': 34.22331970927745, 'Cyclist_aos/moderate_R40': 20.754113977685194, 'Cyclist_aos/hard_R40': 19.56948358026859, 'Cyclist_3d/easy_R40': 17.9444239592078, 'Cyclist_3d/moderate_R40': 10.818215109929838, 'Cyclist_3d/hard_R40': 10.266553002719721, 'Cyclist_bev/easy_R40': 47.467520815278455, 'Cyclist_bev/moderate_R40': 29.20217038099605, 'Cyclist_bev/hard_R40': 27.515769620174567, 'Cyclist_image/easy_R40': 44.31716421283163, 'Cyclist_image/moderate_R40': 27.183033407932495, 'Cyclist_image/hard_R40': 25.795842208167503}\n",
      "file: I-V_data_1.5um_length_200nm_diameter_BT_2V_NA_third_etch_15min_Pb_ED_3h_180C_MAI_no_200nm_Ag_memory_6V_carbon_paste_no_wait.xlsx, sigma: 0.1279357252476451, usability: 0.25912426563260615, evaluate-9\n"
     ]
    },
    {
     "name": "stderr",
     "output_type": "stream",
     "text": [
      "eval: 100%|█████████▉| 942/943 [03:27<00:00, 25.10it/s]2023-07-28 17:47:47,424   INFO  Average predicted number of objects(3769 samples): 12.231\n",
      "eval: 100%|██████████| 943/943 [03:38<00:00,  4.31it/s]\n"
     ]
    },
    {
     "name": "stdout",
     "output_type": "stream",
     "text": [
      "{'recall/roi_0.3': 0.0, 'recall/rcnn_0.3': 0.0, 'recall/roi_0.5': 0.0, 'recall/rcnn_0.5': 0.0, 'recall/roi_0.7': 0.0, 'recall/rcnn_0.7': 0.0, 'Car_aos/easy_R40': 34.12575262625478, 'Car_aos/moderate_R40': 25.243720378844824, 'Car_aos/hard_R40': 24.04224827047573, 'Car_3d/easy_R40': 1.8199227790513952, 'Car_3d/moderate_R40': 1.7155725377447257, 'Car_3d/hard_R40': 1.7085742518594182, 'Car_bev/easy_R40': 77.30475923730039, 'Car_bev/moderate_R40': 57.54199361146293, 'Car_bev/hard_R40': 56.01942252781947, 'Car_image/easy_R40': 34.594889043258924, 'Car_image/moderate_R40': 25.620509158587947, 'Car_image/hard_R40': 24.44686391317023, 'Pedestrian_aos/easy_R40': 12.78613227213919, 'Pedestrian_aos/moderate_R40': 11.142091283206188, 'Pedestrian_aos/hard_R40': 10.105352080972338, 'Pedestrian_3d/easy_R40': 17.152902320439548, 'Pedestrian_3d/moderate_R40': 14.61099726385677, 'Pedestrian_3d/hard_R40': 12.871591891137445, 'Pedestrian_bev/easy_R40': 22.27703011196823, 'Pedestrian_bev/moderate_R40': 19.356816455625992, 'Pedestrian_bev/hard_R40': 17.21214732961564, 'Pedestrian_image/easy_R40': 29.087158348728583, 'Pedestrian_image/moderate_R40': 26.058691298266556, 'Pedestrian_image/hard_R40': 23.675054832332364, 'Cyclist_aos/easy_R40': 10.400952061176598, 'Cyclist_aos/moderate_R40': 5.8015188553804755, 'Cyclist_aos/hard_R40': 5.712696437919688, 'Cyclist_3d/easy_R40': 36.28570045899727, 'Cyclist_3d/moderate_R40': 20.373704658373054, 'Cyclist_3d/hard_R40': 18.745571094593686, 'Cyclist_bev/easy_R40': 44.592192998553315, 'Cyclist_bev/moderate_R40': 24.553906134417268, 'Cyclist_bev/hard_R40': 22.681741224266258, 'Cyclist_image/easy_R40': 43.83965936483847, 'Cyclist_image/moderate_R40': 24.571852364554843, 'Cyclist_image/hard_R40': 23.005795029096596}\n",
      "file: I-V_data_2um_length_300nm_diameter_BT_4V_NA_third_etch_15min_Pb_ED_1h_180C_MAI_no_100nm_Ag_memory_6V_carbon_paste_no_wait.xlsx, sigma: 0.15000099873611333, usability: 0.09432367536286719, evaluate-0\n"
     ]
    },
    {
     "name": "stderr",
     "output_type": "stream",
     "text": [
      "eval: 100%|█████████▉| 942/943 [03:30<00:00, 27.40it/s]2023-07-28 17:51:30,564   INFO  Average predicted number of objects(3769 samples): 25.427\n",
      "eval: 100%|██████████| 943/943 [03:46<00:00,  4.16it/s]\n"
     ]
    },
    {
     "name": "stdout",
     "output_type": "stream",
     "text": [
      "{'recall/roi_0.3': 0.0, 'recall/rcnn_0.3': 0.0, 'recall/roi_0.5': 0.0, 'recall/rcnn_0.5': 0.0, 'recall/roi_0.7': 0.0, 'recall/rcnn_0.7': 0.0, 'Car_aos/easy_R40': 22.49560125690421, 'Car_aos/moderate_R40': 23.981463547200736, 'Car_aos/hard_R40': 24.740642693103528, 'Car_3d/easy_R40': 0.4122564371585585, 'Car_3d/moderate_R40': 1.0344486636049124, 'Car_3d/hard_R40': 1.362873299686213, 'Car_bev/easy_R40': 76.27012573493033, 'Car_bev/moderate_R40': 62.62802367389744, 'Car_bev/hard_R40': 57.87627520395973, 'Car_image/easy_R40': 23.628467835564678, 'Car_image/moderate_R40': 25.290412316134553, 'Car_image/hard_R40': 26.021506545526847, 'Pedestrian_aos/easy_R40': 10.596478593117135, 'Pedestrian_aos/moderate_R40': 9.679077502321292, 'Pedestrian_aos/hard_R40': 9.030417257886715, 'Pedestrian_3d/easy_R40': 16.78940273251402, 'Pedestrian_3d/moderate_R40': 15.950135837809285, 'Pedestrian_3d/hard_R40': 14.446788862317858, 'Pedestrian_bev/easy_R40': 30.093101243930796, 'Pedestrian_bev/moderate_R40': 27.578981930223733, 'Pedestrian_bev/hard_R40': 25.359568178782354, 'Pedestrian_image/easy_R40': 21.60657290694393, 'Pedestrian_image/moderate_R40': 19.800845664811767, 'Pedestrian_image/hard_R40': 18.5070764141435, 'Cyclist_aos/easy_R40': 28.01556384586708, 'Cyclist_aos/moderate_R40': 16.24988921344283, 'Cyclist_aos/hard_R40': 15.411428966814473, 'Cyclist_3d/easy_R40': 43.34415880931387, 'Cyclist_3d/moderate_R40': 24.400266062910053, 'Cyclist_3d/hard_R40': 22.698164026469478, 'Cyclist_bev/easy_R40': 47.734404831317725, 'Cyclist_bev/moderate_R40': 27.748814010615565, 'Cyclist_bev/hard_R40': 25.939373379072823, 'Cyclist_image/easy_R40': 48.691495506302054, 'Cyclist_image/moderate_R40': 28.41855580554742, 'Cyclist_image/hard_R40': 26.695003796485494}\n",
      "file: I-V_data_2um_length_300nm_diameter_BT_4V_NA_third_etch_15min_Pb_ED_1h_180C_MAI_no_100nm_Ag_memory_6V_carbon_paste_no_wait.xlsx, sigma: 0.15000099873611333, usability: 0.09432367536286719, evaluate-1\n"
     ]
    },
    {
     "name": "stderr",
     "output_type": "stream",
     "text": [
      "eval: 100%|█████████▉| 942/943 [03:27<00:00, 26.67it/s]2023-07-28 17:55:14,950   INFO  Average predicted number of objects(3769 samples): 60.709\n",
      "eval: 100%|██████████| 943/943 [03:54<00:00,  4.01it/s]\n"
     ]
    },
    {
     "name": "stdout",
     "output_type": "stream",
     "text": [
      "{'recall/roi_0.3': 0.0, 'recall/rcnn_0.3': 0.0, 'recall/roi_0.5': 0.0, 'recall/rcnn_0.5': 0.0, 'recall/roi_0.7': 0.0, 'recall/rcnn_0.7': 0.0, 'Car_aos/easy_R40': 55.33278258273848, 'Car_aos/moderate_R40': 48.688616005945775, 'Car_aos/hard_R40': 45.662669933150895, 'Car_3d/easy_R40': 8.866922893635014, 'Car_3d/moderate_R40': 11.917931073486313, 'Car_3d/hard_R40': 11.460750190061978, 'Car_bev/easy_R40': 85.46884092339285, 'Car_bev/moderate_R40': 71.98707074236378, 'Car_bev/hard_R40': 67.53565543527384, 'Car_image/easy_R40': 55.742809098477, 'Car_image/moderate_R40': 49.81741364287207, 'Car_image/hard_R40': 47.47748643464636, 'Pedestrian_aos/easy_R40': 14.351874378601654, 'Pedestrian_aos/moderate_R40': 11.547087643495926, 'Pedestrian_aos/hard_R40': 10.977837178753273, 'Pedestrian_3d/easy_R40': 8.572152218149085, 'Pedestrian_3d/moderate_R40': 6.7700298265081535, 'Pedestrian_3d/hard_R40': 6.480091993859808, 'Pedestrian_bev/easy_R40': 27.90668251501846, 'Pedestrian_bev/moderate_R40': 22.597081822227608, 'Pedestrian_bev/hard_R40': 21.91391557814818, 'Pedestrian_image/easy_R40': 29.568088275315557, 'Pedestrian_image/moderate_R40': 23.370631701273123, 'Pedestrian_image/hard_R40': 22.370110595160995, 'Cyclist_aos/easy_R40': 37.428538736609795, 'Cyclist_aos/moderate_R40': 22.750846433060666, 'Cyclist_aos/hard_R40': 21.2656325491473, 'Cyclist_3d/easy_R40': 29.939375102496633, 'Cyclist_3d/moderate_R40': 17.582274829929453, 'Cyclist_3d/hard_R40': 16.041798609889334, 'Cyclist_bev/easy_R40': 52.58071941369392, 'Cyclist_bev/moderate_R40': 31.580463100370217, 'Cyclist_bev/hard_R40': 29.424041097397037, 'Cyclist_image/easy_R40': 49.04589072793133, 'Cyclist_image/moderate_R40': 29.79827298522366, 'Cyclist_image/hard_R40': 28.03595081596913}\n",
      "file: I-V_data_2um_length_300nm_diameter_BT_4V_NA_third_etch_15min_Pb_ED_1h_180C_MAI_no_100nm_Ag_memory_6V_carbon_paste_no_wait.xlsx, sigma: 0.15000099873611333, usability: 0.09432367536286719, evaluate-2\n"
     ]
    },
    {
     "name": "stderr",
     "output_type": "stream",
     "text": [
      "eval: 100%|█████████▉| 942/943 [03:31<00:00, 25.23it/s]2023-07-28 17:59:14,786   INFO  Average predicted number of objects(3769 samples): 42.631\n",
      "eval: 100%|██████████| 943/943 [03:52<00:00,  4.05it/s]\n"
     ]
    },
    {
     "name": "stdout",
     "output_type": "stream",
     "text": [
      "{'recall/roi_0.3': 0.0, 'recall/rcnn_0.3': 0.0, 'recall/roi_0.5': 0.0, 'recall/rcnn_0.5': 0.0, 'recall/roi_0.7': 0.0, 'recall/rcnn_0.7': 0.0, 'Car_aos/easy_R40': 8.845923419194431, 'Car_aos/moderate_R40': 13.681898347429472, 'Car_aos/hard_R40': 13.689706161495815, 'Car_3d/easy_R40': 0.3015150343930113, 'Car_3d/moderate_R40': 0.764662464939742, 'Car_3d/hard_R40': 0.7097896786887751, 'Car_bev/easy_R40': 59.940823434584075, 'Car_bev/moderate_R40': 55.1106290643389, 'Car_bev/hard_R40': 54.142596868624096, 'Car_image/easy_R40': 9.188516171511964, 'Car_image/moderate_R40': 14.253081840733458, 'Car_image/hard_R40': 14.321584428658433, 'Pedestrian_aos/easy_R40': 16.30276541087192, 'Pedestrian_aos/moderate_R40': 14.578812068938465, 'Pedestrian_aos/hard_R40': 13.74819462140179, 'Pedestrian_3d/easy_R40': 25.617257728854092, 'Pedestrian_3d/moderate_R40': 22.78242618038136, 'Pedestrian_3d/hard_R40': 20.37362981568004, 'Pedestrian_bev/easy_R40': 35.154244009299006, 'Pedestrian_bev/moderate_R40': 31.57084714070241, 'Pedestrian_bev/hard_R40': 29.086740891133267, 'Pedestrian_image/easy_R40': 37.8635617195885, 'Pedestrian_image/moderate_R40': 33.44528574869942, 'Pedestrian_image/hard_R40': 31.315970394659885, 'Cyclist_aos/easy_R40': 39.09532692993164, 'Cyclist_aos/moderate_R40': 24.838827161196935, 'Cyclist_aos/hard_R40': 22.680552202086616, 'Cyclist_3d/easy_R40': 37.68690047612092, 'Cyclist_3d/moderate_R40': 23.575373254863393, 'Cyclist_3d/hard_R40': 21.404292513055985, 'Cyclist_bev/easy_R40': 50.144399587457315, 'Cyclist_bev/moderate_R40': 30.935836579997666, 'Cyclist_bev/hard_R40': 28.697249280665847, 'Cyclist_image/easy_R40': 51.283704569293086, 'Cyclist_image/moderate_R40': 33.45017231254847, 'Cyclist_image/hard_R40': 30.919140422399387}\n",
      "file: I-V_data_2um_length_300nm_diameter_BT_4V_NA_third_etch_15min_Pb_ED_1h_180C_MAI_no_100nm_Ag_memory_6V_carbon_paste_no_wait.xlsx, sigma: 0.15000099873611333, usability: 0.09432367536286719, evaluate-3\n"
     ]
    },
    {
     "name": "stderr",
     "output_type": "stream",
     "text": [
      "eval: 100%|█████████▉| 942/943 [03:32<00:00, 26.96it/s]2023-07-28 18:03:09,826   INFO  Average predicted number of objects(3769 samples): 26.447\n",
      "eval: 100%|██████████| 943/943 [03:48<00:00,  4.12it/s]\n"
     ]
    },
    {
     "name": "stdout",
     "output_type": "stream",
     "text": [
      "{'recall/roi_0.3': 0.0, 'recall/rcnn_0.3': 0.0, 'recall/roi_0.5': 0.0, 'recall/rcnn_0.5': 0.0, 'recall/roi_0.7': 0.0, 'recall/rcnn_0.7': 0.0, 'Car_aos/easy_R40': 50.93617443359506, 'Car_aos/moderate_R40': 37.901133653656935, 'Car_aos/hard_R40': 37.391005420774825, 'Car_3d/easy_R40': 9.606047077699499, 'Car_3d/moderate_R40': 7.895328035791536, 'Car_3d/hard_R40': 8.52194669168794, 'Car_bev/easy_R40': 60.02452127399119, 'Car_bev/moderate_R40': 45.92314539651695, 'Car_bev/hard_R40': 44.679000874973475, 'Car_image/easy_R40': 53.47297489463732, 'Car_image/moderate_R40': 39.38225120249249, 'Car_image/hard_R40': 38.82530660801772, 'Pedestrian_aos/easy_R40': 11.14121330623529, 'Pedestrian_aos/moderate_R40': 10.198257201295538, 'Pedestrian_aos/hard_R40': 9.526152140680324, 'Pedestrian_3d/easy_R40': 5.647718585991178, 'Pedestrian_3d/moderate_R40': 5.887570706491915, 'Pedestrian_3d/hard_R40': 5.753444515697752, 'Pedestrian_bev/easy_R40': 11.126040737966994, 'Pedestrian_bev/moderate_R40': 11.476647622557367, 'Pedestrian_bev/hard_R40': 11.255526365819327, 'Pedestrian_image/easy_R40': 23.19053884845305, 'Pedestrian_image/moderate_R40': 21.4485838131072, 'Pedestrian_image/hard_R40': 20.55578538325627, 'Cyclist_aos/easy_R40': 9.709297059475158, 'Cyclist_aos/moderate_R40': 6.335672025406608, 'Cyclist_aos/hard_R40': 6.025295029376735, 'Cyclist_3d/easy_R40': 10.994150508424575, 'Cyclist_3d/moderate_R40': 6.625718876477, 'Cyclist_3d/hard_R40': 6.611480089933343, 'Cyclist_bev/easy_R40': 12.78392367580067, 'Cyclist_bev/moderate_R40': 8.34626241335771, 'Cyclist_bev/hard_R40': 8.040504562056814, 'Cyclist_image/easy_R40': 15.707877683275468, 'Cyclist_image/moderate_R40': 9.489818649709127, 'Cyclist_image/hard_R40': 9.584750430815461}\n",
      "file: I-V_data_2um_length_300nm_diameter_BT_4V_NA_third_etch_15min_Pb_ED_1h_180C_MAI_no_100nm_Ag_memory_6V_carbon_paste_no_wait.xlsx, sigma: 0.15000099873611333, usability: 0.09432367536286719, evaluate-4\n"
     ]
    },
    {
     "name": "stderr",
     "output_type": "stream",
     "text": [
      "eval: 100%|█████████▉| 942/943 [03:27<00:00, 28.07it/s]2023-07-28 18:06:53,535   INFO  Average predicted number of objects(3769 samples): 17.276\n",
      "eval: 100%|██████████| 943/943 [03:40<00:00,  4.28it/s]\n"
     ]
    },
    {
     "name": "stdout",
     "output_type": "stream",
     "text": [
      "{'recall/roi_0.3': 0.0, 'recall/rcnn_0.3': 0.0, 'recall/roi_0.5': 0.0, 'recall/rcnn_0.5': 0.0, 'recall/roi_0.7': 0.0, 'recall/rcnn_0.7': 0.0, 'Car_aos/easy_R40': 65.7603639721071, 'Car_aos/moderate_R40': 45.86865309875459, 'Car_aos/hard_R40': 43.93988078058384, 'Car_3d/easy_R40': 9.442880234692488, 'Car_3d/moderate_R40': 9.97127073174099, 'Car_3d/hard_R40': 10.428988233543794, 'Car_bev/easy_R40': 84.25654086001501, 'Car_bev/moderate_R40': 67.02765173517137, 'Car_bev/hard_R40': 62.1804525157715, 'Car_image/easy_R40': 67.65141132426061, 'Car_image/moderate_R40': 48.26663166037998, 'Car_image/hard_R40': 47.16025199144496, 'Pedestrian_aos/easy_R40': 13.53254858833686, 'Pedestrian_aos/moderate_R40': 12.199166761859944, 'Pedestrian_aos/hard_R40': 11.595909947035983, 'Pedestrian_3d/easy_R40': 7.291900027969099, 'Pedestrian_3d/moderate_R40': 7.8027935448987185, 'Pedestrian_3d/hard_R40': 6.949066567244882, 'Pedestrian_bev/easy_R40': 25.754513908013983, 'Pedestrian_bev/moderate_R40': 23.67842563817863, 'Pedestrian_bev/hard_R40': 22.101687233284796, 'Pedestrian_image/easy_R40': 26.963859158170088, 'Pedestrian_image/moderate_R40': 25.008344864511432, 'Pedestrian_image/hard_R40': 23.488704806014777, 'Cyclist_aos/easy_R40': 29.05631707062709, 'Cyclist_aos/moderate_R40': 16.061573897783315, 'Cyclist_aos/hard_R40': 15.492834395359894, 'Cyclist_3d/easy_R40': 23.595195094002786, 'Cyclist_3d/moderate_R40': 12.402341284274632, 'Cyclist_3d/hard_R40': 11.65272095106548, 'Cyclist_bev/easy_R40': 44.11381113054354, 'Cyclist_bev/moderate_R40': 24.667770636313218, 'Cyclist_bev/hard_R40': 23.096977098482796, 'Cyclist_image/easy_R40': 32.07890645265752, 'Cyclist_image/moderate_R40': 17.93859274901768, 'Cyclist_image/hard_R40': 17.281835679889664}\n",
      "file: I-V_data_2um_length_300nm_diameter_BT_4V_NA_third_etch_15min_Pb_ED_1h_180C_MAI_no_100nm_Ag_memory_6V_carbon_paste_no_wait.xlsx, sigma: 0.15000099873611333, usability: 0.09432367536286719, evaluate-5\n"
     ]
    },
    {
     "name": "stderr",
     "output_type": "stream",
     "text": [
      "eval: 100%|█████████▉| 942/943 [03:27<00:00, 25.39it/s]2023-07-28 18:10:35,399   INFO  Average predicted number of objects(3769 samples): 69.555\n",
      "eval: 100%|██████████| 943/943 [03:56<00:00,  4.00it/s]\n"
     ]
    },
    {
     "name": "stdout",
     "output_type": "stream",
     "text": [
      "{'recall/roi_0.3': 0.0, 'recall/rcnn_0.3': 0.0, 'recall/roi_0.5': 0.0, 'recall/rcnn_0.5': 0.0, 'recall/roi_0.7': 0.0, 'recall/rcnn_0.7': 0.0, 'Car_aos/easy_R40': 37.443691682684566, 'Car_aos/moderate_R40': 29.403739236549935, 'Car_aos/hard_R40': 27.599680068369924, 'Car_3d/easy_R40': 1.6211251367545234, 'Car_3d/moderate_R40': 2.0402961817963, 'Car_3d/hard_R40': 2.3431135721870286, 'Car_bev/easy_R40': 52.12351514114929, 'Car_bev/moderate_R40': 40.54350153763916, 'Car_bev/hard_R40': 37.27673779105568, 'Car_image/easy_R40': 38.15675645757838, 'Car_image/moderate_R40': 30.163114624459258, 'Car_image/hard_R40': 28.465364032465168, 'Pedestrian_aos/easy_R40': 8.270999379017244, 'Pedestrian_aos/moderate_R40': 7.256554627101599, 'Pedestrian_aos/hard_R40': 6.875454101109405, 'Pedestrian_3d/easy_R40': 16.748525942840487, 'Pedestrian_3d/moderate_R40': 14.210490398246197, 'Pedestrian_3d/hard_R40': 13.06856312116699, 'Pedestrian_bev/easy_R40': 21.312340293336877, 'Pedestrian_bev/moderate_R40': 18.533212779510404, 'Pedestrian_bev/hard_R40': 17.378535177986194, 'Pedestrian_image/easy_R40': 18.77265476527984, 'Pedestrian_image/moderate_R40': 15.68562515123931, 'Pedestrian_image/hard_R40': 14.992121787775153, 'Cyclist_aos/easy_R40': 8.072588408604533, 'Cyclist_aos/moderate_R40': 5.502829448133566, 'Cyclist_aos/hard_R40': 5.801237892708653, 'Cyclist_3d/easy_R40': 3.7442936524915473, 'Cyclist_3d/moderate_R40': 2.212612112562055, 'Cyclist_3d/hard_R40': 2.3370133730749054, 'Cyclist_bev/easy_R40': 5.081760891076113, 'Cyclist_bev/moderate_R40': 3.0592291753455854, 'Cyclist_bev/hard_R40': 3.200154004243373, 'Cyclist_image/easy_R40': 9.127849004024384, 'Cyclist_image/moderate_R40': 6.251256780009724, 'Cyclist_image/hard_R40': 6.594914520965392}\n",
      "file: I-V_data_2um_length_300nm_diameter_BT_4V_NA_third_etch_15min_Pb_ED_1h_180C_MAI_no_100nm_Ag_memory_6V_carbon_paste_no_wait.xlsx, sigma: 0.15000099873611333, usability: 0.09432367536286719, evaluate-6\n"
     ]
    },
    {
     "name": "stderr",
     "output_type": "stream",
     "text": [
      "eval: 100%|█████████▉| 942/943 [03:27<00:00, 27.42it/s]2023-07-28 18:14:31,118   INFO  Average predicted number of objects(3769 samples): 15.484\n",
      "eval: 100%|██████████| 943/943 [03:39<00:00,  4.30it/s]\n"
     ]
    },
    {
     "name": "stdout",
     "output_type": "stream",
     "text": [
      "{'recall/roi_0.3': 0.0, 'recall/rcnn_0.3': 0.0, 'recall/roi_0.5': 0.0, 'recall/rcnn_0.5': 0.0, 'recall/roi_0.7': 0.0, 'recall/rcnn_0.7': 0.0, 'Car_aos/easy_R40': 15.909699481642717, 'Car_aos/moderate_R40': 16.16406590073246, 'Car_aos/hard_R40': 16.96549606374289, 'Car_3d/easy_R40': 0.7125237174484088, 'Car_3d/moderate_R40': 1.7199562183688824, 'Car_3d/hard_R40': 1.9857296222673535, 'Car_bev/easy_R40': 67.89196534902896, 'Car_bev/moderate_R40': 49.04819126337888, 'Car_bev/hard_R40': 45.62342402921074, 'Car_image/easy_R40': 16.060720741071417, 'Car_image/moderate_R40': 16.451288872681193, 'Car_image/hard_R40': 17.449908955150516, 'Pedestrian_aos/easy_R40': 13.549030199145465, 'Pedestrian_aos/moderate_R40': 11.573503436634399, 'Pedestrian_aos/hard_R40': 10.423168330197917, 'Pedestrian_3d/easy_R40': 3.525582805994005, 'Pedestrian_3d/moderate_R40': 3.8302189397431534, 'Pedestrian_3d/hard_R40': 3.6283360449468742, 'Pedestrian_bev/easy_R40': 19.35190652078066, 'Pedestrian_bev/moderate_R40': 17.71967354547956, 'Pedestrian_bev/hard_R40': 15.95498308302227, 'Pedestrian_image/easy_R40': 27.2801130022228, 'Pedestrian_image/moderate_R40': 23.639591217289254, 'Pedestrian_image/hard_R40': 21.308099596304338, 'Cyclist_aos/easy_R40': 7.206469769706629, 'Cyclist_aos/moderate_R40': 4.474579241902639, 'Cyclist_aos/hard_R40': 4.389449337726283, 'Cyclist_3d/easy_R40': 13.47919693034521, 'Cyclist_3d/moderate_R40': 6.948753275667208, 'Cyclist_3d/hard_R40': 6.712222568815676, 'Cyclist_bev/easy_R40': 33.91431379216972, 'Cyclist_bev/moderate_R40': 18.93778282349442, 'Cyclist_bev/hard_R40': 17.723483930273478, 'Cyclist_image/easy_R40': 25.62891514809072, 'Cyclist_image/moderate_R40': 15.274955384802318, 'Cyclist_image/hard_R40': 15.002098024123672}\n",
      "file: I-V_data_2um_length_300nm_diameter_BT_4V_NA_third_etch_15min_Pb_ED_1h_180C_MAI_no_100nm_Ag_memory_6V_carbon_paste_no_wait.xlsx, sigma: 0.15000099873611333, usability: 0.09432367536286719, evaluate-7\n"
     ]
    },
    {
     "name": "stderr",
     "output_type": "stream",
     "text": [
      "eval: 100%|█████████▉| 942/943 [03:31<00:00, 25.13it/s]2023-07-28 18:18:16,422   INFO  Average predicted number of objects(3769 samples): 29.249\n",
      "eval: 100%|██████████| 943/943 [03:49<00:00,  4.12it/s]\n"
     ]
    },
    {
     "name": "stdout",
     "output_type": "stream",
     "text": [
      "{'recall/roi_0.3': 0.0, 'recall/rcnn_0.3': 0.0, 'recall/roi_0.5': 0.0, 'recall/rcnn_0.5': 0.0, 'recall/roi_0.7': 0.0, 'recall/rcnn_0.7': 0.0, 'Car_aos/easy_R40': 50.118173901317256, 'Car_aos/moderate_R40': 41.884809675370384, 'Car_aos/hard_R40': 38.42691786769891, 'Car_3d/easy_R40': 13.365963368773121, 'Car_3d/moderate_R40': 12.552497082616314, 'Car_3d/hard_R40': 11.053377267335426, 'Car_bev/easy_R40': 77.27962558050314, 'Car_bev/moderate_R40': 59.92557510153319, 'Car_bev/hard_R40': 55.93111456986903, 'Car_image/easy_R40': 50.55809229634283, 'Car_image/moderate_R40': 42.541169593808014, 'Car_image/hard_R40': 39.133033787183905, 'Pedestrian_aos/easy_R40': 8.419887727794151, 'Pedestrian_aos/moderate_R40': 7.781254838400792, 'Pedestrian_aos/hard_R40': 7.267835765353999, 'Pedestrian_3d/easy_R40': 9.755373827801039, 'Pedestrian_3d/moderate_R40': 8.771215102262934, 'Pedestrian_3d/hard_R40': 7.7964416144743796, 'Pedestrian_bev/easy_R40': 19.58703611122004, 'Pedestrian_bev/moderate_R40': 17.91239643732588, 'Pedestrian_bev/hard_R40': 16.64849611802995, 'Pedestrian_image/easy_R40': 20.437585392536732, 'Pedestrian_image/moderate_R40': 18.526329045069083, 'Pedestrian_image/hard_R40': 17.32827687719935, 'Cyclist_aos/easy_R40': 29.226845931073957, 'Cyclist_aos/moderate_R40': 17.791766809922578, 'Cyclist_aos/hard_R40': 16.80231556581621, 'Cyclist_3d/easy_R40': 29.44036373806632, 'Cyclist_3d/moderate_R40': 17.16861493982155, 'Cyclist_3d/hard_R40': 15.932444748610669, 'Cyclist_bev/easy_R40': 41.026362996504815, 'Cyclist_bev/moderate_R40': 24.163851000028675, 'Cyclist_bev/hard_R40': 22.78987254022228, 'Cyclist_image/easy_R40': 44.83271435612778, 'Cyclist_image/moderate_R40': 27.014781995691433, 'Cyclist_image/hard_R40': 25.561679225772384}\n",
      "file: I-V_data_2um_length_300nm_diameter_BT_4V_NA_third_etch_15min_Pb_ED_1h_180C_MAI_no_100nm_Ag_memory_6V_carbon_paste_no_wait.xlsx, sigma: 0.15000099873611333, usability: 0.09432367536286719, evaluate-8\n"
     ]
    },
    {
     "name": "stderr",
     "output_type": "stream",
     "text": [
      "eval: 100%|█████████▉| 942/943 [03:29<00:00, 23.80it/s]2023-07-28 18:22:03,425   INFO  Average predicted number of objects(3769 samples): 53.059\n",
      "eval: 100%|██████████| 943/943 [03:53<00:00,  4.04it/s]\n"
     ]
    },
    {
     "name": "stdout",
     "output_type": "stream",
     "text": [
      "{'recall/roi_0.3': 0.0, 'recall/rcnn_0.3': 0.0, 'recall/roi_0.5': 0.0, 'recall/rcnn_0.5': 0.0, 'recall/roi_0.7': 0.0, 'recall/rcnn_0.7': 0.0, 'Car_aos/easy_R40': 57.24789590969962, 'Car_aos/moderate_R40': 41.23747897086011, 'Car_aos/hard_R40': 40.46509897736175, 'Car_3d/easy_R40': 7.0840231593802026, 'Car_3d/moderate_R40': 6.976148182263454, 'Car_3d/hard_R40': 7.2243239386487845, 'Car_bev/easy_R40': 68.28551252098836, 'Car_bev/moderate_R40': 50.55140991770127, 'Car_bev/hard_R40': 47.974376507616974, 'Car_image/easy_R40': 58.34084562743384, 'Car_image/moderate_R40': 42.348637022121885, 'Car_image/hard_R40': 41.74881695316544, 'Pedestrian_aos/easy_R40': 8.85712096759886, 'Pedestrian_aos/moderate_R40': 7.707169382798887, 'Pedestrian_aos/hard_R40': 7.623051283993562, 'Pedestrian_3d/easy_R40': 8.912887376272163, 'Pedestrian_3d/moderate_R40': 7.814653622656017, 'Pedestrian_3d/hard_R40': 7.109574690687184, 'Pedestrian_bev/easy_R40': 19.248144948265868, 'Pedestrian_bev/moderate_R40': 17.189532594764596, 'Pedestrian_bev/hard_R40': 16.13892555162281, 'Pedestrian_image/easy_R40': 18.23215762057985, 'Pedestrian_image/moderate_R40': 16.12183605423259, 'Pedestrian_image/hard_R40': 15.985001806083124, 'Cyclist_aos/easy_R40': 17.189968907744703, 'Cyclist_aos/moderate_R40': 10.4281568164304, 'Cyclist_aos/hard_R40': 9.920889367065902, 'Cyclist_3d/easy_R40': 13.600654894373049, 'Cyclist_3d/moderate_R40': 7.360845494944408, 'Cyclist_3d/hard_R40': 6.9788910132841036, 'Cyclist_bev/easy_R40': 18.40233566870802, 'Cyclist_bev/moderate_R40': 11.096431248485764, 'Cyclist_bev/hard_R40': 10.707018041534555, 'Cyclist_image/easy_R40': 18.826472142784663, 'Cyclist_image/moderate_R40': 11.462696456872774, 'Cyclist_image/hard_R40': 11.077997758830053}\n",
      "file: I-V_data_2um_length_300nm_diameter_BT_4V_NA_third_etch_15min_Pb_ED_1h_180C_MAI_no_100nm_Ag_memory_6V_carbon_paste_no_wait.xlsx, sigma: 0.15000099873611333, usability: 0.09432367536286719, evaluate-9\n"
     ]
    },
    {
     "name": "stderr",
     "output_type": "stream",
     "text": [
      "eval: 100%|█████████▉| 942/943 [03:32<00:00, 25.81it/s]2023-07-28 18:26:01,533   INFO  Average predicted number of objects(3769 samples): 30.369\n",
      "eval: 100%|██████████| 943/943 [03:49<00:00,  4.11it/s]\n"
     ]
    },
    {
     "name": "stdout",
     "output_type": "stream",
     "text": [
      "{'recall/roi_0.3': 0.0, 'recall/rcnn_0.3': 0.0, 'recall/roi_0.5': 0.0, 'recall/rcnn_0.5': 0.0, 'recall/roi_0.7': 0.0, 'recall/rcnn_0.7': 0.0, 'Car_aos/easy_R40': 7.200752451242851, 'Car_aos/moderate_R40': 5.221723945335886, 'Car_aos/hard_R40': 5.183811297993366, 'Car_3d/easy_R40': 0.0823965096644287, 'Car_3d/moderate_R40': 0.017015405840423086, 'Car_3d/hard_R40': 0.019411007994119267, 'Car_bev/easy_R40': 39.529961250646934, 'Car_bev/moderate_R40': 30.18176927188524, 'Car_bev/hard_R40': 27.098036847583508, 'Car_image/easy_R40': 7.332069387471045, 'Car_image/moderate_R40': 5.33863120607009, 'Car_image/hard_R40': 5.394530947027771, 'Pedestrian_aos/easy_R40': 7.459489619723206, 'Pedestrian_aos/moderate_R40': 6.8616415217037225, 'Pedestrian_aos/hard_R40': 6.474304759249935, 'Pedestrian_3d/easy_R40': 6.8662281692398315, 'Pedestrian_3d/moderate_R40': 6.721030677940856, 'Pedestrian_3d/hard_R40': 6.213794637899625, 'Pedestrian_bev/easy_R40': 30.30621669127051, 'Pedestrian_bev/moderate_R40': 27.22234538922216, 'Pedestrian_bev/hard_R40': 25.31615031128726, 'Pedestrian_image/easy_R40': 15.753057811336774, 'Pedestrian_image/moderate_R40': 14.58462960910604, 'Pedestrian_image/hard_R40': 13.817287856372868, 'Cyclist_aos/easy_R40': 19.16559475070728, 'Cyclist_aos/moderate_R40': 10.809726743389563, 'Cyclist_aos/hard_R40': 10.270449291324498, 'Cyclist_3d/easy_R40': 7.462701419793229, 'Cyclist_3d/moderate_R40': 4.40711992236495, 'Cyclist_3d/hard_R40': 4.153290096294582, 'Cyclist_bev/easy_R40': 19.001080133107394, 'Cyclist_bev/moderate_R40': 10.941560381440233, 'Cyclist_bev/hard_R40': 10.486944207196789, 'Cyclist_image/easy_R40': 21.8836793623454, 'Cyclist_image/moderate_R40': 12.224946790946047, 'Cyclist_image/hard_R40': 11.752079713064784}\n",
      "file: I-V_data_1.2um_length_250nm_diameter_BT_4V_10s_third_etch_15min_Pb_ED_3h_180C_MAI_no_200nm_Ag_memory_6V_carbon_paste_no_wait.xlsx, sigma: 0.22859124963661484, usability: 0.13200051134831037, evaluate-0\n"
     ]
    },
    {
     "name": "stderr",
     "output_type": "stream",
     "text": [
      "eval: 100%|█████████▉| 942/943 [03:37<00:00, 19.80it/s]2023-07-28 18:41:42,771   INFO  Average predicted number of objects(3769 samples): 76.674\n",
      "eval: 100%|██████████| 943/943 [04:03<00:00,  3.87it/s]\n"
     ]
    },
    {
     "name": "stdout",
     "output_type": "stream",
     "text": [
      "{'recall/roi_0.3': 0.0, 'recall/rcnn_0.3': 0.0, 'recall/roi_0.5': 0.0, 'recall/rcnn_0.5': 0.0, 'recall/roi_0.7': 0.0, 'recall/rcnn_0.7': 0.0, 'Car_aos/easy_R40': 0.5678280698887032, 'Car_aos/moderate_R40': 0.3512879778281721, 'Car_aos/hard_R40': 0.5108404390266755, 'Car_3d/easy_R40': 0.001244518193670736, 'Car_3d/moderate_R40': 0.0011920423275559972, 'Car_3d/hard_R40': 0.002067397146991937, 'Car_bev/easy_R40': 2.3317861716952395, 'Car_bev/moderate_R40': 1.0349108362671375, 'Car_bev/hard_R40': 1.3663275953352352, 'Car_image/easy_R40': 0.7132088941426843, 'Car_image/moderate_R40': 0.46916533983666026, 'Car_image/hard_R40': 0.7184551637264042, 'Pedestrian_aos/easy_R40': 0.32681368477545997, 'Pedestrian_aos/moderate_R40': 0.3031859879706627, 'Pedestrian_aos/hard_R40': 0.3064238150790588, 'Pedestrian_3d/easy_R40': 0.008741258741258742, 'Pedestrian_3d/moderate_R40': 0.009685505925250684, 'Pedestrian_3d/hard_R40': 0.011386927806877705, 'Pedestrian_bev/easy_R40': 21.487210366163296, 'Pedestrian_bev/moderate_R40': 18.704889560491964, 'Pedestrian_bev/hard_R40': 16.6639261813217, 'Pedestrian_image/easy_R40': 0.6839406396524343, 'Pedestrian_image/moderate_R40': 0.6324327938468685, 'Pedestrian_image/hard_R40': 0.6758526327658226, 'Cyclist_aos/easy_R40': 0.1281401054920371, 'Cyclist_aos/moderate_R40': 0.06383792543472139, 'Cyclist_aos/hard_R40': 0.041011712010638954, 'Cyclist_3d/easy_R40': 0.0, 'Cyclist_3d/moderate_R40': 0.0, 'Cyclist_3d/hard_R40': 0.0, 'Cyclist_bev/easy_R40': 14.420879740856657, 'Cyclist_bev/moderate_R40': 7.604474789559938, 'Cyclist_bev/hard_R40': 6.536959423231467, 'Cyclist_image/easy_R40': 0.18518518518518517, 'Cyclist_image/moderate_R40': 0.10147601476014759, 'Cyclist_image/hard_R40': 0.07092198581560283}\n",
      "file: I-V_data_1.2um_length_250nm_diameter_BT_4V_10s_third_etch_15min_Pb_ED_3h_180C_MAI_no_200nm_Ag_memory_6V_carbon_paste_no_wait.xlsx, sigma: 0.22859124963661484, usability: 0.13200051134831037, evaluate-4\n"
     ]
    },
    {
     "name": "stderr",
     "output_type": "stream",
     "text": [
      "eval: 100%|█████████▉| 942/943 [03:30<00:00, 25.83it/s]2023-07-28 18:45:40,101   INFO  Average predicted number of objects(3769 samples): 164.932\n",
      "eval: 100%|██████████| 943/943 [04:18<00:00,  3.64it/s]\n"
     ]
    },
    {
     "name": "stdout",
     "output_type": "stream",
     "text": [
      "{'recall/roi_0.3': 0.0, 'recall/rcnn_0.3': 0.0, 'recall/roi_0.5': 0.0, 'recall/rcnn_0.5': 0.0, 'recall/roi_0.7': 0.0, 'recall/rcnn_0.7': 0.0, 'Car_aos/easy_R40': 0.0002279948314235339, 'Car_aos/moderate_R40': 0.0003583384621319662, 'Car_aos/hard_R40': 0.0005313121126220474, 'Car_3d/easy_R40': 0.0, 'Car_3d/moderate_R40': 0.0, 'Car_3d/hard_R40': 0.0, 'Car_bev/easy_R40': 6.078428141585372, 'Car_bev/moderate_R40': 5.532233075750816, 'Car_bev/hard_R40': 6.285808108387123, 'Car_image/easy_R40': 0.0002864213372439393, 'Car_image/moderate_R40': 0.0004826876045823143, 'Car_image/hard_R40': 0.0009651888552860178, 'Pedestrian_aos/easy_R40': 0.2431644176938598, 'Pedestrian_aos/moderate_R40': 0.18320006618923082, 'Pedestrian_aos/hard_R40': 0.1807753718154641, 'Pedestrian_3d/easy_R40': 0.0003881184019871662, 'Pedestrian_3d/moderate_R40': 7.37447899305914e-05, 'Pedestrian_3d/hard_R40': 8.111902963941854e-05, 'Pedestrian_bev/easy_R40': 2.6667555040818485, 'Pedestrian_bev/moderate_R40': 2.3651178989788124, 'Pedestrian_bev/hard_R40': 2.1853722465636403, 'Pedestrian_image/easy_R40': 0.47319928557409807, 'Pedestrian_image/moderate_R40': 0.35821558454872104, 'Pedestrian_image/hard_R40': 0.34788472487593924, 'Cyclist_aos/easy_R40': 0.05634735209097024, 'Cyclist_aos/moderate_R40': 0.04226051406822768, 'Cyclist_aos/hard_R40': 0.04226051406822768, 'Cyclist_3d/easy_R40': 0.45454545454545453, 'Cyclist_3d/moderate_R40': 0.4166666666666667, 'Cyclist_3d/hard_R40': 0.4166666666666667, 'Cyclist_bev/easy_R40': 5.101191369109372, 'Cyclist_bev/moderate_R40': 2.0153246982911712, 'Cyclist_bev/hard_R40': 1.9537152771300117, 'Cyclist_image/easy_R40': 0.07062146892655367, 'Cyclist_image/moderate_R40': 0.05296610169491525, 'Cyclist_image/hard_R40': 0.05296610169491525}\n",
      "file: I-V_data_1.2um_length_250nm_diameter_BT_4V_10s_third_etch_15min_Pb_ED_3h_180C_MAI_no_200nm_Ag_memory_6V_carbon_paste_no_wait.xlsx, sigma: 0.22859124963661484, usability: 0.13200051134831037, evaluate-5\n"
     ]
    },
    {
     "name": "stderr",
     "output_type": "stream",
     "text": [
      "eval: 100%|█████████▉| 942/943 [03:51<00:00, 17.48it/s]2023-07-28 23:46:49,151   INFO  Average predicted number of objects(3769 samples): 59.174\n",
      "eval: 100%|██████████| 943/943 [04:11<00:00,  3.74it/s]\n"
     ]
    },
    {
     "name": "stdout",
     "output_type": "stream",
     "text": [
      "{'recall/roi_0.3': 0.0, 'recall/rcnn_0.3': 0.0, 'recall/roi_0.5': 0.0, 'recall/rcnn_0.5': 0.0, 'recall/roi_0.7': 0.0, 'recall/rcnn_0.7': 0.0, 'Car_aos/easy_R40': 3.564791131183153e-05, 'Car_aos/moderate_R40': 0.00015932521313584484, 'Car_aos/hard_R40': 0.0002820432355859222, 'Car_3d/easy_R40': 0.0, 'Car_3d/moderate_R40': 0.0, 'Car_3d/hard_R40': 0.0, 'Car_bev/easy_R40': 0.0, 'Car_bev/moderate_R40': 0.0, 'Car_bev/hard_R40': 0.0, 'Car_image/easy_R40': 8.315751458820399e-05, 'Car_image/moderate_R40': 0.00023171534233624677, 'Car_image/hard_R40': 0.00037072393115656596, 'Pedestrian_aos/easy_R40': 0.0, 'Pedestrian_aos/moderate_R40': 0.0, 'Pedestrian_aos/hard_R40': 0.0, 'Pedestrian_3d/easy_R40': 0.0, 'Pedestrian_3d/moderate_R40': 0.0, 'Pedestrian_3d/hard_R40': 0.0, 'Pedestrian_bev/easy_R40': 0.13157894736842105, 'Pedestrian_bev/moderate_R40': 0.13157894736842105, 'Pedestrian_bev/hard_R40': 0.13157894736842105, 'Pedestrian_image/easy_R40': 0.0, 'Pedestrian_image/moderate_R40': 0.0, 'Pedestrian_image/hard_R40': 0.0, 'Cyclist_aos/easy_R40': 0.0, 'Cyclist_aos/moderate_R40': 0.0, 'Cyclist_aos/hard_R40': 0.0, 'Cyclist_3d/easy_R40': 0.0, 'Cyclist_3d/moderate_R40': 0.0, 'Cyclist_3d/hard_R40': 0.0, 'Cyclist_bev/easy_R40': 0.0, 'Cyclist_bev/moderate_R40': 0.0, 'Cyclist_bev/hard_R40': 0.0, 'Cyclist_image/easy_R40': 0.0, 'Cyclist_image/moderate_R40': 0.0, 'Cyclist_image/hard_R40': 0.0}\n",
      "file: I-V_data_2.5um_length_200nm_diameter_BT_4V_NA_third_etch_25min_Pb_ED_1h_180C_MAI_no_100nm_Ag_memory_5V_silver_paste_no_wait.xlsx, sigma: 0.38795739930579476, usability: -0.04918287437497312, evaluate-0\n"
     ]
    },
    {
     "name": "stderr",
     "output_type": "stream",
     "text": [
      "eval: 100%|█████████▉| 942/943 [03:53<00:00, 15.27it/s]2023-07-28 23:51:04,067   INFO  Average predicted number of objects(3769 samples): 63.486\n",
      "eval: 100%|██████████| 943/943 [04:14<00:00,  3.71it/s]\n"
     ]
    },
    {
     "name": "stdout",
     "output_type": "stream",
     "text": [
      "{'recall/roi_0.3': 0.0, 'recall/rcnn_0.3': 0.0, 'recall/roi_0.5': 0.0, 'recall/rcnn_0.5': 0.0, 'recall/roi_0.7': 0.0, 'recall/rcnn_0.7': 0.0, 'Car_aos/easy_R40': 0.0, 'Car_aos/moderate_R40': 0.0, 'Car_aos/hard_R40': 0.0, 'Car_3d/easy_R40': 0.0, 'Car_3d/moderate_R40': 0.0, 'Car_3d/hard_R40': 0.0, 'Car_bev/easy_R40': 0.0, 'Car_bev/moderate_R40': 0.0, 'Car_bev/hard_R40': 0.0, 'Car_image/easy_R40': 0.0, 'Car_image/moderate_R40': 0.0, 'Car_image/hard_R40': 0.0, 'Pedestrian_aos/easy_R40': 0.0, 'Pedestrian_aos/moderate_R40': 0.0, 'Pedestrian_aos/hard_R40': 0.0, 'Pedestrian_3d/easy_R40': 0.0, 'Pedestrian_3d/moderate_R40': 0.0, 'Pedestrian_3d/hard_R40': 0.0, 'Pedestrian_bev/easy_R40': 0.0, 'Pedestrian_bev/moderate_R40': 0.0, 'Pedestrian_bev/hard_R40': 0.0, 'Pedestrian_image/easy_R40': 0.0, 'Pedestrian_image/moderate_R40': 0.0, 'Pedestrian_image/hard_R40': 0.0, 'Cyclist_aos/easy_R40': 0.0, 'Cyclist_aos/moderate_R40': 0.0, 'Cyclist_aos/hard_R40': 0.0, 'Cyclist_3d/easy_R40': 0.0, 'Cyclist_3d/moderate_R40': 0.0, 'Cyclist_3d/hard_R40': 0.0, 'Cyclist_bev/easy_R40': 0.0, 'Cyclist_bev/moderate_R40': 0.0, 'Cyclist_bev/hard_R40': 0.0, 'Cyclist_image/easy_R40': 0.0, 'Cyclist_image/moderate_R40': 0.0, 'Cyclist_image/hard_R40': 0.0}\n",
      "file: I-V_data_2.5um_length_200nm_diameter_BT_4V_NA_third_etch_25min_Pb_ED_1h_180C_MAI_no_100nm_Ag_memory_5V_silver_paste_no_wait.xlsx, sigma: 0.38795739930579476, usability: -0.04918287437497312, evaluate-1\n"
     ]
    },
    {
     "name": "stderr",
     "output_type": "stream",
     "text": [
      "eval: 100%|██████████| 943/943 [03:51<00:00, 16.19it/s]2023-07-28 23:55:16,646   INFO  Average predicted number of objects(3769 samples): 476.121\n",
      "eval: 100%|██████████| 943/943 [05:53<00:00,  2.67it/s]\n"
     ]
    },
    {
     "name": "stdout",
     "output_type": "stream",
     "text": [
      "{'recall/roi_0.3': 0.0, 'recall/rcnn_0.3': 0.0, 'recall/roi_0.5': 0.0, 'recall/rcnn_0.5': 0.0, 'recall/roi_0.7': 0.0, 'recall/rcnn_0.7': 0.0, 'Car_aos/easy_R40': 0.0, 'Car_aos/moderate_R40': 0.0, 'Car_aos/hard_R40': 0.0, 'Car_3d/easy_R40': 0.0, 'Car_3d/moderate_R40': 0.0, 'Car_3d/hard_R40': 0.0, 'Car_bev/easy_R40': 0.03664636519801508, 'Car_bev/moderate_R40': 0.07701314554045266, 'Car_bev/hard_R40': 0.08319897173373307, 'Car_image/easy_R40': 0.0, 'Car_image/moderate_R40': 0.0, 'Car_image/hard_R40': 0.0, 'Pedestrian_aos/easy_R40': 0.0, 'Pedestrian_aos/moderate_R40': 0.0, 'Pedestrian_aos/hard_R40': 0.0, 'Pedestrian_3d/easy_R40': 0.0, 'Pedestrian_3d/moderate_R40': 0.0, 'Pedestrian_3d/hard_R40': 0.0, 'Pedestrian_bev/easy_R40': 0.0, 'Pedestrian_bev/moderate_R40': 0.0, 'Pedestrian_bev/hard_R40': 0.0, 'Pedestrian_image/easy_R40': 0.0, 'Pedestrian_image/moderate_R40': 0.0, 'Pedestrian_image/hard_R40': 0.0, 'Cyclist_aos/easy_R40': 0.0, 'Cyclist_aos/moderate_R40': 0.0, 'Cyclist_aos/hard_R40': 0.0, 'Cyclist_3d/easy_R40': 0.0, 'Cyclist_3d/moderate_R40': 0.0, 'Cyclist_3d/hard_R40': 0.0, 'Cyclist_bev/easy_R40': 0.0, 'Cyclist_bev/moderate_R40': 0.0, 'Cyclist_bev/hard_R40': 0.0, 'Cyclist_image/easy_R40': 0.0, 'Cyclist_image/moderate_R40': 0.0, 'Cyclist_image/hard_R40': 0.0}\n",
      "file: I-V_data_2.5um_length_200nm_diameter_BT_4V_NA_third_etch_25min_Pb_ED_1h_180C_MAI_no_100nm_Ag_memory_5V_silver_paste_no_wait.xlsx, sigma: 0.38795739930579476, usability: -0.04918287437497312, evaluate-2\n"
     ]
    },
    {
     "name": "stderr",
     "output_type": "stream",
     "text": [
      "eval: 100%|█████████▉| 942/943 [03:51<00:00, 21.32it/s]2023-07-29 00:01:11,821   INFO  Average predicted number of objects(3769 samples): 134.367\n",
      "eval: 100%|██████████| 943/943 [04:30<00:00,  3.49it/s]\n"
     ]
    },
    {
     "name": "stdout",
     "output_type": "stream",
     "text": [
      "{'recall/roi_0.3': 0.0, 'recall/rcnn_0.3': 0.0, 'recall/roi_0.5': 0.0, 'recall/rcnn_0.5': 0.0, 'recall/roi_0.7': 0.0, 'recall/rcnn_0.7': 0.0, 'Car_aos/easy_R40': 0.0002429689474662966, 'Car_aos/moderate_R40': 0.00030117170194595224, 'Car_aos/hard_R40': 0.00033128704036089837, 'Car_3d/easy_R40': 0.0, 'Car_3d/moderate_R40': 0.0, 'Car_3d/hard_R40': 0.0, 'Car_bev/easy_R40': 0.0, 'Car_bev/moderate_R40': 0.0, 'Car_bev/hard_R40': 0.0, 'Car_image/easy_R40': 0.0003425487092030604, 'Car_image/moderate_R40': 0.0004679060009488699, 'Car_image/hard_R40': 0.0005603783152089939, 'Pedestrian_aos/easy_R40': 0.0, 'Pedestrian_aos/moderate_R40': 0.0, 'Pedestrian_aos/hard_R40': 0.0, 'Pedestrian_3d/easy_R40': 0.0, 'Pedestrian_3d/moderate_R40': 0.0, 'Pedestrian_3d/hard_R40': 0.0, 'Pedestrian_bev/easy_R40': 0.0, 'Pedestrian_bev/moderate_R40': 0.0, 'Pedestrian_bev/hard_R40': 0.0, 'Pedestrian_image/easy_R40': 0.0, 'Pedestrian_image/moderate_R40': 0.0, 'Pedestrian_image/hard_R40': 0.0, 'Cyclist_aos/easy_R40': 0.00022609449746287282, 'Cyclist_aos/moderate_R40': 0.0003176659768018969, 'Cyclist_aos/hard_R40': 0.0003176659768018969, 'Cyclist_3d/easy_R40': 0.0, 'Cyclist_3d/moderate_R40': 0.0, 'Cyclist_3d/hard_R40': 0.0, 'Cyclist_bev/easy_R40': 0.0, 'Cyclist_bev/moderate_R40': 0.0, 'Cyclist_bev/hard_R40': 0.0, 'Cyclist_image/easy_R40': 0.0004022526146419952, 'Cyclist_image/moderate_R40': 0.0005590131554429247, 'Cyclist_image/hard_R40': 0.0005590131554429247}\n",
      "file: I-V_data_2.5um_length_200nm_diameter_BT_4V_NA_third_etch_25min_Pb_ED_1h_180C_MAI_no_100nm_Ag_memory_5V_silver_paste_no_wait.xlsx, sigma: 0.38795739930579476, usability: -0.04918287437497312, evaluate-3\n"
     ]
    },
    {
     "name": "stderr",
     "output_type": "stream",
     "text": [
      "eval: 100%|█████████▉| 942/943 [03:58<00:00, 16.64it/s]2023-07-29 00:05:48,967   INFO  Average predicted number of objects(3769 samples): 173.541\n",
      "eval: 100%|██████████| 943/943 [04:45<00:00,  3.31it/s]\n"
     ]
    },
    {
     "name": "stdout",
     "output_type": "stream",
     "text": [
      "{'recall/roi_0.3': 0.0, 'recall/rcnn_0.3': 0.0, 'recall/roi_0.5': 0.0, 'recall/rcnn_0.5': 0.0, 'recall/roi_0.7': 0.0, 'recall/rcnn_0.7': 0.0, 'Car_aos/easy_R40': 0.0, 'Car_aos/moderate_R40': 0.0, 'Car_aos/hard_R40': 0.0, 'Car_3d/easy_R40': 0.0, 'Car_3d/moderate_R40': 0.0, 'Car_3d/hard_R40': 0.0, 'Car_bev/easy_R40': 0.00017049294159221807, 'Car_bev/moderate_R40': 0.0006198590440533822, 'Car_bev/hard_R40': 0.0006585900284820817, 'Car_image/easy_R40': 0.0, 'Car_image/moderate_R40': 0.0, 'Car_image/hard_R40': 0.0, 'Pedestrian_aos/easy_R40': 0.0, 'Pedestrian_aos/moderate_R40': 0.0, 'Pedestrian_aos/hard_R40': 0.0, 'Pedestrian_3d/easy_R40': 0.0, 'Pedestrian_3d/moderate_R40': 0.0, 'Pedestrian_3d/hard_R40': 0.0, 'Pedestrian_bev/easy_R40': 0.0, 'Pedestrian_bev/moderate_R40': 0.0, 'Pedestrian_bev/hard_R40': 0.0, 'Pedestrian_image/easy_R40': 0.0, 'Pedestrian_image/moderate_R40': 0.0, 'Pedestrian_image/hard_R40': 0.0, 'Cyclist_aos/easy_R40': 0.0, 'Cyclist_aos/moderate_R40': 0.0, 'Cyclist_aos/hard_R40': 0.0, 'Cyclist_3d/easy_R40': 0.0, 'Cyclist_3d/moderate_R40': 0.0, 'Cyclist_3d/hard_R40': 0.0, 'Cyclist_bev/easy_R40': 0.0, 'Cyclist_bev/moderate_R40': 0.0, 'Cyclist_bev/hard_R40': 0.0, 'Cyclist_image/easy_R40': 0.0, 'Cyclist_image/moderate_R40': 0.0, 'Cyclist_image/hard_R40': 0.0}\n",
      "file: I-V_data_2.5um_length_200nm_diameter_BT_4V_NA_third_etch_25min_Pb_ED_1h_180C_MAI_no_100nm_Ag_memory_5V_silver_paste_no_wait.xlsx, sigma: 0.38795739930579476, usability: -0.04918287437497312, evaluate-4\n"
     ]
    },
    {
     "name": "stderr",
     "output_type": "stream",
     "text": [
      "eval: 100%|█████████▉| 942/943 [03:57<00:00, 14.13it/s]2023-07-29 00:10:35,121   INFO  Average predicted number of objects(3769 samples): 179.164\n",
      "eval: 100%|██████████| 943/943 [04:46<00:00,  3.29it/s]\n"
     ]
    },
    {
     "name": "stdout",
     "output_type": "stream",
     "text": [
      "{'recall/roi_0.3': 0.0, 'recall/rcnn_0.3': 0.0, 'recall/roi_0.5': 0.0, 'recall/rcnn_0.5': 0.0, 'recall/roi_0.7': 0.0, 'recall/rcnn_0.7': 0.0, 'Car_aos/easy_R40': 2.4483981116617347e-05, 'Car_aos/moderate_R40': 3.954600556779188e-05, 'Car_aos/hard_R40': 6.393780540529599e-05, 'Car_3d/easy_R40': 0.0, 'Car_3d/moderate_R40': 0.0, 'Car_3d/hard_R40': 0.0, 'Car_bev/easy_R40': 0.0, 'Car_bev/moderate_R40': 0.0, 'Car_bev/hard_R40': 0.0, 'Car_image/easy_R40': 0.00010278290423374202, 'Car_image/moderate_R40': 0.00015198053433316261, 'Car_image/hard_R40': 0.00021276757422168864, 'Pedestrian_aos/easy_R40': 0.0, 'Pedestrian_aos/moderate_R40': 0.0, 'Pedestrian_aos/hard_R40': 0.0, 'Pedestrian_3d/easy_R40': 0.0, 'Pedestrian_3d/moderate_R40': 0.0, 'Pedestrian_3d/hard_R40': 0.0, 'Pedestrian_bev/easy_R40': 0.0, 'Pedestrian_bev/moderate_R40': 0.0, 'Pedestrian_bev/hard_R40': 0.0, 'Pedestrian_image/easy_R40': 0.0, 'Pedestrian_image/moderate_R40': 0.0, 'Pedestrian_image/hard_R40': 0.0, 'Cyclist_aos/easy_R40': 0.0, 'Cyclist_aos/moderate_R40': 0.0, 'Cyclist_aos/hard_R40': 0.0, 'Cyclist_3d/easy_R40': 0.0, 'Cyclist_3d/moderate_R40': 0.0, 'Cyclist_3d/hard_R40': 0.0, 'Cyclist_bev/easy_R40': 0.0, 'Cyclist_bev/moderate_R40': 0.0, 'Cyclist_bev/hard_R40': 0.0, 'Cyclist_image/easy_R40': 0.0, 'Cyclist_image/moderate_R40': 0.0, 'Cyclist_image/hard_R40': 0.0}\n",
      "file: I-V_data_2.5um_length_200nm_diameter_BT_4V_NA_third_etch_25min_Pb_ED_1h_180C_MAI_no_100nm_Ag_memory_5V_silver_paste_no_wait.xlsx, sigma: 0.38795739930579476, usability: -0.04918287437497312, evaluate-5\n"
     ]
    },
    {
     "name": "stderr",
     "output_type": "stream",
     "text": [
      "eval: 100%|█████████▉| 942/943 [03:51<00:00, 17.09it/s]2023-07-29 00:15:15,686   INFO  Average predicted number of objects(3769 samples): 76.573\n",
      "eval: 100%|██████████| 943/943 [04:15<00:00,  3.69it/s]\n"
     ]
    },
    {
     "name": "stdout",
     "output_type": "stream",
     "text": [
      "{'recall/roi_0.3': 0.0, 'recall/rcnn_0.3': 0.0, 'recall/roi_0.5': 0.0, 'recall/rcnn_0.5': 0.0, 'recall/roi_0.7': 0.0, 'recall/rcnn_0.7': 0.0, 'Car_aos/easy_R40': 0.00020889284124048574, 'Car_aos/moderate_R40': 0.00037283904414268834, 'Car_aos/hard_R40': 0.000489152375233883, 'Car_3d/easy_R40': 0.0, 'Car_3d/moderate_R40': 0.0, 'Car_3d/hard_R40': 0.0, 'Car_bev/easy_R40': 0.0, 'Car_bev/moderate_R40': 2.7088525300682634e-05, 'Car_bev/hard_R40': 6.449549047530596e-05, 'Car_image/easy_R40': 0.00043601842118908116, 'Car_image/moderate_R40': 0.0008571441809176539, 'Car_image/hard_R40': 0.0010771269202972406, 'Pedestrian_aos/easy_R40': 0.0004178217568521589, 'Pedestrian_aos/moderate_R40': 0.0005526203192641255, 'Pedestrian_aos/hard_R40': 0.0007129669787510506, 'Pedestrian_3d/easy_R40': 0.0, 'Pedestrian_3d/moderate_R40': 0.0, 'Pedestrian_3d/hard_R40': 0.0, 'Pedestrian_bev/easy_R40': 0.0, 'Pedestrian_bev/moderate_R40': 0.00026667377796741243, 'Pedestrian_bev/hard_R40': 0.0004473072105922347, 'Pedestrian_image/easy_R40': 0.0012366571205415257, 'Pedestrian_image/moderate_R40': 0.0014147087795778927, 'Pedestrian_image/hard_R40': 0.001624159104721588, 'Cyclist_aos/easy_R40': 0.0, 'Cyclist_aos/moderate_R40': 0.0, 'Cyclist_aos/hard_R40': 0.0, 'Cyclist_3d/easy_R40': 0.0, 'Cyclist_3d/moderate_R40': 0.0, 'Cyclist_3d/hard_R40': 0.0, 'Cyclist_bev/easy_R40': 0.0, 'Cyclist_bev/moderate_R40': 0.0, 'Cyclist_bev/hard_R40': 0.0, 'Cyclist_image/easy_R40': 0.0, 'Cyclist_image/moderate_R40': 0.0, 'Cyclist_image/hard_R40': 0.0}\n",
      "file: I-V_data_2.5um_length_200nm_diameter_BT_4V_NA_third_etch_25min_Pb_ED_1h_180C_MAI_no_100nm_Ag_memory_5V_silver_paste_no_wait.xlsx, sigma: 0.38795739930579476, usability: -0.04918287437497312, evaluate-6\n"
     ]
    },
    {
     "name": "stderr",
     "output_type": "stream",
     "text": [
      "eval: 100%|█████████▉| 942/943 [03:47<00:00, 17.91it/s]2023-07-29 00:19:29,156   INFO  Average predicted number of objects(3769 samples): 39.323\n",
      "eval: 100%|██████████| 943/943 [04:02<00:00,  3.88it/s]\n"
     ]
    },
    {
     "name": "stdout",
     "output_type": "stream",
     "text": [
      "{'recall/roi_0.3': 0.0, 'recall/rcnn_0.3': 0.0, 'recall/roi_0.5': 0.0, 'recall/rcnn_0.5': 0.0, 'recall/roi_0.7': 0.0, 'recall/rcnn_0.7': 0.0, 'Car_aos/easy_R40': 4.1623945017746326e-05, 'Car_aos/moderate_R40': 4.361152592245385e-05, 'Car_aos/hard_R40': 6.517603705806448e-05, 'Car_3d/easy_R40': 0.0, 'Car_3d/moderate_R40': 0.0, 'Car_3d/hard_R40': 0.0, 'Car_bev/easy_R40': 0.0, 'Car_bev/moderate_R40': 0.0, 'Car_bev/hard_R40': 0.0, 'Car_image/easy_R40': 5.312856404117109e-05, 'Car_image/moderate_R40': 7.052932256585676e-05, 'Car_image/hard_R40': 0.00010406476991279373, 'Pedestrian_aos/easy_R40': 0.0, 'Pedestrian_aos/moderate_R40': 0.0, 'Pedestrian_aos/hard_R40': 0.0, 'Pedestrian_3d/easy_R40': 0.0, 'Pedestrian_3d/moderate_R40': 0.0, 'Pedestrian_3d/hard_R40': 0.0, 'Pedestrian_bev/easy_R40': 0.0, 'Pedestrian_bev/moderate_R40': 0.0, 'Pedestrian_bev/hard_R40': 0.0, 'Pedestrian_image/easy_R40': 0.0, 'Pedestrian_image/moderate_R40': 0.0, 'Pedestrian_image/hard_R40': 0.0, 'Cyclist_aos/easy_R40': 0.0, 'Cyclist_aos/moderate_R40': 0.0, 'Cyclist_aos/hard_R40': 0.0, 'Cyclist_3d/easy_R40': 0.0, 'Cyclist_3d/moderate_R40': 0.0, 'Cyclist_3d/hard_R40': 0.0, 'Cyclist_bev/easy_R40': 0.0, 'Cyclist_bev/moderate_R40': 0.0, 'Cyclist_bev/hard_R40': 0.0, 'Cyclist_image/easy_R40': 0.0, 'Cyclist_image/moderate_R40': 0.0, 'Cyclist_image/hard_R40': 0.0}\n",
      "file: I-V_data_2.5um_length_200nm_diameter_BT_4V_NA_third_etch_25min_Pb_ED_1h_180C_MAI_no_100nm_Ag_memory_5V_silver_paste_no_wait.xlsx, sigma: 0.38795739930579476, usability: -0.04918287437497312, evaluate-7\n"
     ]
    },
    {
     "name": "stderr",
     "output_type": "stream",
     "text": [
      "eval: 100%|█████████▉| 942/943 [03:49<00:00, 17.48it/s]2023-07-29 00:23:34,372   INFO  Average predicted number of objects(3769 samples): 33.948\n",
      "eval: 100%|██████████| 943/943 [04:03<00:00,  3.87it/s]\n"
     ]
    },
    {
     "name": "stdout",
     "output_type": "stream",
     "text": [
      "{'recall/roi_0.3': 0.0, 'recall/rcnn_0.3': 0.0, 'recall/roi_0.5': 0.0, 'recall/rcnn_0.5': 0.0, 'recall/roi_0.7': 0.0, 'recall/rcnn_0.7': 0.0, 'Car_aos/easy_R40': 0.00020930648599308034, 'Car_aos/moderate_R40': 0.0004091925302016623, 'Car_aos/hard_R40': 0.0004537821050174485, 'Car_3d/easy_R40': 0.0, 'Car_3d/moderate_R40': 0.0, 'Car_3d/hard_R40': 0.0, 'Car_bev/easy_R40': 0.0, 'Car_bev/moderate_R40': 4.972205371970684e-05, 'Car_bev/hard_R40': 0.00011352696492470891, 'Car_image/easy_R40': 0.00029960879651426566, 'Car_image/moderate_R40': 0.0005947020542708103, 'Car_image/hard_R40': 0.00067565354124353, 'Pedestrian_aos/easy_R40': 0.11167392216545663, 'Pedestrian_aos/moderate_R40': 0.05671628972497304, 'Pedestrian_aos/hard_R40': 0.06751230537086064, 'Pedestrian_3d/easy_R40': 0.0, 'Pedestrian_3d/moderate_R40': 0.0, 'Pedestrian_3d/hard_R40': 0.0, 'Pedestrian_bev/easy_R40': 0.045391061452513974, 'Pedestrian_bev/moderate_R40': 0.0554016620498615, 'Pedestrian_bev/hard_R40': 0.06215469613259668, 'Pedestrian_image/easy_R40': 0.2860442545360584, 'Pedestrian_image/moderate_R40': 0.1489825581395349, 'Pedestrian_image/hard_R40': 0.16594516594516598, 'Cyclist_aos/easy_R40': 0.0, 'Cyclist_aos/moderate_R40': 0.0, 'Cyclist_aos/hard_R40': 0.0, 'Cyclist_3d/easy_R40': 0.0, 'Cyclist_3d/moderate_R40': 0.0, 'Cyclist_3d/hard_R40': 0.0, 'Cyclist_bev/easy_R40': 0.0, 'Cyclist_bev/moderate_R40': 0.0, 'Cyclist_bev/hard_R40': 0.0, 'Cyclist_image/easy_R40': 0.0, 'Cyclist_image/moderate_R40': 0.0, 'Cyclist_image/hard_R40': 0.0}\n",
      "file: I-V_data_2.5um_length_200nm_diameter_BT_4V_NA_third_etch_25min_Pb_ED_1h_180C_MAI_no_100nm_Ag_memory_5V_silver_paste_no_wait.xlsx, sigma: 0.38795739930579476, usability: -0.04918287437497312, evaluate-8\n"
     ]
    },
    {
     "name": "stderr",
     "output_type": "stream",
     "text": [
      "eval: 100%|█████████▉| 942/943 [03:48<00:00, 19.10it/s]2023-07-29 00:27:38,120   INFO  Average predicted number of objects(3769 samples): 64.782\n",
      "eval: 100%|██████████| 943/943 [04:09<00:00,  3.77it/s]\n"
     ]
    },
    {
     "name": "stdout",
     "output_type": "stream",
     "text": [
      "{'recall/roi_0.3': 0.0, 'recall/rcnn_0.3': 0.0, 'recall/roi_0.5': 0.0, 'recall/rcnn_0.5': 0.0, 'recall/roi_0.7': 0.0, 'recall/rcnn_0.7': 0.0, 'Car_aos/easy_R40': 2.24074623031861e-05, 'Car_aos/moderate_R40': 4.748668918599673e-05, 'Car_aos/hard_R40': 0.00010504004936241139, 'Car_3d/easy_R40': 0.0, 'Car_3d/moderate_R40': 0.0, 'Car_3d/hard_R40': 0.0, 'Car_bev/easy_R40': 0.0, 'Car_bev/moderate_R40': 0.0, 'Car_bev/hard_R40': 0.0, 'Car_image/easy_R40': 3.437528646072051e-05, 'Car_image/moderate_R40': 6.19172043143908e-05, 'Car_image/hard_R40': 0.00012383134171258745, 'Pedestrian_aos/easy_R40': 0.0, 'Pedestrian_aos/moderate_R40': 0.0, 'Pedestrian_aos/hard_R40': 0.0, 'Pedestrian_3d/easy_R40': 0.0, 'Pedestrian_3d/moderate_R40': 0.0, 'Pedestrian_3d/hard_R40': 0.0, 'Pedestrian_bev/easy_R40': 0.0, 'Pedestrian_bev/moderate_R40': 0.0, 'Pedestrian_bev/hard_R40': 0.0, 'Pedestrian_image/easy_R40': 0.0, 'Pedestrian_image/moderate_R40': 0.0, 'Pedestrian_image/hard_R40': 0.0, 'Cyclist_aos/easy_R40': 0.0, 'Cyclist_aos/moderate_R40': 0.0, 'Cyclist_aos/hard_R40': 0.0, 'Cyclist_3d/easy_R40': 0.0, 'Cyclist_3d/moderate_R40': 0.0, 'Cyclist_3d/hard_R40': 0.0, 'Cyclist_bev/easy_R40': 0.0, 'Cyclist_bev/moderate_R40': 0.0, 'Cyclist_bev/hard_R40': 0.0, 'Cyclist_image/easy_R40': 0.0, 'Cyclist_image/moderate_R40': 0.0, 'Cyclist_image/hard_R40': 0.0}\n",
      "file: I-V_data_2.5um_length_200nm_diameter_BT_4V_NA_third_etch_25min_Pb_ED_1h_180C_MAI_no_100nm_Ag_memory_5V_silver_paste_no_wait.xlsx, sigma: 0.38795739930579476, usability: -0.04918287437497312, evaluate-9\n"
     ]
    },
    {
     "name": "stderr",
     "output_type": "stream",
     "text": [
      "eval: 100%|█████████▉| 942/943 [03:56<00:00, 13.07it/s]2023-07-29 00:31:56,660   INFO  Average predicted number of objects(3769 samples): 27.580\n",
      "eval: 100%|██████████| 943/943 [04:08<00:00,  3.79it/s]\n"
     ]
    },
    {
     "name": "stdout",
     "output_type": "stream",
     "text": [
      "{'recall/roi_0.3': 0.0, 'recall/rcnn_0.3': 0.0, 'recall/roi_0.5': 0.0, 'recall/rcnn_0.5': 0.0, 'recall/roi_0.7': 0.0, 'recall/rcnn_0.7': 0.0, 'Car_aos/easy_R40': 0.0, 'Car_aos/moderate_R40': 0.0, 'Car_aos/hard_R40': 0.0, 'Car_3d/easy_R40': 0.0, 'Car_3d/moderate_R40': 0.0, 'Car_3d/hard_R40': 0.0, 'Car_bev/easy_R40': 0.0, 'Car_bev/moderate_R40': 0.0, 'Car_bev/hard_R40': 0.0, 'Car_image/easy_R40': 0.0, 'Car_image/moderate_R40': 0.0, 'Car_image/hard_R40': 0.0, 'Pedestrian_aos/easy_R40': 0.0, 'Pedestrian_aos/moderate_R40': 0.0, 'Pedestrian_aos/hard_R40': 0.0, 'Pedestrian_3d/easy_R40': 0.0, 'Pedestrian_3d/moderate_R40': 0.0, 'Pedestrian_3d/hard_R40': 0.0, 'Pedestrian_bev/easy_R40': 0.0, 'Pedestrian_bev/moderate_R40': 0.0, 'Pedestrian_bev/hard_R40': 0.0, 'Pedestrian_image/easy_R40': 0.0, 'Pedestrian_image/moderate_R40': 0.0, 'Pedestrian_image/hard_R40': 0.0, 'Cyclist_aos/easy_R40': 0.0, 'Cyclist_aos/moderate_R40': 0.0, 'Cyclist_aos/hard_R40': 0.0, 'Cyclist_3d/easy_R40': 0.0, 'Cyclist_3d/moderate_R40': 0.0, 'Cyclist_3d/hard_R40': 0.0, 'Cyclist_bev/easy_R40': 0.0, 'Cyclist_bev/moderate_R40': 0.0, 'Cyclist_bev/hard_R40': 0.0, 'Cyclist_image/easy_R40': 0.0, 'Cyclist_image/moderate_R40': 0.0, 'Cyclist_image/hard_R40': 0.0}\n",
      "file: I-V_data_2um_length_250nm_diameter_BT_4V_NA_third_etch_15min_Pb_ED_3h_180C_MAI_no_200nm_Ag_memory_6V_carbon_paste_no_wait.xlsx, sigma: 0.4032025720611529, usability: 0.06521355094368632, evaluate-0\n"
     ]
    },
    {
     "name": "stderr",
     "output_type": "stream",
     "text": [
      "eval: 100%|█████████▉| 942/943 [03:52<00:00, 14.92it/s]2023-07-29 00:36:04,922   INFO  Average predicted number of objects(3769 samples): 499.485\n",
      "eval: 100%|██████████| 943/943 [05:58<00:00,  2.63it/s]\n"
     ]
    },
    {
     "name": "stdout",
     "output_type": "stream",
     "text": [
      "{'recall/roi_0.3': 0.0, 'recall/rcnn_0.3': 0.0, 'recall/roi_0.5': 0.0, 'recall/rcnn_0.5': 0.0, 'recall/roi_0.7': 0.0, 'recall/rcnn_0.7': 0.0, 'Car_aos/easy_R40': 0.0, 'Car_aos/moderate_R40': 0.0, 'Car_aos/hard_R40': 0.0, 'Car_3d/easy_R40': 0.0, 'Car_3d/moderate_R40': 0.0, 'Car_3d/hard_R40': 0.0, 'Car_bev/easy_R40': 0.005823895606091191, 'Car_bev/moderate_R40': 0.008915860373277355, 'Car_bev/hard_R40': 0.008415038696131432, 'Car_image/easy_R40': 0.0, 'Car_image/moderate_R40': 0.0, 'Car_image/hard_R40': 0.0, 'Pedestrian_aos/easy_R40': 0.0, 'Pedestrian_aos/moderate_R40': 0.0, 'Pedestrian_aos/hard_R40': 0.0, 'Pedestrian_3d/easy_R40': 0.0, 'Pedestrian_3d/moderate_R40': 0.0, 'Pedestrian_3d/hard_R40': 0.0, 'Pedestrian_bev/easy_R40': 0.0, 'Pedestrian_bev/moderate_R40': 0.0, 'Pedestrian_bev/hard_R40': 0.0, 'Pedestrian_image/easy_R40': 0.0, 'Pedestrian_image/moderate_R40': 0.0, 'Pedestrian_image/hard_R40': 0.0, 'Cyclist_aos/easy_R40': 0.0, 'Cyclist_aos/moderate_R40': 0.0, 'Cyclist_aos/hard_R40': 0.0, 'Cyclist_3d/easy_R40': 0.0, 'Cyclist_3d/moderate_R40': 0.0, 'Cyclist_3d/hard_R40': 0.0, 'Cyclist_bev/easy_R40': 0.0, 'Cyclist_bev/moderate_R40': 0.0, 'Cyclist_bev/hard_R40': 0.0, 'Cyclist_image/easy_R40': 0.0, 'Cyclist_image/moderate_R40': 0.0, 'Cyclist_image/hard_R40': 0.0}\n",
      "file: I-V_data_2um_length_250nm_diameter_BT_4V_NA_third_etch_15min_Pb_ED_3h_180C_MAI_no_200nm_Ag_memory_6V_carbon_paste_no_wait.xlsx, sigma: 0.4032025720611529, usability: 0.06521355094368632, evaluate-1\n"
     ]
    },
    {
     "name": "stderr",
     "output_type": "stream",
     "text": [
      "eval: 100%|█████████▉| 942/943 [04:08<00:00, 17.08it/s]2023-07-29 00:42:21,056   INFO  Average predicted number of objects(3769 samples): 294.906\n",
      "eval: 100%|██████████| 943/943 [05:28<00:00,  2.87it/s]\n"
     ]
    },
    {
     "name": "stdout",
     "output_type": "stream",
     "text": [
      "{'recall/roi_0.3': 0.0, 'recall/rcnn_0.3': 0.0, 'recall/roi_0.5': 0.0, 'recall/rcnn_0.5': 0.0, 'recall/roi_0.7': 0.0, 'recall/rcnn_0.7': 0.0, 'Car_aos/easy_R40': 0.0, 'Car_aos/moderate_R40': 6.865853525291663e-06, 'Car_aos/hard_R40': 1.0589130472186821e-05, 'Car_3d/easy_R40': 0.0, 'Car_3d/moderate_R40': 4.825882171260906e-06, 'Car_3d/hard_R40': 4.825882171260906e-06, 'Car_bev/easy_R40': 0.1549711210214286, 'Car_bev/moderate_R40': 0.3385030690556931, 'Car_bev/hard_R40': 0.4323744595137683, 'Car_image/easy_R40': 0.0, 'Car_image/moderate_R40': 7.23982249885852e-06, 'Car_image/hard_R40': 1.2066347535907038e-05, 'Pedestrian_aos/easy_R40': 0.0, 'Pedestrian_aos/moderate_R40': 0.0, 'Pedestrian_aos/hard_R40': 0.0, 'Pedestrian_3d/easy_R40': 0.0, 'Pedestrian_3d/moderate_R40': 0.0, 'Pedestrian_3d/hard_R40': 0.0, 'Pedestrian_bev/easy_R40': 0.0, 'Pedestrian_bev/moderate_R40': 0.0, 'Pedestrian_bev/hard_R40': 0.0, 'Pedestrian_image/easy_R40': 0.0, 'Pedestrian_image/moderate_R40': 0.0, 'Pedestrian_image/hard_R40': 0.0, 'Cyclist_aos/easy_R40': 0.0, 'Cyclist_aos/moderate_R40': 0.0, 'Cyclist_aos/hard_R40': 0.0, 'Cyclist_3d/easy_R40': 0.0, 'Cyclist_3d/moderate_R40': 0.0, 'Cyclist_3d/hard_R40': 0.0, 'Cyclist_bev/easy_R40': 0.0, 'Cyclist_bev/moderate_R40': 0.0, 'Cyclist_bev/hard_R40': 0.0, 'Cyclist_image/easy_R40': 0.0, 'Cyclist_image/moderate_R40': 0.0, 'Cyclist_image/hard_R40': 0.0}\n",
      "file: I-V_data_2um_length_250nm_diameter_BT_4V_NA_third_etch_15min_Pb_ED_3h_180C_MAI_no_200nm_Ag_memory_6V_carbon_paste_no_wait.xlsx, sigma: 0.4032025720611529, usability: 0.06521355094368632, evaluate-2\n"
     ]
    },
    {
     "name": "stderr",
     "output_type": "stream",
     "text": [
      "eval: 100%|█████████▉| 942/943 [04:05<00:00, 16.72it/s]2023-07-29 00:47:48,923   INFO  Average predicted number of objects(3769 samples): 47.582\n",
      "eval: 100%|██████████| 943/943 [04:22<00:00,  3.59it/s]\n"
     ]
    },
    {
     "name": "stdout",
     "output_type": "stream",
     "text": [
      "{'recall/roi_0.3': 0.0, 'recall/rcnn_0.3': 0.0, 'recall/roi_0.5': 0.0, 'recall/rcnn_0.5': 0.0, 'recall/roi_0.7': 0.0, 'recall/rcnn_0.7': 0.0, 'Car_aos/easy_R40': 4.815680064233892e-05, 'Car_aos/moderate_R40': 9.57205938128777e-05, 'Car_aos/hard_R40': 0.00013211895506188643, 'Car_3d/easy_R40': 0.0, 'Car_3d/moderate_R40': 0.0, 'Car_3d/hard_R40': 0.0, 'Car_bev/easy_R40': 0.0, 'Car_bev/moderate_R40': 0.0, 'Car_bev/hard_R40': 0.0, 'Car_image/easy_R40': 7.822522607090335e-05, 'Car_image/moderate_R40': 0.00015638683848367323, 'Car_image/hard_R40': 0.00020851143685231133, 'Pedestrian_aos/easy_R40': 0.0, 'Pedestrian_aos/moderate_R40': 0.0, 'Pedestrian_aos/hard_R40': 0.0, 'Pedestrian_3d/easy_R40': 0.0, 'Pedestrian_3d/moderate_R40': 0.0, 'Pedestrian_3d/hard_R40': 0.0, 'Pedestrian_bev/easy_R40': 0.0, 'Pedestrian_bev/moderate_R40': 0.0, 'Pedestrian_bev/hard_R40': 0.0, 'Pedestrian_image/easy_R40': 0.0, 'Pedestrian_image/moderate_R40': 0.0, 'Pedestrian_image/hard_R40': 0.0, 'Cyclist_aos/easy_R40': 0.0, 'Cyclist_aos/moderate_R40': 0.0, 'Cyclist_aos/hard_R40': 0.0, 'Cyclist_3d/easy_R40': 0.0, 'Cyclist_3d/moderate_R40': 0.0, 'Cyclist_3d/hard_R40': 0.0, 'Cyclist_bev/easy_R40': 0.0, 'Cyclist_bev/moderate_R40': 0.0, 'Cyclist_bev/hard_R40': 0.0, 'Cyclist_image/easy_R40': 0.0, 'Cyclist_image/moderate_R40': 0.0, 'Cyclist_image/hard_R40': 0.0}\n",
      "file: I-V_data_2um_length_250nm_diameter_BT_4V_NA_third_etch_15min_Pb_ED_3h_180C_MAI_no_200nm_Ag_memory_6V_carbon_paste_no_wait.xlsx, sigma: 0.4032025720611529, usability: 0.06521355094368632, evaluate-3\n"
     ]
    },
    {
     "name": "stderr",
     "output_type": "stream",
     "text": [
      "eval: 100%|█████████▉| 942/943 [03:52<00:00, 18.07it/s]2023-07-29 00:52:01,388   INFO  Average predicted number of objects(3769 samples): 43.628\n",
      "eval: 100%|██████████| 943/943 [04:08<00:00,  3.79it/s]\n"
     ]
    },
    {
     "name": "stdout",
     "output_type": "stream",
     "text": [
      "{'recall/roi_0.3': 0.0, 'recall/rcnn_0.3': 0.0, 'recall/roi_0.5': 0.0, 'recall/rcnn_0.5': 0.0, 'recall/roi_0.7': 0.0, 'recall/rcnn_0.7': 0.0, 'Car_aos/easy_R40': 0.0, 'Car_aos/moderate_R40': 0.0, 'Car_aos/hard_R40': 0.0, 'Car_3d/easy_R40': 0.0, 'Car_3d/moderate_R40': 0.0, 'Car_3d/hard_R40': 0.0, 'Car_bev/easy_R40': 0.0, 'Car_bev/moderate_R40': 0.0, 'Car_bev/hard_R40': 0.0, 'Car_image/easy_R40': 0.0, 'Car_image/moderate_R40': 0.0, 'Car_image/hard_R40': 0.0, 'Pedestrian_aos/easy_R40': 0.0, 'Pedestrian_aos/moderate_R40': 0.0, 'Pedestrian_aos/hard_R40': 0.0, 'Pedestrian_3d/easy_R40': 0.0, 'Pedestrian_3d/moderate_R40': 0.0, 'Pedestrian_3d/hard_R40': 0.0, 'Pedestrian_bev/easy_R40': 0.0, 'Pedestrian_bev/moderate_R40': 0.0, 'Pedestrian_bev/hard_R40': 0.0, 'Pedestrian_image/easy_R40': 0.0, 'Pedestrian_image/moderate_R40': 0.0, 'Pedestrian_image/hard_R40': 0.0, 'Cyclist_aos/easy_R40': 0.0, 'Cyclist_aos/moderate_R40': 0.0, 'Cyclist_aos/hard_R40': 0.0, 'Cyclist_3d/easy_R40': 0.0, 'Cyclist_3d/moderate_R40': 0.0, 'Cyclist_3d/hard_R40': 0.0, 'Cyclist_bev/easy_R40': 0.0, 'Cyclist_bev/moderate_R40': 0.0, 'Cyclist_bev/hard_R40': 0.0, 'Cyclist_image/easy_R40': 0.0, 'Cyclist_image/moderate_R40': 0.0, 'Cyclist_image/hard_R40': 0.0}\n",
      "file: I-V_data_2um_length_250nm_diameter_BT_4V_NA_third_etch_15min_Pb_ED_3h_180C_MAI_no_200nm_Ag_memory_6V_carbon_paste_no_wait.xlsx, sigma: 0.4032025720611529, usability: 0.06521355094368632, evaluate-4\n"
     ]
    },
    {
     "name": "stderr",
     "output_type": "stream",
     "text": [
      "eval: 100%|█████████▉| 942/943 [03:57<00:00, 13.53it/s]2023-07-29 00:56:16,363   INFO  Average predicted number of objects(3769 samples): 6.965\n",
      "eval: 100%|██████████| 943/943 [04:04<00:00,  3.86it/s]\n"
     ]
    },
    {
     "name": "stdout",
     "output_type": "stream",
     "text": [
      "{'recall/roi_0.3': 0.0, 'recall/rcnn_0.3': 0.0, 'recall/roi_0.5': 0.0, 'recall/rcnn_0.5': 0.0, 'recall/roi_0.7': 0.0, 'recall/rcnn_0.7': 0.0, 'Car_aos/easy_R40': 0.0, 'Car_aos/moderate_R40': 0.0, 'Car_aos/hard_R40': 0.0, 'Car_3d/easy_R40': 0.0, 'Car_3d/moderate_R40': 0.0, 'Car_3d/hard_R40': 0.0, 'Car_bev/easy_R40': 0.0, 'Car_bev/moderate_R40': 0.0, 'Car_bev/hard_R40': 0.0, 'Car_image/easy_R40': 0.0, 'Car_image/moderate_R40': 0.0, 'Car_image/hard_R40': 0.0, 'Pedestrian_aos/easy_R40': 0.0, 'Pedestrian_aos/moderate_R40': 0.0, 'Pedestrian_aos/hard_R40': 0.0, 'Pedestrian_3d/easy_R40': 0.0, 'Pedestrian_3d/moderate_R40': 0.0, 'Pedestrian_3d/hard_R40': 0.0, 'Pedestrian_bev/easy_R40': 0.0, 'Pedestrian_bev/moderate_R40': 0.0, 'Pedestrian_bev/hard_R40': 0.0, 'Pedestrian_image/easy_R40': 0.0, 'Pedestrian_image/moderate_R40': 0.0, 'Pedestrian_image/hard_R40': 0.0, 'Cyclist_aos/easy_R40': 0.0, 'Cyclist_aos/moderate_R40': 0.0, 'Cyclist_aos/hard_R40': 0.0, 'Cyclist_3d/easy_R40': 0.0, 'Cyclist_3d/moderate_R40': 0.0, 'Cyclist_3d/hard_R40': 0.0, 'Cyclist_bev/easy_R40': 0.0, 'Cyclist_bev/moderate_R40': 0.0, 'Cyclist_bev/hard_R40': 0.0, 'Cyclist_image/easy_R40': 0.0, 'Cyclist_image/moderate_R40': 0.0, 'Cyclist_image/hard_R40': 0.0}\n",
      "file: I-V_data_2um_length_250nm_diameter_BT_4V_NA_third_etch_15min_Pb_ED_3h_180C_MAI_no_200nm_Ag_memory_6V_carbon_paste_no_wait.xlsx, sigma: 0.4032025720611529, usability: 0.06521355094368632, evaluate-5\n"
     ]
    },
    {
     "name": "stderr",
     "output_type": "stream",
     "text": [
      "eval: 100%|█████████▉| 942/943 [03:52<00:00, 15.95it/s]2023-07-29 01:00:18,386   INFO  Average predicted number of objects(3769 samples): 470.281\n",
      "eval: 100%|██████████| 943/943 [05:52<00:00,  2.67it/s]\n"
     ]
    },
    {
     "name": "stdout",
     "output_type": "stream",
     "text": [
      "{'recall/roi_0.3': 0.0, 'recall/rcnn_0.3': 0.0, 'recall/roi_0.5': 0.0, 'recall/rcnn_0.5': 0.0, 'recall/roi_0.7': 0.0, 'recall/rcnn_0.7': 0.0, 'Car_aos/easy_R40': 1.8740335078841217e-05, 'Car_aos/moderate_R40': 2.455786767587937e-05, 'Car_aos/hard_R40': 3.0550631804352905e-05, 'Car_3d/easy_R40': 0.0, 'Car_3d/moderate_R40': 0.0, 'Car_3d/hard_R40': 0.0, 'Car_bev/easy_R40': 0.0, 'Car_bev/moderate_R40': 0.0, 'Car_bev/hard_R40': 0.0, 'Car_image/easy_R40': 3.661784984170627e-05, 'Car_image/moderate_R40': 5.3968182322182195e-05, 'Car_image/hard_R40': 6.994963626189144e-05, 'Pedestrian_aos/easy_R40': 0.0, 'Pedestrian_aos/moderate_R40': 0.0, 'Pedestrian_aos/hard_R40': 0.0, 'Pedestrian_3d/easy_R40': 0.0, 'Pedestrian_3d/moderate_R40': 0.0, 'Pedestrian_3d/hard_R40': 0.0, 'Pedestrian_bev/easy_R40': 0.0, 'Pedestrian_bev/moderate_R40': 0.0, 'Pedestrian_bev/hard_R40': 0.0, 'Pedestrian_image/easy_R40': 0.0, 'Pedestrian_image/moderate_R40': 0.0, 'Pedestrian_image/hard_R40': 0.0, 'Cyclist_aos/easy_R40': 2.5097029394462684e-05, 'Cyclist_aos/moderate_R40': 0.00010660003763844553, 'Cyclist_aos/hard_R40': 0.00011208704683835257, 'Cyclist_3d/easy_R40': 0.0, 'Cyclist_3d/moderate_R40': 0.0, 'Cyclist_3d/hard_R40': 0.0, 'Cyclist_bev/easy_R40': 0.0, 'Cyclist_bev/moderate_R40': 0.0, 'Cyclist_bev/hard_R40': 0.0, 'Cyclist_image/easy_R40': 3.4483438097302415e-05, 'Cyclist_image/moderate_R40': 0.00014364183769621477, 'Cyclist_image/hard_R40': 0.00017236921485822633}\n",
      "file: I-V_data_2um_length_250nm_diameter_BT_4V_NA_third_etch_15min_Pb_ED_3h_180C_MAI_no_200nm_Ag_memory_6V_carbon_paste_no_wait.xlsx, sigma: 0.4032025720611529, usability: 0.06521355094368632, evaluate-6\n"
     ]
    },
    {
     "name": "stderr",
     "output_type": "stream",
     "text": [
      "eval: 100%|█████████▉| 942/943 [04:05<00:00, 15.04it/s]2023-07-29 01:06:25,117   INFO  Average predicted number of objects(3769 samples): 487.259\n",
      "eval: 100%|██████████| 943/943 [06:07<00:00,  2.57it/s]\n"
     ]
    },
    {
     "name": "stdout",
     "output_type": "stream",
     "text": [
      "{'recall/roi_0.3': 0.0, 'recall/rcnn_0.3': 0.0, 'recall/roi_0.5': 0.0, 'recall/rcnn_0.5': 0.0, 'recall/roi_0.7': 0.0, 'recall/rcnn_0.7': 0.0, 'Car_aos/easy_R40': 0.0, 'Car_aos/moderate_R40': 0.0, 'Car_aos/hard_R40': 0.0, 'Car_3d/easy_R40': 0.0, 'Car_3d/moderate_R40': 0.0, 'Car_3d/hard_R40': 0.0, 'Car_bev/easy_R40': 0.0, 'Car_bev/moderate_R40': 0.0, 'Car_bev/hard_R40': 0.0, 'Car_image/easy_R40': 0.0, 'Car_image/moderate_R40': 0.0, 'Car_image/hard_R40': 0.0, 'Pedestrian_aos/easy_R40': 0.0, 'Pedestrian_aos/moderate_R40': 0.0, 'Pedestrian_aos/hard_R40': 0.0, 'Pedestrian_3d/easy_R40': 0.0, 'Pedestrian_3d/moderate_R40': 0.0, 'Pedestrian_3d/hard_R40': 0.0, 'Pedestrian_bev/easy_R40': 0.0, 'Pedestrian_bev/moderate_R40': 0.0, 'Pedestrian_bev/hard_R40': 0.0, 'Pedestrian_image/easy_R40': 0.0, 'Pedestrian_image/moderate_R40': 0.0, 'Pedestrian_image/hard_R40': 0.0, 'Cyclist_aos/easy_R40': 0.0, 'Cyclist_aos/moderate_R40': 0.0, 'Cyclist_aos/hard_R40': 0.0, 'Cyclist_3d/easy_R40': 0.0, 'Cyclist_3d/moderate_R40': 0.0, 'Cyclist_3d/hard_R40': 0.0, 'Cyclist_bev/easy_R40': 0.0, 'Cyclist_bev/moderate_R40': 0.0, 'Cyclist_bev/hard_R40': 0.0, 'Cyclist_image/easy_R40': 0.0, 'Cyclist_image/moderate_R40': 0.0, 'Cyclist_image/hard_R40': 0.0}\n",
      "file: I-V_data_2um_length_250nm_diameter_BT_4V_NA_third_etch_15min_Pb_ED_3h_180C_MAI_no_200nm_Ag_memory_6V_carbon_paste_no_wait.xlsx, sigma: 0.4032025720611529, usability: 0.06521355094368632, evaluate-7\n"
     ]
    },
    {
     "name": "stderr",
     "output_type": "stream",
     "text": [
      "eval: 100%|█████████▉| 942/943 [04:10<00:00, 14.42it/s]2023-07-29 01:12:40,229   INFO  Average predicted number of objects(3769 samples): 418.861\n",
      "eval: 100%|██████████| 943/943 [05:58<00:00,  2.63it/s]\n"
     ]
    },
    {
     "name": "stdout",
     "output_type": "stream",
     "text": [
      "{'recall/roi_0.3': 0.0, 'recall/rcnn_0.3': 0.0, 'recall/roi_0.5': 0.0, 'recall/rcnn_0.5': 0.0, 'recall/roi_0.7': 0.0, 'recall/rcnn_0.7': 0.0, 'Car_aos/easy_R40': 0.0, 'Car_aos/moderate_R40': 0.0, 'Car_aos/hard_R40': 0.0, 'Car_3d/easy_R40': 0.0, 'Car_3d/moderate_R40': 0.0, 'Car_3d/hard_R40': 0.0, 'Car_bev/easy_R40': 0.03541383119795438, 'Car_bev/moderate_R40': 0.07674649672799533, 'Car_bev/hard_R40': 0.08006549991179224, 'Car_image/easy_R40': 0.0, 'Car_image/moderate_R40': 0.0, 'Car_image/hard_R40': 0.0, 'Pedestrian_aos/easy_R40': 0.0, 'Pedestrian_aos/moderate_R40': 0.0, 'Pedestrian_aos/hard_R40': 0.0, 'Pedestrian_3d/easy_R40': 0.0, 'Pedestrian_3d/moderate_R40': 0.0, 'Pedestrian_3d/hard_R40': 0.0, 'Pedestrian_bev/easy_R40': 0.0, 'Pedestrian_bev/moderate_R40': 0.0, 'Pedestrian_bev/hard_R40': 0.0, 'Pedestrian_image/easy_R40': 0.0, 'Pedestrian_image/moderate_R40': 0.0, 'Pedestrian_image/hard_R40': 0.0, 'Cyclist_aos/easy_R40': 0.0, 'Cyclist_aos/moderate_R40': 0.0, 'Cyclist_aos/hard_R40': 0.0, 'Cyclist_3d/easy_R40': 0.0, 'Cyclist_3d/moderate_R40': 0.0, 'Cyclist_3d/hard_R40': 0.0, 'Cyclist_bev/easy_R40': 0.0, 'Cyclist_bev/moderate_R40': 0.0, 'Cyclist_bev/hard_R40': 0.0, 'Cyclist_image/easy_R40': 0.0, 'Cyclist_image/moderate_R40': 0.0, 'Cyclist_image/hard_R40': 0.0}\n",
      "file: I-V_data_2um_length_250nm_diameter_BT_4V_NA_third_etch_15min_Pb_ED_3h_180C_MAI_no_200nm_Ag_memory_6V_carbon_paste_no_wait.xlsx, sigma: 0.4032025720611529, usability: 0.06521355094368632, evaluate-8\n"
     ]
    },
    {
     "name": "stderr",
     "output_type": "stream",
     "text": [
      "eval: 100%|█████████▉| 942/943 [04:13<00:00, 15.82it/s]2023-07-29 01:18:43,976   INFO  Average predicted number of objects(3769 samples): 88.187\n",
      "eval: 100%|██████████| 943/943 [04:40<00:00,  3.36it/s]\n"
     ]
    },
    {
     "name": "stdout",
     "output_type": "stream",
     "text": [
      "{'recall/roi_0.3': 0.0, 'recall/rcnn_0.3': 0.0, 'recall/roi_0.5': 0.0, 'recall/rcnn_0.5': 0.0, 'recall/roi_0.7': 0.0, 'recall/rcnn_0.7': 0.0, 'Car_aos/easy_R40': 3.8258055481149804e-05, 'Car_aos/moderate_R40': 0.00014388098174320508, 'Car_aos/hard_R40': 0.0001800436045619604, 'Car_3d/easy_R40': 0.0, 'Car_3d/moderate_R40': 0.0, 'Car_3d/hard_R40': 0.0, 'Car_bev/easy_R40': 0.0, 'Car_bev/moderate_R40': 0.0, 'Car_bev/hard_R40': 0.0, 'Car_image/easy_R40': 0.00012142406139200543, 'Car_image/moderate_R40': 0.0002721569801461483, 'Car_image/hard_R40': 0.00034018696675692964, 'Pedestrian_aos/easy_R40': 0.0, 'Pedestrian_aos/moderate_R40': 0.0, 'Pedestrian_aos/hard_R40': 0.0, 'Pedestrian_3d/easy_R40': 0.0, 'Pedestrian_3d/moderate_R40': 0.0, 'Pedestrian_3d/hard_R40': 0.0, 'Pedestrian_bev/easy_R40': 0.0, 'Pedestrian_bev/moderate_R40': 0.0, 'Pedestrian_bev/hard_R40': 0.0, 'Pedestrian_image/easy_R40': 0.0, 'Pedestrian_image/moderate_R40': 0.0, 'Pedestrian_image/hard_R40': 0.0, 'Cyclist_aos/easy_R40': 0.0, 'Cyclist_aos/moderate_R40': 0.0, 'Cyclist_aos/hard_R40': 0.0, 'Cyclist_3d/easy_R40': 0.0, 'Cyclist_3d/moderate_R40': 0.0, 'Cyclist_3d/hard_R40': 0.0, 'Cyclist_bev/easy_R40': 0.0, 'Cyclist_bev/moderate_R40': 0.0, 'Cyclist_bev/hard_R40': 0.0, 'Cyclist_image/easy_R40': 0.0, 'Cyclist_image/moderate_R40': 0.0, 'Cyclist_image/hard_R40': 0.0}\n",
      "file: I-V_data_2um_length_250nm_diameter_BT_4V_NA_third_etch_15min_Pb_ED_3h_180C_MAI_no_200nm_Ag_memory_6V_carbon_paste_no_wait.xlsx, sigma: 0.4032025720611529, usability: 0.06521355094368632, evaluate-9\n"
     ]
    },
    {
     "name": "stderr",
     "output_type": "stream",
     "text": [
      "eval: 100%|█████████▉| 942/943 [03:55<00:00, 19.47it/s]2023-07-29 01:23:08,234   INFO  Average predicted number of objects(3769 samples): 106.259\n",
      "eval: 100%|██████████| 943/943 [04:26<00:00,  3.53it/s]\n"
     ]
    },
    {
     "name": "stdout",
     "output_type": "stream",
     "text": [
      "{'recall/roi_0.3': 0.0, 'recall/rcnn_0.3': 0.0, 'recall/roi_0.5': 0.0, 'recall/rcnn_0.5': 0.0, 'recall/roi_0.7': 0.0, 'recall/rcnn_0.7': 0.0, 'Car_aos/easy_R40': 0.00021116097874756293, 'Car_aos/moderate_R40': 0.0003471185298912025, 'Car_aos/hard_R40': 0.0005632176682585681, 'Car_3d/easy_R40': 0.0, 'Car_3d/moderate_R40': 0.0, 'Car_3d/hard_R40': 0.0, 'Car_bev/easy_R40': 0.0, 'Car_bev/moderate_R40': 0.0, 'Car_bev/hard_R40': 2.4205573091148508e-05, 'Car_image/easy_R40': 0.0003328673190866121, 'Car_image/moderate_R40': 0.0005712698320242665, 'Car_image/hard_R40': 0.0010303366961133906, 'Pedestrian_aos/easy_R40': 0.0, 'Pedestrian_aos/moderate_R40': 0.0, 'Pedestrian_aos/hard_R40': 0.0, 'Pedestrian_3d/easy_R40': 0.0, 'Pedestrian_3d/moderate_R40': 0.0, 'Pedestrian_3d/hard_R40': 0.0, 'Pedestrian_bev/easy_R40': 0.05630630630630631, 'Pedestrian_bev/moderate_R40': 0.04826254826254826, 'Pedestrian_bev/hard_R40': 0.04826254826254826, 'Pedestrian_image/easy_R40': 0.0, 'Pedestrian_image/moderate_R40': 0.0, 'Pedestrian_image/hard_R40': 0.0, 'Cyclist_aos/easy_R40': 0.0, 'Cyclist_aos/moderate_R40': 0.000191478599286514, 'Cyclist_aos/hard_R40': 0.0002848318497636895, 'Cyclist_3d/easy_R40': 0.0, 'Cyclist_3d/moderate_R40': 0.0, 'Cyclist_3d/hard_R40': 0.0, 'Cyclist_bev/easy_R40': 0.0, 'Cyclist_bev/moderate_R40': 0.0002141602775517197, 'Cyclist_bev/hard_R40': 0.0002141602775517197, 'Cyclist_image/easy_R40': 0.0, 'Cyclist_image/moderate_R40': 0.00019933819718534465, 'Cyclist_image/hard_R40': 0.00029899537553819167}\n",
      "file: I-V_data_2um_length_200nm_diameter_BT_4V_NA_third_etch_15min_Pb_ED_3h_370+450C_CsPbI3_no_200nm_Ag_memory_6V_probe_wait_1min.xlsx, sigma: 0.47505440936126203, usability: 0.01537661878526889, evaluate-0\n"
     ]
    },
    {
     "name": "stderr",
     "output_type": "stream",
     "text": [
      "eval: 100%|██████████| 943/943 [04:07<00:00, 14.31it/s]2023-07-29 01:27:49,753   INFO  Average predicted number of objects(3769 samples): 500.000\n",
      "eval: 100%|██████████| 943/943 [06:21<00:00,  2.47it/s]\n"
     ]
    },
    {
     "name": "stdout",
     "output_type": "stream",
     "text": [
      "{'recall/roi_0.3': 0.0, 'recall/rcnn_0.3': 0.0, 'recall/roi_0.5': 0.0, 'recall/rcnn_0.5': 0.0, 'recall/roi_0.7': 0.0, 'recall/rcnn_0.7': 0.0, 'Car_aos/easy_R40': 0.0, 'Car_aos/moderate_R40': 2.813232623682782e-06, 'Car_aos/hard_R40': 3.3070415858318014e-06, 'Car_3d/easy_R40': 0.0, 'Car_3d/moderate_R40': 0.0, 'Car_3d/hard_R40': 0.0, 'Car_bev/easy_R40': 0.12945563858599315, 'Car_bev/moderate_R40': 0.3121756717450033, 'Car_bev/hard_R40': 0.37577454883819783, 'Car_image/easy_R40': 0.0, 'Car_image/moderate_R40': 4.2301256008893415e-06, 'Car_image/hard_R40': 7.050201381952275e-06, 'Pedestrian_aos/easy_R40': 0.0, 'Pedestrian_aos/moderate_R40': 0.0, 'Pedestrian_aos/hard_R40': 0.0, 'Pedestrian_3d/easy_R40': 0.0, 'Pedestrian_3d/moderate_R40': 0.0, 'Pedestrian_3d/hard_R40': 0.0, 'Pedestrian_bev/easy_R40': 0.0, 'Pedestrian_bev/moderate_R40': 0.0, 'Pedestrian_bev/hard_R40': 0.0, 'Pedestrian_image/easy_R40': 0.0, 'Pedestrian_image/moderate_R40': 0.0, 'Pedestrian_image/hard_R40': 0.0, 'Cyclist_aos/easy_R40': 0.0, 'Cyclist_aos/moderate_R40': 0.0, 'Cyclist_aos/hard_R40': 0.0, 'Cyclist_3d/easy_R40': 0.0, 'Cyclist_3d/moderate_R40': 0.0, 'Cyclist_3d/hard_R40': 0.0, 'Cyclist_bev/easy_R40': 0.0, 'Cyclist_bev/moderate_R40': 0.0, 'Cyclist_bev/hard_R40': 0.0, 'Cyclist_image/easy_R40': 0.0, 'Cyclist_image/moderate_R40': 0.0, 'Cyclist_image/hard_R40': 0.0}\n",
      "file: I-V_data_2um_length_200nm_diameter_BT_4V_NA_third_etch_15min_Pb_ED_3h_370+450C_CsPbI3_no_200nm_Ag_memory_6V_probe_wait_1min.xlsx, sigma: 0.47505440936126203, usability: 0.01537661878526889, evaluate-1\n"
     ]
    },
    {
     "name": "stderr",
     "output_type": "stream",
     "text": [
      "eval: 100%|█████████▉| 942/943 [04:04<00:00, 15.39it/s]2023-07-29 01:34:09,533   INFO  Average predicted number of objects(3769 samples): 172.671\n",
      "eval: 100%|██████████| 943/943 [04:50<00:00,  3.24it/s]\n"
     ]
    },
    {
     "name": "stdout",
     "output_type": "stream",
     "text": [
      "{'recall/roi_0.3': 0.0, 'recall/rcnn_0.3': 0.0, 'recall/roi_0.5': 0.0, 'recall/rcnn_0.5': 0.0, 'recall/roi_0.7': 0.0, 'recall/rcnn_0.7': 0.0, 'Car_aos/easy_R40': 0.0, 'Car_aos/moderate_R40': 0.0, 'Car_aos/hard_R40': 0.0, 'Car_3d/easy_R40': 0.0, 'Car_3d/moderate_R40': 0.0, 'Car_3d/hard_R40': 0.0, 'Car_bev/easy_R40': 0.0, 'Car_bev/moderate_R40': 0.0, 'Car_bev/hard_R40': 0.0, 'Car_image/easy_R40': 0.0, 'Car_image/moderate_R40': 0.0, 'Car_image/hard_R40': 0.0, 'Pedestrian_aos/easy_R40': 0.0, 'Pedestrian_aos/moderate_R40': 0.0, 'Pedestrian_aos/hard_R40': 0.0, 'Pedestrian_3d/easy_R40': 0.0, 'Pedestrian_3d/moderate_R40': 0.0, 'Pedestrian_3d/hard_R40': 0.0, 'Pedestrian_bev/easy_R40': 0.0, 'Pedestrian_bev/moderate_R40': 0.0, 'Pedestrian_bev/hard_R40': 0.0, 'Pedestrian_image/easy_R40': 0.0, 'Pedestrian_image/moderate_R40': 0.0, 'Pedestrian_image/hard_R40': 0.0, 'Cyclist_aos/easy_R40': 0.0, 'Cyclist_aos/moderate_R40': 0.0, 'Cyclist_aos/hard_R40': 0.0, 'Cyclist_3d/easy_R40': 0.0, 'Cyclist_3d/moderate_R40': 0.0, 'Cyclist_3d/hard_R40': 0.0, 'Cyclist_bev/easy_R40': 0.0, 'Cyclist_bev/moderate_R40': 0.0, 'Cyclist_bev/hard_R40': 0.0, 'Cyclist_image/easy_R40': 0.0, 'Cyclist_image/moderate_R40': 0.0, 'Cyclist_image/hard_R40': 0.0}\n",
      "file: I-V_data_2um_length_200nm_diameter_BT_4V_NA_third_etch_15min_Pb_ED_3h_370+450C_CsPbI3_no_200nm_Ag_memory_6V_probe_wait_1min.xlsx, sigma: 0.47505440936126203, usability: 0.01537661878526889, evaluate-2\n"
     ]
    },
    {
     "name": "stderr",
     "output_type": "stream",
     "text": [
      "eval: 100%|█████████▉| 942/943 [03:56<00:00, 17.08it/s]2023-07-29 01:38:54,265   INFO  Average predicted number of objects(3769 samples): 193.119\n",
      "eval: 100%|██████████| 943/943 [04:49<00:00,  3.26it/s]\n"
     ]
    },
    {
     "name": "stdout",
     "output_type": "stream",
     "text": [
      "{'recall/roi_0.3': 0.0, 'recall/rcnn_0.3': 0.0, 'recall/roi_0.5': 0.0, 'recall/rcnn_0.5': 0.0, 'recall/roi_0.7': 0.0, 'recall/rcnn_0.7': 0.0, 'Car_aos/easy_R40': 0.00024698355595179826, 'Car_aos/moderate_R40': 0.0003479165110824486, 'Car_aos/hard_R40': 0.0005648893899868482, 'Car_3d/easy_R40': 0.0, 'Car_3d/moderate_R40': 0.0, 'Car_3d/hard_R40': 0.0, 'Car_bev/easy_R40': 0.0, 'Car_bev/moderate_R40': 4.434471810062704e-05, 'Car_bev/hard_R40': 4.434471810062704e-05, 'Car_image/easy_R40': 0.00031031119780122355, 'Car_image/moderate_R40': 0.0006046924131258566, 'Car_image/hard_R40': 0.0010479476348627995, 'Pedestrian_aos/easy_R40': 0.0, 'Pedestrian_aos/moderate_R40': 0.0, 'Pedestrian_aos/hard_R40': 0.0, 'Pedestrian_3d/easy_R40': 0.0, 'Pedestrian_3d/moderate_R40': 0.0, 'Pedestrian_3d/hard_R40': 0.0, 'Pedestrian_bev/easy_R40': 0.0, 'Pedestrian_bev/moderate_R40': 0.0, 'Pedestrian_bev/hard_R40': 0.0, 'Pedestrian_image/easy_R40': 0.0, 'Pedestrian_image/moderate_R40': 0.0, 'Pedestrian_image/hard_R40': 0.0, 'Cyclist_aos/easy_R40': 0.0007641129996147364, 'Cyclist_aos/moderate_R40': 0.0004274326569602843, 'Cyclist_aos/hard_R40': 0.0004335285548376253, 'Cyclist_3d/easy_R40': 0.0, 'Cyclist_3d/moderate_R40': 0.0, 'Cyclist_3d/hard_R40': 0.0, 'Cyclist_bev/easy_R40': 0.0, 'Cyclist_bev/moderate_R40': 0.0, 'Cyclist_bev/hard_R40': 0.0, 'Cyclist_image/easy_R40': 0.0016041324060916283, 'Cyclist_image/moderate_R40': 0.0009761620004599229, 'Cyclist_image/hard_R40': 0.0010420685045605875}\n",
      "file: I-V_data_2um_length_200nm_diameter_BT_4V_NA_third_etch_15min_Pb_ED_3h_370+450C_CsPbI3_no_200nm_Ag_memory_6V_probe_wait_1min.xlsx, sigma: 0.47505440936126203, usability: 0.01537661878526889, evaluate-3\n"
     ]
    },
    {
     "name": "stderr",
     "output_type": "stream",
     "text": [
      "eval: 100%|█████████▉| 942/943 [03:59<00:00, 14.49it/s]2023-07-29 01:43:47,816   INFO  Average predicted number of objects(3769 samples): 435.858\n",
      "eval: 100%|██████████| 943/943 [05:47<00:00,  2.71it/s]\n"
     ]
    },
    {
     "name": "stdout",
     "output_type": "stream",
     "text": [
      "{'recall/roi_0.3': 0.0, 'recall/rcnn_0.3': 0.0, 'recall/roi_0.5': 0.0, 'recall/rcnn_0.5': 0.0, 'recall/roi_0.7': 0.0, 'recall/rcnn_0.7': 0.0, 'Car_aos/easy_R40': 0.0, 'Car_aos/moderate_R40': 0.0, 'Car_aos/hard_R40': 0.0, 'Car_3d/easy_R40': 0.0, 'Car_3d/moderate_R40': 0.0, 'Car_3d/hard_R40': 0.0, 'Car_bev/easy_R40': 0.0, 'Car_bev/moderate_R40': 0.0, 'Car_bev/hard_R40': 0.0, 'Car_image/easy_R40': 0.0, 'Car_image/moderate_R40': 0.0, 'Car_image/hard_R40': 0.0, 'Pedestrian_aos/easy_R40': 0.0, 'Pedestrian_aos/moderate_R40': 0.0, 'Pedestrian_aos/hard_R40': 0.0, 'Pedestrian_3d/easy_R40': 0.0, 'Pedestrian_3d/moderate_R40': 0.0, 'Pedestrian_3d/hard_R40': 0.0, 'Pedestrian_bev/easy_R40': 0.0, 'Pedestrian_bev/moderate_R40': 0.0, 'Pedestrian_bev/hard_R40': 0.0, 'Pedestrian_image/easy_R40': 0.0, 'Pedestrian_image/moderate_R40': 0.0, 'Pedestrian_image/hard_R40': 0.0, 'Cyclist_aos/easy_R40': 0.0, 'Cyclist_aos/moderate_R40': 0.0, 'Cyclist_aos/hard_R40': 0.0, 'Cyclist_3d/easy_R40': 0.0, 'Cyclist_3d/moderate_R40': 0.0, 'Cyclist_3d/hard_R40': 0.0, 'Cyclist_bev/easy_R40': 0.0, 'Cyclist_bev/moderate_R40': 0.0, 'Cyclist_bev/hard_R40': 0.0, 'Cyclist_image/easy_R40': 0.0, 'Cyclist_image/moderate_R40': 0.0, 'Cyclist_image/hard_R40': 0.0}\n",
      "file: I-V_data_2um_length_200nm_diameter_BT_4V_NA_third_etch_15min_Pb_ED_3h_370+450C_CsPbI3_no_200nm_Ag_memory_6V_probe_wait_1min.xlsx, sigma: 0.47505440936126203, usability: 0.01537661878526889, evaluate-4\n"
     ]
    },
    {
     "name": "stderr",
     "output_type": "stream",
     "text": [
      "eval: 100%|█████████▉| 942/943 [04:00<00:00, 15.82it/s]2023-07-29 01:49:40,025   INFO  Average predicted number of objects(3769 samples): 473.049\n",
      "eval: 100%|██████████| 943/943 [05:58<00:00,  2.63it/s]\n"
     ]
    },
    {
     "name": "stdout",
     "output_type": "stream",
     "text": [
      "{'recall/roi_0.3': 0.0, 'recall/rcnn_0.3': 0.0, 'recall/roi_0.5': 0.0, 'recall/rcnn_0.5': 0.0, 'recall/roi_0.7': 0.0, 'recall/rcnn_0.7': 0.0, 'Car_aos/easy_R40': 0.0, 'Car_aos/moderate_R40': 3.2313506555585896e-05, 'Car_aos/hard_R40': 5.975217143797187e-05, 'Car_3d/easy_R40': 0.0, 'Car_3d/moderate_R40': 0.0, 'Car_3d/hard_R40': 0.0, 'Car_bev/easy_R40': 0.0, 'Car_bev/moderate_R40': 0.0, 'Car_bev/hard_R40': 0.0, 'Car_image/easy_R40': 0.0, 'Car_image/moderate_R40': 5.5020632737276485e-05, 'Car_image/hard_R40': 8.25300409349003e-05, 'Pedestrian_aos/easy_R40': 0.0, 'Pedestrian_aos/moderate_R40': 0.0, 'Pedestrian_aos/hard_R40': 0.0, 'Pedestrian_3d/easy_R40': 0.0, 'Pedestrian_3d/moderate_R40': 0.0, 'Pedestrian_3d/hard_R40': 0.0, 'Pedestrian_bev/easy_R40': 0.0, 'Pedestrian_bev/moderate_R40': 0.0, 'Pedestrian_bev/hard_R40': 0.0, 'Pedestrian_image/easy_R40': 0.0, 'Pedestrian_image/moderate_R40': 0.0, 'Pedestrian_image/hard_R40': 0.0, 'Cyclist_aos/easy_R40': 0.0, 'Cyclist_aos/moderate_R40': 0.00012948302852180832, 'Cyclist_aos/hard_R40': 0.00012948302852180832, 'Cyclist_3d/easy_R40': 0.0, 'Cyclist_3d/moderate_R40': 0.0, 'Cyclist_3d/hard_R40': 0.0, 'Cyclist_bev/easy_R40': 0.0, 'Cyclist_bev/moderate_R40': 0.0, 'Cyclist_bev/hard_R40': 0.0, 'Cyclist_image/easy_R40': 0.0, 'Cyclist_image/moderate_R40': 0.00020822343763013962, 'Cyclist_image/hard_R40': 0.00020822343763013962}\n",
      "file: I-V_data_2um_length_200nm_diameter_BT_4V_NA_third_etch_15min_Pb_ED_3h_370+450C_CsPbI3_no_200nm_Ag_memory_6V_probe_wait_1min.xlsx, sigma: 0.47505440936126203, usability: 0.01537661878526889, evaluate-5\n"
     ]
    },
    {
     "name": "stderr",
     "output_type": "stream",
     "text": [
      "eval: 100%|█████████▉| 942/943 [04:13<00:00, 14.76it/s]2023-07-29 01:55:52,986   INFO  Average predicted number of objects(3769 samples): 49.346\n"
     ]
    },
    {
     "ename": "ZeroDivisionError",
     "evalue": "division by zero",
     "output_type": "error",
     "traceback": [
      "\u001b[0;31m---------------------------------------------------------------------------\u001b[0m",
      "\u001b[0;31mZeroDivisionError\u001b[0m                         Traceback (most recent call last)",
      "Cell \u001b[0;32mIn[1], line 179\u001b[0m\n\u001b[1;32m    176\u001b[0m model\u001b[38;5;241m.\u001b[39mload_state_dict(torch\u001b[38;5;241m.\u001b[39mload(args\u001b[38;5;241m.\u001b[39mckpt, map_location\u001b[38;5;241m=\u001b[39mtorch\u001b[38;5;241m.\u001b[39mdevice(\u001b[38;5;124m'\u001b[39m\u001b[38;5;124mcuda:0\u001b[39m\u001b[38;5;124m'\u001b[39m)))\n\u001b[1;32m    177\u001b[0m add_noise_to_weights(f_dir\u001b[38;5;241m+\u001b[39mf_name, model, noise_sigma\u001b[38;5;241m=\u001b[39msigma, device\u001b[38;5;241m=\u001b[39m\u001b[38;5;124m'\u001b[39m\u001b[38;5;124mcuda\u001b[39m\u001b[38;5;124m'\u001b[39m)\n\u001b[0;32m--> 179\u001b[0m acc1, ret_dict \u001b[38;5;241m=\u001b[39m \u001b[43meval_utils\u001b[49m\u001b[38;5;241;43m.\u001b[39;49m\u001b[43meval_simple\u001b[49m\u001b[43m(\u001b[49m\n\u001b[1;32m    180\u001b[0m \u001b[43m    \u001b[49m\u001b[38;5;28;43;01mNone\u001b[39;49;00m\u001b[43m,\u001b[49m\u001b[43m \u001b[49m\u001b[38;5;28;43;01mNone\u001b[39;49;00m\u001b[43m,\u001b[49m\u001b[43m \u001b[49m\u001b[38;5;28;43;01mNone\u001b[39;49;00m\u001b[43m,\u001b[49m\u001b[43m \u001b[49m\u001b[43mf_name\u001b[49m\u001b[43m,\u001b[49m\u001b[43m \u001b[49m\u001b[43musability\u001b[49m\u001b[43m,\u001b[49m\u001b[43m \u001b[49m\u001b[43msigma\u001b[49m\u001b[43m,\u001b[49m\u001b[43m \u001b[49m\u001b[43mn\u001b[49m\u001b[43m,\u001b[49m\u001b[43m \u001b[49m\u001b[43mcfg\u001b[49m\u001b[43m,\u001b[49m\u001b[43m \u001b[49m\u001b[43mmodel\u001b[49m\u001b[43m,\u001b[49m\u001b[43m \u001b[49m\u001b[43mtest_loader\u001b[49m\u001b[43m,\u001b[49m\u001b[43m \u001b[49m\u001b[43mlogger\u001b[49m\u001b[43m,\u001b[49m\u001b[43m \u001b[49m\n\u001b[1;32m    181\u001b[0m \u001b[43m    \u001b[49m\u001b[43msave_path\u001b[49m\u001b[38;5;241;43m=\u001b[39;49m\u001b[38;5;28;43;01mNone\u001b[39;49;00m\u001b[43m,\u001b[49m\u001b[43m \u001b[49m\u001b[43mdist_test\u001b[49m\u001b[38;5;241;43m=\u001b[39;49m\u001b[43mdist_train\u001b[49m\u001b[43m,\u001b[49m\n\u001b[1;32m    182\u001b[0m \u001b[43m    \u001b[49m\u001b[43msave_to_file\u001b[49m\u001b[38;5;241;43m=\u001b[39;49m\u001b[43margs\u001b[49m\u001b[38;5;241;43m.\u001b[39;49m\u001b[43msave_to_file\u001b[49m\u001b[43m,\u001b[49m\u001b[43m \u001b[49m\u001b[43mresult_dir\u001b[49m\u001b[38;5;241;43m=\u001b[39;49m\u001b[38;5;28;43;01mNone\u001b[39;49;00m\n\u001b[1;32m    183\u001b[0m \u001b[43m\u001b[49m\u001b[43m)\u001b[49m\n\u001b[1;32m    184\u001b[0m \u001b[38;5;28mprint\u001b[39m(ret_dict)\n\u001b[1;32m    185\u001b[0m file2ap_dict[f_name][n] \u001b[38;5;241m=\u001b[39m ret_dict\n",
      "File \u001b[0;32m/mnt/workspace/sunqiao/OpenPCDet/tools/eval_utils/eval_utils_multinomial_finalv_half.py:179\u001b[0m, in \u001b[0;36meval_simple\u001b[0;34m(p1, p2, p3, file, usability, sigma, n, cfg, model, dataloader, logger, save_path, dist_test, save_to_file, result_dir)\u001b[0m\n\u001b[1;32m    175\u001b[0m     total_pred_objects \u001b[38;5;241m+\u001b[39m\u001b[38;5;241m=\u001b[39m anno[\u001b[38;5;124m'\u001b[39m\u001b[38;5;124mname\u001b[39m\u001b[38;5;124m'\u001b[39m]\u001b[38;5;241m.\u001b[39m\u001b[38;5;21m__len__\u001b[39m()\n\u001b[1;32m    176\u001b[0m logger\u001b[38;5;241m.\u001b[39minfo(\u001b[38;5;124m'\u001b[39m\u001b[38;5;124mAverage predicted number of objects(\u001b[39m\u001b[38;5;132;01m%d\u001b[39;00m\u001b[38;5;124m samples): \u001b[39m\u001b[38;5;132;01m%.3f\u001b[39;00m\u001b[38;5;124m'\u001b[39m\n\u001b[1;32m    177\u001b[0m             \u001b[38;5;241m%\u001b[39m (\u001b[38;5;28mlen\u001b[39m(det_annos), total_pred_objects \u001b[38;5;241m/\u001b[39m \u001b[38;5;28mmax\u001b[39m(\u001b[38;5;241m1\u001b[39m, \u001b[38;5;28mlen\u001b[39m(det_annos))))\n\u001b[0;32m--> 179\u001b[0m result_str, result_dict \u001b[38;5;241m=\u001b[39m \u001b[43mdataset\u001b[49m\u001b[38;5;241;43m.\u001b[39;49m\u001b[43mevaluation\u001b[49m\u001b[43m(\u001b[49m\n\u001b[1;32m    180\u001b[0m \u001b[43m    \u001b[49m\u001b[43mdet_annos\u001b[49m\u001b[43m,\u001b[49m\u001b[43m \u001b[49m\u001b[43mclass_names\u001b[49m\u001b[43m,\u001b[49m\n\u001b[1;32m    181\u001b[0m \u001b[43m    \u001b[49m\u001b[43meval_metric\u001b[49m\u001b[38;5;241;43m=\u001b[39;49m\u001b[43mcfg\u001b[49m\u001b[38;5;241;43m.\u001b[39;49m\u001b[43mMODEL\u001b[49m\u001b[38;5;241;43m.\u001b[39;49m\u001b[43mPOST_PROCESSING\u001b[49m\u001b[38;5;241;43m.\u001b[39;49m\u001b[43mEVAL_METRIC\u001b[49m\u001b[43m,\u001b[49m\n\u001b[1;32m    182\u001b[0m \u001b[43m    \u001b[49m\u001b[43moutput_path\u001b[49m\u001b[38;5;241;43m=\u001b[39;49m\u001b[43mresult_dir\u001b[49m\n\u001b[1;32m    183\u001b[0m \u001b[43m\u001b[49m\u001b[43m)\u001b[49m\n\u001b[1;32m    186\u001b[0m ret_dict\u001b[38;5;241m.\u001b[39mupdate(result_dict)\n\u001b[1;32m    189\u001b[0m \u001b[38;5;66;03m# ======================3d\u001b[39;00m\n",
      "File \u001b[0;32m/mnt/workspace/sunqiao/OpenPCDet/pcdet/datasets/kitti/kitti_dataset.py:361\u001b[0m, in \u001b[0;36mKittiDataset.evaluation\u001b[0;34m(self, det_annos, class_names, **kwargs)\u001b[0m\n\u001b[1;32m    359\u001b[0m eval_det_annos \u001b[38;5;241m=\u001b[39m copy\u001b[38;5;241m.\u001b[39mdeepcopy(det_annos)\n\u001b[1;32m    360\u001b[0m eval_gt_annos \u001b[38;5;241m=\u001b[39m [copy\u001b[38;5;241m.\u001b[39mdeepcopy(info[\u001b[38;5;124m'\u001b[39m\u001b[38;5;124mannos\u001b[39m\u001b[38;5;124m'\u001b[39m]) \u001b[38;5;28;01mfor\u001b[39;00m info \u001b[38;5;129;01min\u001b[39;00m \u001b[38;5;28mself\u001b[39m\u001b[38;5;241m.\u001b[39mkitti_infos]\n\u001b[0;32m--> 361\u001b[0m ap_result_str, ap_dict \u001b[38;5;241m=\u001b[39m \u001b[43mkitti_eval\u001b[49m\u001b[38;5;241;43m.\u001b[39;49m\u001b[43mget_official_eval_result\u001b[49m\u001b[43m(\u001b[49m\u001b[43meval_gt_annos\u001b[49m\u001b[43m,\u001b[49m\u001b[43m \u001b[49m\u001b[43meval_det_annos\u001b[49m\u001b[43m,\u001b[49m\u001b[43m \u001b[49m\u001b[43mclass_names\u001b[49m\u001b[43m)\u001b[49m\n\u001b[1;32m    363\u001b[0m \u001b[38;5;28;01mreturn\u001b[39;00m ap_result_str, ap_dict\n",
      "File \u001b[0;32m/mnt/workspace/sunqiao/OpenPCDet/pcdet/datasets/kitti/kitti_object_eval_python/eval.py:674\u001b[0m, in \u001b[0;36mget_official_eval_result\u001b[0;34m(gt_annos, dt_annos, current_classes, PR_detail_dict)\u001b[0m\n\u001b[1;32m    672\u001b[0m             compute_aos \u001b[38;5;241m=\u001b[39m \u001b[38;5;28;01mTrue\u001b[39;00m\n\u001b[1;32m    673\u001b[0m         \u001b[38;5;28;01mbreak\u001b[39;00m\n\u001b[0;32m--> 674\u001b[0m mAPbbox, mAPbev, mAP3d, mAPaos, mAPbbox_R40, mAPbev_R40, mAP3d_R40, mAPaos_R40 \u001b[38;5;241m=\u001b[39m \u001b[43mdo_eval\u001b[49m\u001b[43m(\u001b[49m\n\u001b[1;32m    675\u001b[0m \u001b[43m    \u001b[49m\u001b[43mgt_annos\u001b[49m\u001b[43m,\u001b[49m\u001b[43m \u001b[49m\u001b[43mdt_annos\u001b[49m\u001b[43m,\u001b[49m\u001b[43m \u001b[49m\u001b[43mcurrent_classes\u001b[49m\u001b[43m,\u001b[49m\u001b[43m \u001b[49m\u001b[43mmin_overlaps\u001b[49m\u001b[43m,\u001b[49m\u001b[43m \u001b[49m\u001b[43mcompute_aos\u001b[49m\u001b[43m,\u001b[49m\u001b[43m \u001b[49m\u001b[43mPR_detail_dict\u001b[49m\u001b[38;5;241;43m=\u001b[39;49m\u001b[43mPR_detail_dict\u001b[49m\u001b[43m)\u001b[49m\n\u001b[1;32m    677\u001b[0m ret_dict \u001b[38;5;241m=\u001b[39m {}\n\u001b[1;32m    678\u001b[0m \u001b[38;5;28;01mfor\u001b[39;00m j, curcls \u001b[38;5;129;01min\u001b[39;00m \u001b[38;5;28menumerate\u001b[39m(current_classes):\n\u001b[1;32m    679\u001b[0m     \u001b[38;5;66;03m# mAP threshold array: [num_minoverlap, metric, class]\u001b[39;00m\n\u001b[1;32m    680\u001b[0m     \u001b[38;5;66;03m# mAP result: [num_class, num_diff, num_minoverlap]\u001b[39;00m\n",
      "File \u001b[0;32m/mnt/workspace/sunqiao/OpenPCDet/pcdet/datasets/kitti/kitti_object_eval_python/eval.py:612\u001b[0m, in \u001b[0;36mdo_eval\u001b[0;34m(gt_annos, dt_annos, current_classes, min_overlaps, compute_aos, PR_detail_dict)\u001b[0m\n\u001b[1;32m    609\u001b[0m \u001b[38;5;28;01mif\u001b[39;00m PR_detail_dict \u001b[38;5;129;01mis\u001b[39;00m \u001b[38;5;129;01mnot\u001b[39;00m \u001b[38;5;28;01mNone\u001b[39;00m:\n\u001b[1;32m    610\u001b[0m     PR_detail_dict[\u001b[38;5;124m'\u001b[39m\u001b[38;5;124mbev\u001b[39m\u001b[38;5;124m'\u001b[39m] \u001b[38;5;241m=\u001b[39m ret[\u001b[38;5;124m'\u001b[39m\u001b[38;5;124mprecision\u001b[39m\u001b[38;5;124m'\u001b[39m]\n\u001b[0;32m--> 612\u001b[0m ret \u001b[38;5;241m=\u001b[39m \u001b[43meval_class\u001b[49m\u001b[43m(\u001b[49m\u001b[43mgt_annos\u001b[49m\u001b[43m,\u001b[49m\u001b[43m \u001b[49m\u001b[43mdt_annos\u001b[49m\u001b[43m,\u001b[49m\u001b[43m \u001b[49m\u001b[43mcurrent_classes\u001b[49m\u001b[43m,\u001b[49m\u001b[43m \u001b[49m\u001b[43mdifficultys\u001b[49m\u001b[43m,\u001b[49m\u001b[43m \u001b[49m\u001b[38;5;241;43m2\u001b[39;49m\u001b[43m,\u001b[49m\n\u001b[1;32m    613\u001b[0m \u001b[43m                 \u001b[49m\u001b[43mmin_overlaps\u001b[49m\u001b[43m)\u001b[49m\n\u001b[1;32m    614\u001b[0m mAP_3d \u001b[38;5;241m=\u001b[39m get_mAP(ret[\u001b[38;5;124m\"\u001b[39m\u001b[38;5;124mprecision\u001b[39m\u001b[38;5;124m\"\u001b[39m])\n\u001b[1;32m    615\u001b[0m mAP_3d_R40 \u001b[38;5;241m=\u001b[39m get_mAP_R40(ret[\u001b[38;5;124m\"\u001b[39m\u001b[38;5;124mprecision\u001b[39m\u001b[38;5;124m\"\u001b[39m])\n",
      "File \u001b[0;32m/mnt/workspace/sunqiao/OpenPCDet/pcdet/datasets/kitti/kitti_object_eval_python/eval.py:473\u001b[0m, in \u001b[0;36meval_class\u001b[0;34m(gt_annos, dt_annos, current_classes, difficultys, metric, min_overlaps, compute_aos, num_parts)\u001b[0m\n\u001b[1;32m    470\u001b[0m num_examples \u001b[38;5;241m=\u001b[39m \u001b[38;5;28mlen\u001b[39m(gt_annos)\n\u001b[1;32m    471\u001b[0m split_parts \u001b[38;5;241m=\u001b[39m get_split_parts(num_examples, num_parts)\n\u001b[0;32m--> 473\u001b[0m rets \u001b[38;5;241m=\u001b[39m \u001b[43mcalculate_iou_partly\u001b[49m\u001b[43m(\u001b[49m\u001b[43mdt_annos\u001b[49m\u001b[43m,\u001b[49m\u001b[43m \u001b[49m\u001b[43mgt_annos\u001b[49m\u001b[43m,\u001b[49m\u001b[43m \u001b[49m\u001b[43mmetric\u001b[49m\u001b[43m,\u001b[49m\u001b[43m \u001b[49m\u001b[43mnum_parts\u001b[49m\u001b[43m)\u001b[49m\n\u001b[1;32m    474\u001b[0m overlaps, parted_overlaps, total_dt_num, total_gt_num \u001b[38;5;241m=\u001b[39m rets\n\u001b[1;32m    475\u001b[0m N_SAMPLE_PTS \u001b[38;5;241m=\u001b[39m \u001b[38;5;241m41\u001b[39m\n",
      "File \u001b[0;32m/mnt/workspace/sunqiao/OpenPCDet/pcdet/datasets/kitti/kitti_object_eval_python/eval.py:392\u001b[0m, in \u001b[0;36mcalculate_iou_partly\u001b[0;34m(gt_annos, dt_annos, metric, num_parts)\u001b[0m\n\u001b[1;32m    389\u001b[0m     rots \u001b[38;5;241m=\u001b[39m np\u001b[38;5;241m.\u001b[39mconcatenate([a[\u001b[38;5;124m\"\u001b[39m\u001b[38;5;124mrotation_y\u001b[39m\u001b[38;5;124m\"\u001b[39m] \u001b[38;5;28;01mfor\u001b[39;00m a \u001b[38;5;129;01min\u001b[39;00m dt_annos_part], \u001b[38;5;241m0\u001b[39m)\n\u001b[1;32m    390\u001b[0m     dt_boxes \u001b[38;5;241m=\u001b[39m np\u001b[38;5;241m.\u001b[39mconcatenate(\n\u001b[1;32m    391\u001b[0m         [loc, dims, rots[\u001b[38;5;241m.\u001b[39m\u001b[38;5;241m.\u001b[39m\u001b[38;5;241m.\u001b[39m, np\u001b[38;5;241m.\u001b[39mnewaxis]], axis\u001b[38;5;241m=\u001b[39m\u001b[38;5;241m1\u001b[39m)\n\u001b[0;32m--> 392\u001b[0m     overlap_part \u001b[38;5;241m=\u001b[39m \u001b[43md3_box_overlap\u001b[49m\u001b[43m(\u001b[49m\u001b[43mgt_boxes\u001b[49m\u001b[43m,\u001b[49m\u001b[43m \u001b[49m\u001b[43mdt_boxes\u001b[49m\u001b[43m)\u001b[49m\u001b[38;5;241m.\u001b[39mastype(\n\u001b[1;32m    393\u001b[0m         np\u001b[38;5;241m.\u001b[39mfloat64)\n\u001b[1;32m    394\u001b[0m \u001b[38;5;28;01melse\u001b[39;00m:\n\u001b[1;32m    395\u001b[0m     \u001b[38;5;28;01mraise\u001b[39;00m \u001b[38;5;167;01mValueError\u001b[39;00m(\u001b[38;5;124m\"\u001b[39m\u001b[38;5;124munknown metric\u001b[39m\u001b[38;5;124m\"\u001b[39m)\n",
      "File \u001b[0;32m/mnt/workspace/sunqiao/OpenPCDet/pcdet/datasets/kitti/kitti_object_eval_python/eval.py:153\u001b[0m, in \u001b[0;36md3_box_overlap\u001b[0;34m(boxes, qboxes, criterion)\u001b[0m\n\u001b[1;32m    150\u001b[0m \u001b[38;5;28;01mdef\u001b[39;00m \u001b[38;5;21md3_box_overlap\u001b[39m(boxes, qboxes, criterion\u001b[38;5;241m=\u001b[39m\u001b[38;5;241m-\u001b[39m\u001b[38;5;241m1\u001b[39m):\n\u001b[1;32m    151\u001b[0m     rinc \u001b[38;5;241m=\u001b[39m rotate_iou_gpu_eval(boxes[:, [\u001b[38;5;241m0\u001b[39m, \u001b[38;5;241m2\u001b[39m, \u001b[38;5;241m3\u001b[39m, \u001b[38;5;241m5\u001b[39m, \u001b[38;5;241m6\u001b[39m]],\n\u001b[1;32m    152\u001b[0m                                qboxes[:, [\u001b[38;5;241m0\u001b[39m, \u001b[38;5;241m2\u001b[39m, \u001b[38;5;241m3\u001b[39m, \u001b[38;5;241m5\u001b[39m, \u001b[38;5;241m6\u001b[39m]], \u001b[38;5;241m2\u001b[39m)\n\u001b[0;32m--> 153\u001b[0m     \u001b[43md3_box_overlap_kernel\u001b[49m\u001b[43m(\u001b[49m\u001b[43mboxes\u001b[49m\u001b[43m,\u001b[49m\u001b[43m \u001b[49m\u001b[43mqboxes\u001b[49m\u001b[43m,\u001b[49m\u001b[43m \u001b[49m\u001b[43mrinc\u001b[49m\u001b[43m,\u001b[49m\u001b[43m \u001b[49m\u001b[43mcriterion\u001b[49m\u001b[43m)\u001b[49m\n\u001b[1;32m    154\u001b[0m     \u001b[38;5;28;01mreturn\u001b[39;00m rinc\n",
      "\u001b[0;31mZeroDivisionError\u001b[0m: division by zero"
     ]
    }
   ],
   "source": [
    "import tqdm\n",
    "from torch.nn.utils import clip_grad_norm_\n",
    "from pcdet.models.detectors.pointpillar import PointPillar\n",
    "\n",
    "import argparse\n",
    "import datetime\n",
    "import glob\n",
    "import os\n",
    "from pathlib import Path\n",
    "from test import repeat_eval_ckpt, eval_single_ckpt\n",
    "# from noise import add_noise_to_weights\n",
    "from hardware_noise.weight_mapping_finalv import weight_mapping as add_noise_to_weights\n",
    "\n",
    "import numba\n",
    "import logging\n",
    "import time\n",
    "\n",
    "from bayes_opt import BayesianOptimization\n",
    "from bayes_opt.logger import JSONLogger\n",
    "from bayes_opt.event import Events\n",
    "\n",
    "import torch\n",
    "import torch.distributed as dist\n",
    "import torch.nn as nn\n",
    "from tensorboardX import SummaryWriter\n",
    "\n",
    "from pcdet.config import cfg, cfg_from_list, cfg_from_yaml_file, log_config_to_file\n",
    "from pcdet.datasets import build_dataloader\n",
    "from pcdet.models_multinomial_half import build_network, model_fn_decorator\n",
    "from pcdet.utils import common_utils\n",
    "from train_utils.optimization import build_optimizer, build_scheduler\n",
    "# from train_utils.train_utils import train_model\n",
    "# from eval_utils import eval_utils_multinomial\n",
    "import numpy as np\n",
    "\n",
    "import matplotlib.pyplot as plt\n",
    "import matplotlib\n",
    "from eval_utils import eval_utils_multinomial_finalv_half as eval_utils\n",
    "\n",
    "import warnings\n",
    "warnings.filterwarnings(\"ignore\")\n",
    "\n",
    "\n",
    "def load_data_to_gpu(batch_dict):\n",
    "    for key, val in batch_dict.items():\n",
    "        if not isinstance(val, np.ndarray):\n",
    "            continue\n",
    "        elif key in ['frame_id', 'metadata', 'calib']:\n",
    "            continue\n",
    "        elif key in ['images']:\n",
    "            batch_dict[key] = image_to_tensor(val).float().cuda().contiguous()\n",
    "        elif key in ['image_shape']:\n",
    "            batch_dict[key] = torch.from_numpy(val).int().cuda()\n",
    "        else:\n",
    "            batch_dict[key] = torch.from_numpy(val).float().cuda()\n",
    "\n",
    "\n",
    "def parse_config():\n",
    "    parser = argparse.ArgumentParser(description='arg parser')\n",
    "    parser.add_argument('--cfg_file', type=str, default='./cfgs/kitti_models/pointpillar_bayes.yaml', help='specify the config for training')\n",
    "    parser.add_argument('--batch_size', type=int, default=4, required=False, help='batch size for training')\n",
    "    parser.add_argument('--workers', type=int, default=32, help='number of workers for dataloader')\n",
    "    parser.add_argument('--extra_tag', type=str, default='default', help='extra tag for this experiment')\n",
    "    parser.add_argument('--pretrained_model', type=str, default=True, help='pretrained_model')\n",
    "    parser.add_argument('--launcher', choices=['none', 'pytorch', 'slurm'], default='none')\n",
    "    parser.add_argument('--tcp_port', type=int, default=18888, help='tcp port for distrbuted training')\n",
    "    parser.add_argument('--sync_bn', action='store_true', default=False, help='whether to use sync bn')\n",
    "    parser.add_argument('--fix_random_seed', action='store_true', default=True, help='')\n",
    "    parser.add_argument('--ckpt_save_interval', type=int, default=80, help='number of training epochs')\n",
    "    parser.add_argument('--local_rank', type=int, default=0, help='local rank for distributed training')\n",
    "    parser.add_argument('--max_ckpt_save_num', type=int, default=81, help='max number of saved checkpoint')\n",
    "    parser.add_argument('--merge_all_iters_to_one_epoch', action='store_true', default=False, help='')\n",
    "    parser.add_argument('--set', dest='set_cfgs', default=None, nargs=argparse.REMAINDER, help='set extra config keys if needed')\n",
    "    parser.add_argument('--max_waiting_mins', type=int, default=0, help='max waiting minutes')\n",
    "    parser.add_argument('--start_epoch', type=int, default=0, help='')\n",
    "    parser.add_argument('--save_to_file', action='store_true', default=False, help='')\n",
    "\n",
    "    parser.add_argument('--epochs', type=int, default=800, required=False, help='number of epochs to train for')\n",
    "    parser.add_argument('--ckpt', type=str, default='./save_path/0722/ckpt_epoch160-54.599952-61.451671.pth', help='checkpoint to start from')\n",
    "    # sunqiao/OpenPCDet/tools/save_path/0722/ckpt_epoch84.pth\n",
    "    args = parser.parse_known_args()[0]\n",
    "\n",
    "    cfg_from_yaml_file(args.cfg_file, cfg)\n",
    "    cfg.TAG = Path(args.cfg_file).stem\n",
    "    cfg.EXP_GROUP_PATH = '/'.join(args.cfg_file.split('/')[1: -1])  # remove 'cfgs' and 'xxxx.yaml'\n",
    "\n",
    "    if args.set_cfgs is not None:\n",
    "        cfg_from_list(args.set_cfgs, cfg)\n",
    "\n",
    "    return args, cfg\n",
    "\n",
    "\n",
    "\n",
    "\n",
    "if __name__ == '__main__':\n",
    "    torch.cuda.set_device(0)\n",
    "\n",
    "    args, cfg = parse_config()\n",
    "    dist_train = False\n",
    "    total_gpus = 1\n",
    "    os.environ[\"CUDA_DEVICE_ORDER\"] = \"PCI_BUS_ID\"\n",
    "    os.system('nvidia-smi -q -d Memory |grep -A4 GPU|grep Free >tmp')\n",
    "    memory_gpu = [int(x.split()[2]) for x in open('tmp', 'r').readlines()]\n",
    "    print('Using GPU:' + str(np.argmax(memory_gpu)))\n",
    "    os.environ[\"CUDA_VISIBLE_DEVICES\"] = str(np.argmax(memory_gpu))\n",
    "    os.system('rm tmp')\n",
    "\n",
    "\n",
    "    if args.batch_size is None:\n",
    "        args.batch_size = cfg.OPTIMIZATION.BATCH_SIZE_PER_GPU\n",
    "    else:\n",
    "        assert args.batch_size % total_gpus == 0, 'Batch size should match the number of gpus'\n",
    "        args.batch_size = args.batch_size // total_gpus\n",
    "\n",
    "    args.epochs = cfg.OPTIMIZATION.NUM_EPOCHS if args.epochs is None else args.epochs\n",
    "    \n",
    "    common_utils.set_random_seed(666)\n",
    "    save_path = './save_path/logger/'#/bayes/pointpillar/'+time.strftime('%m%d-%H%M',time.localtime(time.time()))+'/'\n",
    "\n",
    "    logger = common_utils.create_logger(save_path+'log.txt', rank=cfg.LOCAL_RANK)\n",
    "    \n",
    "    # print(\"=============\")\n",
    "    # p1 = 0.5766\n",
    "    # p2 = 0.8603\n",
    "    # p3 = 0.5753\n",
    "    # print(p1, p2, p3)\n",
    "    # print(\"=============\")\n",
    "\n",
    "    # train_set, train_loader, train_sampler = build_dataloader(\n",
    "    #     dataset_cfg=cfg.DATA_CONFIG,\n",
    "    #     class_names=cfg.CLASS_NAMES,\n",
    "    #     batch_size=args.batch_size,\n",
    "    #     dist=dist_train, workers=args.workers,\n",
    "    #     logger=logger,\n",
    "    #     training=True,\n",
    "    #     merge_all_iters_to_one_epoch=args.merge_all_iters_to_one_epoch,\n",
    "    #     total_epochs=args.epochs\n",
    "    # )\n",
    "\n",
    "    test_set, test_loader, sampler = build_dataloader(\n",
    "                                    dataset_cfg=cfg.DATA_CONFIG,\n",
    "                                    class_names=cfg.CLASS_NAMES,\n",
    "                                    batch_size=args.batch_size,\n",
    "                                    dist=dist_train, workers=args.workers, logger=logger, training=False\n",
    "    )\n",
    "\n",
    "    model = PointPillar(\n",
    "        model_cfg=cfg.MODEL, num_class=len(cfg.CLASS_NAMES), dataset=test_set\n",
    "    )\n",
    "    \n",
    "    model.load_state_dict(torch.load(args.ckpt, map_location=torch.device('cuda:0')))\n",
    "    # torch.load('./checkpoint_epoch_33_multinomial.pth')['model_state']\n",
    "    \n",
    "    model.cuda()\n",
    "    \n",
    "\n",
    "    \n",
    "    # hw_data_files = sorted(os.listdir('./hardware_noise/hardware_data/'))\n",
    "    file2ap_dict = {}\n",
    "    N = 10\n",
    "    \n",
    "    f_dir = './hardware_noise/hardware_IV_and_condition_summary/hardware_data/'\n",
    "    file2usability = np.load('./hardware_noise/file2usability.npy', allow_pickle=True).item()\n",
    "    file2sigma = np.load('./hardware_noise/file2sigma.npy', allow_pickle=True).item()\n",
    "    \n",
    "    # for f_name in sorted(os.listdir(f_dir)):\n",
    "    for sigma, f_name in sorted(zip(file2sigma.values(), file2sigma.keys())):\n",
    "        if not f_name.endswith('.xlsx'):\n",
    "            continue\n",
    "        # print(f_name)\n",
    "        usability = file2usability[f_name]\n",
    "        # sigma = file2sigma[f_name]\n",
    "        file2ap_dict[f_name] = {}\n",
    "        for n in range(N):\n",
    "            print('file: {}, sigma: {}, usability: {}, evaluate-{}'.format(f_name, sigma, usability, n))\n",
    "            model.load_state_dict(torch.load(args.ckpt, map_location=torch.device('cuda:0')))\n",
    "            add_noise_to_weights(f_dir+f_name, model, noise_sigma=sigma, device='cuda')\n",
    "            \n",
    "            acc1, ret_dict = eval_utils.eval_simple(\n",
    "                None, None, None, f_name, usability, sigma, n, cfg, model, test_loader, logger, \n",
    "                save_path=None, dist_test=dist_train,\n",
    "                save_to_file=args.save_to_file, result_dir=None\n",
    "            )\n",
    "            print(ret_dict)\n",
    "            file2ap_dict[f_name][n] = ret_dict\n",
    "                \n",
    "\n",
    "    logger.info('**********************End evaluation**********************')    \n",
    "\n"
   ]
  },
  {
   "cell_type": "markdown",
   "id": "aae30f8f-0e68-4ed5-97ba-0eb9ea1ec62f",
   "metadata": {},
   "source": []
  },
  {
   "cell_type": "code",
   "execution_count": null,
   "id": "07ae68e7-2ff1-4fa0-b8a1-93bdff02af3b",
   "metadata": {},
   "outputs": [],
   "source": []
  },
  {
   "cell_type": "code",
   "execution_count": null,
   "id": "9e42e839-f29d-4bcc-86ce-cd82e03277b9",
   "metadata": {
    "ExecutionIndicator": {
     "show": true
    },
    "execution": {
     "iopub.status.busy": "2023-07-28T17:56:05.224845Z",
     "iopub.status.idle": "2023-07-28T17:56:05.225058Z",
     "shell.execute_reply": "2023-07-28T17:56:05.224960Z",
     "shell.execute_reply.started": "2023-07-28T17:56:05.224950Z"
    },
    "tags": []
   },
   "outputs": [],
   "source": [
    "for f_name in sorted(os.listdir('./hardware_noise/hardware_IV_and_condition_summary/hardware_data/')):\n",
    "    print(f_name)"
   ]
  }
 ],
 "metadata": {
  "kernelspec": {
   "display_name": "Python 3 (ipykernel)",
   "language": "python",
   "name": "python3"
  },
  "language_info": {
   "codemirror_mode": {
    "name": "ipython",
    "version": 3
   },
   "file_extension": ".py",
   "mimetype": "text/x-python",
   "name": "python",
   "nbconvert_exporter": "python",
   "pygments_lexer": "ipython3",
   "version": "3.9.15"
  }
 },
 "nbformat": 4,
 "nbformat_minor": 5
}
