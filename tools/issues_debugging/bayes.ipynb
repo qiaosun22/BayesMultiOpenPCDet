{
 "cells": [
  {
   "cell_type": "code",
   "execution_count": 1,
   "id": "d0604538-50d2-4525-aac5-554f2b3d7cac",
   "metadata": {
    "execution": {
     "iopub.execute_input": "2023-07-18T14:32:37.604559Z",
     "iopub.status.busy": "2023-07-18T14:32:37.604206Z",
     "iopub.status.idle": "2023-07-18T14:32:37.609791Z",
     "shell.execute_reply": "2023-07-18T14:32:37.609422Z",
     "shell.execute_reply.started": "2023-07-18T14:32:37.604541Z"
    },
    "tags": []
   },
   "outputs": [],
   "source": []
  },
  {
   "cell_type": "code",
   "execution_count": 4,
   "id": "28daf73f-b464-481a-a157-20deda888a13",
   "metadata": {
    "ExecutionIndicator": {
     "show": true
    },
    "execution": {
     "iopub.execute_input": "2023-07-20T03:15:48.150061Z",
     "iopub.status.busy": "2023-07-20T03:15:48.149666Z",
     "iopub.status.idle": "2023-07-20T03:15:50.025143Z",
     "shell.execute_reply": "2023-07-20T03:15:50.024645Z",
     "shell.execute_reply.started": "2023-07-20T03:15:48.150039Z"
    },
    "tags": []
   },
   "outputs": [
    {
     "name": "stdout",
     "output_type": "stream",
     "text": [
      "|   iter    |  target   |     x     |\n",
      "-------------------------------------\n",
      "| \u001b[95m7        \u001b[0m | \u001b[95m-24.64   \u001b[0m | \u001b[95m-3.964   \u001b[0m |\n",
      "| \u001b[95m8        \u001b[0m | \u001b[95m-0.7211  \u001b[0m | \u001b[95m1.849    \u001b[0m |\n",
      "| \u001b[95m9        \u001b[0m | \u001b[95m-0.6283  \u001b[0m | \u001b[95m0.2074   \u001b[0m |\n",
      "| \u001b[95m11       \u001b[0m | \u001b[95m-0.4376  \u001b[0m | \u001b[95m0.3385   \u001b[0m |\n",
      "| \u001b[95m12       \u001b[0m | \u001b[95m-0.1756  \u001b[0m | \u001b[95m0.581    \u001b[0m |\n",
      "| \u001b[95m13       \u001b[0m | \u001b[95m-4.187e-0\u001b[0m | \u001b[95m1.001    \u001b[0m |\n",
      "=====================================\n"
     ]
    }
   ],
   "source": [
    "def opt_function(x):\n",
    "    y = - x ** 2 + 2 * x - 1\n",
    "    return y\n",
    "\n",
    "from bayes_opt import BayesianOptimization\n",
    "\n",
    "pbounds = {'x': (-90.0, 90.0)}\n",
    "\n",
    "optimizer = BayesianOptimization(\n",
    "    f=opt_function,\n",
    "    pbounds=pbounds,\n",
    "    verbose=1,  # verbose = 1 prints only when a maximum is observed, verbose = 0 is silent\n",
    "    random_state=1,\n",
    ")\n",
    "optimizer.probe(\n",
    "    params={'x': 10.0},\n",
    "    lazy=True,\n",
    ")\n",
    "\n",
    "\n",
    "n = 0\n",
    "optimizer.maximize(\n",
    "    init_points=3,\n",
    "    n_iter=10,\n",
    ")"
   ]
  },
  {
   "cell_type": "code",
   "execution_count": 3,
   "id": "8b828570-4103-400b-930c-57aa4ab03783",
   "metadata": {
    "execution": {
     "iopub.execute_input": "2023-07-20T03:14:27.757786Z",
     "iopub.status.busy": "2023-07-20T03:14:27.757418Z",
     "iopub.status.idle": "2023-07-20T03:14:27.764070Z",
     "shell.execute_reply": "2023-07-20T03:14:27.763527Z",
     "shell.execute_reply.started": "2023-07-20T03:14:27.757765Z"
    },
    "tags": []
   },
   "outputs": [
    {
     "data": {
      "text/plain": [
       "{'target': -4.186667643679698e-07, 'params': {'x': 1.0006470446385833}}"
      ]
     },
     "execution_count": 3,
     "metadata": {},
     "output_type": "execute_result"
    }
   ],
   "source": [
    "optimizer.max"
   ]
  }
 ],
 "metadata": {
  "kernelspec": {
   "display_name": "Python 3 (ipykernel)",
   "language": "python",
   "name": "python3"
  },
  "language_info": {
   "codemirror_mode": {
    "name": "ipython",
    "version": 3
   },
   "file_extension": ".py",
   "mimetype": "text/x-python",
   "name": "python",
   "nbconvert_exporter": "python",
   "pygments_lexer": "ipython3",
   "version": "3.9.15"
  }
 },
 "nbformat": 4,
 "nbformat_minor": 5
}
