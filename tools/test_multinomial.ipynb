{
 "cells": [
  {
   "cell_type": "markdown",
   "id": "262d683d-4c38-4ecc-92b0-e8fbaa386662",
   "metadata": {},
   "source": [
    "加噪声测试\n",
    "\n",
    "已完成：调整学习率，降低代码复杂度"
   ]
  },
  {
   "cell_type": "code",
   "execution_count": null,
   "id": "87f7a3b7-423e-48d0-aef4-3d6f53af4196",
   "metadata": {
    "ExecutionIndicator": {
     "show": true
    },
    "execution": {
     "iopub.execute_input": "2023-07-27T04:29:57.556395Z",
     "iopub.status.busy": "2023-07-27T04:29:57.556254Z"
    },
    "tags": []
   },
   "outputs": [
    {
     "name": "stderr",
     "output_type": "stream",
     "text": [
      "2023-07-27 12:30:04,034   INFO  Loading KITTI dataset\n",
      "2023-07-27 12:30:04,131   INFO  Total samples for KITTI dataset: 3769\n"
     ]
    },
    {
     "name": "stdout",
     "output_type": "stream",
     "text": [
      "Using GPU:0\n",
      "=============\n",
      "0.5766 0.8603 0.5753\n",
      "=============\n",
      "file: I-V_data_1.5um_length_200nm_diameter_BT_4V_NA_third_etch_10min_Pb_ED_1h_180C_MAI_no_100nm_Ag_memory_8V_carbon_paste_no_wait_2.xlsx, sigma: 0.06283342003106338, usability: 0.25709728349414823, evaluate-0\n"
     ]
    },
    {
     "name": "stderr",
     "output_type": "stream",
     "text": [
      "eval: 100%|█████████▉| 471/472 [03:21<00:00, 12.74it/s]2023-07-27 12:33:28,247   INFO  Average predicted number of objects(3769 samples): 23.235\n",
      "eval: 100%|██████████| 472/472 [03:45<00:00,  2.09it/s]\n"
     ]
    },
    {
     "name": "stdout",
     "output_type": "stream",
     "text": [
      "{'recall/roi_0.3': 0.0, 'recall/rcnn_0.3': 0.0, 'recall/roi_0.5': 0.0, 'recall/rcnn_0.5': 0.0, 'recall/roi_0.7': 0.0, 'recall/rcnn_0.7': 0.0, 'Car_aos/easy_R40': 96.69680077023854, 'Car_aos/moderate_R40': 88.86978426421355, 'Car_aos/hard_R40': 87.49752080655506, 'Car_3d/easy_R40': 87.40340980750744, 'Car_3d/moderate_R40': 73.76802461364063, 'Car_3d/hard_R40': 70.71028418357668, 'Car_bev/easy_R40': 93.06047840168968, 'Car_bev/moderate_R40': 85.28847284325215, 'Car_bev/hard_R40': 84.01162622979841, 'Car_image/easy_R40': 96.72892903340596, 'Car_image/moderate_R40': 89.10679229279482, 'Car_image/hard_R40': 87.90448855486073, 'Pedestrian_aos/easy_R40': 33.327541164851475, 'Pedestrian_aos/moderate_R40': 29.14851168944598, 'Pedestrian_aos/hard_R40': 26.594238951108697, 'Pedestrian_3d/easy_R40': 36.279385294841966, 'Pedestrian_3d/moderate_R40': 30.225204028893664, 'Pedestrian_3d/hard_R40': 26.20910470099222, 'Pedestrian_bev/easy_R40': 54.005140721938226, 'Pedestrian_bev/moderate_R40': 46.38458973643355, 'Pedestrian_bev/hard_R40': 41.42654544236165, 'Pedestrian_image/easy_R40': 47.04414446211022, 'Pedestrian_image/moderate_R40': 41.30089225464649, 'Pedestrian_image/hard_R40': 38.3397528151197, 'Cyclist_aos/easy_R40': 71.68532451216123, 'Cyclist_aos/moderate_R40': 57.31996245206994, 'Cyclist_aos/hard_R40': 54.61571453700713, 'Cyclist_3d/easy_R40': 46.64988455208423, 'Cyclist_3d/moderate_R40': 32.63445092398537, 'Cyclist_3d/hard_R40': 30.363697642849502, 'Cyclist_bev/easy_R40': 76.21496455726235, 'Cyclist_bev/moderate_R40': 56.03582749411078, 'Cyclist_bev/hard_R40': 52.92278728153638, 'Cyclist_image/easy_R40': 72.77349162582848, 'Cyclist_image/moderate_R40': 58.73414133305833, 'Cyclist_image/hard_R40': 56.056858524240994}\n",
      "file: I-V_data_1.5um_length_200nm_diameter_BT_4V_NA_third_etch_10min_Pb_ED_1h_180C_MAI_no_100nm_Ag_memory_8V_carbon_paste_no_wait_2.xlsx, sigma: 0.06283342003106338, usability: 0.25709728349414823, evaluate-1\n"
     ]
    },
    {
     "name": "stderr",
     "output_type": "stream",
     "text": [
      "eval: 100%|█████████▉| 471/472 [03:24<00:00, 10.33it/s]2023-07-27 12:37:19,341   INFO  Average predicted number of objects(3769 samples): 21.881\n",
      "eval: 100%|██████████| 472/472 [03:40<00:00,  2.14it/s]\n"
     ]
    },
    {
     "name": "stdout",
     "output_type": "stream",
     "text": [
      "{'recall/roi_0.3': 0.0, 'recall/rcnn_0.3': 0.0, 'recall/roi_0.5': 0.0, 'recall/rcnn_0.5': 0.0, 'recall/roi_0.7': 0.0, 'recall/rcnn_0.7': 0.0, 'Car_aos/easy_R40': 97.4002364754333, 'Car_aos/moderate_R40': 90.11979806657632, 'Car_aos/hard_R40': 87.75280493572645, 'Car_3d/easy_R40': 87.59654347635326, 'Car_3d/moderate_R40': 74.43248429951375, 'Car_3d/hard_R40': 70.67487441771293, 'Car_bev/easy_R40': 94.15407097550373, 'Car_bev/moderate_R40': 86.61051188527222, 'Car_bev/hard_R40': 84.25000251461249, 'Car_image/easy_R40': 97.43877492575051, 'Car_image/moderate_R40': 90.40944238959057, 'Car_image/hard_R40': 88.20848367228797, 'Pedestrian_aos/easy_R40': 24.381833570492194, 'Pedestrian_aos/moderate_R40': 20.751671258235287, 'Pedestrian_aos/hard_R40': 18.84164920424479, 'Pedestrian_3d/easy_R40': 25.228516409081887, 'Pedestrian_3d/moderate_R40': 20.596751707271917, 'Pedestrian_3d/hard_R40': 17.638066393219383, 'Pedestrian_bev/easy_R40': 49.99935713160316, 'Pedestrian_bev/moderate_R40': 42.73133961495869, 'Pedestrian_bev/hard_R40': 38.31897832165067, 'Pedestrian_image/easy_R40': 34.429710172378925, 'Pedestrian_image/moderate_R40': 29.45507803087709, 'Pedestrian_image/hard_R40': 27.14900110850286, 'Cyclist_aos/easy_R40': 73.35493136680485, 'Cyclist_aos/moderate_R40': 58.611005258991625, 'Cyclist_aos/hard_R40': 55.40196223288639, 'Cyclist_3d/easy_R40': 57.570881001811316, 'Cyclist_3d/moderate_R40': 41.10521920434841, 'Cyclist_3d/hard_R40': 37.98430409197678, 'Cyclist_bev/easy_R40': 75.20702308569844, 'Cyclist_bev/moderate_R40': 57.76939395459727, 'Cyclist_bev/hard_R40': 54.0919343229753, 'Cyclist_image/easy_R40': 75.09777548508242, 'Cyclist_image/moderate_R40': 60.890860041202934, 'Cyclist_image/hard_R40': 57.688341952598755}\n",
      "file: I-V_data_1.5um_length_200nm_diameter_BT_4V_NA_third_etch_10min_Pb_ED_1h_180C_MAI_no_100nm_Ag_memory_8V_carbon_paste_no_wait_2.xlsx, sigma: 0.06283342003106338, usability: 0.25709728349414823, evaluate-2\n"
     ]
    },
    {
     "name": "stderr",
     "output_type": "stream",
     "text": [
      "eval: 100%|█████████▉| 471/472 [03:18<00:00, 12.11it/s]2023-07-27 12:40:54,912   INFO  Average predicted number of objects(3769 samples): 20.312\n",
      "eval: 100%|██████████| 472/472 [03:34<00:00,  2.20it/s]\n"
     ]
    },
    {
     "name": "stdout",
     "output_type": "stream",
     "text": [
      "{'recall/roi_0.3': 0.0, 'recall/rcnn_0.3': 0.0, 'recall/roi_0.5': 0.0, 'recall/rcnn_0.5': 0.0, 'recall/roi_0.7': 0.0, 'recall/rcnn_0.7': 0.0, 'Car_aos/easy_R40': 97.2608384471361, 'Car_aos/moderate_R40': 90.21052519290926, 'Car_aos/hard_R40': 87.69396812960692, 'Car_3d/easy_R40': 87.32926901647605, 'Car_3d/moderate_R40': 75.08204719772453, 'Car_3d/hard_R40': 70.58923466503953, 'Car_bev/easy_R40': 93.72194775377561, 'Car_bev/moderate_R40': 86.65733028914673, 'Car_bev/hard_R40': 84.2494469160601, 'Car_image/easy_R40': 97.30665538393617, 'Car_image/moderate_R40': 90.49726975223373, 'Car_image/hard_R40': 88.15123330233158, 'Pedestrian_aos/easy_R40': 27.51507875131583, 'Pedestrian_aos/moderate_R40': 24.32033170646164, 'Pedestrian_aos/hard_R40': 22.52644645820246, 'Pedestrian_3d/easy_R40': 33.496701738923775, 'Pedestrian_3d/moderate_R40': 27.91109520095364, 'Pedestrian_3d/hard_R40': 23.77532184773015, 'Pedestrian_bev/easy_R40': 56.96126891830961, 'Pedestrian_bev/moderate_R40': 49.82301084703739, 'Pedestrian_bev/hard_R40': 44.35202917177527, 'Pedestrian_image/easy_R40': 38.624267773818055, 'Pedestrian_image/moderate_R40': 34.654453931640894, 'Pedestrian_image/hard_R40': 32.486670753203114, 'Cyclist_aos/easy_R40': 76.97691334508747, 'Cyclist_aos/moderate_R40': 60.78476327692335, 'Cyclist_aos/hard_R40': 57.57837130023836, 'Cyclist_3d/easy_R40': 56.85060599620312, 'Cyclist_3d/moderate_R40': 39.28844608518899, 'Cyclist_3d/hard_R40': 36.51521651035485, 'Cyclist_bev/easy_R40': 77.03632593324224, 'Cyclist_bev/moderate_R40': 56.93333729150678, 'Cyclist_bev/hard_R40': 53.775497041556406, 'Cyclist_image/easy_R40': 77.62786488501028, 'Cyclist_image/moderate_R40': 62.232730143724325, 'Cyclist_image/hard_R40': 59.18727483912855}\n",
      "file: I-V_data_1.5um_length_200nm_diameter_BT_4V_NA_third_etch_10min_Pb_ED_1h_180C_MAI_no_100nm_Ag_memory_8V_carbon_paste_no_wait_2.xlsx, sigma: 0.06283342003106338, usability: 0.25709728349414823, evaluate-3\n"
     ]
    },
    {
     "name": "stderr",
     "output_type": "stream",
     "text": [
      "eval: 100%|█████████▉| 471/472 [03:22<00:00, 12.01it/s]2023-07-27 12:44:33,975   INFO  Average predicted number of objects(3769 samples): 22.032\n",
      "eval: 100%|██████████| 472/472 [03:38<00:00,  2.16it/s]\n"
     ]
    },
    {
     "name": "stdout",
     "output_type": "stream",
     "text": [
      "{'recall/roi_0.3': 0.0, 'recall/rcnn_0.3': 0.0, 'recall/roi_0.5': 0.0, 'recall/rcnn_0.5': 0.0, 'recall/roi_0.7': 0.0, 'recall/rcnn_0.7': 0.0, 'Car_aos/easy_R40': 97.14785471445444, 'Car_aos/moderate_R40': 90.05322294694355, 'Car_aos/hard_R40': 87.9821474125649, 'Car_3d/easy_R40': 86.66942215612869, 'Car_3d/moderate_R40': 73.42071533920495, 'Car_3d/hard_R40': 70.37814124667048, 'Car_bev/easy_R40': 93.9380617930299, 'Car_bev/moderate_R40': 85.45788973206413, 'Car_bev/hard_R40': 84.20391786463313, 'Car_image/easy_R40': 97.18884037102204, 'Car_image/moderate_R40': 90.2620368958926, 'Car_image/hard_R40': 88.35088827439806, 'Pedestrian_aos/easy_R40': 27.768072034184193, 'Pedestrian_aos/moderate_R40': 25.21897036665476, 'Pedestrian_aos/hard_R40': 23.912582032741167, 'Pedestrian_3d/easy_R40': 36.69946178029599, 'Pedestrian_3d/moderate_R40': 31.601420051784178, 'Pedestrian_3d/hard_R40': 27.47511328640323, 'Pedestrian_bev/easy_R40': 58.43293875293135, 'Pedestrian_bev/moderate_R40': 50.79631800173159, 'Pedestrian_bev/hard_R40': 45.997108454397036, 'Pedestrian_image/easy_R40': 40.387867181171785, 'Pedestrian_image/moderate_R40': 36.596484055864416, 'Pedestrian_image/hard_R40': 34.93871836477599, 'Cyclist_aos/easy_R40': 76.38496427668767, 'Cyclist_aos/moderate_R40': 60.89781397847195, 'Cyclist_aos/hard_R40': 57.85617982292624, 'Cyclist_3d/easy_R40': 56.894474666584216, 'Cyclist_3d/moderate_R40': 39.871526469864435, 'Cyclist_3d/hard_R40': 37.12475248054997, 'Cyclist_bev/easy_R40': 80.94371540279998, 'Cyclist_bev/moderate_R40': 61.17441840361181, 'Cyclist_bev/hard_R40': 57.860222956789045, 'Cyclist_image/easy_R40': 77.74054620307204, 'Cyclist_image/moderate_R40': 62.9974103033642, 'Cyclist_image/hard_R40': 60.100125330576674}\n",
      "file: I-V_data_1.5um_length_200nm_diameter_BT_4V_NA_third_etch_10min_Pb_ED_1h_180C_MAI_no_100nm_Ag_memory_8V_carbon_paste_no_wait_2.xlsx, sigma: 0.06283342003106338, usability: 0.25709728349414823, evaluate-4\n"
     ]
    },
    {
     "name": "stderr",
     "output_type": "stream",
     "text": [
      "eval: 100%|█████████▉| 471/472 [03:15<00:00, 11.73it/s]2023-07-27 12:48:06,860   INFO  Average predicted number of objects(3769 samples): 22.846\n",
      "eval: 100%|██████████| 472/472 [03:32<00:00,  2.22it/s]\n"
     ]
    },
    {
     "name": "stdout",
     "output_type": "stream",
     "text": [
      "{'recall/roi_0.3': 0.0, 'recall/rcnn_0.3': 0.0, 'recall/roi_0.5': 0.0, 'recall/rcnn_0.5': 0.0, 'recall/roi_0.7': 0.0, 'recall/rcnn_0.7': 0.0, 'Car_aos/easy_R40': 93.71486821806405, 'Car_aos/moderate_R40': 86.70610676902488, 'Car_aos/hard_R40': 83.48260575906922, 'Car_3d/easy_R40': 71.69593546060594, 'Car_3d/moderate_R40': 61.51668125568386, 'Car_3d/hard_R40': 58.59447274913832, 'Car_bev/easy_R40': 93.40056786943981, 'Car_bev/moderate_R40': 85.93682587794828, 'Car_bev/hard_R40': 83.3753585229102, 'Car_image/easy_R40': 93.77925434902113, 'Car_image/moderate_R40': 86.9785655246375, 'Car_image/hard_R40': 83.90497255343374, 'Pedestrian_aos/easy_R40': 28.90122801192031, 'Pedestrian_aos/moderate_R40': 25.288782425624916, 'Pedestrian_aos/hard_R40': 22.98970089965945, 'Pedestrian_3d/easy_R40': 36.805635658137916, 'Pedestrian_3d/moderate_R40': 30.288873769030744, 'Pedestrian_3d/hard_R40': 26.142681705742415, 'Pedestrian_bev/easy_R40': 44.67214552014455, 'Pedestrian_bev/moderate_R40': 37.96057464652353, 'Pedestrian_bev/hard_R40': 33.21681264662902, 'Pedestrian_image/easy_R40': 42.55777932818175, 'Pedestrian_image/moderate_R40': 37.24669058197805, 'Pedestrian_image/hard_R40': 34.14441793740849, 'Cyclist_aos/easy_R40': 73.93614968941134, 'Cyclist_aos/moderate_R40': 58.94031066847555, 'Cyclist_aos/hard_R40': 55.55539506681168, 'Cyclist_3d/easy_R40': 63.26696838634296, 'Cyclist_3d/moderate_R40': 46.70459903956392, 'Cyclist_3d/hard_R40': 43.95232622574577, 'Cyclist_bev/easy_R40': 70.48518159004202, 'Cyclist_bev/moderate_R40': 53.41398114194931, 'Cyclist_bev/hard_R40': 50.048871978109965, 'Cyclist_image/easy_R40': 74.69178373243193, 'Cyclist_image/moderate_R40': 60.89480823887325, 'Cyclist_image/hard_R40': 57.51611441853204}\n",
      "file: I-V_data_1.5um_length_200nm_diameter_BT_4V_NA_third_etch_10min_Pb_ED_1h_180C_MAI_no_100nm_Ag_memory_8V_carbon_paste_no_wait_2.xlsx, sigma: 0.06283342003106338, usability: 0.25709728349414823, evaluate-5\n"
     ]
    },
    {
     "name": "stderr",
     "output_type": "stream",
     "text": [
      "eval: 100%|█████████▉| 471/472 [03:23<00:00, 11.03it/s]2023-07-27 12:51:47,999   INFO  Average predicted number of objects(3769 samples): 26.834\n",
      "eval: 100%|██████████| 472/472 [03:41<00:00,  2.13it/s]\n"
     ]
    },
    {
     "name": "stdout",
     "output_type": "stream",
     "text": [
      "{'recall/roi_0.3': 0.0, 'recall/rcnn_0.3': 0.0, 'recall/roi_0.5': 0.0, 'recall/rcnn_0.5': 0.0, 'recall/roi_0.7': 0.0, 'recall/rcnn_0.7': 0.0, 'Car_aos/easy_R40': 96.45041693731, 'Car_aos/moderate_R40': 88.77534393344723, 'Car_aos/hard_R40': 87.29390821377676, 'Car_3d/easy_R40': 86.01527863508016, 'Car_3d/moderate_R40': 72.94611294377165, 'Car_3d/hard_R40': 69.80585086189795, 'Car_bev/easy_R40': 91.69646710645901, 'Car_bev/moderate_R40': 85.08642139584225, 'Car_bev/hard_R40': 83.56011306521387, 'Car_image/easy_R40': 96.48338925212869, 'Car_image/moderate_R40': 89.00378953364634, 'Car_image/hard_R40': 87.69523781409276, 'Pedestrian_aos/easy_R40': 25.384946894980825, 'Pedestrian_aos/moderate_R40': 22.279071820454025, 'Pedestrian_aos/hard_R40': 20.380908444118084, 'Pedestrian_3d/easy_R40': 25.360911792289848, 'Pedestrian_3d/moderate_R40': 21.239706693035064, 'Pedestrian_3d/hard_R40': 17.986192872652676, 'Pedestrian_bev/easy_R40': 57.09757062425689, 'Pedestrian_bev/moderate_R40': 49.24847714141389, 'Pedestrian_bev/hard_R40': 44.04982048560943, 'Pedestrian_image/easy_R40': 36.84210818183379, 'Pedestrian_image/moderate_R40': 31.929738986692357, 'Pedestrian_image/hard_R40': 29.54000827160957, 'Cyclist_aos/easy_R40': 78.84721523067, 'Cyclist_aos/moderate_R40': 63.83568947201099, 'Cyclist_aos/hard_R40': 60.69073549084754, 'Cyclist_3d/easy_R40': 57.789176491120166, 'Cyclist_3d/moderate_R40': 42.179223156189494, 'Cyclist_3d/hard_R40': 39.24524201843024, 'Cyclist_bev/easy_R40': 77.89858785660039, 'Cyclist_bev/moderate_R40': 59.64574645286537, 'Cyclist_bev/hard_R40': 55.94591134976873, 'Cyclist_image/easy_R40': 80.11113719256586, 'Cyclist_image/moderate_R40': 65.58156046349644, 'Cyclist_image/hard_R40': 62.536402298815204}\n",
      "file: I-V_data_1.5um_length_200nm_diameter_BT_4V_NA_third_etch_10min_Pb_ED_1h_180C_MAI_no_100nm_Ag_memory_8V_carbon_paste_no_wait_2.xlsx, sigma: 0.06283342003106338, usability: 0.25709728349414823, evaluate-6\n"
     ]
    },
    {
     "name": "stderr",
     "output_type": "stream",
     "text": [
      "eval: 100%|█████████▉| 471/472 [03:22<00:00, 10.92it/s]2023-07-27 12:55:29,173   INFO  Average predicted number of objects(3769 samples): 23.963\n",
      "eval: 100%|██████████| 472/472 [03:39<00:00,  2.15it/s]\n"
     ]
    },
    {
     "name": "stdout",
     "output_type": "stream",
     "text": [
      "{'recall/roi_0.3': 0.0, 'recall/rcnn_0.3': 0.0, 'recall/roi_0.5': 0.0, 'recall/rcnn_0.5': 0.0, 'recall/roi_0.7': 0.0, 'recall/rcnn_0.7': 0.0, 'Car_aos/easy_R40': 96.06537918943945, 'Car_aos/moderate_R40': 88.57903656483013, 'Car_aos/hard_R40': 86.55027456177697, 'Car_3d/easy_R40': 86.47955899507981, 'Car_3d/moderate_R40': 72.82374870052791, 'Car_3d/hard_R40': 69.29460377659841, 'Car_bev/easy_R40': 91.9620215072395, 'Car_bev/moderate_R40': 85.39720499549993, 'Car_bev/hard_R40': 83.55212339070455, 'Car_image/easy_R40': 96.09837836671143, 'Car_image/moderate_R40': 88.8154547942001, 'Car_image/hard_R40': 86.94597758391502, 'Pedestrian_aos/easy_R40': 29.605157444146236, 'Pedestrian_aos/moderate_R40': 26.18058561564711, 'Pedestrian_aos/hard_R40': 23.89200145485124, 'Pedestrian_3d/easy_R40': 30.604695358610083, 'Pedestrian_3d/moderate_R40': 25.08516821942018, 'Pedestrian_3d/hard_R40': 21.459105160928498, 'Pedestrian_bev/easy_R40': 56.43314381164861, 'Pedestrian_bev/moderate_R40': 48.90225522044845, 'Pedestrian_bev/hard_R40': 43.66856154949399, 'Pedestrian_image/easy_R40': 40.5461470208955, 'Pedestrian_image/moderate_R40': 35.940280948747294, 'Pedestrian_image/hard_R40': 33.45323675666899, 'Cyclist_aos/easy_R40': 73.8527704380331, 'Cyclist_aos/moderate_R40': 58.089101639042376, 'Cyclist_aos/hard_R40': 55.19373078394623, 'Cyclist_3d/easy_R40': 58.75035581258621, 'Cyclist_3d/moderate_R40': 41.78228015562298, 'Cyclist_3d/hard_R40': 38.62847544447617, 'Cyclist_bev/easy_R40': 74.66278519679628, 'Cyclist_bev/moderate_R40': 55.63193542984, 'Cyclist_bev/hard_R40': 52.370740563764784, 'Cyclist_image/easy_R40': 74.53918290519181, 'Cyclist_image/moderate_R40': 59.35749140158715, 'Cyclist_image/hard_R40': 56.45463142755809}\n",
      "file: I-V_data_1.5um_length_200nm_diameter_BT_4V_NA_third_etch_10min_Pb_ED_1h_180C_MAI_no_100nm_Ag_memory_8V_carbon_paste_no_wait_2.xlsx, sigma: 0.06283342003106338, usability: 0.25709728349414823, evaluate-7\n"
     ]
    },
    {
     "name": "stderr",
     "output_type": "stream",
     "text": [
      "eval: 100%|█████████▉| 471/472 [03:27<00:00, 11.78it/s]2023-07-27 12:59:13,752   INFO  Average predicted number of objects(3769 samples): 20.940\n",
      "eval: 100%|██████████| 472/472 [03:43<00:00,  2.12it/s]\n"
     ]
    },
    {
     "name": "stdout",
     "output_type": "stream",
     "text": [
      "{'recall/roi_0.3': 0.0, 'recall/rcnn_0.3': 0.0, 'recall/roi_0.5': 0.0, 'recall/rcnn_0.5': 0.0, 'recall/roi_0.7': 0.0, 'recall/rcnn_0.7': 0.0, 'Car_aos/easy_R40': 95.3474673720135, 'Car_aos/moderate_R40': 89.02311578692677, 'Car_aos/hard_R40': 87.89347264429972, 'Car_3d/easy_R40': 87.36870479443778, 'Car_3d/moderate_R40': 73.59420248804594, 'Car_3d/hard_R40': 70.5885331609452, 'Car_bev/easy_R40': 93.41899725830922, 'Car_bev/moderate_R40': 86.55863724248464, 'Car_bev/hard_R40': 84.57194661826739, 'Car_image/easy_R40': 95.40011536630807, 'Car_image/moderate_R40': 89.24688351245727, 'Car_image/hard_R40': 88.30643491271681, 'Pedestrian_aos/easy_R40': 30.62794511283663, 'Pedestrian_aos/moderate_R40': 26.82332364699176, 'Pedestrian_aos/hard_R40': 24.88287946104811, 'Pedestrian_3d/easy_R40': 37.10144576300905, 'Pedestrian_3d/moderate_R40': 31.106685718233706, 'Pedestrian_3d/hard_R40': 27.046416640664866, 'Pedestrian_bev/easy_R40': 58.768491126021004, 'Pedestrian_bev/moderate_R40': 51.216683991199915, 'Pedestrian_bev/hard_R40': 46.252936140852235, 'Pedestrian_image/easy_R40': 43.62716980006972, 'Pedestrian_image/moderate_R40': 38.393072542527186, 'Pedestrian_image/hard_R40': 35.84040647560837, 'Cyclist_aos/easy_R40': 81.81770574540236, 'Cyclist_aos/moderate_R40': 66.12220066002817, 'Cyclist_aos/hard_R40': 63.035889075561904, 'Cyclist_3d/easy_R40': 68.6187170855503, 'Cyclist_3d/moderate_R40': 49.20260392103419, 'Cyclist_3d/hard_R40': 46.25207283303517, 'Cyclist_bev/easy_R40': 78.83127599340577, 'Cyclist_bev/moderate_R40': 60.10194369731525, 'Cyclist_bev/hard_R40': 56.705973463939394, 'Cyclist_image/easy_R40': 83.3541029310631, 'Cyclist_image/moderate_R40': 68.89204859118594, 'Cyclist_image/hard_R40': 65.91668300017058}\n",
      "file: I-V_data_1.5um_length_200nm_diameter_BT_4V_NA_third_etch_10min_Pb_ED_1h_180C_MAI_no_100nm_Ag_memory_8V_carbon_paste_no_wait_2.xlsx, sigma: 0.06283342003106338, usability: 0.25709728349414823, evaluate-8\n"
     ]
    },
    {
     "name": "stderr",
     "output_type": "stream",
     "text": [
      "eval: 100%|█████████▉| 471/472 [03:28<00:00, 12.08it/s]2023-07-27 13:02:59,709   INFO  Average predicted number of objects(3769 samples): 21.311\n",
      "eval: 100%|██████████| 472/472 [03:45<00:00,  2.10it/s]\n"
     ]
    },
    {
     "name": "stdout",
     "output_type": "stream",
     "text": [
      "{'recall/roi_0.3': 0.0, 'recall/rcnn_0.3': 0.0, 'recall/roi_0.5': 0.0, 'recall/rcnn_0.5': 0.0, 'recall/roi_0.7': 0.0, 'recall/rcnn_0.7': 0.0, 'Car_aos/easy_R40': 97.69948581846393, 'Car_aos/moderate_R40': 90.36358868007687, 'Car_aos/hard_R40': 87.75939917315347, 'Car_3d/easy_R40': 85.40147043263147, 'Car_3d/moderate_R40': 72.87180024217272, 'Car_3d/hard_R40': 69.59121055547281, 'Car_bev/easy_R40': 94.52071672713652, 'Car_bev/moderate_R40': 85.67076855785236, 'Car_bev/hard_R40': 84.05241444982657, 'Car_image/easy_R40': 97.74355567045383, 'Car_image/moderate_R40': 90.56863943360328, 'Car_image/hard_R40': 88.10909691303588, 'Pedestrian_aos/easy_R40': 27.145738716001492, 'Pedestrian_aos/moderate_R40': 24.63809941522162, 'Pedestrian_aos/hard_R40': 23.046939228495606, 'Pedestrian_3d/easy_R40': 34.556067681657254, 'Pedestrian_3d/moderate_R40': 29.37444332152791, 'Pedestrian_3d/hard_R40': 25.523186965222557, 'Pedestrian_bev/easy_R40': 59.02184348290484, 'Pedestrian_bev/moderate_R40': 51.543133568133, 'Pedestrian_bev/hard_R40': 46.30231461940354, 'Pedestrian_image/easy_R40': 39.83033355751696, 'Pedestrian_image/moderate_R40': 36.35901602532222, 'Pedestrian_image/hard_R40': 34.23030904808652, 'Cyclist_aos/easy_R40': 79.40549389902361, 'Cyclist_aos/moderate_R40': 65.20685931004688, 'Cyclist_aos/hard_R40': 61.521833204795925, 'Cyclist_3d/easy_R40': 68.15006681450576, 'Cyclist_3d/moderate_R40': 50.550840114570164, 'Cyclist_3d/hard_R40': 47.34610673788077, 'Cyclist_bev/easy_R40': 78.08032154793094, 'Cyclist_bev/moderate_R40': 60.68100555218131, 'Cyclist_bev/hard_R40': 56.998027985949186, 'Cyclist_image/easy_R40': 80.27135785839143, 'Cyclist_image/moderate_R40': 66.79540614309498, 'Cyclist_image/hard_R40': 63.19428545842931}\n",
      "file: I-V_data_1.5um_length_200nm_diameter_BT_4V_NA_third_etch_10min_Pb_ED_1h_180C_MAI_no_100nm_Ag_memory_8V_carbon_paste_no_wait_2.xlsx, sigma: 0.06283342003106338, usability: 0.25709728349414823, evaluate-9\n"
     ]
    },
    {
     "name": "stderr",
     "output_type": "stream",
     "text": [
      "eval: 100%|█████████▉| 471/472 [03:22<00:00, 11.85it/s]2023-07-27 13:06:39,654   INFO  Average predicted number of objects(3769 samples): 21.345\n",
      "eval: 100%|██████████| 472/472 [03:38<00:00,  2.16it/s]\n"
     ]
    },
    {
     "name": "stdout",
     "output_type": "stream",
     "text": [
      "{'recall/roi_0.3': 0.0, 'recall/rcnn_0.3': 0.0, 'recall/roi_0.5': 0.0, 'recall/rcnn_0.5': 0.0, 'recall/roi_0.7': 0.0, 'recall/rcnn_0.7': 0.0, 'Car_aos/easy_R40': 95.5825835265767, 'Car_aos/moderate_R40': 89.11482261226553, 'Car_aos/hard_R40': 87.9191440204256, 'Car_3d/easy_R40': 87.28415577775912, 'Car_3d/moderate_R40': 74.88506129864624, 'Car_3d/hard_R40': 71.19823273715743, 'Car_bev/easy_R40': 92.37179724965961, 'Car_bev/moderate_R40': 85.77095608559362, 'Car_bev/hard_R40': 84.36909185176938, 'Car_image/easy_R40': 95.62678544766324, 'Car_image/moderate_R40': 89.39522495566695, 'Car_image/hard_R40': 88.39921757660561, 'Pedestrian_aos/easy_R40': 31.043349776763492, 'Pedestrian_aos/moderate_R40': 26.990738978124284, 'Pedestrian_aos/hard_R40': 24.479439296039658, 'Pedestrian_3d/easy_R40': 21.335920715343907, 'Pedestrian_3d/moderate_R40': 17.244158604270808, 'Pedestrian_3d/hard_R40': 14.731537639737668, 'Pedestrian_bev/easy_R40': 56.175053902708584, 'Pedestrian_bev/moderate_R40': 48.56129490610564, 'Pedestrian_bev/hard_R40': 43.59756156790593, 'Pedestrian_image/easy_R40': 42.211713278268135, 'Pedestrian_image/moderate_R40': 36.98731591455439, 'Pedestrian_image/hard_R40': 34.0144083242294, 'Cyclist_aos/easy_R40': 77.42981429721196, 'Cyclist_aos/moderate_R40': 61.775127398835636, 'Cyclist_aos/hard_R40': 58.588416907249055, 'Cyclist_3d/easy_R40': 60.05861290410229, 'Cyclist_3d/moderate_R40': 42.853288561337536, 'Cyclist_3d/hard_R40': 40.01207732935317, 'Cyclist_bev/easy_R40': 75.87971061826225, 'Cyclist_bev/moderate_R40': 58.36908690615042, 'Cyclist_bev/hard_R40': 54.7691413842871, 'Cyclist_image/easy_R40': 78.1057480630979, 'Cyclist_image/moderate_R40': 63.44757851005435, 'Cyclist_image/hard_R40': 60.36590508794751}\n",
      "file: I-V_data_1.5um_length_200nm_diameter_BT_2V_NA_third_etch_15min_Pb_ED_3h_180C_MAI_no_200nm_Ag_memory_4V_carbon_paste_wait_1min.xlsx, sigma: 0.10334850013273904, usability: 0.19108097741472657, evaluate-0\n"
     ]
    },
    {
     "name": "stderr",
     "output_type": "stream",
     "text": [
      "eval: 100%|██████████| 472/472 [03:20<00:00, 12.21it/s]2023-07-27 13:10:17,404   INFO  Average predicted number of objects(3769 samples): 17.960\n",
      "eval: 100%|██████████| 472/472 [03:35<00:00,  2.20it/s]\n"
     ]
    },
    {
     "name": "stdout",
     "output_type": "stream",
     "text": [
      "{'recall/roi_0.3': 0.0, 'recall/rcnn_0.3': 0.0, 'recall/roi_0.5': 0.0, 'recall/rcnn_0.5': 0.0, 'recall/roi_0.7': 0.0, 'recall/rcnn_0.7': 0.0, 'Car_aos/easy_R40': 97.12687813130626, 'Car_aos/moderate_R40': 90.1395556648427, 'Car_aos/hard_R40': 87.02766976250771, 'Car_3d/easy_R40': 82.70888849394696, 'Car_3d/moderate_R40': 71.0264393334451, 'Car_3d/hard_R40': 66.55084924579799, 'Car_bev/easy_R40': 93.5273477654443, 'Car_bev/moderate_R40': 85.36400320658754, 'Car_bev/hard_R40': 83.78640033135287, 'Car_image/easy_R40': 97.18077379229359, 'Car_image/moderate_R40': 90.4485654494659, 'Car_image/hard_R40': 87.53522475519078, 'Pedestrian_aos/easy_R40': 29.876030340087667, 'Pedestrian_aos/moderate_R40': 27.061264792345984, 'Pedestrian_aos/hard_R40': 25.346303375381012, 'Pedestrian_3d/easy_R40': 46.42407469629241, 'Pedestrian_3d/moderate_R40': 39.23367845140404, 'Pedestrian_3d/hard_R40': 34.656714124038956, 'Pedestrian_bev/easy_R40': 58.95758411753202, 'Pedestrian_bev/moderate_R40': 51.39087313944846, 'Pedestrian_bev/hard_R40': 46.84547365071493, 'Pedestrian_image/easy_R40': 45.71944877034419, 'Pedestrian_image/moderate_R40': 41.32488742172427, 'Pedestrian_image/hard_R40': 39.276923705007825, 'Cyclist_aos/easy_R40': 78.09614976712919, 'Cyclist_aos/moderate_R40': 62.824273036883696, 'Cyclist_aos/hard_R40': 59.32853133759839, 'Cyclist_3d/easy_R40': 71.92369961511112, 'Cyclist_3d/moderate_R40': 54.262809715203474, 'Cyclist_3d/hard_R40': 50.96302978873859, 'Cyclist_bev/easy_R40': 76.47163040619093, 'Cyclist_bev/moderate_R40': 59.0205089168119, 'Cyclist_bev/hard_R40': 55.71963033246969, 'Cyclist_image/easy_R40': 80.43391308243952, 'Cyclist_image/moderate_R40': 65.98072158635368, 'Cyclist_image/hard_R40': 62.430014346590376}\n",
      "file: I-V_data_1.5um_length_200nm_diameter_BT_2V_NA_third_etch_15min_Pb_ED_3h_180C_MAI_no_200nm_Ag_memory_4V_carbon_paste_wait_1min.xlsx, sigma: 0.10334850013273904, usability: 0.19108097741472657, evaluate-1\n"
     ]
    },
    {
     "name": "stderr",
     "output_type": "stream",
     "text": [
      "eval: 100%|█████████▉| 471/472 [03:22<00:00, 11.28it/s]2023-07-27 13:13:57,337   INFO  Average predicted number of objects(3769 samples): 21.385\n",
      "eval: 100%|██████████| 472/472 [03:38<00:00,  2.16it/s]\n"
     ]
    },
    {
     "name": "stdout",
     "output_type": "stream",
     "text": [
      "{'recall/roi_0.3': 0.0, 'recall/rcnn_0.3': 0.0, 'recall/roi_0.5': 0.0, 'recall/rcnn_0.5': 0.0, 'recall/roi_0.7': 0.0, 'recall/rcnn_0.7': 0.0, 'Car_aos/easy_R40': 96.73935433141348, 'Car_aos/moderate_R40': 89.37953173105288, 'Car_aos/hard_R40': 85.79220521656202, 'Car_3d/easy_R40': 82.61976385129947, 'Car_3d/moderate_R40': 68.97339919022293, 'Car_3d/hard_R40': 63.937465872651465, 'Car_bev/easy_R40': 91.22240144520248, 'Car_bev/moderate_R40': 84.11635428775264, 'Car_bev/hard_R40': 80.77643704776122, 'Car_image/easy_R40': 96.82706146912302, 'Car_image/moderate_R40': 89.71154961590231, 'Car_image/hard_R40': 86.28537285651731, 'Pedestrian_aos/easy_R40': 31.665436721688934, 'Pedestrian_aos/moderate_R40': 27.438557946047254, 'Pedestrian_aos/hard_R40': 25.15239372370673, 'Pedestrian_3d/easy_R40': 37.618548134810105, 'Pedestrian_3d/moderate_R40': 31.47525567303172, 'Pedestrian_3d/hard_R40': 27.75743304852182, 'Pedestrian_bev/easy_R40': 47.32020216576501, 'Pedestrian_bev/moderate_R40': 40.39089391818314, 'Pedestrian_bev/hard_R40': 35.97015233622483, 'Pedestrian_image/easy_R40': 44.65571893496071, 'Pedestrian_image/moderate_R40': 38.923237000106894, 'Pedestrian_image/hard_R40': 36.12390901418517, 'Cyclist_aos/easy_R40': 66.16354866381357, 'Cyclist_aos/moderate_R40': 52.090402197896715, 'Cyclist_aos/hard_R40': 49.04771309486485, 'Cyclist_3d/easy_R40': 58.52656796363635, 'Cyclist_3d/moderate_R40': 43.845619756773964, 'Cyclist_3d/hard_R40': 41.00771639645355, 'Cyclist_bev/easy_R40': 64.1321293128746, 'Cyclist_bev/moderate_R40': 49.36456639361032, 'Cyclist_bev/hard_R40': 46.15534446349099, 'Cyclist_image/easy_R40': 67.04777824215141, 'Cyclist_image/moderate_R40': 54.21232516890069, 'Cyclist_image/hard_R40': 51.11211479168085}\n",
      "file: I-V_data_1.5um_length_200nm_diameter_BT_2V_NA_third_etch_15min_Pb_ED_3h_180C_MAI_no_200nm_Ag_memory_4V_carbon_paste_wait_1min.xlsx, sigma: 0.10334850013273904, usability: 0.19108097741472657, evaluate-2\n"
     ]
    },
    {
     "name": "stderr",
     "output_type": "stream",
     "text": [
      "eval: 100%|█████████▉| 471/472 [03:19<00:00, 12.61it/s]2023-07-27 13:17:34,900   INFO  Average predicted number of objects(3769 samples): 19.067\n",
      "eval: 100%|██████████| 472/472 [03:34<00:00,  2.20it/s]\n"
     ]
    },
    {
     "name": "stdout",
     "output_type": "stream",
     "text": [
      "{'recall/roi_0.3': 0.0, 'recall/rcnn_0.3': 0.0, 'recall/roi_0.5': 0.0, 'recall/rcnn_0.5': 0.0, 'recall/roi_0.7': 0.0, 'recall/rcnn_0.7': 0.0, 'Car_aos/easy_R40': 96.1420962684921, 'Car_aos/moderate_R40': 88.36334217476835, 'Car_aos/hard_R40': 86.29367310767462, 'Car_3d/easy_R40': 80.54745299549, 'Car_3d/moderate_R40': 68.61383309475332, 'Car_3d/hard_R40': 65.3988196922537, 'Car_bev/easy_R40': 91.60861877849091, 'Car_bev/moderate_R40': 84.86676919876494, 'Car_bev/hard_R40': 81.80629532537932, 'Car_image/easy_R40': 96.19324007233556, 'Car_image/moderate_R40': 88.6984683491684, 'Car_image/hard_R40': 86.80024576077182, 'Pedestrian_aos/easy_R40': 36.40269593512103, 'Pedestrian_aos/moderate_R40': 31.93643303379945, 'Pedestrian_aos/hard_R40': 28.848409507016427, 'Pedestrian_3d/easy_R40': 49.479652376169334, 'Pedestrian_3d/moderate_R40': 42.125515561092456, 'Pedestrian_3d/hard_R40': 36.767313479595956, 'Pedestrian_bev/easy_R40': 58.397663012737034, 'Pedestrian_bev/moderate_R40': 50.40467145237297, 'Pedestrian_bev/hard_R40': 45.20228869550238, 'Pedestrian_image/easy_R40': 53.62471020983593, 'Pedestrian_image/moderate_R40': 47.54306723877849, 'Pedestrian_image/hard_R40': 43.606640208591394, 'Cyclist_aos/easy_R40': 80.88530218176003, 'Cyclist_aos/moderate_R40': 62.68838730315844, 'Cyclist_aos/hard_R40': 59.174899028825834, 'Cyclist_3d/easy_R40': 67.9562008562237, 'Cyclist_3d/moderate_R40': 48.47065879643527, 'Cyclist_3d/hard_R40': 45.40480330290775, 'Cyclist_bev/easy_R40': 77.45073434124245, 'Cyclist_bev/moderate_R40': 57.15529188375974, 'Cyclist_bev/hard_R40': 53.94191496574865, 'Cyclist_image/easy_R40': 81.8086150812805, 'Cyclist_image/moderate_R40': 64.55854699478327, 'Cyclist_image/hard_R40': 61.03429830034723}\n",
      "file: I-V_data_1.5um_length_200nm_diameter_BT_2V_NA_third_etch_15min_Pb_ED_3h_180C_MAI_no_200nm_Ag_memory_4V_carbon_paste_wait_1min.xlsx, sigma: 0.10334850013273904, usability: 0.19108097741472657, evaluate-3\n"
     ]
    },
    {
     "name": "stderr",
     "output_type": "stream",
     "text": [
      "eval: 100%|█████████▉| 471/472 [03:22<00:00, 12.26it/s]2023-07-27 13:21:14,768   INFO  Average predicted number of objects(3769 samples): 17.495\n",
      "eval: 100%|██████████| 472/472 [03:37<00:00,  2.17it/s]\n"
     ]
    },
    {
     "name": "stdout",
     "output_type": "stream",
     "text": [
      "{'recall/roi_0.3': 0.0, 'recall/rcnn_0.3': 0.0, 'recall/roi_0.5': 0.0, 'recall/rcnn_0.5': 0.0, 'recall/roi_0.7': 0.0, 'recall/rcnn_0.7': 0.0, 'Car_aos/easy_R40': 96.11101092068658, 'Car_aos/moderate_R40': 87.76177170914539, 'Car_aos/hard_R40': 84.82462042562106, 'Car_3d/easy_R40': 77.33722464941152, 'Car_3d/moderate_R40': 64.96076465570708, 'Car_3d/hard_R40': 62.06876920977239, 'Car_bev/easy_R40': 93.73406018645781, 'Car_bev/moderate_R40': 87.1341594739546, 'Car_bev/hard_R40': 84.50372592512186, 'Car_image/easy_R40': 96.14736062682545, 'Car_image/moderate_R40': 88.00126093458711, 'Car_image/hard_R40': 85.21702407766385, 'Pedestrian_aos/easy_R40': 25.15588948263187, 'Pedestrian_aos/moderate_R40': 23.143624816283133, 'Pedestrian_aos/hard_R40': 22.143659903765673, 'Pedestrian_3d/easy_R40': 42.167190149373035, 'Pedestrian_3d/moderate_R40': 37.160458449079066, 'Pedestrian_3d/hard_R40': 33.092413425378204, 'Pedestrian_bev/easy_R40': 57.424646282777594, 'Pedestrian_bev/moderate_R40': 50.621940084147866, 'Pedestrian_bev/hard_R40': 46.26365412841752, 'Pedestrian_image/easy_R40': 37.604984992428705, 'Pedestrian_image/moderate_R40': 35.14848075519185, 'Pedestrian_image/hard_R40': 33.73603734730542, 'Cyclist_aos/easy_R40': 82.41716489069464, 'Cyclist_aos/moderate_R40': 64.31082010767746, 'Cyclist_aos/hard_R40': 61.04895381407173, 'Cyclist_3d/easy_R40': 70.54326613640445, 'Cyclist_3d/moderate_R40': 51.54203483827584, 'Cyclist_3d/hard_R40': 48.24909582374584, 'Cyclist_bev/easy_R40': 76.14666275071767, 'Cyclist_bev/moderate_R40': 58.66202465535923, 'Cyclist_bev/hard_R40': 55.23815788024392, 'Cyclist_image/easy_R40': 83.59884704907502, 'Cyclist_image/moderate_R40': 66.6698659440217, 'Cyclist_image/hard_R40': 63.61686698158301}\n",
      "file: I-V_data_1.5um_length_200nm_diameter_BT_2V_NA_third_etch_15min_Pb_ED_3h_180C_MAI_no_200nm_Ag_memory_4V_carbon_paste_wait_1min.xlsx, sigma: 0.10334850013273904, usability: 0.19108097741472657, evaluate-4\n"
     ]
    },
    {
     "name": "stderr",
     "output_type": "stream",
     "text": [
      "eval: 100%|█████████▉| 471/472 [03:26<00:00, 11.21it/s]2023-07-27 13:24:57,994   INFO  Average predicted number of objects(3769 samples): 18.821\n",
      "eval: 100%|██████████| 472/472 [03:41<00:00,  2.13it/s]\n"
     ]
    },
    {
     "name": "stdout",
     "output_type": "stream",
     "text": [
      "{'recall/roi_0.3': 0.0, 'recall/rcnn_0.3': 0.0, 'recall/roi_0.5': 0.0, 'recall/rcnn_0.5': 0.0, 'recall/roi_0.7': 0.0, 'recall/rcnn_0.7': 0.0, 'Car_aos/easy_R40': 96.61964415657405, 'Car_aos/moderate_R40': 89.25776271524126, 'Car_aos/hard_R40': 85.1742476395881, 'Car_3d/easy_R40': 83.71231175421518, 'Car_3d/moderate_R40': 71.68501521410661, 'Car_3d/hard_R40': 66.8422871185107, 'Car_bev/easy_R40': 91.3993564685382, 'Car_bev/moderate_R40': 84.73554402253328, 'Car_bev/hard_R40': 82.65477782987045, 'Car_image/easy_R40': 96.65334235007175, 'Car_image/moderate_R40': 89.50898625914515, 'Car_image/hard_R40': 85.56405384486949, 'Pedestrian_aos/easy_R40': 34.483918034466186, 'Pedestrian_aos/moderate_R40': 30.295447742951747, 'Pedestrian_aos/hard_R40': 27.94337052671269, 'Pedestrian_3d/easy_R40': 50.33666690953444, 'Pedestrian_3d/moderate_R40': 42.61788677395303, 'Pedestrian_3d/hard_R40': 37.44961622627743, 'Pedestrian_bev/easy_R40': 55.90710103682984, 'Pedestrian_bev/moderate_R40': 48.23465944459415, 'Pedestrian_bev/hard_R40': 43.22833052448673, 'Pedestrian_image/easy_R40': 54.1976909603046, 'Pedestrian_image/moderate_R40': 47.81602891533758, 'Pedestrian_image/hard_R40': 44.58063327695597, 'Cyclist_aos/easy_R40': 77.3963817110204, 'Cyclist_aos/moderate_R40': 57.3289613721089, 'Cyclist_aos/hard_R40': 54.55124033267702, 'Cyclist_3d/easy_R40': 67.68160111653255, 'Cyclist_3d/moderate_R40': 46.6945518584872, 'Cyclist_3d/hard_R40': 43.865000515811275, 'Cyclist_bev/easy_R40': 76.55799679505428, 'Cyclist_bev/moderate_R40': 55.126283878984964, 'Cyclist_bev/hard_R40': 51.84714836208063, 'Cyclist_image/easy_R40': 78.19694228698874, 'Cyclist_image/moderate_R40': 58.76202403719064, 'Cyclist_image/hard_R40': 56.098838564650336}\n",
      "file: I-V_data_1.5um_length_200nm_diameter_BT_2V_NA_third_etch_15min_Pb_ED_3h_180C_MAI_no_200nm_Ag_memory_4V_carbon_paste_wait_1min.xlsx, sigma: 0.10334850013273904, usability: 0.19108097741472657, evaluate-5\n"
     ]
    },
    {
     "name": "stderr",
     "output_type": "stream",
     "text": [
      "eval: 100%|█████████▉| 471/472 [03:25<00:00, 12.33it/s]2023-07-27 13:28:41,130   INFO  Average predicted number of objects(3769 samples): 20.111\n",
      "eval: 100%|██████████| 472/472 [03:41<00:00,  2.13it/s]\n"
     ]
    },
    {
     "name": "stdout",
     "output_type": "stream",
     "text": [
      "{'recall/roi_0.3': 0.0, 'recall/rcnn_0.3': 0.0, 'recall/roi_0.5': 0.0, 'recall/rcnn_0.5': 0.0, 'recall/roi_0.7': 0.0, 'recall/rcnn_0.7': 0.0, 'Car_aos/easy_R40': 95.76533128391084, 'Car_aos/moderate_R40': 88.05247635286578, 'Car_aos/hard_R40': 84.97727796489839, 'Car_3d/easy_R40': 77.73781372440304, 'Car_3d/moderate_R40': 66.42041851617986, 'Car_3d/hard_R40': 62.735602412368344, 'Car_bev/easy_R40': 92.77651192313708, 'Car_bev/moderate_R40': 84.90181538040359, 'Car_bev/hard_R40': 82.03960784255997, 'Car_image/easy_R40': 95.93198827539781, 'Car_image/moderate_R40': 88.42129491156186, 'Car_image/hard_R40': 85.53842714717914, 'Pedestrian_aos/easy_R40': 34.15307863432767, 'Pedestrian_aos/moderate_R40': 30.213843623829362, 'Pedestrian_aos/hard_R40': 27.808108403826125, 'Pedestrian_3d/easy_R40': 45.78516056451337, 'Pedestrian_3d/moderate_R40': 38.4711452617769, 'Pedestrian_3d/hard_R40': 33.7316609261949, 'Pedestrian_bev/easy_R40': 56.52674749108218, 'Pedestrian_bev/moderate_R40': 48.09700599994953, 'Pedestrian_bev/hard_R40': 42.86553882021777, 'Pedestrian_image/easy_R40': 50.38880251495639, 'Pedestrian_image/moderate_R40': 44.644944118621346, 'Pedestrian_image/hard_R40': 41.200971531851536, 'Cyclist_aos/easy_R40': 72.7592792957571, 'Cyclist_aos/moderate_R40': 54.8802823324616, 'Cyclist_aos/hard_R40': 52.12851192715856, 'Cyclist_3d/easy_R40': 58.46027168887926, 'Cyclist_3d/moderate_R40': 41.512449374250835, 'Cyclist_3d/hard_R40': 39.17036181902244, 'Cyclist_bev/easy_R40': 76.46073791407136, 'Cyclist_bev/moderate_R40': 55.27273280398528, 'Cyclist_bev/hard_R40': 52.04707842409647, 'Cyclist_image/easy_R40': 74.11287483903148, 'Cyclist_image/moderate_R40': 57.07394491489753, 'Cyclist_image/hard_R40': 54.2728241855163}\n",
      "file: I-V_data_1.5um_length_200nm_diameter_BT_2V_NA_third_etch_15min_Pb_ED_3h_180C_MAI_no_200nm_Ag_memory_4V_carbon_paste_wait_1min.xlsx, sigma: 0.10334850013273904, usability: 0.19108097741472657, evaluate-6\n"
     ]
    },
    {
     "name": "stderr",
     "output_type": "stream",
     "text": [
      "eval: 100%|██████████| 472/472 [03:26<00:00, 13.12it/s]2023-07-27 13:32:24,977   INFO  Average predicted number of objects(3769 samples): 21.723\n",
      "eval: 100%|██████████| 472/472 [03:42<00:00,  2.12it/s]\n"
     ]
    },
    {
     "name": "stdout",
     "output_type": "stream",
     "text": [
      "{'recall/roi_0.3': 0.0, 'recall/rcnn_0.3': 0.0, 'recall/roi_0.5': 0.0, 'recall/rcnn_0.5': 0.0, 'recall/roi_0.7': 0.0, 'recall/rcnn_0.7': 0.0, 'Car_aos/easy_R40': 96.54286519675394, 'Car_aos/moderate_R40': 88.6560378971321, 'Car_aos/hard_R40': 86.98907396949747, 'Car_3d/easy_R40': 84.2524429691635, 'Car_3d/moderate_R40': 72.65134439231822, 'Car_3d/hard_R40': 69.10851821460328, 'Car_bev/easy_R40': 93.8914599903254, 'Car_bev/moderate_R40': 86.77549976020128, 'Car_bev/hard_R40': 84.0452044516135, 'Car_image/easy_R40': 96.59641805636561, 'Car_image/moderate_R40': 89.00918137260231, 'Car_image/hard_R40': 87.60067432211137, 'Pedestrian_aos/easy_R40': 35.906130135955735, 'Pedestrian_aos/moderate_R40': 32.146639821968606, 'Pedestrian_aos/hard_R40': 29.349683853393195, 'Pedestrian_3d/easy_R40': 45.89776991964683, 'Pedestrian_3d/moderate_R40': 39.26272981102608, 'Pedestrian_3d/hard_R40': 34.39713246612083, 'Pedestrian_bev/easy_R40': 52.34360592264975, 'Pedestrian_bev/moderate_R40': 45.224309106938506, 'Pedestrian_bev/hard_R40': 40.388883556638326, 'Pedestrian_image/easy_R40': 52.301043446158126, 'Pedestrian_image/moderate_R40': 46.685641963569644, 'Pedestrian_image/hard_R40': 43.033456013748506, 'Cyclist_aos/easy_R40': 78.12921834531568, 'Cyclist_aos/moderate_R40': 61.95795666703143, 'Cyclist_aos/hard_R40': 58.95489563181637, 'Cyclist_3d/easy_R40': 69.35636363200418, 'Cyclist_3d/moderate_R40': 51.422086108676424, 'Cyclist_3d/hard_R40': 48.81614398086242, 'Cyclist_bev/easy_R40': 76.13376260758905, 'Cyclist_bev/moderate_R40': 56.682335098023984, 'Cyclist_bev/hard_R40': 53.201741132624335, 'Cyclist_image/easy_R40': 80.24853835048282, 'Cyclist_image/moderate_R40': 64.45373803920496, 'Cyclist_image/hard_R40': 61.54841535130865}\n",
      "file: I-V_data_1.5um_length_200nm_diameter_BT_2V_NA_third_etch_15min_Pb_ED_3h_180C_MAI_no_200nm_Ag_memory_4V_carbon_paste_wait_1min.xlsx, sigma: 0.10334850013273904, usability: 0.19108097741472657, evaluate-7\n"
     ]
    },
    {
     "name": "stderr",
     "output_type": "stream",
     "text": [
      "eval: 100%|█████████▉| 471/472 [03:24<00:00, 12.54it/s]2023-07-27 13:36:07,493   INFO  Average predicted number of objects(3769 samples): 21.046\n",
      "eval: 100%|██████████| 472/472 [03:39<00:00,  2.15it/s]\n"
     ]
    },
    {
     "name": "stdout",
     "output_type": "stream",
     "text": [
      "{'recall/roi_0.3': 0.0, 'recall/rcnn_0.3': 0.0, 'recall/roi_0.5': 0.0, 'recall/rcnn_0.5': 0.0, 'recall/roi_0.7': 0.0, 'recall/rcnn_0.7': 0.0, 'Car_aos/easy_R40': 97.05617164199994, 'Car_aos/moderate_R40': 89.02089094708222, 'Car_aos/hard_R40': 87.68119784854656, 'Car_3d/easy_R40': 85.2125231512124, 'Car_3d/moderate_R40': 72.22591645681965, 'Car_3d/hard_R40': 67.85155023373137, 'Car_bev/easy_R40': 93.95749635119775, 'Car_bev/moderate_R40': 85.65068954699868, 'Car_bev/hard_R40': 82.9093223120809, 'Car_image/easy_R40': 97.1181147908115, 'Car_image/moderate_R40': 89.2647565039197, 'Car_image/hard_R40': 88.13920139785205, 'Pedestrian_aos/easy_R40': 31.700345138872244, 'Pedestrian_aos/moderate_R40': 28.29911295528148, 'Pedestrian_aos/hard_R40': 26.145839799706494, 'Pedestrian_3d/easy_R40': 36.23564217710499, 'Pedestrian_3d/moderate_R40': 31.159653029039358, 'Pedestrian_3d/hard_R40': 27.31151803715243, 'Pedestrian_bev/easy_R40': 54.84447752376741, 'Pedestrian_bev/moderate_R40': 47.28867716834709, 'Pedestrian_bev/hard_R40': 42.606298682748246, 'Pedestrian_image/easy_R40': 44.57044865664194, 'Pedestrian_image/moderate_R40': 40.24641051694681, 'Pedestrian_image/hard_R40': 37.64726101903802, 'Cyclist_aos/easy_R40': 63.82967046565212, 'Cyclist_aos/moderate_R40': 50.17520915577899, 'Cyclist_aos/hard_R40': 47.214530405090365, 'Cyclist_3d/easy_R40': 40.85592407163088, 'Cyclist_3d/moderate_R40': 32.593111465195, 'Cyclist_3d/hard_R40': 30.354027568090817, 'Cyclist_bev/easy_R40': 66.50623046192158, 'Cyclist_bev/moderate_R40': 52.128085082537424, 'Cyclist_bev/hard_R40': 49.09738938481857, 'Cyclist_image/easy_R40': 64.53415267017688, 'Cyclist_image/moderate_R40': 52.27037534654026, 'Cyclist_image/hard_R40': 49.377943839615504}\n",
      "file: I-V_data_1.5um_length_200nm_diameter_BT_2V_NA_third_etch_15min_Pb_ED_3h_180C_MAI_no_200nm_Ag_memory_4V_carbon_paste_wait_1min.xlsx, sigma: 0.10334850013273904, usability: 0.19108097741472657, evaluate-8\n"
     ]
    },
    {
     "name": "stderr",
     "output_type": "stream",
     "text": [
      "eval: 100%|█████████▉| 471/472 [03:29<00:00, 11.91it/s]2023-07-27 13:39:54,253   INFO  Average predicted number of objects(3769 samples): 19.457\n",
      "eval: 100%|██████████| 472/472 [03:44<00:00,  2.10it/s]\n"
     ]
    },
    {
     "name": "stdout",
     "output_type": "stream",
     "text": [
      "{'recall/roi_0.3': 0.0, 'recall/rcnn_0.3': 0.0, 'recall/roi_0.5': 0.0, 'recall/rcnn_0.5': 0.0, 'recall/roi_0.7': 0.0, 'recall/rcnn_0.7': 0.0, 'Car_aos/easy_R40': 96.35514679005382, 'Car_aos/moderate_R40': 88.17916746054372, 'Car_aos/hard_R40': 85.45311863418887, 'Car_3d/easy_R40': 81.90747657508528, 'Car_3d/moderate_R40': 68.75484412975487, 'Car_3d/hard_R40': 65.92982830679665, 'Car_bev/easy_R40': 92.5479779241601, 'Car_bev/moderate_R40': 86.21654669759224, 'Car_bev/hard_R40': 84.17344246054505, 'Car_image/easy_R40': 96.40442003709593, 'Car_image/moderate_R40': 88.50696519808666, 'Car_image/hard_R40': 85.92443658097065, 'Pedestrian_aos/easy_R40': 41.89121345457633, 'Pedestrian_aos/moderate_R40': 37.909127047828456, 'Pedestrian_aos/hard_R40': 35.33673002260237, 'Pedestrian_3d/easy_R40': 51.5583403557168, 'Pedestrian_3d/moderate_R40': 44.32504001546317, 'Pedestrian_3d/hard_R40': 39.26202300477562, 'Pedestrian_bev/easy_R40': 59.667505817073554, 'Pedestrian_bev/moderate_R40': 51.913323246584994, 'Pedestrian_bev/hard_R40': 46.868902388614316, 'Pedestrian_image/easy_R40': 59.91423054626751, 'Pedestrian_image/moderate_R40': 53.67958103237373, 'Pedestrian_image/hard_R40': 50.18298216933631, 'Cyclist_aos/easy_R40': 81.95798256714596, 'Cyclist_aos/moderate_R40': 63.28590885602623, 'Cyclist_aos/hard_R40': 60.17993169505209, 'Cyclist_3d/easy_R40': 72.1040083908835, 'Cyclist_3d/moderate_R40': 49.94217632657518, 'Cyclist_3d/hard_R40': 46.84723827880266, 'Cyclist_bev/easy_R40': 77.09566679906379, 'Cyclist_bev/moderate_R40': 55.45141001223281, 'Cyclist_bev/hard_R40': 52.17556663349794, 'Cyclist_image/easy_R40': 83.25638856666545, 'Cyclist_image/moderate_R40': 65.78076152947328, 'Cyclist_image/hard_R40': 62.722834396878646}\n",
      "file: I-V_data_1.5um_length_200nm_diameter_BT_2V_NA_third_etch_15min_Pb_ED_3h_180C_MAI_no_200nm_Ag_memory_4V_carbon_paste_wait_1min.xlsx, sigma: 0.10334850013273904, usability: 0.19108097741472657, evaluate-9\n"
     ]
    },
    {
     "name": "stderr",
     "output_type": "stream",
     "text": [
      "eval: 100%|█████████▉| 471/472 [03:21<00:00, 12.32it/s]2023-07-27 13:43:33,191   INFO  Average predicted number of objects(3769 samples): 17.231\n",
      "eval: 100%|██████████| 472/472 [03:37<00:00,  2.17it/s]\n"
     ]
    },
    {
     "name": "stdout",
     "output_type": "stream",
     "text": [
      "{'recall/roi_0.3': 0.0, 'recall/rcnn_0.3': 0.0, 'recall/roi_0.5': 0.0, 'recall/rcnn_0.5': 0.0, 'recall/roi_0.7': 0.0, 'recall/rcnn_0.7': 0.0, 'Car_aos/easy_R40': 97.2665711936474, 'Car_aos/moderate_R40': 90.1332330430557, 'Car_aos/hard_R40': 87.43523907268515, 'Car_3d/easy_R40': 82.10338752290613, 'Car_3d/moderate_R40': 70.58187643843358, 'Car_3d/hard_R40': 66.55065990181654, 'Car_bev/easy_R40': 94.09987060139649, 'Car_bev/moderate_R40': 86.82654936912651, 'Car_bev/hard_R40': 84.29646935709421, 'Car_image/easy_R40': 97.31557210265038, 'Car_image/moderate_R40': 90.45988185743136, 'Car_image/hard_R40': 87.93559311303983, 'Pedestrian_aos/easy_R40': 32.73332168772182, 'Pedestrian_aos/moderate_R40': 29.567921554994335, 'Pedestrian_aos/hard_R40': 27.45792037021445, 'Pedestrian_3d/easy_R40': 52.30567077951116, 'Pedestrian_3d/moderate_R40': 44.7241397482778, 'Pedestrian_3d/hard_R40': 40.04703823392671, 'Pedestrian_bev/easy_R40': 57.612319131171816, 'Pedestrian_bev/moderate_R40': 50.851184394596174, 'Pedestrian_bev/hard_R40': 45.89660421576737, 'Pedestrian_image/easy_R40': 53.151291771740084, 'Pedestrian_image/moderate_R40': 47.96738886941991, 'Pedestrian_image/hard_R40': 44.976815935197536, 'Cyclist_aos/easy_R40': 84.37073214741775, 'Cyclist_aos/moderate_R40': 66.50271295559337, 'Cyclist_aos/hard_R40': 63.448339669142406, 'Cyclist_3d/easy_R40': 76.25723508099723, 'Cyclist_3d/moderate_R40': 55.97377053072974, 'Cyclist_3d/hard_R40': 52.57556100035892, 'Cyclist_bev/easy_R40': 82.51218717464056, 'Cyclist_bev/moderate_R40': 61.83467638372442, 'Cyclist_bev/hard_R40': 58.532856614432816, 'Cyclist_image/easy_R40': 85.34615599938992, 'Cyclist_image/moderate_R40': 67.8188259615885, 'Cyclist_image/hard_R40': 64.8306583063041}\n",
      "file: I-V_data_1.8um_length_50nm_diameter_BT_4V_NA_third_etch_20min_Pb_ED_3h_180C_MAI_no_200nm_Ag_memory_6V_carbon_paste_no_wait.xlsx, sigma: 0.11051303530682587, usability: 0.3279872460213791, evaluate-0\n"
     ]
    },
    {
     "name": "stderr",
     "output_type": "stream",
     "text": [
      "eval: 100%|█████████▉| 471/472 [03:24<00:00, 12.67it/s]2023-07-27 13:47:14,064   INFO  Average predicted number of objects(3769 samples): 17.627\n",
      "eval: 100%|██████████| 472/472 [03:39<00:00,  2.16it/s]\n"
     ]
    },
    {
     "name": "stdout",
     "output_type": "stream",
     "text": [
      "{'recall/roi_0.3': 0.0, 'recall/rcnn_0.3': 0.0, 'recall/roi_0.5': 0.0, 'recall/rcnn_0.5': 0.0, 'recall/roi_0.7': 0.0, 'recall/rcnn_0.7': 0.0, 'Car_aos/easy_R40': 92.08892971924115, 'Car_aos/moderate_R40': 82.58586506637145, 'Car_aos/hard_R40': 79.69604773134901, 'Car_3d/easy_R40': 61.71393614300078, 'Car_3d/moderate_R40': 51.17583163608012, 'Car_3d/hard_R40': 48.83003492997503, 'Car_bev/easy_R40': 93.8335586623877, 'Car_bev/moderate_R40': 85.25256258808675, 'Car_bev/hard_R40': 82.3414135554259, 'Car_image/easy_R40': 92.130359855079, 'Car_image/moderate_R40': 82.82580375764222, 'Car_image/hard_R40': 80.103331564895, 'Pedestrian_aos/easy_R40': 28.9667865469896, 'Pedestrian_aos/moderate_R40': 26.264432416184054, 'Pedestrian_aos/hard_R40': 24.226332873159443, 'Pedestrian_3d/easy_R40': 50.76294872051942, 'Pedestrian_3d/moderate_R40': 43.504284354735475, 'Pedestrian_3d/hard_R40': 38.95258216876009, 'Pedestrian_bev/easy_R40': 57.39426423791903, 'Pedestrian_bev/moderate_R40': 50.445836205293915, 'Pedestrian_bev/hard_R40': 45.72196775782835, 'Pedestrian_image/easy_R40': 47.60078596424336, 'Pedestrian_image/moderate_R40': 42.698157304953696, 'Pedestrian_image/hard_R40': 40.15142597150897, 'Cyclist_aos/easy_R40': 66.04890786999081, 'Cyclist_aos/moderate_R40': 52.95539021830473, 'Cyclist_aos/hard_R40': 50.271436769419495, 'Cyclist_3d/easy_R40': 57.016022108002296, 'Cyclist_3d/moderate_R40': 44.2477505622134, 'Cyclist_3d/hard_R40': 41.82618730300253, 'Cyclist_bev/easy_R40': 73.3996973379351, 'Cyclist_bev/moderate_R40': 57.30221215140233, 'Cyclist_bev/hard_R40': 54.399043782213376, 'Cyclist_image/easy_R40': 67.56792703026174, 'Cyclist_image/moderate_R40': 55.55855440715266, 'Cyclist_image/hard_R40': 52.83805187789377}\n",
      "file: I-V_data_1.8um_length_50nm_diameter_BT_4V_NA_third_etch_20min_Pb_ED_3h_180C_MAI_no_200nm_Ag_memory_6V_carbon_paste_no_wait.xlsx, sigma: 0.11051303530682587, usability: 0.3279872460213791, evaluate-1\n"
     ]
    },
    {
     "name": "stderr",
     "output_type": "stream",
     "text": [
      "eval: 100%|█████████▉| 471/472 [03:29<00:00, 12.73it/s]2023-07-27 13:50:58,743   INFO  Average predicted number of objects(3769 samples): 20.188\n",
      "eval: 100%|██████████| 472/472 [03:44<00:00,  2.10it/s]\n"
     ]
    },
    {
     "name": "stdout",
     "output_type": "stream",
     "text": [
      "{'recall/roi_0.3': 0.0, 'recall/rcnn_0.3': 0.0, 'recall/roi_0.5': 0.0, 'recall/rcnn_0.5': 0.0, 'recall/roi_0.7': 0.0, 'recall/rcnn_0.7': 0.0, 'Car_aos/easy_R40': 96.9339585982864, 'Car_aos/moderate_R40': 89.92757399714876, 'Car_aos/hard_R40': 87.09003628315693, 'Car_3d/easy_R40': 82.83328097734403, 'Car_3d/moderate_R40': 70.97140449480047, 'Car_3d/hard_R40': 66.66697497042901, 'Car_bev/easy_R40': 91.64184245755989, 'Car_bev/moderate_R40': 85.0748558676989, 'Car_bev/hard_R40': 82.1769467486439, 'Car_image/easy_R40': 96.96703626303974, 'Car_image/moderate_R40': 90.16144643113935, 'Car_image/hard_R40': 87.47238003329493, 'Pedestrian_aos/easy_R40': 30.020529710066324, 'Pedestrian_aos/moderate_R40': 25.89224175402117, 'Pedestrian_aos/hard_R40': 23.78170416182012, 'Pedestrian_3d/easy_R40': 46.02084293672076, 'Pedestrian_3d/moderate_R40': 37.84163241067592, 'Pedestrian_3d/hard_R40': 33.453512726556795, 'Pedestrian_bev/easy_R40': 59.160552155304536, 'Pedestrian_bev/moderate_R40': 50.99048390824387, 'Pedestrian_bev/hard_R40': 45.76924404501922, 'Pedestrian_image/easy_R40': 50.4365289580676, 'Pedestrian_image/moderate_R40': 44.07698649403596, 'Pedestrian_image/hard_R40': 40.879747914617575, 'Cyclist_aos/easy_R40': 76.22430836665013, 'Cyclist_aos/moderate_R40': 60.63024384798916, 'Cyclist_aos/hard_R40': 57.55460092984095, 'Cyclist_3d/easy_R40': 66.83411698250382, 'Cyclist_3d/moderate_R40': 50.99386907955509, 'Cyclist_3d/hard_R40': 47.9453229622547, 'Cyclist_bev/easy_R40': 75.0478452637154, 'Cyclist_bev/moderate_R40': 57.448261493253504, 'Cyclist_bev/hard_R40': 54.278419747265275, 'Cyclist_image/easy_R40': 76.75044314402639, 'Cyclist_image/moderate_R40': 62.36803789375847, 'Cyclist_image/hard_R40': 59.428582979452784}\n",
      "file: I-V_data_1.8um_length_50nm_diameter_BT_4V_NA_third_etch_20min_Pb_ED_3h_180C_MAI_no_200nm_Ag_memory_6V_carbon_paste_no_wait.xlsx, sigma: 0.11051303530682587, usability: 0.3279872460213791, evaluate-2\n"
     ]
    },
    {
     "name": "stderr",
     "output_type": "stream",
     "text": [
      "eval: 100%|█████████▉| 471/472 [03:24<00:00, 12.89it/s]2023-07-27 13:54:39,692   INFO  Average predicted number of objects(3769 samples): 19.969\n",
      "eval: 100%|██████████| 472/472 [03:40<00:00,  2.14it/s]\n"
     ]
    },
    {
     "name": "stdout",
     "output_type": "stream",
     "text": [
      "{'recall/roi_0.3': 0.0, 'recall/rcnn_0.3': 0.0, 'recall/roi_0.5': 0.0, 'recall/rcnn_0.5': 0.0, 'recall/roi_0.7': 0.0, 'recall/rcnn_0.7': 0.0, 'Car_aos/easy_R40': 97.07509776804818, 'Car_aos/moderate_R40': 90.11964686775555, 'Car_aos/hard_R40': 87.84742243566683, 'Car_3d/easy_R40': 87.17673547019305, 'Car_3d/moderate_R40': 75.02372146540709, 'Car_3d/hard_R40': 70.74523282247796, 'Car_bev/easy_R40': 93.38484761549047, 'Car_bev/moderate_R40': 87.14370329406277, 'Car_bev/hard_R40': 84.44105190184048, 'Car_image/easy_R40': 97.10877969946432, 'Car_image/moderate_R40': 90.36825191348404, 'Car_image/hard_R40': 88.25242331823453, 'Pedestrian_aos/easy_R40': 41.17109653788697, 'Pedestrian_aos/moderate_R40': 37.0293592442289, 'Pedestrian_aos/hard_R40': 34.02980533325176, 'Pedestrian_3d/easy_R40': 51.79358027572511, 'Pedestrian_3d/moderate_R40': 44.11888641432257, 'Pedestrian_3d/hard_R40': 39.03161861846215, 'Pedestrian_bev/easy_R40': 61.03616095679671, 'Pedestrian_bev/moderate_R40': 52.787465437213065, 'Pedestrian_bev/hard_R40': 47.614340151716085, 'Pedestrian_image/easy_R40': 58.396346026732694, 'Pedestrian_image/moderate_R40': 52.52418579830187, 'Pedestrian_image/hard_R40': 48.7372569565787, 'Cyclist_aos/easy_R40': 83.24726083454935, 'Cyclist_aos/moderate_R40': 68.90032531868738, 'Cyclist_aos/hard_R40': 65.49399054344349, 'Cyclist_3d/easy_R40': 78.39563636551404, 'Cyclist_3d/moderate_R40': 57.3296269745815, 'Cyclist_3d/hard_R40': 54.07342173243374, 'Cyclist_bev/easy_R40': 82.62639624609442, 'Cyclist_bev/moderate_R40': 62.178351182565294, 'Cyclist_bev/hard_R40': 58.29265053574575, 'Cyclist_image/easy_R40': 84.52636298094994, 'Cyclist_image/moderate_R40': 71.36388116388342, 'Cyclist_image/hard_R40': 67.9691455646862}\n",
      "file: I-V_data_1.8um_length_50nm_diameter_BT_4V_NA_third_etch_20min_Pb_ED_3h_180C_MAI_no_200nm_Ag_memory_6V_carbon_paste_no_wait.xlsx, sigma: 0.11051303530682587, usability: 0.3279872460213791, evaluate-3\n"
     ]
    },
    {
     "name": "stderr",
     "output_type": "stream",
     "text": [
      "eval: 100%|█████████▉| 471/472 [03:26<00:00, 12.27it/s]2023-07-27 13:58:22,765   INFO  Average predicted number of objects(3769 samples): 23.336\n",
      "eval: 100%|██████████| 472/472 [03:43<00:00,  2.11it/s]\n"
     ]
    },
    {
     "name": "stdout",
     "output_type": "stream",
     "text": [
      "{'recall/roi_0.3': 0.0, 'recall/rcnn_0.3': 0.0, 'recall/roi_0.5': 0.0, 'recall/rcnn_0.5': 0.0, 'recall/roi_0.7': 0.0, 'recall/rcnn_0.7': 0.0, 'Car_aos/easy_R40': 95.36313457341997, 'Car_aos/moderate_R40': 87.90134545474112, 'Car_aos/hard_R40': 85.19999274938203, 'Car_3d/easy_R40': 81.53935311783357, 'Car_3d/moderate_R40': 68.72063850899485, 'Car_3d/hard_R40': 65.15808845262788, 'Car_bev/easy_R40': 92.2678240398071, 'Car_bev/moderate_R40': 85.58382989653565, 'Car_bev/hard_R40': 83.36492664419458, 'Car_image/easy_R40': 95.4049342318904, 'Car_image/moderate_R40': 88.20500351081172, 'Car_image/hard_R40': 85.67348663760887, 'Pedestrian_aos/easy_R40': 36.821296787944, 'Pedestrian_aos/moderate_R40': 32.549386941577104, 'Pedestrian_aos/hard_R40': 29.769305173998156, 'Pedestrian_3d/easy_R40': 34.13047731427339, 'Pedestrian_3d/moderate_R40': 28.899074145803542, 'Pedestrian_3d/hard_R40': 25.520382906913458, 'Pedestrian_bev/easy_R40': 56.1750145655773, 'Pedestrian_bev/moderate_R40': 48.5874848702205, 'Pedestrian_bev/hard_R40': 43.837244952371684, 'Pedestrian_image/easy_R40': 50.17700488471729, 'Pedestrian_image/moderate_R40': 44.554495062883234, 'Pedestrian_image/hard_R40': 41.4175598260114, 'Cyclist_aos/easy_R40': 64.58600900382525, 'Cyclist_aos/moderate_R40': 50.97169847838524, 'Cyclist_aos/hard_R40': 48.028643846314814, 'Cyclist_3d/easy_R40': 39.05800690374465, 'Cyclist_3d/moderate_R40': 28.46748679675001, 'Cyclist_3d/hard_R40': 26.864562025504778, 'Cyclist_bev/easy_R40': 81.08777195344543, 'Cyclist_bev/moderate_R40': 59.80854813033415, 'Cyclist_bev/hard_R40': 56.199047251362835, 'Cyclist_image/easy_R40': 65.81381660096709, 'Cyclist_image/moderate_R40': 52.43856451526816, 'Cyclist_image/hard_R40': 49.601107536672664}\n",
      "file: I-V_data_1.8um_length_50nm_diameter_BT_4V_NA_third_etch_20min_Pb_ED_3h_180C_MAI_no_200nm_Ag_memory_6V_carbon_paste_no_wait.xlsx, sigma: 0.11051303530682587, usability: 0.3279872460213791, evaluate-4\n"
     ]
    },
    {
     "name": "stderr",
     "output_type": "stream",
     "text": [
      "eval: 100%|█████████▉| 471/472 [03:22<00:00, 10.70it/s]2023-07-27 14:02:02,384   INFO  Average predicted number of objects(3769 samples): 18.401\n",
      "eval: 100%|██████████| 472/472 [03:37<00:00,  2.17it/s]\n"
     ]
    },
    {
     "name": "stdout",
     "output_type": "stream",
     "text": [
      "{'recall/roi_0.3': 0.0, 'recall/rcnn_0.3': 0.0, 'recall/roi_0.5': 0.0, 'recall/rcnn_0.5': 0.0, 'recall/roi_0.7': 0.0, 'recall/rcnn_0.7': 0.0, 'Car_aos/easy_R40': 95.21032467685251, 'Car_aos/moderate_R40': 88.6211175787466, 'Car_aos/hard_R40': 87.19854359996532, 'Car_3d/easy_R40': 85.54269264174886, 'Car_3d/moderate_R40': 72.50587619154729, 'Car_3d/hard_R40': 69.32491025120785, 'Car_bev/easy_R40': 91.85831637329271, 'Car_bev/moderate_R40': 85.1750742492218, 'Car_bev/hard_R40': 82.48303678676638, 'Car_image/easy_R40': 95.2418966576183, 'Car_image/moderate_R40': 88.9394588425298, 'Car_image/hard_R40': 87.73980838015501, 'Pedestrian_aos/easy_R40': 32.35299728566367, 'Pedestrian_aos/moderate_R40': 29.117144104598143, 'Pedestrian_aos/hard_R40': 26.455472160145344, 'Pedestrian_3d/easy_R40': 39.8502892336151, 'Pedestrian_3d/moderate_R40': 34.60990356287949, 'Pedestrian_3d/hard_R40': 30.76568279354713, 'Pedestrian_bev/easy_R40': 49.126991430384535, 'Pedestrian_bev/moderate_R40': 43.28592631613297, 'Pedestrian_bev/hard_R40': 39.037462825546285, 'Pedestrian_image/easy_R40': 50.137475620377984, 'Pedestrian_image/moderate_R40': 45.50556120976675, 'Pedestrian_image/hard_R40': 42.18521482692075, 'Cyclist_aos/easy_R40': 77.1987257750427, 'Cyclist_aos/moderate_R40': 59.266819119581335, 'Cyclist_aos/hard_R40': 56.46064372038207, 'Cyclist_3d/easy_R40': 70.70991990498989, 'Cyclist_3d/moderate_R40': 49.133832390402866, 'Cyclist_3d/hard_R40': 46.20211286817777, 'Cyclist_bev/easy_R40': 77.64075271189299, 'Cyclist_bev/moderate_R40': 55.34940497009166, 'Cyclist_bev/hard_R40': 51.96661268731981, 'Cyclist_image/easy_R40': 78.63308695272251, 'Cyclist_image/moderate_R40': 61.46929269689916, 'Cyclist_image/hard_R40': 58.54233171379395}\n",
      "file: I-V_data_1.8um_length_50nm_diameter_BT_4V_NA_third_etch_20min_Pb_ED_3h_180C_MAI_no_200nm_Ag_memory_6V_carbon_paste_no_wait.xlsx, sigma: 0.11051303530682587, usability: 0.3279872460213791, evaluate-5\n"
     ]
    },
    {
     "name": "stderr",
     "output_type": "stream",
     "text": [
      "eval: 100%|█████████▉| 471/472 [03:17<00:00, 12.00it/s]2023-07-27 14:05:35,334   INFO  Average predicted number of objects(3769 samples): 15.028\n",
      "eval: 100%|██████████| 472/472 [03:31<00:00,  2.23it/s]\n"
     ]
    },
    {
     "name": "stdout",
     "output_type": "stream",
     "text": [
      "{'recall/roi_0.3': 0.0, 'recall/rcnn_0.3': 0.0, 'recall/roi_0.5': 0.0, 'recall/rcnn_0.5': 0.0, 'recall/roi_0.7': 0.0, 'recall/rcnn_0.7': 0.0, 'Car_aos/easy_R40': 97.34053280051091, 'Car_aos/moderate_R40': 90.40667972432438, 'Car_aos/hard_R40': 87.48560222460225, 'Car_3d/easy_R40': 81.16863305809387, 'Car_3d/moderate_R40': 70.05980330324917, 'Car_3d/hard_R40': 66.10785667188621, 'Car_bev/easy_R40': 94.19577962566356, 'Car_bev/moderate_R40': 87.53226414457383, 'Car_bev/hard_R40': 84.62961293452913, 'Car_image/easy_R40': 97.37611060996659, 'Car_image/moderate_R40': 90.826882361734, 'Car_image/hard_R40': 88.09789968817228, 'Pedestrian_aos/easy_R40': 31.316253219273264, 'Pedestrian_aos/moderate_R40': 28.14320551042897, 'Pedestrian_aos/hard_R40': 26.448696362729407, 'Pedestrian_3d/easy_R40': 49.850657860029656, 'Pedestrian_3d/moderate_R40': 41.9158736235924, 'Pedestrian_3d/hard_R40': 37.04457959657626, 'Pedestrian_bev/easy_R40': 58.6499332420315, 'Pedestrian_bev/moderate_R40': 51.00679773125123, 'Pedestrian_bev/hard_R40': 46.39310229794493, 'Pedestrian_image/easy_R40': 51.15051887414064, 'Pedestrian_image/moderate_R40': 46.223126994563316, 'Pedestrian_image/hard_R40': 43.777698762422155, 'Cyclist_aos/easy_R40': 81.63882377429461, 'Cyclist_aos/moderate_R40': 62.75958482770269, 'Cyclist_aos/hard_R40': 59.64147134955729, 'Cyclist_3d/easy_R40': 72.33998656154259, 'Cyclist_3d/moderate_R40': 50.944550674219116, 'Cyclist_3d/hard_R40': 47.93950263747867, 'Cyclist_bev/easy_R40': 80.47468056633234, 'Cyclist_bev/moderate_R40': 58.30237701881447, 'Cyclist_bev/hard_R40': 54.875285948870086, 'Cyclist_image/easy_R40': 83.83930322261406, 'Cyclist_image/moderate_R40': 64.91490019649578, 'Cyclist_image/hard_R40': 61.84033842371005}\n",
      "file: I-V_data_1.8um_length_50nm_diameter_BT_4V_NA_third_etch_20min_Pb_ED_3h_180C_MAI_no_200nm_Ag_memory_6V_carbon_paste_no_wait.xlsx, sigma: 0.11051303530682587, usability: 0.3279872460213791, evaluate-6\n"
     ]
    },
    {
     "name": "stderr",
     "output_type": "stream",
     "text": [
      "eval: 100%|█████████▉| 471/472 [03:20<00:00, 12.31it/s]2023-07-27 14:09:10,878   INFO  Average predicted number of objects(3769 samples): 16.066\n",
      "eval: 100%|██████████| 472/472 [03:35<00:00,  2.19it/s]\n"
     ]
    },
    {
     "name": "stdout",
     "output_type": "stream",
     "text": [
      "{'recall/roi_0.3': 0.0, 'recall/rcnn_0.3': 0.0, 'recall/roi_0.5': 0.0, 'recall/rcnn_0.5': 0.0, 'recall/roi_0.7': 0.0, 'recall/rcnn_0.7': 0.0, 'Car_aos/easy_R40': 97.27239546334074, 'Car_aos/moderate_R40': 89.35735128143907, 'Car_aos/hard_R40': 88.20467958383483, 'Car_3d/easy_R40': 87.3179515590634, 'Car_3d/moderate_R40': 73.20041822679069, 'Car_3d/hard_R40': 70.02142506728143, 'Car_bev/easy_R40': 94.21025687727689, 'Car_bev/moderate_R40': 87.61705624104529, 'Car_bev/hard_R40': 85.08758083464181, 'Car_image/easy_R40': 97.30798858147752, 'Car_image/moderate_R40': 89.59886188869508, 'Car_image/hard_R40': 88.6539060374149, 'Pedestrian_aos/easy_R40': 31.452797369292934, 'Pedestrian_aos/moderate_R40': 28.234568604490068, 'Pedestrian_aos/hard_R40': 25.970970437421926, 'Pedestrian_3d/easy_R40': 35.029827861866345, 'Pedestrian_3d/moderate_R40': 29.973405181646733, 'Pedestrian_3d/hard_R40': 26.027948978825595, 'Pedestrian_bev/easy_R40': 58.43027697707173, 'Pedestrian_bev/moderate_R40': 49.922966202623684, 'Pedestrian_bev/hard_R40': 44.7403254161727, 'Pedestrian_image/easy_R40': 45.48707040823395, 'Pedestrian_image/moderate_R40': 41.10827275271153, 'Pedestrian_image/hard_R40': 38.41080407698314, 'Cyclist_aos/easy_R40': 72.77571592738335, 'Cyclist_aos/moderate_R40': 59.43994450909058, 'Cyclist_aos/hard_R40': 56.502796790236296, 'Cyclist_3d/easy_R40': 38.688971195868966, 'Cyclist_3d/moderate_R40': 30.08179073472802, 'Cyclist_3d/hard_R40': 28.119275449382496, 'Cyclist_bev/easy_R40': 80.30319012238243, 'Cyclist_bev/moderate_R40': 61.19677165975072, 'Cyclist_bev/hard_R40': 57.71815608028968, 'Cyclist_image/easy_R40': 74.05045397213833, 'Cyclist_image/moderate_R40': 61.65071176259873, 'Cyclist_image/hard_R40': 58.788231657022216}\n",
      "file: I-V_data_1.8um_length_50nm_diameter_BT_4V_NA_third_etch_20min_Pb_ED_3h_180C_MAI_no_200nm_Ag_memory_6V_carbon_paste_no_wait.xlsx, sigma: 0.11051303530682587, usability: 0.3279872460213791, evaluate-7\n"
     ]
    },
    {
     "name": "stderr",
     "output_type": "stream",
     "text": [
      "eval: 100%|█████████▉| 471/472 [03:18<00:00, 12.81it/s]2023-07-27 14:12:44,582   INFO  Average predicted number of objects(3769 samples): 20.937\n",
      "eval: 100%|██████████| 472/472 [03:34<00:00,  2.20it/s]\n"
     ]
    },
    {
     "name": "stdout",
     "output_type": "stream",
     "text": [
      "{'recall/roi_0.3': 0.0, 'recall/rcnn_0.3': 0.0, 'recall/roi_0.5': 0.0, 'recall/rcnn_0.5': 0.0, 'recall/roi_0.7': 0.0, 'recall/rcnn_0.7': 0.0, 'Car_aos/easy_R40': 95.0936897973351, 'Car_aos/moderate_R40': 87.22128324151693, 'Car_aos/hard_R40': 84.9991467332474, 'Car_3d/easy_R40': 80.95856591535299, 'Car_3d/moderate_R40': 66.11368009395332, 'Car_3d/hard_R40': 63.238812386575674, 'Car_bev/easy_R40': 91.90551340045735, 'Car_bev/moderate_R40': 85.14372616717453, 'Car_bev/hard_R40': 82.56825459306452, 'Car_image/easy_R40': 95.13035882309835, 'Car_image/moderate_R40': 87.47041829999183, 'Car_image/hard_R40': 85.41313241370347, 'Pedestrian_aos/easy_R40': 39.54084818741981, 'Pedestrian_aos/moderate_R40': 35.01585889622704, 'Pedestrian_aos/hard_R40': 32.02297936720066, 'Pedestrian_3d/easy_R40': 50.62679536237156, 'Pedestrian_3d/moderate_R40': 43.59791643934566, 'Pedestrian_3d/hard_R40': 38.450518644262914, 'Pedestrian_bev/easy_R40': 57.037080078433874, 'Pedestrian_bev/moderate_R40': 49.778481302475, 'Pedestrian_bev/hard_R40': 44.73031036609571, 'Pedestrian_image/easy_R40': 55.93512988865026, 'Pedestrian_image/moderate_R40': 49.94698144903423, 'Pedestrian_image/hard_R40': 46.33294850156175, 'Cyclist_aos/easy_R40': 79.7487607417499, 'Cyclist_aos/moderate_R40': 66.7678054348819, 'Cyclist_aos/hard_R40': 63.12917327744283, 'Cyclist_3d/easy_R40': 67.68112236721723, 'Cyclist_3d/moderate_R40': 53.776921883120885, 'Cyclist_3d/hard_R40': 50.51824685805245, 'Cyclist_bev/easy_R40': 76.0739191413095, 'Cyclist_bev/moderate_R40': 60.197190670736546, 'Cyclist_bev/hard_R40': 57.00965642712424, 'Cyclist_image/easy_R40': 81.1132617065595, 'Cyclist_image/moderate_R40': 69.38050718165994, 'Cyclist_image/hard_R40': 65.81939555239806}\n",
      "file: I-V_data_1.8um_length_50nm_diameter_BT_4V_NA_third_etch_20min_Pb_ED_3h_180C_MAI_no_200nm_Ag_memory_6V_carbon_paste_no_wait.xlsx, sigma: 0.11051303530682587, usability: 0.3279872460213791, evaluate-8\n"
     ]
    },
    {
     "name": "stderr",
     "output_type": "stream",
     "text": [
      "eval: 100%|█████████▉| 471/472 [03:23<00:00, 12.09it/s]2023-07-27 14:16:24,648   INFO  Average predicted number of objects(3769 samples): 19.013\n",
      "eval: 100%|██████████| 472/472 [03:38<00:00,  2.16it/s]\n"
     ]
    },
    {
     "name": "stdout",
     "output_type": "stream",
     "text": [
      "{'recall/roi_0.3': 0.0, 'recall/rcnn_0.3': 0.0, 'recall/roi_0.5': 0.0, 'recall/rcnn_0.5': 0.0, 'recall/roi_0.7': 0.0, 'recall/rcnn_0.7': 0.0, 'Car_aos/easy_R40': 95.29445043450255, 'Car_aos/moderate_R40': 86.9058619054233, 'Car_aos/hard_R40': 84.79497131917668, 'Car_3d/easy_R40': 74.02507221900109, 'Car_3d/moderate_R40': 61.4056790247657, 'Car_3d/hard_R40': 57.22847965204594, 'Car_bev/easy_R40': 91.77616486685672, 'Car_bev/moderate_R40': 84.60163694176448, 'Car_bev/hard_R40': 82.02563896450108, 'Car_image/easy_R40': 95.35175873568441, 'Car_image/moderate_R40': 87.13622942226297, 'Car_image/hard_R40': 85.19944956515315, 'Pedestrian_aos/easy_R40': 39.106536683376284, 'Pedestrian_aos/moderate_R40': 35.849650198973606, 'Pedestrian_aos/hard_R40': 33.36021512228014, 'Pedestrian_3d/easy_R40': 52.814558222101184, 'Pedestrian_3d/moderate_R40': 45.43891420396767, 'Pedestrian_3d/hard_R40': 40.397560959773465, 'Pedestrian_bev/easy_R40': 57.080580480203544, 'Pedestrian_bev/moderate_R40': 50.0818246508127, 'Pedestrian_bev/hard_R40': 45.083882249424825, 'Pedestrian_image/easy_R40': 58.28678150566152, 'Pedestrian_image/moderate_R40': 53.415934688871346, 'Pedestrian_image/hard_R40': 50.13157163132098, 'Cyclist_aos/easy_R40': 82.71948904565768, 'Cyclist_aos/moderate_R40': 64.60046454371758, 'Cyclist_aos/hard_R40': 61.66254576124936, 'Cyclist_3d/easy_R40': 77.43753246465637, 'Cyclist_3d/moderate_R40': 56.44919350247201, 'Cyclist_3d/hard_R40': 53.00154713935442, 'Cyclist_bev/easy_R40': 83.2668860946874, 'Cyclist_bev/moderate_R40': 62.28709707497813, 'Cyclist_bev/hard_R40': 58.81220419758192, 'Cyclist_image/easy_R40': 85.71038782235206, 'Cyclist_image/moderate_R40': 68.24442936808646, 'Cyclist_image/hard_R40': 65.2279784882343}\n",
      "file: I-V_data_1.8um_length_50nm_diameter_BT_4V_NA_third_etch_20min_Pb_ED_3h_180C_MAI_no_200nm_Ag_memory_6V_carbon_paste_no_wait.xlsx, sigma: 0.11051303530682587, usability: 0.3279872460213791, evaluate-9\n"
     ]
    },
    {
     "name": "stderr",
     "output_type": "stream",
     "text": [
      "eval: 100%|█████████▉| 471/472 [03:25<00:00, 11.76it/s]2023-07-27 14:20:06,049   INFO  Average predicted number of objects(3769 samples): 24.159\n",
      "eval: 100%|██████████| 472/472 [03:42<00:00,  2.12it/s]\n"
     ]
    },
    {
     "name": "stdout",
     "output_type": "stream",
     "text": [
      "{'recall/roi_0.3': 0.0, 'recall/rcnn_0.3': 0.0, 'recall/roi_0.5': 0.0, 'recall/rcnn_0.5': 0.0, 'recall/roi_0.7': 0.0, 'recall/rcnn_0.7': 0.0, 'Car_aos/easy_R40': 96.87427633680194, 'Car_aos/moderate_R40': 89.52483896505046, 'Car_aos/hard_R40': 86.56283224134566, 'Car_3d/easy_R40': 83.36704336385543, 'Car_3d/moderate_R40': 71.70572864781425, 'Car_3d/hard_R40': 67.07784786963818, 'Car_bev/easy_R40': 93.8062881162249, 'Car_bev/moderate_R40': 86.59160685227964, 'Car_bev/hard_R40': 83.81556608429163, 'Car_image/easy_R40': 96.94632467724446, 'Car_image/moderate_R40': 89.95421497902866, 'Car_image/hard_R40': 87.15001161986655, 'Pedestrian_aos/easy_R40': 28.356606334647044, 'Pedestrian_aos/moderate_R40': 24.501824522630542, 'Pedestrian_aos/hard_R40': 22.10888744095165, 'Pedestrian_3d/easy_R40': 30.664821173204444, 'Pedestrian_3d/moderate_R40': 25.94258369618142, 'Pedestrian_3d/hard_R40': 22.404019124115013, 'Pedestrian_bev/easy_R40': 50.294974725602934, 'Pedestrian_bev/moderate_R40': 42.56511052339634, 'Pedestrian_bev/hard_R40': 37.54014547297439, 'Pedestrian_image/easy_R40': 42.4194679754892, 'Pedestrian_image/moderate_R40': 37.28712010516545, 'Pedestrian_image/hard_R40': 33.72575821008109, 'Cyclist_aos/easy_R40': 68.2300435005314, 'Cyclist_aos/moderate_R40': 54.16590920546981, 'Cyclist_aos/hard_R40': 51.162590953270104, 'Cyclist_3d/easy_R40': 59.913235117502786, 'Cyclist_3d/moderate_R40': 45.95309579545058, 'Cyclist_3d/hard_R40': 43.09674938909565, 'Cyclist_bev/easy_R40': 68.62322533803624, 'Cyclist_bev/moderate_R40': 52.50679992339686, 'Cyclist_bev/hard_R40': 49.16802659979599, 'Cyclist_image/easy_R40': 69.52582335383617, 'Cyclist_image/moderate_R40': 56.387930894761126, 'Cyclist_image/hard_R40': 53.40141290393873}\n",
      "file: I-V_data_1.5um_length_200nm_diameter_BT_4V_NA_third_etch_15min_Pb_ED_3h_180C_MAI_no_200nm_Ag_memory_6V_carbon_paste_no_wait.xlsx, sigma: 0.11413417169899973, usability: 0.13617621818629255, evaluate-0\n"
     ]
    },
    {
     "name": "stderr",
     "output_type": "stream",
     "text": [
      "eval: 100%|█████████▉| 471/472 [03:23<00:00, 11.79it/s]2023-07-27 14:23:48,057   INFO  Average predicted number of objects(3769 samples): 21.035\n",
      "eval: 100%|██████████| 472/472 [03:39<00:00,  2.15it/s]\n"
     ]
    },
    {
     "name": "stdout",
     "output_type": "stream",
     "text": [
      "{'recall/roi_0.3': 0.0, 'recall/rcnn_0.3': 0.0, 'recall/roi_0.5': 0.0, 'recall/rcnn_0.5': 0.0, 'recall/roi_0.7': 0.0, 'recall/rcnn_0.7': 0.0, 'Car_aos/easy_R40': 95.42581476170616, 'Car_aos/moderate_R40': 88.72895387019449, 'Car_aos/hard_R40': 85.93529883578034, 'Car_3d/easy_R40': 86.64170436108994, 'Car_3d/moderate_R40': 73.32387077146349, 'Car_3d/hard_R40': 70.31733773462102, 'Car_bev/easy_R40': 92.28985001816238, 'Car_bev/moderate_R40': 85.6460591545128, 'Car_bev/hard_R40': 82.94147435287688, 'Car_image/easy_R40': 95.4687516748068, 'Car_image/moderate_R40': 88.95208387538396, 'Car_image/hard_R40': 86.28922786713454, 'Pedestrian_aos/easy_R40': 37.82698451951393, 'Pedestrian_aos/moderate_R40': 34.64257357206017, 'Pedestrian_aos/hard_R40': 32.28258248080467, 'Pedestrian_3d/easy_R40': 44.99492157231483, 'Pedestrian_3d/moderate_R40': 39.29457014122518, 'Pedestrian_3d/hard_R40': 34.90386991583754, 'Pedestrian_bev/easy_R40': 56.491509060994694, 'Pedestrian_bev/moderate_R40': 50.136673887848524, 'Pedestrian_bev/hard_R40': 45.99022980051032, 'Pedestrian_image/easy_R40': 57.88644470138631, 'Pedestrian_image/moderate_R40': 53.08273692275406, 'Pedestrian_image/hard_R40': 49.774323411337754, 'Cyclist_aos/easy_R40': 76.59018179030019, 'Cyclist_aos/moderate_R40': 60.89231647539657, 'Cyclist_aos/hard_R40': 57.383476277514504, 'Cyclist_3d/easy_R40': 65.45072317862954, 'Cyclist_3d/moderate_R40': 45.40371069579551, 'Cyclist_3d/hard_R40': 42.768170935935565, 'Cyclist_bev/easy_R40': 79.5519232819179, 'Cyclist_bev/moderate_R40': 59.5369951164284, 'Cyclist_bev/hard_R40': 56.352607089494036, 'Cyclist_image/easy_R40': 78.50841289080319, 'Cyclist_image/moderate_R40': 63.84504278945793, 'Cyclist_image/hard_R40': 60.27261396472168}\n",
      "file: I-V_data_1.5um_length_200nm_diameter_BT_4V_NA_third_etch_15min_Pb_ED_3h_180C_MAI_no_200nm_Ag_memory_6V_carbon_paste_no_wait.xlsx, sigma: 0.11413417169899973, usability: 0.13617621818629255, evaluate-1\n"
     ]
    },
    {
     "name": "stderr",
     "output_type": "stream",
     "text": [
      "eval: 100%|█████████▉| 471/472 [03:22<00:00, 12.03it/s]2023-07-27 14:27:28,108   INFO  Average predicted number of objects(3769 samples): 21.822\n",
      "eval: 100%|██████████| 472/472 [03:38<00:00,  2.16it/s]\n"
     ]
    },
    {
     "name": "stdout",
     "output_type": "stream",
     "text": [
      "{'recall/roi_0.3': 0.0, 'recall/rcnn_0.3': 0.0, 'recall/roi_0.5': 0.0, 'recall/rcnn_0.5': 0.0, 'recall/roi_0.7': 0.0, 'recall/rcnn_0.7': 0.0, 'Car_aos/easy_R40': 97.35370709670377, 'Car_aos/moderate_R40': 88.71356401700744, 'Car_aos/hard_R40': 86.82726351816301, 'Car_3d/easy_R40': 82.394594713861, 'Car_3d/moderate_R40': 69.79456592396389, 'Car_3d/hard_R40': 66.9372601652671, 'Car_bev/easy_R40': 94.15298075058143, 'Car_bev/moderate_R40': 85.45949111532565, 'Car_bev/hard_R40': 83.7943689203682, 'Car_image/easy_R40': 97.40850387467448, 'Car_image/moderate_R40': 88.92976846657203, 'Car_image/hard_R40': 87.23069569842717, 'Pedestrian_aos/easy_R40': 34.21255389296042, 'Pedestrian_aos/moderate_R40': 31.029567694039518, 'Pedestrian_aos/hard_R40': 28.884683573285518, 'Pedestrian_3d/easy_R40': 49.86726051596503, 'Pedestrian_3d/moderate_R40': 42.52402830777724, 'Pedestrian_3d/hard_R40': 37.7307195073048, 'Pedestrian_bev/easy_R40': 57.25588184355661, 'Pedestrian_bev/moderate_R40': 50.443626114104646, 'Pedestrian_bev/hard_R40': 45.8653618250297, 'Pedestrian_image/easy_R40': 51.63134039710797, 'Pedestrian_image/moderate_R40': 46.372710239351264, 'Pedestrian_image/hard_R40': 43.73298937709421, 'Cyclist_aos/easy_R40': 77.48304263003487, 'Cyclist_aos/moderate_R40': 61.430829555336395, 'Cyclist_aos/hard_R40': 58.25353223331729, 'Cyclist_3d/easy_R40': 66.41332270548604, 'Cyclist_3d/moderate_R40': 46.761118362919916, 'Cyclist_3d/hard_R40': 44.12926076307412, 'Cyclist_bev/easy_R40': 74.34497233190883, 'Cyclist_bev/moderate_R40': 56.01128212071451, 'Cyclist_bev/hard_R40': 52.76359863997121, 'Cyclist_image/easy_R40': 79.92932191374595, 'Cyclist_image/moderate_R40': 63.78211715299826, 'Cyclist_image/hard_R40': 60.71836099406648}\n",
      "file: I-V_data_1.5um_length_200nm_diameter_BT_4V_NA_third_etch_15min_Pb_ED_3h_180C_MAI_no_200nm_Ag_memory_6V_carbon_paste_no_wait.xlsx, sigma: 0.11413417169899973, usability: 0.13617621818629255, evaluate-2\n"
     ]
    },
    {
     "name": "stderr",
     "output_type": "stream",
     "text": [
      "eval: 100%|█████████▉| 471/472 [03:24<00:00, 12.86it/s]2023-07-27 14:31:14,816   INFO  Average predicted number of objects(3769 samples): 21.145\n",
      "eval: 100%|██████████| 472/472 [03:40<00:00,  2.14it/s]\n"
     ]
    },
    {
     "name": "stdout",
     "output_type": "stream",
     "text": [
      "{'recall/roi_0.3': 0.0, 'recall/rcnn_0.3': 0.0, 'recall/roi_0.5': 0.0, 'recall/rcnn_0.5': 0.0, 'recall/roi_0.7': 0.0, 'recall/rcnn_0.7': 0.0, 'Car_aos/easy_R40': 92.19299434287758, 'Car_aos/moderate_R40': 84.49123508813238, 'Car_aos/hard_R40': 81.5658270120801, 'Car_3d/easy_R40': 63.94856103441378, 'Car_3d/moderate_R40': 56.16466953264667, 'Car_3d/hard_R40': 52.56254632504359, 'Car_bev/easy_R40': 93.53635835269971, 'Car_bev/moderate_R40': 86.55139113403585, 'Car_bev/hard_R40': 84.13106147307579, 'Car_image/easy_R40': 92.25155811509813, 'Car_image/moderate_R40': 84.76310826039091, 'Car_image/hard_R40': 82.01660789873308, 'Pedestrian_aos/easy_R40': 33.56550309373847, 'Pedestrian_aos/moderate_R40': 29.846426333704933, 'Pedestrian_aos/hard_R40': 27.44922398132631, 'Pedestrian_3d/easy_R40': 52.58621800066925, 'Pedestrian_3d/moderate_R40': 45.429866368220296, 'Pedestrian_3d/hard_R40': 40.75730970772973, 'Pedestrian_bev/easy_R40': 58.03475236250335, 'Pedestrian_bev/moderate_R40': 50.94526459497368, 'Pedestrian_bev/hard_R40': 46.42363381443963, 'Pedestrian_image/easy_R40': 53.89465419193256, 'Pedestrian_image/moderate_R40': 48.18858382580132, 'Pedestrian_image/hard_R40': 44.79028301803436, 'Cyclist_aos/easy_R40': 76.72300413558976, 'Cyclist_aos/moderate_R40': 61.89866198234269, 'Cyclist_aos/hard_R40': 58.707831739067665, 'Cyclist_3d/easy_R40': 67.65768404340858, 'Cyclist_3d/moderate_R40': 49.97400939061971, 'Cyclist_3d/hard_R40': 47.02026001586838, 'Cyclist_bev/easy_R40': 76.45935792824582, 'Cyclist_bev/moderate_R40': 56.836587240806146, 'Cyclist_bev/hard_R40': 53.7678719507238, 'Cyclist_image/easy_R40': 78.41566982936341, 'Cyclist_image/moderate_R40': 64.46767822385999, 'Cyclist_image/hard_R40': 61.27582426728523}\n",
      "file: I-V_data_1.5um_length_200nm_diameter_BT_4V_NA_third_etch_15min_Pb_ED_3h_180C_MAI_no_200nm_Ag_memory_6V_carbon_paste_no_wait.xlsx, sigma: 0.11413417169899973, usability: 0.13617621818629255, evaluate-3\n"
     ]
    },
    {
     "name": "stderr",
     "output_type": "stream",
     "text": [
      "eval: 100%|█████████▉| 471/472 [03:27<00:00, 12.98it/s]2023-07-27 14:34:59,857   INFO  Average predicted number of objects(3769 samples): 21.946\n",
      "eval: 100%|██████████| 472/472 [03:43<00:00,  2.11it/s]\n"
     ]
    },
    {
     "name": "stdout",
     "output_type": "stream",
     "text": [
      "{'recall/roi_0.3': 0.0, 'recall/rcnn_0.3': 0.0, 'recall/roi_0.5': 0.0, 'recall/rcnn_0.5': 0.0, 'recall/roi_0.7': 0.0, 'recall/rcnn_0.7': 0.0, 'Car_aos/easy_R40': 96.9263987276608, 'Car_aos/moderate_R40': 89.66766839118733, 'Car_aos/hard_R40': 87.34879086323008, 'Car_3d/easy_R40': 85.49548701845725, 'Car_3d/moderate_R40': 72.32288983595096, 'Car_3d/hard_R40': 69.12661044264853, 'Car_bev/easy_R40': 92.88883989372168, 'Car_bev/moderate_R40': 85.15678606355131, 'Car_bev/hard_R40': 82.26645281816053, 'Car_image/easy_R40': 96.9813452032058, 'Car_image/moderate_R40': 89.97899187063254, 'Car_image/hard_R40': 87.8192043668213, 'Pedestrian_aos/easy_R40': 32.579519570036, 'Pedestrian_aos/moderate_R40': 29.323369550550964, 'Pedestrian_aos/hard_R40': 27.0611576520494, 'Pedestrian_3d/easy_R40': 48.57317957561767, 'Pedestrian_3d/moderate_R40': 40.99840509764571, 'Pedestrian_3d/hard_R40': 36.16491439445906, 'Pedestrian_bev/easy_R40': 53.731517794298, 'Pedestrian_bev/moderate_R40': 46.41809530690515, 'Pedestrian_bev/hard_R40': 41.77114867253847, 'Pedestrian_image/easy_R40': 51.970336753169754, 'Pedestrian_image/moderate_R40': 46.25588152806436, 'Pedestrian_image/hard_R40': 43.11252098531565, 'Cyclist_aos/easy_R40': 74.96822109081982, 'Cyclist_aos/moderate_R40': 58.305613141573055, 'Cyclist_aos/hard_R40': 55.36190396939512, 'Cyclist_3d/easy_R40': 69.06019927420428, 'Cyclist_3d/moderate_R40': 50.56454338538289, 'Cyclist_3d/hard_R40': 47.66216649550136, 'Cyclist_bev/easy_R40': 74.56583292765082, 'Cyclist_bev/moderate_R40': 55.26352333107077, 'Cyclist_bev/hard_R40': 52.00392018781387, 'Cyclist_image/easy_R40': 76.90089328959185, 'Cyclist_image/moderate_R40': 61.070831028296865, 'Cyclist_image/hard_R40': 58.03097110734923}\n",
      "file: I-V_data_1.5um_length_200nm_diameter_BT_4V_NA_third_etch_15min_Pb_ED_3h_180C_MAI_no_200nm_Ag_memory_6V_carbon_paste_no_wait.xlsx, sigma: 0.11413417169899973, usability: 0.13617621818629255, evaluate-4\n"
     ]
    },
    {
     "name": "stderr",
     "output_type": "stream",
     "text": [
      "eval: 100%|█████████▉| 471/472 [03:25<00:00, 11.44it/s]2023-07-27 14:38:43,950   INFO  Average predicted number of objects(3769 samples): 20.595\n",
      "eval: 100%|██████████| 472/472 [03:41<00:00,  2.13it/s]\n"
     ]
    },
    {
     "name": "stdout",
     "output_type": "stream",
     "text": [
      "{'recall/roi_0.3': 0.0, 'recall/rcnn_0.3': 0.0, 'recall/roi_0.5': 0.0, 'recall/rcnn_0.5': 0.0, 'recall/roi_0.7': 0.0, 'recall/rcnn_0.7': 0.0, 'Car_aos/easy_R40': 96.21549268230736, 'Car_aos/moderate_R40': 89.05511451702134, 'Car_aos/hard_R40': 86.44406001876901, 'Car_3d/easy_R40': 81.21809149983386, 'Car_3d/moderate_R40': 68.90811366141463, 'Car_3d/hard_R40': 65.72053146526258, 'Car_bev/easy_R40': 92.75814545234236, 'Car_bev/moderate_R40': 85.78044079704374, 'Car_bev/hard_R40': 83.3332433976782, 'Car_image/easy_R40': 96.28402913156113, 'Car_image/moderate_R40': 89.45219439613851, 'Car_image/hard_R40': 87.08915371615453, 'Pedestrian_aos/easy_R40': 15.08550771848705, 'Pedestrian_aos/moderate_R40': 14.159812086494828, 'Pedestrian_aos/hard_R40': 13.053411536340901, 'Pedestrian_3d/easy_R40': 21.431965801453494, 'Pedestrian_3d/moderate_R40': 18.027439687579104, 'Pedestrian_3d/hard_R40': 15.490948630908944, 'Pedestrian_bev/easy_R40': 54.986792372194145, 'Pedestrian_bev/moderate_R40': 47.876896505971054, 'Pedestrian_bev/hard_R40': 42.94279120366035, 'Pedestrian_image/easy_R40': 23.453223500753335, 'Pedestrian_image/moderate_R40': 21.856629892655377, 'Pedestrian_image/hard_R40': 20.491488930804437, 'Cyclist_aos/easy_R40': 75.90865924352659, 'Cyclist_aos/moderate_R40': 59.76272798366228, 'Cyclist_aos/hard_R40': 56.78273162653389, 'Cyclist_3d/easy_R40': 70.14468675411646, 'Cyclist_3d/moderate_R40': 51.58291481424755, 'Cyclist_3d/hard_R40': 48.29750927426058, 'Cyclist_bev/easy_R40': 75.13160432485996, 'Cyclist_bev/moderate_R40': 56.61330982287134, 'Cyclist_bev/hard_R40': 53.302425394424056, 'Cyclist_image/easy_R40': 77.23205950591712, 'Cyclist_image/moderate_R40': 61.851068698736015, 'Cyclist_image/hard_R40': 59.018420911793214}\n",
      "file: I-V_data_1.5um_length_200nm_diameter_BT_4V_NA_third_etch_15min_Pb_ED_3h_180C_MAI_no_200nm_Ag_memory_6V_carbon_paste_no_wait.xlsx, sigma: 0.11413417169899973, usability: 0.13617621818629255, evaluate-5\n"
     ]
    },
    {
     "name": "stderr",
     "output_type": "stream",
     "text": [
      "eval: 100%|█████████▉| 471/472 [03:25<00:00, 11.87it/s]2023-07-27 14:42:27,581   INFO  Average predicted number of objects(3769 samples): 24.587\n",
      "eval: 100%|██████████| 472/472 [03:42<00:00,  2.12it/s]\n"
     ]
    },
    {
     "name": "stdout",
     "output_type": "stream",
     "text": [
      "{'recall/roi_0.3': 0.0, 'recall/rcnn_0.3': 0.0, 'recall/roi_0.5': 0.0, 'recall/rcnn_0.5': 0.0, 'recall/roi_0.7': 0.0, 'recall/rcnn_0.7': 0.0, 'Car_aos/easy_R40': 95.09696281908286, 'Car_aos/moderate_R40': 87.73441443175706, 'Car_aos/hard_R40': 84.99906513050468, 'Car_3d/easy_R40': 84.24703789182993, 'Car_3d/moderate_R40': 69.78599517757648, 'Car_3d/hard_R40': 65.12882763165044, 'Car_bev/easy_R40': 91.87575986512645, 'Car_bev/moderate_R40': 84.48267779919425, 'Car_bev/hard_R40': 81.66257772083213, 'Car_image/easy_R40': 95.19232558795481, 'Car_image/moderate_R40': 88.05924240724158, 'Car_image/hard_R40': 85.46156825810101, 'Pedestrian_aos/easy_R40': 29.310655729979267, 'Pedestrian_aos/moderate_R40': 24.171389086040357, 'Pedestrian_aos/hard_R40': 22.083899264691233, 'Pedestrian_3d/easy_R40': 29.47650200571112, 'Pedestrian_3d/moderate_R40': 22.36544329288442, 'Pedestrian_3d/hard_R40': 19.29671548256465, 'Pedestrian_bev/easy_R40': 35.476783342442545, 'Pedestrian_bev/moderate_R40': 28.248662769732324, 'Pedestrian_bev/hard_R40': 24.98203932116899, 'Pedestrian_image/easy_R40': 42.54539925624595, 'Pedestrian_image/moderate_R40': 35.13059576438792, 'Pedestrian_image/hard_R40': 32.062237130607784, 'Cyclist_aos/easy_R40': 69.84986389492511, 'Cyclist_aos/moderate_R40': 56.642675235236105, 'Cyclist_aos/hard_R40': 53.9081420454793, 'Cyclist_3d/easy_R40': 64.80001850179312, 'Cyclist_3d/moderate_R40': 47.85044806902247, 'Cyclist_3d/hard_R40': 44.98679041072226, 'Cyclist_bev/easy_R40': 70.10903354355014, 'Cyclist_bev/moderate_R40': 52.441280463822125, 'Cyclist_bev/hard_R40': 49.31623728589973, 'Cyclist_image/easy_R40': 71.68201840416309, 'Cyclist_image/moderate_R40': 58.73486594429641, 'Cyclist_image/hard_R40': 56.088843962079096}\n",
      "file: I-V_data_1.5um_length_200nm_diameter_BT_4V_NA_third_etch_15min_Pb_ED_3h_180C_MAI_no_200nm_Ag_memory_6V_carbon_paste_no_wait.xlsx, sigma: 0.11413417169899973, usability: 0.13617621818629255, evaluate-6\n"
     ]
    },
    {
     "name": "stderr",
     "output_type": "stream",
     "text": [
      "eval: 100%|█████████▉| 471/472 [03:22<00:00, 12.99it/s]2023-07-27 14:46:09,448   INFO  Average predicted number of objects(3769 samples): 17.019\n",
      "eval: 100%|██████████| 472/472 [03:37<00:00,  2.17it/s]\n"
     ]
    },
    {
     "name": "stdout",
     "output_type": "stream",
     "text": [
      "{'recall/roi_0.3': 0.0, 'recall/rcnn_0.3': 0.0, 'recall/roi_0.5': 0.0, 'recall/rcnn_0.5': 0.0, 'recall/roi_0.7': 0.0, 'recall/rcnn_0.7': 0.0, 'Car_aos/easy_R40': 96.26548239423677, 'Car_aos/moderate_R40': 88.18019743037901, 'Car_aos/hard_R40': 85.10687554011571, 'Car_3d/easy_R40': 78.25557652098458, 'Car_3d/moderate_R40': 67.42036050957925, 'Car_3d/hard_R40': 63.165084880882794, 'Car_bev/easy_R40': 93.3451674938037, 'Car_bev/moderate_R40': 85.22157313536202, 'Car_bev/hard_R40': 83.85484992846374, 'Car_image/easy_R40': 96.2890238722779, 'Car_image/moderate_R40': 88.38812550843438, 'Car_image/hard_R40': 85.50323099047445, 'Pedestrian_aos/easy_R40': 27.84520039196768, 'Pedestrian_aos/moderate_R40': 25.010824805337833, 'Pedestrian_aos/hard_R40': 23.246994315605853, 'Pedestrian_3d/easy_R40': 41.30359511076471, 'Pedestrian_3d/moderate_R40': 35.58843834746964, 'Pedestrian_3d/hard_R40': 31.449518542570054, 'Pedestrian_bev/easy_R40': 57.49286156919735, 'Pedestrian_bev/moderate_R40': 50.750704273810165, 'Pedestrian_bev/hard_R40': 46.29678069482794, 'Pedestrian_image/easy_R40': 41.2816599328062, 'Pedestrian_image/moderate_R40': 37.4355204173692, 'Pedestrian_image/hard_R40': 35.31645842926025, 'Cyclist_aos/easy_R40': 79.13896701818155, 'Cyclist_aos/moderate_R40': 61.47046930476888, 'Cyclist_aos/hard_R40': 58.461843742878884, 'Cyclist_3d/easy_R40': 64.13768205286843, 'Cyclist_3d/moderate_R40': 45.91295478037644, 'Cyclist_3d/hard_R40': 43.228978594900305, 'Cyclist_bev/easy_R40': 79.44973392014462, 'Cyclist_bev/moderate_R40': 59.662296121022116, 'Cyclist_bev/hard_R40': 56.25187725646913, 'Cyclist_image/easy_R40': 81.0829175190098, 'Cyclist_image/moderate_R40': 64.71792188792203, 'Cyclist_image/hard_R40': 61.66112766673588}\n",
      "file: I-V_data_1.5um_length_200nm_diameter_BT_4V_NA_third_etch_15min_Pb_ED_3h_180C_MAI_no_200nm_Ag_memory_6V_carbon_paste_no_wait.xlsx, sigma: 0.11413417169899973, usability: 0.13617621818629255, evaluate-7\n"
     ]
    },
    {
     "name": "stderr",
     "output_type": "stream",
     "text": [
      "eval: 100%|█████████▉| 471/472 [03:22<00:00, 12.25it/s]2023-07-27 14:49:49,011   INFO  Average predicted number of objects(3769 samples): 16.228\n",
      "eval: 100%|██████████| 472/472 [03:37<00:00,  2.17it/s]\n"
     ]
    },
    {
     "name": "stdout",
     "output_type": "stream",
     "text": [
      "{'recall/roi_0.3': 0.0, 'recall/rcnn_0.3': 0.0, 'recall/roi_0.5': 0.0, 'recall/rcnn_0.5': 0.0, 'recall/roi_0.7': 0.0, 'recall/rcnn_0.7': 0.0, 'Car_aos/easy_R40': 95.57134884807166, 'Car_aos/moderate_R40': 85.97944754686863, 'Car_aos/hard_R40': 84.21582151578019, 'Car_3d/easy_R40': 78.84367356513438, 'Car_3d/moderate_R40': 65.58535002142868, 'Car_3d/hard_R40': 61.080325888716516, 'Car_bev/easy_R40': 92.79423371151611, 'Car_bev/moderate_R40': 85.91084996293084, 'Car_bev/hard_R40': 84.4865981687029, 'Car_image/easy_R40': 95.62795216069331, 'Car_image/moderate_R40': 86.31118589005192, 'Car_image/hard_R40': 84.78690158670116, 'Pedestrian_aos/easy_R40': 37.88847009918215, 'Pedestrian_aos/moderate_R40': 33.634764466792106, 'Pedestrian_aos/hard_R40': 31.692863825489137, 'Pedestrian_3d/easy_R40': 45.443570688363295, 'Pedestrian_3d/moderate_R40': 39.200170875232345, 'Pedestrian_3d/hard_R40': 34.94684207855407, 'Pedestrian_bev/easy_R40': 56.8555987827135, 'Pedestrian_bev/moderate_R40': 49.37359184046155, 'Pedestrian_bev/hard_R40': 45.04211553451587, 'Pedestrian_image/easy_R40': 56.47331403117332, 'Pedestrian_image/moderate_R40': 51.507086791551075, 'Pedestrian_image/hard_R40': 49.007856259073314, 'Cyclist_aos/easy_R40': 78.01602773446461, 'Cyclist_aos/moderate_R40': 63.21039191751714, 'Cyclist_aos/hard_R40': 60.185366739156656, 'Cyclist_3d/easy_R40': 60.990639064150486, 'Cyclist_3d/moderate_R40': 43.462944951877745, 'Cyclist_3d/hard_R40': 40.7462688906307, 'Cyclist_bev/easy_R40': 82.89782368785342, 'Cyclist_bev/moderate_R40': 62.15674484425454, 'Cyclist_bev/hard_R40': 58.95189971824213, 'Cyclist_image/easy_R40': 79.28062331731228, 'Cyclist_image/moderate_R40': 65.59553417296698, 'Cyclist_image/hard_R40': 62.69118221730897}\n",
      "file: I-V_data_1.5um_length_200nm_diameter_BT_4V_NA_third_etch_15min_Pb_ED_3h_180C_MAI_no_200nm_Ag_memory_6V_carbon_paste_no_wait.xlsx, sigma: 0.11413417169899973, usability: 0.13617621818629255, evaluate-8\n"
     ]
    },
    {
     "name": "stderr",
     "output_type": "stream",
     "text": [
      "eval: 100%|█████████▉| 471/472 [03:16<00:00, 12.70it/s]2023-07-27 14:53:21,704   INFO  Average predicted number of objects(3769 samples): 20.448\n",
      "eval: 100%|██████████| 472/472 [03:32<00:00,  2.22it/s]\n"
     ]
    },
    {
     "name": "stdout",
     "output_type": "stream",
     "text": [
      "{'recall/roi_0.3': 0.0, 'recall/rcnn_0.3': 0.0, 'recall/roi_0.5': 0.0, 'recall/rcnn_0.5': 0.0, 'recall/roi_0.7': 0.0, 'recall/rcnn_0.7': 0.0, 'Car_aos/easy_R40': 96.96097548800842, 'Car_aos/moderate_R40': 88.53035747432556, 'Car_aos/hard_R40': 85.2263173704256, 'Car_3d/easy_R40': 82.83459567510221, 'Car_3d/moderate_R40': 69.44039529706201, 'Car_3d/hard_R40': 64.67515846457945, 'Car_bev/easy_R40': 93.26423598186325, 'Car_bev/moderate_R40': 85.17489212207238, 'Car_bev/hard_R40': 82.14365150452213, 'Car_image/easy_R40': 96.99829435183848, 'Car_image/moderate_R40': 88.76148881640233, 'Car_image/hard_R40': 85.58083444628325, 'Pedestrian_aos/easy_R40': 26.099742805387056, 'Pedestrian_aos/moderate_R40': 23.192901362323916, 'Pedestrian_aos/hard_R40': 21.593067297901385, 'Pedestrian_3d/easy_R40': 28.198017975848366, 'Pedestrian_3d/moderate_R40': 24.051643795393456, 'Pedestrian_3d/hard_R40': 21.727868370744503, 'Pedestrian_bev/easy_R40': 58.7680980410074, 'Pedestrian_bev/moderate_R40': 51.55643871589455, 'Pedestrian_bev/hard_R40': 47.22516318603941, 'Pedestrian_image/easy_R40': 37.40409621434186, 'Pedestrian_image/moderate_R40': 33.4612161778319, 'Pedestrian_image/hard_R40': 31.501888966990137, 'Cyclist_aos/easy_R40': 80.8423826805111, 'Cyclist_aos/moderate_R40': 65.87646524107682, 'Cyclist_aos/hard_R40': 62.04006623809176, 'Cyclist_3d/easy_R40': 68.54454690185901, 'Cyclist_3d/moderate_R40': 49.52682445992849, 'Cyclist_3d/hard_R40': 46.71169603467945, 'Cyclist_bev/easy_R40': 81.41704456751734, 'Cyclist_bev/moderate_R40': 60.485630605231044, 'Cyclist_bev/hard_R40': 56.95960389103948, 'Cyclist_image/easy_R40': 83.17795637724895, 'Cyclist_image/moderate_R40': 69.06408837026726, 'Cyclist_image/hard_R40': 65.43727701319091}\n",
      "file: I-V_data_1.5um_length_200nm_diameter_BT_4V_NA_third_etch_15min_Pb_ED_3h_180C_MAI_no_200nm_Ag_memory_6V_carbon_paste_no_wait.xlsx, sigma: 0.11413417169899973, usability: 0.13617621818629255, evaluate-9\n"
     ]
    },
    {
     "name": "stderr",
     "output_type": "stream",
     "text": [
      "eval: 100%|█████████▉| 471/472 [03:16<00:00, 11.29it/s]2023-07-27 14:56:55,573   INFO  Average predicted number of objects(3769 samples): 23.017\n",
      "eval: 100%|██████████| 472/472 [03:33<00:00,  2.21it/s]\n"
     ]
    },
    {
     "name": "stdout",
     "output_type": "stream",
     "text": [
      "{'recall/roi_0.3': 0.0, 'recall/rcnn_0.3': 0.0, 'recall/roi_0.5': 0.0, 'recall/rcnn_0.5': 0.0, 'recall/roi_0.7': 0.0, 'recall/rcnn_0.7': 0.0, 'Car_aos/easy_R40': 95.07483419299412, 'Car_aos/moderate_R40': 88.06397841119409, 'Car_aos/hard_R40': 84.82199699509036, 'Car_3d/easy_R40': 84.81816137257226, 'Car_3d/moderate_R40': 70.78619203427425, 'Car_3d/hard_R40': 67.5338819926258, 'Car_bev/easy_R40': 91.94674606223727, 'Car_bev/moderate_R40': 84.99669412343567, 'Car_bev/hard_R40': 81.79831769052711, 'Car_image/easy_R40': 95.14656343014384, 'Car_image/moderate_R40': 88.4648068465365, 'Car_image/hard_R40': 85.42940228618036, 'Pedestrian_aos/easy_R40': 31.866015446276506, 'Pedestrian_aos/moderate_R40': 26.787183484292427, 'Pedestrian_aos/hard_R40': 23.79675554630652, 'Pedestrian_3d/easy_R40': 33.46386228437267, 'Pedestrian_3d/moderate_R40': 27.03398135076952, 'Pedestrian_3d/hard_R40': 23.106286636459018, 'Pedestrian_bev/easy_R40': 41.0588194762986, 'Pedestrian_bev/moderate_R40': 33.822275849466216, 'Pedestrian_bev/hard_R40': 29.694632016606036, 'Pedestrian_image/easy_R40': 42.59816739108733, 'Pedestrian_image/moderate_R40': 36.2720261660219, 'Pedestrian_image/hard_R40': 32.77721758963753, 'Cyclist_aos/easy_R40': 71.98254691579311, 'Cyclist_aos/moderate_R40': 56.76054328727987, 'Cyclist_aos/hard_R40': 53.719900708103, 'Cyclist_3d/easy_R40': 68.20475498759497, 'Cyclist_3d/moderate_R40': 51.35781771484481, 'Cyclist_3d/hard_R40': 48.28623202364912, 'Cyclist_bev/easy_R40': 70.51770099575954, 'Cyclist_bev/moderate_R40': 54.29793042106782, 'Cyclist_bev/hard_R40': 50.866480224906816, 'Cyclist_image/easy_R40': 73.54619834493602, 'Cyclist_image/moderate_R40': 59.32305734617911, 'Cyclist_image/hard_R40': 56.267595969112435}\n",
      "file: I-V_data_1.5um_length_200nm_diameter_BT_2V_NA_third_etch_15min_Pb_ED_3h_180C_MAI_no_200nm_Ag_memory_6V_carbon_paste_no_wait.xlsx, sigma: 0.1279357252476451, usability: 0.25912426563260615, evaluate-0\n"
     ]
    },
    {
     "name": "stderr",
     "output_type": "stream",
     "text": [
      "eval: 100%|█████████▉| 471/472 [03:18<00:00, 12.67it/s]2023-07-27 15:00:32,133   INFO  Average predicted number of objects(3769 samples): 22.244\n",
      "eval: 100%|██████████| 472/472 [03:34<00:00,  2.20it/s]\n"
     ]
    },
    {
     "name": "stdout",
     "output_type": "stream",
     "text": [
      "{'recall/roi_0.3': 0.0, 'recall/rcnn_0.3': 0.0, 'recall/roi_0.5': 0.0, 'recall/rcnn_0.5': 0.0, 'recall/roi_0.7': 0.0, 'recall/rcnn_0.7': 0.0, 'Car_aos/easy_R40': 95.22747122097279, 'Car_aos/moderate_R40': 88.77579488347016, 'Car_aos/hard_R40': 87.18846163010127, 'Car_3d/easy_R40': 84.42172738035279, 'Car_3d/moderate_R40': 72.063779707622, 'Car_3d/hard_R40': 67.72324920235371, 'Car_bev/easy_R40': 92.12300643874428, 'Car_bev/moderate_R40': 85.65982165424735, 'Car_bev/hard_R40': 84.20420586307303, 'Car_image/easy_R40': 95.25281767389097, 'Car_image/moderate_R40': 89.01490949778194, 'Car_image/hard_R40': 87.60235776147886, 'Pedestrian_aos/easy_R40': 33.93634703162606, 'Pedestrian_aos/moderate_R40': 29.715421226022322, 'Pedestrian_aos/hard_R40': 27.600862079270243, 'Pedestrian_3d/easy_R40': 45.05599874581255, 'Pedestrian_3d/moderate_R40': 37.66492756005457, 'Pedestrian_3d/hard_R40': 33.32706201477949, 'Pedestrian_bev/easy_R40': 59.15309479986095, 'Pedestrian_bev/moderate_R40': 51.370945900169964, 'Pedestrian_bev/hard_R40': 46.95317229939116, 'Pedestrian_image/easy_R40': 48.53769446241459, 'Pedestrian_image/moderate_R40': 42.531013856884634, 'Pedestrian_image/hard_R40': 39.791069302429335, 'Cyclist_aos/easy_R40': 82.557888899373, 'Cyclist_aos/moderate_R40': 66.74780395226729, 'Cyclist_aos/hard_R40': 63.242267397100036, 'Cyclist_3d/easy_R40': 71.52567457392924, 'Cyclist_3d/moderate_R40': 52.15236372601952, 'Cyclist_3d/hard_R40': 49.313383794056804, 'Cyclist_bev/easy_R40': 79.23950009260317, 'Cyclist_bev/moderate_R40': 59.530977884912694, 'Cyclist_bev/hard_R40': 56.098185075666116, 'Cyclist_image/easy_R40': 84.12260227990164, 'Cyclist_image/moderate_R40': 69.17219843640345, 'Cyclist_image/hard_R40': 65.76510958424528}\n",
      "file: I-V_data_1.5um_length_200nm_diameter_BT_2V_NA_third_etch_15min_Pb_ED_3h_180C_MAI_no_200nm_Ag_memory_6V_carbon_paste_no_wait.xlsx, sigma: 0.1279357252476451, usability: 0.25912426563260615, evaluate-1\n"
     ]
    },
    {
     "name": "stderr",
     "output_type": "stream",
     "text": [
      "eval: 100%|█████████▉| 471/472 [03:23<00:00, 10.82it/s]2023-07-27 15:04:13,981   INFO  Average predicted number of objects(3769 samples): 22.289\n",
      "eval: 100%|██████████| 472/472 [03:40<00:00,  2.14it/s]\n"
     ]
    },
    {
     "name": "stdout",
     "output_type": "stream",
     "text": [
      "{'recall/roi_0.3': 0.0, 'recall/rcnn_0.3': 0.0, 'recall/roi_0.5': 0.0, 'recall/rcnn_0.5': 0.0, 'recall/roi_0.7': 0.0, 'recall/rcnn_0.7': 0.0, 'Car_aos/easy_R40': 96.817888500074, 'Car_aos/moderate_R40': 88.70711649254956, 'Car_aos/hard_R40': 87.29334279609239, 'Car_3d/easy_R40': 82.89218412027353, 'Car_3d/moderate_R40': 71.46062560571443, 'Car_3d/hard_R40': 68.07158160127241, 'Car_bev/easy_R40': 93.76964761456288, 'Car_bev/moderate_R40': 87.26610930112237, 'Car_bev/hard_R40': 84.47868366764342, 'Car_image/easy_R40': 96.86481310750081, 'Car_image/moderate_R40': 88.93195101056051, 'Car_image/hard_R40': 87.70145522260944, 'Pedestrian_aos/easy_R40': 42.90865355312644, 'Pedestrian_aos/moderate_R40': 39.2075199833961, 'Pedestrian_aos/hard_R40': 36.60463534010527, 'Pedestrian_3d/easy_R40': 45.06569293369655, 'Pedestrian_3d/moderate_R40': 38.230852578620365, 'Pedestrian_3d/hard_R40': 33.848161191790474, 'Pedestrian_bev/easy_R40': 54.6060899660534, 'Pedestrian_bev/moderate_R40': 48.1308975141023, 'Pedestrian_bev/hard_R40': 43.51451745869095, 'Pedestrian_image/easy_R40': 57.39613093479493, 'Pedestrian_image/moderate_R40': 52.46534484889857, 'Pedestrian_image/hard_R40': 49.35500778449155, 'Cyclist_aos/easy_R40': 66.36871738884109, 'Cyclist_aos/moderate_R40': 52.00049263144451, 'Cyclist_aos/hard_R40': 48.977843028206195, 'Cyclist_3d/easy_R40': 44.40687731835714, 'Cyclist_3d/moderate_R40': 34.11668771443696, 'Cyclist_3d/hard_R40': 31.614532997855537, 'Cyclist_bev/easy_R40': 78.71514085161031, 'Cyclist_bev/moderate_R40': 58.17769465649106, 'Cyclist_bev/hard_R40': 54.77299014436699, 'Cyclist_image/easy_R40': 68.28369338426594, 'Cyclist_image/moderate_R40': 54.85560231983379, 'Cyclist_image/hard_R40': 51.92634611308824}\n",
      "file: I-V_data_1.5um_length_200nm_diameter_BT_2V_NA_third_etch_15min_Pb_ED_3h_180C_MAI_no_200nm_Ag_memory_6V_carbon_paste_no_wait.xlsx, sigma: 0.1279357252476451, usability: 0.25912426563260615, evaluate-2\n"
     ]
    },
    {
     "name": "stderr",
     "output_type": "stream",
     "text": [
      "eval: 100%|█████████▉| 471/472 [03:16<00:00, 12.34it/s]2023-07-27 15:07:48,708   INFO  Average predicted number of objects(3769 samples): 18.863\n",
      "eval: 100%|██████████| 472/472 [03:31<00:00,  2.23it/s]\n"
     ]
    },
    {
     "name": "stdout",
     "output_type": "stream",
     "text": [
      "{'recall/roi_0.3': 0.0, 'recall/rcnn_0.3': 0.0, 'recall/roi_0.5': 0.0, 'recall/rcnn_0.5': 0.0, 'recall/roi_0.7': 0.0, 'recall/rcnn_0.7': 0.0, 'Car_aos/easy_R40': 96.77944328063091, 'Car_aos/moderate_R40': 88.19989761643453, 'Car_aos/hard_R40': 86.70069899296988, 'Car_3d/easy_R40': 84.69537729393508, 'Car_3d/moderate_R40': 71.94494498227392, 'Car_3d/hard_R40': 68.88817232844522, 'Car_bev/easy_R40': 94.01455759573987, 'Car_bev/moderate_R40': 85.37443737510779, 'Car_bev/hard_R40': 84.23709191811136, 'Car_image/easy_R40': 96.8312950172604, 'Car_image/moderate_R40': 88.69266017503165, 'Car_image/hard_R40': 87.51472501804652, 'Pedestrian_aos/easy_R40': 29.679991998992143, 'Pedestrian_aos/moderate_R40': 26.575047125500685, 'Pedestrian_aos/hard_R40': 24.5624950415004, 'Pedestrian_3d/easy_R40': 42.68469277681598, 'Pedestrian_3d/moderate_R40': 35.76604202103337, 'Pedestrian_3d/hard_R40': 31.516334270127576, 'Pedestrian_bev/easy_R40': 53.642843069522094, 'Pedestrian_bev/moderate_R40': 46.86744588405855, 'Pedestrian_bev/hard_R40': 42.22990436587173, 'Pedestrian_image/easy_R40': 47.223816928222604, 'Pedestrian_image/moderate_R40': 42.41540499532259, 'Pedestrian_image/hard_R40': 39.794391296188216, 'Cyclist_aos/easy_R40': 35.50256902236896, 'Cyclist_aos/moderate_R40': 32.274596064147296, 'Cyclist_aos/hard_R40': 30.646562606122234, 'Cyclist_3d/easy_R40': 8.06160749162021, 'Cyclist_3d/moderate_R40': 7.7748287375193, 'Cyclist_3d/hard_R40': 7.387028901718437, 'Cyclist_bev/easy_R40': 76.9037683389022, 'Cyclist_bev/moderate_R40': 58.62456864290348, 'Cyclist_bev/hard_R40': 55.22607516311104, 'Cyclist_image/easy_R40': 35.95744292977532, 'Cyclist_image/moderate_R40': 33.20747614186922, 'Cyclist_image/hard_R40': 31.55022952543467}\n",
      "file: I-V_data_1.5um_length_200nm_diameter_BT_2V_NA_third_etch_15min_Pb_ED_3h_180C_MAI_no_200nm_Ag_memory_6V_carbon_paste_no_wait.xlsx, sigma: 0.1279357252476451, usability: 0.25912426563260615, evaluate-3\n"
     ]
    },
    {
     "name": "stderr",
     "output_type": "stream",
     "text": [
      "eval: 100%|█████████▉| 471/472 [03:16<00:00, 12.17it/s]2023-07-27 15:11:22,890   INFO  Average predicted number of objects(3769 samples): 21.217\n",
      "eval: 100%|██████████| 472/472 [03:32<00:00,  2.22it/s]\n"
     ]
    },
    {
     "name": "stdout",
     "output_type": "stream",
     "text": [
      "{'recall/roi_0.3': 0.0, 'recall/rcnn_0.3': 0.0, 'recall/roi_0.5': 0.0, 'recall/rcnn_0.5': 0.0, 'recall/roi_0.7': 0.0, 'recall/rcnn_0.7': 0.0, 'Car_aos/easy_R40': 97.12504498790162, 'Car_aos/moderate_R40': 88.78487655310727, 'Car_aos/hard_R40': 87.13548673926599, 'Car_3d/easy_R40': 84.904383314173, 'Car_3d/moderate_R40': 71.86439906004017, 'Car_3d/hard_R40': 67.38864728523606, 'Car_bev/easy_R40': 94.03137535355674, 'Car_bev/moderate_R40': 86.96638387750536, 'Car_bev/hard_R40': 84.1531783218065, 'Car_image/easy_R40': 97.14649773822866, 'Car_image/moderate_R40': 89.07367814974066, 'Car_image/hard_R40': 87.62005357039561, 'Pedestrian_aos/easy_R40': 25.230979676421672, 'Pedestrian_aos/moderate_R40': 23.19179705390059, 'Pedestrian_aos/hard_R40': 22.065556757017575, 'Pedestrian_3d/easy_R40': 31.810389785880783, 'Pedestrian_3d/moderate_R40': 27.32617467193873, 'Pedestrian_3d/hard_R40': 23.870923987758992, 'Pedestrian_bev/easy_R40': 56.35152274659856, 'Pedestrian_bev/moderate_R40': 49.76340329694809, 'Pedestrian_bev/hard_R40': 45.65352707525324, 'Pedestrian_image/easy_R40': 36.485011665794396, 'Pedestrian_image/moderate_R40': 34.01216606005423, 'Pedestrian_image/hard_R40': 32.227004617573385, 'Cyclist_aos/easy_R40': 81.88141766700522, 'Cyclist_aos/moderate_R40': 65.01893625151173, 'Cyclist_aos/hard_R40': 61.75505573410227, 'Cyclist_3d/easy_R40': 73.48417958942075, 'Cyclist_3d/moderate_R40': 53.90755650991621, 'Cyclist_3d/hard_R40': 50.35240201536806, 'Cyclist_bev/easy_R40': 80.53891353557212, 'Cyclist_bev/moderate_R40': 60.334005748738186, 'Cyclist_bev/hard_R40': 56.60191817403819, 'Cyclist_image/easy_R40': 83.05922504225235, 'Cyclist_image/moderate_R40': 67.77622719711775, 'Cyclist_image/hard_R40': 64.49862970466894}\n",
      "file: I-V_data_1.5um_length_200nm_diameter_BT_2V_NA_third_etch_15min_Pb_ED_3h_180C_MAI_no_200nm_Ag_memory_6V_carbon_paste_no_wait.xlsx, sigma: 0.1279357252476451, usability: 0.25912426563260615, evaluate-4\n"
     ]
    },
    {
     "name": "stderr",
     "output_type": "stream",
     "text": [
      "eval: 100%|█████████▉| 471/472 [03:22<00:00, 12.10it/s]2023-07-27 15:15:02,922   INFO  Average predicted number of objects(3769 samples): 18.730\n",
      "eval: 100%|██████████| 472/472 [03:37<00:00,  2.17it/s]\n"
     ]
    },
    {
     "name": "stdout",
     "output_type": "stream",
     "text": [
      "{'recall/roi_0.3': 0.0, 'recall/rcnn_0.3': 0.0, 'recall/roi_0.5': 0.0, 'recall/rcnn_0.5': 0.0, 'recall/roi_0.7': 0.0, 'recall/rcnn_0.7': 0.0, 'Car_aos/easy_R40': 94.87790442618001, 'Car_aos/moderate_R40': 85.52975810248329, 'Car_aos/hard_R40': 83.7316364207447, 'Car_3d/easy_R40': 73.26673503191417, 'Car_3d/moderate_R40': 60.877208848840624, 'Car_3d/hard_R40': 57.28966012326171, 'Car_bev/easy_R40': 94.16801985174924, 'Car_bev/moderate_R40': 86.81062227628514, 'Car_bev/hard_R40': 83.94162117026424, 'Car_image/easy_R40': 94.94635484135323, 'Car_image/moderate_R40': 85.766820003673, 'Car_image/hard_R40': 84.1476380246242, 'Pedestrian_aos/easy_R40': 38.35145134732208, 'Pedestrian_aos/moderate_R40': 34.51385428604212, 'Pedestrian_aos/hard_R40': 32.04369102007179, 'Pedestrian_3d/easy_R40': 46.67453405066833, 'Pedestrian_3d/moderate_R40': 40.195402300245405, 'Pedestrian_3d/hard_R40': 36.144924104704124, 'Pedestrian_bev/easy_R40': 59.322702059271506, 'Pedestrian_bev/moderate_R40': 52.16620590360398, 'Pedestrian_bev/hard_R40': 47.72244642068754, 'Pedestrian_image/easy_R40': 56.35445150212159, 'Pedestrian_image/moderate_R40': 51.24889044715585, 'Pedestrian_image/hard_R40': 48.10184013706656, 'Cyclist_aos/easy_R40': 82.48791879064868, 'Cyclist_aos/moderate_R40': 64.04175925744411, 'Cyclist_aos/hard_R40': 60.5745447087624, 'Cyclist_3d/easy_R40': 67.80193165477188, 'Cyclist_3d/moderate_R40': 45.37403011537068, 'Cyclist_3d/hard_R40': 42.54262221338998, 'Cyclist_bev/easy_R40': 83.25217587428725, 'Cyclist_bev/moderate_R40': 65.05240707131215, 'Cyclist_bev/hard_R40': 61.22064552046878, 'Cyclist_image/easy_R40': 83.84991725843514, 'Cyclist_image/moderate_R40': 66.56467544404309, 'Cyclist_image/hard_R40': 63.174646960634625}\n",
      "file: I-V_data_1.5um_length_200nm_diameter_BT_2V_NA_third_etch_15min_Pb_ED_3h_180C_MAI_no_200nm_Ag_memory_6V_carbon_paste_no_wait.xlsx, sigma: 0.1279357252476451, usability: 0.25912426563260615, evaluate-5\n"
     ]
    },
    {
     "name": "stderr",
     "output_type": "stream",
     "text": [
      "eval: 100%|█████████▉| 471/472 [03:24<00:00, 13.09it/s]2023-07-27 15:18:44,537   INFO  Average predicted number of objects(3769 samples): 15.231\n",
      "eval: 100%|██████████| 472/472 [03:38<00:00,  2.16it/s]\n"
     ]
    },
    {
     "name": "stdout",
     "output_type": "stream",
     "text": [
      "{'recall/roi_0.3': 0.0, 'recall/rcnn_0.3': 0.0, 'recall/roi_0.5': 0.0, 'recall/rcnn_0.5': 0.0, 'recall/roi_0.7': 0.0, 'recall/rcnn_0.7': 0.0, 'Car_aos/easy_R40': 97.70951014174652, 'Car_aos/moderate_R40': 90.63862452577011, 'Car_aos/hard_R40': 87.66462085439979, 'Car_3d/easy_R40': 86.37323708696249, 'Car_3d/moderate_R40': 72.516072058009, 'Car_3d/hard_R40': 67.81060174583462, 'Car_bev/easy_R40': 94.11760617437231, 'Car_bev/moderate_R40': 85.41296243056252, 'Car_bev/hard_R40': 82.48717288281304, 'Car_image/easy_R40': 97.7568414919404, 'Car_image/moderate_R40': 90.96524159005257, 'Car_image/hard_R40': 88.17281315412922, 'Pedestrian_aos/easy_R40': 30.11350224978267, 'Pedestrian_aos/moderate_R40': 27.34955550753876, 'Pedestrian_aos/hard_R40': 25.59897412827911, 'Pedestrian_3d/easy_R40': 49.24168153348999, 'Pedestrian_3d/moderate_R40': 42.64249047092631, 'Pedestrian_3d/hard_R40': 38.08897545401966, 'Pedestrian_bev/easy_R40': 57.72255003929254, 'Pedestrian_bev/moderate_R40': 51.15933221285397, 'Pedestrian_bev/hard_R40': 46.79260503450081, 'Pedestrian_image/easy_R40': 51.41598206070155, 'Pedestrian_image/moderate_R40': 46.789768359357744, 'Pedestrian_image/hard_R40': 44.17026465343461, 'Cyclist_aos/easy_R40': 62.693791143606624, 'Cyclist_aos/moderate_R40': 48.160787530675044, 'Cyclist_aos/hard_R40': 45.31027867238491, 'Cyclist_3d/easy_R40': 36.461009539799285, 'Cyclist_3d/moderate_R40': 25.59154666015874, 'Cyclist_3d/hard_R40': 23.90426085480156, 'Cyclist_bev/easy_R40': 79.13401111800998, 'Cyclist_bev/moderate_R40': 57.523242971114044, 'Cyclist_bev/hard_R40': 53.81971769143637, 'Cyclist_image/easy_R40': 63.46939679406227, 'Cyclist_image/moderate_R40': 49.96554034054367, 'Cyclist_image/hard_R40': 47.11128811890156}\n",
      "file: I-V_data_1.5um_length_200nm_diameter_BT_2V_NA_third_etch_15min_Pb_ED_3h_180C_MAI_no_200nm_Ag_memory_6V_carbon_paste_no_wait.xlsx, sigma: 0.1279357252476451, usability: 0.25912426563260615, evaluate-6\n"
     ]
    },
    {
     "name": "stderr",
     "output_type": "stream",
     "text": [
      "eval: 100%|█████████▉| 471/472 [03:18<00:00, 12.52it/s]2023-07-27 15:22:19,091   INFO  Average predicted number of objects(3769 samples): 21.123\n",
      "eval: 100%|██████████| 472/472 [03:33<00:00,  2.21it/s]\n"
     ]
    },
    {
     "name": "stdout",
     "output_type": "stream",
     "text": [
      "{'recall/roi_0.3': 0.0, 'recall/rcnn_0.3': 0.0, 'recall/roi_0.5': 0.0, 'recall/rcnn_0.5': 0.0, 'recall/roi_0.7': 0.0, 'recall/rcnn_0.7': 0.0, 'Car_aos/easy_R40': 95.22766026491432, 'Car_aos/moderate_R40': 88.44931221533918, 'Car_aos/hard_R40': 86.71565527914058, 'Car_3d/easy_R40': 82.60357566966957, 'Car_3d/moderate_R40': 69.90438199887919, 'Car_3d/hard_R40': 66.84913359409157, 'Car_bev/easy_R40': 93.97000530159815, 'Car_bev/moderate_R40': 87.05071557344507, 'Car_bev/hard_R40': 84.21741077325436, 'Car_image/easy_R40': 95.28091073045188, 'Car_image/moderate_R40': 88.76084503599773, 'Car_image/hard_R40': 87.2401992607618, 'Pedestrian_aos/easy_R40': 31.869934896666674, 'Pedestrian_aos/moderate_R40': 27.75847604312117, 'Pedestrian_aos/hard_R40': 25.23060128366045, 'Pedestrian_3d/easy_R40': 30.81890407661775, 'Pedestrian_3d/moderate_R40': 25.70997965876408, 'Pedestrian_3d/hard_R40': 22.246589704979332, 'Pedestrian_bev/easy_R40': 49.03817808576698, 'Pedestrian_bev/moderate_R40': 41.50618451478573, 'Pedestrian_bev/hard_R40': 36.74558772992222, 'Pedestrian_image/easy_R40': 44.48810485812979, 'Pedestrian_image/moderate_R40': 39.68101103011158, 'Pedestrian_image/hard_R40': 36.66130291485034, 'Cyclist_aos/easy_R40': 58.63858928394854, 'Cyclist_aos/moderate_R40': 48.11918687961496, 'Cyclist_aos/hard_R40': 45.80437652274131, 'Cyclist_3d/easy_R40': 39.88928950795619, 'Cyclist_3d/moderate_R40': 29.07479558491724, 'Cyclist_3d/hard_R40': 27.282745188511498, 'Cyclist_bev/easy_R40': 66.71541715264063, 'Cyclist_bev/moderate_R40': 50.54343933541522, 'Cyclist_bev/hard_R40': 47.55514451327574, 'Cyclist_image/easy_R40': 59.395564487585595, 'Cyclist_image/moderate_R40': 49.36993272460722, 'Cyclist_image/hard_R40': 47.16236964500264}\n",
      "file: I-V_data_1.5um_length_200nm_diameter_BT_2V_NA_third_etch_15min_Pb_ED_3h_180C_MAI_no_200nm_Ag_memory_6V_carbon_paste_no_wait.xlsx, sigma: 0.1279357252476451, usability: 0.25912426563260615, evaluate-7\n"
     ]
    },
    {
     "name": "stderr",
     "output_type": "stream",
     "text": [
      "eval: 100%|█████████▉| 471/472 [03:16<00:00, 12.59it/s]2023-07-27 15:25:53,271   INFO  Average predicted number of objects(3769 samples): 14.331\n",
      "eval: 100%|██████████| 472/472 [03:30<00:00,  2.24it/s]\n"
     ]
    },
    {
     "name": "stdout",
     "output_type": "stream",
     "text": [
      "{'recall/roi_0.3': 0.0, 'recall/rcnn_0.3': 0.0, 'recall/roi_0.5': 0.0, 'recall/rcnn_0.5': 0.0, 'recall/roi_0.7': 0.0, 'recall/rcnn_0.7': 0.0, 'Car_aos/easy_R40': 97.0011557323826, 'Car_aos/moderate_R40': 88.5572594098592, 'Car_aos/hard_R40': 87.00946785660972, 'Car_3d/easy_R40': 81.8278617449681, 'Car_3d/moderate_R40': 68.91190251179962, 'Car_3d/hard_R40': 65.90596830980007, 'Car_bev/easy_R40': 93.4699949600067, 'Car_bev/moderate_R40': 85.2052124262999, 'Car_bev/hard_R40': 83.71837174644325, 'Car_image/easy_R40': 97.04820565360997, 'Car_image/moderate_R40': 88.82862939552541, 'Car_image/hard_R40': 87.51323110536637, 'Pedestrian_aos/easy_R40': 23.38532903228711, 'Pedestrian_aos/moderate_R40': 20.745888217875635, 'Pedestrian_aos/hard_R40': 19.32888405011485, 'Pedestrian_3d/easy_R40': 38.300929575295896, 'Pedestrian_3d/moderate_R40': 33.250143855972325, 'Pedestrian_3d/hard_R40': 29.234444143536255, 'Pedestrian_bev/easy_R40': 55.523253332060776, 'Pedestrian_bev/moderate_R40': 48.199161844074965, 'Pedestrian_bev/hard_R40': 44.012116786027796, 'Pedestrian_image/easy_R40': 37.154164722858205, 'Pedestrian_image/moderate_R40': 32.66423127706153, 'Pedestrian_image/hard_R40': 30.415565559720537, 'Cyclist_aos/easy_R40': 81.2461099444503, 'Cyclist_aos/moderate_R40': 60.99968029089037, 'Cyclist_aos/hard_R40': 58.3738807034664, 'Cyclist_3d/easy_R40': 71.10929511815725, 'Cyclist_3d/moderate_R40': 50.27253956614797, 'Cyclist_3d/hard_R40': 47.40607552878081, 'Cyclist_bev/easy_R40': 77.42235572093516, 'Cyclist_bev/moderate_R40': 55.75840784030771, 'Cyclist_bev/hard_R40': 52.62422806960447, 'Cyclist_image/easy_R40': 83.16105361544162, 'Cyclist_image/moderate_R40': 63.624116402901834, 'Cyclist_image/hard_R40': 60.913830592052086}\n",
      "file: I-V_data_1.5um_length_200nm_diameter_BT_2V_NA_third_etch_15min_Pb_ED_3h_180C_MAI_no_200nm_Ag_memory_6V_carbon_paste_no_wait.xlsx, sigma: 0.1279357252476451, usability: 0.25912426563260615, evaluate-8\n"
     ]
    },
    {
     "name": "stderr",
     "output_type": "stream",
     "text": [
      "eval: 100%|█████████▉| 471/472 [03:16<00:00, 12.60it/s]2023-07-27 15:29:25,719   INFO  Average predicted number of objects(3769 samples): 24.056\n",
      "eval: 100%|██████████| 472/472 [03:33<00:00,  2.21it/s]\n"
     ]
    },
    {
     "name": "stdout",
     "output_type": "stream",
     "text": [
      "{'recall/roi_0.3': 0.0, 'recall/rcnn_0.3': 0.0, 'recall/roi_0.5': 0.0, 'recall/rcnn_0.5': 0.0, 'recall/roi_0.7': 0.0, 'recall/rcnn_0.7': 0.0, 'Car_aos/easy_R40': 94.97593932133519, 'Car_aos/moderate_R40': 86.30057841883976, 'Car_aos/hard_R40': 85.05923679969392, 'Car_3d/easy_R40': 83.83691689210411, 'Car_3d/moderate_R40': 70.06419744318279, 'Car_3d/hard_R40': 66.96417922371222, 'Car_bev/easy_R40': 92.06297783936839, 'Car_bev/moderate_R40': 85.38516826633789, 'Car_bev/hard_R40': 82.81720830411334, 'Car_image/easy_R40': 95.01329622221337, 'Car_image/moderate_R40': 86.507694218104, 'Car_image/hard_R40': 85.4058419204662, 'Pedestrian_aos/easy_R40': 40.024163254900415, 'Pedestrian_aos/moderate_R40': 35.887321307103896, 'Pedestrian_aos/hard_R40': 33.429564575277816, 'Pedestrian_3d/easy_R40': 49.268298661936385, 'Pedestrian_3d/moderate_R40': 40.855616378694556, 'Pedestrian_3d/hard_R40': 36.18536157645941, 'Pedestrian_bev/easy_R40': 55.25033774787468, 'Pedestrian_bev/moderate_R40': 47.27924094022106, 'Pedestrian_bev/hard_R40': 42.638366941186696, 'Pedestrian_image/easy_R40': 58.70326771502028, 'Pedestrian_image/moderate_R40': 52.688989009095074, 'Pedestrian_image/hard_R40': 49.446457329537424, 'Cyclist_aos/easy_R40': 78.00138027634095, 'Cyclist_aos/moderate_R40': 62.63080963295191, 'Cyclist_aos/hard_R40': 59.27423567458919, 'Cyclist_3d/easy_R40': 66.23525908710408, 'Cyclist_3d/moderate_R40': 49.67486752223578, 'Cyclist_3d/hard_R40': 47.01506078439899, 'Cyclist_bev/easy_R40': 81.99307642681461, 'Cyclist_bev/moderate_R40': 61.35350688213166, 'Cyclist_bev/hard_R40': 58.082266167953264, 'Cyclist_image/easy_R40': 79.95992439130985, 'Cyclist_image/moderate_R40': 64.99870137156296, 'Cyclist_image/hard_R40': 61.64846349936146}\n",
      "file: I-V_data_1.5um_length_200nm_diameter_BT_2V_NA_third_etch_15min_Pb_ED_3h_180C_MAI_no_200nm_Ag_memory_6V_carbon_paste_no_wait.xlsx, sigma: 0.1279357252476451, usability: 0.25912426563260615, evaluate-9\n"
     ]
    },
    {
     "name": "stderr",
     "output_type": "stream",
     "text": [
      "eval: 100%|█████████▉| 471/472 [03:49<00:00, 10.54it/s]2023-07-27 15:33:33,874   INFO  Average predicted number of objects(3769 samples): 21.116\n",
      "eval: 100%|██████████| 472/472 [04:06<00:00,  1.92it/s]\n"
     ]
    },
    {
     "name": "stdout",
     "output_type": "stream",
     "text": [
      "{'recall/roi_0.3': 0.0, 'recall/rcnn_0.3': 0.0, 'recall/roi_0.5': 0.0, 'recall/rcnn_0.5': 0.0, 'recall/roi_0.7': 0.0, 'recall/rcnn_0.7': 0.0, 'Car_aos/easy_R40': 97.22792423377953, 'Car_aos/moderate_R40': 88.19995055654243, 'Car_aos/hard_R40': 86.50057654899, 'Car_3d/easy_R40': 81.48225031640874, 'Car_3d/moderate_R40': 68.67677347894347, 'Car_3d/hard_R40': 65.5468942427643, 'Car_bev/easy_R40': 93.80084000720402, 'Car_bev/moderate_R40': 84.78469168317251, 'Car_bev/hard_R40': 82.03031322080211, 'Car_image/easy_R40': 97.28974595740269, 'Car_image/moderate_R40': 88.47977613069153, 'Car_image/hard_R40': 86.96291498244449, 'Pedestrian_aos/easy_R40': 33.81794597582784, 'Pedestrian_aos/moderate_R40': 30.831012959321864, 'Pedestrian_aos/hard_R40': 28.47048724852464, 'Pedestrian_3d/easy_R40': 46.7019696743272, 'Pedestrian_3d/moderate_R40': 40.88724602222622, 'Pedestrian_3d/hard_R40': 36.27685692315738, 'Pedestrian_bev/easy_R40': 55.66207382013892, 'Pedestrian_bev/moderate_R40': 49.29503468109321, 'Pedestrian_bev/hard_R40': 44.32628298753817, 'Pedestrian_image/easy_R40': 50.018996238186986, 'Pedestrian_image/moderate_R40': 45.359317533226765, 'Pedestrian_image/hard_R40': 42.27852501246813, 'Cyclist_aos/easy_R40': 76.11577994551959, 'Cyclist_aos/moderate_R40': 60.531058481340416, 'Cyclist_aos/hard_R40': 57.196970646117215, 'Cyclist_3d/easy_R40': 65.34792533532003, 'Cyclist_3d/moderate_R40': 50.49814556108717, 'Cyclist_3d/hard_R40': 47.11969731330428, 'Cyclist_bev/easy_R40': 75.16064543196886, 'Cyclist_bev/moderate_R40': 58.163021667122806, 'Cyclist_bev/hard_R40': 54.56997239308613, 'Cyclist_image/easy_R40': 77.63303897524507, 'Cyclist_image/moderate_R40': 63.887069103110726, 'Cyclist_image/hard_R40': 60.632535248139355}\n",
      "file: I-V_data_2um_length_300nm_diameter_BT_4V_NA_third_etch_15min_Pb_ED_1h_180C_MAI_no_100nm_Ag_memory_6V_carbon_paste_no_wait.xlsx, sigma: 0.15000099873611333, usability: 0.09432367536286719, evaluate-0\n"
     ]
    },
    {
     "name": "stderr",
     "output_type": "stream",
     "text": [
      "eval: 100%|█████████▉| 471/472 [03:55<00:00,  9.51it/s]2023-07-27 15:37:53,852   INFO  Average predicted number of objects(3769 samples): 19.322\n",
      "eval: 100%|██████████| 472/472 [04:11<00:00,  1.88it/s]\n"
     ]
    },
    {
     "name": "stdout",
     "output_type": "stream",
     "text": [
      "{'recall/roi_0.3': 0.0, 'recall/rcnn_0.3': 0.0, 'recall/roi_0.5': 0.0, 'recall/rcnn_0.5': 0.0, 'recall/roi_0.7': 0.0, 'recall/rcnn_0.7': 0.0, 'Car_aos/easy_R40': 94.36285483256569, 'Car_aos/moderate_R40': 87.27437774774012, 'Car_aos/hard_R40': 83.91553980067312, 'Car_3d/easy_R40': 76.8334399578676, 'Car_3d/moderate_R40': 65.40787566665986, 'Car_3d/hard_R40': 60.95904915191791, 'Car_bev/easy_R40': 93.33092670398644, 'Car_bev/moderate_R40': 85.06582260447061, 'Car_bev/hard_R40': 82.06802998469108, 'Car_image/easy_R40': 94.42059630680397, 'Car_image/moderate_R40': 87.62906922471808, 'Car_image/hard_R40': 84.39701298224233, 'Pedestrian_aos/easy_R40': 24.21281796802616, 'Pedestrian_aos/moderate_R40': 21.589872540752047, 'Pedestrian_aos/hard_R40': 20.030836371201733, 'Pedestrian_3d/easy_R40': 44.61682991469257, 'Pedestrian_3d/moderate_R40': 38.169512681029126, 'Pedestrian_3d/hard_R40': 33.66871979171657, 'Pedestrian_bev/easy_R40': 50.85785496445418, 'Pedestrian_bev/moderate_R40': 43.907349047654606, 'Pedestrian_bev/hard_R40': 39.53367595082565, 'Pedestrian_image/easy_R40': 42.71048901453981, 'Pedestrian_image/moderate_R40': 37.89388171166117, 'Pedestrian_image/hard_R40': 35.14352800810915, 'Cyclist_aos/easy_R40': 74.28645023347062, 'Cyclist_aos/moderate_R40': 56.56803258717192, 'Cyclist_aos/hard_R40': 54.150480898700806, 'Cyclist_3d/easy_R40': 62.2448612303952, 'Cyclist_3d/moderate_R40': 43.35698593704895, 'Cyclist_3d/hard_R40': 40.68666632808701, 'Cyclist_bev/easy_R40': 73.76114410906378, 'Cyclist_bev/moderate_R40': 54.449033247903834, 'Cyclist_bev/hard_R40': 51.6324050138687, 'Cyclist_image/easy_R40': 75.84492937960667, 'Cyclist_image/moderate_R40': 59.361476982374164, 'Cyclist_image/hard_R40': 56.934345675557196}\n",
      "file: I-V_data_2um_length_300nm_diameter_BT_4V_NA_third_etch_15min_Pb_ED_1h_180C_MAI_no_100nm_Ag_memory_6V_carbon_paste_no_wait.xlsx, sigma: 0.15000099873611333, usability: 0.09432367536286719, evaluate-1\n"
     ]
    },
    {
     "name": "stderr",
     "output_type": "stream",
     "text": [
      "eval: 100%|██████████| 472/472 [03:56<00:00, 12.14it/s]2023-07-27 15:42:13,871   INFO  Average predicted number of objects(3769 samples): 20.807\n",
      "eval: 100%|██████████| 472/472 [04:13<00:00,  1.86it/s]\n"
     ]
    },
    {
     "name": "stdout",
     "output_type": "stream",
     "text": [
      "{'recall/roi_0.3': 0.0, 'recall/rcnn_0.3': 0.0, 'recall/roi_0.5': 0.0, 'recall/rcnn_0.5': 0.0, 'recall/roi_0.7': 0.0, 'recall/rcnn_0.7': 0.0, 'Car_aos/easy_R40': 90.09834733181033, 'Car_aos/moderate_R40': 81.26057903671591, 'Car_aos/hard_R40': 78.77465005310776, 'Car_3d/easy_R40': 54.14330871898504, 'Car_3d/moderate_R40': 47.532263425671715, 'Car_3d/hard_R40': 44.53147843444217, 'Car_bev/easy_R40': 91.51288880054258, 'Car_bev/moderate_R40': 85.39859494837063, 'Car_bev/hard_R40': 82.88737157856907, 'Car_image/easy_R40': 90.13705863708537, 'Car_image/moderate_R40': 81.5144506922621, 'Car_image/hard_R40': 79.21305827601613, 'Pedestrian_aos/easy_R40': 41.199557890903435, 'Pedestrian_aos/moderate_R40': 37.42046570104345, 'Pedestrian_aos/hard_R40': 35.02847987536539, 'Pedestrian_3d/easy_R40': 49.17645846992646, 'Pedestrian_3d/moderate_R40': 42.81290303220274, 'Pedestrian_3d/hard_R40': 38.55591527698748, 'Pedestrian_bev/easy_R40': 57.629986018366, 'Pedestrian_bev/moderate_R40': 51.40517844766618, 'Pedestrian_bev/hard_R40': 46.927025275385944, 'Pedestrian_image/easy_R40': 57.935692352218105, 'Pedestrian_image/moderate_R40': 53.01478441770686, 'Pedestrian_image/hard_R40': 50.11792495288439, 'Cyclist_aos/easy_R40': 81.11739595352341, 'Cyclist_aos/moderate_R40': 64.49371680345395, 'Cyclist_aos/hard_R40': 60.96847105781513, 'Cyclist_3d/easy_R40': 78.84170532651551, 'Cyclist_3d/moderate_R40': 52.88067461012811, 'Cyclist_3d/hard_R40': 49.669350671324004, 'Cyclist_bev/easy_R40': 83.47349706942285, 'Cyclist_bev/moderate_R40': 60.67108359368633, 'Cyclist_bev/hard_R40': 56.96049029099589, 'Cyclist_image/easy_R40': 84.55337559632856, 'Cyclist_image/moderate_R40': 68.16029102810657, 'Cyclist_image/hard_R40': 64.6113862436582}\n",
      "file: I-V_data_2um_length_300nm_diameter_BT_4V_NA_third_etch_15min_Pb_ED_1h_180C_MAI_no_100nm_Ag_memory_6V_carbon_paste_no_wait.xlsx, sigma: 0.15000099873611333, usability: 0.09432367536286719, evaluate-2\n"
     ]
    },
    {
     "name": "stderr",
     "output_type": "stream",
     "text": [
      "eval: 100%|█████████▉| 471/472 [03:56<00:00, 10.20it/s]2023-07-27 15:46:34,501   INFO  Average predicted number of objects(3769 samples): 20.042\n",
      "eval: 100%|██████████| 472/472 [04:13<00:00,  1.86it/s]\n"
     ]
    },
    {
     "name": "stdout",
     "output_type": "stream",
     "text": [
      "{'recall/roi_0.3': 0.0, 'recall/rcnn_0.3': 0.0, 'recall/roi_0.5': 0.0, 'recall/rcnn_0.5': 0.0, 'recall/roi_0.7': 0.0, 'recall/rcnn_0.7': 0.0, 'Car_aos/easy_R40': 95.45430627548706, 'Car_aos/moderate_R40': 88.47470643363849, 'Car_aos/hard_R40': 85.83280949990572, 'Car_3d/easy_R40': 84.55496680223288, 'Car_3d/moderate_R40': 70.20521011118211, 'Car_3d/hard_R40': 67.22152232710059, 'Car_bev/easy_R40': 92.04368986454507, 'Car_bev/moderate_R40': 84.73384101542023, 'Car_bev/hard_R40': 82.22422727832092, 'Car_image/easy_R40': 95.4946944829689, 'Car_image/moderate_R40': 88.73608288012427, 'Car_image/hard_R40': 86.21573081014698, 'Pedestrian_aos/easy_R40': 19.83648890851687, 'Pedestrian_aos/moderate_R40': 19.093763654066557, 'Pedestrian_aos/hard_R40': 17.905602049964862, 'Pedestrian_3d/easy_R40': 33.762495713987775, 'Pedestrian_3d/moderate_R40': 29.75946923183003, 'Pedestrian_3d/hard_R40': 26.695155085998557, 'Pedestrian_bev/easy_R40': 55.1975811693917, 'Pedestrian_bev/moderate_R40': 49.59928431314812, 'Pedestrian_bev/hard_R40': 45.77601513413967, 'Pedestrian_image/easy_R40': 35.462481961162936, 'Pedestrian_image/moderate_R40': 32.883647061228146, 'Pedestrian_image/hard_R40': 31.136035842665283, 'Cyclist_aos/easy_R40': 79.65875556087366, 'Cyclist_aos/moderate_R40': 66.04427363168311, 'Cyclist_aos/hard_R40': 62.677565627091326, 'Cyclist_3d/easy_R40': 69.22942586025, 'Cyclist_3d/moderate_R40': 51.34023996860798, 'Cyclist_3d/hard_R40': 48.2323334987164, 'Cyclist_bev/easy_R40': 74.73256097121924, 'Cyclist_bev/moderate_R40': 58.33757392591055, 'Cyclist_bev/hard_R40': 54.89922703736345, 'Cyclist_image/easy_R40': 80.98797766051422, 'Cyclist_image/moderate_R40': 68.42488467052628, 'Cyclist_image/hard_R40': 65.10524602243352}\n",
      "file: I-V_data_2um_length_300nm_diameter_BT_4V_NA_third_etch_15min_Pb_ED_1h_180C_MAI_no_100nm_Ag_memory_6V_carbon_paste_no_wait.xlsx, sigma: 0.15000099873611333, usability: 0.09432367536286719, evaluate-3\n"
     ]
    },
    {
     "name": "stderr",
     "output_type": "stream",
     "text": [
      "eval: 100%|██████████| 472/472 [03:56<00:00, 12.02it/s]2023-07-27 15:50:54,354   INFO  Average predicted number of objects(3769 samples): 19.080\n",
      "eval: 100%|██████████| 472/472 [04:12<00:00,  1.87it/s]\n"
     ]
    },
    {
     "name": "stdout",
     "output_type": "stream",
     "text": [
      "{'recall/roi_0.3': 0.0, 'recall/rcnn_0.3': 0.0, 'recall/roi_0.5': 0.0, 'recall/rcnn_0.5': 0.0, 'recall/roi_0.7': 0.0, 'recall/rcnn_0.7': 0.0, 'Car_aos/easy_R40': 95.88838244105592, 'Car_aos/moderate_R40': 88.30188264703824, 'Car_aos/hard_R40': 85.25547878237519, 'Car_3d/easy_R40': 83.2372099062478, 'Car_3d/moderate_R40': 69.81976252324526, 'Car_3d/hard_R40': 65.18958855177308, 'Car_bev/easy_R40': 92.84723802959178, 'Car_bev/moderate_R40': 85.23727764160729, 'Car_bev/hard_R40': 82.42238417203043, 'Car_image/easy_R40': 95.95103917005726, 'Car_image/moderate_R40': 88.73526840225834, 'Car_image/hard_R40': 85.87683680407936, 'Pedestrian_aos/easy_R40': 34.37888697497844, 'Pedestrian_aos/moderate_R40': 30.623562510307835, 'Pedestrian_aos/hard_R40': 27.96176287146984, 'Pedestrian_3d/easy_R40': 44.70993888336392, 'Pedestrian_3d/moderate_R40': 37.70934916870623, 'Pedestrian_3d/hard_R40': 33.053438450682734, 'Pedestrian_bev/easy_R40': 51.95854617952506, 'Pedestrian_bev/moderate_R40': 44.75687490048837, 'Pedestrian_bev/hard_R40': 39.90130919296041, 'Pedestrian_image/easy_R40': 50.60598958774577, 'Pedestrian_image/moderate_R40': 45.275926960290114, 'Pedestrian_image/hard_R40': 41.80966754237202, 'Cyclist_aos/easy_R40': 75.1783835606072, 'Cyclist_aos/moderate_R40': 56.678747282504474, 'Cyclist_aos/hard_R40': 53.09472820254268, 'Cyclist_3d/easy_R40': 71.79585916685814, 'Cyclist_3d/moderate_R40': 50.10481757163328, 'Cyclist_3d/hard_R40': 46.55717025582743, 'Cyclist_bev/easy_R40': 75.16364525633922, 'Cyclist_bev/moderate_R40': 54.265346734398015, 'Cyclist_bev/hard_R40': 50.8096956831835, 'Cyclist_image/easy_R40': 77.3155807424256, 'Cyclist_image/moderate_R40': 59.292827468236645, 'Cyclist_image/hard_R40': 55.5302941094294}\n",
      "file: I-V_data_2um_length_300nm_diameter_BT_4V_NA_third_etch_15min_Pb_ED_1h_180C_MAI_no_100nm_Ag_memory_6V_carbon_paste_no_wait.xlsx, sigma: 0.15000099873611333, usability: 0.09432367536286719, evaluate-4\n"
     ]
    },
    {
     "name": "stderr",
     "output_type": "stream",
     "text": [
      "eval: 100%|██████████| 472/472 [03:32<00:00, 13.94it/s]2023-07-27 15:54:50,104   INFO  Average predicted number of objects(3769 samples): 23.557\n",
      "eval: 100%|██████████| 472/472 [03:50<00:00,  2.05it/s]\n"
     ]
    },
    {
     "name": "stdout",
     "output_type": "stream",
     "text": [
      "{'recall/roi_0.3': 0.0, 'recall/rcnn_0.3': 0.0, 'recall/roi_0.5': 0.0, 'recall/rcnn_0.5': 0.0, 'recall/roi_0.7': 0.0, 'recall/rcnn_0.7': 0.0, 'Car_aos/easy_R40': 94.90516764324735, 'Car_aos/moderate_R40': 88.05592721472371, 'Car_aos/hard_R40': 86.49846665015207, 'Car_3d/easy_R40': 82.78320530389486, 'Car_3d/moderate_R40': 70.94645245898721, 'Car_3d/hard_R40': 67.19621350947843, 'Car_bev/easy_R40': 91.51329384375954, 'Car_bev/moderate_R40': 84.43254330053544, 'Car_bev/hard_R40': 81.96868815394527, 'Car_image/easy_R40': 94.93978629333529, 'Car_image/moderate_R40': 88.38075284981659, 'Car_image/hard_R40': 87.07606783109345, 'Pedestrian_aos/easy_R40': 33.09776023791201, 'Pedestrian_aos/moderate_R40': 30.165850577304788, 'Pedestrian_aos/hard_R40': 28.353599956630944, 'Pedestrian_3d/easy_R40': 46.161150320405355, 'Pedestrian_3d/moderate_R40': 39.89872222618159, 'Pedestrian_3d/hard_R40': 36.051507853237794, 'Pedestrian_bev/easy_R40': 51.129284417587705, 'Pedestrian_bev/moderate_R40': 45.11360938176326, 'Pedestrian_bev/hard_R40': 41.11133721051159, 'Pedestrian_image/easy_R40': 51.486081807328986, 'Pedestrian_image/moderate_R40': 46.58800868876219, 'Pedestrian_image/hard_R40': 44.149894129623135, 'Cyclist_aos/easy_R40': 80.41886959454881, 'Cyclist_aos/moderate_R40': 66.16290718426396, 'Cyclist_aos/hard_R40': 62.221560724713356, 'Cyclist_3d/easy_R40': 73.38819423801182, 'Cyclist_3d/moderate_R40': 51.988908026331394, 'Cyclist_3d/hard_R40': 48.2496267182761, 'Cyclist_bev/easy_R40': 79.96595056581124, 'Cyclist_bev/moderate_R40': 60.51543902738482, 'Cyclist_bev/hard_R40': 56.967155917381994, 'Cyclist_image/easy_R40': 82.13928067428544, 'Cyclist_image/moderate_R40': 68.83866750432584, 'Cyclist_image/hard_R40': 64.93172737258183}\n",
      "file: I-V_data_2um_length_300nm_diameter_BT_4V_NA_third_etch_15min_Pb_ED_1h_180C_MAI_no_100nm_Ag_memory_6V_carbon_paste_no_wait.xlsx, sigma: 0.15000099873611333, usability: 0.09432367536286719, evaluate-5\n"
     ]
    },
    {
     "name": "stderr",
     "output_type": "stream",
     "text": [
      "eval: 100%|██████████| 472/472 [03:47<00:00, 12.38it/s]2023-07-27 15:58:55,555   INFO  Average predicted number of objects(3769 samples): 16.547\n",
      "eval: 100%|██████████| 472/472 [04:02<00:00,  1.95it/s]\n"
     ]
    },
    {
     "name": "stdout",
     "output_type": "stream",
     "text": [
      "{'recall/roi_0.3': 0.0, 'recall/rcnn_0.3': 0.0, 'recall/roi_0.5': 0.0, 'recall/rcnn_0.5': 0.0, 'recall/roi_0.7': 0.0, 'recall/rcnn_0.7': 0.0, 'Car_aos/easy_R40': 95.12210560277875, 'Car_aos/moderate_R40': 87.6439555319106, 'Car_aos/hard_R40': 84.68665580115031, 'Car_3d/easy_R40': 82.11198832386444, 'Car_3d/moderate_R40': 68.41910948141401, 'Car_3d/hard_R40': 63.94773272590052, 'Car_bev/easy_R40': 94.40821669638103, 'Car_bev/moderate_R40': 85.45756475397462, 'Car_bev/hard_R40': 84.12809374454747, 'Car_image/easy_R40': 95.18239751872383, 'Car_image/moderate_R40': 88.24048439871369, 'Car_image/hard_R40': 85.51062312327798, 'Pedestrian_aos/easy_R40': 27.092591878848822, 'Pedestrian_aos/moderate_R40': 25.437890135671847, 'Pedestrian_aos/hard_R40': 24.27911319809464, 'Pedestrian_3d/easy_R40': 31.50581181744258, 'Pedestrian_3d/moderate_R40': 27.788496576465583, 'Pedestrian_3d/hard_R40': 24.570431729733233, 'Pedestrian_bev/easy_R40': 53.01149623172889, 'Pedestrian_bev/moderate_R40': 46.78656021234859, 'Pedestrian_bev/hard_R40': 43.4605896890071, 'Pedestrian_image/easy_R40': 41.4980811231747, 'Pedestrian_image/moderate_R40': 38.45989975462162, 'Pedestrian_image/hard_R40': 37.176279339918935, 'Cyclist_aos/easy_R40': 66.89916615127677, 'Cyclist_aos/moderate_R40': 50.00083398571212, 'Cyclist_aos/hard_R40': 47.32878887197042, 'Cyclist_3d/easy_R40': 50.06121153660743, 'Cyclist_3d/moderate_R40': 35.22021431052905, 'Cyclist_3d/hard_R40': 33.95064981920371, 'Cyclist_bev/easy_R40': 77.73148449253718, 'Cyclist_bev/moderate_R40': 54.865308147577466, 'Cyclist_bev/hard_R40': 51.90676879285554, 'Cyclist_image/easy_R40': 71.22940134670837, 'Cyclist_image/moderate_R40': 53.834371104832925, 'Cyclist_image/hard_R40': 51.166341000440674}\n",
      "file: I-V_data_2um_length_300nm_diameter_BT_4V_NA_third_etch_15min_Pb_ED_1h_180C_MAI_no_100nm_Ag_memory_6V_carbon_paste_no_wait.xlsx, sigma: 0.15000099873611333, usability: 0.09432367536286719, evaluate-6\n"
     ]
    },
    {
     "name": "stderr",
     "output_type": "stream",
     "text": [
      "eval: 100%|█████████▉| 471/472 [03:58<00:00, 10.44it/s]2023-07-27 16:03:15,563   INFO  Average predicted number of objects(3769 samples): 25.981\n",
      "eval: 100%|██████████| 472/472 [04:16<00:00,  1.84it/s]\n"
     ]
    },
    {
     "name": "stdout",
     "output_type": "stream",
     "text": [
      "{'recall/roi_0.3': 0.0, 'recall/rcnn_0.3': 0.0, 'recall/roi_0.5': 0.0, 'recall/rcnn_0.5': 0.0, 'recall/roi_0.7': 0.0, 'recall/rcnn_0.7': 0.0, 'Car_aos/easy_R40': 93.91546177411645, 'Car_aos/moderate_R40': 87.55489819491136, 'Car_aos/hard_R40': 84.29724089553986, 'Car_3d/easy_R40': 74.08802435099891, 'Car_3d/moderate_R40': 64.35517625377017, 'Car_3d/hard_R40': 61.16140022204352, 'Car_bev/easy_R40': 93.09826290946089, 'Car_bev/moderate_R40': 84.84339101041819, 'Car_bev/hard_R40': 81.66812496283316, 'Car_image/easy_R40': 94.03455633365803, 'Car_image/moderate_R40': 87.91526144051423, 'Car_image/hard_R40': 84.80547489368405, 'Pedestrian_aos/easy_R40': 28.91250882609011, 'Pedestrian_aos/moderate_R40': 24.588556193037274, 'Pedestrian_aos/hard_R40': 22.254107516761483, 'Pedestrian_3d/easy_R40': 38.36248606917487, 'Pedestrian_3d/moderate_R40': 30.261714813756157, 'Pedestrian_3d/hard_R40': 26.351288939622563, 'Pedestrian_bev/easy_R40': 42.85431283899449, 'Pedestrian_bev/moderate_R40': 35.080657884638065, 'Pedestrian_bev/hard_R40': 30.833074017043543, 'Pedestrian_image/easy_R40': 42.88779210817342, 'Pedestrian_image/moderate_R40': 36.89984523822373, 'Pedestrian_image/hard_R40': 33.765684794381876, 'Cyclist_aos/easy_R40': 60.19560750772771, 'Cyclist_aos/moderate_R40': 46.333744415567246, 'Cyclist_aos/hard_R40': 44.09106990791017, 'Cyclist_3d/easy_R40': 55.858320753411014, 'Cyclist_3d/moderate_R40': 41.01439866626066, 'Cyclist_3d/hard_R40': 38.465129779274974, 'Cyclist_bev/easy_R40': 59.71008310863935, 'Cyclist_bev/moderate_R40': 45.34033831417787, 'Cyclist_bev/hard_R40': 42.7795177886048, 'Cyclist_image/easy_R40': 61.87350903787212, 'Cyclist_image/moderate_R40': 48.72576841514783, 'Cyclist_image/hard_R40': 46.587947324096184}\n",
      "file: I-V_data_2um_length_300nm_diameter_BT_4V_NA_third_etch_15min_Pb_ED_1h_180C_MAI_no_100nm_Ag_memory_6V_carbon_paste_no_wait.xlsx, sigma: 0.15000099873611333, usability: 0.09432367536286719, evaluate-7\n"
     ]
    },
    {
     "name": "stderr",
     "output_type": "stream",
     "text": [
      "eval: 100%|█████████▉| 471/472 [03:59<00:00,  9.11it/s]2023-07-27 16:07:40,540   INFO  Average predicted number of objects(3769 samples): 19.798\n",
      "eval: 100%|██████████| 472/472 [04:19<00:00,  1.82it/s]\n"
     ]
    },
    {
     "name": "stdout",
     "output_type": "stream",
     "text": [
      "{'recall/roi_0.3': 0.0, 'recall/rcnn_0.3': 0.0, 'recall/roi_0.5': 0.0, 'recall/rcnn_0.5': 0.0, 'recall/roi_0.7': 0.0, 'recall/rcnn_0.7': 0.0, 'Car_aos/easy_R40': 97.19805667098764, 'Car_aos/moderate_R40': 90.09642137264218, 'Car_aos/hard_R40': 87.04346089554681, 'Car_3d/easy_R40': 83.25708703228393, 'Car_3d/moderate_R40': 71.07812890478698, 'Car_3d/hard_R40': 66.54489695478088, 'Car_bev/easy_R40': 91.61182451948558, 'Car_bev/moderate_R40': 84.79751832181141, 'Car_bev/hard_R40': 81.90441933246827, 'Car_image/easy_R40': 97.27620901109361, 'Car_image/moderate_R40': 90.50762073962125, 'Car_image/hard_R40': 87.6399730318352, 'Pedestrian_aos/easy_R40': 35.879309438191, 'Pedestrian_aos/moderate_R40': 32.18296914726515, 'Pedestrian_aos/hard_R40': 30.503934621630002, 'Pedestrian_3d/easy_R40': 44.5387992603965, 'Pedestrian_3d/moderate_R40': 37.77018418621637, 'Pedestrian_3d/hard_R40': 34.130113340796186, 'Pedestrian_bev/easy_R40': 55.918974180835576, 'Pedestrian_bev/moderate_R40': 48.815136976174486, 'Pedestrian_bev/hard_R40': 44.72621747029592, 'Pedestrian_image/easy_R40': 53.686448905584705, 'Pedestrian_image/moderate_R40': 48.36604808022239, 'Pedestrian_image/hard_R40': 45.7570156969626, 'Cyclist_aos/easy_R40': 71.97136217813159, 'Cyclist_aos/moderate_R40': 56.248754154968125, 'Cyclist_aos/hard_R40': 53.08839906443949, 'Cyclist_3d/easy_R40': 53.52052131165477, 'Cyclist_3d/moderate_R40': 38.15850067463148, 'Cyclist_3d/hard_R40': 35.13311168908027, 'Cyclist_bev/easy_R40': 83.95512349679507, 'Cyclist_bev/moderate_R40': 60.68100555319038, 'Cyclist_bev/hard_R40': 57.14560829885736, 'Cyclist_image/easy_R40': 73.72734514458206, 'Cyclist_image/moderate_R40': 59.343966674778315, 'Cyclist_image/hard_R40': 56.21713991013575}\n",
      "file: I-V_data_2um_length_300nm_diameter_BT_4V_NA_third_etch_15min_Pb_ED_1h_180C_MAI_no_100nm_Ag_memory_6V_carbon_paste_no_wait.xlsx, sigma: 0.15000099873611333, usability: 0.09432367536286719, evaluate-8\n"
     ]
    },
    {
     "name": "stderr",
     "output_type": "stream",
     "text": [
      "eval: 100%|█████████▉| 471/472 [03:50<00:00, 11.94it/s]2023-07-27 16:11:56,844   INFO  Average predicted number of objects(3769 samples): 27.534\n",
      "eval: 100%|██████████| 472/472 [04:07<00:00,  1.90it/s]\n"
     ]
    },
    {
     "name": "stdout",
     "output_type": "stream",
     "text": [
      "{'recall/roi_0.3': 0.0, 'recall/rcnn_0.3': 0.0, 'recall/roi_0.5': 0.0, 'recall/rcnn_0.5': 0.0, 'recall/roi_0.7': 0.0, 'recall/rcnn_0.7': 0.0, 'Car_aos/easy_R40': 76.7325032005292, 'Car_aos/moderate_R40': 62.3099538963102, 'Car_aos/hard_R40': 61.320754106871554, 'Car_3d/easy_R40': 28.350462257086306, 'Car_3d/moderate_R40': 23.968371228893666, 'Car_3d/hard_R40': 21.876697595102836, 'Car_bev/easy_R40': 90.01841730001846, 'Car_bev/moderate_R40': 84.77224840060047, 'Car_bev/hard_R40': 82.41723783959569, 'Car_image/easy_R40': 76.76895712526793, 'Car_image/moderate_R40': 62.40277831379105, 'Car_image/hard_R40': 61.531407736829436, 'Pedestrian_aos/easy_R40': 22.06664519269706, 'Pedestrian_aos/moderate_R40': 19.89070870845281, 'Pedestrian_aos/hard_R40': 18.794047107139814, 'Pedestrian_3d/easy_R40': 14.948602456468363, 'Pedestrian_3d/moderate_R40': 12.991859482417134, 'Pedestrian_3d/hard_R40': 11.176152982715633, 'Pedestrian_bev/easy_R40': 53.64762378733062, 'Pedestrian_bev/moderate_R40': 47.28210651424458, 'Pedestrian_bev/hard_R40': 43.131840444275774, 'Pedestrian_image/easy_R40': 31.5901871687431, 'Pedestrian_image/moderate_R40': 28.718494191631184, 'Pedestrian_image/hard_R40': 27.74537131748202, 'Cyclist_aos/easy_R40': 73.1733579767838, 'Cyclist_aos/moderate_R40': 57.092093197907865, 'Cyclist_aos/hard_R40': 54.11213828561865, 'Cyclist_3d/easy_R40': 68.02806030063331, 'Cyclist_3d/moderate_R40': 50.3312277523045, 'Cyclist_3d/hard_R40': 47.06205826784696, 'Cyclist_bev/easy_R40': 74.65191804126206, 'Cyclist_bev/moderate_R40': 56.255465516839884, 'Cyclist_bev/hard_R40': 52.61484414884926, 'Cyclist_image/easy_R40': 75.30258973352784, 'Cyclist_image/moderate_R40': 60.37803237174242, 'Cyclist_image/hard_R40': 57.28217966327633}\n",
      "file: I-V_data_2um_length_300nm_diameter_BT_4V_NA_third_etch_15min_Pb_ED_1h_180C_MAI_no_100nm_Ag_memory_6V_carbon_paste_no_wait.xlsx, sigma: 0.15000099873611333, usability: 0.09432367536286719, evaluate-9\n"
     ]
    },
    {
     "name": "stderr",
     "output_type": "stream",
     "text": [
      "eval: 100%|█████████▉| 471/472 [03:45<00:00, 12.33it/s]2023-07-27 16:16:01,119   INFO  Average predicted number of objects(3769 samples): 21.756\n",
      "eval: 100%|██████████| 472/472 [04:02<00:00,  1.95it/s]\n"
     ]
    },
    {
     "name": "stdout",
     "output_type": "stream",
     "text": [
      "{'recall/roi_0.3': 0.0, 'recall/rcnn_0.3': 0.0, 'recall/roi_0.5': 0.0, 'recall/rcnn_0.5': 0.0, 'recall/roi_0.7': 0.0, 'recall/rcnn_0.7': 0.0, 'Car_aos/easy_R40': 92.27286770855385, 'Car_aos/moderate_R40': 80.1296264805704, 'Car_aos/hard_R40': 79.17467220518805, 'Car_3d/easy_R40': 70.25599112085077, 'Car_3d/moderate_R40': 55.417102424986034, 'Car_3d/hard_R40': 53.239734811948146, 'Car_bev/easy_R40': 92.15691295350953, 'Car_bev/moderate_R40': 85.34367283134114, 'Car_bev/hard_R40': 82.68278739931176, 'Car_image/easy_R40': 92.36008305337432, 'Car_image/moderate_R40': 80.40509782938511, 'Car_image/hard_R40': 79.60918050897007, 'Pedestrian_aos/easy_R40': 31.910088769704604, 'Pedestrian_aos/moderate_R40': 29.36246403093158, 'Pedestrian_aos/hard_R40': 27.17673575437136, 'Pedestrian_3d/easy_R40': 44.00830450562567, 'Pedestrian_3d/moderate_R40': 38.246376869096224, 'Pedestrian_3d/hard_R40': 34.20839375707268, 'Pedestrian_bev/easy_R40': 54.88109077871708, 'Pedestrian_bev/moderate_R40': 48.347263719118914, 'Pedestrian_bev/hard_R40': 44.47629221735595, 'Pedestrian_image/easy_R40': 48.5860460206473, 'Pedestrian_image/moderate_R40': 44.54626451226837, 'Pedestrian_image/hard_R40': 41.646561778093414, 'Cyclist_aos/easy_R40': 77.50700541735262, 'Cyclist_aos/moderate_R40': 61.579726568125025, 'Cyclist_aos/hard_R40': 58.84191957792226, 'Cyclist_3d/easy_R40': 66.91276851742842, 'Cyclist_3d/moderate_R40': 46.20964928092787, 'Cyclist_3d/hard_R40': 44.11143229231879, 'Cyclist_bev/easy_R40': 76.92621032692799, 'Cyclist_bev/moderate_R40': 56.99964092788166, 'Cyclist_bev/hard_R40': 54.08719013695893, 'Cyclist_image/easy_R40': 79.0359396166546, 'Cyclist_image/moderate_R40': 63.775599002098474, 'Cyclist_image/hard_R40': 61.159695738788514}\n",
      "file: I-V_data_1.2um_length_250nm_diameter_BT_4V_10s_third_etch_15min_Pb_ED_3h_180C_MAI_no_200nm_Ag_memory_6V_carbon_paste_no_wait.xlsx, sigma: 0.22859124963661484, usability: 0.13200051134831037, evaluate-0\n"
     ]
    },
    {
     "name": "stderr",
     "output_type": "stream",
     "text": [
      "eval: 100%|█████████▉| 471/472 [03:48<00:00, 10.26it/s]2023-07-27 16:20:07,162   INFO  Average predicted number of objects(3769 samples): 30.629\n",
      "eval: 100%|██████████| 472/472 [04:08<00:00,  1.90it/s]\n"
     ]
    },
    {
     "name": "stdout",
     "output_type": "stream",
     "text": [
      "{'recall/roi_0.3': 0.0, 'recall/rcnn_0.3': 0.0, 'recall/roi_0.5': 0.0, 'recall/rcnn_0.5': 0.0, 'recall/roi_0.7': 0.0, 'recall/rcnn_0.7': 0.0, 'Car_aos/easy_R40': 89.96656992070855, 'Car_aos/moderate_R40': 75.06571227225155, 'Car_aos/hard_R40': 71.25574556282328, 'Car_3d/easy_R40': 62.602834675056904, 'Car_3d/moderate_R40': 46.48343337310615, 'Car_3d/hard_R40': 42.022348898563216, 'Car_bev/easy_R40': 89.86434950477339, 'Car_bev/moderate_R40': 80.63667690516002, 'Car_bev/hard_R40': 76.9731767318051, 'Car_image/easy_R40': 90.11354005463421, 'Car_image/moderate_R40': 75.36015968758143, 'Car_image/hard_R40': 71.72610018023545, 'Pedestrian_aos/easy_R40': 32.757928507710666, 'Pedestrian_aos/moderate_R40': 27.825319995212507, 'Pedestrian_aos/hard_R40': 25.249536855633387, 'Pedestrian_3d/easy_R40': 26.706379745364835, 'Pedestrian_3d/moderate_R40': 21.279440732943463, 'Pedestrian_3d/hard_R40': 18.33981943758825, 'Pedestrian_bev/easy_R40': 38.552051286356765, 'Pedestrian_bev/moderate_R40': 31.84563645890638, 'Pedestrian_bev/hard_R40': 27.891624076027945, 'Pedestrian_image/easy_R40': 47.79542679356544, 'Pedestrian_image/moderate_R40': 40.53885062658728, 'Pedestrian_image/hard_R40': 36.785368786851954, 'Cyclist_aos/easy_R40': 65.64320973155155, 'Cyclist_aos/moderate_R40': 49.730031003420045, 'Cyclist_aos/hard_R40': 46.864068937364394, 'Cyclist_3d/easy_R40': 55.488057454166594, 'Cyclist_3d/moderate_R40': 37.707664887967205, 'Cyclist_3d/hard_R40': 35.38449695502926, 'Cyclist_bev/easy_R40': 64.1988681853935, 'Cyclist_bev/moderate_R40': 46.34684974952846, 'Cyclist_bev/hard_R40': 43.42549232406932, 'Cyclist_image/easy_R40': 66.54956349917789, 'Cyclist_image/moderate_R40': 52.02986872364901, 'Cyclist_image/hard_R40': 49.04929762168247}\n",
      "file: I-V_data_1.2um_length_250nm_diameter_BT_4V_10s_third_etch_15min_Pb_ED_3h_180C_MAI_no_200nm_Ag_memory_6V_carbon_paste_no_wait.xlsx, sigma: 0.22859124963661484, usability: 0.13200051134831037, evaluate-1\n"
     ]
    },
    {
     "name": "stderr",
     "output_type": "stream",
     "text": [
      "eval: 100%|██████████| 472/472 [03:58<00:00, 12.00it/s]2023-07-27 16:24:31,913   INFO  Average predicted number of objects(3769 samples): 20.852\n",
      "eval: 100%|██████████| 472/472 [04:14<00:00,  1.86it/s]\n"
     ]
    },
    {
     "name": "stdout",
     "output_type": "stream",
     "text": [
      "{'recall/roi_0.3': 0.0, 'recall/rcnn_0.3': 0.0, 'recall/roi_0.5': 0.0, 'recall/rcnn_0.5': 0.0, 'recall/roi_0.7': 0.0, 'recall/rcnn_0.7': 0.0, 'Car_aos/easy_R40': 94.36190378550906, 'Car_aos/moderate_R40': 85.13584755901388, 'Car_aos/hard_R40': 82.11630409412514, 'Car_3d/easy_R40': 66.61498927991806, 'Car_3d/moderate_R40': 55.746850799565216, 'Car_3d/hard_R40': 52.7514144621996, 'Car_bev/easy_R40': 87.10233103786693, 'Car_bev/moderate_R40': 78.34025487460849, 'Car_bev/hard_R40': 75.7397069724883, 'Car_image/easy_R40': 94.48699794804207, 'Car_image/moderate_R40': 85.58506226096434, 'Car_image/hard_R40': 82.83168560083774, 'Pedestrian_aos/easy_R40': 12.706901131632758, 'Pedestrian_aos/moderate_R40': 11.571461581950363, 'Pedestrian_aos/hard_R40': 11.272513666836195, 'Pedestrian_3d/easy_R40': 9.6853852808033, 'Pedestrian_3d/moderate_R40': 8.37452546061178, 'Pedestrian_3d/hard_R40': 7.3109466356724235, 'Pedestrian_bev/easy_R40': 46.01104595451576, 'Pedestrian_bev/moderate_R40': 40.97538413626979, 'Pedestrian_bev/hard_R40': 37.920228450891706, 'Pedestrian_image/easy_R40': 21.85688770016427, 'Pedestrian_image/moderate_R40': 20.050607820634, 'Pedestrian_image/hard_R40': 19.987844011705075, 'Cyclist_aos/easy_R40': 78.56543337400146, 'Cyclist_aos/moderate_R40': 58.98594936925362, 'Cyclist_aos/hard_R40': 56.37502212742993, 'Cyclist_3d/easy_R40': 67.38953774138785, 'Cyclist_3d/moderate_R40': 45.86989296682716, 'Cyclist_3d/hard_R40': 43.19998669423566, 'Cyclist_bev/easy_R40': 78.004687690487, 'Cyclist_bev/moderate_R40': 58.218591634792226, 'Cyclist_bev/hard_R40': 54.71326737289388, 'Cyclist_image/easy_R40': 79.90102114566022, 'Cyclist_image/moderate_R40': 61.237598686352136, 'Cyclist_image/hard_R40': 58.74768119157561}\n",
      "file: I-V_data_1.2um_length_250nm_diameter_BT_4V_10s_third_etch_15min_Pb_ED_3h_180C_MAI_no_200nm_Ag_memory_6V_carbon_paste_no_wait.xlsx, sigma: 0.22859124963661484, usability: 0.13200051134831037, evaluate-2\n"
     ]
    },
    {
     "name": "stderr",
     "output_type": "stream",
     "text": [
      "eval: 100%|██████████| 472/472 [03:57<00:00, 12.00it/s]2023-07-27 16:28:52,554   INFO  Average predicted number of objects(3769 samples): 31.639\n",
      "eval: 100%|██████████| 472/472 [04:16<00:00,  1.84it/s]\n"
     ]
    },
    {
     "name": "stdout",
     "output_type": "stream",
     "text": [
      "{'recall/roi_0.3': 0.0, 'recall/rcnn_0.3': 0.0, 'recall/roi_0.5': 0.0, 'recall/rcnn_0.5': 0.0, 'recall/roi_0.7': 0.0, 'recall/rcnn_0.7': 0.0, 'Car_aos/easy_R40': 90.35004053440414, 'Car_aos/moderate_R40': 79.39736382312472, 'Car_aos/hard_R40': 76.1417813327348, 'Car_3d/easy_R40': 63.66107583181324, 'Car_3d/moderate_R40': 53.44890914353624, 'Car_3d/hard_R40': 49.570282070130936, 'Car_bev/easy_R40': 88.0147026891921, 'Car_bev/moderate_R40': 81.00493009191331, 'Car_bev/hard_R40': 77.83380219617409, 'Car_image/easy_R40': 90.55603958130973, 'Car_image/moderate_R40': 79.99969445855159, 'Car_image/hard_R40': 77.0066894432928, 'Pedestrian_aos/easy_R40': 2.500505643956686, 'Pedestrian_aos/moderate_R40': 1.5203071582082723, 'Pedestrian_aos/hard_R40': 1.573164485004077, 'Pedestrian_3d/easy_R40': 0.19529582128566964, 'Pedestrian_3d/moderate_R40': 0.08767170525665705, 'Pedestrian_3d/hard_R40': 0.09095205686774013, 'Pedestrian_bev/easy_R40': 1.713010186235826, 'Pedestrian_bev/moderate_R40': 1.1907058105329489, 'Pedestrian_bev/hard_R40': 1.2455447684939158, 'Pedestrian_image/easy_R40': 4.492822762112606, 'Pedestrian_image/moderate_R40': 2.635962789851881, 'Pedestrian_image/hard_R40': 2.7172664162515754, 'Cyclist_aos/easy_R40': 23.856141137606368, 'Cyclist_aos/moderate_R40': 18.717309467411308, 'Cyclist_aos/hard_R40': 17.396084318667032, 'Cyclist_3d/easy_R40': 20.775186679555876, 'Cyclist_3d/moderate_R40': 12.378927523781535, 'Cyclist_3d/hard_R40': 11.667432757287239, 'Cyclist_bev/easy_R40': 23.49518477387244, 'Cyclist_bev/moderate_R40': 15.308500655972798, 'Cyclist_bev/hard_R40': 13.985183730027856, 'Cyclist_image/easy_R40': 25.097667664770334, 'Cyclist_image/moderate_R40': 20.200232005962498, 'Cyclist_image/hard_R40': 18.908016063487324}\n",
      "file: I-V_data_1.2um_length_250nm_diameter_BT_4V_10s_third_etch_15min_Pb_ED_3h_180C_MAI_no_200nm_Ag_memory_6V_carbon_paste_no_wait.xlsx, sigma: 0.22859124963661484, usability: 0.13200051134831037, evaluate-3\n"
     ]
    },
    {
     "name": "stderr",
     "output_type": "stream",
     "text": [
      "eval: 100%|█████████▉| 471/472 [04:00<00:00, 10.63it/s]2023-07-27 16:33:19,309   INFO  Average predicted number of objects(3769 samples): 27.418\n",
      "eval: 100%|██████████| 472/472 [04:18<00:00,  1.82it/s]\n"
     ]
    },
    {
     "name": "stdout",
     "output_type": "stream",
     "text": [
      "{'recall/roi_0.3': 0.0, 'recall/rcnn_0.3': 0.0, 'recall/roi_0.5': 0.0, 'recall/rcnn_0.5': 0.0, 'recall/roi_0.7': 0.0, 'recall/rcnn_0.7': 0.0, 'Car_aos/easy_R40': 93.01905090065749, 'Car_aos/moderate_R40': 81.41514031946564, 'Car_aos/hard_R40': 76.66528925102276, 'Car_3d/easy_R40': 59.43895495392687, 'Car_3d/moderate_R40': 48.00405017579238, 'Car_3d/hard_R40': 43.73622266609103, 'Car_bev/easy_R40': 89.72772662039162, 'Car_bev/moderate_R40': 78.63829184411524, 'Car_bev/hard_R40': 74.19878617116571, 'Car_image/easy_R40': 93.30187037560978, 'Car_image/moderate_R40': 82.14972522680881, 'Car_image/hard_R40': 77.59311073327164, 'Pedestrian_aos/easy_R40': 7.295138403613752, 'Pedestrian_aos/moderate_R40': 6.6277443216227745, 'Pedestrian_aos/hard_R40': 6.022264448171014, 'Pedestrian_3d/easy_R40': 8.955375368493607, 'Pedestrian_3d/moderate_R40': 7.72722252223624, 'Pedestrian_3d/hard_R40': 6.982126072424731, 'Pedestrian_bev/easy_R40': 42.18023914689784, 'Pedestrian_bev/moderate_R40': 38.180598043308414, 'Pedestrian_bev/hard_R40': 35.06585547794411, 'Pedestrian_image/easy_R40': 11.000968978296525, 'Pedestrian_image/moderate_R40': 10.20340991456368, 'Pedestrian_image/hard_R40': 9.579440963199536, 'Cyclist_aos/easy_R40': 60.627226143747784, 'Cyclist_aos/moderate_R40': 42.54540648991741, 'Cyclist_aos/hard_R40': 40.12204245601977, 'Cyclist_3d/easy_R40': 50.75226476349759, 'Cyclist_3d/moderate_R40': 33.79033541522384, 'Cyclist_3d/hard_R40': 31.649784308934642, 'Cyclist_bev/easy_R40': 64.89689647803984, 'Cyclist_bev/moderate_R40': 44.773330028896225, 'Cyclist_bev/hard_R40': 41.97889869218609, 'Cyclist_image/easy_R40': 63.65104589261053, 'Cyclist_image/moderate_R40': 45.32609885997886, 'Cyclist_image/hard_R40': 42.934873081657415}\n",
      "file: I-V_data_1.2um_length_250nm_diameter_BT_4V_10s_third_etch_15min_Pb_ED_3h_180C_MAI_no_200nm_Ag_memory_6V_carbon_paste_no_wait.xlsx, sigma: 0.22859124963661484, usability: 0.13200051134831037, evaluate-4\n"
     ]
    },
    {
     "name": "stderr",
     "output_type": "stream",
     "text": [
      "eval: 100%|██████████| 472/472 [03:57<00:00, 12.16it/s]2023-07-27 16:37:41,968   INFO  Average predicted number of objects(3769 samples): 28.872\n",
      "eval: 100%|██████████| 472/472 [04:16<00:00,  1.84it/s]\n"
     ]
    },
    {
     "name": "stdout",
     "output_type": "stream",
     "text": [
      "{'recall/roi_0.3': 0.0, 'recall/rcnn_0.3': 0.0, 'recall/roi_0.5': 0.0, 'recall/rcnn_0.5': 0.0, 'recall/roi_0.7': 0.0, 'recall/rcnn_0.7': 0.0, 'Car_aos/easy_R40': 92.32524157809229, 'Car_aos/moderate_R40': 80.5269747712804, 'Car_aos/hard_R40': 77.38725316106323, 'Car_3d/easy_R40': 54.61838301842102, 'Car_3d/moderate_R40': 44.720469105120856, 'Car_3d/hard_R40': 42.874445947406635, 'Car_bev/easy_R40': 89.86099835925593, 'Car_bev/moderate_R40': 81.07390573754583, 'Car_bev/hard_R40': 77.97168976204871, 'Car_image/easy_R40': 92.72305238064428, 'Car_image/moderate_R40': 81.31778508418878, 'Car_image/hard_R40': 78.36834146333602, 'Pedestrian_aos/easy_R40': 6.203602812367422, 'Pedestrian_aos/moderate_R40': 5.748448502225614, 'Pedestrian_aos/hard_R40': 5.413354762742532, 'Pedestrian_3d/easy_R40': 7.490686193577021, 'Pedestrian_3d/moderate_R40': 6.3003896500117795, 'Pedestrian_3d/hard_R40': 5.36817811347151, 'Pedestrian_bev/easy_R40': 46.64651479682315, 'Pedestrian_bev/moderate_R40': 39.64224182086784, 'Pedestrian_bev/hard_R40': 35.29585910644726, 'Pedestrian_image/easy_R40': 11.581343265508908, 'Pedestrian_image/moderate_R40': 10.916520244351133, 'Pedestrian_image/hard_R40': 10.12510311543556, 'Cyclist_aos/easy_R40': 63.00275733450926, 'Cyclist_aos/moderate_R40': 45.34923423513947, 'Cyclist_aos/hard_R40': 42.544894351480345, 'Cyclist_3d/easy_R40': 55.165159638592954, 'Cyclist_3d/moderate_R40': 38.62555418548923, 'Cyclist_3d/hard_R40': 35.8066228059679, 'Cyclist_bev/easy_R40': 63.15266171509785, 'Cyclist_bev/moderate_R40': 45.57764844132066, 'Cyclist_bev/hard_R40': 42.43452445942383, 'Cyclist_image/easy_R40': 64.22396212740709, 'Cyclist_image/moderate_R40': 46.7780842183477, 'Cyclist_image/hard_R40': 43.91041792986316}\n",
      "file: I-V_data_1.2um_length_250nm_diameter_BT_4V_10s_third_etch_15min_Pb_ED_3h_180C_MAI_no_200nm_Ag_memory_6V_carbon_paste_no_wait.xlsx, sigma: 0.22859124963661484, usability: 0.13200051134831037, evaluate-5\n"
     ]
    },
    {
     "name": "stderr",
     "output_type": "stream",
     "text": [
      "eval: 100%|█████████▉| 471/472 [03:58<00:00, 10.67it/s]2023-07-27 16:42:05,415   INFO  Average predicted number of objects(3769 samples): 21.551\n",
      "eval: 100%|██████████| 472/472 [04:14<00:00,  1.85it/s]\n"
     ]
    },
    {
     "name": "stdout",
     "output_type": "stream",
     "text": [
      "{'recall/roi_0.3': 0.0, 'recall/rcnn_0.3': 0.0, 'recall/roi_0.5': 0.0, 'recall/rcnn_0.5': 0.0, 'recall/roi_0.7': 0.0, 'recall/rcnn_0.7': 0.0, 'Car_aos/easy_R40': 71.47038038824579, 'Car_aos/moderate_R40': 61.959416202881734, 'Car_aos/hard_R40': 58.19800657892644, 'Car_3d/easy_R40': 15.058588762006117, 'Car_3d/moderate_R40': 14.928367756210797, 'Car_3d/hard_R40': 14.235179546824956, 'Car_bev/easy_R40': 88.64285293464276, 'Car_bev/moderate_R40': 78.28784255006751, 'Car_bev/hard_R40': 74.2959071739208, 'Car_image/easy_R40': 71.61555244999465, 'Car_image/moderate_R40': 62.29022791139067, 'Car_image/hard_R40': 58.65805483498022, 'Pedestrian_aos/easy_R40': 26.455685156768073, 'Pedestrian_aos/moderate_R40': 22.504548538969868, 'Pedestrian_aos/hard_R40': 20.831117192364935, 'Pedestrian_3d/easy_R40': 17.608541794615913, 'Pedestrian_3d/moderate_R40': 14.605866354031033, 'Pedestrian_3d/hard_R40': 13.110854242049719, 'Pedestrian_bev/easy_R40': 29.28127813845697, 'Pedestrian_bev/moderate_R40': 24.226706449202943, 'Pedestrian_bev/hard_R40': 21.719450792252275, 'Pedestrian_image/easy_R40': 34.511692856324835, 'Pedestrian_image/moderate_R40': 29.576845254338963, 'Pedestrian_image/hard_R40': 27.817982453109142, 'Cyclist_aos/easy_R40': 62.91980545795782, 'Cyclist_aos/moderate_R40': 43.62048947507204, 'Cyclist_aos/hard_R40': 40.7228664373192, 'Cyclist_3d/easy_R40': 49.61321738838052, 'Cyclist_3d/moderate_R40': 33.78069654330825, 'Cyclist_3d/hard_R40': 31.867791337481123, 'Cyclist_bev/easy_R40': 61.73413083257008, 'Cyclist_bev/moderate_R40': 43.10635821241327, 'Cyclist_bev/hard_R40': 40.27420270711328, 'Cyclist_image/easy_R40': 64.79266093723513, 'Cyclist_image/moderate_R40': 46.625394181783754, 'Cyclist_image/hard_R40': 43.78214574269793}\n",
      "file: I-V_data_1.2um_length_250nm_diameter_BT_4V_10s_third_etch_15min_Pb_ED_3h_180C_MAI_no_200nm_Ag_memory_6V_carbon_paste_no_wait.xlsx, sigma: 0.22859124963661484, usability: 0.13200051134831037, evaluate-6\n"
     ]
    },
    {
     "name": "stderr",
     "output_type": "stream",
     "text": [
      "eval: 100%|█████████▉| 471/472 [03:53<00:00, 10.71it/s]2023-07-27 16:46:22,566   INFO  Average predicted number of objects(3769 samples): 26.094\n",
      "eval: 100%|██████████| 472/472 [04:11<00:00,  1.87it/s]\n"
     ]
    },
    {
     "name": "stdout",
     "output_type": "stream",
     "text": [
      "{'recall/roi_0.3': 0.0, 'recall/rcnn_0.3': 0.0, 'recall/roi_0.5': 0.0, 'recall/rcnn_0.5': 0.0, 'recall/roi_0.7': 0.0, 'recall/rcnn_0.7': 0.0, 'Car_aos/easy_R40': 95.89029367405531, 'Car_aos/moderate_R40': 84.23624834889311, 'Car_aos/hard_R40': 80.80774439578356, 'Car_3d/easy_R40': 72.49937918525235, 'Car_3d/moderate_R40': 58.69066874249318, 'Car_3d/hard_R40': 54.02130499627891, 'Car_bev/easy_R40': 92.2550632474158, 'Car_bev/moderate_R40': 81.58838014581464, 'Car_bev/hard_R40': 78.21165190013217, 'Car_image/easy_R40': 96.00460919089618, 'Car_image/moderate_R40': 84.69910205836972, 'Car_image/hard_R40': 81.54484277720424, 'Pedestrian_aos/easy_R40': 19.03793406785697, 'Pedestrian_aos/moderate_R40': 17.170693894760998, 'Pedestrian_aos/hard_R40': 16.12046076422467, 'Pedestrian_3d/easy_R40': 27.198982465031126, 'Pedestrian_3d/moderate_R40': 23.259682528289346, 'Pedestrian_3d/hard_R40': 20.431379732381828, 'Pedestrian_bev/easy_R40': 41.490100428552765, 'Pedestrian_bev/moderate_R40': 36.082091485073306, 'Pedestrian_bev/hard_R40': 33.19437447958998, 'Pedestrian_image/easy_R40': 31.463802476685355, 'Pedestrian_image/moderate_R40': 27.869311347067843, 'Pedestrian_image/hard_R40': 26.3960194035696, 'Cyclist_aos/easy_R40': 63.911189383874415, 'Cyclist_aos/moderate_R40': 42.89434628768526, 'Cyclist_aos/hard_R40': 41.155725851772694, 'Cyclist_3d/easy_R40': 55.4376124720086, 'Cyclist_3d/moderate_R40': 36.53956971291258, 'Cyclist_3d/hard_R40': 34.95383289445274, 'Cyclist_bev/easy_R40': 62.735225001491976, 'Cyclist_bev/moderate_R40': 42.28198181918451, 'Cyclist_bev/hard_R40': 40.43667888629736, 'Cyclist_image/easy_R40': 65.19858575182651, 'Cyclist_image/moderate_R40': 44.854019795584335, 'Cyclist_image/hard_R40': 43.0539357595108}\n",
      "file: I-V_data_1.2um_length_250nm_diameter_BT_4V_10s_third_etch_15min_Pb_ED_3h_180C_MAI_no_200nm_Ag_memory_6V_carbon_paste_no_wait.xlsx, sigma: 0.22859124963661484, usability: 0.13200051134831037, evaluate-7\n"
     ]
    },
    {
     "name": "stderr",
     "output_type": "stream",
     "text": [
      "eval: 100%|█████████▉| 471/472 [03:24<00:00, 11.60it/s]2023-07-27 16:50:12,314   INFO  Average predicted number of objects(3769 samples): 21.621\n",
      "eval: 100%|██████████| 472/472 [03:40<00:00,  2.14it/s]\n"
     ]
    },
    {
     "name": "stdout",
     "output_type": "stream",
     "text": [
      "{'recall/roi_0.3': 0.0, 'recall/rcnn_0.3': 0.0, 'recall/roi_0.5': 0.0, 'recall/rcnn_0.5': 0.0, 'recall/roi_0.7': 0.0, 'recall/rcnn_0.7': 0.0, 'Car_aos/easy_R40': 73.97956932202683, 'Car_aos/moderate_R40': 65.65750982542833, 'Car_aos/hard_R40': 61.00093635724447, 'Car_3d/easy_R40': 35.53613381254747, 'Car_3d/moderate_R40': 29.857190985593597, 'Car_3d/hard_R40': 26.978974910789294, 'Car_bev/easy_R40': 89.50241720539209, 'Car_bev/moderate_R40': 81.90366929460724, 'Car_bev/hard_R40': 80.0437420143434, 'Car_image/easy_R40': 74.06145040868688, 'Car_image/moderate_R40': 65.83017083265813, 'Car_image/hard_R40': 61.447754307216215, 'Pedestrian_aos/easy_R40': 28.289317600399905, 'Pedestrian_aos/moderate_R40': 26.250410930849977, 'Pedestrian_aos/hard_R40': 25.17699680934286, 'Pedestrian_3d/easy_R40': 29.004340363240903, 'Pedestrian_3d/moderate_R40': 27.246819207635593, 'Pedestrian_3d/hard_R40': 24.696328492318514, 'Pedestrian_bev/easy_R40': 48.801995789094775, 'Pedestrian_bev/moderate_R40': 45.126285821106535, 'Pedestrian_bev/hard_R40': 42.244266261888725, 'Pedestrian_image/easy_R40': 40.79831026492945, 'Pedestrian_image/moderate_R40': 38.37879373336501, 'Pedestrian_image/hard_R40': 37.59094421075467, 'Cyclist_aos/easy_R40': 67.43400499902003, 'Cyclist_aos/moderate_R40': 48.52619050758421, 'Cyclist_aos/hard_R40': 46.3444635922003, 'Cyclist_3d/easy_R40': 67.74688719960619, 'Cyclist_3d/moderate_R40': 44.253871134942884, 'Cyclist_3d/hard_R40': 41.14801190569635, 'Cyclist_bev/easy_R40': 72.85179457221186, 'Cyclist_bev/moderate_R40': 49.019944501162435, 'Cyclist_bev/hard_R40': 45.8177982282289, 'Cyclist_image/easy_R40': 74.24580029966351, 'Cyclist_image/moderate_R40': 54.64100665833084, 'Cyclist_image/hard_R40': 52.26714683376096}\n",
      "file: I-V_data_1.2um_length_250nm_diameter_BT_4V_10s_third_etch_15min_Pb_ED_3h_180C_MAI_no_200nm_Ag_memory_6V_carbon_paste_no_wait.xlsx, sigma: 0.22859124963661484, usability: 0.13200051134831037, evaluate-8\n"
     ]
    },
    {
     "name": "stderr",
     "output_type": "stream",
     "text": [
      "eval: 100%|█████████▉| 471/472 [03:25<00:00, 12.57it/s]2023-07-27 16:53:54,241   INFO  Average predicted number of objects(3769 samples): 26.129\n",
      "eval: 100%|██████████| 472/472 [03:42<00:00,  2.13it/s]\n"
     ]
    },
    {
     "name": "stdout",
     "output_type": "stream",
     "text": [
      "{'recall/roi_0.3': 0.0, 'recall/rcnn_0.3': 0.0, 'recall/roi_0.5': 0.0, 'recall/rcnn_0.5': 0.0, 'recall/roi_0.7': 0.0, 'recall/rcnn_0.7': 0.0, 'Car_aos/easy_R40': 81.2893114450173, 'Car_aos/moderate_R40': 70.27229788111549, 'Car_aos/hard_R40': 69.32462076306567, 'Car_3d/easy_R40': 46.83188306795783, 'Car_3d/moderate_R40': 40.66476917470577, 'Car_3d/hard_R40': 40.07447823151152, 'Car_bev/easy_R40': 89.62710348366822, 'Car_bev/moderate_R40': 79.49564651232978, 'Car_bev/hard_R40': 76.50336105646622, 'Car_image/easy_R40': 81.41590783619665, 'Car_image/moderate_R40': 70.75457405392774, 'Car_image/hard_R40': 69.98793173474185, 'Pedestrian_aos/easy_R40': 8.525886752447704, 'Pedestrian_aos/moderate_R40': 7.326757194772966, 'Pedestrian_aos/hard_R40': 6.744746911076546, 'Pedestrian_3d/easy_R40': 7.1592311462477545, 'Pedestrian_3d/moderate_R40': 6.021702166801077, 'Pedestrian_3d/hard_R40': 5.106097323343859, 'Pedestrian_bev/easy_R40': 28.42372960678004, 'Pedestrian_bev/moderate_R40': 24.01176944917959, 'Pedestrian_bev/hard_R40': 21.51568251043394, 'Pedestrian_image/easy_R40': 12.12099516001961, 'Pedestrian_image/moderate_R40': 10.539462087599668, 'Pedestrian_image/hard_R40': 10.139421442783444, 'Cyclist_aos/easy_R40': 33.00183451931416, 'Cyclist_aos/moderate_R40': 21.6297628816025, 'Cyclist_aos/hard_R40': 20.87201813143144, 'Cyclist_3d/easy_R40': 30.763196656711273, 'Cyclist_3d/moderate_R40': 19.261814257880015, 'Cyclist_3d/hard_R40': 18.044473202074542, 'Cyclist_bev/easy_R40': 34.33165167704221, 'Cyclist_bev/moderate_R40': 22.115267053452815, 'Cyclist_bev/hard_R40': 21.323828214793274, 'Cyclist_image/easy_R40': 35.1083997406212, 'Cyclist_image/moderate_R40': 22.980935629327632, 'Cyclist_image/hard_R40': 22.16546696729852}\n",
      "file: I-V_data_1.2um_length_250nm_diameter_BT_4V_10s_third_etch_15min_Pb_ED_3h_180C_MAI_no_200nm_Ag_memory_6V_carbon_paste_no_wait.xlsx, sigma: 0.22859124963661484, usability: 0.13200051134831037, evaluate-9\n"
     ]
    },
    {
     "name": "stderr",
     "output_type": "stream",
     "text": [
      "eval: 100%|█████████▉| 471/472 [03:23<00:00, 10.79it/s]2023-07-27 16:57:35,548   INFO  Average predicted number of objects(3769 samples): 32.510\n",
      "eval: 100%|██████████| 472/472 [03:43<00:00,  2.11it/s]\n"
     ]
    },
    {
     "name": "stdout",
     "output_type": "stream",
     "text": [
      "{'recall/roi_0.3': 0.0, 'recall/rcnn_0.3': 0.0, 'recall/roi_0.5': 0.0, 'recall/rcnn_0.5': 0.0, 'recall/roi_0.7': 0.0, 'recall/rcnn_0.7': 0.0, 'Car_aos/easy_R40': 89.95832248760571, 'Car_aos/moderate_R40': 76.83337621285735, 'Car_aos/hard_R40': 75.2497714766992, 'Car_3d/easy_R40': 48.05617585770611, 'Car_3d/moderate_R40': 38.758202598330236, 'Car_3d/hard_R40': 37.16349497255329, 'Car_bev/easy_R40': 87.01229518607585, 'Car_bev/moderate_R40': 78.28453800926364, 'Car_bev/hard_R40': 76.16453928092162, 'Car_image/easy_R40': 90.14333398868526, 'Car_image/moderate_R40': 77.28797880790833, 'Car_image/hard_R40': 75.87217175891654, 'Pedestrian_aos/easy_R40': 30.71234414123524, 'Pedestrian_aos/moderate_R40': 27.314365637129512, 'Pedestrian_aos/hard_R40': 25.41007797834867, 'Pedestrian_3d/easy_R40': 42.24277422671518, 'Pedestrian_3d/moderate_R40': 36.52063907260257, 'Pedestrian_3d/hard_R40': 32.17115446059452, 'Pedestrian_bev/easy_R40': 50.82688842629419, 'Pedestrian_bev/moderate_R40': 44.330784870154346, 'Pedestrian_bev/hard_R40': 40.11128252824877, 'Pedestrian_image/easy_R40': 52.37160058157298, 'Pedestrian_image/moderate_R40': 46.19996284750617, 'Pedestrian_image/hard_R40': 43.34057188923908, 'Cyclist_aos/easy_R40': 72.05435753977173, 'Cyclist_aos/moderate_R40': 53.83437230117877, 'Cyclist_aos/hard_R40': 51.003020235391304, 'Cyclist_3d/easy_R40': 55.88919303781827, 'Cyclist_3d/moderate_R40': 35.669665259032236, 'Cyclist_3d/hard_R40': 33.668641902774226, 'Cyclist_bev/easy_R40': 64.45803890412446, 'Cyclist_bev/moderate_R40': 45.70227897089328, 'Cyclist_bev/hard_R40': 43.137752376525135, 'Cyclist_image/easy_R40': 72.94703023887796, 'Cyclist_image/moderate_R40': 55.28311772476092, 'Cyclist_image/hard_R40': 52.50094539385537}\n",
      "file: I-V_data_1.5um_length_200nm_diameter_BT_4V_NA_third_etch_10min_Pb_ED_1h_180C_MAI_no_100nm_Ag_memory_8V_carbon_paste_no_wait.xlsx, sigma: 0.265606257796708, usability: 0.033514662690766715, evaluate-0\n"
     ]
    },
    {
     "name": "stderr",
     "output_type": "stream",
     "text": [
      "eval: 100%|█████████▉| 471/472 [03:33<00:00,  9.04it/s]2023-07-27 17:01:36,411   INFO  Average predicted number of objects(3769 samples): 499.834\n",
      "eval: 100%|██████████| 472/472 [05:49<00:00,  1.35it/s]\n"
     ]
    },
    {
     "name": "stdout",
     "output_type": "stream",
     "text": [
      "{'recall/roi_0.3': 0.0, 'recall/rcnn_0.3': 0.0, 'recall/roi_0.5': 0.0, 'recall/rcnn_0.5': 0.0, 'recall/roi_0.7': 0.0, 'recall/rcnn_0.7': 0.0, 'Car_aos/easy_R40': 0.00876491593457046, 'Car_aos/moderate_R40': 0.015086246880148283, 'Car_aos/hard_R40': 0.02005353778529688, 'Car_3d/easy_R40': 0.00011180268010754103, 'Car_3d/moderate_R40': 6.0338013551917845e-05, 'Car_3d/hard_R40': 9.239139862476346e-05, 'Car_bev/easy_R40': 0.00018327899874682986, 'Car_bev/moderate_R40': 0.0002868866906326433, 'Car_bev/hard_R40': 0.0003806262370352704, 'Car_image/easy_R40': 0.016179582160215922, 'Car_image/moderate_R40': 0.030205635518521064, 'Car_image/hard_R40': 0.037085102476116315, 'Pedestrian_aos/easy_R40': 0.0, 'Pedestrian_aos/moderate_R40': 0.0, 'Pedestrian_aos/hard_R40': 0.0, 'Pedestrian_3d/easy_R40': 0.0, 'Pedestrian_3d/moderate_R40': 0.0, 'Pedestrian_3d/hard_R40': 0.0, 'Pedestrian_bev/easy_R40': 0.0, 'Pedestrian_bev/moderate_R40': 0.0, 'Pedestrian_bev/hard_R40': 0.0, 'Pedestrian_image/easy_R40': 0.0, 'Pedestrian_image/moderate_R40': 0.0, 'Pedestrian_image/hard_R40': 0.0, 'Cyclist_aos/easy_R40': 0.0, 'Cyclist_aos/moderate_R40': 0.0, 'Cyclist_aos/hard_R40': 0.0, 'Cyclist_3d/easy_R40': 0.0, 'Cyclist_3d/moderate_R40': 0.0, 'Cyclist_3d/hard_R40': 0.0, 'Cyclist_bev/easy_R40': 0.0, 'Cyclist_bev/moderate_R40': 0.0, 'Cyclist_bev/hard_R40': 0.0, 'Cyclist_image/easy_R40': 0.0, 'Cyclist_image/moderate_R40': 0.0, 'Cyclist_image/hard_R40': 0.0}\n",
      "file: I-V_data_1.5um_length_200nm_diameter_BT_4V_NA_third_etch_10min_Pb_ED_1h_180C_MAI_no_100nm_Ag_memory_8V_carbon_paste_no_wait.xlsx, sigma: 0.265606257796708, usability: 0.033514662690766715, evaluate-1\n"
     ]
    },
    {
     "name": "stderr",
     "output_type": "stream",
     "text": [
      "eval: 100%|█████████▉| 471/472 [03:50<00:00, 10.21it/s]2023-07-27 17:07:45,207   INFO  Average predicted number of objects(3769 samples): 500.000\n",
      "eval: 100%|██████████| 472/472 [06:06<00:00,  1.29it/s]\n"
     ]
    },
    {
     "name": "stdout",
     "output_type": "stream",
     "text": [
      "{'recall/roi_0.3': 0.0, 'recall/rcnn_0.3': 0.0, 'recall/roi_0.5': 0.0, 'recall/rcnn_0.5': 0.0, 'recall/roi_0.7': 0.0, 'recall/rcnn_0.7': 0.0, 'Car_aos/easy_R40': 0.006253947704289596, 'Car_aos/moderate_R40': 0.009634318900451492, 'Car_aos/hard_R40': 0.012514442763849953, 'Car_3d/easy_R40': 3.569966585112763e-05, 'Car_3d/moderate_R40': 4.609495098954336e-05, 'Car_3d/hard_R40': 5.76184231450901e-05, 'Car_bev/easy_R40': 0.00016959137404716422, 'Car_bev/moderate_R40': 0.00026314010270531076, 'Car_bev/hard_R40': 0.0003534016832675827, 'Car_image/easy_R40': 0.012567949873732364, 'Car_image/moderate_R40': 0.019055647269973032, 'Car_image/hard_R40': 0.026875024852632858, 'Pedestrian_aos/easy_R40': 0.0, 'Pedestrian_aos/moderate_R40': 0.0, 'Pedestrian_aos/hard_R40': 0.0, 'Pedestrian_3d/easy_R40': 0.0, 'Pedestrian_3d/moderate_R40': 0.0, 'Pedestrian_3d/hard_R40': 0.0, 'Pedestrian_bev/easy_R40': 0.0, 'Pedestrian_bev/moderate_R40': 0.0, 'Pedestrian_bev/hard_R40': 0.0, 'Pedestrian_image/easy_R40': 0.0, 'Pedestrian_image/moderate_R40': 0.0, 'Pedestrian_image/hard_R40': 0.0, 'Cyclist_aos/easy_R40': 0.0, 'Cyclist_aos/moderate_R40': 0.0, 'Cyclist_aos/hard_R40': 0.0, 'Cyclist_3d/easy_R40': 0.0, 'Cyclist_3d/moderate_R40': 0.0, 'Cyclist_3d/hard_R40': 0.0, 'Cyclist_bev/easy_R40': 0.0, 'Cyclist_bev/moderate_R40': 0.0, 'Cyclist_bev/hard_R40': 0.0, 'Cyclist_image/easy_R40': 0.0, 'Cyclist_image/moderate_R40': 0.0, 'Cyclist_image/hard_R40': 0.0}\n",
      "file: I-V_data_1.5um_length_200nm_diameter_BT_4V_NA_third_etch_10min_Pb_ED_1h_180C_MAI_no_100nm_Ag_memory_8V_carbon_paste_no_wait.xlsx, sigma: 0.265606257796708, usability: 0.033514662690766715, evaluate-2\n"
     ]
    },
    {
     "name": "stderr",
     "output_type": "stream",
     "text": [
      "eval: 100%|█████████▉| 471/472 [03:54<00:00,  9.05it/s]2023-07-27 17:13:56,172   INFO  Average predicted number of objects(3769 samples): 500.000\n",
      "eval: 100%|██████████| 472/472 [06:02<00:00,  1.30it/s]\n"
     ]
    },
    {
     "name": "stdout",
     "output_type": "stream",
     "text": [
      "{'recall/roi_0.3': 0.0, 'recall/rcnn_0.3': 0.0, 'recall/roi_0.5': 0.0, 'recall/rcnn_0.5': 0.0, 'recall/roi_0.7': 0.0, 'recall/rcnn_0.7': 0.0, 'Car_aos/easy_R40': 0.0, 'Car_aos/moderate_R40': 0.0, 'Car_aos/hard_R40': 0.0, 'Car_3d/easy_R40': 0.0, 'Car_3d/moderate_R40': 0.0, 'Car_3d/hard_R40': 0.0, 'Car_bev/easy_R40': 0.0, 'Car_bev/moderate_R40': 0.0, 'Car_bev/hard_R40': 0.0, 'Car_image/easy_R40': 0.0, 'Car_image/moderate_R40': 0.0, 'Car_image/hard_R40': 0.0, 'Pedestrian_aos/easy_R40': 2.990382632920361e-05, 'Pedestrian_aos/moderate_R40': 0.00014477211333194877, 'Pedestrian_aos/hard_R40': 0.00018953456336784453, 'Pedestrian_3d/easy_R40': 0.0, 'Pedestrian_3d/moderate_R40': 0.0, 'Pedestrian_3d/hard_R40': 0.0, 'Pedestrian_bev/easy_R40': 0.00037955558530328127, 'Pedestrian_bev/moderate_R40': 0.0003059440559440559, 'Pedestrian_bev/hard_R40': 0.0003532891952509191, 'Pedestrian_image/easy_R40': 4.7096520017659146e-05, 'Pedestrian_image/moderate_R40': 0.0002275361287003063, 'Pedestrian_image/hard_R40': 0.000319278709027734, 'Cyclist_aos/easy_R40': 0.0, 'Cyclist_aos/moderate_R40': 0.0, 'Cyclist_aos/hard_R40': 0.0, 'Cyclist_3d/easy_R40': 0.0, 'Cyclist_3d/moderate_R40': 0.0, 'Cyclist_3d/hard_R40': 0.0, 'Cyclist_bev/easy_R40': 0.0, 'Cyclist_bev/moderate_R40': 0.0, 'Cyclist_bev/hard_R40': 0.0, 'Cyclist_image/easy_R40': 0.0, 'Cyclist_image/moderate_R40': 0.0, 'Cyclist_image/hard_R40': 0.0}\n",
      "file: I-V_data_1.5um_length_200nm_diameter_BT_4V_NA_third_etch_10min_Pb_ED_1h_180C_MAI_no_100nm_Ag_memory_8V_carbon_paste_no_wait.xlsx, sigma: 0.265606257796708, usability: 0.033514662690766715, evaluate-3\n"
     ]
    },
    {
     "name": "stderr",
     "output_type": "stream",
     "text": [
      "eval: 100%|██████████| 472/472 [03:52<00:00, 11.23it/s]2023-07-27 17:19:58,093   INFO  Average predicted number of objects(3769 samples): 500.000\n",
      "eval: 100%|██████████| 472/472 [06:00<00:00,  1.31it/s]\n"
     ]
    },
    {
     "name": "stdout",
     "output_type": "stream",
     "text": [
      "{'recall/roi_0.3': 0.0, 'recall/rcnn_0.3': 0.0, 'recall/roi_0.5': 0.0, 'recall/rcnn_0.5': 0.0, 'recall/roi_0.7': 0.0, 'recall/rcnn_0.7': 0.0, 'Car_aos/easy_R40': 0.0, 'Car_aos/moderate_R40': 0.0, 'Car_aos/hard_R40': 0.0, 'Car_3d/easy_R40': 0.0, 'Car_3d/moderate_R40': 0.0, 'Car_3d/hard_R40': 0.0, 'Car_bev/easy_R40': 0.0, 'Car_bev/moderate_R40': 0.0, 'Car_bev/hard_R40': 0.0, 'Car_image/easy_R40': 0.0, 'Car_image/moderate_R40': 0.0, 'Car_image/hard_R40': 0.0, 'Pedestrian_aos/easy_R40': 0.0, 'Pedestrian_aos/moderate_R40': 1.8247296974946763e-05, 'Pedestrian_aos/hard_R40': 3.9927313949754566e-05, 'Pedestrian_3d/easy_R40': 0.0, 'Pedestrian_3d/moderate_R40': 0.0, 'Pedestrian_3d/hard_R40': 0.0, 'Pedestrian_bev/easy_R40': 0.0, 'Pedestrian_bev/moderate_R40': 0.0, 'Pedestrian_bev/hard_R40': 0.0, 'Pedestrian_image/easy_R40': 0.0, 'Pedestrian_image/moderate_R40': 3.492189136963658e-05, 'Pedestrian_image/hard_R40': 6.984280712210385e-05, 'Cyclist_aos/easy_R40': 0.0, 'Cyclist_aos/moderate_R40': 0.0, 'Cyclist_aos/hard_R40': 0.0, 'Cyclist_3d/easy_R40': 0.0, 'Cyclist_3d/moderate_R40': 0.0, 'Cyclist_3d/hard_R40': 0.0, 'Cyclist_bev/easy_R40': 0.0, 'Cyclist_bev/moderate_R40': 0.0, 'Cyclist_bev/hard_R40': 0.0, 'Cyclist_image/easy_R40': 0.0, 'Cyclist_image/moderate_R40': 0.0, 'Cyclist_image/hard_R40': 0.0}\n",
      "file: I-V_data_1.5um_length_200nm_diameter_BT_4V_NA_third_etch_10min_Pb_ED_1h_180C_MAI_no_100nm_Ag_memory_8V_carbon_paste_no_wait.xlsx, sigma: 0.265606257796708, usability: 0.033514662690766715, evaluate-4\n"
     ]
    },
    {
     "name": "stderr",
     "output_type": "stream",
     "text": [
      "eval: 100%|██████████| 472/472 [03:47<00:00, 11.92it/s]2023-07-27 17:25:54,847   INFO  Average predicted number of objects(3769 samples): 500.000\n",
      "eval: 100%|██████████| 472/472 [06:01<00:00,  1.31it/s]\n"
     ]
    },
    {
     "name": "stdout",
     "output_type": "stream",
     "text": [
      "{'recall/roi_0.3': 0.0, 'recall/rcnn_0.3': 0.0, 'recall/roi_0.5': 0.0, 'recall/rcnn_0.5': 0.0, 'recall/roi_0.7': 0.0, 'recall/rcnn_0.7': 0.0, 'Car_aos/easy_R40': 0.004877263556911643, 'Car_aos/moderate_R40': 0.009423762819157853, 'Car_aos/hard_R40': 0.012138469277837885, 'Car_3d/easy_R40': 2.935264502554854e-05, 'Car_3d/moderate_R40': 6.703018733213727e-05, 'Car_3d/hard_R40': 8.618100922941155e-05, 'Car_bev/easy_R40': 0.0001555819881851625, 'Car_bev/moderate_R40': 0.0003026091806262708, 'Car_bev/hard_R40': 0.00037729257909546303, 'Car_image/easy_R40': 0.009155642385557416, 'Car_image/moderate_R40': 0.018022643182453186, 'Car_image/hard_R40': 0.025137951940713745, 'Pedestrian_aos/easy_R40': 0.0, 'Pedestrian_aos/moderate_R40': 0.0, 'Pedestrian_aos/hard_R40': 0.0, 'Pedestrian_3d/easy_R40': 0.0, 'Pedestrian_3d/moderate_R40': 0.0, 'Pedestrian_3d/hard_R40': 0.0, 'Pedestrian_bev/easy_R40': 0.0, 'Pedestrian_bev/moderate_R40': 0.0, 'Pedestrian_bev/hard_R40': 0.0, 'Pedestrian_image/easy_R40': 0.0, 'Pedestrian_image/moderate_R40': 0.0, 'Pedestrian_image/hard_R40': 0.0, 'Cyclist_aos/easy_R40': 0.0, 'Cyclist_aos/moderate_R40': 0.0, 'Cyclist_aos/hard_R40': 0.0, 'Cyclist_3d/easy_R40': 0.0, 'Cyclist_3d/moderate_R40': 0.0, 'Cyclist_3d/hard_R40': 0.0, 'Cyclist_bev/easy_R40': 0.0, 'Cyclist_bev/moderate_R40': 0.0, 'Cyclist_bev/hard_R40': 0.0, 'Cyclist_image/easy_R40': 0.0, 'Cyclist_image/moderate_R40': 0.0, 'Cyclist_image/hard_R40': 0.0}\n",
      "file: I-V_data_1.5um_length_200nm_diameter_BT_4V_NA_third_etch_10min_Pb_ED_1h_180C_MAI_no_100nm_Ag_memory_8V_carbon_paste_no_wait.xlsx, sigma: 0.265606257796708, usability: 0.033514662690766715, evaluate-5\n"
     ]
    },
    {
     "name": "stderr",
     "output_type": "stream",
     "text": [
      "eval: 100%|█████████▉| 471/472 [04:00<00:00,  9.23it/s]2023-07-27 17:32:09,752   INFO  Average predicted number of objects(3769 samples): 500.000\n",
      "eval: 100%|██████████| 472/472 [06:13<00:00,  1.26it/s]\n"
     ]
    },
    {
     "name": "stdout",
     "output_type": "stream",
     "text": [
      "{'recall/roi_0.3': 0.0, 'recall/rcnn_0.3': 0.0, 'recall/roi_0.5': 0.0, 'recall/rcnn_0.5': 0.0, 'recall/roi_0.7': 0.0, 'recall/rcnn_0.7': 0.0, 'Car_aos/easy_R40': 0.005144010864376289, 'Car_aos/moderate_R40': 0.009544166029741381, 'Car_aos/hard_R40': 0.013886628014603136, 'Car_3d/easy_R40': 3.873811484837902e-05, 'Car_3d/moderate_R40': 4.499995695656291e-05, 'Car_3d/hard_R40': 6.0651736165730276e-05, 'Car_bev/easy_R40': 0.00012218279260990789, 'Car_bev/moderate_R40': 0.00021326851014140678, 'Car_bev/hard_R40': 0.000285654136232762, 'Car_image/easy_R40': 0.010302974403753506, 'Car_image/moderate_R40': 0.019852444277430874, 'Car_image/hard_R40': 0.02629922953799616, 'Pedestrian_aos/easy_R40': 0.0, 'Pedestrian_aos/moderate_R40': 0.0, 'Pedestrian_aos/hard_R40': 0.0, 'Pedestrian_3d/easy_R40': 0.0, 'Pedestrian_3d/moderate_R40': 0.0, 'Pedestrian_3d/hard_R40': 0.0, 'Pedestrian_bev/easy_R40': 0.0, 'Pedestrian_bev/moderate_R40': 0.0, 'Pedestrian_bev/hard_R40': 0.0, 'Pedestrian_image/easy_R40': 0.0, 'Pedestrian_image/moderate_R40': 0.0, 'Pedestrian_image/hard_R40': 0.0, 'Cyclist_aos/easy_R40': 0.0, 'Cyclist_aos/moderate_R40': 0.0, 'Cyclist_aos/hard_R40': 0.0, 'Cyclist_3d/easy_R40': 0.0, 'Cyclist_3d/moderate_R40': 0.0, 'Cyclist_3d/hard_R40': 0.0, 'Cyclist_bev/easy_R40': 0.0, 'Cyclist_bev/moderate_R40': 0.0, 'Cyclist_bev/hard_R40': 0.0, 'Cyclist_image/easy_R40': 0.0, 'Cyclist_image/moderate_R40': 0.0, 'Cyclist_image/hard_R40': 0.0}\n",
      "file: I-V_data_1.5um_length_200nm_diameter_BT_4V_NA_third_etch_10min_Pb_ED_1h_180C_MAI_no_100nm_Ag_memory_8V_carbon_paste_no_wait.xlsx, sigma: 0.265606257796708, usability: 0.033514662690766715, evaluate-6\n"
     ]
    },
    {
     "name": "stderr",
     "output_type": "stream",
     "text": [
      "eval: 100%|█████████▉| 471/472 [04:01<00:00,  8.88it/s]2023-07-27 17:38:25,326   INFO  Average predicted number of objects(3769 samples): 500.000\n",
      "eval: 100%|██████████| 472/472 [06:14<00:00,  1.26it/s]\n"
     ]
    },
    {
     "name": "stdout",
     "output_type": "stream",
     "text": [
      "{'recall/roi_0.3': 0.0, 'recall/rcnn_0.3': 0.0, 'recall/roi_0.5': 0.0, 'recall/rcnn_0.5': 0.0, 'recall/roi_0.7': 0.0, 'recall/rcnn_0.7': 0.0, 'Car_aos/easy_R40': 0.009139754113676056, 'Car_aos/moderate_R40': 0.01354909172779435, 'Car_aos/hard_R40': 0.020755430250324676, 'Car_3d/easy_R40': 3.219397867236715e-05, 'Car_3d/moderate_R40': 6.536048228346456e-05, 'Car_3d/hard_R40': 9.035035175122049e-05, 'Car_bev/easy_R40': 0.0004390550598461317, 'Car_bev/moderate_R40': 0.0003345093708763069, 'Car_bev/hard_R40': 0.00043061619639789554, 'Car_image/easy_R40': 0.01848826612151246, 'Car_image/moderate_R40': 0.029581450414922394, 'Car_image/hard_R40': 0.04037392940464338, 'Pedestrian_aos/easy_R40': 0.0, 'Pedestrian_aos/moderate_R40': 0.0, 'Pedestrian_aos/hard_R40': 0.0, 'Pedestrian_3d/easy_R40': 0.0, 'Pedestrian_3d/moderate_R40': 0.0, 'Pedestrian_3d/hard_R40': 0.0, 'Pedestrian_bev/easy_R40': 0.0, 'Pedestrian_bev/moderate_R40': 0.0, 'Pedestrian_bev/hard_R40': 0.0, 'Pedestrian_image/easy_R40': 0.0, 'Pedestrian_image/moderate_R40': 0.0, 'Pedestrian_image/hard_R40': 0.0, 'Cyclist_aos/easy_R40': 0.0, 'Cyclist_aos/moderate_R40': 0.0, 'Cyclist_aos/hard_R40': 0.0, 'Cyclist_3d/easy_R40': 0.0, 'Cyclist_3d/moderate_R40': 0.0, 'Cyclist_3d/hard_R40': 0.0, 'Cyclist_bev/easy_R40': 0.0, 'Cyclist_bev/moderate_R40': 0.0, 'Cyclist_bev/hard_R40': 0.0, 'Cyclist_image/easy_R40': 0.0, 'Cyclist_image/moderate_R40': 0.0, 'Cyclist_image/hard_R40': 0.0}\n",
      "file: I-V_data_1.5um_length_200nm_diameter_BT_4V_NA_third_etch_10min_Pb_ED_1h_180C_MAI_no_100nm_Ag_memory_8V_carbon_paste_no_wait.xlsx, sigma: 0.265606257796708, usability: 0.033514662690766715, evaluate-7\n"
     ]
    },
    {
     "name": "stderr",
     "output_type": "stream",
     "text": [
      "eval: 100%|█████████▉| 471/472 [04:02<00:00,  9.28it/s]2023-07-27 17:44:42,544   INFO  Average predicted number of objects(3769 samples): 500.000\n",
      "eval: 100%|██████████| 472/472 [06:09<00:00,  1.28it/s]\n"
     ]
    },
    {
     "name": "stdout",
     "output_type": "stream",
     "text": [
      "{'recall/roi_0.3': 0.0, 'recall/rcnn_0.3': 0.0, 'recall/roi_0.5': 0.0, 'recall/rcnn_0.5': 0.0, 'recall/roi_0.7': 0.0, 'recall/rcnn_0.7': 0.0, 'Car_aos/easy_R40': 0.0, 'Car_aos/moderate_R40': 0.0, 'Car_aos/hard_R40': 0.0, 'Car_3d/easy_R40': 0.0, 'Car_3d/moderate_R40': 0.0, 'Car_3d/hard_R40': 0.0, 'Car_bev/easy_R40': 0.0, 'Car_bev/moderate_R40': 0.0, 'Car_bev/hard_R40': 0.0, 'Car_image/easy_R40': 0.0, 'Car_image/moderate_R40': 0.0, 'Car_image/hard_R40': 0.0, 'Pedestrian_aos/easy_R40': 2.8615893454596134e-05, 'Pedestrian_aos/moderate_R40': 6.013097745364442e-05, 'Pedestrian_aos/hard_R40': 7.25350992454092e-05, 'Pedestrian_3d/easy_R40': 0.0, 'Pedestrian_3d/moderate_R40': 0.0, 'Pedestrian_3d/hard_R40': 0.0, 'Pedestrian_bev/easy_R40': 0.0, 'Pedestrian_bev/moderate_R40': 0.0, 'Pedestrian_bev/hard_R40': 0.0, 'Pedestrian_image/easy_R40': 3.9317016247363796e-05, 'Pedestrian_image/moderate_R40': 8.978867113889073e-05, 'Pedestrian_image/hard_R40': 0.00012065203727979601, 'Cyclist_aos/easy_R40': 0.0, 'Cyclist_aos/moderate_R40': 0.0, 'Cyclist_aos/hard_R40': 0.0, 'Cyclist_3d/easy_R40': 0.0, 'Cyclist_3d/moderate_R40': 0.0, 'Cyclist_3d/hard_R40': 0.0, 'Cyclist_bev/easy_R40': 0.0, 'Cyclist_bev/moderate_R40': 0.0, 'Cyclist_bev/hard_R40': 0.0, 'Cyclist_image/easy_R40': 0.0, 'Cyclist_image/moderate_R40': 0.0, 'Cyclist_image/hard_R40': 0.0}\n",
      "file: I-V_data_1.5um_length_200nm_diameter_BT_4V_NA_third_etch_10min_Pb_ED_1h_180C_MAI_no_100nm_Ag_memory_8V_carbon_paste_no_wait.xlsx, sigma: 0.265606257796708, usability: 0.033514662690766715, evaluate-8\n"
     ]
    },
    {
     "name": "stderr",
     "output_type": "stream",
     "text": [
      "eval: 100%|█████████▉| 471/472 [03:59<00:00,  8.55it/s]2023-07-27 17:50:49,718   INFO  Average predicted number of objects(3769 samples): 499.902\n",
      "eval: 100%|██████████| 472/472 [06:12<00:00,  1.27it/s]\n"
     ]
    },
    {
     "name": "stdout",
     "output_type": "stream",
     "text": [
      "{'recall/roi_0.3': 0.0, 'recall/rcnn_0.3': 0.0, 'recall/roi_0.5': 0.0, 'recall/rcnn_0.5': 0.0, 'recall/roi_0.7': 0.0, 'recall/rcnn_0.7': 0.0, 'Car_aos/easy_R40': 0.00921550500750593, 'Car_aos/moderate_R40': 0.015385586998534866, 'Car_aos/hard_R40': 0.02341981997179585, 'Car_3d/easy_R40': 3.6400257228484414e-05, 'Car_3d/moderate_R40': 5.091677613773537e-05, 'Car_3d/hard_R40': 5.874994222922347e-05, 'Car_bev/easy_R40': 0.00015864862502529398, 'Car_bev/moderate_R40': 0.0002959503862541949, 'Car_bev/hard_R40': 0.0003660336361547777, 'Car_image/easy_R40': 0.01692117143577605, 'Car_image/moderate_R40': 0.029232489891489723, 'Car_image/hard_R40': 0.041201919323055294, 'Pedestrian_aos/easy_R40': 0.0, 'Pedestrian_aos/moderate_R40': 0.0, 'Pedestrian_aos/hard_R40': 0.0, 'Pedestrian_3d/easy_R40': 0.0, 'Pedestrian_3d/moderate_R40': 0.0, 'Pedestrian_3d/hard_R40': 0.0, 'Pedestrian_bev/easy_R40': 0.0, 'Pedestrian_bev/moderate_R40': 0.0, 'Pedestrian_bev/hard_R40': 0.0, 'Pedestrian_image/easy_R40': 0.0, 'Pedestrian_image/moderate_R40': 0.0, 'Pedestrian_image/hard_R40': 0.0, 'Cyclist_aos/easy_R40': 0.0, 'Cyclist_aos/moderate_R40': 0.0, 'Cyclist_aos/hard_R40': 0.0, 'Cyclist_3d/easy_R40': 0.0, 'Cyclist_3d/moderate_R40': 0.0, 'Cyclist_3d/hard_R40': 0.0, 'Cyclist_bev/easy_R40': 0.0, 'Cyclist_bev/moderate_R40': 0.0, 'Cyclist_bev/hard_R40': 0.0, 'Cyclist_image/easy_R40': 0.0, 'Cyclist_image/moderate_R40': 0.0, 'Cyclist_image/hard_R40': 0.0}\n",
      "file: I-V_data_1.5um_length_200nm_diameter_BT_4V_NA_third_etch_10min_Pb_ED_1h_180C_MAI_no_100nm_Ag_memory_8V_carbon_paste_no_wait.xlsx, sigma: 0.265606257796708, usability: 0.033514662690766715, evaluate-9\n"
     ]
    },
    {
     "name": "stderr",
     "output_type": "stream",
     "text": [
      "eval: 100%|█████████▉| 471/472 [04:03<00:00,  7.61it/s]2023-07-27 17:57:11,055   INFO  Average predicted number of objects(3769 samples): 498.251\n",
      "eval: 100%|██████████| 472/472 [06:16<00:00,  1.25it/s]\n"
     ]
    },
    {
     "name": "stdout",
     "output_type": "stream",
     "text": [
      "{'recall/roi_0.3': 0.0, 'recall/rcnn_0.3': 0.0, 'recall/roi_0.5': 0.0, 'recall/rcnn_0.5': 0.0, 'recall/roi_0.7': 0.0, 'recall/rcnn_0.7': 0.0, 'Car_aos/easy_R40': 0.005699946908825759, 'Car_aos/moderate_R40': 0.010530836195571854, 'Car_aos/hard_R40': 0.013175949261424161, 'Car_3d/easy_R40': 3.850747400449294e-05, 'Car_3d/moderate_R40': 5.04612155097592e-05, 'Car_3d/hard_R40': 5.24019908098553e-05, 'Car_bev/easy_R40': 0.00012441672255544839, 'Car_bev/moderate_R40': 0.0002309192760544861, 'Car_bev/hard_R40': 0.00028136654881612597, 'Car_image/easy_R40': 0.015568158123478842, 'Car_image/moderate_R40': 0.02414624620199639, 'Car_image/hard_R40': 0.033286452972249574, 'Pedestrian_aos/easy_R40': 0.0, 'Pedestrian_aos/moderate_R40': 0.0, 'Pedestrian_aos/hard_R40': 0.0, 'Pedestrian_3d/easy_R40': 0.0, 'Pedestrian_3d/moderate_R40': 0.0, 'Pedestrian_3d/hard_R40': 0.0, 'Pedestrian_bev/easy_R40': 0.0, 'Pedestrian_bev/moderate_R40': 0.0, 'Pedestrian_bev/hard_R40': 0.0, 'Pedestrian_image/easy_R40': 0.0, 'Pedestrian_image/moderate_R40': 0.0, 'Pedestrian_image/hard_R40': 0.0, 'Cyclist_aos/easy_R40': 0.0, 'Cyclist_aos/moderate_R40': 0.0, 'Cyclist_aos/hard_R40': 0.0, 'Cyclist_3d/easy_R40': 0.0, 'Cyclist_3d/moderate_R40': 0.0, 'Cyclist_3d/hard_R40': 0.0, 'Cyclist_bev/easy_R40': 0.0, 'Cyclist_bev/moderate_R40': 0.0, 'Cyclist_bev/hard_R40': 0.0, 'Cyclist_image/easy_R40': 0.0, 'Cyclist_image/moderate_R40': 0.0, 'Cyclist_image/hard_R40': 0.0}\n",
      "file: I-V_data_1.2um_length_250nm_diameter_BT_4V_NA_third_etch_15min_Pb_ED_3h_180C_MAI_no_600nm_Ag_memory_6V_carbon_paste_no_wait.xlsx, sigma: 0.26758176015704066, usability: 0.16716658839191825, evaluate-0\n"
     ]
    },
    {
     "name": "stderr",
     "output_type": "stream",
     "text": [
      "eval: 100%|██████████| 472/472 [03:48<00:00, 12.50it/s]2023-07-27 18:03:13,902   INFO  Average predicted number of objects(3769 samples): 49.565\n",
      "eval: 100%|██████████| 472/472 [04:13<00:00,  1.86it/s]\n"
     ]
    },
    {
     "name": "stdout",
     "output_type": "stream",
     "text": [
      "{'recall/roi_0.3': 0.0, 'recall/rcnn_0.3': 0.0, 'recall/roi_0.5': 0.0, 'recall/rcnn_0.5': 0.0, 'recall/roi_0.7': 0.0, 'recall/rcnn_0.7': 0.0, 'Car_aos/easy_R40': 86.79554464058195, 'Car_aos/moderate_R40': 73.27866605864622, 'Car_aos/hard_R40': 70.8690237716718, 'Car_3d/easy_R40': 48.297045758475726, 'Car_3d/moderate_R40': 38.16979580291755, 'Car_3d/hard_R40': 35.867599540305264, 'Car_bev/easy_R40': 82.95227104609786, 'Car_bev/moderate_R40': 70.5204593536528, 'Car_bev/hard_R40': 67.72356372991595, 'Car_image/easy_R40': 88.1248455129439, 'Car_image/moderate_R40': 75.22886752791048, 'Car_image/hard_R40': 73.11503587852224, 'Pedestrian_aos/easy_R40': 18.66934059224504, 'Pedestrian_aos/moderate_R40': 17.1809088792187, 'Pedestrian_aos/hard_R40': 16.29744643552016, 'Pedestrian_3d/easy_R40': 13.317017990327141, 'Pedestrian_3d/moderate_R40': 11.890334902764177, 'Pedestrian_3d/hard_R40': 10.635372969151517, 'Pedestrian_bev/easy_R40': 33.82305774997473, 'Pedestrian_bev/moderate_R40': 29.364857125199972, 'Pedestrian_bev/hard_R40': 26.450573985161107, 'Pedestrian_image/easy_R40': 28.854687794766757, 'Pedestrian_image/moderate_R40': 26.81196881004918, 'Pedestrian_image/hard_R40': 25.681563810791364, 'Cyclist_aos/easy_R40': 60.740262634452755, 'Cyclist_aos/moderate_R40': 39.46951423516031, 'Cyclist_aos/hard_R40': 36.98791648508121, 'Cyclist_3d/easy_R40': 51.79136166229015, 'Cyclist_3d/moderate_R40': 32.26140568089607, 'Cyclist_3d/hard_R40': 30.2749610521026, 'Cyclist_bev/easy_R40': 57.585826428383655, 'Cyclist_bev/moderate_R40': 36.37554800382815, 'Cyclist_bev/hard_R40': 33.96976231208455, 'Cyclist_image/easy_R40': 63.594823954349145, 'Cyclist_image/moderate_R40': 41.55851488747649, 'Cyclist_image/hard_R40': 38.98289895502652}\n",
      "file: I-V_data_1.2um_length_250nm_diameter_BT_4V_NA_third_etch_15min_Pb_ED_3h_180C_MAI_no_600nm_Ag_memory_6V_carbon_paste_no_wait.xlsx, sigma: 0.26758176015704066, usability: 0.16716658839191825, evaluate-1\n"
     ]
    },
    {
     "name": "stderr",
     "output_type": "stream",
     "text": [
      "eval: 100%|█████████▉| 471/472 [03:33<00:00, 12.81it/s]2023-07-27 18:07:17,043   INFO  Average predicted number of objects(3769 samples): 21.349\n",
      "eval: 100%|██████████| 472/472 [03:49<00:00,  2.06it/s]\n"
     ]
    },
    {
     "name": "stdout",
     "output_type": "stream",
     "text": [
      "{'recall/roi_0.3': 0.0, 'recall/rcnn_0.3': 0.0, 'recall/roi_0.5': 0.0, 'recall/rcnn_0.5': 0.0, 'recall/roi_0.7': 0.0, 'recall/rcnn_0.7': 0.0, 'Car_aos/easy_R40': 92.59464374371872, 'Car_aos/moderate_R40': 80.69693453948518, 'Car_aos/hard_R40': 78.31284570596486, 'Car_3d/easy_R40': 65.01240619787659, 'Car_3d/moderate_R40': 52.59748465958637, 'Car_3d/hard_R40': 50.357548755705025, 'Car_bev/easy_R40': 87.72615958077482, 'Car_bev/moderate_R40': 76.88761946873109, 'Car_bev/hard_R40': 73.4658402674566, 'Car_image/easy_R40': 92.98864538007705, 'Car_image/moderate_R40': 81.48024206770434, 'Car_image/hard_R40': 79.38247491270022, 'Pedestrian_aos/easy_R40': 4.571272782322007, 'Pedestrian_aos/moderate_R40': 3.872368468639177, 'Pedestrian_aos/hard_R40': 3.5563389495930577, 'Pedestrian_3d/easy_R40': 0.7273539692751363, 'Pedestrian_3d/moderate_R40': 0.5990141945604042, 'Pedestrian_3d/hard_R40': 0.5149699402778135, 'Pedestrian_bev/easy_R40': 33.643782172534436, 'Pedestrian_bev/moderate_R40': 27.275172958556144, 'Pedestrian_bev/hard_R40': 25.50999461769633, 'Pedestrian_image/easy_R40': 6.336826070954895, 'Pedestrian_image/moderate_R40': 5.377266893182277, 'Pedestrian_image/hard_R40': 4.9942772446060335, 'Cyclist_aos/easy_R40': 34.017602936424915, 'Cyclist_aos/moderate_R40': 21.21091004927765, 'Cyclist_aos/hard_R40': 20.00363921230055, 'Cyclist_3d/easy_R40': 27.203327603186334, 'Cyclist_3d/moderate_R40': 15.95815453461505, 'Cyclist_3d/hard_R40': 15.342601058886313, 'Cyclist_bev/easy_R40': 54.75652368290802, 'Cyclist_bev/moderate_R40': 35.54349852826565, 'Cyclist_bev/hard_R40': 33.59181418769236, 'Cyclist_image/easy_R40': 48.80037607075298, 'Cyclist_image/moderate_R40': 29.980443702939695, 'Cyclist_image/hard_R40': 28.744238579901104}\n",
      "file: I-V_data_1.2um_length_250nm_diameter_BT_4V_NA_third_etch_15min_Pb_ED_3h_180C_MAI_no_600nm_Ag_memory_6V_carbon_paste_no_wait.xlsx, sigma: 0.26758176015704066, usability: 0.16716658839191825, evaluate-2\n"
     ]
    },
    {
     "name": "stderr",
     "output_type": "stream",
     "text": [
      "eval: 100%|█████████▉| 471/472 [03:19<00:00, 11.72it/s]2023-07-27 18:10:52,736   INFO  Average predicted number of objects(3769 samples): 30.586\n",
      "eval: 100%|██████████| 472/472 [03:38<00:00,  2.16it/s]\n"
     ]
    },
    {
     "name": "stdout",
     "output_type": "stream",
     "text": [
      "{'recall/roi_0.3': 0.0, 'recall/rcnn_0.3': 0.0, 'recall/roi_0.5': 0.0, 'recall/rcnn_0.5': 0.0, 'recall/roi_0.7': 0.0, 'recall/rcnn_0.7': 0.0, 'Car_aos/easy_R40': 89.5796574273978, 'Car_aos/moderate_R40': 77.60624894234928, 'Car_aos/hard_R40': 74.0961682290714, 'Car_3d/easy_R40': 62.26281539434561, 'Car_3d/moderate_R40': 49.06439378387682, 'Car_3d/hard_R40': 45.74589974459172, 'Car_bev/easy_R40': 90.22061095096149, 'Car_bev/moderate_R40': 78.55811537478107, 'Car_bev/hard_R40': 75.02641063246092, 'Car_image/easy_R40': 89.8205052289479, 'Car_image/moderate_R40': 78.10347876153693, 'Car_image/hard_R40': 74.71301592128088, 'Pedestrian_aos/easy_R40': 16.25613631895779, 'Pedestrian_aos/moderate_R40': 14.984365339775026, 'Pedestrian_aos/hard_R40': 14.802955852438576, 'Pedestrian_3d/easy_R40': 28.9854531059547, 'Pedestrian_3d/moderate_R40': 25.732453358391616, 'Pedestrian_3d/hard_R40': 23.777936709080606, 'Pedestrian_bev/easy_R40': 40.08858015773506, 'Pedestrian_bev/moderate_R40': 36.196981017629554, 'Pedestrian_bev/hard_R40': 33.49166187192523, 'Pedestrian_image/easy_R40': 25.475815387013856, 'Pedestrian_image/moderate_R40': 23.638726834103473, 'Pedestrian_image/hard_R40': 23.517820832342686, 'Cyclist_aos/easy_R40': 46.121103652791284, 'Cyclist_aos/moderate_R40': 33.991857754447196, 'Cyclist_aos/hard_R40': 32.03258548224227, 'Cyclist_3d/easy_R40': 46.20865221559588, 'Cyclist_3d/moderate_R40': 31.237821352379147, 'Cyclist_3d/hard_R40': 29.50513617225911, 'Cyclist_bev/easy_R40': 50.4733508329263, 'Cyclist_bev/moderate_R40': 35.45379110331139, 'Cyclist_bev/hard_R40': 33.509702546450185, 'Cyclist_image/easy_R40': 55.7762813049136, 'Cyclist_image/moderate_R40': 41.344772212399675, 'Cyclist_image/hard_R40': 39.31785790565538}\n",
      "file: I-V_data_1.2um_length_250nm_diameter_BT_4V_NA_third_etch_15min_Pb_ED_3h_180C_MAI_no_600nm_Ag_memory_6V_carbon_paste_no_wait.xlsx, sigma: 0.26758176015704066, usability: 0.16716658839191825, evaluate-3\n"
     ]
    },
    {
     "name": "stderr",
     "output_type": "stream",
     "text": [
      "eval: 100%|█████████▉| 471/472 [03:15<00:00, 12.68it/s]2023-07-27 18:14:28,219   INFO  Average predicted number of objects(3769 samples): 29.402\n",
      "eval: 100%|██████████| 472/472 [03:32<00:00,  2.22it/s]\n"
     ]
    },
    {
     "name": "stdout",
     "output_type": "stream",
     "text": [
      "{'recall/roi_0.3': 0.0, 'recall/rcnn_0.3': 0.0, 'recall/roi_0.5': 0.0, 'recall/rcnn_0.5': 0.0, 'recall/roi_0.7': 0.0, 'recall/rcnn_0.7': 0.0, 'Car_aos/easy_R40': 67.47366836056227, 'Car_aos/moderate_R40': 63.086081032125676, 'Car_aos/hard_R40': 60.72961192445799, 'Car_3d/easy_R40': 21.96492448495429, 'Car_3d/moderate_R40': 21.36526163944891, 'Car_3d/hard_R40': 20.64465659169439, 'Car_bev/easy_R40': 80.13834478771538, 'Car_bev/moderate_R40': 72.96834959463301, 'Car_bev/hard_R40': 68.63550662548809, 'Car_image/easy_R40': 68.1735318958182, 'Car_image/moderate_R40': 63.975772016754775, 'Car_image/hard_R40': 61.702527864926246, 'Pedestrian_aos/easy_R40': 2.716488844119059, 'Pedestrian_aos/moderate_R40': 2.9715604059885106, 'Pedestrian_aos/hard_R40': 2.7615843653620153, 'Pedestrian_3d/easy_R40': 1.7427159601525282, 'Pedestrian_3d/moderate_R40': 1.823072821954356, 'Pedestrian_3d/hard_R40': 1.6522971945027787, 'Pedestrian_bev/easy_R40': 5.274878828870204, 'Pedestrian_bev/moderate_R40': 5.301073809658139, 'Pedestrian_bev/hard_R40': 5.029386236993131, 'Pedestrian_image/easy_R40': 5.107537120337301, 'Pedestrian_image/moderate_R40': 5.3699711515510025, 'Pedestrian_image/hard_R40': 5.115946993267033, 'Cyclist_aos/easy_R40': 14.291554344298834, 'Cyclist_aos/moderate_R40': 12.525188928720892, 'Cyclist_aos/hard_R40': 12.397825491685497, 'Cyclist_3d/easy_R40': 13.645633132607951, 'Cyclist_3d/moderate_R40': 10.87022722807663, 'Cyclist_3d/hard_R40': 10.597800450138553, 'Cyclist_bev/easy_R40': 19.000595549163084, 'Cyclist_bev/moderate_R40': 15.170554905059571, 'Cyclist_bev/hard_R40': 14.637481968564575, 'Cyclist_image/easy_R40': 17.6935037252781, 'Cyclist_image/moderate_R40': 15.853998892339243, 'Cyclist_image/hard_R40': 15.534435854913253}\n",
      "file: I-V_data_1.2um_length_250nm_diameter_BT_4V_NA_third_etch_15min_Pb_ED_3h_180C_MAI_no_600nm_Ag_memory_6V_carbon_paste_no_wait.xlsx, sigma: 0.26758176015704066, usability: 0.16716658839191825, evaluate-4\n"
     ]
    },
    {
     "name": "stderr",
     "output_type": "stream",
     "text": [
      "eval: 100%|█████████▉| 471/472 [03:17<00:00, 12.91it/s]2023-07-27 18:18:03,977   INFO  Average predicted number of objects(3769 samples): 32.040\n",
      "eval: 100%|██████████| 472/472 [03:36<00:00,  2.18it/s]\n"
     ]
    },
    {
     "name": "stdout",
     "output_type": "stream",
     "text": [
      "{'recall/roi_0.3': 0.0, 'recall/rcnn_0.3': 0.0, 'recall/roi_0.5': 0.0, 'recall/rcnn_0.5': 0.0, 'recall/roi_0.7': 0.0, 'recall/rcnn_0.7': 0.0, 'Car_aos/easy_R40': 35.642260448247455, 'Car_aos/moderate_R40': 29.284665457355196, 'Car_aos/hard_R40': 30.696829327481023, 'Car_3d/easy_R40': 2.3168762458427423, 'Car_3d/moderate_R40': 2.4136444600555778, 'Car_3d/hard_R40': 2.772129761952722, 'Car_bev/easy_R40': 87.01765730662844, 'Car_bev/moderate_R40': 77.87885750485695, 'Car_bev/hard_R40': 75.05566377455224, 'Car_image/easy_R40': 35.77123517448643, 'Car_image/moderate_R40': 29.486999185869262, 'Car_image/hard_R40': 31.030282864850268, 'Pedestrian_aos/easy_R40': 18.04513091601517, 'Pedestrian_aos/moderate_R40': 13.317725256910155, 'Pedestrian_aos/hard_R40': 13.084331081755563, 'Pedestrian_3d/easy_R40': 19.58387388853297, 'Pedestrian_3d/moderate_R40': 14.552911987311095, 'Pedestrian_3d/hard_R40': 13.195954424219783, 'Pedestrian_bev/easy_R40': 25.344893841104998, 'Pedestrian_bev/moderate_R40': 18.99679127978125, 'Pedestrian_bev/hard_R40': 18.14003290479075, 'Pedestrian_image/easy_R40': 26.768560030354386, 'Pedestrian_image/moderate_R40': 20.000537012128774, 'Pedestrian_image/hard_R40': 19.545608431317, 'Cyclist_aos/easy_R40': 49.30362261193791, 'Cyclist_aos/moderate_R40': 38.99034187688091, 'Cyclist_aos/hard_R40': 36.7880187647299, 'Cyclist_3d/easy_R40': 30.789194786565044, 'Cyclist_3d/moderate_R40': 24.074472308832277, 'Cyclist_3d/hard_R40': 22.45850963072007, 'Cyclist_bev/easy_R40': 57.89249985771525, 'Cyclist_bev/moderate_R40': 42.61992766791959, 'Cyclist_bev/hard_R40': 40.088487754335176, 'Cyclist_image/easy_R40': 52.285998747508486, 'Cyclist_image/moderate_R40': 41.58705039090213, 'Cyclist_image/hard_R40': 39.2522958411967}\n",
      "file: I-V_data_1.2um_length_250nm_diameter_BT_4V_NA_third_etch_15min_Pb_ED_3h_180C_MAI_no_600nm_Ag_memory_6V_carbon_paste_no_wait.xlsx, sigma: 0.26758176015704066, usability: 0.16716658839191825, evaluate-5\n"
     ]
    },
    {
     "name": "stderr",
     "output_type": "stream",
     "text": [
      "eval: 100%|█████████▉| 471/472 [03:16<00:00, 13.09it/s]2023-07-27 18:21:40,225   INFO  Average predicted number of objects(3769 samples): 17.173\n",
      "eval: 100%|██████████| 472/472 [03:31<00:00,  2.23it/s]\n"
     ]
    },
    {
     "name": "stdout",
     "output_type": "stream",
     "text": [
      "{'recall/roi_0.3': 0.0, 'recall/rcnn_0.3': 0.0, 'recall/roi_0.5': 0.0, 'recall/rcnn_0.5': 0.0, 'recall/roi_0.7': 0.0, 'recall/rcnn_0.7': 0.0, 'Car_aos/easy_R40': 92.45536208401688, 'Car_aos/moderate_R40': 80.31053537300777, 'Car_aos/hard_R40': 77.04261881132055, 'Car_3d/easy_R40': 65.18326301436834, 'Car_3d/moderate_R40': 51.06572470350341, 'Car_3d/hard_R40': 46.96612023649111, 'Car_bev/easy_R40': 88.86179540590345, 'Car_bev/moderate_R40': 80.05317654345615, 'Car_bev/hard_R40': 77.27918546984432, 'Car_image/easy_R40': 92.63096472462975, 'Car_image/moderate_R40': 80.79237261551793, 'Car_image/hard_R40': 77.74195538409772, 'Pedestrian_aos/easy_R40': 19.048748644343476, 'Pedestrian_aos/moderate_R40': 17.060454024571516, 'Pedestrian_aos/hard_R40': 16.29616066172883, 'Pedestrian_3d/easy_R40': 22.906116534103365, 'Pedestrian_3d/moderate_R40': 20.13746390783574, 'Pedestrian_3d/hard_R40': 18.397833053877033, 'Pedestrian_bev/easy_R40': 36.5749296620021, 'Pedestrian_bev/moderate_R40': 32.79683343839794, 'Pedestrian_bev/hard_R40': 30.206648086571438, 'Pedestrian_image/easy_R40': 29.774244389273573, 'Pedestrian_image/moderate_R40': 26.621223159784346, 'Pedestrian_image/hard_R40': 25.553195100026198, 'Cyclist_aos/easy_R40': 60.68258466021745, 'Cyclist_aos/moderate_R40': 44.0230665096489, 'Cyclist_aos/hard_R40': 42.16572121105654, 'Cyclist_3d/easy_R40': 55.09515742102267, 'Cyclist_3d/moderate_R40': 35.50010633264112, 'Cyclist_3d/hard_R40': 33.64621467973123, 'Cyclist_bev/easy_R40': 66.19324750913894, 'Cyclist_bev/moderate_R40': 44.86591460181898, 'Cyclist_bev/hard_R40': 42.57664407440499, 'Cyclist_image/easy_R40': 66.399539605484, 'Cyclist_image/moderate_R40': 48.79457855554049, 'Cyclist_image/hard_R40': 46.70097537921588}\n",
      "file: I-V_data_1.2um_length_250nm_diameter_BT_4V_NA_third_etch_15min_Pb_ED_3h_180C_MAI_no_600nm_Ag_memory_6V_carbon_paste_no_wait.xlsx, sigma: 0.26758176015704066, usability: 0.16716658839191825, evaluate-6\n"
     ]
    },
    {
     "name": "stderr",
     "output_type": "stream",
     "text": [
      "eval: 100%|█████████▉| 471/472 [03:21<00:00, 11.13it/s]2023-07-27 18:25:20,478   INFO  Average predicted number of objects(3769 samples): 53.402\n",
      "eval: 100%|██████████| 472/472 [03:46<00:00,  2.08it/s]\n"
     ]
    },
    {
     "name": "stdout",
     "output_type": "stream",
     "text": [
      "{'recall/roi_0.3': 0.0, 'recall/rcnn_0.3': 0.0, 'recall/roi_0.5': 0.0, 'recall/rcnn_0.5': 0.0, 'recall/roi_0.7': 0.0, 'recall/rcnn_0.7': 0.0, 'Car_aos/easy_R40': 69.64279080935194, 'Car_aos/moderate_R40': 57.16585146453526, 'Car_aos/hard_R40': 55.33401444033246, 'Car_3d/easy_R40': 19.509577338495998, 'Car_3d/moderate_R40': 16.608554253049522, 'Car_3d/hard_R40': 16.100846680051482, 'Car_bev/easy_R40': 81.66914258950356, 'Car_bev/moderate_R40': 71.75518623753877, 'Car_bev/hard_R40': 68.64957093638316, 'Car_image/easy_R40': 70.24696584221594, 'Car_image/moderate_R40': 57.9491449332257, 'Car_image/hard_R40': 56.408022574410374, 'Pedestrian_aos/easy_R40': 9.66000387663927, 'Pedestrian_aos/moderate_R40': 9.664895563871463, 'Pedestrian_aos/hard_R40': 9.979707819383885, 'Pedestrian_3d/easy_R40': 15.709808736341097, 'Pedestrian_3d/moderate_R40': 14.857351413625382, 'Pedestrian_3d/hard_R40': 14.146159401025379, 'Pedestrian_bev/easy_R40': 26.510762023740654, 'Pedestrian_bev/moderate_R40': 25.024711491765135, 'Pedestrian_bev/hard_R40': 23.916999727950955, 'Pedestrian_image/easy_R40': 19.138027553096205, 'Pedestrian_image/moderate_R40': 17.984539639248045, 'Pedestrian_image/hard_R40': 18.432466761644744, 'Cyclist_aos/easy_R40': 36.5843944212552, 'Cyclist_aos/moderate_R40': 26.13392729025889, 'Cyclist_aos/hard_R40': 24.792423486587055, 'Cyclist_3d/easy_R40': 26.655278366003866, 'Cyclist_3d/moderate_R40': 15.795269819752752, 'Cyclist_3d/hard_R40': 14.769868234652868, 'Cyclist_bev/easy_R40': 33.58740499930031, 'Cyclist_bev/moderate_R40': 25.733032713013383, 'Cyclist_bev/hard_R40': 24.30589784741804, 'Cyclist_image/easy_R40': 37.14053520615464, 'Cyclist_image/moderate_R40': 26.61500644518851, 'Cyclist_image/hard_R40': 25.286861338156857}\n",
      "file: I-V_data_1.2um_length_250nm_diameter_BT_4V_NA_third_etch_15min_Pb_ED_3h_180C_MAI_no_600nm_Ag_memory_6V_carbon_paste_no_wait.xlsx, sigma: 0.26758176015704066, usability: 0.16716658839191825, evaluate-7\n"
     ]
    },
    {
     "name": "stderr",
     "output_type": "stream",
     "text": [
      "eval: 100%|█████████▉| 471/472 [03:16<00:00, 12.83it/s]2023-07-27 18:29:04,729   INFO  Average predicted number of objects(3769 samples): 16.873\n",
      "eval: 100%|██████████| 472/472 [03:30<00:00,  2.25it/s]\n"
     ]
    },
    {
     "name": "stdout",
     "output_type": "stream",
     "text": [
      "{'recall/roi_0.3': 0.0, 'recall/rcnn_0.3': 0.0, 'recall/roi_0.5': 0.0, 'recall/rcnn_0.5': 0.0, 'recall/roi_0.7': 0.0, 'recall/rcnn_0.7': 0.0, 'Car_aos/easy_R40': 43.54985158122357, 'Car_aos/moderate_R40': 36.67434382117635, 'Car_aos/hard_R40': 35.57776212214991, 'Car_3d/easy_R40': 5.817926660907822, 'Car_3d/moderate_R40': 6.395771936803027, 'Car_3d/hard_R40': 6.923280425323661, 'Car_bev/easy_R40': 83.38053971154157, 'Car_bev/moderate_R40': 72.98324917315593, 'Car_bev/hard_R40': 68.51746244295802, 'Car_image/easy_R40': 43.76862033014076, 'Car_image/moderate_R40': 36.92558101202226, 'Car_image/hard_R40': 35.90495134983709, 'Pedestrian_aos/easy_R40': 8.260579190218307, 'Pedestrian_aos/moderate_R40': 9.883188936832948, 'Pedestrian_aos/hard_R40': 11.005943941736048, 'Pedestrian_3d/easy_R40': 10.520070116469418, 'Pedestrian_3d/moderate_R40': 11.265008285734538, 'Pedestrian_3d/hard_R40': 10.724530699362882, 'Pedestrian_bev/easy_R40': 18.02969913209553, 'Pedestrian_bev/moderate_R40': 19.38551462776403, 'Pedestrian_bev/hard_R40': 19.637792056887793, 'Pedestrian_image/easy_R40': 17.787942693135577, 'Pedestrian_image/moderate_R40': 19.273784606407524, 'Pedestrian_image/hard_R40': 20.600083906914563, 'Cyclist_aos/easy_R40': 26.716562961055008, 'Cyclist_aos/moderate_R40': 16.22323546685202, 'Cyclist_aos/hard_R40': 15.281687614220015, 'Cyclist_3d/easy_R40': 17.539212907762522, 'Cyclist_3d/moderate_R40': 8.547038903192135, 'Cyclist_3d/hard_R40': 7.849980300105165, 'Cyclist_bev/easy_R40': 28.21834953593736, 'Cyclist_bev/moderate_R40': 20.486326225964042, 'Cyclist_bev/hard_R40': 19.64183078649276, 'Cyclist_image/easy_R40': 28.817321505889996, 'Cyclist_image/moderate_R40': 17.420533585956218, 'Cyclist_image/hard_R40': 16.565521769904862}\n",
      "file: I-V_data_1.2um_length_250nm_diameter_BT_4V_NA_third_etch_15min_Pb_ED_3h_180C_MAI_no_600nm_Ag_memory_6V_carbon_paste_no_wait.xlsx, sigma: 0.26758176015704066, usability: 0.16716658839191825, evaluate-8\n"
     ]
    },
    {
     "name": "stderr",
     "output_type": "stream",
     "text": [
      "eval: 100%|█████████▉| 471/472 [03:16<00:00, 12.70it/s]2023-07-27 18:32:35,916   INFO  Average predicted number of objects(3769 samples): 46.950\n",
      "eval: 100%|██████████| 472/472 [03:39<00:00,  2.15it/s]\n"
     ]
    },
    {
     "name": "stdout",
     "output_type": "stream",
     "text": [
      "{'recall/roi_0.3': 0.0, 'recall/rcnn_0.3': 0.0, 'recall/roi_0.5': 0.0, 'recall/rcnn_0.5': 0.0, 'recall/roi_0.7': 0.0, 'recall/rcnn_0.7': 0.0, 'Car_aos/easy_R40': 17.35324645849526, 'Car_aos/moderate_R40': 15.574857515022506, 'Car_aos/hard_R40': 17.921471905049817, 'Car_3d/easy_R40': 0.5167129418711977, 'Car_3d/moderate_R40': 0.7080571249078771, 'Car_3d/hard_R40': 1.0775890531522279, 'Car_bev/easy_R40': 81.75652279335273, 'Car_bev/moderate_R40': 71.60278029772128, 'Car_bev/hard_R40': 69.9776209043846, 'Car_image/easy_R40': 17.403133322737375, 'Car_image/moderate_R40': 15.731616384421324, 'Car_image/hard_R40': 18.261309615560563, 'Pedestrian_aos/easy_R40': 12.211124968680378, 'Pedestrian_aos/moderate_R40': 10.91151760456314, 'Pedestrian_aos/hard_R40': 10.469128178848544, 'Pedestrian_3d/easy_R40': 6.601393142777982, 'Pedestrian_3d/moderate_R40': 5.727140530410944, 'Pedestrian_3d/hard_R40': 5.126667268106168, 'Pedestrian_bev/easy_R40': 18.16991843567271, 'Pedestrian_bev/moderate_R40': 15.236969007336917, 'Pedestrian_bev/hard_R40': 14.25118270469669, 'Pedestrian_image/easy_R40': 17.486571894385445, 'Pedestrian_image/moderate_R40': 15.318988885361055, 'Pedestrian_image/hard_R40': 14.984386371340996, 'Cyclist_aos/easy_R40': 19.35509808253032, 'Cyclist_aos/moderate_R40': 11.611115585486854, 'Cyclist_aos/hard_R40': 11.463953470279062, 'Cyclist_3d/easy_R40': 4.085801208724928, 'Cyclist_3d/moderate_R40': 2.6176126007792484, 'Cyclist_3d/hard_R40': 2.594372097212003, 'Cyclist_bev/easy_R40': 31.92185706038696, 'Cyclist_bev/moderate_R40': 19.64289230704157, 'Cyclist_bev/hard_R40': 18.58234838163187, 'Cyclist_image/easy_R40': 19.730558431433526, 'Cyclist_image/moderate_R40': 12.06934264407424, 'Cyclist_image/hard_R40': 12.008517709226034}\n",
      "file: I-V_data_1.2um_length_250nm_diameter_BT_4V_NA_third_etch_15min_Pb_ED_3h_180C_MAI_no_600nm_Ag_memory_6V_carbon_paste_no_wait.xlsx, sigma: 0.26758176015704066, usability: 0.16716658839191825, evaluate-9\n"
     ]
    },
    {
     "name": "stderr",
     "output_type": "stream",
     "text": [
      "eval: 100%|█████████▉| 471/472 [03:20<00:00, 13.19it/s]2023-07-27 18:36:19,391   INFO  Average predicted number of objects(3769 samples): 40.266\n",
      "eval: 100%|██████████| 472/472 [03:41<00:00,  2.13it/s]\n"
     ]
    },
    {
     "name": "stdout",
     "output_type": "stream",
     "text": [
      "{'recall/roi_0.3': 0.0, 'recall/rcnn_0.3': 0.0, 'recall/roi_0.5': 0.0, 'recall/rcnn_0.5': 0.0, 'recall/roi_0.7': 0.0, 'recall/rcnn_0.7': 0.0, 'Car_aos/easy_R40': 90.51348319726364, 'Car_aos/moderate_R40': 73.30124590348939, 'Car_aos/hard_R40': 69.49532241096401, 'Car_3d/easy_R40': 59.06941390908854, 'Car_3d/moderate_R40': 44.05441785108594, 'Car_3d/hard_R40': 42.158554360934055, 'Car_bev/easy_R40': 88.41461299263588, 'Car_bev/moderate_R40': 74.78689309688467, 'Car_bev/hard_R40': 72.0617728324799, 'Car_image/easy_R40': 91.4597090106873, 'Car_image/moderate_R40': 74.659481249201, 'Car_image/hard_R40': 70.9677137132675, 'Pedestrian_aos/easy_R40': 8.26731242843812, 'Pedestrian_aos/moderate_R40': 7.867969607562681, 'Pedestrian_aos/hard_R40': 7.500135229676664, 'Pedestrian_3d/easy_R40': 10.385935937649085, 'Pedestrian_3d/moderate_R40': 9.457243076249075, 'Pedestrian_3d/hard_R40': 8.346065702339885, 'Pedestrian_bev/easy_R40': 40.10963006817788, 'Pedestrian_bev/moderate_R40': 33.91005317966776, 'Pedestrian_bev/hard_R40': 30.983683005755335, 'Pedestrian_image/easy_R40': 12.414855735112958, 'Pedestrian_image/moderate_R40': 11.860411762917057, 'Pedestrian_image/hard_R40': 11.783660396085285, 'Cyclist_aos/easy_R40': 50.194083715792345, 'Cyclist_aos/moderate_R40': 32.33609681644722, 'Cyclist_aos/hard_R40': 30.435061263731853, 'Cyclist_3d/easy_R40': 42.17582743523803, 'Cyclist_3d/moderate_R40': 25.124271624481505, 'Cyclist_3d/hard_R40': 23.765737262403004, 'Cyclist_bev/easy_R40': 52.098132021986565, 'Cyclist_bev/moderate_R40': 33.79667682774036, 'Cyclist_bev/hard_R40': 31.715318121323644, 'Cyclist_image/easy_R40': 52.237406652400665, 'Cyclist_image/moderate_R40': 34.05327130743861, 'Cyclist_image/hard_R40': 32.10970302259341}\n",
      "file: I-V_data_1.2um_length_250nm_diameter_BT_4V_NA_third_etch_15min_Pb_ED_3h_180C_MAI_PMMA_600nm_Ag_memory_6V_carbon_paste_no_wait.xlsx, sigma: 0.2986867724559867, usability: -0.0004975622795556523, evaluate-0\n"
     ]
    },
    {
     "name": "stderr",
     "output_type": "stream",
     "text": [
      "eval: 100%|█████████▉| 471/472 [03:13<00:00, 12.73it/s]2023-07-27 18:39:56,592   INFO  Average predicted number of objects(3769 samples): 58.246\n",
      "eval: 100%|██████████| 472/472 [03:39<00:00,  2.15it/s]\n"
     ]
    },
    {
     "name": "stdout",
     "output_type": "stream",
     "text": [
      "{'recall/roi_0.3': 0.0, 'recall/rcnn_0.3': 0.0, 'recall/roi_0.5': 0.0, 'recall/rcnn_0.5': 0.0, 'recall/roi_0.7': 0.0, 'recall/rcnn_0.7': 0.0, 'Car_aos/easy_R40': 84.34896020799319, 'Car_aos/moderate_R40': 68.1731940344607, 'Car_aos/hard_R40': 65.43750909254639, 'Car_3d/easy_R40': 38.99780755384917, 'Car_3d/moderate_R40': 31.62892314598454, 'Car_3d/hard_R40': 29.87432531886094, 'Car_bev/easy_R40': 81.7005763378656, 'Car_bev/moderate_R40': 68.49242484824646, 'Car_bev/hard_R40': 65.15974091336305, 'Car_image/easy_R40': 84.73329664431046, 'Car_image/moderate_R40': 69.13283921650707, 'Car_image/hard_R40': 66.65827614104022, 'Pedestrian_aos/easy_R40': 2.8269263104613462, 'Pedestrian_aos/moderate_R40': 2.410085956277721, 'Pedestrian_aos/hard_R40': 2.4721533010020345, 'Pedestrian_3d/easy_R40': 1.1798183977800352, 'Pedestrian_3d/moderate_R40': 1.1176200555754443, 'Pedestrian_3d/hard_R40': 0.9669562229549152, 'Pedestrian_bev/easy_R40': 16.833382245029334, 'Pedestrian_bev/moderate_R40': 14.922867042724764, 'Pedestrian_bev/hard_R40': 14.223507288199292, 'Pedestrian_image/easy_R40': 5.074324019968638, 'Pedestrian_image/moderate_R40': 4.252220764290633, 'Pedestrian_image/hard_R40': 4.4370636760777185, 'Cyclist_aos/easy_R40': 23.06271316608242, 'Cyclist_aos/moderate_R40': 16.680800572586485, 'Cyclist_aos/hard_R40': 15.748850567115019, 'Cyclist_3d/easy_R40': 6.417533472527792, 'Cyclist_3d/moderate_R40': 4.128411358571339, 'Cyclist_3d/hard_R40': 3.85519217441197, 'Cyclist_bev/easy_R40': 41.10119806206757, 'Cyclist_bev/moderate_R40': 27.637064434591874, 'Cyclist_bev/hard_R40': 25.818485353366693, 'Cyclist_image/easy_R40': 23.98225839080018, 'Cyclist_image/moderate_R40': 17.7365990651765, 'Cyclist_image/hard_R40': 16.730246960493496}\n",
      "file: I-V_data_1.2um_length_250nm_diameter_BT_4V_NA_third_etch_15min_Pb_ED_3h_180C_MAI_PMMA_600nm_Ag_memory_6V_carbon_paste_no_wait.xlsx, sigma: 0.2986867724559867, usability: -0.0004975622795556523, evaluate-1\n"
     ]
    },
    {
     "name": "stderr",
     "output_type": "stream",
     "text": [
      "eval: 100%|█████████▉| 471/472 [03:19<00:00, 12.04it/s]2023-07-27 18:43:44,078   INFO  Average predicted number of objects(3769 samples): 44.640\n",
      "eval: 100%|██████████| 472/472 [03:41<00:00,  2.13it/s]\n"
     ]
    },
    {
     "name": "stdout",
     "output_type": "stream",
     "text": [
      "{'recall/roi_0.3': 0.0, 'recall/rcnn_0.3': 0.0, 'recall/roi_0.5': 0.0, 'recall/rcnn_0.5': 0.0, 'recall/roi_0.7': 0.0, 'recall/rcnn_0.7': 0.0, 'Car_aos/easy_R40': 70.41888501192365, 'Car_aos/moderate_R40': 59.034341235449105, 'Car_aos/hard_R40': 59.8755491069475, 'Car_3d/easy_R40': 24.284751852860254, 'Car_3d/moderate_R40': 22.009428821905743, 'Car_3d/hard_R40': 23.666961518023243, 'Car_bev/easy_R40': 76.88308475966659, 'Car_bev/moderate_R40': 68.59416686479939, 'Car_bev/hard_R40': 67.47702224784904, 'Car_image/easy_R40': 70.70609912526834, 'Car_image/moderate_R40': 59.53060108168658, 'Car_image/hard_R40': 60.669175939313824, 'Pedestrian_aos/easy_R40': 20.8673128711211, 'Pedestrian_aos/moderate_R40': 16.356302377650263, 'Pedestrian_aos/hard_R40': 15.620256155404274, 'Pedestrian_3d/easy_R40': 11.62909126511719, 'Pedestrian_3d/moderate_R40': 9.949373346594257, 'Pedestrian_3d/hard_R40': 8.943999688509697, 'Pedestrian_bev/easy_R40': 28.74158147394062, 'Pedestrian_bev/moderate_R40': 23.022238199467477, 'Pedestrian_bev/hard_R40': 21.15943390922857, 'Pedestrian_image/easy_R40': 29.670594255239845, 'Pedestrian_image/moderate_R40': 23.4041404336368, 'Pedestrian_image/hard_R40': 22.424879786957614, 'Cyclist_aos/easy_R40': 37.14515071063765, 'Cyclist_aos/moderate_R40': 28.559098313239794, 'Cyclist_aos/hard_R40': 27.099098510037766, 'Cyclist_3d/easy_R40': 13.95595837805213, 'Cyclist_3d/moderate_R40': 10.29620981548602, 'Cyclist_3d/hard_R40': 9.561020385836946, 'Cyclist_bev/easy_R40': 63.61757393830941, 'Cyclist_bev/moderate_R40': 43.3207750294628, 'Cyclist_bev/hard_R40': 40.78509678330701, 'Cyclist_image/easy_R40': 39.146748442420474, 'Cyclist_image/moderate_R40': 31.377832523261436, 'Cyclist_image/hard_R40': 29.804957070102773}\n",
      "file: I-V_data_1.2um_length_250nm_diameter_BT_4V_NA_third_etch_15min_Pb_ED_3h_180C_MAI_PMMA_600nm_Ag_memory_6V_carbon_paste_no_wait.xlsx, sigma: 0.2986867724559867, usability: -0.0004975622795556523, evaluate-2\n"
     ]
    },
    {
     "name": "stderr",
     "output_type": "stream",
     "text": [
      "eval: 100%|█████████▉| 471/472 [03:17<00:00, 12.23it/s]2023-07-27 18:47:26,362   INFO  Average predicted number of objects(3769 samples): 151.053\n",
      "eval: 100%|██████████| 472/472 [04:08<00:00,  1.90it/s]\n"
     ]
    },
    {
     "name": "stdout",
     "output_type": "stream",
     "text": [
      "{'recall/roi_0.3': 0.0, 'recall/rcnn_0.3': 0.0, 'recall/roi_0.5': 0.0, 'recall/rcnn_0.5': 0.0, 'recall/roi_0.7': 0.0, 'recall/rcnn_0.7': 0.0, 'Car_aos/easy_R40': 16.831085536666013, 'Car_aos/moderate_R40': 13.131411255924558, 'Car_aos/hard_R40': 13.33725196079191, 'Car_3d/easy_R40': 2.9178610283405804, 'Car_3d/moderate_R40': 2.6744080087351567, 'Car_3d/hard_R40': 2.6487618328901066, 'Car_bev/easy_R40': 18.241363756577105, 'Car_bev/moderate_R40': 15.425979479326536, 'Car_bev/hard_R40': 15.30488506884835, 'Car_image/easy_R40': 17.298777288321702, 'Car_image/moderate_R40': 13.588914208602931, 'Car_image/hard_R40': 13.850359210132584, 'Pedestrian_aos/easy_R40': 0.13645929086478398, 'Pedestrian_aos/moderate_R40': 0.07223749571994423, 'Pedestrian_aos/hard_R40': 0.08678194708919813, 'Pedestrian_3d/easy_R40': 0.0006418928927643859, 'Pedestrian_3d/moderate_R40': 0.0005510367554955836, 'Pedestrian_3d/hard_R40': 0.002186590318569935, 'Pedestrian_bev/easy_R40': 0.0030486854653721624, 'Pedestrian_bev/moderate_R40': 0.0023955150444940937, 'Pedestrian_bev/hard_R40': 0.006106229194974244, 'Pedestrian_image/easy_R40': 0.2753331329565368, 'Pedestrian_image/moderate_R40': 0.1354533990379632, 'Pedestrian_image/hard_R40': 0.16497128953195128, 'Cyclist_aos/easy_R40': 0.7595823772319904, 'Cyclist_aos/moderate_R40': 0.4929331335867366, 'Cyclist_aos/hard_R40': 0.644547569616945, 'Cyclist_3d/easy_R40': 0.4979384544276607, 'Cyclist_3d/moderate_R40': 0.33648835416029965, 'Cyclist_3d/hard_R40': 0.323348764752506, 'Cyclist_bev/easy_R40': 0.9637108168034086, 'Cyclist_bev/moderate_R40': 0.7373413556674225, 'Cyclist_bev/hard_R40': 0.7993812457435603, 'Cyclist_image/easy_R40': 0.9416509206829997, 'Cyclist_image/moderate_R40': 0.6636179789085339, 'Cyclist_image/hard_R40': 0.8168428736065287}\n",
      "file: I-V_data_1.2um_length_250nm_diameter_BT_4V_NA_third_etch_15min_Pb_ED_3h_180C_MAI_PMMA_600nm_Ag_memory_6V_carbon_paste_no_wait.xlsx, sigma: 0.2986867724559867, usability: -0.0004975622795556523, evaluate-3\n"
     ]
    },
    {
     "name": "stderr",
     "output_type": "stream",
     "text": [
      "eval: 100%|██████████| 472/472 [03:26<00:00, 12.76it/s]2023-07-27 18:51:45,440   INFO  Average predicted number of objects(3769 samples): 34.458\n",
      "eval: 100%|██████████| 472/472 [03:46<00:00,  2.08it/s]\n"
     ]
    },
    {
     "name": "stdout",
     "output_type": "stream",
     "text": [
      "{'recall/roi_0.3': 0.0, 'recall/rcnn_0.3': 0.0, 'recall/roi_0.5': 0.0, 'recall/rcnn_0.5': 0.0, 'recall/roi_0.7': 0.0, 'recall/rcnn_0.7': 0.0, 'Car_aos/easy_R40': 86.94294147084516, 'Car_aos/moderate_R40': 75.3544205714975, 'Car_aos/hard_R40': 72.3881440248055, 'Car_3d/easy_R40': 42.794784559103135, 'Car_3d/moderate_R40': 35.779550286497916, 'Car_3d/hard_R40': 33.93445618718739, 'Car_bev/easy_R40': 85.5650679867287, 'Car_bev/moderate_R40': 73.93684153898528, 'Car_bev/hard_R40': 70.80342886899855, 'Car_image/easy_R40': 87.08277232678098, 'Car_image/moderate_R40': 75.9689687650278, 'Car_image/hard_R40': 73.1603445559181, 'Pedestrian_aos/easy_R40': 9.049151724683588, 'Pedestrian_aos/moderate_R40': 9.098570494142702, 'Pedestrian_aos/hard_R40': 9.347713138453408, 'Pedestrian_3d/easy_R40': 11.404247872960598, 'Pedestrian_3d/moderate_R40': 11.376363039457278, 'Pedestrian_3d/hard_R40': 10.892181869864107, 'Pedestrian_bev/easy_R40': 44.808317973358236, 'Pedestrian_bev/moderate_R40': 38.99178547723196, 'Pedestrian_bev/hard_R40': 35.4993294026457, 'Pedestrian_image/easy_R40': 16.342520836207044, 'Pedestrian_image/moderate_R40': 16.116588218058535, 'Pedestrian_image/hard_R40': 16.541301562072835, 'Cyclist_aos/easy_R40': 59.028290957555576, 'Cyclist_aos/moderate_R40': 39.39885719184045, 'Cyclist_aos/hard_R40': 36.83860727009234, 'Cyclist_3d/easy_R40': 49.10365884599789, 'Cyclist_3d/moderate_R40': 30.713608858598583, 'Cyclist_3d/hard_R40': 28.739226813060988, 'Cyclist_bev/easy_R40': 57.24202725000872, 'Cyclist_bev/moderate_R40': 37.9582583948354, 'Cyclist_bev/hard_R40': 35.71298431595934, 'Cyclist_image/easy_R40': 61.565438107378654, 'Cyclist_image/moderate_R40': 41.60554797426607, 'Cyclist_image/hard_R40': 39.1883471418043}\n",
      "file: I-V_data_1.2um_length_250nm_diameter_BT_4V_NA_third_etch_15min_Pb_ED_3h_180C_MAI_PMMA_600nm_Ag_memory_6V_carbon_paste_no_wait.xlsx, sigma: 0.2986867724559867, usability: -0.0004975622795556523, evaluate-4\n"
     ]
    },
    {
     "name": "stderr",
     "output_type": "stream",
     "text": [
      "eval: 100%|█████████▉| 471/472 [03:24<00:00, 12.10it/s]2023-07-27 18:55:31,460   INFO  Average predicted number of objects(3769 samples): 26.547\n",
      "eval: 100%|██████████| 472/472 [03:40<00:00,  2.14it/s]\n"
     ]
    },
    {
     "name": "stdout",
     "output_type": "stream",
     "text": [
      "{'recall/roi_0.3': 0.0, 'recall/rcnn_0.3': 0.0, 'recall/roi_0.5': 0.0, 'recall/rcnn_0.5': 0.0, 'recall/roi_0.7': 0.0, 'recall/rcnn_0.7': 0.0, 'Car_aos/easy_R40': 53.25651487119887, 'Car_aos/moderate_R40': 41.30942910722803, 'Car_aos/hard_R40': 40.676929695702434, 'Car_3d/easy_R40': 7.335182355933911, 'Car_3d/moderate_R40': 6.1979862999352635, 'Car_3d/hard_R40': 6.317012097329782, 'Car_bev/easy_R40': 78.49812715307718, 'Car_bev/moderate_R40': 68.05012991417587, 'Car_bev/hard_R40': 64.8366817841866, 'Car_image/easy_R40': 53.466318730827325, 'Car_image/moderate_R40': 41.754989675875954, 'Car_image/hard_R40': 41.288741447394955, 'Pedestrian_aos/easy_R40': 12.263419747766315, 'Pedestrian_aos/moderate_R40': 10.177295295971104, 'Pedestrian_aos/hard_R40': 8.86396837465604, 'Pedestrian_3d/easy_R40': 14.359572071851096, 'Pedestrian_3d/moderate_R40': 11.411906447724325, 'Pedestrian_3d/hard_R40': 9.63420297876635, 'Pedestrian_bev/easy_R40': 21.92344864568907, 'Pedestrian_bev/moderate_R40': 17.789805142717025, 'Pedestrian_bev/hard_R40': 15.624485834209942, 'Pedestrian_image/easy_R40': 18.665113021757524, 'Pedestrian_image/moderate_R40': 15.526179773477997, 'Pedestrian_image/hard_R40': 13.72953486713433, 'Cyclist_aos/easy_R40': 27.690913519134554, 'Cyclist_aos/moderate_R40': 15.646756307494918, 'Cyclist_aos/hard_R40': 14.273933511307089, 'Cyclist_3d/easy_R40': 23.994765333763034, 'Cyclist_3d/moderate_R40': 12.97787696269808, 'Cyclist_3d/hard_R40': 11.682326995139986, 'Cyclist_bev/easy_R40': 28.040143290236397, 'Cyclist_bev/moderate_R40': 15.80902796834871, 'Cyclist_bev/hard_R40': 14.438215368359868, 'Cyclist_image/easy_R40': 29.889625721547787, 'Cyclist_image/moderate_R40': 17.41982261089749, 'Cyclist_image/hard_R40': 15.908376833538924}\n",
      "file: I-V_data_1.2um_length_250nm_diameter_BT_4V_NA_third_etch_15min_Pb_ED_3h_180C_MAI_PMMA_600nm_Ag_memory_6V_carbon_paste_no_wait.xlsx, sigma: 0.2986867724559867, usability: -0.0004975622795556523, evaluate-5\n"
     ]
    },
    {
     "name": "stderr",
     "output_type": "stream",
     "text": [
      "eval: 100%|██████████| 472/472 [03:26<00:00, 13.26it/s]2023-07-27 18:59:15,535   INFO  Average predicted number of objects(3769 samples): 41.495\n",
      "eval: 100%|██████████| 472/472 [03:48<00:00,  2.07it/s]\n"
     ]
    },
    {
     "name": "stdout",
     "output_type": "stream",
     "text": [
      "{'recall/roi_0.3': 0.0, 'recall/rcnn_0.3': 0.0, 'recall/roi_0.5': 0.0, 'recall/rcnn_0.5': 0.0, 'recall/roi_0.7': 0.0, 'recall/rcnn_0.7': 0.0, 'Car_aos/easy_R40': 80.53576487089401, 'Car_aos/moderate_R40': 68.68785316309824, 'Car_aos/hard_R40': 66.29624197390444, 'Car_3d/easy_R40': 24.657806307889008, 'Car_3d/moderate_R40': 22.780324293964462, 'Car_3d/hard_R40': 22.36607743040007, 'Car_bev/easy_R40': 88.69114582298863, 'Car_bev/moderate_R40': 76.28213537494564, 'Car_bev/hard_R40': 73.09390680536926, 'Car_image/easy_R40': 80.73371359813274, 'Car_image/moderate_R40': 69.22563062836747, 'Car_image/hard_R40': 67.01723697609442, 'Pedestrian_aos/easy_R40': 16.772901940844857, 'Pedestrian_aos/moderate_R40': 15.440633378953727, 'Pedestrian_aos/hard_R40': 14.91458123187054, 'Pedestrian_3d/easy_R40': 25.128512888968384, 'Pedestrian_3d/moderate_R40': 23.04786154294666, 'Pedestrian_3d/hard_R40': 21.236245139649085, 'Pedestrian_bev/easy_R40': 39.79079110637122, 'Pedestrian_bev/moderate_R40': 35.59889272364507, 'Pedestrian_bev/hard_R40': 32.651328638115565, 'Pedestrian_image/easy_R40': 27.135269030865654, 'Pedestrian_image/moderate_R40': 25.178944676383765, 'Pedestrian_image/hard_R40': 24.489329293535924, 'Cyclist_aos/easy_R40': 66.3493089384876, 'Cyclist_aos/moderate_R40': 45.18901680025661, 'Cyclist_aos/hard_R40': 42.71654600773844, 'Cyclist_3d/easy_R40': 56.13412570262969, 'Cyclist_3d/moderate_R40': 35.23890685316567, 'Cyclist_3d/hard_R40': 33.330004051519374, 'Cyclist_bev/easy_R40': 65.86475185833362, 'Cyclist_bev/moderate_R40': 42.850055130277745, 'Cyclist_bev/hard_R40': 40.63790364828662, 'Cyclist_image/easy_R40': 68.4849376830566, 'Cyclist_image/moderate_R40': 47.44628888560052, 'Cyclist_image/hard_R40': 45.06645726712865}\n",
      "file: I-V_data_1.2um_length_250nm_diameter_BT_4V_NA_third_etch_15min_Pb_ED_3h_180C_MAI_PMMA_600nm_Ag_memory_6V_carbon_paste_no_wait.xlsx, sigma: 0.2986867724559867, usability: -0.0004975622795556523, evaluate-6\n"
     ]
    },
    {
     "name": "stderr",
     "output_type": "stream",
     "text": [
      "eval: 100%|█████████▉| 471/472 [03:26<00:00, 12.59it/s]2023-07-27 19:03:06,044   INFO  Average predicted number of objects(3769 samples): 53.146\n",
      "eval: 100%|██████████| 472/472 [03:51<00:00,  2.04it/s]\n"
     ]
    },
    {
     "name": "stdout",
     "output_type": "stream",
     "text": [
      "{'recall/roi_0.3': 0.0, 'recall/rcnn_0.3': 0.0, 'recall/roi_0.5': 0.0, 'recall/rcnn_0.5': 0.0, 'recall/roi_0.7': 0.0, 'recall/rcnn_0.7': 0.0, 'Car_aos/easy_R40': 60.8527362484182, 'Car_aos/moderate_R40': 48.55780648476019, 'Car_aos/hard_R40': 45.30479618204325, 'Car_3d/easy_R40': 12.464796753808745, 'Car_3d/moderate_R40': 11.577358569005465, 'Car_3d/hard_R40': 11.033577347296948, 'Car_bev/easy_R40': 75.36094421808947, 'Car_bev/moderate_R40': 59.4916014020098, 'Car_bev/hard_R40': 55.66220727361504, 'Car_image/easy_R40': 61.208565828608855, 'Car_image/moderate_R40': 48.97435534646658, 'Car_image/hard_R40': 45.797602537870944, 'Pedestrian_aos/easy_R40': 10.366550990522047, 'Pedestrian_aos/moderate_R40': 9.149055369267908, 'Pedestrian_aos/hard_R40': 8.786966738236332, 'Pedestrian_3d/easy_R40': 9.197443088317936, 'Pedestrian_3d/moderate_R40': 8.056582387818406, 'Pedestrian_3d/hard_R40': 7.29884908895361, 'Pedestrian_bev/easy_R40': 20.26039368861397, 'Pedestrian_bev/moderate_R40': 18.643504140574336, 'Pedestrian_bev/hard_R40': 17.315079532749497, 'Pedestrian_image/easy_R40': 16.082967639807137, 'Pedestrian_image/moderate_R40': 14.488486846829582, 'Pedestrian_image/hard_R40': 14.041807286061598, 'Cyclist_aos/easy_R40': 35.779101515506234, 'Cyclist_aos/moderate_R40': 20.764031805914335, 'Cyclist_aos/hard_R40': 19.76412438347886, 'Cyclist_3d/easy_R40': 31.1470305576893, 'Cyclist_3d/moderate_R40': 17.392480209732035, 'Cyclist_3d/hard_R40': 16.37428028742755, 'Cyclist_bev/easy_R40': 40.6023084225197, 'Cyclist_bev/moderate_R40': 23.754993423356435, 'Cyclist_bev/hard_R40': 22.36098799848736, 'Cyclist_image/easy_R40': 38.32235934313079, 'Cyclist_image/moderate_R40': 22.441396949478264, 'Cyclist_image/hard_R40': 21.472661580420656}\n",
      "file: I-V_data_1.2um_length_250nm_diameter_BT_4V_NA_third_etch_15min_Pb_ED_3h_180C_MAI_PMMA_600nm_Ag_memory_6V_carbon_paste_no_wait.xlsx, sigma: 0.2986867724559867, usability: -0.0004975622795556523, evaluate-7\n"
     ]
    },
    {
     "name": "stderr",
     "output_type": "stream",
     "text": [
      "eval: 100%|█████████▉| 471/472 [03:18<00:00, 12.64it/s]2023-07-27 19:06:52,063   INFO  Average predicted number of objects(3769 samples): 29.704\n",
      "eval: 100%|██████████| 472/472 [03:36<00:00,  2.18it/s]\n"
     ]
    },
    {
     "name": "stdout",
     "output_type": "stream",
     "text": [
      "{'recall/roi_0.3': 0.0, 'recall/rcnn_0.3': 0.0, 'recall/roi_0.5': 0.0, 'recall/rcnn_0.5': 0.0, 'recall/roi_0.7': 0.0, 'recall/rcnn_0.7': 0.0, 'Car_aos/easy_R40': 81.83702654798111, 'Car_aos/moderate_R40': 67.38981507063622, 'Car_aos/hard_R40': 64.48817492475565, 'Car_3d/easy_R40': 30.64720895971546, 'Car_3d/moderate_R40': 26.257932277170866, 'Car_3d/hard_R40': 24.822920853928018, 'Car_bev/easy_R40': 80.73401469122177, 'Car_bev/moderate_R40': 69.10358212069777, 'Car_bev/hard_R40': 65.64467699352232, 'Car_image/easy_R40': 82.51828987186227, 'Car_image/moderate_R40': 68.39584300929036, 'Car_image/hard_R40': 65.80008779671277, 'Pedestrian_aos/easy_R40': 4.9767505785269925, 'Pedestrian_aos/moderate_R40': 4.558929012381848, 'Pedestrian_aos/hard_R40': 4.268509518572319, 'Pedestrian_3d/easy_R40': 1.2442800084658878, 'Pedestrian_3d/moderate_R40': 1.1879173005190116, 'Pedestrian_3d/hard_R40': 1.0352554150470392, 'Pedestrian_bev/easy_R40': 15.826383945273259, 'Pedestrian_bev/moderate_R40': 14.18469675799267, 'Pedestrian_bev/hard_R40': 13.013520400725199, 'Pedestrian_image/easy_R40': 9.298388059589772, 'Pedestrian_image/moderate_R40': 8.32631493607319, 'Pedestrian_image/hard_R40': 7.987192302814256, 'Cyclist_aos/easy_R40': 32.07417670205669, 'Cyclist_aos/moderate_R40': 20.41238967835645, 'Cyclist_aos/hard_R40': 19.120858415810552, 'Cyclist_3d/easy_R40': 24.769996347617955, 'Cyclist_3d/moderate_R40': 14.532164693685374, 'Cyclist_3d/hard_R40': 13.330615439905708, 'Cyclist_bev/easy_R40': 37.42627120226069, 'Cyclist_bev/moderate_R40': 23.620199193166297, 'Cyclist_bev/hard_R40': 22.115274745716974, 'Cyclist_image/easy_R40': 34.906327074259394, 'Cyclist_image/moderate_R40': 23.44809909467861, 'Cyclist_image/hard_R40': 21.955036414425695}\n",
      "file: I-V_data_1.2um_length_250nm_diameter_BT_4V_NA_third_etch_15min_Pb_ED_3h_180C_MAI_PMMA_600nm_Ag_memory_6V_carbon_paste_no_wait.xlsx, sigma: 0.2986867724559867, usability: -0.0004975622795556523, evaluate-8\n"
     ]
    },
    {
     "name": "stderr",
     "output_type": "stream",
     "text": [
      "eval: 100%|█████████▉| 471/472 [03:23<00:00, 12.23it/s]2023-07-27 19:10:35,706   INFO  Average predicted number of objects(3769 samples): 31.523\n",
      "eval: 100%|██████████| 472/472 [03:42<00:00,  2.12it/s]\n"
     ]
    },
    {
     "name": "stdout",
     "output_type": "stream",
     "text": [
      "{'recall/roi_0.3': 0.0, 'recall/rcnn_0.3': 0.0, 'recall/roi_0.5': 0.0, 'recall/rcnn_0.5': 0.0, 'recall/roi_0.7': 0.0, 'recall/rcnn_0.7': 0.0, 'Car_aos/easy_R40': 60.2678903650238, 'Car_aos/moderate_R40': 53.250579082826775, 'Car_aos/hard_R40': 52.69893950965098, 'Car_3d/easy_R40': 13.527463220497577, 'Car_3d/moderate_R40': 12.346959919951457, 'Car_3d/hard_R40': 11.961692306609013, 'Car_bev/easy_R40': 84.77061158679909, 'Car_bev/moderate_R40': 77.68208506893997, 'Car_bev/hard_R40': 75.17943533441229, 'Car_image/easy_R40': 60.606469863072554, 'Car_image/moderate_R40': 53.73443646289127, 'Car_image/hard_R40': 53.358243882300016, 'Pedestrian_aos/easy_R40': 25.967034916476816, 'Pedestrian_aos/moderate_R40': 22.442932331847754, 'Pedestrian_aos/hard_R40': 20.617006318628356, 'Pedestrian_3d/easy_R40': 20.398742151002303, 'Pedestrian_3d/moderate_R40': 17.97515626332671, 'Pedestrian_3d/hard_R40': 15.862834471173864, 'Pedestrian_bev/easy_R40': 31.429829056425895, 'Pedestrian_bev/moderate_R40': 27.29992578207046, 'Pedestrian_bev/hard_R40': 24.721564302655892, 'Pedestrian_image/easy_R40': 38.669936584649015, 'Pedestrian_image/moderate_R40': 33.266635717455436, 'Pedestrian_image/hard_R40': 31.074795720077752, 'Cyclist_aos/easy_R40': 58.24210302729006, 'Cyclist_aos/moderate_R40': 39.818508978993094, 'Cyclist_aos/hard_R40': 36.93100538171844, 'Cyclist_3d/easy_R40': 36.17682766212879, 'Cyclist_3d/moderate_R40': 22.949249017755488, 'Cyclist_3d/hard_R40': 21.53368080843421, 'Cyclist_bev/easy_R40': 71.30256715163851, 'Cyclist_bev/moderate_R40': 48.13614222160743, 'Cyclist_bev/hard_R40': 44.81898904424823, 'Cyclist_image/easy_R40': 59.34073451905599, 'Cyclist_image/moderate_R40': 40.9531313403564, 'Cyclist_image/hard_R40': 38.17990316625865}\n",
      "file: I-V_data_1.2um_length_250nm_diameter_BT_4V_NA_third_etch_15min_Pb_ED_3h_180C_MAI_PMMA_600nm_Ag_memory_6V_carbon_paste_no_wait.xlsx, sigma: 0.2986867724559867, usability: -0.0004975622795556523, evaluate-9\n"
     ]
    },
    {
     "name": "stderr",
     "output_type": "stream",
     "text": [
      "eval: 100%|█████████▉| 471/472 [03:20<00:00, 12.13it/s]2023-07-27 19:14:17,407   INFO  Average predicted number of objects(3769 samples): 37.899\n",
      "eval: 100%|██████████| 472/472 [03:39<00:00,  2.15it/s]\n"
     ]
    },
    {
     "name": "stdout",
     "output_type": "stream",
     "text": [
      "{'recall/roi_0.3': 0.0, 'recall/rcnn_0.3': 0.0, 'recall/roi_0.5': 0.0, 'recall/rcnn_0.5': 0.0, 'recall/roi_0.7': 0.0, 'recall/rcnn_0.7': 0.0, 'Car_aos/easy_R40': 75.80651092626654, 'Car_aos/moderate_R40': 64.06752581693837, 'Car_aos/hard_R40': 58.69755512435425, 'Car_3d/easy_R40': 43.67614916282715, 'Car_3d/moderate_R40': 35.22583115853821, 'Car_3d/hard_R40': 31.034195804343618, 'Car_bev/easy_R40': 78.59550973434686, 'Car_bev/moderate_R40': 70.1466450718183, 'Car_bev/hard_R40': 64.18980482534707, 'Car_image/easy_R40': 79.27348795111506, 'Car_image/moderate_R40': 67.47425428654722, 'Car_image/hard_R40': 61.72840183619992, 'Pedestrian_aos/easy_R40': 1.7634971604447915, 'Pedestrian_aos/moderate_R40': 1.605938128485573, 'Pedestrian_aos/hard_R40': 1.4867478366098423, 'Pedestrian_3d/easy_R40': 1.8615598455790336, 'Pedestrian_3d/moderate_R40': 1.2401264011113278, 'Pedestrian_3d/hard_R40': 1.0336998898237288, 'Pedestrian_bev/easy_R40': 2.998432439262012, 'Pedestrian_bev/moderate_R40': 2.3665745106766134, 'Pedestrian_bev/hard_R40': 2.0394797970863885, 'Pedestrian_image/easy_R40': 3.094835878710247, 'Pedestrian_image/moderate_R40': 2.6961944793830717, 'Pedestrian_image/hard_R40': 2.5248514863741014, 'Cyclist_aos/easy_R40': 4.951678871372296, 'Cyclist_aos/moderate_R40': 4.1048861560269145, 'Cyclist_aos/hard_R40': 3.81425513263707, 'Cyclist_3d/easy_R40': 5.112271402804178, 'Cyclist_3d/moderate_R40': 3.679094340889924, 'Cyclist_3d/hard_R40': 3.7005332520875576, 'Cyclist_bev/easy_R40': 5.544552849406514, 'Cyclist_bev/moderate_R40': 4.392327426126304, 'Cyclist_bev/hard_R40': 4.35700943583544, 'Cyclist_image/easy_R40': 6.138154281860141, 'Cyclist_image/moderate_R40': 5.401455244091437, 'Cyclist_image/hard_R40': 5.227965303318487}\n",
      "file: I-V_data_1.2um_length_200nm_diameter_BT_4V_NA_third_etch_15min_Pb_ED_1h_180C_MAI_no_100nm_Ag_memory_5V_carbon_paste_no_wait.xlsx, sigma: 0.34418406262744244, usability: -0.20756420569932588, evaluate-0\n"
     ]
    },
    {
     "name": "stderr",
     "output_type": "stream",
     "text": [
      "eval: 100%|█████████▉| 471/472 [03:22<00:00, 13.15it/s]2023-07-27 19:18:00,200   INFO  Average predicted number of objects(3769 samples): 49.521\n",
      "eval: 100%|██████████| 472/472 [03:45<00:00,  2.09it/s]\n"
     ]
    },
    {
     "name": "stdout",
     "output_type": "stream",
     "text": [
      "{'recall/roi_0.3': 0.0, 'recall/rcnn_0.3': 0.0, 'recall/roi_0.5': 0.0, 'recall/rcnn_0.5': 0.0, 'recall/roi_0.7': 0.0, 'recall/rcnn_0.7': 0.0, 'Car_aos/easy_R40': 61.095598445270724, 'Car_aos/moderate_R40': 48.6353180491107, 'Car_aos/hard_R40': 46.39666878262145, 'Car_3d/easy_R40': 12.570218529284585, 'Car_3d/moderate_R40': 11.259111880928433, 'Car_3d/hard_R40': 10.967454574576784, 'Car_bev/easy_R40': 66.69908140697419, 'Car_bev/moderate_R40': 58.25928384893639, 'Car_bev/hard_R40': 54.48193968996635, 'Car_image/easy_R40': 61.40892106252884, 'Car_image/moderate_R40': 49.216467725796804, 'Car_image/hard_R40': 47.10203661931976, 'Pedestrian_aos/easy_R40': 7.736515180915347, 'Pedestrian_aos/moderate_R40': 6.98194365917775, 'Pedestrian_aos/hard_R40': 7.06506839218107, 'Pedestrian_3d/easy_R40': 5.167515152913249, 'Pedestrian_3d/moderate_R40': 4.995574653670433, 'Pedestrian_3d/hard_R40': 4.675144696204584, 'Pedestrian_bev/easy_R40': 18.232930259647148, 'Pedestrian_bev/moderate_R40': 16.078435053244984, 'Pedestrian_bev/hard_R40': 15.914621629788876, 'Pedestrian_image/easy_R40': 12.477213835283726, 'Pedestrian_image/moderate_R40': 11.089933981291257, 'Pedestrian_image/hard_R40': 11.201719314075117, 'Cyclist_aos/easy_R40': 10.313048820491256, 'Cyclist_aos/moderate_R40': 7.411196721833928, 'Cyclist_aos/hard_R40': 7.355787453423286, 'Cyclist_3d/easy_R40': 0.8064342158303976, 'Cyclist_3d/moderate_R40': 0.6322354262758445, 'Cyclist_3d/hard_R40': 0.635125086496483, 'Cyclist_bev/easy_R40': 32.94781538935256, 'Cyclist_bev/moderate_R40': 23.797592724733022, 'Cyclist_bev/hard_R40': 22.155846790287622, 'Cyclist_image/easy_R40': 14.569291991586242, 'Cyclist_image/moderate_R40': 12.089580748002087, 'Cyclist_image/hard_R40': 11.56814195059441}\n",
      "file: I-V_data_1.2um_length_200nm_diameter_BT_4V_NA_third_etch_15min_Pb_ED_1h_180C_MAI_no_100nm_Ag_memory_5V_carbon_paste_no_wait.xlsx, sigma: 0.34418406262744244, usability: -0.20756420569932588, evaluate-1\n"
     ]
    },
    {
     "name": "stderr",
     "output_type": "stream",
     "text": [
      "eval: 100%|█████████▉| 471/472 [03:21<00:00, 10.54it/s]2023-07-27 19:21:45,770   INFO  Average predicted number of objects(3769 samples): 71.833\n",
      "eval: 100%|██████████| 472/472 [03:51<00:00,  2.04it/s]\n"
     ]
    },
    {
     "name": "stdout",
     "output_type": "stream",
     "text": [
      "{'recall/roi_0.3': 0.0, 'recall/rcnn_0.3': 0.0, 'recall/roi_0.5': 0.0, 'recall/rcnn_0.5': 0.0, 'recall/roi_0.7': 0.0, 'recall/rcnn_0.7': 0.0, 'Car_aos/easy_R40': 55.22618014864528, 'Car_aos/moderate_R40': 41.367103920469376, 'Car_aos/hard_R40': 40.824995051696575, 'Car_3d/easy_R40': 9.714434819548948, 'Car_3d/moderate_R40': 8.607536426108446, 'Car_3d/hard_R40': 8.498265793935836, 'Car_bev/easy_R40': 47.277883283125036, 'Car_bev/moderate_R40': 38.567383431305466, 'Car_bev/hard_R40': 37.13260999483667, 'Car_image/easy_R40': 56.78296978658973, 'Car_image/moderate_R40': 43.200135929718556, 'Car_image/hard_R40': 42.822816559424204, 'Pedestrian_aos/easy_R40': 5.596760319280514, 'Pedestrian_aos/moderate_R40': 5.617106364769801, 'Pedestrian_aos/hard_R40': 5.485059797286203, 'Pedestrian_3d/easy_R40': 4.218964240484012, 'Pedestrian_3d/moderate_R40': 4.105125554775836, 'Pedestrian_3d/hard_R40': 3.7898740982963224, 'Pedestrian_bev/easy_R40': 11.105237248468569, 'Pedestrian_bev/moderate_R40': 11.351296759910543, 'Pedestrian_bev/hard_R40': 10.988174072364602, 'Pedestrian_image/easy_R40': 8.76148849686594, 'Pedestrian_image/moderate_R40': 8.47443398301842, 'Pedestrian_image/hard_R40': 8.285027027404533, 'Cyclist_aos/easy_R40': 5.902618206285317, 'Cyclist_aos/moderate_R40': 4.064901396232172, 'Cyclist_aos/hard_R40': 3.9380233033767738, 'Cyclist_3d/easy_R40': 4.066638428910604, 'Cyclist_3d/moderate_R40': 2.1727203366120666, 'Cyclist_3d/hard_R40': 2.173500447048702, 'Cyclist_bev/easy_R40': 6.770940451544718, 'Cyclist_bev/moderate_R40': 5.183301482053217, 'Cyclist_bev/hard_R40': 5.050347677534944, 'Cyclist_image/easy_R40': 7.561278892438453, 'Cyclist_image/moderate_R40': 5.15505641248247, 'Cyclist_image/hard_R40': 4.960314358723421}\n",
      "file: I-V_data_1.2um_length_200nm_diameter_BT_4V_NA_third_etch_15min_Pb_ED_1h_180C_MAI_no_100nm_Ag_memory_5V_carbon_paste_no_wait.xlsx, sigma: 0.34418406262744244, usability: -0.20756420569932588, evaluate-2\n"
     ]
    },
    {
     "name": "stderr",
     "output_type": "stream",
     "text": [
      "eval: 100%|█████████▉| 471/472 [03:55<00:00, 10.20it/s]2023-07-27 19:26:19,057   INFO  Average predicted number of objects(3769 samples): 73.826\n",
      "eval: 100%|██████████| 472/472 [04:27<00:00,  1.76it/s]\n"
     ]
    },
    {
     "name": "stdout",
     "output_type": "stream",
     "text": [
      "{'recall/roi_0.3': 0.0, 'recall/rcnn_0.3': 0.0, 'recall/roi_0.5': 0.0, 'recall/rcnn_0.5': 0.0, 'recall/roi_0.7': 0.0, 'recall/rcnn_0.7': 0.0, 'Car_aos/easy_R40': 47.55383885861571, 'Car_aos/moderate_R40': 39.605090893435545, 'Car_aos/hard_R40': 38.14250756585095, 'Car_3d/easy_R40': 2.81918467888942, 'Car_3d/moderate_R40': 2.8046637371103587, 'Car_3d/hard_R40': 3.0140233547442237, 'Car_bev/easy_R40': 61.920838568549385, 'Car_bev/moderate_R40': 53.81768769928756, 'Car_bev/hard_R40': 50.9262885358419, 'Car_image/easy_R40': 48.11999797993887, 'Car_image/moderate_R40': 40.672387637725706, 'Car_image/hard_R40': 39.249819676311226, 'Pedestrian_aos/easy_R40': 6.2313114572681645, 'Pedestrian_aos/moderate_R40': 6.005603680104087, 'Pedestrian_aos/hard_R40': 6.116793173673135, 'Pedestrian_3d/easy_R40': 14.574704158260381, 'Pedestrian_3d/moderate_R40': 12.655897344151215, 'Pedestrian_3d/hard_R40': 11.428767400179707, 'Pedestrian_bev/easy_R40': 30.297281972242914, 'Pedestrian_bev/moderate_R40': 25.027025662081513, 'Pedestrian_bev/hard_R40': 23.40482704668437, 'Pedestrian_image/easy_R40': 10.961824348435067, 'Pedestrian_image/moderate_R40': 10.33572470447971, 'Pedestrian_image/hard_R40': 10.452520161714576, 'Cyclist_aos/easy_R40': 42.08949971056008, 'Cyclist_aos/moderate_R40': 26.859411554635, 'Cyclist_aos/hard_R40': 25.411779422696334, 'Cyclist_3d/easy_R40': 18.495103082295742, 'Cyclist_3d/moderate_R40': 11.708196418728596, 'Cyclist_3d/hard_R40': 10.636028589697025, 'Cyclist_bev/easy_R40': 49.9496832979489, 'Cyclist_bev/moderate_R40': 31.687408647510086, 'Cyclist_bev/hard_R40': 29.860892823627083, 'Cyclist_image/easy_R40': 44.593579188982915, 'Cyclist_image/moderate_R40': 29.083603645148848, 'Cyclist_image/hard_R40': 27.60120797132747}\n",
      "file: I-V_data_1.2um_length_200nm_diameter_BT_4V_NA_third_etch_15min_Pb_ED_1h_180C_MAI_no_100nm_Ag_memory_5V_carbon_paste_no_wait.xlsx, sigma: 0.34418406262744244, usability: -0.20756420569932588, evaluate-3\n"
     ]
    },
    {
     "name": "stderr",
     "output_type": "stream",
     "text": [
      "eval: 100%|█████████▉| 471/472 [03:41<00:00, 10.58it/s]2023-07-27 19:30:33,553   INFO  Average predicted number of objects(3769 samples): 17.941\n",
      "eval: 100%|██████████| 472/472 [03:56<00:00,  2.00it/s]\n"
     ]
    },
    {
     "name": "stdout",
     "output_type": "stream",
     "text": [
      "{'recall/roi_0.3': 0.0, 'recall/rcnn_0.3': 0.0, 'recall/roi_0.5': 0.0, 'recall/rcnn_0.5': 0.0, 'recall/roi_0.7': 0.0, 'recall/rcnn_0.7': 0.0, 'Car_aos/easy_R40': 63.29126732575616, 'Car_aos/moderate_R40': 49.96562948915111, 'Car_aos/hard_R40': 47.32743962614503, 'Car_3d/easy_R40': 13.303794448486206, 'Car_3d/moderate_R40': 11.54806063492087, 'Car_3d/hard_R40': 11.054602492594539, 'Car_bev/easy_R40': 77.35306171608038, 'Car_bev/moderate_R40': 62.55871777386216, 'Car_bev/hard_R40': 58.446053391309796, 'Car_image/easy_R40': 63.774558747406964, 'Car_image/moderate_R40': 50.60608263497958, 'Car_image/hard_R40': 48.141609351308745, 'Pedestrian_aos/easy_R40': 7.183872089627489, 'Pedestrian_aos/moderate_R40': 7.4644811039743715, 'Pedestrian_aos/hard_R40': 7.682341579808385, 'Pedestrian_3d/easy_R40': 18.414423964001266, 'Pedestrian_3d/moderate_R40': 17.567275266261202, 'Pedestrian_3d/hard_R40': 16.415922701880046, 'Pedestrian_bev/easy_R40': 28.215010249058903, 'Pedestrian_bev/moderate_R40': 26.705992944626455, 'Pedestrian_bev/hard_R40': 25.58942599104221, 'Pedestrian_image/easy_R40': 14.455653795305635, 'Pedestrian_image/moderate_R40': 14.372582904078298, 'Pedestrian_image/hard_R40': 14.938509395610328, 'Cyclist_aos/easy_R40': 27.628956023710373, 'Cyclist_aos/moderate_R40': 17.073299397907977, 'Cyclist_aos/hard_R40': 17.151348675359795, 'Cyclist_3d/easy_R40': 22.349514772123552, 'Cyclist_3d/moderate_R40': 13.548172231460326, 'Cyclist_3d/hard_R40': 13.179918688266548, 'Cyclist_bev/easy_R40': 29.223333267796036, 'Cyclist_bev/moderate_R40': 17.969504321653123, 'Cyclist_bev/hard_R40': 17.253233097120408, 'Cyclist_image/easy_R40': 30.432502600734995, 'Cyclist_image/moderate_R40': 18.910266701238463, 'Cyclist_image/hard_R40': 18.887639814540037}\n",
      "file: I-V_data_1.2um_length_200nm_diameter_BT_4V_NA_third_etch_15min_Pb_ED_1h_180C_MAI_no_100nm_Ag_memory_5V_carbon_paste_no_wait.xlsx, sigma: 0.34418406262744244, usability: -0.20756420569932588, evaluate-4\n"
     ]
    },
    {
     "name": "stderr",
     "output_type": "stream",
     "text": [
      "eval: 100%|██████████| 472/472 [03:31<00:00, 12.38it/s]2023-07-27 19:34:27,221   INFO  Average predicted number of objects(3769 samples): 41.147\n",
      "eval: 100%|██████████| 472/472 [03:52<00:00,  2.03it/s]\n"
     ]
    },
    {
     "name": "stdout",
     "output_type": "stream",
     "text": [
      "{'recall/roi_0.3': 0.0, 'recall/rcnn_0.3': 0.0, 'recall/roi_0.5': 0.0, 'recall/rcnn_0.5': 0.0, 'recall/roi_0.7': 0.0, 'recall/rcnn_0.7': 0.0, 'Car_aos/easy_R40': 55.37395121407813, 'Car_aos/moderate_R40': 45.55643025373636, 'Car_aos/hard_R40': 43.82485443698253, 'Car_3d/easy_R40': 6.11217279094365, 'Car_3d/moderate_R40': 5.876866707687943, 'Car_3d/hard_R40': 5.837444174637666, 'Car_bev/easy_R40': 64.23252484116838, 'Car_bev/moderate_R40': 52.78479778389631, 'Car_bev/hard_R40': 51.175008209275916, 'Car_image/easy_R40': 55.988305865541086, 'Car_image/moderate_R40': 46.272100917756156, 'Car_image/hard_R40': 44.68726035041161, 'Pedestrian_aos/easy_R40': 0.7884460252355806, 'Pedestrian_aos/moderate_R40': 0.8334331873408669, 'Pedestrian_aos/hard_R40': 0.9217637533466239, 'Pedestrian_3d/easy_R40': 0.5424135447241109, 'Pedestrian_3d/moderate_R40': 0.5253100757107588, 'Pedestrian_3d/hard_R40': 0.4651249006857993, 'Pedestrian_bev/easy_R40': 13.481679132423851, 'Pedestrian_bev/moderate_R40': 13.399357330083689, 'Pedestrian_bev/hard_R40': 13.11468513888266, 'Pedestrian_image/easy_R40': 1.5335883663000285, 'Pedestrian_image/moderate_R40': 1.556168226113957, 'Pedestrian_image/hard_R40': 1.7702474908987027, 'Cyclist_aos/easy_R40': 20.595033345900344, 'Cyclist_aos/moderate_R40': 12.806290919325242, 'Cyclist_aos/hard_R40': 12.06800938560136, 'Cyclist_3d/easy_R40': 21.984371208577436, 'Cyclist_3d/moderate_R40': 13.054178732402846, 'Cyclist_3d/hard_R40': 12.186815145970767, 'Cyclist_bev/easy_R40': 26.610989596205815, 'Cyclist_bev/moderate_R40': 15.781363876598926, 'Cyclist_bev/hard_R40': 14.788173446354369, 'Cyclist_image/easy_R40': 28.574697078502492, 'Cyclist_image/moderate_R40': 16.84285137402001, 'Cyclist_image/hard_R40': 15.774761566985543}\n",
      "file: I-V_data_1.2um_length_200nm_diameter_BT_4V_NA_third_etch_15min_Pb_ED_1h_180C_MAI_no_100nm_Ag_memory_5V_carbon_paste_no_wait.xlsx, sigma: 0.34418406262744244, usability: -0.20756420569932588, evaluate-5\n"
     ]
    },
    {
     "name": "stderr",
     "output_type": "stream",
     "text": [
      "eval: 100%|██████████| 472/472 [03:33<00:00, 12.59it/s]2023-07-27 19:38:28,321   INFO  Average predicted number of objects(3769 samples): 72.462\n",
      "eval: 100%|██████████| 472/472 [04:03<00:00,  1.94it/s]\n"
     ]
    },
    {
     "name": "stdout",
     "output_type": "stream",
     "text": [
      "{'recall/roi_0.3': 0.0, 'recall/rcnn_0.3': 0.0, 'recall/roi_0.5': 0.0, 'recall/rcnn_0.5': 0.0, 'recall/roi_0.7': 0.0, 'recall/rcnn_0.7': 0.0, 'Car_aos/easy_R40': 60.19856606957254, 'Car_aos/moderate_R40': 46.99074299006435, 'Car_aos/hard_R40': 46.25562377300797, 'Car_3d/easy_R40': 8.379640541134826, 'Car_3d/moderate_R40': 7.833086261519632, 'Car_3d/hard_R40': 7.387899766031894, 'Car_bev/easy_R40': 67.7441021603008, 'Car_bev/moderate_R40': 53.16912750583482, 'Car_bev/hard_R40': 50.497226740571165, 'Car_image/easy_R40': 60.77571826022899, 'Car_image/moderate_R40': 47.83997544873621, 'Car_image/hard_R40': 47.250357158889884, 'Pedestrian_aos/easy_R40': 0.7826319475115864, 'Pedestrian_aos/moderate_R40': 0.7063084987722668, 'Pedestrian_aos/hard_R40': 0.673111840321795, 'Pedestrian_3d/easy_R40': 0.5929205925174678, 'Pedestrian_3d/moderate_R40': 0.46668933948833086, 'Pedestrian_3d/hard_R40': 0.4175163037963324, 'Pedestrian_bev/easy_R40': 4.236145481598383, 'Pedestrian_bev/moderate_R40': 3.415425074058261, 'Pedestrian_bev/hard_R40': 3.0338134711297093, 'Pedestrian_image/easy_R40': 1.1179323457156773, 'Pedestrian_image/moderate_R40': 1.0006569704606991, 'Pedestrian_image/hard_R40': 0.9942310099005341, 'Cyclist_aos/easy_R40': 20.201980898766518, 'Cyclist_aos/moderate_R40': 12.028915249781793, 'Cyclist_aos/hard_R40': 11.811345897270098, 'Cyclist_3d/easy_R40': 17.74981177786365, 'Cyclist_3d/moderate_R40': 10.325456445392147, 'Cyclist_3d/hard_R40': 9.551353758930377, 'Cyclist_bev/easy_R40': 19.447274523609877, 'Cyclist_bev/moderate_R40': 11.80749329563418, 'Cyclist_bev/hard_R40': 11.13063128396039, 'Cyclist_image/easy_R40': 21.23098803329726, 'Cyclist_image/moderate_R40': 13.190335179373852, 'Cyclist_image/hard_R40': 12.95767130538196}\n",
      "file: I-V_data_1.2um_length_200nm_diameter_BT_4V_NA_third_etch_15min_Pb_ED_1h_180C_MAI_no_100nm_Ag_memory_5V_carbon_paste_no_wait.xlsx, sigma: 0.34418406262744244, usability: -0.20756420569932588, evaluate-6\n"
     ]
    },
    {
     "name": "stderr",
     "output_type": "stream",
     "text": [
      "eval: 100%|█████████▉| 471/472 [03:37<00:00, 10.89it/s]2023-07-27 19:42:43,316   INFO  Average predicted number of objects(3769 samples): 48.192\n",
      "eval: 100%|██████████| 472/472 [04:02<00:00,  1.95it/s]\n"
     ]
    },
    {
     "name": "stdout",
     "output_type": "stream",
     "text": [
      "{'recall/roi_0.3': 0.0, 'recall/rcnn_0.3': 0.0, 'recall/roi_0.5': 0.0, 'recall/rcnn_0.5': 0.0, 'recall/roi_0.7': 0.0, 'recall/rcnn_0.7': 0.0, 'Car_aos/easy_R40': 41.6368862038244, 'Car_aos/moderate_R40': 40.87060556059154, 'Car_aos/hard_R40': 38.325665696395895, 'Car_3d/easy_R40': 3.6532235756065763, 'Car_3d/moderate_R40': 4.505847376885121, 'Car_3d/hard_R40': 4.247837510560956, 'Car_bev/easy_R40': 70.38382088082807, 'Car_bev/moderate_R40': 61.75036415140484, 'Car_bev/hard_R40': 58.13718447637404, 'Car_image/easy_R40': 42.23542020583008, 'Car_image/moderate_R40': 41.918507985423695, 'Car_image/hard_R40': 39.37833183692735, 'Pedestrian_aos/easy_R40': 10.23166330844005, 'Pedestrian_aos/moderate_R40': 9.184432210799738, 'Pedestrian_aos/hard_R40': 8.304933847567373, 'Pedestrian_3d/easy_R40': 6.419537417641709, 'Pedestrian_3d/moderate_R40': 5.85448731036763, 'Pedestrian_3d/hard_R40': 4.9132982681170345, 'Pedestrian_bev/easy_R40': 18.663651355661194, 'Pedestrian_bev/moderate_R40': 16.566766321411528, 'Pedestrian_bev/hard_R40': 15.482932222839443, 'Pedestrian_image/easy_R40': 18.466384124460873, 'Pedestrian_image/moderate_R40': 16.510771553203014, 'Pedestrian_image/hard_R40': 15.213655119448225, 'Cyclist_aos/easy_R40': 10.843466743473698, 'Cyclist_aos/moderate_R40': 8.597795421491025, 'Cyclist_aos/hard_R40': 8.213601386695144, 'Cyclist_3d/easy_R40': 5.008186121518839, 'Cyclist_3d/moderate_R40': 3.590270314801787, 'Cyclist_3d/hard_R40': 3.277349939936172, 'Cyclist_bev/easy_R40': 13.576036557302656, 'Cyclist_bev/moderate_R40': 10.80185494843325, 'Cyclist_bev/hard_R40': 10.194831980906734, 'Cyclist_image/easy_R40': 11.431240506984068, 'Cyclist_image/moderate_R40': 9.52159492843351, 'Cyclist_image/hard_R40': 9.074991297433439}\n",
      "file: I-V_data_1.2um_length_200nm_diameter_BT_4V_NA_third_etch_15min_Pb_ED_1h_180C_MAI_no_100nm_Ag_memory_5V_carbon_paste_no_wait.xlsx, sigma: 0.34418406262744244, usability: -0.20756420569932588, evaluate-7\n"
     ]
    },
    {
     "name": "stderr",
     "output_type": "stream",
     "text": [
      "eval: 100%|█████████▉| 471/472 [03:33<00:00, 10.81it/s]2023-07-27 19:46:48,955   INFO  Average predicted number of objects(3769 samples): 24.771\n",
      "eval: 100%|██████████| 472/472 [03:49<00:00,  2.06it/s]\n"
     ]
    },
    {
     "name": "stdout",
     "output_type": "stream",
     "text": [
      "{'recall/roi_0.3': 0.0, 'recall/rcnn_0.3': 0.0, 'recall/roi_0.5': 0.0, 'recall/rcnn_0.5': 0.0, 'recall/roi_0.7': 0.0, 'recall/rcnn_0.7': 0.0, 'Car_aos/easy_R40': 10.526307851826562, 'Car_aos/moderate_R40': 10.009633271011861, 'Car_aos/hard_R40': 8.538045832747253, 'Car_3d/easy_R40': 0.25261349269121375, 'Car_3d/moderate_R40': 0.32732705378770305, 'Car_3d/hard_R40': 0.21955728379310116, 'Car_bev/easy_R40': 63.61118561642415, 'Car_bev/moderate_R40': 56.293555224760425, 'Car_bev/hard_R40': 52.281132943886554, 'Car_image/easy_R40': 10.601851966625262, 'Car_image/moderate_R40': 10.19467900690815, 'Car_image/hard_R40': 8.733040405898796, 'Pedestrian_aos/easy_R40': 12.226805750633012, 'Pedestrian_aos/moderate_R40': 11.216159266115898, 'Pedestrian_aos/hard_R40': 10.393340909763342, 'Pedestrian_3d/easy_R40': 15.34255639329028, 'Pedestrian_3d/moderate_R40': 14.505082610573261, 'Pedestrian_3d/hard_R40': 12.87985487770782, 'Pedestrian_bev/easy_R40': 22.164857794514283, 'Pedestrian_bev/moderate_R40': 20.868723500952107, 'Pedestrian_bev/hard_R40': 19.058312525810912, 'Pedestrian_image/easy_R40': 20.362245388832594, 'Pedestrian_image/moderate_R40': 19.016016939817366, 'Pedestrian_image/hard_R40': 17.965144424064434, 'Cyclist_aos/easy_R40': 4.665254798509098, 'Cyclist_aos/moderate_R40': 3.358721561266597, 'Cyclist_aos/hard_R40': 3.2584101277308917, 'Cyclist_3d/easy_R40': 0.21795195936429576, 'Cyclist_3d/moderate_R40': 0.16489601840794574, 'Cyclist_3d/hard_R40': 0.17106077781134696, 'Cyclist_bev/easy_R40': 38.57270682468274, 'Cyclist_bev/moderate_R40': 24.24857049765566, 'Cyclist_bev/hard_R40': 22.608470058699297, 'Cyclist_image/easy_R40': 5.032612251399438, 'Cyclist_image/moderate_R40': 3.8635416006348295, 'Cyclist_image/hard_R40': 3.7681539025408703}\n",
      "file: I-V_data_1.2um_length_200nm_diameter_BT_4V_NA_third_etch_15min_Pb_ED_1h_180C_MAI_no_100nm_Ag_memory_5V_carbon_paste_no_wait.xlsx, sigma: 0.34418406262744244, usability: -0.20756420569932588, evaluate-8\n"
     ]
    },
    {
     "name": "stderr",
     "output_type": "stream",
     "text": [
      "eval: 100%|██████████| 472/472 [03:39<00:00, 12.53it/s]2023-07-27 19:50:51,147   INFO  Average predicted number of objects(3769 samples): 40.034\n",
      "eval: 100%|██████████| 472/472 [04:00<00:00,  1.96it/s]\n"
     ]
    },
    {
     "name": "stdout",
     "output_type": "stream",
     "text": [
      "{'recall/roi_0.3': 0.0, 'recall/rcnn_0.3': 0.0, 'recall/roi_0.5': 0.0, 'recall/rcnn_0.5': 0.0, 'recall/roi_0.7': 0.0, 'recall/rcnn_0.7': 0.0, 'Car_aos/easy_R40': 55.823536564726, 'Car_aos/moderate_R40': 45.44949906547633, 'Car_aos/hard_R40': 45.28102986215655, 'Car_3d/easy_R40': 15.090600312410329, 'Car_3d/moderate_R40': 14.987762976504065, 'Car_3d/hard_R40': 15.581638175394739, 'Car_bev/easy_R40': 55.32954409313264, 'Car_bev/moderate_R40': 47.81786715433722, 'Car_bev/hard_R40': 46.83667005952841, 'Car_image/easy_R40': 58.49055433036337, 'Car_image/moderate_R40': 48.0982504719083, 'Car_image/hard_R40': 47.87197398972591, 'Pedestrian_aos/easy_R40': 2.093696961026306, 'Pedestrian_aos/moderate_R40': 2.1271359215291987, 'Pedestrian_aos/hard_R40': 2.2806195546355252, 'Pedestrian_3d/easy_R40': 3.181059639780876, 'Pedestrian_3d/moderate_R40': 2.84215768842917, 'Pedestrian_3d/hard_R40': 2.7701211281835842, 'Pedestrian_bev/easy_R40': 22.106022804852167, 'Pedestrian_bev/moderate_R40': 20.103533018374915, 'Pedestrian_bev/hard_R40': 18.758252045303013, 'Pedestrian_image/easy_R40': 4.348750200459596, 'Pedestrian_image/moderate_R40': 4.3409184684971684, 'Pedestrian_image/hard_R40': 4.523285503674042, 'Cyclist_aos/easy_R40': 29.51754813781327, 'Cyclist_aos/moderate_R40': 20.188055082551163, 'Cyclist_aos/hard_R40': 19.228554938008706, 'Cyclist_3d/easy_R40': 19.5244554762895, 'Cyclist_3d/moderate_R40': 11.507248908872747, 'Cyclist_3d/hard_R40': 11.052533307088344, 'Cyclist_bev/easy_R40': 27.849694483357535, 'Cyclist_bev/moderate_R40': 17.9421700833376, 'Cyclist_bev/hard_R40': 16.82186601441725, 'Cyclist_image/easy_R40': 31.977493095640032, 'Cyclist_image/moderate_R40': 22.149379324761163, 'Cyclist_image/hard_R40': 21.207106201439775}\n",
      "file: I-V_data_1.2um_length_200nm_diameter_BT_4V_NA_third_etch_15min_Pb_ED_1h_180C_MAI_no_100nm_Ag_memory_5V_carbon_paste_no_wait.xlsx, sigma: 0.34418406262744244, usability: -0.20756420569932588, evaluate-9\n"
     ]
    },
    {
     "name": "stderr",
     "output_type": "stream",
     "text": [
      "eval: 100%|█████████▉| 471/472 [03:34<00:00, 10.93it/s]2023-07-27 19:54:54,259   INFO  Average predicted number of objects(3769 samples): 27.786\n",
      "eval: 100%|██████████| 472/472 [03:52<00:00,  2.03it/s]\n"
     ]
    },
    {
     "name": "stdout",
     "output_type": "stream",
     "text": [
      "{'recall/roi_0.3': 0.0, 'recall/rcnn_0.3': 0.0, 'recall/roi_0.5': 0.0, 'recall/rcnn_0.5': 0.0, 'recall/roi_0.7': 0.0, 'recall/rcnn_0.7': 0.0, 'Car_aos/easy_R40': 58.24920660371775, 'Car_aos/moderate_R40': 48.4300348215481, 'Car_aos/hard_R40': 48.90931138929286, 'Car_3d/easy_R40': 8.445574216993009, 'Car_3d/moderate_R40': 8.891591440373317, 'Car_3d/hard_R40': 9.782294348786248, 'Car_bev/easy_R40': 60.871826317268585, 'Car_bev/moderate_R40': 52.77804235185296, 'Car_bev/hard_R40': 51.28142027564254, 'Car_image/easy_R40': 58.68622186399017, 'Car_image/moderate_R40': 49.059173771395656, 'Car_image/hard_R40': 49.82289600926465, 'Pedestrian_aos/easy_R40': 14.740504726825183, 'Pedestrian_aos/moderate_R40': 13.374516762395777, 'Pedestrian_aos/hard_R40': 12.747103832491963, 'Pedestrian_3d/easy_R40': 32.20451584336546, 'Pedestrian_3d/moderate_R40': 27.599812682375763, 'Pedestrian_3d/hard_R40': 24.802123794528583, 'Pedestrian_bev/easy_R40': 39.06203176380835, 'Pedestrian_bev/moderate_R40': 33.65820462088639, 'Pedestrian_bev/hard_R40': 30.65999218881277, 'Pedestrian_image/easy_R40': 28.53449300182433, 'Pedestrian_image/moderate_R40': 25.5718739932165, 'Pedestrian_image/hard_R40': 24.40486822117551, 'Cyclist_aos/easy_R40': 36.457896715883166, 'Cyclist_aos/moderate_R40': 26.69316333294716, 'Cyclist_aos/hard_R40': 25.251493065543222, 'Cyclist_3d/easy_R40': 6.390918633398543, 'Cyclist_3d/moderate_R40': 5.636206112158391, 'Cyclist_3d/hard_R40': 5.671985806112216, 'Cyclist_bev/easy_R40': 56.548067431629015, 'Cyclist_bev/moderate_R40': 39.87779667463183, 'Cyclist_bev/hard_R40': 38.020397568567375, 'Cyclist_image/easy_R40': 37.99451934030619, 'Cyclist_image/moderate_R40': 28.88203007128846, 'Cyclist_image/hard_R40': 27.43445802143591}\n",
      "file: I-V_data_1.2um_length_200nm_diameter_BT_4V_NA_third_etch_25min_Pb_ED_1h_180C_MAI_no_100nm_Ag_memory_8V_carbon_paste_no_wait.xlsx, sigma: 0.35618437120832747, usability: 0.11563273374376476, evaluate-0\n"
     ]
    },
    {
     "name": "stderr",
     "output_type": "stream",
     "text": [
      "eval: 100%|█████████▉| 471/472 [03:37<00:00,  8.70it/s]2023-07-27 19:58:55,937   INFO  Average predicted number of objects(3769 samples): 452.033\n",
      "eval: 100%|██████████| 472/472 [05:37<00:00,  1.40it/s]\n"
     ]
    },
    {
     "name": "stdout",
     "output_type": "stream",
     "text": [
      "{'recall/roi_0.3': 0.0, 'recall/rcnn_0.3': 0.0, 'recall/roi_0.5': 0.0, 'recall/rcnn_0.5': 0.0, 'recall/roi_0.7': 0.0, 'recall/rcnn_0.7': 0.0, 'Car_aos/easy_R40': 0.001342714202077913, 'Car_aos/moderate_R40': 0.005752237432920792, 'Car_aos/hard_R40': 0.008857108739557223, 'Car_3d/easy_R40': 6.788278679204617e-05, 'Car_3d/moderate_R40': 6.90089496940092e-05, 'Car_3d/hard_R40': 0.00013034704004874468, 'Car_bev/easy_R40': 0.00030302622186906573, 'Car_bev/moderate_R40': 0.000328079984374237, 'Car_bev/hard_R40': 0.0005314971843364474, 'Car_image/easy_R40': 0.0039922834465410915, 'Car_image/moderate_R40': 0.01217673762470734, 'Car_image/hard_R40': 0.021924647459967264, 'Pedestrian_aos/easy_R40': 0.0, 'Pedestrian_aos/moderate_R40': 0.0, 'Pedestrian_aos/hard_R40': 0.0, 'Pedestrian_3d/easy_R40': 0.0, 'Pedestrian_3d/moderate_R40': 0.0, 'Pedestrian_3d/hard_R40': 0.0, 'Pedestrian_bev/easy_R40': 0.0, 'Pedestrian_bev/moderate_R40': 0.0, 'Pedestrian_bev/hard_R40': 0.0, 'Pedestrian_image/easy_R40': 0.0, 'Pedestrian_image/moderate_R40': 0.0, 'Pedestrian_image/hard_R40': 0.0, 'Cyclist_aos/easy_R40': 0.0, 'Cyclist_aos/moderate_R40': 0.0, 'Cyclist_aos/hard_R40': 0.0, 'Cyclist_3d/easy_R40': 0.0, 'Cyclist_3d/moderate_R40': 0.0, 'Cyclist_3d/hard_R40': 0.0, 'Cyclist_bev/easy_R40': 0.0, 'Cyclist_bev/moderate_R40': 0.0, 'Cyclist_bev/hard_R40': 0.0, 'Cyclist_image/easy_R40': 0.0, 'Cyclist_image/moderate_R40': 0.0, 'Cyclist_image/hard_R40': 0.0}\n",
      "file: I-V_data_1.2um_length_200nm_diameter_BT_4V_NA_third_etch_25min_Pb_ED_1h_180C_MAI_no_100nm_Ag_memory_8V_carbon_paste_no_wait.xlsx, sigma: 0.35618437120832747, usability: 0.11563273374376476, evaluate-1\n"
     ]
    },
    {
     "name": "stderr",
     "output_type": "stream",
     "text": [
      "eval: 100%|█████████▉| 471/472 [04:00<00:00,  8.69it/s]2023-07-27 20:05:04,176   INFO  Average predicted number of objects(3769 samples): 498.634\n",
      "eval: 100%|██████████| 472/472 [06:12<00:00,  1.27it/s]\n"
     ]
    },
    {
     "name": "stdout",
     "output_type": "stream",
     "text": [
      "{'recall/roi_0.3': 0.0, 'recall/rcnn_0.3': 0.0, 'recall/roi_0.5': 0.0, 'recall/rcnn_0.5': 0.0, 'recall/roi_0.7': 0.0, 'recall/rcnn_0.7': 0.0, 'Car_aos/easy_R40': 0.0026049232810327516, 'Car_aos/moderate_R40': 0.006635195573273233, 'Car_aos/hard_R40': 0.009472187528323012, 'Car_3d/easy_R40': 6.564057322599786e-06, 'Car_3d/moderate_R40': 1.8768439992292425e-05, 'Car_3d/hard_R40': 2.7109878422622152e-05, 'Car_bev/easy_R40': 9.752012815445108e-05, 'Car_bev/moderate_R40': 0.00020104193610431296, 'Car_bev/hard_R40': 0.00027725086320194123, 'Car_image/easy_R40': 0.008303719116597134, 'Car_image/moderate_R40': 0.015619065046242154, 'Car_image/hard_R40': 0.021864693864936013, 'Pedestrian_aos/easy_R40': 0.0, 'Pedestrian_aos/moderate_R40': 0.0, 'Pedestrian_aos/hard_R40': 0.0, 'Pedestrian_3d/easy_R40': 0.0, 'Pedestrian_3d/moderate_R40': 0.0, 'Pedestrian_3d/hard_R40': 0.0, 'Pedestrian_bev/easy_R40': 0.0, 'Pedestrian_bev/moderate_R40': 0.0, 'Pedestrian_bev/hard_R40': 0.0, 'Pedestrian_image/easy_R40': 0.0, 'Pedestrian_image/moderate_R40': 0.0, 'Pedestrian_image/hard_R40': 0.0, 'Cyclist_aos/easy_R40': 0.0, 'Cyclist_aos/moderate_R40': 0.0, 'Cyclist_aos/hard_R40': 0.0, 'Cyclist_3d/easy_R40': 0.0, 'Cyclist_3d/moderate_R40': 0.0, 'Cyclist_3d/hard_R40': 0.0, 'Cyclist_bev/easy_R40': 0.0, 'Cyclist_bev/moderate_R40': 0.0, 'Cyclist_bev/hard_R40': 0.0, 'Cyclist_image/easy_R40': 0.0, 'Cyclist_image/moderate_R40': 0.0, 'Cyclist_image/hard_R40': 0.0}\n",
      "file: I-V_data_1.2um_length_200nm_diameter_BT_4V_NA_third_etch_25min_Pb_ED_1h_180C_MAI_no_100nm_Ag_memory_8V_carbon_paste_no_wait.xlsx, sigma: 0.35618437120832747, usability: 0.11563273374376476, evaluate-2\n"
     ]
    },
    {
     "name": "stderr",
     "output_type": "stream",
     "text": [
      "eval: 100%|█████████▉| 471/472 [03:58<00:00,  8.57it/s]2023-07-27 20:11:21,292   INFO  Average predicted number of objects(3769 samples): 413.620\n",
      "eval: 100%|██████████| 472/472 [05:49<00:00,  1.35it/s]\n"
     ]
    },
    {
     "name": "stdout",
     "output_type": "stream",
     "text": [
      "{'recall/roi_0.3': 0.0, 'recall/rcnn_0.3': 0.0, 'recall/roi_0.5': 0.0, 'recall/rcnn_0.5': 0.0, 'recall/roi_0.7': 0.0, 'recall/rcnn_0.7': 0.0, 'Car_aos/easy_R40': 0.0029505591329166245, 'Car_aos/moderate_R40': 0.00847611206433968, 'Car_aos/hard_R40': 0.013655544277075736, 'Car_3d/easy_R40': 0.00012224548020845673, 'Car_3d/moderate_R40': 0.00017927513271875982, 'Car_3d/hard_R40': 0.0002647665255681724, 'Car_bev/easy_R40': 0.0002873214867666808, 'Car_bev/moderate_R40': 0.0004444812926345073, 'Car_bev/hard_R40': 0.0014449315536332736, 'Car_image/easy_R40': 0.011098569109400139, 'Car_image/moderate_R40': 0.029091110992169752, 'Car_image/hard_R40': 0.054219318628985304, 'Pedestrian_aos/easy_R40': 0.0, 'Pedestrian_aos/moderate_R40': 0.0, 'Pedestrian_aos/hard_R40': 0.0, 'Pedestrian_3d/easy_R40': 0.0, 'Pedestrian_3d/moderate_R40': 0.0, 'Pedestrian_3d/hard_R40': 0.0, 'Pedestrian_bev/easy_R40': 0.0, 'Pedestrian_bev/moderate_R40': 0.0, 'Pedestrian_bev/hard_R40': 0.0, 'Pedestrian_image/easy_R40': 0.0, 'Pedestrian_image/moderate_R40': 0.0, 'Pedestrian_image/hard_R40': 0.0, 'Cyclist_aos/easy_R40': 0.0, 'Cyclist_aos/moderate_R40': 0.0, 'Cyclist_aos/hard_R40': 0.0, 'Cyclist_3d/easy_R40': 0.0, 'Cyclist_3d/moderate_R40': 0.0, 'Cyclist_3d/hard_R40': 0.0, 'Cyclist_bev/easy_R40': 0.0, 'Cyclist_bev/moderate_R40': 0.0, 'Cyclist_bev/hard_R40': 0.0, 'Cyclist_image/easy_R40': 0.0, 'Cyclist_image/moderate_R40': 0.0, 'Cyclist_image/hard_R40': 0.0}\n",
      "file: I-V_data_1.2um_length_200nm_diameter_BT_4V_NA_third_etch_25min_Pb_ED_1h_180C_MAI_no_100nm_Ag_memory_8V_carbon_paste_no_wait.xlsx, sigma: 0.35618437120832747, usability: 0.11563273374376476, evaluate-3\n"
     ]
    },
    {
     "name": "stderr",
     "output_type": "stream",
     "text": [
      "eval: 100%|█████████▉| 471/472 [03:57<00:00,  8.90it/s]2023-07-27 20:17:16,928   INFO  Average predicted number of objects(3769 samples): 440.646\n",
      "eval: 100%|██████████| 472/472 [05:55<00:00,  1.33it/s]\n"
     ]
    },
    {
     "name": "stdout",
     "output_type": "stream",
     "text": [
      "{'recall/roi_0.3': 0.0, 'recall/rcnn_0.3': 0.0, 'recall/roi_0.5': 0.0, 'recall/rcnn_0.5': 0.0, 'recall/roi_0.7': 0.0, 'recall/rcnn_0.7': 0.0, 'Car_aos/easy_R40': 0.006588092777285469, 'Car_aos/moderate_R40': 0.013434570267937826, 'Car_aos/hard_R40': 0.019838358173032065, 'Car_3d/easy_R40': 2.553272200701785e-05, 'Car_3d/moderate_R40': 4.880302448610416e-05, 'Car_3d/hard_R40': 7.204189026765189e-05, 'Car_bev/easy_R40': 9.600042372600818e-05, 'Car_bev/moderate_R40': 0.0001988069888693466, 'Car_bev/hard_R40': 0.0002770521314825969, 'Car_image/easy_R40': 0.014144546906231145, 'Car_image/moderate_R40': 0.028564661020439888, 'Car_image/hard_R40': 0.0471205681918397, 'Pedestrian_aos/easy_R40': 0.0, 'Pedestrian_aos/moderate_R40': 0.0, 'Pedestrian_aos/hard_R40': 0.0, 'Pedestrian_3d/easy_R40': 0.0, 'Pedestrian_3d/moderate_R40': 0.0, 'Pedestrian_3d/hard_R40': 0.0, 'Pedestrian_bev/easy_R40': 0.0, 'Pedestrian_bev/moderate_R40': 0.0, 'Pedestrian_bev/hard_R40': 0.0, 'Pedestrian_image/easy_R40': 0.0, 'Pedestrian_image/moderate_R40': 0.0, 'Pedestrian_image/hard_R40': 0.0, 'Cyclist_aos/easy_R40': 0.0, 'Cyclist_aos/moderate_R40': 0.0, 'Cyclist_aos/hard_R40': 0.0, 'Cyclist_3d/easy_R40': 0.0, 'Cyclist_3d/moderate_R40': 0.0, 'Cyclist_3d/hard_R40': 0.0, 'Cyclist_bev/easy_R40': 0.0, 'Cyclist_bev/moderate_R40': 0.0, 'Cyclist_bev/hard_R40': 0.0, 'Cyclist_image/easy_R40': 0.0, 'Cyclist_image/moderate_R40': 0.0, 'Cyclist_image/hard_R40': 0.0}\n",
      "file: I-V_data_1.2um_length_200nm_diameter_BT_4V_NA_third_etch_25min_Pb_ED_1h_180C_MAI_no_100nm_Ag_memory_8V_carbon_paste_no_wait.xlsx, sigma: 0.35618437120832747, usability: 0.11563273374376476, evaluate-4\n"
     ]
    },
    {
     "name": "stderr",
     "output_type": "stream",
     "text": [
      "eval: 100%|█████████▉| 471/472 [03:56<00:00,  8.92it/s]2023-07-27 20:23:18,984   INFO  Average predicted number of objects(3769 samples): 389.265\n",
      "eval: 100%|██████████| 472/472 [05:44<00:00,  1.37it/s]\n"
     ]
    },
    {
     "name": "stdout",
     "output_type": "stream",
     "text": [
      "{'recall/roi_0.3': 0.0, 'recall/rcnn_0.3': 0.0, 'recall/roi_0.5': 0.0, 'recall/rcnn_0.5': 0.0, 'recall/roi_0.7': 0.0, 'recall/rcnn_0.7': 0.0, 'Car_aos/easy_R40': 0.005304875583281918, 'Car_aos/moderate_R40': 0.012568154569854646, 'Car_aos/hard_R40': 0.016633310127668225, 'Car_3d/easy_R40': 2.4174676542827856e-05, 'Car_3d/moderate_R40': 3.0998492439984335e-05, 'Car_3d/hard_R40': 4.6497450389803624e-05, 'Car_bev/easy_R40': 0.0001914701776495121, 'Car_bev/moderate_R40': 0.00019633311736690423, 'Car_bev/hard_R40': 0.0002764075083645562, 'Car_image/easy_R40': 0.013463822906543108, 'Car_image/moderate_R40': 0.029091370663513638, 'Car_image/hard_R40': 0.0385514999395728, 'Pedestrian_aos/easy_R40': 0.0, 'Pedestrian_aos/moderate_R40': 0.0, 'Pedestrian_aos/hard_R40': 0.0, 'Pedestrian_3d/easy_R40': 0.0, 'Pedestrian_3d/moderate_R40': 0.0, 'Pedestrian_3d/hard_R40': 0.0, 'Pedestrian_bev/easy_R40': 0.0, 'Pedestrian_bev/moderate_R40': 0.0, 'Pedestrian_bev/hard_R40': 0.0, 'Pedestrian_image/easy_R40': 0.0, 'Pedestrian_image/moderate_R40': 0.0, 'Pedestrian_image/hard_R40': 0.0, 'Cyclist_aos/easy_R40': 0.0, 'Cyclist_aos/moderate_R40': 0.0, 'Cyclist_aos/hard_R40': 0.0, 'Cyclist_3d/easy_R40': 0.0, 'Cyclist_3d/moderate_R40': 0.0, 'Cyclist_3d/hard_R40': 0.0, 'Cyclist_bev/easy_R40': 0.0, 'Cyclist_bev/moderate_R40': 0.0, 'Cyclist_bev/hard_R40': 0.0, 'Cyclist_image/easy_R40': 0.0, 'Cyclist_image/moderate_R40': 0.0, 'Cyclist_image/hard_R40': 0.0}\n",
      "file: I-V_data_1.2um_length_200nm_diameter_BT_4V_NA_third_etch_25min_Pb_ED_1h_180C_MAI_no_100nm_Ag_memory_8V_carbon_paste_no_wait.xlsx, sigma: 0.35618437120832747, usability: 0.11563273374376476, evaluate-5\n"
     ]
    },
    {
     "name": "stderr",
     "output_type": "stream",
     "text": [
      "eval: 100%|█████████▉| 471/472 [04:06<00:00,  7.93it/s]2023-07-27 20:29:20,763   INFO  Average predicted number of objects(3769 samples): 396.641\n",
      "eval: 100%|██████████| 472/472 [05:54<00:00,  1.33it/s]\n"
     ]
    },
    {
     "name": "stdout",
     "output_type": "stream",
     "text": [
      "{'recall/roi_0.3': 0.0, 'recall/rcnn_0.3': 0.0, 'recall/roi_0.5': 0.0, 'recall/rcnn_0.5': 0.0, 'recall/roi_0.7': 0.0, 'recall/rcnn_0.7': 0.0, 'Car_aos/easy_R40': 0.0010446355350030377, 'Car_aos/moderate_R40': 0.004004488942343291, 'Car_aos/hard_R40': 0.005496600719393691, 'Car_3d/easy_R40': 0.0, 'Car_3d/moderate_R40': 7.76502817669891e-06, 'Car_3d/hard_R40': 1.5530008117017575e-05, 'Car_bev/easy_R40': 4.727554661441628e-05, 'Car_bev/moderate_R40': 8.840926603557962e-05, 'Car_bev/hard_R40': 0.0001884437893114683, 'Car_image/easy_R40': 0.0036649947267145665, 'Car_image/moderate_R40': 0.010567419719341416, 'Car_image/hard_R40': 0.014800255324496275, 'Pedestrian_aos/easy_R40': 0.0, 'Pedestrian_aos/moderate_R40': 0.0, 'Pedestrian_aos/hard_R40': 0.0, 'Pedestrian_3d/easy_R40': 0.0, 'Pedestrian_3d/moderate_R40': 0.0, 'Pedestrian_3d/hard_R40': 0.0, 'Pedestrian_bev/easy_R40': 0.0, 'Pedestrian_bev/moderate_R40': 0.0, 'Pedestrian_bev/hard_R40': 0.0, 'Pedestrian_image/easy_R40': 0.0, 'Pedestrian_image/moderate_R40': 0.0, 'Pedestrian_image/hard_R40': 0.0, 'Cyclist_aos/easy_R40': 0.0, 'Cyclist_aos/moderate_R40': 0.0, 'Cyclist_aos/hard_R40': 0.0, 'Cyclist_3d/easy_R40': 0.0, 'Cyclist_3d/moderate_R40': 0.0, 'Cyclist_3d/hard_R40': 0.0, 'Cyclist_bev/easy_R40': 0.0, 'Cyclist_bev/moderate_R40': 0.0, 'Cyclist_bev/hard_R40': 0.0, 'Cyclist_image/easy_R40': 0.0, 'Cyclist_image/moderate_R40': 0.0, 'Cyclist_image/hard_R40': 0.0}\n",
      "file: I-V_data_1.2um_length_200nm_diameter_BT_4V_NA_third_etch_25min_Pb_ED_1h_180C_MAI_no_100nm_Ag_memory_8V_carbon_paste_no_wait.xlsx, sigma: 0.35618437120832747, usability: 0.11563273374376476, evaluate-6\n"
     ]
    },
    {
     "name": "stderr",
     "output_type": "stream",
     "text": [
      "eval: 100%|█████████▉| 471/472 [04:09<00:00,  8.46it/s]2023-07-27 20:35:25,469   INFO  Average predicted number of objects(3769 samples): 414.067\n",
      "eval: 100%|██████████| 472/472 [06:04<00:00,  1.30it/s]\n"
     ]
    },
    {
     "name": "stdout",
     "output_type": "stream",
     "text": [
      "{'recall/roi_0.3': 0.0, 'recall/rcnn_0.3': 0.0, 'recall/roi_0.5': 0.0, 'recall/rcnn_0.5': 0.0, 'recall/roi_0.7': 0.0, 'recall/rcnn_0.7': 0.0, 'Car_aos/easy_R40': 0.0030725951867024474, 'Car_aos/moderate_R40': 0.010622812381998456, 'Car_aos/hard_R40': 0.014030964846831667, 'Car_3d/easy_R40': 4.335974423532201e-05, 'Car_3d/moderate_R40': 8.241320515943292e-05, 'Car_3d/hard_R40': 0.00017828000932541588, 'Car_bev/easy_R40': 0.00014681132953772334, 'Car_bev/moderate_R40': 0.00028552160718753057, 'Car_bev/hard_R40': 0.00046903677520222965, 'Car_image/easy_R40': 0.010902393678204373, 'Car_image/moderate_R40': 0.030211726682606327, 'Car_image/hard_R40': 0.043604047215478774, 'Pedestrian_aos/easy_R40': 0.0, 'Pedestrian_aos/moderate_R40': 0.0, 'Pedestrian_aos/hard_R40': 0.0, 'Pedestrian_3d/easy_R40': 0.0, 'Pedestrian_3d/moderate_R40': 0.0, 'Pedestrian_3d/hard_R40': 0.0, 'Pedestrian_bev/easy_R40': 0.0, 'Pedestrian_bev/moderate_R40': 0.0, 'Pedestrian_bev/hard_R40': 0.0, 'Pedestrian_image/easy_R40': 0.0, 'Pedestrian_image/moderate_R40': 0.0, 'Pedestrian_image/hard_R40': 0.0, 'Cyclist_aos/easy_R40': 0.0, 'Cyclist_aos/moderate_R40': 0.0, 'Cyclist_aos/hard_R40': 0.0, 'Cyclist_3d/easy_R40': 0.0, 'Cyclist_3d/moderate_R40': 0.0, 'Cyclist_3d/hard_R40': 0.0, 'Cyclist_bev/easy_R40': 0.0, 'Cyclist_bev/moderate_R40': 0.0, 'Cyclist_bev/hard_R40': 0.0, 'Cyclist_image/easy_R40': 0.0, 'Cyclist_image/moderate_R40': 0.0, 'Cyclist_image/hard_R40': 0.0}\n",
      "file: I-V_data_1.2um_length_200nm_diameter_BT_4V_NA_third_etch_25min_Pb_ED_1h_180C_MAI_no_100nm_Ag_memory_8V_carbon_paste_no_wait.xlsx, sigma: 0.35618437120832747, usability: 0.11563273374376476, evaluate-7\n"
     ]
    },
    {
     "name": "stderr",
     "output_type": "stream",
     "text": [
      "eval: 100%|█████████▉| 471/472 [04:12<00:00,  8.64it/s]2023-07-27 20:41:38,885   INFO  Average predicted number of objects(3769 samples): 393.077\n",
      "eval: 100%|██████████| 472/472 [05:56<00:00,  1.32it/s]\n"
     ]
    },
    {
     "name": "stdout",
     "output_type": "stream",
     "text": [
      "{'recall/roi_0.3': 0.0, 'recall/rcnn_0.3': 0.0, 'recall/roi_0.5': 0.0, 'recall/rcnn_0.5': 0.0, 'recall/roi_0.7': 0.0, 'recall/rcnn_0.7': 0.0, 'Car_aos/easy_R40': 0.0007782695663695519, 'Car_aos/moderate_R40': 0.0016615179947549654, 'Car_aos/hard_R40': 0.007159881479951465, 'Car_3d/easy_R40': 0.0, 'Car_3d/moderate_R40': 0.0, 'Car_3d/hard_R40': 0.0, 'Car_bev/easy_R40': 0.0, 'Car_bev/moderate_R40': 1.439147103860368e-05, 'Car_bev/hard_R40': 3.5978366927533815e-05, 'Car_image/easy_R40': 0.0014068070940987869, 'Car_image/moderate_R40': 0.0042804248381182654, 'Car_image/hard_R40': 0.017262644297655172, 'Pedestrian_aos/easy_R40': 0.0, 'Pedestrian_aos/moderate_R40': 0.0, 'Pedestrian_aos/hard_R40': 0.0, 'Pedestrian_3d/easy_R40': 0.0, 'Pedestrian_3d/moderate_R40': 0.0, 'Pedestrian_3d/hard_R40': 0.0, 'Pedestrian_bev/easy_R40': 0.0, 'Pedestrian_bev/moderate_R40': 0.0, 'Pedestrian_bev/hard_R40': 0.0, 'Pedestrian_image/easy_R40': 0.0, 'Pedestrian_image/moderate_R40': 0.0, 'Pedestrian_image/hard_R40': 0.0, 'Cyclist_aos/easy_R40': 0.0, 'Cyclist_aos/moderate_R40': 0.0, 'Cyclist_aos/hard_R40': 0.0, 'Cyclist_3d/easy_R40': 0.0, 'Cyclist_3d/moderate_R40': 0.0, 'Cyclist_3d/hard_R40': 0.0, 'Cyclist_bev/easy_R40': 0.0, 'Cyclist_bev/moderate_R40': 0.0, 'Cyclist_bev/hard_R40': 0.0, 'Cyclist_image/easy_R40': 0.0, 'Cyclist_image/moderate_R40': 0.0, 'Cyclist_image/hard_R40': 0.0}\n",
      "file: I-V_data_1.2um_length_200nm_diameter_BT_4V_NA_third_etch_25min_Pb_ED_1h_180C_MAI_no_100nm_Ag_memory_8V_carbon_paste_no_wait.xlsx, sigma: 0.35618437120832747, usability: 0.11563273374376476, evaluate-8\n"
     ]
    },
    {
     "name": "stderr",
     "output_type": "stream",
     "text": [
      "eval: 100%|█████████▉| 471/472 [04:06<00:00,  8.66it/s]2023-07-27 20:47:37,145   INFO  Average predicted number of objects(3769 samples): 386.189\n",
      "eval: 100%|██████████| 472/472 [05:50<00:00,  1.35it/s]\n"
     ]
    },
    {
     "name": "stdout",
     "output_type": "stream",
     "text": [
      "{'recall/roi_0.3': 0.0, 'recall/rcnn_0.3': 0.0, 'recall/roi_0.5': 0.0, 'recall/rcnn_0.5': 0.0, 'recall/roi_0.7': 0.0, 'recall/rcnn_0.7': 0.0, 'Car_aos/easy_R40': 0.011641587758611498, 'Car_aos/moderate_R40': 0.020880466967835083, 'Car_aos/hard_R40': 0.026244840813908467, 'Car_3d/easy_R40': 3.198128637871326e-05, 'Car_3d/moderate_R40': 2.9747546097879162e-05, 'Car_3d/hard_R40': 5.1381680429745556e-05, 'Car_bev/easy_R40': 0.00010051849266123623, 'Car_bev/moderate_R40': 0.00016226495920658926, 'Car_bev/hard_R40': 0.00021905271868763083, 'Car_image/easy_R40': 0.020565881095211302, 'Car_image/moderate_R40': 0.03590442865115954, 'Car_image/hard_R40': 0.04667598238145278, 'Pedestrian_aos/easy_R40': 0.0, 'Pedestrian_aos/moderate_R40': 0.0, 'Pedestrian_aos/hard_R40': 0.0, 'Pedestrian_3d/easy_R40': 0.0, 'Pedestrian_3d/moderate_R40': 0.0, 'Pedestrian_3d/hard_R40': 0.0, 'Pedestrian_bev/easy_R40': 0.0, 'Pedestrian_bev/moderate_R40': 0.0, 'Pedestrian_bev/hard_R40': 0.0, 'Pedestrian_image/easy_R40': 0.0, 'Pedestrian_image/moderate_R40': 0.0, 'Pedestrian_image/hard_R40': 0.0, 'Cyclist_aos/easy_R40': 0.0, 'Cyclist_aos/moderate_R40': 0.0, 'Cyclist_aos/hard_R40': 0.0, 'Cyclist_3d/easy_R40': 0.0, 'Cyclist_3d/moderate_R40': 0.0, 'Cyclist_3d/hard_R40': 0.0, 'Cyclist_bev/easy_R40': 0.0, 'Cyclist_bev/moderate_R40': 0.0, 'Cyclist_bev/hard_R40': 0.0, 'Cyclist_image/easy_R40': 0.0, 'Cyclist_image/moderate_R40': 0.0, 'Cyclist_image/hard_R40': 0.0}\n",
      "file: I-V_data_1.2um_length_200nm_diameter_BT_4V_NA_third_etch_25min_Pb_ED_1h_180C_MAI_no_100nm_Ag_memory_8V_carbon_paste_no_wait.xlsx, sigma: 0.35618437120832747, usability: 0.11563273374376476, evaluate-9\n"
     ]
    },
    {
     "name": "stderr",
     "output_type": "stream",
     "text": [
      "eval: 100%|█████████▉| 471/472 [04:01<00:00,  8.83it/s]2023-07-27 20:53:29,568   INFO  Average predicted number of objects(3769 samples): 422.634\n",
      "eval: 100%|██████████| 472/472 [05:59<00:00,  1.31it/s]\n"
     ]
    },
    {
     "name": "stdout",
     "output_type": "stream",
     "text": [
      "{'recall/roi_0.3': 0.0, 'recall/rcnn_0.3': 0.0, 'recall/roi_0.5': 0.0, 'recall/rcnn_0.5': 0.0, 'recall/roi_0.7': 0.0, 'recall/rcnn_0.7': 0.0, 'Car_aos/easy_R40': 0.008158379447570328, 'Car_aos/moderate_R40': 0.015663601563549612, 'Car_aos/hard_R40': 0.024571804076070076, 'Car_3d/easy_R40': 0.00010441343040719567, 'Car_3d/moderate_R40': 0.0001217622425722547, 'Car_3d/hard_R40': 0.00016472692636028104, 'Car_bev/easy_R40': 0.0006349259392309043, 'Car_bev/moderate_R40': 0.00042740771393213155, 'Car_bev/hard_R40': 0.0005474853947369696, 'Car_image/easy_R40': 0.012291766686152695, 'Car_image/moderate_R40': 0.027150262633675606, 'Car_image/hard_R40': 0.03991076113583054, 'Pedestrian_aos/easy_R40': 0.0, 'Pedestrian_aos/moderate_R40': 0.0, 'Pedestrian_aos/hard_R40': 0.0, 'Pedestrian_3d/easy_R40': 0.0, 'Pedestrian_3d/moderate_R40': 0.0, 'Pedestrian_3d/hard_R40': 0.0, 'Pedestrian_bev/easy_R40': 0.0, 'Pedestrian_bev/moderate_R40': 0.0, 'Pedestrian_bev/hard_R40': 0.0, 'Pedestrian_image/easy_R40': 0.0, 'Pedestrian_image/moderate_R40': 0.0, 'Pedestrian_image/hard_R40': 0.0, 'Cyclist_aos/easy_R40': 0.0, 'Cyclist_aos/moderate_R40': 0.0, 'Cyclist_aos/hard_R40': 0.0, 'Cyclist_3d/easy_R40': 0.0, 'Cyclist_3d/moderate_R40': 0.0, 'Cyclist_3d/hard_R40': 0.0, 'Cyclist_bev/easy_R40': 0.0, 'Cyclist_bev/moderate_R40': 0.0, 'Cyclist_bev/hard_R40': 0.0, 'Cyclist_image/easy_R40': 0.0, 'Cyclist_image/moderate_R40': 0.0, 'Cyclist_image/hard_R40': 0.0}\n",
      "file: I-V_data_1.6um_length_250nm_diameter_BT_4V_NA_third_etch_15min_Pb_ED_3h_180C_MAI_no_100nm_Ag_memory_8V_carbon_paste_no_wait.xlsx, sigma: 0.3668149375502879, usability: 0.08388294332211288, evaluate-0\n"
     ]
    },
    {
     "name": "stderr",
     "output_type": "stream",
     "text": [
      "eval: 100%|██████████| 472/472 [03:54<00:00, 12.44it/s]2023-07-27 20:59:30,563   INFO  Average predicted number of objects(3769 samples): 46.968\n",
      "eval: 100%|██████████| 472/472 [04:16<00:00,  1.84it/s]\n"
     ]
    },
    {
     "name": "stdout",
     "output_type": "stream",
     "text": [
      "{'recall/roi_0.3': 0.0, 'recall/rcnn_0.3': 0.0, 'recall/roi_0.5': 0.0, 'recall/rcnn_0.5': 0.0, 'recall/roi_0.7': 0.0, 'recall/rcnn_0.7': 0.0, 'Car_aos/easy_R40': 24.864136907671373, 'Car_aos/moderate_R40': 23.91184944774763, 'Car_aos/hard_R40': 22.222819224343215, 'Car_3d/easy_R40': 3.346803260049702, 'Car_3d/moderate_R40': 3.2658041274631877, 'Car_3d/hard_R40': 2.9590776587030487, 'Car_bev/easy_R40': 34.87420502751546, 'Car_bev/moderate_R40': 32.473593472830395, 'Car_bev/hard_R40': 30.4305960274731, 'Car_image/easy_R40': 28.719084681400787, 'Car_image/moderate_R40': 26.72036881067844, 'Car_image/hard_R40': 24.750345272148206, 'Pedestrian_aos/easy_R40': 0.09383876777542821, 'Pedestrian_aos/moderate_R40': 0.09299879991085284, 'Pedestrian_aos/hard_R40': 0.09611773812227907, 'Pedestrian_3d/easy_R40': 0.03789913549858084, 'Pedestrian_3d/moderate_R40': 0.030088596822659495, 'Pedestrian_3d/hard_R40': 0.033770741692039016, 'Pedestrian_bev/easy_R40': 0.32113049095747875, 'Pedestrian_bev/moderate_R40': 0.26562871661460774, 'Pedestrian_bev/hard_R40': 0.2920718397428445, 'Pedestrian_image/easy_R40': 0.22340137378266864, 'Pedestrian_image/moderate_R40': 0.20454917434000378, 'Pedestrian_image/hard_R40': 0.20310485633408643, 'Cyclist_aos/easy_R40': 0.06129861251303409, 'Cyclist_aos/moderate_R40': 0.03676963312410688, 'Cyclist_aos/hard_R40': 0.044154645736423255, 'Cyclist_3d/easy_R40': 0.002937720329024677, 'Cyclist_3d/moderate_R40': 0.0026661926768574476, 'Cyclist_3d/hard_R40': 0.0035536602700781805, 'Cyclist_bev/easy_R40': 0.38127711633526823, 'Cyclist_bev/moderate_R40': 0.2139513110597186, 'Cyclist_bev/hard_R40': 0.22828784738440064, 'Cyclist_image/easy_R40': 0.07963838017179628, 'Cyclist_image/moderate_R40': 0.05298092781325327, 'Cyclist_image/hard_R40': 0.06357437106371715}\n",
      "file: I-V_data_1.6um_length_250nm_diameter_BT_4V_NA_third_etch_15min_Pb_ED_3h_180C_MAI_no_100nm_Ag_memory_8V_carbon_paste_no_wait.xlsx, sigma: 0.3668149375502879, usability: 0.08388294332211288, evaluate-1\n"
     ]
    },
    {
     "name": "stderr",
     "output_type": "stream",
     "text": [
      "eval: 100%|█████████▉| 471/472 [03:49<00:00, 11.17it/s]2023-07-27 21:03:48,662   INFO  Average predicted number of objects(3769 samples): 99.968\n",
      "eval: 100%|██████████| 472/472 [04:27<00:00,  1.77it/s]\n"
     ]
    },
    {
     "name": "stdout",
     "output_type": "stream",
     "text": [
      "{'recall/roi_0.3': 0.0, 'recall/rcnn_0.3': 0.0, 'recall/roi_0.5': 0.0, 'recall/rcnn_0.5': 0.0, 'recall/roi_0.7': 0.0, 'recall/rcnn_0.7': 0.0, 'Car_aos/easy_R40': 52.65621720216935, 'Car_aos/moderate_R40': 37.812532556853874, 'Car_aos/hard_R40': 38.752221114696475, 'Car_3d/easy_R40': 8.940062677520341, 'Car_3d/moderate_R40': 8.454267819585203, 'Car_3d/hard_R40': 8.62016507676392, 'Car_bev/easy_R40': 31.358665389612376, 'Car_bev/moderate_R40': 27.198004924022833, 'Car_bev/hard_R40': 28.09132223362759, 'Car_image/easy_R40': 56.91116451817274, 'Car_image/moderate_R40': 40.56961888878563, 'Car_image/hard_R40': 41.341360763503616, 'Pedestrian_aos/easy_R40': 0.6393268981152522, 'Pedestrian_aos/moderate_R40': 0.6987797219912832, 'Pedestrian_aos/hard_R40': 0.7852172108063415, 'Pedestrian_3d/easy_R40': 0.9108800763833618, 'Pedestrian_3d/moderate_R40': 0.916136626194611, 'Pedestrian_3d/hard_R40': 0.8441433121538046, 'Pedestrian_bev/easy_R40': 1.4872492631200516, 'Pedestrian_bev/moderate_R40': 1.6526279637772783, 'Pedestrian_bev/hard_R40': 1.5131573522748119, 'Pedestrian_image/easy_R40': 1.1303444868081391, 'Pedestrian_image/moderate_R40': 1.181971605682142, 'Pedestrian_image/hard_R40': 1.3980200980515691, 'Cyclist_aos/easy_R40': 3.207252452157277, 'Cyclist_aos/moderate_R40': 3.8272685142155773, 'Cyclist_aos/hard_R40': 3.756503259368518, 'Cyclist_3d/easy_R40': 2.5848811735629584, 'Cyclist_3d/moderate_R40': 1.8705423466504798, 'Cyclist_3d/hard_R40': 1.7706478040445364, 'Cyclist_bev/easy_R40': 3.294444151107671, 'Cyclist_bev/moderate_R40': 4.055907994702783, 'Cyclist_bev/hard_R40': 3.901837670234308, 'Cyclist_image/easy_R40': 3.5416595358168173, 'Cyclist_image/moderate_R40': 4.395009116835995, 'Cyclist_image/hard_R40': 4.335031011903932}\n",
      "file: I-V_data_1.6um_length_250nm_diameter_BT_4V_NA_third_etch_15min_Pb_ED_3h_180C_MAI_no_100nm_Ag_memory_8V_carbon_paste_no_wait.xlsx, sigma: 0.3668149375502879, usability: 0.08388294332211288, evaluate-2\n"
     ]
    },
    {
     "name": "stderr",
     "output_type": "stream",
     "text": [
      "eval: 100%|█████████▉| 471/472 [03:40<00:00, 10.84it/s]2023-07-27 21:08:13,543   INFO  Average predicted number of objects(3769 samples): 143.469\n",
      "eval: 100%|██████████| 472/472 [04:27<00:00,  1.76it/s]\n"
     ]
    },
    {
     "name": "stdout",
     "output_type": "stream",
     "text": [
      "{'recall/roi_0.3': 0.0, 'recall/rcnn_0.3': 0.0, 'recall/roi_0.5': 0.0, 'recall/rcnn_0.5': 0.0, 'recall/roi_0.7': 0.0, 'recall/rcnn_0.7': 0.0, 'Car_aos/easy_R40': 14.133361492373497, 'Car_aos/moderate_R40': 11.491565821810417, 'Car_aos/hard_R40': 12.069568120381255, 'Car_3d/easy_R40': 1.1044692788860155, 'Car_3d/moderate_R40': 1.0616860292594572, 'Car_3d/hard_R40': 1.0720143916790146, 'Car_bev/easy_R40': 15.269809549638941, 'Car_bev/moderate_R40': 13.296073364764116, 'Car_bev/hard_R40': 13.503395529506681, 'Car_image/easy_R40': 17.353603164495297, 'Car_image/moderate_R40': 13.995861625805587, 'Car_image/hard_R40': 14.405121857009572, 'Pedestrian_aos/easy_R40': 0.11169809020313239, 'Pedestrian_aos/moderate_R40': 0.07895941974645784, 'Pedestrian_aos/hard_R40': 0.08027404477581725, 'Pedestrian_3d/easy_R40': 0.01306341233435259, 'Pedestrian_3d/moderate_R40': 0.0027027706541962087, 'Pedestrian_3d/hard_R40': 0.0030794369029663146, 'Pedestrian_bev/easy_R40': 1.812047486549159, 'Pedestrian_bev/moderate_R40': 1.3689617309737303, 'Pedestrian_bev/hard_R40': 1.3077804750822832, 'Pedestrian_image/easy_R40': 0.20062238974690494, 'Pedestrian_image/moderate_R40': 0.13766827027448866, 'Pedestrian_image/hard_R40': 0.14579583436007962, 'Cyclist_aos/easy_R40': 0.026590001726777637, 'Cyclist_aos/moderate_R40': 0.03938371510748832, 'Cyclist_aos/hard_R40': 0.04138207113810286, 'Cyclist_3d/easy_R40': 0.006972362074337796, 'Cyclist_3d/moderate_R40': 0.00576370719802785, 'Cyclist_3d/hard_R40': 0.0067337681472095885, 'Cyclist_bev/easy_R40': 0.016285133468445935, 'Cyclist_bev/moderate_R40': 0.020714467699155286, 'Cyclist_bev/hard_R40': 0.01993422971235779, 'Cyclist_image/easy_R40': 0.03820201784783042, 'Cyclist_image/moderate_R40': 0.06203566963316221, 'Cyclist_image/hard_R40': 0.06382279861248161}\n",
      "file: I-V_data_1.6um_length_250nm_diameter_BT_4V_NA_third_etch_15min_Pb_ED_3h_180C_MAI_no_100nm_Ag_memory_8V_carbon_paste_no_wait.xlsx, sigma: 0.3668149375502879, usability: 0.08388294332211288, evaluate-3\n"
     ]
    },
    {
     "name": "stderr",
     "output_type": "stream",
     "text": [
      "eval: 100%|█████████▉| 471/472 [03:40<00:00, 11.05it/s]2023-07-27 21:12:48,980   INFO  Average predicted number of objects(3769 samples): 45.441\n",
      "eval: 100%|██████████| 472/472 [04:03<00:00,  1.94it/s]\n"
     ]
    },
    {
     "name": "stdout",
     "output_type": "stream",
     "text": [
      "{'recall/roi_0.3': 0.0, 'recall/rcnn_0.3': 0.0, 'recall/roi_0.5': 0.0, 'recall/rcnn_0.5': 0.0, 'recall/roi_0.7': 0.0, 'recall/rcnn_0.7': 0.0, 'Car_aos/easy_R40': 66.52431226150549, 'Car_aos/moderate_R40': 54.31315043170344, 'Car_aos/hard_R40': 50.59329170795558, 'Car_3d/easy_R40': 21.503345469348094, 'Car_3d/moderate_R40': 17.635320937033317, 'Car_3d/hard_R40': 15.69446202807359, 'Car_bev/easy_R40': 81.47746632121275, 'Car_bev/moderate_R40': 66.7974467647995, 'Car_bev/hard_R40': 62.627367356033645, 'Car_image/easy_R40': 66.82776196246314, 'Car_image/moderate_R40': 54.876791296528225, 'Car_image/hard_R40': 51.40022182824184, 'Pedestrian_aos/easy_R40': 2.3993639987787896, 'Pedestrian_aos/moderate_R40': 1.770846056779681, 'Pedestrian_aos/hard_R40': 1.805986736827812, 'Pedestrian_3d/easy_R40': 0.9432628630416406, 'Pedestrian_3d/moderate_R40': 0.6646596403997085, 'Pedestrian_3d/hard_R40': 0.6009355111780414, 'Pedestrian_bev/easy_R40': 17.617728521290353, 'Pedestrian_bev/moderate_R40': 13.529621325683525, 'Pedestrian_bev/hard_R40': 12.626638423033265, 'Pedestrian_image/easy_R40': 3.515530390781669, 'Pedestrian_image/moderate_R40': 2.6074719696562894, 'Pedestrian_image/hard_R40': 2.653353761592749, 'Cyclist_aos/easy_R40': 7.1756329689980065, 'Cyclist_aos/moderate_R40': 5.402363137231693, 'Cyclist_aos/hard_R40': 5.050349526830714, 'Cyclist_3d/easy_R40': 0.2506054280449587, 'Cyclist_3d/moderate_R40': 0.1420954452962575, 'Cyclist_3d/hard_R40': 0.13925059594386502, 'Cyclist_bev/easy_R40': 57.348015415560326, 'Cyclist_bev/moderate_R40': 38.31316322303627, 'Cyclist_bev/hard_R40': 35.87541856598726, 'Cyclist_image/easy_R40': 7.796662120753542, 'Cyclist_image/moderate_R40': 6.21620785482351, 'Cyclist_image/hard_R40': 5.9452794847652735}\n",
      "file: I-V_data_1.6um_length_250nm_diameter_BT_4V_NA_third_etch_15min_Pb_ED_3h_180C_MAI_no_100nm_Ag_memory_8V_carbon_paste_no_wait.xlsx, sigma: 0.3668149375502879, usability: 0.08388294332211288, evaluate-4\n"
     ]
    },
    {
     "name": "stderr",
     "output_type": "stream",
     "text": [
      "eval: 100%|██████████| 472/472 [03:34<00:00, 12.37it/s]2023-07-27 21:16:53,233   INFO  Average predicted number of objects(3769 samples): 101.867\n",
      "eval: 100%|██████████| 472/472 [04:11<00:00,  1.88it/s]\n"
     ]
    },
    {
     "name": "stdout",
     "output_type": "stream",
     "text": [
      "{'recall/roi_0.3': 0.0, 'recall/rcnn_0.3': 0.0, 'recall/roi_0.5': 0.0, 'recall/rcnn_0.5': 0.0, 'recall/roi_0.7': 0.0, 'recall/rcnn_0.7': 0.0, 'Car_aos/easy_R40': 29.374381742879464, 'Car_aos/moderate_R40': 24.063832482346402, 'Car_aos/hard_R40': 23.36330096458254, 'Car_3d/easy_R40': 1.269301749646143, 'Car_3d/moderate_R40': 1.1080503764278509, 'Car_3d/hard_R40': 1.0404847300970488, 'Car_bev/easy_R40': 56.25967631897879, 'Car_bev/moderate_R40': 42.71799235886625, 'Car_bev/hard_R40': 41.56635531778276, 'Car_image/easy_R40': 29.803389690585924, 'Car_image/moderate_R40': 24.552140850519372, 'Car_image/hard_R40': 23.98871140971303, 'Pedestrian_aos/easy_R40': 0.8350159339466556, 'Pedestrian_aos/moderate_R40': 0.671473262769483, 'Pedestrian_aos/hard_R40': 0.6548220735451238, 'Pedestrian_3d/easy_R40': 0.01412643875512366, 'Pedestrian_3d/moderate_R40': 0.009329633529633997, 'Pedestrian_3d/hard_R40': 0.009988416678196778, 'Pedestrian_bev/easy_R40': 12.886265969611083, 'Pedestrian_bev/moderate_R40': 11.638534763449412, 'Pedestrian_bev/hard_R40': 11.191873181390463, 'Pedestrian_image/easy_R40': 1.3657506747219907, 'Pedestrian_image/moderate_R40': 1.0408038318621586, 'Pedestrian_image/hard_R40': 1.0212178414156854, 'Cyclist_aos/easy_R40': 0.00462398774029631, 'Cyclist_aos/moderate_R40': 0.006358327041926088, 'Cyclist_aos/hard_R40': 0.006138769590090919, 'Cyclist_3d/easy_R40': 0.0013079874433205442, 'Cyclist_3d/moderate_R40': 0.001370313527735146, 'Cyclist_3d/hard_R40': 0.001370313527735146, 'Cyclist_bev/easy_R40': 19.600371431033714, 'Cyclist_bev/moderate_R40': 10.594652231431716, 'Cyclist_bev/hard_R40': 9.745646454105025, 'Cyclist_image/easy_R40': 0.0054201817599764165, 'Cyclist_image/moderate_R40': 0.011398756465661759, 'Cyclist_image/hard_R40': 0.011522714094690382}\n",
      "file: I-V_data_1.6um_length_250nm_diameter_BT_4V_NA_third_etch_15min_Pb_ED_3h_180C_MAI_no_100nm_Ag_memory_8V_carbon_paste_no_wait.xlsx, sigma: 0.3668149375502879, usability: 0.08388294332211288, evaluate-5\n"
     ]
    },
    {
     "name": "stderr",
     "output_type": "stream",
     "text": [
      "eval: 100%|██████████| 472/472 [03:39<00:00, 11.86it/s]2023-07-27 21:21:17,788   INFO  Average predicted number of objects(3769 samples): 61.841\n",
      "eval: 100%|██████████| 472/472 [04:04<00:00,  1.93it/s]\n"
     ]
    },
    {
     "name": "stdout",
     "output_type": "stream",
     "text": [
      "{'recall/roi_0.3': 0.0, 'recall/rcnn_0.3': 0.0, 'recall/roi_0.5': 0.0, 'recall/rcnn_0.5': 0.0, 'recall/roi_0.7': 0.0, 'recall/rcnn_0.7': 0.0, 'Car_aos/easy_R40': 18.643857509551207, 'Car_aos/moderate_R40': 19.49033436241445, 'Car_aos/hard_R40': 22.11518605425607, 'Car_3d/easy_R40': 2.2723174910680823, 'Car_3d/moderate_R40': 3.3844365036363566, 'Car_3d/hard_R40': 4.413578821314585, 'Car_bev/easy_R40': 23.22476476507731, 'Car_bev/moderate_R40': 26.129964932567322, 'Car_bev/hard_R40': 27.128945736644138, 'Car_image/easy_R40': 21.255129071805566, 'Car_image/moderate_R40': 21.843930178127785, 'Car_image/hard_R40': 24.359436308865885, 'Pedestrian_aos/easy_R40': 0.0383913201615479, 'Pedestrian_aos/moderate_R40': 0.05671913403290871, 'Pedestrian_aos/hard_R40': 0.07111914349585129, 'Pedestrian_3d/easy_R40': 0.005495368189668708, 'Pedestrian_3d/moderate_R40': 0.008817766165904637, 'Pedestrian_3d/hard_R40': 0.012392381946256194, 'Pedestrian_bev/easy_R40': 0.04105643292411336, 'Pedestrian_bev/moderate_R40': 0.058935816857023426, 'Pedestrian_bev/hard_R40': 0.07513536359690205, 'Pedestrian_image/easy_R40': 0.07749527467837328, 'Pedestrian_image/moderate_R40': 0.10829380162898194, 'Pedestrian_image/hard_R40': 0.14335803165237368, 'Cyclist_aos/easy_R40': 0.006000032442610448, 'Cyclist_aos/moderate_R40': 0.01639687570342973, 'Cyclist_aos/hard_R40': 0.019959609515601537, 'Cyclist_3d/easy_R40': 0.0006077697282053776, 'Cyclist_3d/moderate_R40': 0.0006988045067515266, 'Cyclist_3d/hard_R40': 0.0006988045067515266, 'Cyclist_bev/easy_R40': 0.2581769829011714, 'Cyclist_bev/moderate_R40': 0.31745566335168185, 'Cyclist_bev/hard_R40': 0.3288008882363597, 'Cyclist_image/easy_R40': 0.007380501653493521, 'Cyclist_image/moderate_R40': 0.022086355286821867, 'Cyclist_image/hard_R40': 0.026233828564311574}\n",
      "file: I-V_data_1.6um_length_250nm_diameter_BT_4V_NA_third_etch_15min_Pb_ED_3h_180C_MAI_no_100nm_Ag_memory_8V_carbon_paste_no_wait.xlsx, sigma: 0.3668149375502879, usability: 0.08388294332211288, evaluate-6\n"
     ]
    },
    {
     "name": "stderr",
     "output_type": "stream",
     "text": [
      "eval: 100%|██████████| 472/472 [03:38<00:00, 12.52it/s]2023-07-27 21:25:28,364   INFO  Average predicted number of objects(3769 samples): 83.206\n",
      "eval: 100%|██████████| 472/472 [04:10<00:00,  1.88it/s]\n"
     ]
    },
    {
     "name": "stdout",
     "output_type": "stream",
     "text": [
      "{'recall/roi_0.3': 0.0, 'recall/rcnn_0.3': 0.0, 'recall/roi_0.5': 0.0, 'recall/rcnn_0.5': 0.0, 'recall/roi_0.7': 0.0, 'recall/rcnn_0.7': 0.0, 'Car_aos/easy_R40': 21.488132964165327, 'Car_aos/moderate_R40': 20.9150306668524, 'Car_aos/hard_R40': 20.86856236723169, 'Car_3d/easy_R40': 3.6294723747206508, 'Car_3d/moderate_R40': 3.258408010083276, 'Car_3d/hard_R40': 3.15776138054634, 'Car_bev/easy_R40': 51.53414299822619, 'Car_bev/moderate_R40': 45.40121699650853, 'Car_bev/hard_R40': 43.01432085663329, 'Car_image/easy_R40': 28.887152427485933, 'Car_image/moderate_R40': 26.383646805890344, 'Car_image/hard_R40': 25.79607980494775, 'Pedestrian_aos/easy_R40': 0.5944951112858528, 'Pedestrian_aos/moderate_R40': 0.5048188968450049, 'Pedestrian_aos/hard_R40': 0.40069656975852197, 'Pedestrian_3d/easy_R40': 0.0011054958938723942, 'Pedestrian_3d/moderate_R40': 0.0008443908323281062, 'Pedestrian_3d/hard_R40': 0.001037808149188913, 'Pedestrian_bev/easy_R40': 6.495362701046139, 'Pedestrian_bev/moderate_R40': 5.111729317747969, 'Pedestrian_bev/hard_R40': 4.337450879187692, 'Pedestrian_image/easy_R40': 1.001355111338195, 'Pedestrian_image/moderate_R40': 0.8523825335278354, 'Pedestrian_image/hard_R40': 0.716110504664319, 'Cyclist_aos/easy_R40': 0.18623917194425563, 'Cyclist_aos/moderate_R40': 0.20742845402018603, 'Cyclist_aos/hard_R40': 0.2246006930824683, 'Cyclist_3d/easy_R40': 0.0702459006360312, 'Cyclist_3d/moderate_R40': 0.05823160554407113, 'Cyclist_3d/hard_R40': 0.06103852625227577, 'Cyclist_bev/easy_R40': 0.367093701054508, 'Cyclist_bev/moderate_R40': 0.5572575083084013, 'Cyclist_bev/hard_R40': 0.551396798828333, 'Cyclist_image/easy_R40': 0.25983631973561583, 'Cyclist_image/moderate_R40': 0.3107911648357377, 'Cyclist_image/hard_R40': 0.33150883394141206}\n",
      "file: I-V_data_1.6um_length_250nm_diameter_BT_4V_NA_third_etch_15min_Pb_ED_3h_180C_MAI_no_100nm_Ag_memory_8V_carbon_paste_no_wait.xlsx, sigma: 0.3668149375502879, usability: 0.08388294332211288, evaluate-7\n"
     ]
    },
    {
     "name": "stderr",
     "output_type": "stream",
     "text": [
      "eval: 100%|██████████| 472/472 [04:19<00:00,  1.82it/s]\n"
     ]
    },
    {
     "name": "stdout",
     "output_type": "stream",
     "text": [
      "{'recall/roi_0.3': 0.0, 'recall/rcnn_0.3': 0.0, 'recall/roi_0.5': 0.0, 'recall/rcnn_0.5': 0.0, 'recall/roi_0.7': 0.0, 'recall/rcnn_0.7': 0.0, 'Car_aos/easy_R40': 15.860593634762754, 'Car_aos/moderate_R40': 12.794166114679362, 'Car_aos/hard_R40': 13.563152495279947, 'Car_3d/easy_R40': 1.3184328557118106, 'Car_3d/moderate_R40': 1.1677334680118965, 'Car_3d/hard_R40': 1.2521548379506453, 'Car_bev/easy_R40': 18.719941108396583, 'Car_bev/moderate_R40': 14.996139966716987, 'Car_bev/hard_R40': 16.69959480694446, 'Car_image/easy_R40': 18.2619763196969, 'Car_image/moderate_R40': 14.966936286966387, 'Car_image/hard_R40': 15.690644707894558, 'Pedestrian_aos/easy_R40': 7.759919591030004, 'Pedestrian_aos/moderate_R40': 6.351217852506444, 'Pedestrian_aos/hard_R40': 6.071366154773953, 'Pedestrian_3d/easy_R40': 2.871376627390514, 'Pedestrian_3d/moderate_R40': 2.3767156313105255, 'Pedestrian_3d/hard_R40': 2.117663183787844, 'Pedestrian_bev/easy_R40': 10.326574810867694, 'Pedestrian_bev/moderate_R40': 8.119145298286773, 'Pedestrian_bev/hard_R40': 7.1889970189337165, 'Pedestrian_image/easy_R40': 11.458010592122033, 'Pedestrian_image/moderate_R40': 9.941693806911413, 'Pedestrian_image/hard_R40': 9.541076878603311, 'Cyclist_aos/easy_R40': 0.06932453961201505, 'Cyclist_aos/moderate_R40': 0.18812430982866582, 'Cyclist_aos/hard_R40': 0.19449927264797695, 'Cyclist_3d/easy_R40': 0.0025060144346431435, 'Cyclist_3d/moderate_R40': 0.04775560239815021, 'Cyclist_3d/hard_R40': 0.04472471759547153, 'Cyclist_bev/easy_R40': 11.07987874539447, 'Cyclist_bev/moderate_R40': 7.957051260954581, 'Cyclist_bev/hard_R40': 7.711372110476258, 'Cyclist_image/easy_R40': 0.11135534338780312, 'Cyclist_image/moderate_R40': 0.2795632394663348, 'Cyclist_image/hard_R40': 0.2908127255528265}\n",
      "file: I-V_data_2um_length_250nm_diameter_BT_4V_NA_third_etch_15min_Pb_ED_3h_180C_MAI_no_200nm_Ag_memory_6V_carbon_paste_no_wait.xlsx, sigma: 0.4032025720611529, usability: 0.06521355094368632, evaluate-8\n"
     ]
    },
    {
     "name": "stderr",
     "output_type": "stream",
     "text": [
      "eval: 100%|█████████▉| 471/472 [03:36<00:00, 10.56it/s]2023-07-27 23:00:12,293   INFO  Average predicted number of objects(3769 samples): 56.558\n",
      "eval: 100%|██████████| 472/472 [03:59<00:00,  1.97it/s]\n"
     ]
    },
    {
     "name": "stdout",
     "output_type": "stream",
     "text": [
      "{'recall/roi_0.3': 0.0, 'recall/rcnn_0.3': 0.0, 'recall/roi_0.5': 0.0, 'recall/rcnn_0.5': 0.0, 'recall/roi_0.7': 0.0, 'recall/rcnn_0.7': 0.0, 'Car_aos/easy_R40': 13.024554396503415, 'Car_aos/moderate_R40': 12.618338055284257, 'Car_aos/hard_R40': 12.5202176932587, 'Car_3d/easy_R40': 0.2683029622370693, 'Car_3d/moderate_R40': 0.36851301511088147, 'Car_3d/hard_R40': 0.2913290522663219, 'Car_bev/easy_R40': 22.535050077146963, 'Car_bev/moderate_R40': 17.84622807084332, 'Car_bev/hard_R40': 17.19540475374951, 'Car_image/easy_R40': 14.139944996944266, 'Car_image/moderate_R40': 13.76651837896142, 'Car_image/hard_R40': 13.666169350500187, 'Pedestrian_aos/easy_R40': 0.07008045226863951, 'Pedestrian_aos/moderate_R40': 0.04967031248892856, 'Pedestrian_aos/hard_R40': 0.044851407987185676, 'Pedestrian_3d/easy_R40': 0.0052030001046328, 'Pedestrian_3d/moderate_R40': 0.002495959930225735, 'Pedestrian_3d/hard_R40': 0.001026479292232844, 'Pedestrian_bev/easy_R40': 4.474168556525117, 'Pedestrian_bev/moderate_R40': 3.490170844091541, 'Pedestrian_bev/hard_R40': 3.4521608929432297, 'Pedestrian_image/easy_R40': 0.1760129321125678, 'Pedestrian_image/moderate_R40': 0.12717610589045747, 'Pedestrian_image/hard_R40': 0.10431330619589368, 'Cyclist_aos/easy_R40': 12.8482397371291, 'Cyclist_aos/moderate_R40': 6.511018187805242, 'Cyclist_aos/hard_R40': 6.520182982486941, 'Cyclist_3d/easy_R40': 5.715554000623461, 'Cyclist_3d/moderate_R40': 2.9797441579836597, 'Cyclist_3d/hard_R40': 2.885657610577307, 'Cyclist_bev/easy_R40': 11.7177474078292, 'Cyclist_bev/moderate_R40': 6.186997154398245, 'Cyclist_bev/hard_R40': 6.021338119233125, 'Cyclist_image/easy_R40': 13.62238749016697, 'Cyclist_image/moderate_R40': 7.002951961145603, 'Cyclist_image/hard_R40': 7.0613016538050495}\n",
      "file: I-V_data_2um_length_250nm_diameter_BT_4V_NA_third_etch_15min_Pb_ED_3h_180C_MAI_no_200nm_Ag_memory_6V_carbon_paste_no_wait.xlsx, sigma: 0.4032025720611529, usability: 0.06521355094368632, evaluate-9\n"
     ]
    },
    {
     "name": "stderr",
     "output_type": "stream",
     "text": [
      "eval: 100%|██████████| 472/472 [03:37<00:00, 12.77it/s]2023-07-27 23:04:21,754   INFO  Average predicted number of objects(3769 samples): 35.989\n",
      "eval: 100%|██████████| 472/472 [03:56<00:00,  2.00it/s]\n"
     ]
    },
    {
     "name": "stdout",
     "output_type": "stream",
     "text": [
      "{'recall/roi_0.3': 0.0, 'recall/rcnn_0.3': 0.0, 'recall/roi_0.5': 0.0, 'recall/rcnn_0.5': 0.0, 'recall/roi_0.7': 0.0, 'recall/rcnn_0.7': 0.0, 'Car_aos/easy_R40': 25.22481218566121, 'Car_aos/moderate_R40': 22.148051754105545, 'Car_aos/hard_R40': 21.821167102966925, 'Car_3d/easy_R40': 0.7486463315576841, 'Car_3d/moderate_R40': 0.7366614667296446, 'Car_3d/hard_R40': 0.7412585231125762, 'Car_bev/easy_R40': 29.238823320214102, 'Car_bev/moderate_R40': 27.84907042074759, 'Car_bev/hard_R40': 27.222638779219565, 'Car_image/easy_R40': 25.501518587043563, 'Car_image/moderate_R40': 22.691512091153186, 'Car_image/hard_R40': 22.468942699078838, 'Pedestrian_aos/easy_R40': 12.567960976524711, 'Pedestrian_aos/moderate_R40': 10.566693956173523, 'Pedestrian_aos/hard_R40': 9.85265958907737, 'Pedestrian_3d/easy_R40': 4.877973015165114, 'Pedestrian_3d/moderate_R40': 4.488553928068479, 'Pedestrian_3d/hard_R40': 3.992255612486627, 'Pedestrian_bev/easy_R40': 20.0154433561644, 'Pedestrian_bev/moderate_R40': 17.326560554922917, 'Pedestrian_bev/hard_R40': 15.481190295171638, 'Pedestrian_image/easy_R40': 19.215184399667468, 'Pedestrian_image/moderate_R40': 16.028873754428304, 'Pedestrian_image/hard_R40': 15.01803113680687, 'Cyclist_aos/easy_R40': 1.9828673298135164, 'Cyclist_aos/moderate_R40': 1.0547398643055208, 'Cyclist_aos/hard_R40': 0.9773229279503585, 'Cyclist_3d/easy_R40': 0.008484162895927601, 'Cyclist_3d/moderate_R40': 0.0021831677764436196, 'Cyclist_3d/hard_R40': 0.002455795677799607, 'Cyclist_bev/easy_R40': 33.4066487121953, 'Cyclist_bev/moderate_R40': 17.974825165617755, 'Cyclist_bev/hard_R40': 16.350797320535587, 'Cyclist_image/easy_R40': 2.0181733506744344, 'Cyclist_image/moderate_R40': 1.1019205353064752, 'Cyclist_image/hard_R40': 1.0404508685290141}\n",
      "file: I-V_data_2um_length_200nm_diameter_BT_4V_NA_third_etch_15min_Pb_ED_3h_370+450C_CsPbI3_no_200nm_Ag_memory_6V_probe_wait_1min.xlsx, sigma: 0.47505440936126203, usability: 0.01537661878526889, evaluate-0\n"
     ]
    },
    {
     "name": "stderr",
     "output_type": "stream",
     "text": [
      "eval: 100%|█████████▉| 471/472 [03:36<00:00, 11.91it/s]2023-07-27 23:08:24,765   INFO  Average predicted number of objects(3769 samples): 0.594\n",
      "eval: 100%|██████████| 472/472 [03:44<00:00,  2.10it/s]\n"
     ]
    },
    {
     "name": "stdout",
     "output_type": "stream",
     "text": [
      "{'recall/roi_0.3': 0.0, 'recall/rcnn_0.3': 0.0, 'recall/roi_0.5': 0.0, 'recall/rcnn_0.5': 0.0, 'recall/roi_0.7': 0.0, 'recall/rcnn_0.7': 0.0, 'Car_aos/easy_R40': 0.0, 'Car_aos/moderate_R40': 0.014730440585598983, 'Car_aos/hard_R40': 0.05726753215202405, 'Car_3d/easy_R40': 0.0, 'Car_3d/moderate_R40': 0.0, 'Car_3d/hard_R40': 0.0, 'Car_bev/easy_R40': 0.0, 'Car_bev/moderate_R40': 0.09308510638297872, 'Car_bev/hard_R40': 0.09308510638297872, 'Car_image/easy_R40': 0.0, 'Car_image/moderate_R40': 0.05813953488372093, 'Car_image/hard_R40': 0.11363636363636363, 'Pedestrian_aos/easy_R40': 0.0, 'Pedestrian_aos/moderate_R40': 0.0, 'Pedestrian_aos/hard_R40': 0.0, 'Pedestrian_3d/easy_R40': 0.0, 'Pedestrian_3d/moderate_R40': 0.0, 'Pedestrian_3d/hard_R40': 0.0, 'Pedestrian_bev/easy_R40': 0.0, 'Pedestrian_bev/moderate_R40': 0.0, 'Pedestrian_bev/hard_R40': 0.0, 'Pedestrian_image/easy_R40': 0.0, 'Pedestrian_image/moderate_R40': 0.0, 'Pedestrian_image/hard_R40': 0.0, 'Cyclist_aos/easy_R40': 0.0, 'Cyclist_aos/moderate_R40': 0.0, 'Cyclist_aos/hard_R40': 0.0, 'Cyclist_3d/easy_R40': 0.0, 'Cyclist_3d/moderate_R40': 0.0, 'Cyclist_3d/hard_R40': 0.0, 'Cyclist_bev/easy_R40': 0.0, 'Cyclist_bev/moderate_R40': 0.0, 'Cyclist_bev/hard_R40': 0.0, 'Cyclist_image/easy_R40': 0.0, 'Cyclist_image/moderate_R40': 0.0, 'Cyclist_image/hard_R40': 0.0}\n",
      "file: I-V_data_2um_length_200nm_diameter_BT_4V_NA_third_etch_15min_Pb_ED_3h_370+450C_CsPbI3_no_200nm_Ag_memory_6V_probe_wait_1min.xlsx, sigma: 0.47505440936126203, usability: 0.01537661878526889, evaluate-1\n"
     ]
    },
    {
     "name": "stderr",
     "output_type": "stream",
     "text": [
      "eval: 100%|█████████▉| 471/472 [03:37<00:00, 11.23it/s]2023-07-27 23:12:19,149   INFO  Average predicted number of objects(3769 samples): 68.172\n",
      "eval: 100%|██████████| 472/472 [04:02<00:00,  1.94it/s]\n"
     ]
    },
    {
     "name": "stdout",
     "output_type": "stream",
     "text": [
      "{'recall/roi_0.3': 0.0, 'recall/rcnn_0.3': 0.0, 'recall/roi_0.5': 0.0, 'recall/rcnn_0.5': 0.0, 'recall/roi_0.7': 0.0, 'recall/rcnn_0.7': 0.0, 'Car_aos/easy_R40': 3.9512346838974977, 'Car_aos/moderate_R40': 4.00551138593685, 'Car_aos/hard_R40': 4.889339667858214, 'Car_3d/easy_R40': 0.090979663231268, 'Car_3d/moderate_R40': 0.060347752085273786, 'Car_3d/hard_R40': 0.07704488300432277, 'Car_bev/easy_R40': 1.2477633438729758, 'Car_bev/moderate_R40': 1.3672343538703366, 'Car_bev/hard_R40': 1.7020617636831554, 'Car_image/easy_R40': 5.108858133521262, 'Car_image/moderate_R40': 4.977999655399926, 'Car_image/hard_R40': 5.9496763519546025, 'Pedestrian_aos/easy_R40': 0.001015477834192151, 'Pedestrian_aos/moderate_R40': 0.0010124248167681068, 'Pedestrian_aos/hard_R40': 0.0012534968814104889, 'Pedestrian_3d/easy_R40': 0.0, 'Pedestrian_3d/moderate_R40': 0.0006800870511425463, 'Pedestrian_3d/hard_R40': 0.0006800870511425463, 'Pedestrian_bev/easy_R40': 0.38549649835428584, 'Pedestrian_bev/moderate_R40': 0.27391355798834993, 'Pedestrian_bev/hard_R40': 0.3049506876389424, 'Pedestrian_image/easy_R40': 0.001789056479136849, 'Pedestrian_image/moderate_R40': 0.0016854977449202583, 'Pedestrian_image/hard_R40': 0.0020158723422314647, 'Cyclist_aos/easy_R40': 0.5902413222201681, 'Cyclist_aos/moderate_R40': 0.6159962881679837, 'Cyclist_aos/hard_R40': 0.6593204466635871, 'Cyclist_3d/easy_R40': 0.21353308285452927, 'Cyclist_3d/moderate_R40': 0.18794218526384698, 'Cyclist_3d/hard_R40': 0.19989594216440312, 'Cyclist_bev/easy_R40': 0.3812990135295635, 'Cyclist_bev/moderate_R40': 0.39060435567730223, 'Cyclist_bev/hard_R40': 0.40927407056866405, 'Cyclist_image/easy_R40': 1.2161584532832126, 'Cyclist_image/moderate_R40': 1.0360195106146453, 'Cyclist_image/hard_R40': 1.0951715217295999}\n",
      "file: I-V_data_2um_length_200nm_diameter_BT_4V_NA_third_etch_15min_Pb_ED_3h_370+450C_CsPbI3_no_200nm_Ag_memory_6V_probe_wait_1min.xlsx, sigma: 0.47505440936126203, usability: 0.01537661878526889, evaluate-2\n"
     ]
    },
    {
     "name": "stderr",
     "output_type": "stream",
     "text": [
      "eval: 100%|██████████| 472/472 [03:34<00:00, 12.64it/s]2023-07-27 23:16:27,280   INFO  Average predicted number of objects(3769 samples): 101.037\n",
      "eval: 100%|██████████| 472/472 [04:06<00:00,  1.91it/s]\n"
     ]
    },
    {
     "name": "stdout",
     "output_type": "stream",
     "text": [
      "{'recall/roi_0.3': 0.0, 'recall/rcnn_0.3': 0.0, 'recall/roi_0.5': 0.0, 'recall/rcnn_0.5': 0.0, 'recall/roi_0.7': 0.0, 'recall/rcnn_0.7': 0.0, 'Car_aos/easy_R40': 0.0016702430655148892, 'Car_aos/moderate_R40': 0.003306571383663288, 'Car_aos/hard_R40': 0.01322347128661676, 'Car_3d/easy_R40': 0.00018063148768093256, 'Car_3d/moderate_R40': 0.0002573903195500817, 'Car_3d/hard_R40': 0.0003217296184286725, 'Car_bev/easy_R40': 0.016102019778552155, 'Car_bev/moderate_R40': 0.01576571695834554, 'Car_bev/hard_R40': 0.02052511902058874, 'Car_image/easy_R40': 0.0031237669341049584, 'Car_image/moderate_R40': 0.005247789478621854, 'Car_image/hard_R40': 0.01947931518960826, 'Pedestrian_aos/easy_R40': 0.0013339337010549353, 'Pedestrian_aos/moderate_R40': 0.0008915462092915407, 'Pedestrian_aos/hard_R40': 0.0009185265521945368, 'Pedestrian_3d/easy_R40': 0.0006578081831337982, 'Pedestrian_3d/moderate_R40': 0.0004128137384412153, 'Pedestrian_3d/hard_R40': 0.0004128137384412153, 'Pedestrian_bev/easy_R40': 0.1380181529836677, 'Pedestrian_bev/moderate_R40': 0.09509612105081194, 'Pedestrian_bev/hard_R40': 0.09122437987369787, 'Pedestrian_image/easy_R40': 0.0021649186952756665, 'Pedestrian_image/moderate_R40': 0.0016348611854229832, 'Pedestrian_image/hard_R40': 0.0017833789085721077, 'Cyclist_aos/easy_R40': 0.002837416471340714, 'Cyclist_aos/moderate_R40': 0.0036768977877647485, 'Cyclist_aos/hard_R40': 0.005302712168196471, 'Cyclist_3d/easy_R40': 0.00035865754480977706, 'Cyclist_3d/moderate_R40': 0.00010213826456874672, 'Cyclist_3d/hard_R40': 0.00010213826456874672, 'Cyclist_bev/easy_R40': 0.0013310232388164906, 'Cyclist_bev/moderate_R40': 0.0005873160168738445, 'Cyclist_bev/hard_R40': 0.0006383804543226018, 'Cyclist_image/easy_R40': 0.004672103680416964, 'Cyclist_image/moderate_R40': 0.007456338569395216, 'Cyclist_image/hard_R40': 0.011112203381334756}\n",
      "file: I-V_data_2um_length_200nm_diameter_BT_4V_NA_third_etch_15min_Pb_ED_3h_370+450C_CsPbI3_no_200nm_Ag_memory_6V_probe_wait_1min.xlsx, sigma: 0.47505440936126203, usability: 0.01537661878526889, evaluate-3\n"
     ]
    },
    {
     "name": "stderr",
     "output_type": "stream",
     "text": [
      "eval: 100%|█████████▉| 471/472 [03:38<00:00, 11.59it/s]2023-07-27 23:20:46,449   INFO  Average predicted number of objects(3769 samples): 3.145\n",
      "eval: 100%|██████████| 472/472 [03:45<00:00,  2.10it/s]\n"
     ]
    },
    {
     "name": "stdout",
     "output_type": "stream",
     "text": [
      "{'recall/roi_0.3': 0.0, 'recall/rcnn_0.3': 0.0, 'recall/roi_0.5': 0.0, 'recall/rcnn_0.5': 0.0, 'recall/roi_0.7': 0.0, 'recall/rcnn_0.7': 0.0, 'Car_aos/easy_R40': 0.0, 'Car_aos/moderate_R40': 0.00201462269102863, 'Car_aos/hard_R40': 0.005968615312272679, 'Car_3d/easy_R40': 0.0, 'Car_3d/moderate_R40': 0.0, 'Car_3d/hard_R40': 0.0, 'Car_bev/easy_R40': 0.0, 'Car_bev/moderate_R40': 0.0014072614691809737, 'Car_bev/hard_R40': 0.0021102982554867754, 'Car_image/easy_R40': 0.0, 'Car_image/moderate_R40': 0.005077860528097495, 'Car_image/hard_R40': 0.011144130757800892, 'Pedestrian_aos/easy_R40': 0.0, 'Pedestrian_aos/moderate_R40': 0.0, 'Pedestrian_aos/hard_R40': 0.0, 'Pedestrian_3d/easy_R40': 0.0, 'Pedestrian_3d/moderate_R40': 0.0, 'Pedestrian_3d/hard_R40': 0.0, 'Pedestrian_bev/easy_R40': 0.0, 'Pedestrian_bev/moderate_R40': 0.0, 'Pedestrian_bev/hard_R40': 0.0, 'Pedestrian_image/easy_R40': 0.0, 'Pedestrian_image/moderate_R40': 0.0, 'Pedestrian_image/hard_R40': 0.0, 'Cyclist_aos/easy_R40': 0.0, 'Cyclist_aos/moderate_R40': 0.0, 'Cyclist_aos/hard_R40': 0.0, 'Cyclist_3d/easy_R40': 0.0, 'Cyclist_3d/moderate_R40': 0.0, 'Cyclist_3d/hard_R40': 0.0, 'Cyclist_bev/easy_R40': 0.0, 'Cyclist_bev/moderate_R40': 0.0, 'Cyclist_bev/hard_R40': 0.0, 'Cyclist_image/easy_R40': 0.0, 'Cyclist_image/moderate_R40': 0.0, 'Cyclist_image/hard_R40': 0.0}\n",
      "file: I-V_data_2um_length_200nm_diameter_BT_4V_NA_third_etch_15min_Pb_ED_3h_370+450C_CsPbI3_no_200nm_Ag_memory_6V_probe_wait_1min.xlsx, sigma: 0.47505440936126203, usability: 0.01537661878526889, evaluate-4\n"
     ]
    },
    {
     "name": "stderr",
     "output_type": "stream",
     "text": [
      "eval: 100%|█████████▉| 471/472 [03:22<00:00, 12.58it/s]2023-07-28 00:27:15,103   INFO  Average predicted number of objects(3769 samples): 12.280\n",
      "eval: 100%|██████████| 472/472 [03:31<00:00,  2.23it/s]\n"
     ]
    },
    {
     "name": "stdout",
     "output_type": "stream",
     "text": [
      "{'recall/roi_0.3': 0.0, 'recall/rcnn_0.3': 0.0, 'recall/roi_0.5': 0.0, 'recall/rcnn_0.5': 0.0, 'recall/roi_0.7': 0.0, 'recall/rcnn_0.7': 0.0, 'Car_aos/easy_R40': 0.0, 'Car_aos/moderate_R40': 0.0014052823169207718, 'Car_aos/hard_R40': 0.004298597253053699, 'Car_3d/easy_R40': 0.0, 'Car_3d/moderate_R40': 0.0, 'Car_3d/hard_R40': 0.0, 'Car_bev/easy_R40': 0.0, 'Car_bev/moderate_R40': 0.002193623866627669, 'Car_bev/hard_R40': 0.003209617180205416, 'Car_image/easy_R40': 0.0, 'Car_image/moderate_R40': 0.0033489618218352306, 'Car_image/hard_R40': 0.006992254733218588, 'Pedestrian_aos/easy_R40': 0.004905080105269677, 'Pedestrian_aos/moderate_R40': 0.0032456853976266554, 'Pedestrian_aos/hard_R40': 0.003697288304473934, 'Pedestrian_3d/easy_R40': 0.0025879917184265014, 'Pedestrian_3d/moderate_R40': 0.0016263335935467083, 'Pedestrian_3d/hard_R40': 0.0016263335935467083, 'Pedestrian_bev/easy_R40': 0.006908462867012089, 'Pedestrian_bev/moderate_R40': 0.004277891854893908, 'Pedestrian_bev/hard_R40': 0.005131713992473486, 'Pedestrian_image/easy_R40': 0.007880220646178094, 'Pedestrian_image/moderate_R40': 0.005685953420669577, 'Pedestrian_image/hard_R40': 0.00659330665696617, 'Cyclist_aos/easy_R40': 0.0939721223674786, 'Cyclist_aos/moderate_R40': 0.0039651368948086085, 'Cyclist_aos/hard_R40': 0.004268371352092371, 'Cyclist_3d/easy_R40': 0.09375, 'Cyclist_3d/moderate_R40': 0.0038532675709001232, 'Cyclist_3d/hard_R40': 0.0038532675709001232, 'Cyclist_bev/easy_R40': 0.09375, 'Cyclist_bev/moderate_R40': 0.006940160394818014, 'Cyclist_bev/hard_R40': 0.006940160394818014, 'Cyclist_image/easy_R40': 0.0949367088607595, 'Cyclist_image/moderate_R40': 0.005580357142857143, 'Cyclist_image/hard_R40': 0.006191950464396285}\n",
      "file: I-V_data_1.6um_length_250nm_diameter_BT_4V_NA_third_etch_15min_Pb_ED_3h_180C_MAI_PMMA_100nm_Ag_memory_6V_carbon_paste_no_wait.xlsx, sigma: 0.48648235114313826, usability: -0.23671340592852275, evaluate-2\n"
     ]
    },
    {
     "name": "stderr",
     "output_type": "stream",
     "text": [
      "eval: 100%|█████████▉| 471/472 [03:20<00:00, 13.31it/s]2023-07-28 00:30:47,040   INFO  Average predicted number of objects(3769 samples): 35.425\n",
      "eval: 100%|██████████| 472/472 [03:36<00:00,  2.18it/s]\n"
     ]
    },
    {
     "name": "stdout",
     "output_type": "stream",
     "text": [
      "{'recall/roi_0.3': 0.0, 'recall/rcnn_0.3': 0.0, 'recall/roi_0.5': 0.0, 'recall/rcnn_0.5': 0.0, 'recall/roi_0.7': 0.0, 'recall/rcnn_0.7': 0.0, 'Car_aos/easy_R40': 0.05668477047660963, 'Car_aos/moderate_R40': 0.17618924217724208, 'Car_aos/hard_R40': 0.25003655516691403, 'Car_3d/easy_R40': 0.0014511519914270406, 'Car_3d/moderate_R40': 0.001980301603670657, 'Car_3d/hard_R40': 0.002866204103510914, 'Car_bev/easy_R40': 2.0536102893040056, 'Car_bev/moderate_R40': 3.118812691534579, 'Car_bev/hard_R40': 3.45046349562688, 'Car_image/easy_R40': 0.0765921452768904, 'Car_image/moderate_R40': 0.2419792786538882, 'Car_image/hard_R40': 0.3297160913957193, 'Pedestrian_aos/easy_R40': 0.007718802272336203, 'Pedestrian_aos/moderate_R40': 0.01935585491787492, 'Pedestrian_aos/hard_R40': 0.023927627918604595, 'Pedestrian_3d/easy_R40': 0.009371095376926281, 'Pedestrian_3d/moderate_R40': 0.00952313769751693, 'Pedestrian_3d/hard_R40': 0.013732394366197182, 'Pedestrian_bev/easy_R40': 0.30886799719353475, 'Pedestrian_bev/moderate_R40': 0.3800816036996943, 'Pedestrian_bev/hard_R40': 0.429920157687551, 'Pedestrian_image/easy_R40': 0.01392757660167131, 'Pedestrian_image/moderate_R40': 0.0347998045235803, 'Pedestrian_image/hard_R40': 0.045865524565289494, 'Cyclist_aos/easy_R40': 0.6446967215162294, 'Cyclist_aos/moderate_R40': 0.5775523988711404, 'Cyclist_aos/hard_R40': 0.5487572973758605, 'Cyclist_3d/easy_R40': 0.05730880870220466, 'Cyclist_3d/moderate_R40': 0.05295216115723907, 'Cyclist_3d/hard_R40': 0.053357914105452486, 'Cyclist_bev/easy_R40': 0.6687405697422713, 'Cyclist_bev/moderate_R40': 0.6385198479586397, 'Cyclist_bev/hard_R40': 0.6233176355014043, 'Cyclist_image/easy_R40': 0.7954755491022761, 'Cyclist_image/moderate_R40': 0.7130495872773108, 'Cyclist_image/hard_R40': 0.7019883938771914}\n",
      "file: I-V_data_1.6um_length_250nm_diameter_BT_4V_NA_third_etch_15min_Pb_ED_3h_180C_MAI_PMMA_100nm_Ag_memory_6V_carbon_paste_no_wait.xlsx, sigma: 0.48648235114313826, usability: -0.23671340592852275, evaluate-3\n"
     ]
    },
    {
     "name": "stderr",
     "output_type": "stream",
     "text": [
      "eval: 100%|█████████▉| 471/472 [03:18<00:00, 14.03it/s]2023-07-28 00:34:22,924   INFO  Average predicted number of objects(3769 samples): 9.878\n",
      "eval: 100%|██████████| 472/472 [03:26<00:00,  2.29it/s]\n"
     ]
    },
    {
     "name": "stdout",
     "output_type": "stream",
     "text": [
      "{'recall/roi_0.3': 0.0, 'recall/rcnn_0.3': 0.0, 'recall/roi_0.5': 0.0, 'recall/rcnn_0.5': 0.0, 'recall/roi_0.7': 0.0, 'recall/rcnn_0.7': 0.0, 'Car_aos/easy_R40': 0.0041242470262419315, 'Car_aos/moderate_R40': 0.007397071964920775, 'Car_aos/hard_R40': 0.011363840203566965, 'Car_3d/easy_R40': 0.0, 'Car_3d/moderate_R40': 0.00036443148688046647, 'Car_3d/hard_R40': 0.0005466073901319146, 'Car_bev/easy_R40': 0.0008418925745074927, 'Car_bev/moderate_R40': 0.0015519381983721894, 'Car_bev/hard_R40': 0.0030846158841483216, 'Car_image/easy_R40': 0.006067040800849386, 'Car_image/moderate_R40': 0.013679680295112205, 'Car_image/hard_R40': 0.02056296837872418, 'Pedestrian_aos/easy_R40': 0.001524744650617387, 'Pedestrian_aos/moderate_R40': 0.0015606175111901612, 'Pedestrian_aos/hard_R40': 0.0020642671316838277, 'Pedestrian_3d/easy_R40': 0.0, 'Pedestrian_3d/moderate_R40': 0.0, 'Pedestrian_3d/hard_R40': 0.0, 'Pedestrian_bev/easy_R40': 0.0, 'Pedestrian_bev/moderate_R40': 0.002452182442373713, 'Pedestrian_bev/hard_R40': 0.002452182442373713, 'Pedestrian_image/easy_R40': 0.0025050100200400796, 'Pedestrian_image/moderate_R40': 0.0023255813953488376, 'Pedestrian_image/hard_R40': 0.0030998140111593306, 'Cyclist_aos/easy_R40': 0.0, 'Cyclist_aos/moderate_R40': 0.0, 'Cyclist_aos/hard_R40': 0.0, 'Cyclist_3d/easy_R40': 0.0, 'Cyclist_3d/moderate_R40': 0.0, 'Cyclist_3d/hard_R40': 0.0, 'Cyclist_bev/easy_R40': 0.0, 'Cyclist_bev/moderate_R40': 0.0, 'Cyclist_bev/hard_R40': 0.0, 'Cyclist_image/easy_R40': 0.0, 'Cyclist_image/moderate_R40': 0.0, 'Cyclist_image/hard_R40': 0.0}\n",
      "file: I-V_data_1.6um_length_250nm_diameter_BT_4V_NA_third_etch_15min_Pb_ED_3h_180C_MAI_PMMA_100nm_Ag_memory_6V_carbon_paste_no_wait.xlsx, sigma: 0.48648235114313826, usability: -0.23671340592852275, evaluate-4\n"
     ]
    },
    {
     "name": "stderr",
     "output_type": "stream",
     "text": [
      "eval: 100%|█████████▉| 471/472 [03:17<00:00, 12.46it/s]2023-07-28 00:37:50,565   INFO  Average predicted number of objects(3769 samples): 1.349\n",
      "eval: 100%|██████████| 472/472 [03:22<00:00,  2.33it/s]\n"
     ]
    },
    {
     "name": "stdout",
     "output_type": "stream",
     "text": [
      "{'recall/roi_0.3': 0.0, 'recall/rcnn_0.3': 0.0, 'recall/roi_0.5': 0.0, 'recall/rcnn_0.5': 0.0, 'recall/roi_0.7': 0.0, 'recall/rcnn_0.7': 0.0, 'Car_aos/easy_R40': 0.0, 'Car_aos/moderate_R40': 0.0, 'Car_aos/hard_R40': 0.0, 'Car_3d/easy_R40': 0.0, 'Car_3d/moderate_R40': 0.0, 'Car_3d/hard_R40': 0.0, 'Car_bev/easy_R40': 0.0, 'Car_bev/moderate_R40': 0.0, 'Car_bev/hard_R40': 0.0, 'Car_image/easy_R40': 0.0, 'Car_image/moderate_R40': 0.0, 'Car_image/hard_R40': 0.0, 'Pedestrian_aos/easy_R40': 0.0, 'Pedestrian_aos/moderate_R40': 0.0, 'Pedestrian_aos/hard_R40': 0.0, 'Pedestrian_3d/easy_R40': 0.0, 'Pedestrian_3d/moderate_R40': 0.0, 'Pedestrian_3d/hard_R40': 0.0, 'Pedestrian_bev/easy_R40': 0.0, 'Pedestrian_bev/moderate_R40': 0.0, 'Pedestrian_bev/hard_R40': 0.0, 'Pedestrian_image/easy_R40': 0.0, 'Pedestrian_image/moderate_R40': 0.0, 'Pedestrian_image/hard_R40': 0.0, 'Cyclist_aos/easy_R40': 0.0, 'Cyclist_aos/moderate_R40': 0.0, 'Cyclist_aos/hard_R40': 0.0, 'Cyclist_3d/easy_R40': 0.0, 'Cyclist_3d/moderate_R40': 0.0, 'Cyclist_3d/hard_R40': 0.0, 'Cyclist_bev/easy_R40': 0.0, 'Cyclist_bev/moderate_R40': 0.0, 'Cyclist_bev/hard_R40': 0.0, 'Cyclist_image/easy_R40': 0.0, 'Cyclist_image/moderate_R40': 0.0, 'Cyclist_image/hard_R40': 0.0}\n",
      "file: I-V_data_1.6um_length_250nm_diameter_BT_4V_NA_third_etch_15min_Pb_ED_3h_180C_MAI_PMMA_100nm_Ag_memory_6V_carbon_paste_no_wait.xlsx, sigma: 0.48648235114313826, usability: -0.23671340592852275, evaluate-5\n"
     ]
    },
    {
     "name": "stderr",
     "output_type": "stream",
     "text": [
      "eval: 100%|█████████▉| 471/472 [03:25<00:00, 13.82it/s]2023-07-28 00:41:24,327   INFO  Average predicted number of objects(3769 samples): 18.570\n",
      "eval: 100%|██████████| 472/472 [03:37<00:00,  2.17it/s]\n"
     ]
    },
    {
     "name": "stdout",
     "output_type": "stream",
     "text": [
      "{'recall/roi_0.3': 0.0, 'recall/rcnn_0.3': 0.0, 'recall/roi_0.5': 0.0, 'recall/rcnn_0.5': 0.0, 'recall/roi_0.7': 0.0, 'recall/rcnn_0.7': 0.0, 'Car_aos/easy_R40': 8.996480952393258, 'Car_aos/moderate_R40': 6.784063225797858, 'Car_aos/hard_R40': 6.274602672967847, 'Car_3d/easy_R40': 0.35700599790969, 'Car_3d/moderate_R40': 0.2690639838474458, 'Car_3d/hard_R40': 0.24610315312844702, 'Car_bev/easy_R40': 10.959450069875942, 'Car_bev/moderate_R40': 8.308606634252723, 'Car_bev/hard_R40': 7.514679525717736, 'Car_image/easy_R40': 12.5990702416441, 'Car_image/moderate_R40': 9.400992344202622, 'Car_image/hard_R40': 8.513649958403496, 'Pedestrian_aos/easy_R40': 1.3301891955696366, 'Pedestrian_aos/moderate_R40': 0.8129902863446777, 'Pedestrian_aos/hard_R40': 0.6769110381710406, 'Pedestrian_3d/easy_R40': 0.15010899722552518, 'Pedestrian_3d/moderate_R40': 0.09643615374754161, 'Pedestrian_3d/hard_R40': 0.0683548832016044, 'Pedestrian_bev/easy_R40': 1.6178231242575551, 'Pedestrian_bev/moderate_R40': 0.9739324687914007, 'Pedestrian_bev/hard_R40': 0.758282643825866, 'Pedestrian_image/easy_R40': 2.758681400683648, 'Pedestrian_image/moderate_R40': 1.7174909524038797, 'Pedestrian_image/hard_R40': 1.3777402199510767, 'Cyclist_aos/easy_R40': 0.09717599945325948, 'Cyclist_aos/moderate_R40': 0.07484781899175158, 'Cyclist_aos/hard_R40': 0.07466268175694964, 'Cyclist_3d/easy_R40': 0.0006903693476009665, 'Cyclist_3d/moderate_R40': 0.0005637614161686774, 'Cyclist_3d/hard_R40': 0.0006342137159286299, 'Cyclist_bev/easy_R40': 0.3107022365536417, 'Cyclist_bev/moderate_R40': 0.16775683332704183, 'Cyclist_bev/hard_R40': 0.16984243184642445, 'Cyclist_image/easy_R40': 0.13095046495242266, 'Cyclist_image/moderate_R40': 0.09701742849951699, 'Cyclist_image/hard_R40': 0.10079034958728106}\n",
      "file: I-V_data_1.6um_length_250nm_diameter_BT_4V_NA_third_etch_15min_Pb_ED_3h_180C_MAI_PMMA_100nm_Ag_memory_6V_carbon_paste_no_wait.xlsx, sigma: 0.48648235114313826, usability: -0.23671340592852275, evaluate-6\n"
     ]
    },
    {
     "name": "stderr",
     "output_type": "stream",
     "text": [
      "eval: 100%|█████████▉| 471/472 [03:19<00:00, 13.33it/s]2023-07-28 00:44:57,004   INFO  Average predicted number of objects(3769 samples): 44.649\n",
      "eval: 100%|██████████| 472/472 [03:37<00:00,  2.17it/s]\n"
     ]
    },
    {
     "name": "stdout",
     "output_type": "stream",
     "text": [
      "{'recall/roi_0.3': 0.0, 'recall/rcnn_0.3': 0.0, 'recall/roi_0.5': 0.0, 'recall/rcnn_0.5': 0.0, 'recall/roi_0.7': 0.0, 'recall/rcnn_0.7': 0.0, 'Car_aos/easy_R40': 0.011635464400408925, 'Car_aos/moderate_R40': 0.0255488059153683, 'Car_aos/hard_R40': 0.06745414136663204, 'Car_3d/easy_R40': 0.0011090163025396474, 'Car_3d/moderate_R40': 0.002205604335587951, 'Car_3d/hard_R40': 0.004302564748352432, 'Car_bev/easy_R40': 0.014236370425690814, 'Car_bev/moderate_R40': 0.041104398194816615, 'Car_bev/hard_R40': 0.06334121648290925, 'Car_image/easy_R40': 0.016756348532049468, 'Car_image/moderate_R40': 0.042384548121039145, 'Car_image/hard_R40': 0.09419231396188285, 'Pedestrian_aos/easy_R40': 0.021549201851817447, 'Pedestrian_aos/moderate_R40': 0.028789810369264385, 'Pedestrian_aos/hard_R40': 0.047388303106692384, 'Pedestrian_3d/easy_R40': 0.0031544414535666218, 'Pedestrian_3d/moderate_R40': 0.0020684764193688193, 'Pedestrian_3d/hard_R40': 0.0024620839078195785, 'Pedestrian_bev/easy_R40': 0.012217728345129762, 'Pedestrian_bev/moderate_R40': 0.008869092199140683, 'Pedestrian_bev/hard_R40': 0.011228871990859304, 'Pedestrian_image/easy_R40': 0.04498052080987847, 'Pedestrian_image/moderate_R40': 0.06336061954714406, 'Pedestrian_image/hard_R40': 0.09785488871415293, 'Cyclist_aos/easy_R40': 0.0007356485635466551, 'Cyclist_aos/moderate_R40': 0.0004933602725139397, 'Cyclist_aos/hard_R40': 0.000591848747720009, 'Cyclist_3d/easy_R40': 0.0, 'Cyclist_3d/moderate_R40': 0.0, 'Cyclist_3d/hard_R40': 0.0, 'Cyclist_bev/easy_R40': 0.15040446649459005, 'Cyclist_bev/moderate_R40': 0.07693990141376991, 'Cyclist_bev/hard_R40': 0.08161599152582957, 'Cyclist_image/easy_R40': 0.000998302885095338, 'Cyclist_image/moderate_R40': 0.0005996641880546893, 'Cyclist_image/hard_R40': 0.0007994883274704189}\n",
      "file: I-V_data_1.6um_length_250nm_diameter_BT_4V_NA_third_etch_15min_Pb_ED_3h_180C_MAI_PMMA_100nm_Ag_memory_6V_carbon_paste_no_wait.xlsx, sigma: 0.48648235114313826, usability: -0.23671340592852275, evaluate-7\n"
     ]
    },
    {
     "name": "stderr",
     "output_type": "stream",
     "text": [
      "eval: 100%|█████████▉| 471/472 [03:20<00:00, 13.04it/s]2023-07-28 00:48:37,039   INFO  Average predicted number of objects(3769 samples): 13.146\n",
      "eval: 100%|██████████| 472/472 [03:30<00:00,  2.24it/s]\n"
     ]
    },
    {
     "name": "stdout",
     "output_type": "stream",
     "text": [
      "{'recall/roi_0.3': 0.0, 'recall/rcnn_0.3': 0.0, 'recall/roi_0.5': 0.0, 'recall/rcnn_0.5': 0.0, 'recall/roi_0.7': 0.0, 'recall/rcnn_0.7': 0.0, 'Car_aos/easy_R40': 2.522857904570585, 'Car_aos/moderate_R40': 2.5599038288497242, 'Car_aos/hard_R40': 2.703663602214888, 'Car_3d/easy_R40': 0.017961755277992705, 'Car_3d/moderate_R40': 0.030645600653772812, 'Car_3d/hard_R40': 0.0356803044719315, 'Car_bev/easy_R40': 1.6717537042550072, 'Car_bev/moderate_R40': 2.396770262994905, 'Car_bev/hard_R40': 2.469818617595016, 'Car_image/easy_R40': 3.626694042848645, 'Car_image/moderate_R40': 3.991699151379007, 'Car_image/hard_R40': 4.005742936669645, 'Pedestrian_aos/easy_R40': 0.0, 'Pedestrian_aos/moderate_R40': 0.000540053030371147, 'Pedestrian_aos/hard_R40': 0.0014324384152300978, 'Pedestrian_3d/easy_R40': 0.0, 'Pedestrian_3d/moderate_R40': 0.0, 'Pedestrian_3d/hard_R40': 0.0, 'Pedestrian_bev/easy_R40': 0.011210762331838564, 'Pedestrian_bev/moderate_R40': 0.011586452762923352, 'Pedestrian_bev/hard_R40': 0.013359458496615604, 'Pedestrian_image/easy_R40': 0.0, 'Pedestrian_image/moderate_R40': 0.0013137151865475565, 'Pedestrian_image/hard_R40': 0.0025645409471704564, 'Cyclist_aos/easy_R40': 0.0, 'Cyclist_aos/moderate_R40': 0.0, 'Cyclist_aos/hard_R40': 0.0, 'Cyclist_3d/easy_R40': 0.0, 'Cyclist_3d/moderate_R40': 0.0, 'Cyclist_3d/hard_R40': 0.0, 'Cyclist_bev/easy_R40': 0.003862282056941073, 'Cyclist_bev/moderate_R40': 0.0034836269533193983, 'Cyclist_bev/hard_R40': 0.00811002157493494, 'Cyclist_image/easy_R40': 0.0, 'Cyclist_image/moderate_R40': 0.0, 'Cyclist_image/hard_R40': 0.0}\n",
      "file: I-V_data_1.6um_length_250nm_diameter_BT_4V_NA_third_etch_15min_Pb_ED_3h_180C_MAI_PMMA_100nm_Ag_memory_6V_carbon_paste_no_wait.xlsx, sigma: 0.48648235114313826, usability: -0.23671340592852275, evaluate-8\n"
     ]
    },
    {
     "name": "stderr",
     "output_type": "stream",
     "text": [
      "eval: 100%|█████████▉| 471/472 [03:19<00:00, 13.65it/s]2023-07-28 00:52:07,566   INFO  Average predicted number of objects(3769 samples): 37.063\n",
      "eval: 100%|██████████| 472/472 [03:34<00:00,  2.20it/s]\n"
     ]
    },
    {
     "name": "stdout",
     "output_type": "stream",
     "text": [
      "{'recall/roi_0.3': 0.0, 'recall/rcnn_0.3': 0.0, 'recall/roi_0.5': 0.0, 'recall/rcnn_0.5': 0.0, 'recall/roi_0.7': 0.0, 'recall/rcnn_0.7': 0.0, 'Car_aos/easy_R40': 1.0027914685347163, 'Car_aos/moderate_R40': 0.37317954899946726, 'Car_aos/hard_R40': 0.25943577768764897, 'Car_3d/easy_R40': 0.020510483135824976, 'Car_3d/moderate_R40': 0.01822429906542056, 'Car_3d/hard_R40': 0.018688095683049896, 'Car_bev/easy_R40': 0.3716739561030902, 'Car_bev/moderate_R40': 0.073109243697479, 'Car_bev/hard_R40': 0.08002346237640356, 'Car_image/easy_R40': 1.2705013822995226, 'Car_image/moderate_R40': 0.4514064945128153, 'Car_image/hard_R40': 0.31579816149237605, 'Pedestrian_aos/easy_R40': 0.02856057673101769, 'Pedestrian_aos/moderate_R40': 0.01909169029577366, 'Pedestrian_aos/hard_R40': 0.023448979798323423, 'Pedestrian_3d/easy_R40': 0.006357066381156317, 'Pedestrian_3d/moderate_R40': 0.0037151702786377707, 'Pedestrian_3d/hard_R40': 0.003869729428518358, 'Pedestrian_bev/easy_R40': 1.4105423655689846, 'Pedestrian_bev/moderate_R40': 0.7449699157482356, 'Pedestrian_bev/hard_R40': 0.675126721984227, 'Pedestrian_image/easy_R40': 0.05010694349938153, 'Pedestrian_image/moderate_R40': 0.034297974508952514, 'Pedestrian_image/hard_R40': 0.04011818165159435, 'Cyclist_aos/easy_R40': 0.008741398352558445, 'Cyclist_aos/moderate_R40': 0.0019696472397442155, 'Cyclist_aos/hard_R40': 0.0018145084475309178, 'Cyclist_3d/easy_R40': 0.0, 'Cyclist_3d/moderate_R40': 0.0, 'Cyclist_3d/hard_R40': 0.0, 'Cyclist_bev/easy_R40': 0.19382979572076967, 'Cyclist_bev/moderate_R40': 0.05667854869413665, 'Cyclist_bev/hard_R40': 0.05183133237727582, 'Cyclist_image/easy_R40': 0.008987728664110328, 'Cyclist_image/moderate_R40': 0.0028728388173914227, 'Cyclist_image/hard_R40': 0.0026098649170475845}\n",
      "file: I-V_data_1.6um_length_250nm_diameter_BT_4V_NA_third_etch_15min_Pb_ED_3h_180C_MAI_PMMA_100nm_Ag_memory_6V_carbon_paste_no_wait.xlsx, sigma: 0.48648235114313826, usability: -0.23671340592852275, evaluate-9\n"
     ]
    },
    {
     "name": "stderr",
     "output_type": "stream",
     "text": [
      "eval: 100%|█████████▉| 471/472 [03:19<00:00, 12.19it/s]2023-07-28 00:55:44,152   INFO  Average predicted number of objects(3769 samples): 98.904\n",
      "eval: 100%|██████████| 472/472 [03:50<00:00,  2.05it/s]\n"
     ]
    },
    {
     "name": "stdout",
     "output_type": "stream",
     "text": [
      "{'recall/roi_0.3': 0.0, 'recall/rcnn_0.3': 0.0, 'recall/roi_0.5': 0.0, 'recall/rcnn_0.5': 0.0, 'recall/roi_0.7': 0.0, 'recall/rcnn_0.7': 0.0, 'Car_aos/easy_R40': 0.004854744702694145, 'Car_aos/moderate_R40': 0.01912849559692566, 'Car_aos/hard_R40': 0.030378210078854998, 'Car_3d/easy_R40': 0.00031075631180597755, 'Car_3d/moderate_R40': 0.00043890724635863737, 'Car_3d/hard_R40': 0.0006112929315728097, 'Car_bev/easy_R40': 0.0009341655479745908, 'Car_bev/moderate_R40': 0.001781738424225013, 'Car_bev/hard_R40': 0.0025406223420119524, 'Car_image/easy_R40': 0.011243492562298488, 'Car_image/moderate_R40': 0.044048603810568146, 'Car_image/hard_R40': 0.06080611736712302, 'Pedestrian_aos/easy_R40': 0.0009503734366288659, 'Pedestrian_aos/moderate_R40': 0.0011625460725728553, 'Pedestrian_aos/hard_R40': 0.001459163458637584, 'Pedestrian_3d/easy_R40': 0.0, 'Pedestrian_3d/moderate_R40': 0.0, 'Pedestrian_3d/hard_R40': 0.00120889748549323, 'Pedestrian_bev/easy_R40': 0.003273965426925092, 'Pedestrian_bev/moderate_R40': 0.001083815028901734, 'Pedestrian_bev/hard_R40': 0.0013726736793434286, 'Pedestrian_image/easy_R40': 0.002125357446479635, 'Pedestrian_image/moderate_R40': 0.002067720995513672, 'Pedestrian_image/hard_R40': 0.002631051418262003, 'Cyclist_aos/easy_R40': 0.0, 'Cyclist_aos/moderate_R40': 0.0, 'Cyclist_aos/hard_R40': 0.0, 'Cyclist_3d/easy_R40': 0.0, 'Cyclist_3d/moderate_R40': 0.0, 'Cyclist_3d/hard_R40': 0.0, 'Cyclist_bev/easy_R40': 0.0, 'Cyclist_bev/moderate_R40': 0.0, 'Cyclist_bev/hard_R40': 0.0, 'Cyclist_image/easy_R40': 0.0, 'Cyclist_image/moderate_R40': 0.0, 'Cyclist_image/hard_R40': 0.0}\n",
      "file: I-V_data_1.2um_length_200nm_diameter_BT_4V_NA_third_etch_15min_Pb_ED_3h_210C_MABr_PMMA_200nm_Ag_memory_6V_probe_no_wait.xlsx, sigma: 0.49779432049368777, usability: 0.11024461149455989, evaluate-0\n"
     ]
    },
    {
     "name": "stderr",
     "output_type": "stream",
     "text": [
      "eval: 100%|█████████▉| 471/472 [03:19<00:00, 12.59it/s]2023-07-28 00:59:35,596   INFO  Average predicted number of objects(3769 samples): 7.828\n",
      "eval: 100%|██████████| 472/472 [03:27<00:00,  2.28it/s]\n"
     ]
    },
    {
     "name": "stdout",
     "output_type": "stream",
     "text": [
      "{'recall/roi_0.3': 0.0, 'recall/rcnn_0.3': 0.0, 'recall/roi_0.5': 0.0, 'recall/rcnn_0.5': 0.0, 'recall/roi_0.7': 0.0, 'recall/rcnn_0.7': 0.0, 'Car_aos/easy_R40': 0.012744221268711815, 'Car_aos/moderate_R40': 0.01491919737809379, 'Car_aos/hard_R40': 0.025981138706044064, 'Car_3d/easy_R40': 0.004409171075837742, 'Car_3d/moderate_R40': 0.0034378437843784384, 'Car_3d/hard_R40': 0.0041242782513060215, 'Car_bev/easy_R40': 0.006002400960384153, 'Car_bev/moderate_R40': 0.006934812760055478, 'Car_bev/hard_R40': 0.013030528667163067, 'Car_image/easy_R40': 0.02285851780558229, 'Car_image/moderate_R40': 0.027404343329886248, 'Car_image/hard_R40': 0.04265159301130524, 'Pedestrian_aos/easy_R40': 0.0, 'Pedestrian_aos/moderate_R40': 0.0, 'Pedestrian_aos/hard_R40': 0.0, 'Pedestrian_3d/easy_R40': 0.0, 'Pedestrian_3d/moderate_R40': 0.0, 'Pedestrian_3d/hard_R40': 0.0, 'Pedestrian_bev/easy_R40': 0.0, 'Pedestrian_bev/moderate_R40': 0.0, 'Pedestrian_bev/hard_R40': 0.0, 'Pedestrian_image/easy_R40': 0.0, 'Pedestrian_image/moderate_R40': 0.0, 'Pedestrian_image/hard_R40': 0.0, 'Cyclist_aos/easy_R40': 0.0, 'Cyclist_aos/moderate_R40': 7.450757407931005e-05, 'Cyclist_aos/hard_R40': 7.450757407931005e-05, 'Cyclist_3d/easy_R40': 0.0, 'Cyclist_3d/moderate_R40': 0.0, 'Cyclist_3d/hard_R40': 0.0, 'Cyclist_bev/easy_R40': 0.0, 'Cyclist_bev/moderate_R40': 0.0, 'Cyclist_bev/hard_R40': 0.0, 'Cyclist_image/easy_R40': 0.0, 'Cyclist_image/moderate_R40': 0.0005339028296849973, 'Cyclist_image/hard_R40': 0.0005339028296849973}\n",
      "file: I-V_data_1.2um_length_200nm_diameter_BT_4V_NA_third_etch_15min_Pb_ED_3h_210C_MABr_PMMA_200nm_Ag_memory_6V_probe_no_wait.xlsx, sigma: 0.49779432049368777, usability: 0.11024461149455989, evaluate-1\n"
     ]
    },
    {
     "name": "stderr",
     "output_type": "stream",
     "text": [
      "eval: 100%|█████████▉| 471/472 [03:20<00:00, 14.22it/s]2023-07-28 01:03:03,836   INFO  Average predicted number of objects(3769 samples): 3.310\n",
      "eval: 100%|██████████| 472/472 [03:26<00:00,  2.29it/s]\n"
     ]
    },
    {
     "name": "stdout",
     "output_type": "stream",
     "text": [
      "{'recall/roi_0.3': 0.0, 'recall/rcnn_0.3': 0.0, 'recall/roi_0.5': 0.0, 'recall/rcnn_0.5': 0.0, 'recall/roi_0.7': 0.0, 'recall/rcnn_0.7': 0.0, 'Car_aos/easy_R40': 0.0, 'Car_aos/moderate_R40': 0.0, 'Car_aos/hard_R40': 0.0, 'Car_3d/easy_R40': 0.0, 'Car_3d/moderate_R40': 0.0, 'Car_3d/hard_R40': 0.0, 'Car_bev/easy_R40': 0.0, 'Car_bev/moderate_R40': 0.0, 'Car_bev/hard_R40': 0.0, 'Car_image/easy_R40': 0.0, 'Car_image/moderate_R40': 0.0, 'Car_image/hard_R40': 0.0, 'Pedestrian_aos/easy_R40': 0.0, 'Pedestrian_aos/moderate_R40': 0.0, 'Pedestrian_aos/hard_R40': 0.0, 'Pedestrian_3d/easy_R40': 0.0, 'Pedestrian_3d/moderate_R40': 0.0, 'Pedestrian_3d/hard_R40': 0.0, 'Pedestrian_bev/easy_R40': 0.0, 'Pedestrian_bev/moderate_R40': 0.0, 'Pedestrian_bev/hard_R40': 0.0, 'Pedestrian_image/easy_R40': 0.0, 'Pedestrian_image/moderate_R40': 0.0, 'Pedestrian_image/hard_R40': 0.0, 'Cyclist_aos/easy_R40': 0.0, 'Cyclist_aos/moderate_R40': 0.0, 'Cyclist_aos/hard_R40': 0.0, 'Cyclist_3d/easy_R40': 0.0, 'Cyclist_3d/moderate_R40': 0.0, 'Cyclist_3d/hard_R40': 0.0, 'Cyclist_bev/easy_R40': 0.0, 'Cyclist_bev/moderate_R40': 0.0, 'Cyclist_bev/hard_R40': 0.0, 'Cyclist_image/easy_R40': 0.0, 'Cyclist_image/moderate_R40': 0.0, 'Cyclist_image/hard_R40': 0.0}\n",
      "file: I-V_data_1.2um_length_200nm_diameter_BT_4V_NA_third_etch_15min_Pb_ED_3h_210C_MABr_PMMA_200nm_Ag_memory_6V_probe_no_wait.xlsx, sigma: 0.49779432049368777, usability: 0.11024461149455989, evaluate-2\n"
     ]
    },
    {
     "name": "stderr",
     "output_type": "stream",
     "text": [
      "eval: 100%|█████████▉| 471/472 [03:18<00:00, 12.18it/s]2023-07-28 01:06:28,948   INFO  Average predicted number of objects(3769 samples): 14.742\n",
      "eval: 100%|██████████| 472/472 [03:27<00:00,  2.27it/s]\n"
     ]
    },
    {
     "name": "stdout",
     "output_type": "stream",
     "text": [
      "{'recall/roi_0.3': 0.0, 'recall/rcnn_0.3': 0.0, 'recall/roi_0.5': 0.0, 'recall/rcnn_0.5': 0.0, 'recall/roi_0.7': 0.0, 'recall/rcnn_0.7': 0.0, 'Car_aos/easy_R40': 0.0, 'Car_aos/moderate_R40': 0.0024946174332362127, 'Car_aos/hard_R40': 0.004821537538535324, 'Car_3d/easy_R40': 0.0, 'Car_3d/moderate_R40': 0.0, 'Car_3d/hard_R40': 0.0, 'Car_bev/easy_R40': 0.0, 'Car_bev/moderate_R40': 0.0, 'Car_bev/hard_R40': 0.0, 'Car_image/easy_R40': 0.0, 'Car_image/moderate_R40': 0.002553626149131767, 'Car_image/hard_R40': 0.006215813028344107, 'Pedestrian_aos/easy_R40': 0.0013824959671597924, 'Pedestrian_aos/moderate_R40': 0.0014725528517869648, 'Pedestrian_aos/hard_R40': 0.0020300700055174694, 'Pedestrian_3d/easy_R40': 0.0, 'Pedestrian_3d/moderate_R40': 0.0, 'Pedestrian_3d/hard_R40': 0.0, 'Pedestrian_bev/easy_R40': 0.004365541327124563, 'Pedestrian_bev/moderate_R40': 0.0027570995312930797, 'Pedestrian_bev/hard_R40': 0.003808487486398259, 'Pedestrian_image/easy_R40': 0.0033760972316002704, 'Pedestrian_image/moderate_R40': 0.003072995461422088, 'Pedestrian_image/hard_R40': 0.004033071183706392, 'Cyclist_aos/easy_R40': 0.0008065087616694839, 'Cyclist_aos/moderate_R40': 0.0017365374970866295, 'Cyclist_aos/hard_R40': 0.0023313365615773643, 'Cyclist_3d/easy_R40': 0.0, 'Cyclist_3d/moderate_R40': 0.0, 'Cyclist_3d/hard_R40': 0.0, 'Cyclist_bev/easy_R40': 0.0, 'Cyclist_bev/moderate_R40': 0.0, 'Cyclist_bev/hard_R40': 0.0, 'Cyclist_image/easy_R40': 0.004398960202621896, 'Cyclist_image/moderate_R40': 0.004343828800601697, 'Cyclist_image/hard_R40': 0.004834244584783671}\n",
      "file: I-V_data_1.2um_length_200nm_diameter_BT_4V_NA_third_etch_15min_Pb_ED_3h_210C_MABr_PMMA_200nm_Ag_memory_6V_probe_no_wait.xlsx, sigma: 0.49779432049368777, usability: 0.11024461149455989, evaluate-3\n"
     ]
    },
    {
     "name": "stderr",
     "output_type": "stream",
     "text": [
      "eval: 100%|█████████▉| 471/472 [03:16<00:00, 13.47it/s]2023-07-28 01:09:56,578   INFO  Average predicted number of objects(3769 samples): 4.324\n",
      "eval: 100%|██████████| 472/472 [03:23<00:00,  2.32it/s]\n"
     ]
    },
    {
     "name": "stdout",
     "output_type": "stream",
     "text": [
      "{'recall/roi_0.3': 0.0, 'recall/rcnn_0.3': 0.0, 'recall/roi_0.5': 0.0, 'recall/rcnn_0.5': 0.0, 'recall/roi_0.7': 0.0, 'recall/rcnn_0.7': 0.0, 'Car_aos/easy_R40': 0.009267849886114324, 'Car_aos/moderate_R40': 0.007372302472190147, 'Car_aos/hard_R40': 0.011988697131839265, 'Car_3d/easy_R40': 0.0, 'Car_3d/moderate_R40': 0.010980966325036604, 'Car_3d/hard_R40': 0.018404907975460124, 'Car_bev/easy_R40': 0.0, 'Car_bev/moderate_R40': 0.004592518370073481, 'Car_bev/hard_R40': 0.007226129684940746, 'Car_image/easy_R40': 0.00927643784786642, 'Car_image/moderate_R40': 0.009143026588909756, 'Car_image/hard_R40': 0.014792899408284025, 'Pedestrian_aos/easy_R40': 0.0, 'Pedestrian_aos/moderate_R40': 0.0, 'Pedestrian_aos/hard_R40': 0.0, 'Pedestrian_3d/easy_R40': 0.0, 'Pedestrian_3d/moderate_R40': 0.0, 'Pedestrian_3d/hard_R40': 0.0, 'Pedestrian_bev/easy_R40': 0.0, 'Pedestrian_bev/moderate_R40': 0.0, 'Pedestrian_bev/hard_R40': 0.0, 'Pedestrian_image/easy_R40': 0.0, 'Pedestrian_image/moderate_R40': 0.0, 'Pedestrian_image/hard_R40': 0.0, 'Cyclist_aos/easy_R40': 0.0, 'Cyclist_aos/moderate_R40': 0.0, 'Cyclist_aos/hard_R40': 0.0, 'Cyclist_3d/easy_R40': 0.0, 'Cyclist_3d/moderate_R40': 0.0, 'Cyclist_3d/hard_R40': 0.0, 'Cyclist_bev/easy_R40': 0.0, 'Cyclist_bev/moderate_R40': 0.0, 'Cyclist_bev/hard_R40': 0.0, 'Cyclist_image/easy_R40': 0.0, 'Cyclist_image/moderate_R40': 0.0, 'Cyclist_image/hard_R40': 0.0}\n",
      "file: I-V_data_1.2um_length_200nm_diameter_BT_4V_NA_third_etch_15min_Pb_ED_3h_210C_MABr_PMMA_200nm_Ag_memory_6V_probe_no_wait.xlsx, sigma: 0.49779432049368777, usability: 0.11024461149455989, evaluate-4\n"
     ]
    },
    {
     "name": "stderr",
     "output_type": "stream",
     "text": [
      "eval: 100%|█████████▉| 471/472 [03:18<00:00, 12.77it/s]2023-07-28 01:13:21,814   INFO  Average predicted number of objects(3769 samples): 4.518\n",
      "eval: 100%|██████████| 472/472 [03:24<00:00,  2.31it/s]\n"
     ]
    },
    {
     "name": "stdout",
     "output_type": "stream",
     "text": [
      "{'recall/roi_0.3': 0.0, 'recall/rcnn_0.3': 0.0, 'recall/roi_0.5': 0.0, 'recall/rcnn_0.5': 0.0, 'recall/roi_0.7': 0.0, 'recall/rcnn_0.7': 0.0, 'Car_aos/easy_R40': 0.0, 'Car_aos/moderate_R40': 0.005083756196650334, 'Car_aos/hard_R40': 0.010839017131050238, 'Car_3d/easy_R40': 0.0, 'Car_3d/moderate_R40': 0.0, 'Car_3d/hard_R40': 0.0, 'Car_bev/easy_R40': 0.0, 'Car_bev/moderate_R40': 0.008761682242990653, 'Car_bev/hard_R40': 0.010215995329830706, 'Car_image/easy_R40': 0.0, 'Car_image/moderate_R40': 0.00849762066621346, 'Car_image/hard_R40': 0.01777853030816119, 'Pedestrian_aos/easy_R40': 0.0, 'Pedestrian_aos/moderate_R40': 0.0, 'Pedestrian_aos/hard_R40': 0.0, 'Pedestrian_3d/easy_R40': 0.0, 'Pedestrian_3d/moderate_R40': 0.0, 'Pedestrian_3d/hard_R40': 0.0, 'Pedestrian_bev/easy_R40': 0.0, 'Pedestrian_bev/moderate_R40': 0.0, 'Pedestrian_bev/hard_R40': 0.0, 'Pedestrian_image/easy_R40': 0.0, 'Pedestrian_image/moderate_R40': 0.0, 'Pedestrian_image/hard_R40': 0.0, 'Cyclist_aos/easy_R40': 0.0, 'Cyclist_aos/moderate_R40': 0.0, 'Cyclist_aos/hard_R40': 0.0, 'Cyclist_3d/easy_R40': 0.0, 'Cyclist_3d/moderate_R40': 0.0, 'Cyclist_3d/hard_R40': 0.0, 'Cyclist_bev/easy_R40': 0.0, 'Cyclist_bev/moderate_R40': 0.0, 'Cyclist_bev/hard_R40': 0.0, 'Cyclist_image/easy_R40': 0.0, 'Cyclist_image/moderate_R40': 0.0, 'Cyclist_image/hard_R40': 0.0}\n",
      "file: I-V_data_1.2um_length_200nm_diameter_BT_4V_NA_third_etch_15min_Pb_ED_3h_210C_MABr_PMMA_200nm_Ag_memory_6V_probe_no_wait.xlsx, sigma: 0.49779432049368777, usability: 0.11024461149455989, evaluate-5\n"
     ]
    },
    {
     "name": "stderr",
     "output_type": "stream",
     "text": [
      "eval: 100%|█████████▉| 471/472 [03:15<00:00, 13.59it/s]2023-07-28 01:16:45,340   INFO  Average predicted number of objects(3769 samples): 0.077\n",
      "eval: 100%|██████████| 472/472 [03:21<00:00,  2.35it/s]\n"
     ]
    },
    {
     "name": "stdout",
     "output_type": "stream",
     "text": [
      "{'recall/roi_0.3': 0.0, 'recall/rcnn_0.3': 0.0, 'recall/roi_0.5': 0.0, 'recall/rcnn_0.5': 0.0, 'recall/roi_0.7': 0.0, 'recall/rcnn_0.7': 0.0, 'Car_aos/easy_R40': 0.0, 'Car_aos/moderate_R40': 0.0, 'Car_aos/hard_R40': 0.0, 'Car_3d/easy_R40': 0.0, 'Car_3d/moderate_R40': 0.0, 'Car_3d/hard_R40': 0.0, 'Car_bev/easy_R40': 0.0, 'Car_bev/moderate_R40': 0.0, 'Car_bev/hard_R40': 0.0, 'Car_image/easy_R40': 0.0, 'Car_image/moderate_R40': 0.0, 'Car_image/hard_R40': 0.0, 'Pedestrian_aos/easy_R40': 0.0, 'Pedestrian_aos/moderate_R40': 0.0, 'Pedestrian_aos/hard_R40': 0.0, 'Pedestrian_3d/easy_R40': 0.0, 'Pedestrian_3d/moderate_R40': 0.0, 'Pedestrian_3d/hard_R40': 0.0, 'Pedestrian_bev/easy_R40': 0.0, 'Pedestrian_bev/moderate_R40': 0.0, 'Pedestrian_bev/hard_R40': 0.0, 'Pedestrian_image/easy_R40': 0.0, 'Pedestrian_image/moderate_R40': 0.0, 'Pedestrian_image/hard_R40': 0.0, 'Cyclist_aos/easy_R40': 0.0, 'Cyclist_aos/moderate_R40': 0.0, 'Cyclist_aos/hard_R40': 0.0, 'Cyclist_3d/easy_R40': 0.0, 'Cyclist_3d/moderate_R40': 0.0, 'Cyclist_3d/hard_R40': 0.0, 'Cyclist_bev/easy_R40': 0.0, 'Cyclist_bev/moderate_R40': 0.0, 'Cyclist_bev/hard_R40': 0.0, 'Cyclist_image/easy_R40': 0.0, 'Cyclist_image/moderate_R40': 0.0, 'Cyclist_image/hard_R40': 0.0}\n",
      "file: I-V_data_1.2um_length_200nm_diameter_BT_4V_NA_third_etch_15min_Pb_ED_3h_210C_MABr_PMMA_200nm_Ag_memory_6V_probe_no_wait.xlsx, sigma: 0.49779432049368777, usability: 0.11024461149455989, evaluate-6\n"
     ]
    },
    {
     "name": "stderr",
     "output_type": "stream",
     "text": [
      "eval: 100%|█████████▉| 471/472 [03:17<00:00, 13.52it/s]2023-07-28 01:20:09,047   INFO  Average predicted number of objects(3769 samples): 41.054\n",
      "eval: 100%|██████████| 472/472 [03:33<00:00,  2.21it/s]\n"
     ]
    },
    {
     "name": "stdout",
     "output_type": "stream",
     "text": [
      "{'recall/roi_0.3': 0.0, 'recall/rcnn_0.3': 0.0, 'recall/roi_0.5': 0.0, 'recall/rcnn_0.5': 0.0, 'recall/roi_0.7': 0.0, 'recall/rcnn_0.7': 0.0, 'Car_aos/easy_R40': 0.0001479651022330724, 'Car_aos/moderate_R40': 0.0007191406221184991, 'Car_aos/hard_R40': 0.0012530362907038827, 'Car_3d/easy_R40': 0.0, 'Car_3d/moderate_R40': 0.0, 'Car_3d/hard_R40': 6.829481505764083e-05, 'Car_bev/easy_R40': 0.000121153380179307, 'Car_bev/moderate_R40': 0.0010153186196743367, 'Car_bev/hard_R40': 0.0014051193180487575, 'Car_image/easy_R40': 0.0005214489327678509, 'Car_image/moderate_R40': 0.0018233578016186712, 'Car_image/hard_R40': 0.002645938190883861, 'Pedestrian_aos/easy_R40': 0.0, 'Pedestrian_aos/moderate_R40': 0.0, 'Pedestrian_aos/hard_R40': 0.0019160179635537382, 'Pedestrian_3d/easy_R40': 0.0, 'Pedestrian_3d/moderate_R40': 0.0, 'Pedestrian_3d/hard_R40': 0.0, 'Pedestrian_bev/easy_R40': 0.0, 'Pedestrian_bev/moderate_R40': 0.0, 'Pedestrian_bev/hard_R40': 0.0, 'Pedestrian_image/easy_R40': 0.0, 'Pedestrian_image/moderate_R40': 0.0, 'Pedestrian_image/hard_R40': 0.0033377837116154874, 'Cyclist_aos/easy_R40': 0.0, 'Cyclist_aos/moderate_R40': 0.00041085427890717437, 'Cyclist_aos/hard_R40': 0.00041085427890717437, 'Cyclist_3d/easy_R40': 0.0, 'Cyclist_3d/moderate_R40': 0.0, 'Cyclist_3d/hard_R40': 0.0, 'Cyclist_bev/easy_R40': 0.0, 'Cyclist_bev/moderate_R40': 0.0, 'Cyclist_bev/hard_R40': 0.0, 'Cyclist_image/easy_R40': 0.0, 'Cyclist_image/moderate_R40': 0.001569612305760477, 'Cyclist_image/hard_R40': 0.001569612305760477}\n",
      "file: I-V_data_1.2um_length_200nm_diameter_BT_4V_NA_third_etch_15min_Pb_ED_3h_210C_MABr_PMMA_200nm_Ag_memory_6V_probe_no_wait.xlsx, sigma: 0.49779432049368777, usability: 0.11024461149455989, evaluate-7\n"
     ]
    },
    {
     "name": "stderr",
     "output_type": "stream",
     "text": [
      "eval: 100%|█████████▉| 471/472 [03:20<00:00, 12.36it/s]2023-07-28 01:23:46,436   INFO  Average predicted number of objects(3769 samples): 34.423\n",
      "eval: 100%|██████████| 472/472 [03:36<00:00,  2.18it/s]\n"
     ]
    },
    {
     "name": "stdout",
     "output_type": "stream",
     "text": [
      "{'recall/roi_0.3': 0.0, 'recall/rcnn_0.3': 0.0, 'recall/roi_0.5': 0.0, 'recall/rcnn_0.5': 0.0, 'recall/roi_0.7': 0.0, 'recall/rcnn_0.7': 0.0, 'Car_aos/easy_R40': 0.14274481032689137, 'Car_aos/moderate_R40': 0.13387315437582004, 'Car_aos/hard_R40': 0.1865132633149399, 'Car_3d/easy_R40': 0.0027270248159258245, 'Car_3d/moderate_R40': 0.0030114899925871015, 'Car_3d/hard_R40': 0.004058142108758209, 'Car_bev/easy_R40': 0.02909844150720063, 'Car_bev/moderate_R40': 0.024646060336520642, 'Car_bev/hard_R40': 0.03285830318245588, 'Car_image/easy_R40': 0.21114833920030177, 'Car_image/moderate_R40': 0.1882232983103184, 'Car_image/hard_R40': 0.25377734380775213, 'Pedestrian_aos/easy_R40': 0.14429764483161245, 'Pedestrian_aos/moderate_R40': 0.2399292598445982, 'Pedestrian_aos/hard_R40': 0.2458562008328175, 'Pedestrian_3d/easy_R40': 0.03959045731701186, 'Pedestrian_3d/moderate_R40': 0.05404507026883851, 'Pedestrian_3d/hard_R40': 0.060487222687501584, 'Pedestrian_bev/easy_R40': 0.5338278835287519, 'Pedestrian_bev/moderate_R40': 0.6575925729038696, 'Pedestrian_bev/hard_R40': 0.6231528605152717, 'Pedestrian_image/easy_R40': 0.2952563002417885, 'Pedestrian_image/moderate_R40': 0.4699362713241241, 'Pedestrian_image/hard_R40': 0.49101295850110815, 'Cyclist_aos/easy_R40': 0.0027864783960045727, 'Cyclist_aos/moderate_R40': 0.0010310316096812308, 'Cyclist_aos/hard_R40': 0.0010772194098971563, 'Cyclist_3d/easy_R40': 0.0, 'Cyclist_3d/moderate_R40': 0.0, 'Cyclist_3d/hard_R40': 0.0, 'Cyclist_bev/easy_R40': 0.02663443330003888, 'Cyclist_bev/moderate_R40': 0.08829446825311515, 'Cyclist_bev/hard_R40': 0.08474903553117305, 'Cyclist_image/easy_R40': 0.004345277344572642, 'Cyclist_image/moderate_R40': 0.001853198192418994, 'Cyclist_image/hard_R40': 0.0019244476122594438}\n",
      "file: I-V_data_1.2um_length_200nm_diameter_BT_4V_NA_third_etch_15min_Pb_ED_3h_210C_MABr_PMMA_200nm_Ag_memory_6V_probe_no_wait.xlsx, sigma: 0.49779432049368777, usability: 0.11024461149455989, evaluate-8\n"
     ]
    },
    {
     "name": "stderr",
     "output_type": "stream",
     "text": [
      "eval: 100%|█████████▉| 471/472 [03:21<00:00, 11.23it/s]2023-07-28 01:27:23,824   INFO  Average predicted number of objects(3769 samples): 78.302\n",
      "eval: 100%|██████████| 472/472 [03:46<00:00,  2.08it/s]\n"
     ]
    },
    {
     "name": "stdout",
     "output_type": "stream",
     "text": [
      "{'recall/roi_0.3': 0.0, 'recall/rcnn_0.3': 0.0, 'recall/roi_0.5': 0.0, 'recall/rcnn_0.5': 0.0, 'recall/roi_0.7': 0.0, 'recall/rcnn_0.7': 0.0, 'Car_aos/easy_R40': 0.0003948883577429252, 'Car_aos/moderate_R40': 0.0013302489911364002, 'Car_aos/hard_R40': 0.003410399919143564, 'Car_3d/easy_R40': 0.0, 'Car_3d/moderate_R40': 0.0, 'Car_3d/hard_R40': 0.0005682786838665682, 'Car_bev/easy_R40': 0.00014798153190481828, 'Car_bev/moderate_R40': 0.00030647395584323245, 'Car_bev/hard_R40': 0.0007660440260822671, 'Car_image/easy_R40': 0.0008246515847054618, 'Car_image/moderate_R40': 0.0023960886128163443, 'Car_image/hard_R40': 0.0053513768457715055, 'Pedestrian_aos/easy_R40': 0.0009025118201544754, 'Pedestrian_aos/moderate_R40': 0.0005664540236650571, 'Pedestrian_aos/hard_R40': 0.0007014515413287394, 'Pedestrian_3d/easy_R40': 0.0, 'Pedestrian_3d/moderate_R40': 0.0, 'Pedestrian_3d/hard_R40': 0.0, 'Pedestrian_bev/easy_R40': 0.0, 'Pedestrian_bev/moderate_R40': 0.0, 'Pedestrian_bev/hard_R40': 0.0, 'Pedestrian_image/easy_R40': 0.0012634770889487872, 'Pedestrian_image/moderate_R40': 0.0010014153336715891, 'Pedestrian_image/hard_R40': 0.0012683239432858934, 'Cyclist_aos/easy_R40': 0.0, 'Cyclist_aos/moderate_R40': 0.0004835479375014675, 'Cyclist_aos/hard_R40': 0.00023822671013078053, 'Cyclist_3d/easy_R40': 0.0, 'Cyclist_3d/moderate_R40': 0.0, 'Cyclist_3d/hard_R40': 0.0, 'Cyclist_bev/easy_R40': 0.0, 'Cyclist_bev/moderate_R40': 0.0, 'Cyclist_bev/hard_R40': 0.0, 'Cyclist_image/easy_R40': 0.0, 'Cyclist_image/moderate_R40': 0.0009386850899260315, 'Cyclist_image/hard_R40': 0.0004693425449630158}\n",
      "file: I-V_data_1.2um_length_200nm_diameter_BT_4V_NA_third_etch_15min_Pb_ED_3h_210C_MABr_PMMA_200nm_Ag_memory_6V_probe_no_wait.xlsx, sigma: 0.49779432049368777, usability: 0.11024461149455989, evaluate-9\n"
     ]
    },
    {
     "name": "stderr",
     "output_type": "stream",
     "text": [
      "eval: 100%|█████████▉| 471/472 [03:19<00:00, 13.90it/s]2023-07-28 01:31:10,080   INFO  Average predicted number of objects(3769 samples): 9.498\n",
      "eval: 100%|██████████| 472/472 [03:27<00:00,  2.27it/s]\n"
     ]
    },
    {
     "name": "stdout",
     "output_type": "stream",
     "text": [
      "{'recall/roi_0.3': 0.0, 'recall/rcnn_0.3': 0.0, 'recall/roi_0.5': 0.0, 'recall/rcnn_0.5': 0.0, 'recall/roi_0.7': 0.0, 'recall/rcnn_0.7': 0.0, 'Car_aos/easy_R40': 0.022646305464307192, 'Car_aos/moderate_R40': 0.005502715661990347, 'Car_aos/hard_R40': 0.00790296593165496, 'Car_3d/easy_R40': 0.0, 'Car_3d/moderate_R40': 0.0, 'Car_3d/hard_R40': 0.0, 'Car_bev/easy_R40': 0.0, 'Car_bev/moderate_R40': 0.00505700625229864, 'Car_bev/hard_R40': 0.006432641058628928, 'Car_image/easy_R40': 0.022935779816513763, 'Car_image/moderate_R40': 0.009139097057210747, 'Car_image/hard_R40': 0.013683634373289547, 'Pedestrian_aos/easy_R40': 0.004890598911948281, 'Pedestrian_aos/moderate_R40': 0.0016496885399716623, 'Pedestrian_aos/hard_R40': 0.0018137959722339088, 'Pedestrian_3d/easy_R40': 0.0, 'Pedestrian_3d/moderate_R40': 0.0, 'Pedestrian_3d/hard_R40': 0.0, 'Pedestrian_bev/easy_R40': 0.0223081499107674, 'Pedestrian_bev/moderate_R40': 0.01380071763731714, 'Pedestrian_bev/hard_R40': 0.01328609388839681, 'Pedestrian_image/easy_R40': 0.011829652996845425, 'Pedestrian_image/moderate_R40': 0.004369674459252786, 'Pedestrian_image/hard_R40': 0.00491480996068152, 'Cyclist_aos/easy_R40': 0.0026124783133372703, 'Cyclist_aos/moderate_R40': 0.0009921562658900779, 'Cyclist_aos/hard_R40': 0.0012379128864471194, 'Cyclist_3d/easy_R40': 0.0, 'Cyclist_3d/moderate_R40': 0.0010392849719393056, 'Cyclist_3d/hard_R40': 0.0010392849719393056, 'Cyclist_bev/easy_R40': 0.0013457742687959806, 'Cyclist_bev/moderate_R40': 0.0009104980424292088, 'Cyclist_bev/hard_R40': 0.0009104980424292088, 'Cyclist_image/easy_R40': 0.009099564944112173, 'Cyclist_image/moderate_R40': 0.002714440825190011, 'Cyclist_image/hard_R40': 0.0031662746517097883}\n",
      "file: I-V_data_0.7um_length_200nm_diameter_BT_4V_NA_third_etch_10min_Pb_ED_1h_180C_MAI_no_100nm_Ag_memory_1V_probe_no_wait.xlsx, sigma: 0.5089266393042919, usability: 0.10869917826173603, evaluate-0\n"
     ]
    },
    {
     "name": "stderr",
     "output_type": "stream",
     "text": [
      "eval: 100%|█████████▉| 471/472 [03:41<00:00,  8.47it/s]2023-07-28 01:40:34,371   INFO  Average predicted number of objects(3769 samples): 269.638\n",
      "eval: 100%|██████████| 472/472 [04:52<00:00,  1.61it/s]\n"
     ]
    },
    {
     "name": "stdout",
     "output_type": "stream",
     "text": [
      "{'recall/roi_0.3': 0.0, 'recall/rcnn_0.3': 0.0, 'recall/roi_0.5': 0.0, 'recall/rcnn_0.5': 0.0, 'recall/roi_0.7': 0.0, 'recall/rcnn_0.7': 0.0, 'Car_aos/easy_R40': 0.0, 'Car_aos/moderate_R40': 0.0, 'Car_aos/hard_R40': 0.0, 'Car_3d/easy_R40': 0.0, 'Car_3d/moderate_R40': 0.0, 'Car_3d/hard_R40': 0.0, 'Car_bev/easy_R40': 0.0, 'Car_bev/moderate_R40': 0.0, 'Car_bev/hard_R40': 0.0, 'Car_image/easy_R40': 0.0, 'Car_image/moderate_R40': 0.0, 'Car_image/hard_R40': 0.0, 'Pedestrian_aos/easy_R40': 0.0, 'Pedestrian_aos/moderate_R40': 0.0, 'Pedestrian_aos/hard_R40': 0.0, 'Pedestrian_3d/easy_R40': 0.0, 'Pedestrian_3d/moderate_R40': 0.0, 'Pedestrian_3d/hard_R40': 0.0, 'Pedestrian_bev/easy_R40': 0.0, 'Pedestrian_bev/moderate_R40': 0.0, 'Pedestrian_bev/hard_R40': 0.0, 'Pedestrian_image/easy_R40': 0.0, 'Pedestrian_image/moderate_R40': 0.0, 'Pedestrian_image/hard_R40': 0.0, 'Cyclist_aos/easy_R40': 0.0, 'Cyclist_aos/moderate_R40': 0.0, 'Cyclist_aos/hard_R40': 0.0, 'Cyclist_3d/easy_R40': 0.0, 'Cyclist_3d/moderate_R40': 0.0, 'Cyclist_3d/hard_R40': 0.0, 'Cyclist_bev/easy_R40': 0.0, 'Cyclist_bev/moderate_R40': 0.0, 'Cyclist_bev/hard_R40': 0.0, 'Cyclist_image/easy_R40': 0.0, 'Cyclist_image/moderate_R40': 0.0, 'Cyclist_image/hard_R40': 0.0}\n",
      "file: I-V_data_0.7um_length_200nm_diameter_BT_4V_NA_third_etch_10min_Pb_ED_1h_180C_MAI_no_100nm_Ag_memory_1V_probe_no_wait.xlsx, sigma: 0.5089266393042919, usability: 0.10869917826173603, evaluate-2\n"
     ]
    },
    {
     "name": "stderr",
     "output_type": "stream",
     "text": [
      "eval: 100%|██████████| 472/472 [03:50<00:00, 11.41it/s]2023-07-28 01:45:36,887   INFO  Average predicted number of objects(3769 samples): 398.192\n",
      "eval: 100%|██████████| 472/472 [05:35<00:00,  1.41it/s]\n"
     ]
    },
    {
     "name": "stdout",
     "output_type": "stream",
     "text": [
      "{'recall/roi_0.3': 0.0, 'recall/rcnn_0.3': 0.0, 'recall/roi_0.5': 0.0, 'recall/rcnn_0.5': 0.0, 'recall/roi_0.7': 0.0, 'recall/rcnn_0.7': 0.0, 'Car_aos/easy_R40': 8.428676619058327e-05, 'Car_aos/moderate_R40': 8.44081662775723e-05, 'Car_aos/hard_R40': 0.00010686586487795825, 'Car_3d/easy_R40': 0.0, 'Car_3d/moderate_R40': 0.0, 'Car_3d/hard_R40': 0.0, 'Car_bev/easy_R40': 0.0, 'Car_bev/moderate_R40': 0.0, 'Car_bev/hard_R40': 0.0, 'Car_image/easy_R40': 0.0001661753415734146, 'Car_image/moderate_R40': 0.00018213641573303242, 'Car_image/hard_R40': 0.0002265559060015104, 'Pedestrian_aos/easy_R40': 0.0, 'Pedestrian_aos/moderate_R40': 0.0, 'Pedestrian_aos/hard_R40': 0.0, 'Pedestrian_3d/easy_R40': 0.0, 'Pedestrian_3d/moderate_R40': 0.0, 'Pedestrian_3d/hard_R40': 0.0, 'Pedestrian_bev/easy_R40': 0.0, 'Pedestrian_bev/moderate_R40': 0.0, 'Pedestrian_bev/hard_R40': 0.0, 'Pedestrian_image/easy_R40': 0.0, 'Pedestrian_image/moderate_R40': 0.0, 'Pedestrian_image/hard_R40': 0.0, 'Cyclist_aos/easy_R40': 7.374088951621498e-05, 'Cyclist_aos/moderate_R40': 4.353447653572007e-05, 'Cyclist_aos/hard_R40': 6.141135470954209e-05, 'Cyclist_3d/easy_R40': 0.0, 'Cyclist_3d/moderate_R40': 0.0, 'Cyclist_3d/hard_R40': 0.0, 'Cyclist_bev/easy_R40': 0.0, 'Cyclist_bev/moderate_R40': 0.0, 'Cyclist_bev/hard_R40': 0.0, 'Cyclist_image/easy_R40': 0.00011520870056106636, 'Cyclist_image/moderate_R40': 7.681057896742003e-05, 'Cyclist_image/hard_R40': 9.985283228718289e-05}\n",
      "file: I-V_data_0.7um_length_200nm_diameter_BT_4V_NA_third_etch_10min_Pb_ED_1h_180C_MAI_no_100nm_Ag_memory_1V_probe_no_wait.xlsx, sigma: 0.5089266393042919, usability: 0.10869917826173603, evaluate-3\n"
     ]
    },
    {
     "name": "stderr",
     "output_type": "stream",
     "text": [
      "eval: 100%|██████████| 472/472 [03:52<00:00, 10.73it/s]2023-07-28 01:51:15,717   INFO  Average predicted number of objects(3769 samples): 455.763\n",
      "eval: 100%|██████████| 472/472 [05:51<00:00,  1.34it/s]\n"
     ]
    },
    {
     "name": "stdout",
     "output_type": "stream",
     "text": [
      "{'recall/roi_0.3': 0.0, 'recall/rcnn_0.3': 0.0, 'recall/roi_0.5': 0.0, 'recall/rcnn_0.5': 0.0, 'recall/roi_0.7': 0.0, 'recall/rcnn_0.7': 0.0, 'Car_aos/easy_R40': 0.0, 'Car_aos/moderate_R40': 8.056529232304425e-06, 'Car_aos/hard_R40': 8.27748321008597e-06, 'Car_3d/easy_R40': 0.0, 'Car_3d/moderate_R40': 0.0, 'Car_3d/hard_R40': 0.0, 'Car_bev/easy_R40': 0.0, 'Car_bev/moderate_R40': 0.0, 'Car_bev/hard_R40': 0.0, 'Car_image/easy_R40': 0.0, 'Car_image/moderate_R40': 1.2223803167431876e-05, 'Car_image/hard_R40': 1.6298377659487774e-05, 'Pedestrian_aos/easy_R40': 0.0, 'Pedestrian_aos/moderate_R40': 0.0, 'Pedestrian_aos/hard_R40': 0.0, 'Pedestrian_3d/easy_R40': 0.0, 'Pedestrian_3d/moderate_R40': 0.0, 'Pedestrian_3d/hard_R40': 0.0, 'Pedestrian_bev/easy_R40': 0.0, 'Pedestrian_bev/moderate_R40': 0.0, 'Pedestrian_bev/hard_R40': 0.0, 'Pedestrian_image/easy_R40': 0.0, 'Pedestrian_image/moderate_R40': 0.0, 'Pedestrian_image/hard_R40': 0.0, 'Cyclist_aos/easy_R40': 0.0, 'Cyclist_aos/moderate_R40': 0.00014344129473195324, 'Cyclist_aos/hard_R40': 0.00013212417754338853, 'Cyclist_3d/easy_R40': 0.0, 'Cyclist_3d/moderate_R40': 0.0, 'Cyclist_3d/hard_R40': 0.0, 'Cyclist_bev/easy_R40': 0.0, 'Cyclist_bev/moderate_R40': 0.0, 'Cyclist_bev/hard_R40': 0.0, 'Cyclist_image/easy_R40': 0.0, 'Cyclist_image/moderate_R40': 0.0005036261079774376, 'Cyclist_image/hard_R40': 0.0006947017413856984}\n",
      "file: I-V_data_0.7um_length_200nm_diameter_BT_4V_NA_third_etch_10min_Pb_ED_1h_180C_MAI_no_100nm_Ag_memory_1V_probe_no_wait.xlsx, sigma: 0.5089266393042919, usability: 0.10869917826173603, evaluate-4\n"
     ]
    },
    {
     "name": "stderr",
     "output_type": "stream",
     "text": [
      "eval: 100%|██████████| 472/472 [03:52<00:00, 11.12it/s]2023-07-28 01:57:08,364   INFO  Average predicted number of objects(3769 samples): 465.272\n",
      "eval: 100%|██████████| 472/472 [05:53<00:00,  1.33it/s]\n"
     ]
    },
    {
     "name": "stdout",
     "output_type": "stream",
     "text": [
      "{'recall/roi_0.3': 0.0, 'recall/rcnn_0.3': 0.0, 'recall/roi_0.5': 0.0, 'recall/rcnn_0.5': 0.0, 'recall/roi_0.7': 0.0, 'recall/rcnn_0.7': 0.0, 'Car_aos/easy_R40': 0.0, 'Car_aos/moderate_R40': 0.0, 'Car_aos/hard_R40': 0.0, 'Car_3d/easy_R40': 0.0, 'Car_3d/moderate_R40': 0.0, 'Car_3d/hard_R40': 0.0, 'Car_bev/easy_R40': 0.0, 'Car_bev/moderate_R40': 0.0, 'Car_bev/hard_R40': 0.0, 'Car_image/easy_R40': 0.0, 'Car_image/moderate_R40': 0.0, 'Car_image/hard_R40': 0.0, 'Pedestrian_aos/easy_R40': 0.0, 'Pedestrian_aos/moderate_R40': 1.7937432574910812e-05, 'Pedestrian_aos/hard_R40': 5.347878077705231e-05, 'Pedestrian_3d/easy_R40': 0.0, 'Pedestrian_3d/moderate_R40': 0.0, 'Pedestrian_3d/hard_R40': 0.0, 'Pedestrian_bev/easy_R40': 0.0, 'Pedestrian_bev/moderate_R40': 0.0, 'Pedestrian_bev/hard_R40': 0.0, 'Pedestrian_image/easy_R40': 0.0, 'Pedestrian_image/moderate_R40': 3.3436496069205526e-05, 'Pedestrian_image/hard_R40': 0.00010699363922814788, 'Cyclist_aos/easy_R40': 0.00014536793135383217, 'Cyclist_aos/moderate_R40': 0.00044724117236899204, 'Cyclist_aos/hard_R40': 0.00044769204756807044, 'Cyclist_3d/easy_R40': 0.0, 'Cyclist_3d/moderate_R40': 0.0, 'Cyclist_3d/hard_R40': 0.0, 'Cyclist_bev/easy_R40': 0.0, 'Cyclist_bev/moderate_R40': 0.0, 'Cyclist_bev/hard_R40': 0.0, 'Cyclist_image/easy_R40': 0.00032628083353876945, 'Cyclist_image/moderate_R40': 0.0011091754600850426, 'Cyclist_image/hard_R40': 0.0012201687762716923}\n",
      "file: I-V_data_0.7um_length_200nm_diameter_BT_4V_NA_third_etch_10min_Pb_ED_1h_180C_MAI_no_100nm_Ag_memory_1V_probe_no_wait.xlsx, sigma: 0.5089266393042919, usability: 0.10869917826173603, evaluate-5\n"
     ]
    },
    {
     "name": "stderr",
     "output_type": "stream",
     "text": [
      "eval: 100%|█████████▉| 471/472 [03:51<00:00, 10.50it/s]2023-07-28 02:03:01,473   INFO  Average predicted number of objects(3769 samples): 471.811\n",
      "eval: 100%|██████████| 472/472 [05:55<00:00,  1.33it/s]\n"
     ]
    },
    {
     "name": "stdout",
     "output_type": "stream",
     "text": [
      "{'recall/roi_0.3': 0.0, 'recall/rcnn_0.3': 0.0, 'recall/roi_0.5': 0.0, 'recall/rcnn_0.5': 0.0, 'recall/roi_0.7': 0.0, 'recall/rcnn_0.7': 0.0, 'Car_aos/easy_R40': 0.0, 'Car_aos/moderate_R40': 0.0, 'Car_aos/hard_R40': 0.0, 'Car_3d/easy_R40': 0.0, 'Car_3d/moderate_R40': 0.0, 'Car_3d/hard_R40': 0.0, 'Car_bev/easy_R40': 0.0, 'Car_bev/moderate_R40': 0.0, 'Car_bev/hard_R40': 0.0, 'Car_image/easy_R40': 0.0, 'Car_image/moderate_R40': 0.0, 'Car_image/hard_R40': 0.0, 'Pedestrian_aos/easy_R40': 3.132872101715452e-05, 'Pedestrian_aos/moderate_R40': 5.9162257285354006e-05, 'Pedestrian_aos/hard_R40': 0.00010908753262060036, 'Pedestrian_3d/easy_R40': 0.0, 'Pedestrian_3d/moderate_R40': 0.0, 'Pedestrian_3d/hard_R40': 0.0, 'Pedestrian_bev/easy_R40': 0.0004717215353294602, 'Pedestrian_bev/moderate_R40': 0.00041022387284153866, 'Pedestrian_bev/hard_R40': 0.0005606055633949179, 'Pedestrian_image/easy_R40': 7.233691642192677e-05, 'Pedestrian_image/moderate_R40': 0.00012816569260740284, 'Pedestrian_image/hard_R40': 0.0002563182447326601, 'Cyclist_aos/easy_R40': 5.60877796358907e-05, 'Cyclist_aos/moderate_R40': 0.0007232678596140701, 'Cyclist_aos/hard_R40': 0.0007266709446171731, 'Cyclist_3d/easy_R40': 0.0, 'Cyclist_3d/moderate_R40': 0.0, 'Cyclist_3d/hard_R40': 0.0, 'Cyclist_bev/easy_R40': 0.015548011787726447, 'Cyclist_bev/moderate_R40': 0.009486345838584901, 'Cyclist_bev/hard_R40': 0.00922187095751354, 'Cyclist_image/easy_R40': 0.00018063484712704057, 'Cyclist_image/moderate_R40': 0.0013577634019102704, 'Cyclist_image/hard_R40': 0.0014321504933715635}\n",
      "file: I-V_data_0.7um_length_200nm_diameter_BT_4V_NA_third_etch_10min_Pb_ED_1h_180C_MAI_no_100nm_Ag_memory_1V_probe_no_wait.xlsx, sigma: 0.5089266393042919, usability: 0.10869917826173603, evaluate-6\n"
     ]
    },
    {
     "name": "stderr",
     "output_type": "stream",
     "text": [
      "eval: 100%|█████████▉| 471/472 [03:22<00:00, 13.70it/s]2023-07-28 03:20:58,324   INFO  Average predicted number of objects(3769 samples): 0.001\n",
      "eval: 100%|██████████| 472/472 [03:27<00:00,  2.27it/s]\n"
     ]
    },
    {
     "name": "stdout",
     "output_type": "stream",
     "text": [
      "{'recall/roi_0.3': 0.0, 'recall/rcnn_0.3': 0.0, 'recall/roi_0.5': 0.0, 'recall/rcnn_0.5': 0.0, 'recall/roi_0.7': 0.0, 'recall/rcnn_0.7': 0.0, 'Car_aos/easy_R40': 0.0, 'Car_aos/moderate_R40': 0.0, 'Car_aos/hard_R40': 0.0, 'Car_3d/easy_R40': 0.0, 'Car_3d/moderate_R40': 0.0, 'Car_3d/hard_R40': 0.0, 'Car_bev/easy_R40': 0.0, 'Car_bev/moderate_R40': 0.0, 'Car_bev/hard_R40': 0.0, 'Car_image/easy_R40': 0.0, 'Car_image/moderate_R40': 0.0, 'Car_image/hard_R40': 0.0, 'Pedestrian_aos/easy_R40': 0.0, 'Pedestrian_aos/moderate_R40': 0.0, 'Pedestrian_aos/hard_R40': 0.0, 'Pedestrian_3d/easy_R40': 0.0, 'Pedestrian_3d/moderate_R40': 0.0, 'Pedestrian_3d/hard_R40': 0.0, 'Pedestrian_bev/easy_R40': 0.0, 'Pedestrian_bev/moderate_R40': 0.0, 'Pedestrian_bev/hard_R40': 0.0, 'Pedestrian_image/easy_R40': 0.0, 'Pedestrian_image/moderate_R40': 0.0, 'Pedestrian_image/hard_R40': 0.0, 'Cyclist_aos/easy_R40': 0.0, 'Cyclist_aos/moderate_R40': 0.0, 'Cyclist_aos/hard_R40': 0.0, 'Cyclist_3d/easy_R40': 0.0, 'Cyclist_3d/moderate_R40': 0.0, 'Cyclist_3d/hard_R40': 0.0, 'Cyclist_bev/easy_R40': 0.0, 'Cyclist_bev/moderate_R40': 0.0, 'Cyclist_bev/hard_R40': 0.0, 'Cyclist_image/easy_R40': 0.0, 'Cyclist_image/moderate_R40': 0.0, 'Cyclist_image/hard_R40': 0.0}\n",
      "file: I-V_data_3um_length_50nm_diameter_BT_4V_NA_third_etch_20min_Pb_ED_3h_180C_MAI_no_200nm_Ag_memory_6V_carbon_paste_no_wait.xlsx, sigma: 0.5869547144763468, usability: -0.11764339366227913, evaluate-5\n"
     ]
    },
    {
     "name": "stderr",
     "output_type": "stream",
     "text": [
      "eval: 100%|█████████▉| 471/472 [03:24<00:00, 13.18it/s]2023-07-28 03:24:28,783   INFO  Average predicted number of objects(3769 samples): 1.258\n",
      "eval: 100%|██████████| 472/472 [03:30<00:00,  2.24it/s]\n"
     ]
    },
    {
     "name": "stdout",
     "output_type": "stream",
     "text": [
      "{'recall/roi_0.3': 0.0, 'recall/rcnn_0.3': 0.0, 'recall/roi_0.5': 0.0, 'recall/rcnn_0.5': 0.0, 'recall/roi_0.7': 0.0, 'recall/rcnn_0.7': 0.0, 'Car_aos/easy_R40': 0.0, 'Car_aos/moderate_R40': 0.0, 'Car_aos/hard_R40': 0.0, 'Car_3d/easy_R40': 0.0, 'Car_3d/moderate_R40': 0.0, 'Car_3d/hard_R40': 0.0, 'Car_bev/easy_R40': 0.0, 'Car_bev/moderate_R40': 0.0, 'Car_bev/hard_R40': 0.0, 'Car_image/easy_R40': 0.0, 'Car_image/moderate_R40': 0.0, 'Car_image/hard_R40': 0.0, 'Pedestrian_aos/easy_R40': 0.0, 'Pedestrian_aos/moderate_R40': 0.0, 'Pedestrian_aos/hard_R40': 0.0, 'Pedestrian_3d/easy_R40': 0.0, 'Pedestrian_3d/moderate_R40': 0.0, 'Pedestrian_3d/hard_R40': 0.0, 'Pedestrian_bev/easy_R40': 0.0, 'Pedestrian_bev/moderate_R40': 0.0, 'Pedestrian_bev/hard_R40': 0.0, 'Pedestrian_image/easy_R40': 0.0, 'Pedestrian_image/moderate_R40': 0.0, 'Pedestrian_image/hard_R40': 0.0, 'Cyclist_aos/easy_R40': 0.0, 'Cyclist_aos/moderate_R40': 0.0, 'Cyclist_aos/hard_R40': 0.0, 'Cyclist_3d/easy_R40': 0.0, 'Cyclist_3d/moderate_R40': 0.0, 'Cyclist_3d/hard_R40': 0.0, 'Cyclist_bev/easy_R40': 0.0, 'Cyclist_bev/moderate_R40': 0.0, 'Cyclist_bev/hard_R40': 0.0, 'Cyclist_image/easy_R40': 0.0, 'Cyclist_image/moderate_R40': 0.0, 'Cyclist_image/hard_R40': 0.0}\n",
      "file: I-V_data_3um_length_50nm_diameter_BT_4V_NA_third_etch_20min_Pb_ED_3h_180C_MAI_no_200nm_Ag_memory_6V_carbon_paste_no_wait.xlsx, sigma: 0.5869547144763468, usability: -0.11764339366227913, evaluate-6\n"
     ]
    },
    {
     "name": "stderr",
     "output_type": "stream",
     "text": [
      "eval: 100%|█████████▉| 471/472 [03:21<00:00, 13.14it/s]2023-07-28 03:27:57,458   INFO  Average predicted number of objects(3769 samples): 0.068\n",
      "eval: 100%|██████████| 472/472 [03:27<00:00,  2.28it/s]\n"
     ]
    },
    {
     "name": "stdout",
     "output_type": "stream",
     "text": [
      "{'recall/roi_0.3': 0.0, 'recall/rcnn_0.3': 0.0, 'recall/roi_0.5': 0.0, 'recall/rcnn_0.5': 0.0, 'recall/roi_0.7': 0.0, 'recall/rcnn_0.7': 0.0, 'Car_aos/easy_R40': 0.0, 'Car_aos/moderate_R40': 0.0, 'Car_aos/hard_R40': 0.0, 'Car_3d/easy_R40': 0.0, 'Car_3d/moderate_R40': 0.0, 'Car_3d/hard_R40': 0.0, 'Car_bev/easy_R40': 0.0, 'Car_bev/moderate_R40': 0.0, 'Car_bev/hard_R40': 0.0, 'Car_image/easy_R40': 0.0, 'Car_image/moderate_R40': 0.0, 'Car_image/hard_R40': 0.0, 'Pedestrian_aos/easy_R40': 0.0, 'Pedestrian_aos/moderate_R40': 0.0, 'Pedestrian_aos/hard_R40': 0.0, 'Pedestrian_3d/easy_R40': 0.0, 'Pedestrian_3d/moderate_R40': 0.0, 'Pedestrian_3d/hard_R40': 0.0, 'Pedestrian_bev/easy_R40': 0.0, 'Pedestrian_bev/moderate_R40': 0.0, 'Pedestrian_bev/hard_R40': 0.0, 'Pedestrian_image/easy_R40': 0.0, 'Pedestrian_image/moderate_R40': 0.0, 'Pedestrian_image/hard_R40': 0.0, 'Cyclist_aos/easy_R40': 0.0, 'Cyclist_aos/moderate_R40': 0.0, 'Cyclist_aos/hard_R40': 0.0, 'Cyclist_3d/easy_R40': 0.0, 'Cyclist_3d/moderate_R40': 0.0, 'Cyclist_3d/hard_R40': 0.0, 'Cyclist_bev/easy_R40': 0.0, 'Cyclist_bev/moderate_R40': 0.0, 'Cyclist_bev/hard_R40': 0.0, 'Cyclist_image/easy_R40': 0.0, 'Cyclist_image/moderate_R40': 0.0, 'Cyclist_image/hard_R40': 0.0}\n",
      "file: I-V_data_3um_length_50nm_diameter_BT_4V_NA_third_etch_20min_Pb_ED_3h_180C_MAI_no_200nm_Ag_memory_6V_carbon_paste_no_wait.xlsx, sigma: 0.5869547144763468, usability: -0.11764339366227913, evaluate-7\n"
     ]
    },
    {
     "name": "stderr",
     "output_type": "stream",
     "text": [
      "eval: 100%|█████████▉| 471/472 [03:20<00:00, 15.91it/s]2023-07-28 03:31:23,721   INFO  Average predicted number of objects(3769 samples): 0.195\n",
      "eval: 100%|██████████| 472/472 [03:25<00:00,  2.30it/s]\n"
     ]
    },
    {
     "name": "stdout",
     "output_type": "stream",
     "text": [
      "{'recall/roi_0.3': 0.0, 'recall/rcnn_0.3': 0.0, 'recall/roi_0.5': 0.0, 'recall/rcnn_0.5': 0.0, 'recall/roi_0.7': 0.0, 'recall/rcnn_0.7': 0.0, 'Car_aos/easy_R40': 0.0, 'Car_aos/moderate_R40': 0.011452641278060699, 'Car_aos/hard_R40': 0.024747186364259946, 'Car_3d/easy_R40': 0.0, 'Car_3d/moderate_R40': 0.0, 'Car_3d/hard_R40': 0.0, 'Car_bev/easy_R40': 0.0, 'Car_bev/moderate_R40': 0.0, 'Car_bev/hard_R40': 0.0, 'Car_image/easy_R40': 0.0, 'Car_image/moderate_R40': 0.017162471395881007, 'Car_image/hard_R40': 0.03409090909090909, 'Pedestrian_aos/easy_R40': 0.0, 'Pedestrian_aos/moderate_R40': 0.0, 'Pedestrian_aos/hard_R40': 0.0, 'Pedestrian_3d/easy_R40': 0.0, 'Pedestrian_3d/moderate_R40': 0.0, 'Pedestrian_3d/hard_R40': 0.0, 'Pedestrian_bev/easy_R40': 0.0, 'Pedestrian_bev/moderate_R40': 0.0, 'Pedestrian_bev/hard_R40': 0.0, 'Pedestrian_image/easy_R40': 0.0, 'Pedestrian_image/moderate_R40': 0.0, 'Pedestrian_image/hard_R40': 0.0, 'Cyclist_aos/easy_R40': 0.0, 'Cyclist_aos/moderate_R40': 0.0, 'Cyclist_aos/hard_R40': 0.0, 'Cyclist_3d/easy_R40': 0.0, 'Cyclist_3d/moderate_R40': 0.0, 'Cyclist_3d/hard_R40': 0.0, 'Cyclist_bev/easy_R40': 0.0, 'Cyclist_bev/moderate_R40': 0.0, 'Cyclist_bev/hard_R40': 0.0, 'Cyclist_image/easy_R40': 0.0, 'Cyclist_image/moderate_R40': 0.0, 'Cyclist_image/hard_R40': 0.0}\n",
      "file: I-V_data_3um_length_50nm_diameter_BT_4V_NA_third_etch_20min_Pb_ED_3h_180C_MAI_no_200nm_Ag_memory_6V_carbon_paste_no_wait.xlsx, sigma: 0.5869547144763468, usability: -0.11764339366227913, evaluate-8\n"
     ]
    },
    {
     "name": "stderr",
     "output_type": "stream",
     "text": [
      "eval: 100%|█████████▉| 471/472 [03:19<00:00, 13.73it/s]2023-07-28 03:34:49,432   INFO  Average predicted number of objects(3769 samples): 21.860\n",
      "eval: 100%|██████████| 472/472 [03:30<00:00,  2.24it/s]\n"
     ]
    },
    {
     "name": "stdout",
     "output_type": "stream",
     "text": [
      "{'recall/roi_0.3': 0.0, 'recall/rcnn_0.3': 0.0, 'recall/roi_0.5': 0.0, 'recall/rcnn_0.5': 0.0, 'recall/roi_0.7': 0.0, 'recall/rcnn_0.7': 0.0, 'Car_aos/easy_R40': 0.0018155579790832788, 'Car_aos/moderate_R40': 0.0003194287924513638, 'Car_aos/hard_R40': 0.00047872004503907677, 'Car_3d/easy_R40': 0.0, 'Car_3d/moderate_R40': 0.0, 'Car_3d/hard_R40': 0.0, 'Car_bev/easy_R40': 0.0, 'Car_bev/moderate_R40': 0.0, 'Car_bev/hard_R40': 0.0, 'Car_image/easy_R40': 0.003292939936775553, 'Car_image/moderate_R40': 0.0007684918347742555, 'Car_image/hard_R40': 0.0012005609020534394, 'Pedestrian_aos/easy_R40': 0.0, 'Pedestrian_aos/moderate_R40': 0.0, 'Pedestrian_aos/hard_R40': 0.0, 'Pedestrian_3d/easy_R40': 0.0, 'Pedestrian_3d/moderate_R40': 0.0, 'Pedestrian_3d/hard_R40': 0.0, 'Pedestrian_bev/easy_R40': 0.0, 'Pedestrian_bev/moderate_R40': 0.0, 'Pedestrian_bev/hard_R40': 0.0, 'Pedestrian_image/easy_R40': 0.0, 'Pedestrian_image/moderate_R40': 0.0, 'Pedestrian_image/hard_R40': 0.0, 'Cyclist_aos/easy_R40': 0.0, 'Cyclist_aos/moderate_R40': 0.0, 'Cyclist_aos/hard_R40': 0.0, 'Cyclist_3d/easy_R40': 0.0, 'Cyclist_3d/moderate_R40': 0.0, 'Cyclist_3d/hard_R40': 0.0, 'Cyclist_bev/easy_R40': 0.0, 'Cyclist_bev/moderate_R40': 0.0, 'Cyclist_bev/hard_R40': 0.0, 'Cyclist_image/easy_R40': 0.0, 'Cyclist_image/moderate_R40': 0.0, 'Cyclist_image/hard_R40': 0.0}\n",
      "file: I-V_data_3um_length_50nm_diameter_BT_4V_NA_third_etch_20min_Pb_ED_3h_180C_MAI_no_200nm_Ag_memory_6V_carbon_paste_no_wait.xlsx, sigma: 0.5869547144763468, usability: -0.11764339366227913, evaluate-9\n"
     ]
    },
    {
     "name": "stderr",
     "output_type": "stream",
     "text": [
      "eval: 100%|█████████▉| 471/472 [04:01<00:00,  8.49it/s]2023-07-28 04:40:55,265   INFO  Average predicted number of objects(3769 samples): 478.841\n",
      "eval: 100%|██████████| 472/472 [06:10<00:00,  1.27it/s]\n"
     ]
    },
    {
     "name": "stdout",
     "output_type": "stream",
     "text": [
      "{'recall/roi_0.3': 0.0, 'recall/rcnn_0.3': 0.0, 'recall/roi_0.5': 0.0, 'recall/rcnn_0.5': 0.0, 'recall/roi_0.7': 0.0, 'recall/rcnn_0.7': 0.0, 'Car_aos/easy_R40': 0.006946192410048732, 'Car_aos/moderate_R40': 0.012042690544575503, 'Car_aos/hard_R40': 0.015051684759509817, 'Car_3d/easy_R40': 3.805290876434594e-05, 'Car_3d/moderate_R40': 5.41887518085496e-05, 'Car_3d/hard_R40': 6.773557271007317e-05, 'Car_bev/easy_R40': 0.00014930336804978183, 'Car_bev/moderate_R40': 0.00029598184335170614, 'Car_bev/hard_R40': 0.0004139681360601066, 'Car_image/easy_R40': 0.022003495894489754, 'Car_image/moderate_R40': 0.02881401710914676, 'Car_image/hard_R40': 0.03962106665653632, 'Pedestrian_aos/easy_R40': 0.0, 'Pedestrian_aos/moderate_R40': 0.0, 'Pedestrian_aos/hard_R40': 0.0, 'Pedestrian_3d/easy_R40': 0.0, 'Pedestrian_3d/moderate_R40': 0.0, 'Pedestrian_3d/hard_R40': 0.0, 'Pedestrian_bev/easy_R40': 0.0, 'Pedestrian_bev/moderate_R40': 0.0, 'Pedestrian_bev/hard_R40': 0.0, 'Pedestrian_image/easy_R40': 0.0, 'Pedestrian_image/moderate_R40': 0.0, 'Pedestrian_image/hard_R40': 0.0, 'Cyclist_aos/easy_R40': 0.0, 'Cyclist_aos/moderate_R40': 0.0, 'Cyclist_aos/hard_R40': 0.0, 'Cyclist_3d/easy_R40': 0.0, 'Cyclist_3d/moderate_R40': 0.0, 'Cyclist_3d/hard_R40': 0.0, 'Cyclist_bev/easy_R40': 0.0, 'Cyclist_bev/moderate_R40': 0.0, 'Cyclist_bev/hard_R40': 0.0, 'Cyclist_image/easy_R40': 0.0, 'Cyclist_image/moderate_R40': 0.0, 'Cyclist_image/hard_R40': 0.0}\n",
      "file: I-V_data_2.5um_length_200nm_diameter_BT_4V_NA_third_etch_25min_Pb_ED_1h_180C_MAI_no_100nm_Ag_memory_8V_silver_paste_no_wait.xlsx, sigma: 0.7826797796135713, usability: -0.004586027943969526, evaluate-5\n"
     ]
    },
    {
     "name": "stderr",
     "output_type": "stream",
     "text": [
      "eval: 100%|█████████▉| 471/472 [04:01<00:00,  8.33it/s]2023-07-28 04:47:06,535   INFO  Average predicted number of objects(3769 samples): 464.979\n",
      "eval: 100%|██████████| 472/472 [06:06<00:00,  1.29it/s]\n"
     ]
    },
    {
     "name": "stdout",
     "output_type": "stream",
     "text": [
      "{'recall/roi_0.3': 0.0, 'recall/rcnn_0.3': 0.0, 'recall/roi_0.5': 0.0, 'recall/rcnn_0.5': 0.0, 'recall/roi_0.7': 0.0, 'recall/rcnn_0.7': 0.0, 'Car_aos/easy_R40': 0.015928177759496856, 'Car_aos/moderate_R40': 0.02909437992850864, 'Car_aos/hard_R40': 0.03216940186301237, 'Car_3d/easy_R40': 0.0001067187621628001, 'Car_3d/moderate_R40': 0.00012675328413670381, 'Car_3d/hard_R40': 0.0001390190488807331, 'Car_bev/easy_R40': 0.002787626422034292, 'Car_bev/moderate_R40': 0.0024093706973379596, 'Car_bev/hard_R40': 0.0011974418731575077, 'Car_image/easy_R40': 0.04076246489252411, 'Car_image/moderate_R40': 0.07130635304974149, 'Car_image/hard_R40': 0.07377689827825186, 'Pedestrian_aos/easy_R40': 0.0, 'Pedestrian_aos/moderate_R40': 0.0, 'Pedestrian_aos/hard_R40': 0.0, 'Pedestrian_3d/easy_R40': 0.0, 'Pedestrian_3d/moderate_R40': 0.0, 'Pedestrian_3d/hard_R40': 0.0, 'Pedestrian_bev/easy_R40': 0.0, 'Pedestrian_bev/moderate_R40': 0.0, 'Pedestrian_bev/hard_R40': 0.0, 'Pedestrian_image/easy_R40': 0.0, 'Pedestrian_image/moderate_R40': 0.0, 'Pedestrian_image/hard_R40': 0.0, 'Cyclist_aos/easy_R40': 0.0, 'Cyclist_aos/moderate_R40': 0.0, 'Cyclist_aos/hard_R40': 0.0, 'Cyclist_3d/easy_R40': 0.0, 'Cyclist_3d/moderate_R40': 0.0, 'Cyclist_3d/hard_R40': 0.0, 'Cyclist_bev/easy_R40': 0.0, 'Cyclist_bev/moderate_R40': 0.0, 'Cyclist_bev/hard_R40': 0.0, 'Cyclist_image/easy_R40': 0.0, 'Cyclist_image/moderate_R40': 0.0, 'Cyclist_image/hard_R40': 0.0}\n",
      "file: I-V_data_2.5um_length_200nm_diameter_BT_4V_NA_third_etch_25min_Pb_ED_1h_180C_MAI_no_100nm_Ag_memory_8V_silver_paste_no_wait.xlsx, sigma: 0.7826797796135713, usability: -0.004586027943969526, evaluate-6\n"
     ]
    },
    {
     "name": "stderr",
     "output_type": "stream",
     "text": [
      "eval: 100%|█████████▉| 471/472 [04:03<00:00,  9.24it/s]2023-07-28 04:53:16,475   INFO  Average predicted number of objects(3769 samples): 500.000\n",
      "eval: 100%|██████████| 472/472 [06:17<00:00,  1.25it/s]\n"
     ]
    },
    {
     "name": "stdout",
     "output_type": "stream",
     "text": [
      "{'recall/roi_0.3': 0.0, 'recall/rcnn_0.3': 0.0, 'recall/roi_0.5': 0.0, 'recall/rcnn_0.5': 0.0, 'recall/roi_0.7': 0.0, 'recall/rcnn_0.7': 0.0, 'Car_aos/easy_R40': 0.0031581310553270405, 'Car_aos/moderate_R40': 0.008853658305507685, 'Car_aos/hard_R40': 0.011349530703813011, 'Car_3d/easy_R40': 9.646313529743969e-05, 'Car_3d/moderate_R40': 8.910142376327223e-05, 'Car_3d/hard_R40': 0.00012783919224225294, 'Car_bev/easy_R40': 0.00032556421034779347, 'Car_bev/moderate_R40': 0.0003842541200580651, 'Car_bev/hard_R40': 0.0005451459677588852, 'Car_image/easy_R40': 0.0069707446568180904, 'Car_image/moderate_R40': 0.01768206142140513, 'Car_image/hard_R40': 0.024617722180212173, 'Pedestrian_aos/easy_R40': 0.0, 'Pedestrian_aos/moderate_R40': 0.0, 'Pedestrian_aos/hard_R40': 0.0, 'Pedestrian_3d/easy_R40': 0.0, 'Pedestrian_3d/moderate_R40': 0.0, 'Pedestrian_3d/hard_R40': 0.0, 'Pedestrian_bev/easy_R40': 0.0, 'Pedestrian_bev/moderate_R40': 0.0, 'Pedestrian_bev/hard_R40': 0.0, 'Pedestrian_image/easy_R40': 0.0, 'Pedestrian_image/moderate_R40': 0.0, 'Pedestrian_image/hard_R40': 0.0, 'Cyclist_aos/easy_R40': 0.0, 'Cyclist_aos/moderate_R40': 0.0, 'Cyclist_aos/hard_R40': 0.0, 'Cyclist_3d/easy_R40': 0.0, 'Cyclist_3d/moderate_R40': 0.0, 'Cyclist_3d/hard_R40': 0.0, 'Cyclist_bev/easy_R40': 0.0, 'Cyclist_bev/moderate_R40': 0.0, 'Cyclist_bev/hard_R40': 0.0, 'Cyclist_image/easy_R40': 0.0, 'Cyclist_image/moderate_R40': 0.0, 'Cyclist_image/hard_R40': 0.0}\n",
      "file: I-V_data_2.5um_length_200nm_diameter_BT_4V_NA_third_etch_25min_Pb_ED_1h_180C_MAI_no_100nm_Ag_memory_8V_silver_paste_no_wait.xlsx, sigma: 0.7826797796135713, usability: -0.004586027943969526, evaluate-7\n"
     ]
    },
    {
     "name": "stderr",
     "output_type": "stream",
     "text": [
      "eval:  66%|██████▌   | 311/472 [03:05<01:22,  1.96it/s]"
     ]
    }
   ],
   "source": [
    "import tqdm\n",
    "from torch.nn.utils import clip_grad_norm_\n",
    "from pcdet.models_multinomial_half.detectors.pointpillar import PointPillar\n",
    "\n",
    "import argparse\n",
    "import datetime\n",
    "import glob\n",
    "import os\n",
    "from pathlib import Path\n",
    "from test import repeat_eval_ckpt, eval_single_ckpt\n",
    "# from noise import add_noise_to_weights\n",
    "from hardware_noise.weight_mapping_finalv import weight_mapping as add_noise_to_weights\n",
    "\n",
    "import numba\n",
    "import logging\n",
    "import time\n",
    "\n",
    "from bayes_opt import BayesianOptimization\n",
    "from bayes_opt.logger import JSONLogger\n",
    "from bayes_opt.event import Events\n",
    "\n",
    "import torch\n",
    "import torch.distributed as dist\n",
    "import torch.nn as nn\n",
    "from tensorboardX import SummaryWriter\n",
    "\n",
    "from pcdet.config import cfg, cfg_from_list, cfg_from_yaml_file, log_config_to_file\n",
    "from pcdet.datasets import build_dataloader\n",
    "from pcdet.models_multinomial_half import build_network, model_fn_decorator\n",
    "from pcdet.utils import common_utils\n",
    "from train_utils.optimization import build_optimizer, build_scheduler\n",
    "# from train_utils.train_utils import train_model\n",
    "# from eval_utils import eval_utils_multinomial\n",
    "import numpy as np\n",
    "\n",
    "import matplotlib.pyplot as plt\n",
    "import matplotlib\n",
    "from eval_utils import eval_utils_multinomial_finalv_half as eval_utils\n",
    "\n",
    "import warnings\n",
    "warnings.filterwarnings(\"ignore\")\n",
    "\n",
    "\n",
    "def load_data_to_gpu(batch_dict):\n",
    "    for key, val in batch_dict.items():\n",
    "        if not isinstance(val, np.ndarray):\n",
    "            continue\n",
    "        elif key in ['frame_id', 'metadata', 'calib']:\n",
    "            continue\n",
    "        elif key in ['images']:\n",
    "            batch_dict[key] = image_to_tensor(val).float().cuda().contiguous()\n",
    "        elif key in ['image_shape']:\n",
    "            batch_dict[key] = torch.from_numpy(val).int().cuda()\n",
    "        else:\n",
    "            batch_dict[key] = torch.from_numpy(val).float().cuda()\n",
    "\n",
    "\n",
    "def parse_config():\n",
    "    parser = argparse.ArgumentParser(description='arg parser')\n",
    "    parser.add_argument('--cfg_file', type=str, default='./cfgs/kitti_models/pointpillar_bayes.yaml', help='specify the config for training')\n",
    "    parser.add_argument('--batch_size', type=int, default=8, required=False, help='batch size for training')\n",
    "    parser.add_argument('--workers', type=int, default=32, help='number of workers for dataloader')\n",
    "    parser.add_argument('--extra_tag', type=str, default='default', help='extra tag for this experiment')\n",
    "    parser.add_argument('--pretrained_model', type=str, default=True, help='pretrained_model')\n",
    "    parser.add_argument('--launcher', choices=['none', 'pytorch', 'slurm'], default='none')\n",
    "    parser.add_argument('--tcp_port', type=int, default=18888, help='tcp port for distrbuted training')\n",
    "    parser.add_argument('--sync_bn', action='store_true', default=False, help='whether to use sync bn')\n",
    "    parser.add_argument('--fix_random_seed', action='store_true', default=True, help='')\n",
    "    parser.add_argument('--ckpt_save_interval', type=int, default=80, help='number of training epochs')\n",
    "    parser.add_argument('--local_rank', type=int, default=0, help='local rank for distributed training')\n",
    "    parser.add_argument('--max_ckpt_save_num', type=int, default=81, help='max number of saved checkpoint')\n",
    "    parser.add_argument('--merge_all_iters_to_one_epoch', action='store_true', default=False, help='')\n",
    "    parser.add_argument('--set', dest='set_cfgs', default=None, nargs=argparse.REMAINDER, help='set extra config keys if needed')\n",
    "    parser.add_argument('--max_waiting_mins', type=int, default=0, help='max waiting minutes')\n",
    "    parser.add_argument('--start_epoch', type=int, default=0, help='')\n",
    "    parser.add_argument('--save_to_file', action='store_true', default=False, help='')\n",
    "\n",
    "    parser.add_argument('--epochs', type=int, default=800, required=False, help='number of epochs to train for')\n",
    "    parser.add_argument('--ckpt', type=str, default='checkpoint_epoch_80_multinomial.pth', help='checkpoint to start from')\n",
    "    # sunqiao/OpenPCDet/tools/save_path/0722/ckpt_epoch84.pth\n",
    "    args = parser.parse_known_args()[0]\n",
    "\n",
    "    cfg_from_yaml_file(args.cfg_file, cfg)\n",
    "    cfg.TAG = Path(args.cfg_file).stem\n",
    "    cfg.EXP_GROUP_PATH = '/'.join(args.cfg_file.split('/')[1: -1])  # remove 'cfgs' and 'xxxx.yaml'\n",
    "\n",
    "    if args.set_cfgs is not None:\n",
    "        cfg_from_list(args.set_cfgs, cfg)\n",
    "\n",
    "    return args, cfg\n",
    "\n",
    "\n",
    "\n",
    "\n",
    "if __name__ == '__main__':\n",
    "    torch.cuda.set_device(0)\n",
    "\n",
    "    args, cfg = parse_config()\n",
    "    dist_train = False\n",
    "    total_gpus = 1\n",
    "    os.environ[\"CUDA_DEVICE_ORDER\"] = \"PCI_BUS_ID\"\n",
    "    os.system('nvidia-smi -q -d Memory |grep -A4 GPU|grep Free >tmp')\n",
    "    memory_gpu = [int(x.split()[2]) for x in open('tmp', 'r').readlines()]\n",
    "    print('Using GPU:' + str(np.argmax(memory_gpu)))\n",
    "    os.environ[\"CUDA_VISIBLE_DEVICES\"] = str(np.argmax(memory_gpu))\n",
    "    os.system('rm tmp')\n",
    "\n",
    "\n",
    "    if args.batch_size is None:\n",
    "        args.batch_size = cfg.OPTIMIZATION.BATCH_SIZE_PER_GPU\n",
    "    else:\n",
    "        assert args.batch_size % total_gpus == 0, 'Batch size should match the number of gpus'\n",
    "        args.batch_size = args.batch_size // total_gpus\n",
    "\n",
    "    args.epochs = cfg.OPTIMIZATION.NUM_EPOCHS if args.epochs is None else args.epochs\n",
    "    \n",
    "    common_utils.set_random_seed(666)\n",
    "    save_path = './save_path/logger/'#/bayes/pointpillar/'+time.strftime('%m%d-%H%M',time.localtime(time.time()))+'/'\n",
    "\n",
    "    logger = common_utils.create_logger(save_path+'log.txt', rank=cfg.LOCAL_RANK)\n",
    "    \n",
    "    print(\"=============\")\n",
    "    p1 = 0.5766\n",
    "    p2 = 0.8603\n",
    "    p3 = 0.5753\n",
    "    print(p1, p2, p3)\n",
    "    print(\"=============\")\n",
    "\n",
    "    # train_set, train_loader, train_sampler = build_dataloader(\n",
    "    #     dataset_cfg=cfg.DATA_CONFIG,\n",
    "    #     class_names=cfg.CLASS_NAMES,\n",
    "    #     batch_size=args.batch_size,\n",
    "    #     dist=dist_train, workers=args.workers,\n",
    "    #     logger=logger,\n",
    "    #     training=True,\n",
    "    #     merge_all_iters_to_one_epoch=args.merge_all_iters_to_one_epoch,\n",
    "    #     total_epochs=args.epochs\n",
    "    # )\n",
    "\n",
    "    test_set, test_loader, sampler = build_dataloader(\n",
    "                                    dataset_cfg=cfg.DATA_CONFIG,\n",
    "                                    class_names=cfg.CLASS_NAMES,\n",
    "                                    batch_size=args.batch_size,\n",
    "                                    dist=dist_train, workers=args.workers, logger=logger, training=False\n",
    "    )\n",
    "\n",
    "    model = PointPillar(\n",
    "        model_cfg=cfg.MODEL, num_class=len(cfg.CLASS_NAMES), p1=p1, p2=p2, p3=p3, dataset=test_set\n",
    "    )\n",
    "\n",
    "    model.load_state_dict(torch.load(args.ckpt, map_location=torch.device('cuda:0'))['model_state'])\n",
    "    # torch.load('./checkpoint_epoch_33_multinomial.pth')['model_state']\n",
    "\n",
    "    model.cuda()\n",
    "\n",
    "    # hw_data_files = sorted(os.listdir('./hardware_noise/hardware_data/'))\n",
    "    file2ap_dict = {}\n",
    "    N = 10\n",
    "\n",
    "    f_dir = './hardware_noise/hardware_IV_and_condition_summary/hardware_data/'\n",
    "    file2usability = np.load('./hardware_noise/file2usability.npy', allow_pickle=True).item()\n",
    "    file2sigma = np.load('./hardware_noise/file2sigma.npy', allow_pickle=True).item()\n",
    "\n",
    "    # for f_name in sorted(os.listdir(f_dir)):\n",
    "    for sigma, f_name in sorted(zip(file2sigma.values(), file2sigma.keys())):\n",
    "        if not f_name.endswith('.xlsx'):\n",
    "            continue\n",
    "        # print(f_name)\n",
    "        usability = file2usability[f_name]\n",
    "        # sigma = file2sigma[f_name]\n",
    "        file2ap_dict[f_name] = {}\n",
    "        for n in range(N):\n",
    "            print('file: {}, sigma: {}, usability: {}, evaluate-{}'.format(f_name, sigma, usability, n))\n",
    "            model.load_state_dict(torch.load(args.ckpt, map_location=torch.device('cuda:0'))['model_state'])\n",
    "            add_noise_to_weights(f_dir+f_name, model, noise_sigma=sigma, device='cuda')\n",
    "\n",
    "            acc1, ret_dict = eval_utils.eval_simple(\n",
    "                p1, p2, p3, f_name, usability, sigma, n, cfg, model, test_loader, logger, \n",
    "                save_path=None, dist_test=dist_train,\n",
    "                save_to_file=args.save_to_file, result_dir=None\n",
    "            )\n",
    "            print(ret_dict)\n",
    "            file2ap_dict[f_name][n] = ret_dict\n",
    "\n",
    "    logger.info('**********************End evaluation**********************')    \n",
    "\n"
   ]
  },
  {
   "cell_type": "code",
   "execution_count": null,
   "id": "07ae68e7-2ff1-4fa0-b8a1-93bdff02af3b",
   "metadata": {},
   "outputs": [],
   "source": []
  }
 ],
 "metadata": {
  "kernelspec": {
   "display_name": "Python 3 (ipykernel)",
   "language": "python",
   "name": "python3"
  },
  "language_info": {
   "codemirror_mode": {
    "name": "ipython",
    "version": 3
   },
   "file_extension": ".py",
   "mimetype": "text/x-python",
   "name": "python",
   "nbconvert_exporter": "python",
   "pygments_lexer": "ipython3",
   "version": "3.9.15"
  }
 },
 "nbformat": 4,
 "nbformat_minor": 5
}
