{
 "cells": [
  {
   "cell_type": "code",
   "execution_count": 1,
   "id": "6bd73a5b-759d-4fc8-accb-ec8848e41f10",
   "metadata": {
    "ExecutionIndicator": {
     "show": false
    },
    "execution": {
     "iopub.execute_input": "2023-07-24T02:24:57.503123Z",
     "iopub.status.busy": "2023-07-24T02:24:57.502901Z",
     "iopub.status.idle": "2023-07-24T02:24:58.868213Z",
     "shell.execute_reply": "2023-07-24T02:24:58.867211Z",
     "shell.execute_reply.started": "2023-07-24T02:24:57.503108Z"
    },
    "tags": []
   },
   "outputs": [],
   "source": [
    "from scipy import interpolate\n",
    "import matplotlib.pyplot as plt\n",
    "\n",
    "import pandas as pd\n",
    "import matplotlib.pyplot as plt\n",
    "import numpy as np\n",
    "from pykalman import KalmanFilter\n",
    "\n",
    "import torch\n",
    "import torch.nn as nn\n",
    "import torch.nn.functional as F\n",
    "\n",
    "from scipy.stats import norm\n",
    "# import matplotlib.pyplot as plt\n",
    "\n",
    "\n",
    "def Kalman1D(observations, damping=0):\n",
    "    # To return the smoothed time series data\n",
    "    observation_covariance = damping\n",
    "    initial_value_guess = observations[0]\n",
    "    transition_matrix = 1\n",
    "    transition_covariance = 0.1\n",
    "    initial_value_guess\n",
    "    kf = KalmanFilter(\n",
    "            initial_state_mean=initial_value_guess,\n",
    "            initial_state_covariance=observation_covariance,\n",
    "            observation_covariance=observation_covariance,\n",
    "            transition_covariance=transition_covariance,\n",
    "            transition_matrices=transition_matrix\n",
    "        )\n",
    "    pred_state, state_cov = kf.smooth(observations)\n",
    "    return pred_state\n",
    "\n",
    "def LCIS(arr):\n",
    "    \"\"\"\n",
    "    求最长连续[递增]*子序列\n",
    "    返回最长连续递增子序列的\n",
    "    ---------\n",
    "    *该[递增]序列并不要求始终严格增，而是最多允许两次递减\n",
    "    \"\"\"\n",
    "    decrease_cnt = 0\n",
    "    start_index = 0\n",
    "    end_index = 0\n",
    "    sub_len = 0\n",
    "    longest_start = 0\n",
    "    longest_end = 0\n",
    "    longest_len = 0\n",
    "    decrease_point_0 = -1\n",
    "    decrease_point_1 = -1\n",
    "    for i in range(1, len(arr)):\n",
    "        if arr[i] > arr[i-1]:\n",
    "            end_index += 1\n",
    "        else:\n",
    "            decrease_cnt += 1\n",
    "            if decrease_cnt == 1:\n",
    "                end_index += 1\n",
    "                decrease_point_0 = end_index\n",
    "            elif decrease_cnt == 2:\n",
    "                end_index += 1\n",
    "                decrease_point_1 = end_index\n",
    "            else:\n",
    "                sub_len = end_index - start_index + 1\n",
    "                if longest_len < sub_len:\n",
    "                    longest_len = sub_len\n",
    "                    longest_start = start_index\n",
    "                    longest_end = end_index\n",
    "                start_index = decrease_point_0\n",
    "                decrease_point_0 = decrease_point_1\n",
    "                decrease_point_1 = i\n",
    "                end_index = i\n",
    "                decrease_cnt = 2\n",
    "\n",
    "    sub_len = end_index - start_index + 1\n",
    "    if longest_len < sub_len:\n",
    "        longest_len = sub_len\n",
    "        longest_start = start_index\n",
    "        longest_end = end_index\n",
    "\n",
    "    return longest_start, longest_end\n",
    "\n",
    "\n",
    "def mlesigma(f_name, st_indx, end_indx):\n",
    "    \"\"\"\n",
    "    我们引入 MLE 方法来估计忆阻器电导值与对应电压水平下电导均值的比值的 mu 和 sigma\n",
    "    函数返回 sigma 值，它的值反映了等效噪声水平的强度\n",
    "    '''\n",
    "    关于噪声分布形式设定与转换的说明：\n",
    "    X ~ logNorm(a, b)  # m, v 是对数正态分布本身的均值和方差\n",
    "    # 这说的是 X 是一个值永远为正的随机变量，只有取对数之后才是正态分布\n",
    "    即 logX ~ Norm(mu, sigma)\n",
    "\n",
    "    换算关系：\n",
    "    m = exp(mu + sigma^2/2)  # 注意到 m 是 >0 的\n",
    "    v = exp(2*mu + sigma^2) * exp(sigma^2 - 1)  \n",
    "\n",
    "    因此，一个随机变量 Y 如果服从正态分布，即 Y ~ Norm(mu, sigma)\n",
    "    就一定可以有一个 X = exp(Y), 使得 Y = logX ~ Norm(mu, sigma)\n",
    "\n",
    "    所以，一个正态分布随机变量取指数得到的变量就服从对数正态分布\n",
    "\n",
    "    具体到上面的代码，已知gaussian_kernel 服从正态分布，则 \n",
    "            torch.exp(noise_sigma*gassian_kernel.sample(noise_sigma.size())) \n",
    "    服从对数正态分布，其中我们施加的 mu, sigma 都是对应的正态分布的参数，而非对数正态分布的参数\n",
    "\n",
    "    又由于 (m, v) 和 (mu, sigma) 是一一映射，我们控制谁都一样，\n",
    "    所以，为了方便和统一，今后：\n",
    "    1）需要采样对数正态分布样本，都采取先用 mu, sigma 采样正态分布，再 exp 的方式\n",
    "    2）需要估计对数正态分布参数，都采取先对对数正态分布样本取 log，再用 norm.fit 拟合的方式\n",
    "    '''\n",
    "    \"\"\"\n",
    "    eps = 1e-12\n",
    "    data = pd.read_excel(f_name, engine='openpyxl').iloc[st_indx: end_indx+1, :]\n",
    "    # data = data.iloc[st_indx: end_indx+1, :]\n",
    "    \n",
    "    conductance = data.drop(['voltage'], axis=1).div((data['voltage']+eps), axis=0)\n",
    "    # conductance = conductance[(conductance!=np.inf).all(axis=1)]\n",
    "    \n",
    "    conductance_by_mean = np.array(conductance.div(conductance.mean(axis=1), axis=0)).reshape(1, -1)[0]\n",
    "    samples = np.log(conductance_by_mean + eps)\n",
    "    samples_fine = np.delete(conductance_by_mean, np.isfinite(samples)==False)\n",
    "\n",
    "    mu_hat, sigma_hat = norm.fit(samples_fine)  # 通过极大似然估计得到 sigma\\hat，不固定均值为 0\n",
    "    # mu_hat, sigma_hat = norm.fit(samples_fine, floc=0)  # 通过极大似然估计得到 sigma\\hat，固定均值为 0\n",
    "    return mu_hat, sigma_hat\n",
    "\n",
    "\n",
    "from scipy.stats import chi2\n",
    "\n",
    "def mlesigma_with_CI(f_name, st_indx, end_indx):\n",
    "    eps = 1e-12\n",
    "    data = pd.read_excel(f_name, engine='openpyxl').iloc[st_indx: end_indx+1, :]\n",
    "    # data = data.iloc[st_indx: end_indx+1, :]\n",
    "    \n",
    "    conductance = data.drop(['voltage'], axis=1).div((data['voltage']+eps), axis=0)\n",
    "    # conductance = conductance[(conductance!=np.inf).all(axis=1)]\n",
    "    \n",
    "    conductance_by_mean = np.array(conductance.div(conductance.mean(axis=1), axis=0)).reshape(1, -1)[0]\n",
    "    samples = np.log(conductance_by_mean + eps)\n",
    "    samples_fine = np.delete(conductance_by_mean, np.isfinite(samples)==False)\n",
    "\n",
    "    mu_hat, sigma_hat = norm.fit(samples_fine)  # 通过极大似然估计得到 sigma\\hat，不固定均值为 0\n",
    "    # mu_hat, sigma_hat = norm.fit(samples_fine, floc=0)  # 通过极大似然估计得到 sigma\\hat，固定均值为 0\n",
    "    sigma_hat_upper95 = sigma_hat * np.sqrt((end_indx-st_indx+1) / chi2.ppf(q=0.005, df=end_indx-st_indx))\n",
    "    \n",
    "    return mu_hat, sigma_hat, sigma_hat_upper95\n",
    "\n",
    "\n",
    "def calculate_smoothed_cmean(f_name):\n",
    "    df = pd.read_excel(f_name, engine='openpyxl')\n",
    "    eps = 1e-12\n",
    "    current_cols = df.iloc[:, 1:]\n",
    "    voltage_col = df.iloc[:, :1].values\n",
    "\n",
    "    conductance_cols = current_cols.div(voltage_col + eps)\n",
    "    conductance_mean_col = conductance_cols.mean(axis=1).values\n",
    "    conductance_mean_col_head100 = conductance_mean_col[1: 101]\n",
    "    c_mean_smooth = Kalman1D(conductance_mean_col_head100)\n",
    "    # c_mean_smooth = c_mean_smooth.T[0]\n",
    "    return c_mean_smooth\n",
    "\n",
    "def get_usability_with_sigma(file_name):\n",
    "    eps = 1e-12\n",
    "    df = pd.read_excel(file_name, engine='openpyxl')\n",
    "\n",
    "    c_mean_smooth = calculate_smoothed_cmean(file_name)#= Kalman1D(c_std_smooth,damping=1)\n",
    "\n",
    "    longest_start, longest_end = LCIS(c_mean_smooth)\n",
    "    # c_mean_smooth, c_std_smooth = mlesigma(file_name, longest_start, longest_end+1)\n",
    "    c_mean_smooth, c_std_smooth, sigma_hat_upper95 = mlesigma_with_CI(file_name, longest_start, longest_end+1)\n",
    "    \n",
    "    usability = (longest_end - longest_start) / 100. * (1 - c_std_smooth / c_mean_smooth)\n",
    "    return usability, c_std_smooth, sigma_hat_upper95\n",
    "\n",
    "\n",
    "# get_usability('./hardware_data/I-V_data_0.7um_length_200nm_diameter_NA_third_etch_10min_Pb_ED_1h_180C_MAI_no_100nm_Ag_memory_1V_carbon_paste.xlsx')\n",
    "# get_usability('./hardware_data/I-V_data_2.5um_length_200nm_diameter_NA_third_etch_25min_Pb_ED_1h_180C_MAI_no_100nm_Ag_memory_8V_silver_paste.xlsx')"
   ]
  },
  {
   "cell_type": "code",
   "execution_count": 2,
   "id": "df441a45-d5a2-427e-9999-3fd481901e50",
   "metadata": {
    "ExecutionIndicator": {
     "show": true
    },
    "execution": {
     "iopub.execute_input": "2023-07-24T02:24:58.869387Z",
     "iopub.status.busy": "2023-07-24T02:24:58.869094Z",
     "iopub.status.idle": "2023-07-24T02:26:09.496528Z",
     "shell.execute_reply": "2023-07-24T02:26:09.496014Z",
     "shell.execute_reply.started": "2023-07-24T02:24:58.869370Z"
    },
    "tags": []
   },
   "outputs": [
    {
     "name": "stderr",
     "output_type": "stream",
     "text": [
      "100%|██████████| 43/43 [01:10<00:00,  1.64s/it]\n"
     ]
    },
    {
     "data": {
      "text/plain": [
       "({'I-V_data_0.7um_length_200nm_diameter_BT_4V_NA_third_etch_10min_Pb_ED_1h_180C_MAI_no_100nm_Ag_memory_1V_carbon_paste_no_wait.xlsx': -0.20327452853183445,\n",
       "  'I-V_data_0.7um_length_200nm_diameter_BT_4V_NA_third_etch_10min_Pb_ED_1h_180C_MAI_no_100nm_Ag_memory_1V_probe_no_wait.xlsx': 0.22273483703421348,\n",
       "  'I-V_data_0.7um_length_200nm_diameter_BT_4V_NA_third_etch_10min_Pb_ED_1h_180C_MAI_no_100nm_Ag_memory_1V_silver_paste_no_wait.xlsx': -0.26501115457282065,\n",
       "  'I-V_data_0.7um_length_200nm_diameter_BT_4V_NA_third_etch_10min_Pb_ED_1h_180C_MAI_no_100nm_Ag_memory_5V_silver_paste_no_wait.xlsx': -0.15865615371830316,\n",
       "  'I-V_data_0.7um_length_200nm_diameter_BT_4V_NA_third_etch_25min_Pb_ED_1h_180C_MAI_no_100nm_Ag_memory_8V_carbon_paste_no_wait.xlsx': -0.04481165090987748,\n",
       "  'I-V_data_1.2um_length_200nm_diameter_BT_4V_NA_third_etch_15min_Pb_ED_10h_180+210C_FAI_PMMA_200nm_Ag_memory_6V_probe_no_wait.xlsx': 0.3634794973438098,\n",
       "  'I-V_data_1.2um_length_200nm_diameter_BT_4V_NA_third_etch_15min_Pb_ED_10h_180+210C_FAI_PMMA_200nm_Ag_memory_6V_silver_paste_no_wait.xlsx': 0.4089094195893468,\n",
       "  'I-V_data_1.2um_length_200nm_diameter_BT_4V_NA_third_etch_15min_Pb_ED_10h_180+210C_FAI_no_200nm_Ag_memory_6V_probe_no_wait.xlsx': 0.40406544790792925,\n",
       "  'I-V_data_1.2um_length_200nm_diameter_BT_4V_NA_third_etch_15min_Pb_ED_10h_180+210C_FAI_no_200nm_Ag_memory_6V_silver_paste_no_wait.xlsx': 0.3887336255585165,\n",
       "  'I-V_data_1.2um_length_200nm_diameter_BT_4V_NA_third_etch_15min_Pb_ED_1h_180C_MAI_no_100nm_Ag_memory_5V_carbon_paste_no_wait.xlsx': -0.17537633984266296,\n",
       "  'I-V_data_1.2um_length_200nm_diameter_BT_4V_NA_third_etch_15min_Pb_ED_1h_180C_MAI_no_100nm_Ag_memory_5V_carbon_paste_no_wait_2.xlsx': 0.1715211509055476,\n",
       "  'I-V_data_1.2um_length_200nm_diameter_BT_4V_NA_third_etch_15min_Pb_ED_3h_210C_MABr_PMMA_200nm_Ag_memory_6V_probe_no_wait.xlsx': 0.3861745256816558,\n",
       "  'I-V_data_1.2um_length_200nm_diameter_BT_4V_NA_third_etch_15min_Pb_ED_3h_210C_MABr_PMMA_200nm_Ag_memory_6V_silver_paste_no_wait.xlsx': 0.4073134980205357,\n",
       "  'I-V_data_1.2um_length_200nm_diameter_BT_4V_NA_third_etch_15min_Pb_ED_3h_210C_MABr_no_200nm_Ag_memory_6V_probe_no_wait.xlsx': 0.3914733996504571,\n",
       "  'I-V_data_1.2um_length_200nm_diameter_BT_4V_NA_third_etch_15min_Pb_ED_3h_210C_MABr_no_200nm_Ag_memory_6V_silver_paste_no_wait.xlsx': 0.38302348914430373,\n",
       "  'I-V_data_1.2um_length_200nm_diameter_BT_4V_NA_third_etch_25min_Pb_ED_1h_180C_MAI_no_100nm_Ag_memory_8V_carbon_paste_no_wait.xlsx': 0.19060501059043672,\n",
       "  'I-V_data_1.2um_length_250nm_diameter_BT_4V_10s_third_etch_15min_Pb_ED_3h_180C_MAI_no_200nm_Ag_memory_6V_carbon_paste_no_wait.xlsx': 0.4062700540510823,\n",
       "  'I-V_data_1.2um_length_250nm_diameter_BT_4V_20s_third_etch_15min_Pb_ED_3h_180C_MAI_no_200nm_Ag_memory_6V_carbon_paste_no_wait.xlsx': 0.04308543013354345,\n",
       "  'I-V_data_1.2um_length_250nm_diameter_BT_4V_NA_third_etch_15min_Pb_ED_3h_180C_MAI_PMMA_600nm_Ag_memory_6V_carbon_paste_no_wait.xlsx': 0.4087430704223537,\n",
       "  'I-V_data_1.2um_length_250nm_diameter_BT_4V_NA_third_etch_15min_Pb_ED_3h_180C_MAI_no_600nm_Ag_memory_6V_carbon_paste_no_wait.xlsx': 0.40724469106286415,\n",
       "  'I-V_data_1.5um_length_200nm_diameter_BT_2V_NA_third_etch_15min_Pb_ED_3h_180C_MAI_no_200nm_Ag_memory_4V_carbon_paste_wait_1min.xlsx': 0.48878130907032985,\n",
       "  'I-V_data_1.5um_length_200nm_diameter_BT_2V_NA_third_etch_15min_Pb_ED_3h_180C_MAI_no_200nm_Ag_memory_6V_carbon_paste_no_wait.xlsx': 0.1470926726354285,\n",
       "  'I-V_data_1.5um_length_200nm_diameter_BT_4V_NA_third_etch_10min_Pb_ED_1h_180C_MAI_no_100nm_Ag_memory_8V_carbon_paste_no_wait.xlsx': 0.20808325633803607,\n",
       "  'I-V_data_1.5um_length_200nm_diameter_BT_4V_NA_third_etch_10min_Pb_ED_1h_180C_MAI_no_100nm_Ag_memory_8V_carbon_paste_no_wait_2.xlsx': 0.2835533685211482,\n",
       "  'I-V_data_1.5um_length_200nm_diameter_BT_4V_NA_third_etch_15min_Pb_ED_3h_180C_MAI_no_200nm_Ag_memory_6V_carbon_paste_no_wait.xlsx': 0.4011407356976879,\n",
       "  'I-V_data_1.5um_length_200nm_diameter_BT_4V_annealing_500C_5hrs_NA_third_etch_15min_Pb_ED_3h_180C_MAI_no_200nm_Ag_memory_6V_carbon_paste_no_wait.xlsx': 0.20676473348492513,\n",
       "  'I-V_data_1.5um_length_5nm_diameter_BT_4V_NA_third_etch_8min_Pb_ED_3h_180C_MAI_no_150nm_Ag_memory_6V_carbon_paste_no_wait.xlsx': 0.41999999999999993,\n",
       "  'I-V_data_1.6um_length_250nm_diameter_BT_4V_NA_third_etch_15min_Pb_ED_3h_180C_MAI_PMMA_100nm_Ag_memory_6V_carbon_paste_no_wait.xlsx': 0.08826659725736342,\n",
       "  'I-V_data_1.6um_length_250nm_diameter_BT_4V_NA_third_etch_15min_Pb_ED_3h_180C_MAI_no_100nm_Ag_memory_8V_carbon_paste_no_wait.xlsx': 0.11083486931009605,\n",
       "  'I-V_data_1.8um_length_50nm_diameter_BT_4V_NA_third_etch_20min_Pb_ED_3h_180C_MAI_no_200nm_Ag_memory_6V_carbon_paste_no_wait.xlsx': 0.40999659591103826,\n",
       "  'I-V_data_1um_length_200nm_diameter_BT_4V_NA_third_etch_10min_Pb_ED_1h_180C_MAI_no_100nm_Ag_memory_8V_carbon_paste_no_wait.xlsx': 0.20861633647831,\n",
       "  'I-V_data_1um_length_200nm_diameter_BT_4V_NA_third_etch_25min_Pb_ED_1h_180C_MAI_no_100nm_Ag_memory_8V_carbon_paste_no_wait.xlsx': 0.20847065192413317,\n",
       "  'I-V_data_2.5um_length_200nm_diameter_BT_4V_NA_third_etch_25min_Pb_ED_1h_180C_MAI_no_100nm_Ag_memory_3V_carbon_paste_no_wait.xlsx': -0.2960815836979207,\n",
       "  'I-V_data_2.5um_length_200nm_diameter_BT_4V_NA_third_etch_25min_Pb_ED_1h_180C_MAI_no_100nm_Ag_memory_5V_silver_paste_no_wait.xlsx': 0.1192431398422713,\n",
       "  'I-V_data_2.5um_length_200nm_diameter_BT_4V_NA_third_etch_25min_Pb_ED_1h_180C_MAI_no_100nm_Ag_memory_8V_silver_paste_no_wait.xlsx': 0.20016469609942736,\n",
       "  'I-V_data_2um_length_200nm_diameter_BT_4V_NA_third_etch_15min_Pb_ED_3h_370+450C_CsPbI3_no_200nm_Ag_memory_6V_probe_wait_1min.xlsx': 0.34352445880879745,\n",
       "  'I-V_data_2um_length_200nm_diameter_BT_4V_NA_third_etch_18min_Pb_ED_10h_180+210C_FAI_no_200nm_Ag_memory_6V_silver_paste_no_wait.xlsx': 0.3844583471272381,\n",
       "  'I-V_data_2um_length_200nm_diameter_BT_4V_NA_third_etch_18min_Pb_ED_3h_210C_MABr_no_200nm_Ag_memory_6V_silver_paste_no_wait.xlsx': 0.3366488103669627,\n",
       "  'I-V_data_2um_length_200nm_diameter_BT_4V_NA_third_etch_18min_Pb_ED_3h_210C_MABr_no_200nm_Ag_memory_8V_probe_no_wait.xlsx': 0.1505438046632297,\n",
       "  'I-V_data_2um_length_250nm_diameter_BT_4V_NA_third_etch_15min_Pb_ED_3h_180C_MAI_no_200nm_Ag_memory_6V_carbon_paste_no_wait.xlsx': 0.40799351488923763,\n",
       "  'I-V_data_2um_length_300nm_diameter_BT_4V_NA_third_etch_10min_Pb_ED_1h_180C_MAI_no_100nm_Ag_memory_4V_carbon_paste_no_wait.xlsx': -0.0804625027328527,\n",
       "  'I-V_data_2um_length_300nm_diameter_BT_4V_NA_third_etch_15min_Pb_ED_1h_180C_MAI_no_100nm_Ag_memory_6V_carbon_paste_no_wait.xlsx': 0.45237159558249596,\n",
       "  'I-V_data_3um_length_50nm_diameter_BT_4V_NA_third_etch_20min_Pb_ED_3h_180C_MAI_no_200nm_Ag_memory_6V_carbon_paste_no_wait.xlsx': 0.07414868134521078},\n",
       " {'I-V_data_0.7um_length_200nm_diameter_BT_4V_NA_third_etch_10min_Pb_ED_1h_180C_MAI_no_100nm_Ag_memory_1V_carbon_paste_no_wait.xlsx': 1.8469772022159765,\n",
       "  'I-V_data_0.7um_length_200nm_diameter_BT_4V_NA_third_etch_10min_Pb_ED_1h_180C_MAI_no_100nm_Ag_memory_1V_probe_no_wait.xlsx': 0.10906065186314605,\n",
       "  'I-V_data_0.7um_length_200nm_diameter_BT_4V_NA_third_etch_10min_Pb_ED_1h_180C_MAI_no_100nm_Ag_memory_1V_silver_paste_no_wait.xlsx': 2.1042131440534195,\n",
       "  'I-V_data_0.7um_length_200nm_diameter_BT_4V_NA_third_etch_10min_Pb_ED_1h_180C_MAI_no_100nm_Ag_memory_5V_silver_paste_no_wait.xlsx': 1.2479002401848487,\n",
       "  'I-V_data_0.7um_length_200nm_diameter_BT_4V_NA_third_etch_25min_Pb_ED_1h_180C_MAI_no_100nm_Ag_memory_8V_carbon_paste_no_wait.xlsx': 1.2800728181867342,\n",
       "  'I-V_data_1.2um_length_200nm_diameter_BT_4V_NA_third_etch_15min_Pb_ED_10h_180+210C_FAI_PMMA_200nm_Ag_memory_6V_probe_no_wait.xlsx': 0.11346464062485402,\n",
       "  'I-V_data_1.2um_length_200nm_diameter_BT_4V_NA_third_etch_15min_Pb_ED_10h_180+210C_FAI_PMMA_200nm_Ag_memory_6V_silver_paste_no_wait.xlsx': 0.002659952221105319,\n",
       "  'I-V_data_1.2um_length_200nm_diameter_BT_4V_NA_third_etch_15min_Pb_ED_10h_180+210C_FAI_no_200nm_Ag_memory_6V_probe_no_wait.xlsx': 0.014474517297733476,\n",
       "  'I-V_data_1.2um_length_200nm_diameter_BT_4V_NA_third_etch_15min_Pb_ED_10h_180+210C_FAI_no_200nm_Ag_memory_6V_silver_paste_no_wait.xlsx': 0.05186920595483783,\n",
       "  'I-V_data_1.2um_length_200nm_diameter_BT_4V_NA_third_etch_15min_Pb_ED_1h_180C_MAI_no_100nm_Ag_memory_5V_carbon_paste_no_wait.xlsx': 1.5010752566933228,\n",
       "  'I-V_data_1.2um_length_200nm_diameter_BT_4V_NA_third_etch_15min_Pb_ED_1h_180C_MAI_no_100nm_Ag_memory_5V_carbon_paste_no_wait_2.xlsx': 0.6426642689467759,\n",
       "  'I-V_data_1.2um_length_200nm_diameter_BT_4V_NA_third_etch_15min_Pb_ED_3h_210C_MABr_PMMA_200nm_Ag_memory_6V_probe_no_wait.xlsx': 0.034563685795860666,\n",
       "  'I-V_data_1.2um_length_200nm_diameter_BT_4V_NA_third_etch_15min_Pb_ED_3h_210C_MABr_PMMA_200nm_Ag_memory_6V_silver_paste_no_wait.xlsx': 0.006552443852351946,\n",
       "  'I-V_data_1.2um_length_200nm_diameter_BT_4V_NA_third_etch_15min_Pb_ED_3h_210C_MABr_no_200nm_Ag_memory_6V_probe_no_wait.xlsx': 0.045186830120836324,\n",
       "  'I-V_data_1.2um_length_200nm_diameter_BT_4V_NA_third_etch_15min_Pb_ED_3h_210C_MABr_no_200nm_Ag_memory_6V_silver_paste_no_wait.xlsx': 0.06579636794072251,\n",
       "  'I-V_data_1.2um_length_200nm_diameter_BT_4V_NA_third_etch_25min_Pb_ED_1h_180C_MAI_no_100nm_Ag_memory_8V_carbon_paste_no_wait.xlsx': 0.09235709242649176,\n",
       "  'I-V_data_1.2um_length_250nm_diameter_BT_4V_10s_third_etch_15min_Pb_ED_3h_180C_MAI_no_200nm_Ag_memory_6V_carbon_paste_no_wait.xlsx': 0.009097429143701681,\n",
       "  'I-V_data_1.2um_length_250nm_diameter_BT_4V_20s_third_etch_15min_Pb_ED_3h_180C_MAI_no_200nm_Ag_memory_6V_carbon_paste_no_wait.xlsx': 0.760636499258092,\n",
       "  'I-V_data_1.2um_length_250nm_diameter_BT_4V_NA_third_etch_15min_Pb_ED_3h_180C_MAI_PMMA_600nm_Ag_memory_6V_carbon_paste_no_wait.xlsx': 0.003065681896698354,\n",
       "  'I-V_data_1.2um_length_250nm_diameter_BT_4V_NA_third_etch_15min_Pb_ED_3h_180C_MAI_no_600nm_Ag_memory_6V_carbon_paste_no_wait.xlsx': 0.006720265700331256,\n",
       "  'I-V_data_1.5um_length_200nm_diameter_BT_2V_NA_third_etch_15min_Pb_ED_3h_180C_MAI_no_200nm_Ag_memory_4V_carbon_paste_wait_1min.xlsx': 0.14248893145556166,\n",
       "  'I-V_data_1.5um_length_200nm_diameter_BT_2V_NA_third_etch_15min_Pb_ED_3h_180C_MAI_no_200nm_Ag_memory_6V_carbon_paste_no_wait.xlsx': 0.641237383816028,\n",
       "  'I-V_data_1.5um_length_200nm_diameter_BT_4V_NA_third_etch_10min_Pb_ED_1h_180C_MAI_no_100nm_Ag_memory_8V_carbon_paste_no_wait.xlsx': 0.009127350771256844,\n",
       "  'I-V_data_1.5um_length_200nm_diameter_BT_4V_NA_third_etch_10min_Pb_ED_1h_180C_MAI_no_100nm_Ag_memory_8V_carbon_paste_no_wait_2.xlsx': 0.08531171444790903,\n",
       "  'I-V_data_1.5um_length_200nm_diameter_BT_4V_NA_third_etch_15min_Pb_ED_3h_180C_MAI_no_200nm_Ag_memory_6V_carbon_paste_no_wait.xlsx': 0.2836772576827003,\n",
       "  'I-V_data_1.5um_length_200nm_diameter_BT_4V_annealing_500C_5hrs_NA_third_etch_15min_Pb_ED_3h_180C_MAI_no_200nm_Ag_memory_6V_carbon_paste_no_wait.xlsx': 0.6023755125289901,\n",
       "  'I-V_data_1.5um_length_5nm_diameter_BT_4V_NA_third_etch_8min_Pb_ED_3h_180C_MAI_no_150nm_Ag_memory_6V_carbon_paste_no_wait.xlsx': 1.3700022894417224e-16,\n",
       "  'I-V_data_1.6um_length_250nm_diameter_BT_4V_NA_third_etch_15min_Pb_ED_3h_180C_MAI_PMMA_100nm_Ag_memory_6V_carbon_paste_no_wait.xlsx': 0.7736753916477861,\n",
       "  'I-V_data_1.6um_length_250nm_diameter_BT_4V_NA_third_etch_15min_Pb_ED_3h_180C_MAI_no_100nm_Ag_memory_8V_carbon_paste_no_wait.xlsx': 0.6041611810353714,\n",
       "  'I-V_data_1.8um_length_50nm_diameter_BT_4V_NA_third_etch_20min_Pb_ED_3h_180C_MAI_no_200nm_Ag_memory_6V_carbon_paste_no_wait.xlsx': 8.30265600420149e-06,\n",
       "  'I-V_data_1um_length_200nm_diameter_BT_4V_NA_third_etch_10min_Pb_ED_1h_180C_MAI_no_100nm_Ag_memory_8V_carbon_paste_no_wait.xlsx': 0.006588873912809546,\n",
       "  'I-V_data_1um_length_200nm_diameter_BT_4V_NA_third_etch_25min_Pb_ED_1h_180C_MAI_no_100nm_Ag_memory_8V_carbon_paste_no_wait.xlsx': 0.007282609885080164,\n",
       "  'I-V_data_2.5um_length_200nm_diameter_BT_4V_NA_third_etch_25min_Pb_ED_1h_180C_MAI_no_100nm_Ag_memory_3V_carbon_paste_no_wait.xlsx': 2.345825380445094,\n",
       "  'I-V_data_2.5um_length_200nm_diameter_BT_4V_NA_third_etch_25min_Pb_ED_1h_180C_MAI_no_100nm_Ag_memory_5V_silver_paste_no_wait.xlsx': 0.7018921503943217,\n",
       "  'I-V_data_2.5um_length_200nm_diameter_BT_4V_NA_third_etch_25min_Pb_ED_1h_180C_MAI_no_100nm_Ag_memory_8V_silver_paste_no_wait.xlsx': 0.12971871261118534,\n",
       "  'I-V_data_2um_length_200nm_diameter_BT_4V_NA_third_etch_15min_Pb_ED_3h_370+450C_CsPbI3_no_200nm_Ag_memory_6V_probe_wait_1min.xlsx': 0.29892967590041325,\n",
       "  'I-V_data_2um_length_200nm_diameter_BT_4V_NA_third_etch_18min_Pb_ED_10h_180+210C_FAI_no_200nm_Ag_memory_6V_silver_paste_no_wait.xlsx': 0.06229671432380941,\n",
       "  'I-V_data_2um_length_200nm_diameter_BT_4V_NA_third_etch_18min_Pb_ED_3h_210C_MABr_no_200nm_Ag_memory_6V_silver_paste_no_wait.xlsx': 0.15837797408259324,\n",
       "  'I-V_data_2um_length_200nm_diameter_BT_4V_NA_third_etch_18min_Pb_ED_3h_210C_MABr_no_200nm_Ag_memory_8V_probe_no_wait.xlsx': 0.24728097668385146,\n",
       "  'I-V_data_2um_length_250nm_diameter_BT_4V_NA_third_etch_15min_Pb_ED_3h_180C_MAI_no_200nm_Ag_memory_6V_carbon_paste_no_wait.xlsx': 0.004893866123810633,\n",
       "  'I-V_data_2um_length_300nm_diameter_BT_4V_NA_third_etch_10min_Pb_ED_1h_180C_MAI_no_100nm_Ag_memory_4V_carbon_paste_no_wait.xlsx': 1.2174662236023048,\n",
       "  'I-V_data_2um_length_300nm_diameter_BT_4V_NA_third_etch_15min_Pb_ED_1h_180C_MAI_no_100nm_Ag_memory_6V_carbon_paste_no_wait.xlsx': 0.2703683942217807,\n",
       "  'I-V_data_3um_length_50nm_diameter_BT_4V_NA_third_etch_20min_Pb_ED_3h_180C_MAI_no_200nm_Ag_memory_6V_carbon_paste_no_wait.xlsx': 0.7682853707962163},\n",
       " {'I-V_data_0.7um_length_200nm_diameter_BT_4V_NA_third_etch_10min_Pb_ED_1h_180C_MAI_no_100nm_Ag_memory_1V_carbon_paste_no_wait.xlsx': 2.903671754065915,\n",
       "  'I-V_data_0.7um_length_200nm_diameter_BT_4V_NA_third_etch_10min_Pb_ED_1h_180C_MAI_no_100nm_Ag_memory_1V_probe_no_wait.xlsx': 0.1696341373668554,\n",
       "  'I-V_data_0.7um_length_200nm_diameter_BT_4V_NA_third_etch_10min_Pb_ED_1h_180C_MAI_no_100nm_Ag_memory_1V_silver_paste_no_wait.xlsx': 3.3080777952167058,\n",
       "  'I-V_data_0.7um_length_200nm_diameter_BT_4V_NA_third_etch_10min_Pb_ED_1h_180C_MAI_no_100nm_Ag_memory_5V_silver_paste_no_wait.xlsx': 1.6154616844754965,\n",
       "  'I-V_data_0.7um_length_200nm_diameter_BT_4V_NA_third_etch_25min_Pb_ED_1h_180C_MAI_no_100nm_Ag_memory_8V_carbon_paste_no_wait.xlsx': 2.275304593205917,\n",
       "  'I-V_data_1.2um_length_200nm_diameter_BT_4V_NA_third_etch_15min_Pb_ED_10h_180+210C_FAI_PMMA_200nm_Ag_memory_6V_probe_no_wait.xlsx': 0.15813246241823042,\n",
       "  'I-V_data_1.2um_length_200nm_diameter_BT_4V_NA_third_etch_15min_Pb_ED_10h_180+210C_FAI_PMMA_200nm_Ag_memory_6V_silver_paste_no_wait.xlsx': 0.003707100223662887,\n",
       "  'I-V_data_1.2um_length_200nm_diameter_BT_4V_NA_third_etch_15min_Pb_ED_10h_180+210C_FAI_no_200nm_Ag_memory_6V_probe_no_wait.xlsx': 0.02017272561743338,\n",
       "  'I-V_data_1.2um_length_200nm_diameter_BT_4V_NA_third_etch_15min_Pb_ED_10h_180+210C_FAI_no_200nm_Ag_memory_6V_silver_paste_no_wait.xlsx': 0.07228864619098069,\n",
       "  'I-V_data_1.2um_length_200nm_diameter_BT_4V_NA_third_etch_15min_Pb_ED_1h_180C_MAI_no_100nm_Ag_memory_5V_carbon_paste_no_wait.xlsx': 2.1589266882231417,\n",
       "  'I-V_data_1.2um_length_200nm_diameter_BT_4V_NA_third_etch_15min_Pb_ED_1h_180C_MAI_no_100nm_Ag_memory_5V_carbon_paste_no_wait_2.xlsx': 0.8705447295065399,\n",
       "  'I-V_data_1.2um_length_200nm_diameter_BT_4V_NA_third_etch_15min_Pb_ED_3h_210C_MABr_PMMA_200nm_Ag_memory_6V_probe_no_wait.xlsx': 0.04839796332251017,\n",
       "  'I-V_data_1.2um_length_200nm_diameter_BT_4V_NA_third_etch_15min_Pb_ED_3h_210C_MABr_PMMA_200nm_Ag_memory_6V_silver_paste_no_wait.xlsx': 0.009131955783964677,\n",
       "  'I-V_data_1.2um_length_200nm_diameter_BT_4V_NA_third_etch_15min_Pb_ED_3h_210C_MABr_no_200nm_Ag_memory_6V_probe_no_wait.xlsx': 0.06297560787688174,\n",
       "  'I-V_data_1.2um_length_200nm_diameter_BT_4V_NA_third_etch_15min_Pb_ED_3h_210C_MABr_no_200nm_Ag_memory_6V_silver_paste_no_wait.xlsx': 0.09169853818197601,\n",
       "  'I-V_data_1.2um_length_200nm_diameter_BT_4V_NA_third_etch_25min_Pb_ED_1h_180C_MAI_no_100nm_Ag_memory_8V_carbon_paste_no_wait.xlsx': 0.15066384231134444,\n",
       "  'I-V_data_1.2um_length_250nm_diameter_BT_4V_10s_third_etch_15min_Pb_ED_3h_180C_MAI_no_200nm_Ag_memory_6V_carbon_paste_no_wait.xlsx': 0.012678829847311925,\n",
       "  'I-V_data_1.2um_length_250nm_diameter_BT_4V_20s_third_etch_15min_Pb_ED_3h_180C_MAI_no_200nm_Ag_memory_6V_carbon_paste_no_wait.xlsx': 1.3002835390931557,\n",
       "  'I-V_data_1.2um_length_250nm_diameter_BT_4V_NA_third_etch_15min_Pb_ED_3h_180C_MAI_PMMA_600nm_Ag_memory_6V_carbon_paste_no_wait.xlsx': 0.0042725542040778445,\n",
       "  'I-V_data_1.2um_length_250nm_diameter_BT_4V_NA_third_etch_15min_Pb_ED_3h_180C_MAI_no_600nm_Ag_memory_6V_carbon_paste_no_wait.xlsx': 0.00936584434979805,\n",
       "  'I-V_data_1.5um_length_200nm_diameter_BT_2V_NA_third_etch_15min_Pb_ED_3h_180C_MAI_no_200nm_Ag_memory_4V_carbon_paste_wait_1min.xlsx': 0.18767834632910257,\n",
       "  'I-V_data_1.5um_length_200nm_diameter_BT_2V_NA_third_etch_15min_Pb_ED_3h_180C_MAI_no_200nm_Ag_memory_6V_carbon_paste_no_wait.xlsx': 0.8936744164440692,\n",
       "  'I-V_data_1.5um_length_200nm_diameter_BT_4V_NA_third_etch_10min_Pb_ED_1h_180C_MAI_no_100nm_Ag_memory_8V_carbon_paste_no_wait.xlsx': 0.014889617041760804,\n",
       "  'I-V_data_1.5um_length_200nm_diameter_BT_4V_NA_third_etch_10min_Pb_ED_1h_180C_MAI_no_100nm_Ag_memory_8V_carbon_paste_no_wait_2.xlsx': 0.12597614495757845,\n",
       "  'I-V_data_1.5um_length_200nm_diameter_BT_4V_NA_third_etch_15min_Pb_ED_3h_180C_MAI_no_200nm_Ag_memory_6V_carbon_paste_no_wait.xlsx': 0.3746737630949775,\n",
       "  'I-V_data_1.5um_length_200nm_diameter_BT_4V_annealing_500C_5hrs_NA_third_etch_15min_Pb_ED_3h_180C_MAI_no_200nm_Ag_memory_6V_carbon_paste_no_wait.xlsx': 0.8050908216561312,\n",
       "  'I-V_data_1.5um_length_5nm_diameter_BT_4V_NA_third_etch_8min_Pb_ED_3h_180C_MAI_no_150nm_Ag_memory_6V_carbon_paste_no_wait.xlsx': 1.9007041307276222e-16,\n",
       "  'I-V_data_1.6um_length_250nm_diameter_BT_4V_NA_third_etch_15min_Pb_ED_3h_180C_MAI_PMMA_100nm_Ag_memory_6V_carbon_paste_no_wait.xlsx': 1.088671849119006,\n",
       "  'I-V_data_1.6um_length_250nm_diameter_BT_4V_NA_third_etch_15min_Pb_ED_3h_180C_MAI_no_100nm_Ag_memory_8V_carbon_paste_no_wait.xlsx': 0.9135398839937342,\n",
       "  'I-V_data_1.8um_length_50nm_diameter_BT_4V_NA_third_etch_20min_Pb_ED_3h_180C_MAI_no_200nm_Ag_memory_6V_carbon_paste_no_wait.xlsx': 1.1571176988051881e-05,\n",
       "  'I-V_data_1um_length_200nm_diameter_BT_4V_NA_third_etch_10min_Pb_ED_1h_180C_MAI_no_100nm_Ag_memory_8V_carbon_paste_no_wait.xlsx': 0.010748552538062799,\n",
       "  'I-V_data_1um_length_200nm_diameter_BT_4V_NA_third_etch_25min_Pb_ED_1h_180C_MAI_no_100nm_Ag_memory_8V_carbon_paste_no_wait.xlsx': 0.011880256930067964,\n",
       "  'I-V_data_2.5um_length_200nm_diameter_BT_4V_NA_third_etch_25min_Pb_ED_1h_180C_MAI_no_100nm_Ag_memory_3V_carbon_paste_no_wait.xlsx': 3.7764683346107284,\n",
       "  'I-V_data_2.5um_length_200nm_diameter_BT_4V_NA_third_etch_25min_Pb_ED_1h_180C_MAI_no_100nm_Ag_memory_5V_silver_paste_no_wait.xlsx': 0.9828277791835044,\n",
       "  'I-V_data_2.5um_length_200nm_diameter_BT_4V_NA_third_etch_25min_Pb_ED_1h_180C_MAI_no_100nm_Ag_memory_8V_silver_paste_no_wait.xlsx': 0.20628003779642193,\n",
       "  'I-V_data_2um_length_200nm_diameter_BT_4V_NA_third_etch_15min_Pb_ED_3h_370+450C_CsPbI3_no_200nm_Ag_memory_6V_probe_wait_1min.xlsx': 0.4035030858772624,\n",
       "  'I-V_data_2um_length_200nm_diameter_BT_4V_NA_third_etch_18min_Pb_ED_10h_180+210C_FAI_no_200nm_Ag_memory_6V_silver_paste_no_wait.xlsx': 0.08682116985819081,\n",
       "  'I-V_data_2um_length_200nm_diameter_BT_4V_NA_third_etch_18min_Pb_ED_3h_210C_MABr_no_200nm_Ag_memory_6V_silver_paste_no_wait.xlsx': 0.22176950184117203,\n",
       "  'I-V_data_2um_length_200nm_diameter_BT_4V_NA_third_etch_18min_Pb_ED_3h_210C_MABr_no_200nm_Ag_memory_8V_probe_no_wait.xlsx': 0.4092093062089451,\n",
       "  'I-V_data_2um_length_250nm_diameter_BT_4V_NA_third_etch_15min_Pb_ED_3h_180C_MAI_no_200nm_Ag_memory_6V_carbon_paste_no_wait.xlsx': 0.006820442885480047,\n",
       "  'I-V_data_2um_length_300nm_diameter_BT_4V_NA_third_etch_10min_Pb_ED_1h_180C_MAI_no_100nm_Ag_memory_4V_carbon_paste_no_wait.xlsx': 1.7311526462247189,\n",
       "  'I-V_data_2um_length_300nm_diameter_BT_4V_NA_third_etch_15min_Pb_ED_1h_180C_MAI_no_100nm_Ag_memory_6V_carbon_paste_no_wait.xlsx': 0.35162580229873813,\n",
       "  'I-V_data_3um_length_50nm_diameter_BT_4V_NA_third_etch_20min_Pb_ED_3h_180C_MAI_no_200nm_Ag_memory_6V_carbon_paste_no_wait.xlsx': 1.1264804427133446})"
      ]
     },
     "execution_count": 2,
     "metadata": {},
     "output_type": "execute_result"
    }
   ],
   "source": [
    "import os\n",
    "from tqdm import tqdm\n",
    "\n",
    "\n",
    "# dir_name = './data_added0709/'#'./hardware_data/'\n",
    "\n",
    "dir_name = './hardware_IV_and_condition_summary/hardware_data/'\n",
    "\n",
    "dirs = sorted(os.listdir(dir_name))\n",
    "\n",
    "file2usability = {}\n",
    "file2sigma = {}\n",
    "file2sigma_upper = {}\n",
    "\n",
    "for f_name in tqdm(dirs):\n",
    "    if not f_name.endswith('.xlsx'):\n",
    "        continue\n",
    "    res = get_usability_with_sigma(dir_name+f_name)\n",
    "    file2usability[f_name] = res[0]\n",
    "    file2sigma[f_name] = res[1]\n",
    "    file2sigma_upper[f_name] = res[2]\n",
    "    \n",
    "file2usability, file2sigma, file2sigma_upper"
   ]
  },
  {
   "cell_type": "code",
   "execution_count": 3,
   "id": "a15f0cea-e0a9-4fa5-aae7-67d318831912",
   "metadata": {
    "execution": {
     "iopub.execute_input": "2023-07-24T02:26:09.497535Z",
     "iopub.status.busy": "2023-07-24T02:26:09.497289Z",
     "iopub.status.idle": "2023-07-24T02:26:09.894214Z",
     "shell.execute_reply": "2023-07-24T02:26:09.893770Z",
     "shell.execute_reply.started": "2023-07-24T02:26:09.497519Z"
    },
    "tags": []
   },
   "outputs": [
    {
     "data": {
      "image/png": "[encoded data removed]",
      "text/plain": [
       "<Figure size 3840x2160 with 1 Axes>"
      ]
     },
     "metadata": {},
     "output_type": "display_data"
    }
   ],
   "source": [
    "from matplotlib import pyplot as plt\n",
    "\n",
    "x = np.array(list(file2usability.values()))\n",
    "y = np.array(list(file2sigma.values()))\n",
    "\n",
    "z = np.polyfit(x, y, 1)\n",
    "p = np.poly1d(z)\n",
    "sigma_hat = p(x)\n",
    "\n",
    "plt.figure(dpi=240,figsize=(16, 9))\n",
    "plt.scatter(x, y)\n",
    "plt.plot(file2usability.values(), sigma_hat)\n",
    "plt.xlabel('Usability')\n",
    "plt.ylabel('Equivalent_sigma')\n",
    "plt.show()"
   ]
  },
  {
   "cell_type": "code",
   "execution_count": 4,
   "id": "618d2a0c-e0d6-494c-9a84-66c3604b24bf",
   "metadata": {
    "ExecutionIndicator": {
     "show": true
    },
    "execution": {
     "iopub.execute_input": "2023-07-24T02:26:09.895659Z",
     "iopub.status.busy": "2023-07-24T02:26:09.895318Z",
     "iopub.status.idle": "2023-07-24T02:26:09.976487Z",
     "shell.execute_reply": "2023-07-24T02:26:09.976086Z",
     "shell.execute_reply.started": "2023-07-24T02:26:09.895637Z"
    },
    "tags": []
   },
   "outputs": [
    {
     "data": {
      "text/plain": [
       "(array([ 2.,  3.,  1.,  1.,  3.,  5.,  7.,  1., 17.,  3.]),\n",
       " array([-0.29608158, -0.21759529, -0.13910901, -0.06062272,  0.01786357,\n",
       "         0.09634986,  0.17483615,  0.25332244,  0.33180873,  0.41029502,\n",
       "         0.48878131]),\n",
       " <BarContainer object of 10 artists>)"
      ]
     },
     "execution_count": 4,
     "metadata": {},
     "output_type": "execute_result"
    },
    {
     "data": {
      "image/png": "[encoded data removed]",
      "text/plain": [
       "<Figure size 640x480 with 1 Axes>"
      ]
     },
     "metadata": {},
     "output_type": "display_data"
    }
   ],
   "source": [
    "plt.hist(file2usability.values(), bins=10)"
   ]
  },
  {
   "cell_type": "code",
   "execution_count": 5,
   "id": "8b6f7dc7-4157-4182-897c-647dcc19a8ae",
   "metadata": {
    "execution": {
     "iopub.execute_input": "2023-07-24T02:26:09.977323Z",
     "iopub.status.busy": "2023-07-24T02:26:09.977035Z",
     "iopub.status.idle": "2023-07-24T02:26:10.044584Z",
     "shell.execute_reply": "2023-07-24T02:26:10.044198Z",
     "shell.execute_reply.started": "2023-07-24T02:26:09.977310Z"
    },
    "tags": []
   },
   "outputs": [
    {
     "data": {
      "text/plain": [
       "(array([24.,  4.,  5.,  3.,  0.,  3.,  1.,  1.,  1.,  1.]),\n",
       " array([1.37000229e-16, 2.34582538e-01, 4.69165076e-01, 7.03747614e-01,\n",
       "        9.38330152e-01, 1.17291269e+00, 1.40749523e+00, 1.64207777e+00,\n",
       "        1.87666030e+00, 2.11124284e+00, 2.34582538e+00]),\n",
       " <BarContainer object of 10 artists>)"
      ]
     },
     "execution_count": 5,
     "metadata": {},
     "output_type": "execute_result"
    },
    {
     "data": {
      "image/png": "[encoded data removed]",
      "text/plain": [
       "<Figure size 640x480 with 1 Axes>"
      ]
     },
     "metadata": {},
     "output_type": "display_data"
    }
   ],
   "source": [
    "plt.hist(file2sigma.values(), bins=10)"
   ]
  },
  {
   "cell_type": "code",
   "execution_count": 6,
   "id": "1aa765f9-93c1-4aff-b26d-cfaf97cda65a",
   "metadata": {
    "ExecutionIndicator": {
     "show": true
    },
    "execution": {
     "iopub.execute_input": "2023-07-24T02:26:10.045391Z",
     "iopub.status.busy": "2023-07-24T02:26:10.045108Z",
     "iopub.status.idle": "2023-07-24T02:26:10.061473Z",
     "shell.execute_reply": "2023-07-24T02:26:10.061099Z",
     "shell.execute_reply.started": "2023-07-24T02:26:10.045377Z"
    },
    "tags": []
   },
   "outputs": [],
   "source": [
    "np.save('file2usability.npy', file2usability)\n",
    "np.save('file2sigma.npy', file2sigma)\n",
    "np.save('file2sigma_upper.npy', file2sigma_upper)"
   ]
  },
  {
   "cell_type": "code",
   "execution_count": 7,
   "id": "5adb90b4-9946-4e87-abcd-4a9a0f261b90",
   "metadata": {
    "ExecutionIndicator": {
     "show": true
    },
    "execution": {
     "iopub.execute_input": "2023-07-24T02:26:10.062267Z",
     "iopub.status.busy": "2023-07-24T02:26:10.061985Z",
     "iopub.status.idle": "2023-07-24T02:26:10.065746Z",
     "shell.execute_reply": "2023-07-24T02:26:10.065326Z",
     "shell.execute_reply.started": "2023-07-24T02:26:10.062254Z"
    },
    "tags": []
   },
   "outputs": [
    {
     "data": {
      "text/plain": [
       "{1.8469772022159765: 2.903671754065915,\n",
       " 0.10906065186314605: 0.1696341373668554,\n",
       " 2.1042131440534195: 3.3080777952167058,\n",
       " 1.2479002401848487: 1.6154616844754965,\n",
       " 1.2800728181867342: 2.275304593205917,\n",
       " 0.11346464062485402: 0.15813246241823042,\n",
       " 0.002659952221105319: 0.003707100223662887,\n",
       " 0.014474517297733476: 0.02017272561743338,\n",
       " 0.05186920595483783: 0.07228864619098069,\n",
       " 1.5010752566933228: 2.1589266882231417,\n",
       " 0.6426642689467759: 0.8705447295065399,\n",
       " 0.034563685795860666: 0.04839796332251017,\n",
       " 0.006552443852351946: 0.009131955783964677,\n",
       " 0.045186830120836324: 0.06297560787688174,\n",
       " 0.06579636794072251: 0.09169853818197601,\n",
       " 0.09235709242649176: 0.15066384231134444,\n",
       " 0.009097429143701681: 0.012678829847311925,\n",
       " 0.760636499258092: 1.3002835390931557,\n",
       " 0.003065681896698354: 0.0042725542040778445,\n",
       " 0.006720265700331256: 0.00936584434979805,\n",
       " 0.14248893145556166: 0.18767834632910257,\n",
       " 0.641237383816028: 0.8936744164440692,\n",
       " 0.009127350771256844: 0.014889617041760804,\n",
       " 0.08531171444790903: 0.12597614495757845,\n",
       " 0.2836772576827003: 0.3746737630949775,\n",
       " 0.6023755125289901: 0.8050908216561312,\n",
       " 1.3700022894417224e-16: 1.9007041307276222e-16,\n",
       " 0.7736753916477861: 1.088671849119006,\n",
       " 0.6041611810353714: 0.9135398839937342,\n",
       " 8.30265600420149e-06: 1.1571176988051881e-05,\n",
       " 0.006588873912809546: 0.010748552538062799,\n",
       " 0.007282609885080164: 0.011880256930067964,\n",
       " 2.345825380445094: 3.7764683346107284,\n",
       " 0.7018921503943217: 0.9828277791835044,\n",
       " 0.12971871261118534: 0.20628003779642193,\n",
       " 0.29892967590041325: 0.4035030858772624,\n",
       " 0.06229671432380941: 0.08682116985819081,\n",
       " 0.15837797408259324: 0.22176950184117203,\n",
       " 0.24728097668385146: 0.4092093062089451,\n",
       " 0.004893866123810633: 0.006820442885480047,\n",
       " 1.2174662236023048: 1.7311526462247189,\n",
       " 0.2703683942217807: 0.35162580229873813,\n",
       " 0.7682853707962163: 1.1264804427133446}"
      ]
     },
     "execution_count": 7,
     "metadata": {},
     "output_type": "execute_result"
    }
   ],
   "source": [
    "sigma2sigma_upper = {}\n",
    "for f in file2sigma.keys():\n",
    "    sigma = file2sigma[f]\n",
    "    sigma_upper = file2sigma_upper[f]\n",
    "    sigma2sigma_upper[sigma] = sigma_upper\n",
    "sigma2sigma_upper"
   ]
  },
  {
   "cell_type": "code",
   "execution_count": 8,
   "id": "e784e60a-5f25-4459-a34b-9fb29a96e1e9",
   "metadata": {
    "ExecutionIndicator": {
     "show": true
    },
    "execution": {
     "iopub.execute_input": "2023-07-24T02:26:10.066517Z",
     "iopub.status.busy": "2023-07-24T02:26:10.066240Z",
     "iopub.status.idle": "2023-07-24T02:26:10.069317Z",
     "shell.execute_reply": "2023-07-24T02:26:10.068953Z",
     "shell.execute_reply.started": "2023-07-24T02:26:10.066504Z"
    },
    "tags": []
   },
   "outputs": [],
   "source": [
    "file2usability = np.load('./file2usability.npy', allow_pickle=True).item()\n",
    "file2sigma = np.load('./file2sigma.npy', allow_pickle=True).item()"
   ]
  },
  {
   "cell_type": "code",
   "execution_count": 9,
   "id": "d2d1d071-d59d-4975-9f40-caaf1258d7e2",
   "metadata": {
    "execution": {
     "iopub.execute_input": "2023-07-24T02:26:10.070117Z",
     "iopub.status.busy": "2023-07-24T02:26:10.069846Z",
     "iopub.status.idle": "2023-07-24T02:26:10.073189Z",
     "shell.execute_reply": "2023-07-24T02:26:10.072802Z",
     "shell.execute_reply.started": "2023-07-24T02:26:10.070104Z"
    },
    "tags": []
   },
   "outputs": [
    {
     "data": {
      "text/plain": [
       "{'I-V_data_0.7um_length_200nm_diameter_BT_4V_NA_third_etch_10min_Pb_ED_1h_180C_MAI_no_100nm_Ag_memory_1V_carbon_paste_no_wait.xlsx': -0.20327452853183445,\n",
       " 'I-V_data_0.7um_length_200nm_diameter_BT_4V_NA_third_etch_10min_Pb_ED_1h_180C_MAI_no_100nm_Ag_memory_1V_probe_no_wait.xlsx': 0.22273483703421348,\n",
       " 'I-V_data_0.7um_length_200nm_diameter_BT_4V_NA_third_etch_10min_Pb_ED_1h_180C_MAI_no_100nm_Ag_memory_1V_silver_paste_no_wait.xlsx': -0.26501115457282065,\n",
       " 'I-V_data_0.7um_length_200nm_diameter_BT_4V_NA_third_etch_10min_Pb_ED_1h_180C_MAI_no_100nm_Ag_memory_5V_silver_paste_no_wait.xlsx': -0.15865615371830316,\n",
       " 'I-V_data_0.7um_length_200nm_diameter_BT_4V_NA_third_etch_25min_Pb_ED_1h_180C_MAI_no_100nm_Ag_memory_8V_carbon_paste_no_wait.xlsx': -0.04481165090987748,\n",
       " 'I-V_data_1.2um_length_200nm_diameter_BT_4V_NA_third_etch_15min_Pb_ED_10h_180+210C_FAI_PMMA_200nm_Ag_memory_6V_probe_no_wait.xlsx': 0.3634794973438098,\n",
       " 'I-V_data_1.2um_length_200nm_diameter_BT_4V_NA_third_etch_15min_Pb_ED_10h_180+210C_FAI_PMMA_200nm_Ag_memory_6V_silver_paste_no_wait.xlsx': 0.4089094195893468,\n",
       " 'I-V_data_1.2um_length_200nm_diameter_BT_4V_NA_third_etch_15min_Pb_ED_10h_180+210C_FAI_no_200nm_Ag_memory_6V_probe_no_wait.xlsx': 0.40406544790792925,\n",
       " 'I-V_data_1.2um_length_200nm_diameter_BT_4V_NA_third_etch_15min_Pb_ED_10h_180+210C_FAI_no_200nm_Ag_memory_6V_silver_paste_no_wait.xlsx': 0.3887336255585165,\n",
       " 'I-V_data_1.2um_length_200nm_diameter_BT_4V_NA_third_etch_15min_Pb_ED_1h_180C_MAI_no_100nm_Ag_memory_5V_carbon_paste_no_wait.xlsx': -0.17537633984266296,\n",
       " 'I-V_data_1.2um_length_200nm_diameter_BT_4V_NA_third_etch_15min_Pb_ED_1h_180C_MAI_no_100nm_Ag_memory_5V_carbon_paste_no_wait_2.xlsx': 0.1715211509055476,\n",
       " 'I-V_data_1.2um_length_200nm_diameter_BT_4V_NA_third_etch_15min_Pb_ED_3h_210C_MABr_PMMA_200nm_Ag_memory_6V_probe_no_wait.xlsx': 0.3861745256816558,\n",
       " 'I-V_data_1.2um_length_200nm_diameter_BT_4V_NA_third_etch_15min_Pb_ED_3h_210C_MABr_PMMA_200nm_Ag_memory_6V_silver_paste_no_wait.xlsx': 0.4073134980205357,\n",
       " 'I-V_data_1.2um_length_200nm_diameter_BT_4V_NA_third_etch_15min_Pb_ED_3h_210C_MABr_no_200nm_Ag_memory_6V_probe_no_wait.xlsx': 0.3914733996504571,\n",
       " 'I-V_data_1.2um_length_200nm_diameter_BT_4V_NA_third_etch_15min_Pb_ED_3h_210C_MABr_no_200nm_Ag_memory_6V_silver_paste_no_wait.xlsx': 0.38302348914430373,\n",
       " 'I-V_data_1.2um_length_200nm_diameter_BT_4V_NA_third_etch_25min_Pb_ED_1h_180C_MAI_no_100nm_Ag_memory_8V_carbon_paste_no_wait.xlsx': 0.19060501059043672,\n",
       " 'I-V_data_1.2um_length_250nm_diameter_BT_4V_10s_third_etch_15min_Pb_ED_3h_180C_MAI_no_200nm_Ag_memory_6V_carbon_paste_no_wait.xlsx': 0.4062700540510823,\n",
       " 'I-V_data_1.2um_length_250nm_diameter_BT_4V_20s_third_etch_15min_Pb_ED_3h_180C_MAI_no_200nm_Ag_memory_6V_carbon_paste_no_wait.xlsx': 0.04308543013354345,\n",
       " 'I-V_data_1.2um_length_250nm_diameter_BT_4V_NA_third_etch_15min_Pb_ED_3h_180C_MAI_PMMA_600nm_Ag_memory_6V_carbon_paste_no_wait.xlsx': 0.4087430704223537,\n",
       " 'I-V_data_1.2um_length_250nm_diameter_BT_4V_NA_third_etch_15min_Pb_ED_3h_180C_MAI_no_600nm_Ag_memory_6V_carbon_paste_no_wait.xlsx': 0.40724469106286415,\n",
       " 'I-V_data_1.5um_length_200nm_diameter_BT_2V_NA_third_etch_15min_Pb_ED_3h_180C_MAI_no_200nm_Ag_memory_4V_carbon_paste_wait_1min.xlsx': 0.48878130907032985,\n",
       " 'I-V_data_1.5um_length_200nm_diameter_BT_2V_NA_third_etch_15min_Pb_ED_3h_180C_MAI_no_200nm_Ag_memory_6V_carbon_paste_no_wait.xlsx': 0.1470926726354285,\n",
       " 'I-V_data_1.5um_length_200nm_diameter_BT_4V_NA_third_etch_10min_Pb_ED_1h_180C_MAI_no_100nm_Ag_memory_8V_carbon_paste_no_wait.xlsx': 0.20808325633803607,\n",
       " 'I-V_data_1.5um_length_200nm_diameter_BT_4V_NA_third_etch_10min_Pb_ED_1h_180C_MAI_no_100nm_Ag_memory_8V_carbon_paste_no_wait_2.xlsx': 0.2835533685211482,\n",
       " 'I-V_data_1.5um_length_200nm_diameter_BT_4V_NA_third_etch_15min_Pb_ED_3h_180C_MAI_no_200nm_Ag_memory_6V_carbon_paste_no_wait.xlsx': 0.4011407356976879,\n",
       " 'I-V_data_1.5um_length_200nm_diameter_BT_4V_annealing_500C_5hrs_NA_third_etch_15min_Pb_ED_3h_180C_MAI_no_200nm_Ag_memory_6V_carbon_paste_no_wait.xlsx': 0.20676473348492513,\n",
       " 'I-V_data_1.5um_length_5nm_diameter_BT_4V_NA_third_etch_8min_Pb_ED_3h_180C_MAI_no_150nm_Ag_memory_6V_carbon_paste_no_wait.xlsx': 0.41999999999999993,\n",
       " 'I-V_data_1.6um_length_250nm_diameter_BT_4V_NA_third_etch_15min_Pb_ED_3h_180C_MAI_PMMA_100nm_Ag_memory_6V_carbon_paste_no_wait.xlsx': 0.08826659725736342,\n",
       " 'I-V_data_1.6um_length_250nm_diameter_BT_4V_NA_third_etch_15min_Pb_ED_3h_180C_MAI_no_100nm_Ag_memory_8V_carbon_paste_no_wait.xlsx': 0.11083486931009605,\n",
       " 'I-V_data_1.8um_length_50nm_diameter_BT_4V_NA_third_etch_20min_Pb_ED_3h_180C_MAI_no_200nm_Ag_memory_6V_carbon_paste_no_wait.xlsx': 0.40999659591103826,\n",
       " 'I-V_data_1um_length_200nm_diameter_BT_4V_NA_third_etch_10min_Pb_ED_1h_180C_MAI_no_100nm_Ag_memory_8V_carbon_paste_no_wait.xlsx': 0.20861633647831,\n",
       " 'I-V_data_1um_length_200nm_diameter_BT_4V_NA_third_etch_25min_Pb_ED_1h_180C_MAI_no_100nm_Ag_memory_8V_carbon_paste_no_wait.xlsx': 0.20847065192413317,\n",
       " 'I-V_data_2.5um_length_200nm_diameter_BT_4V_NA_third_etch_25min_Pb_ED_1h_180C_MAI_no_100nm_Ag_memory_3V_carbon_paste_no_wait.xlsx': -0.2960815836979207,\n",
       " 'I-V_data_2.5um_length_200nm_diameter_BT_4V_NA_third_etch_25min_Pb_ED_1h_180C_MAI_no_100nm_Ag_memory_5V_silver_paste_no_wait.xlsx': 0.1192431398422713,\n",
       " 'I-V_data_2.5um_length_200nm_diameter_BT_4V_NA_third_etch_25min_Pb_ED_1h_180C_MAI_no_100nm_Ag_memory_8V_silver_paste_no_wait.xlsx': 0.20016469609942736,\n",
       " 'I-V_data_2um_length_200nm_diameter_BT_4V_NA_third_etch_15min_Pb_ED_3h_370+450C_CsPbI3_no_200nm_Ag_memory_6V_probe_wait_1min.xlsx': 0.34352445880879745,\n",
       " 'I-V_data_2um_length_200nm_diameter_BT_4V_NA_third_etch_18min_Pb_ED_10h_180+210C_FAI_no_200nm_Ag_memory_6V_silver_paste_no_wait.xlsx': 0.3844583471272381,\n",
       " 'I-V_data_2um_length_200nm_diameter_BT_4V_NA_third_etch_18min_Pb_ED_3h_210C_MABr_no_200nm_Ag_memory_6V_silver_paste_no_wait.xlsx': 0.3366488103669627,\n",
       " 'I-V_data_2um_length_200nm_diameter_BT_4V_NA_third_etch_18min_Pb_ED_3h_210C_MABr_no_200nm_Ag_memory_8V_probe_no_wait.xlsx': 0.1505438046632297,\n",
       " 'I-V_data_2um_length_250nm_diameter_BT_4V_NA_third_etch_15min_Pb_ED_3h_180C_MAI_no_200nm_Ag_memory_6V_carbon_paste_no_wait.xlsx': 0.40799351488923763,\n",
       " 'I-V_data_2um_length_300nm_diameter_BT_4V_NA_third_etch_10min_Pb_ED_1h_180C_MAI_no_100nm_Ag_memory_4V_carbon_paste_no_wait.xlsx': -0.0804625027328527,\n",
       " 'I-V_data_2um_length_300nm_diameter_BT_4V_NA_third_etch_15min_Pb_ED_1h_180C_MAI_no_100nm_Ag_memory_6V_carbon_paste_no_wait.xlsx': 0.45237159558249596,\n",
       " 'I-V_data_3um_length_50nm_diameter_BT_4V_NA_third_etch_20min_Pb_ED_3h_180C_MAI_no_200nm_Ag_memory_6V_carbon_paste_no_wait.xlsx': 0.07414868134521078}"
      ]
     },
     "execution_count": 9,
     "metadata": {},
     "output_type": "execute_result"
    }
   ],
   "source": [
    "file2usability"
   ]
  },
  {
   "cell_type": "code",
   "execution_count": 10,
   "id": "0dd48874-26f5-489d-bddb-5162372ac2ef",
   "metadata": {
    "execution": {
     "iopub.execute_input": "2023-07-24T02:26:10.074887Z",
     "iopub.status.busy": "2023-07-24T02:26:10.074600Z",
     "iopub.status.idle": "2023-07-24T02:26:10.077920Z",
     "shell.execute_reply": "2023-07-24T02:26:10.077563Z",
     "shell.execute_reply.started": "2023-07-24T02:26:10.074873Z"
    },
    "tags": []
   },
   "outputs": [
    {
     "data": {
      "text/plain": [
       "{'I-V_data_0.7um_length_200nm_diameter_BT_4V_NA_third_etch_10min_Pb_ED_1h_180C_MAI_no_100nm_Ag_memory_1V_carbon_paste_no_wait.xlsx': 1.8469772022159765,\n",
       " 'I-V_data_0.7um_length_200nm_diameter_BT_4V_NA_third_etch_10min_Pb_ED_1h_180C_MAI_no_100nm_Ag_memory_1V_probe_no_wait.xlsx': 0.10906065186314605,\n",
       " 'I-V_data_0.7um_length_200nm_diameter_BT_4V_NA_third_etch_10min_Pb_ED_1h_180C_MAI_no_100nm_Ag_memory_1V_silver_paste_no_wait.xlsx': 2.1042131440534195,\n",
       " 'I-V_data_0.7um_length_200nm_diameter_BT_4V_NA_third_etch_10min_Pb_ED_1h_180C_MAI_no_100nm_Ag_memory_5V_silver_paste_no_wait.xlsx': 1.2479002401848487,\n",
       " 'I-V_data_0.7um_length_200nm_diameter_BT_4V_NA_third_etch_25min_Pb_ED_1h_180C_MAI_no_100nm_Ag_memory_8V_carbon_paste_no_wait.xlsx': 1.2800728181867342,\n",
       " 'I-V_data_1.2um_length_200nm_diameter_BT_4V_NA_third_etch_15min_Pb_ED_10h_180+210C_FAI_PMMA_200nm_Ag_memory_6V_probe_no_wait.xlsx': 0.11346464062485402,\n",
       " 'I-V_data_1.2um_length_200nm_diameter_BT_4V_NA_third_etch_15min_Pb_ED_10h_180+210C_FAI_PMMA_200nm_Ag_memory_6V_silver_paste_no_wait.xlsx': 0.002659952221105319,\n",
       " 'I-V_data_1.2um_length_200nm_diameter_BT_4V_NA_third_etch_15min_Pb_ED_10h_180+210C_FAI_no_200nm_Ag_memory_6V_probe_no_wait.xlsx': 0.014474517297733476,\n",
       " 'I-V_data_1.2um_length_200nm_diameter_BT_4V_NA_third_etch_15min_Pb_ED_10h_180+210C_FAI_no_200nm_Ag_memory_6V_silver_paste_no_wait.xlsx': 0.05186920595483783,\n",
       " 'I-V_data_1.2um_length_200nm_diameter_BT_4V_NA_third_etch_15min_Pb_ED_1h_180C_MAI_no_100nm_Ag_memory_5V_carbon_paste_no_wait.xlsx': 1.5010752566933228,\n",
       " 'I-V_data_1.2um_length_200nm_diameter_BT_4V_NA_third_etch_15min_Pb_ED_1h_180C_MAI_no_100nm_Ag_memory_5V_carbon_paste_no_wait_2.xlsx': 0.6426642689467759,\n",
       " 'I-V_data_1.2um_length_200nm_diameter_BT_4V_NA_third_etch_15min_Pb_ED_3h_210C_MABr_PMMA_200nm_Ag_memory_6V_probe_no_wait.xlsx': 0.034563685795860666,\n",
       " 'I-V_data_1.2um_length_200nm_diameter_BT_4V_NA_third_etch_15min_Pb_ED_3h_210C_MABr_PMMA_200nm_Ag_memory_6V_silver_paste_no_wait.xlsx': 0.006552443852351946,\n",
       " 'I-V_data_1.2um_length_200nm_diameter_BT_4V_NA_third_etch_15min_Pb_ED_3h_210C_MABr_no_200nm_Ag_memory_6V_probe_no_wait.xlsx': 0.045186830120836324,\n",
       " 'I-V_data_1.2um_length_200nm_diameter_BT_4V_NA_third_etch_15min_Pb_ED_3h_210C_MABr_no_200nm_Ag_memory_6V_silver_paste_no_wait.xlsx': 0.06579636794072251,\n",
       " 'I-V_data_1.2um_length_200nm_diameter_BT_4V_NA_third_etch_25min_Pb_ED_1h_180C_MAI_no_100nm_Ag_memory_8V_carbon_paste_no_wait.xlsx': 0.09235709242649176,\n",
       " 'I-V_data_1.2um_length_250nm_diameter_BT_4V_10s_third_etch_15min_Pb_ED_3h_180C_MAI_no_200nm_Ag_memory_6V_carbon_paste_no_wait.xlsx': 0.009097429143701681,\n",
       " 'I-V_data_1.2um_length_250nm_diameter_BT_4V_20s_third_etch_15min_Pb_ED_3h_180C_MAI_no_200nm_Ag_memory_6V_carbon_paste_no_wait.xlsx': 0.760636499258092,\n",
       " 'I-V_data_1.2um_length_250nm_diameter_BT_4V_NA_third_etch_15min_Pb_ED_3h_180C_MAI_PMMA_600nm_Ag_memory_6V_carbon_paste_no_wait.xlsx': 0.003065681896698354,\n",
       " 'I-V_data_1.2um_length_250nm_diameter_BT_4V_NA_third_etch_15min_Pb_ED_3h_180C_MAI_no_600nm_Ag_memory_6V_carbon_paste_no_wait.xlsx': 0.006720265700331256,\n",
       " 'I-V_data_1.5um_length_200nm_diameter_BT_2V_NA_third_etch_15min_Pb_ED_3h_180C_MAI_no_200nm_Ag_memory_4V_carbon_paste_wait_1min.xlsx': 0.14248893145556166,\n",
       " 'I-V_data_1.5um_length_200nm_diameter_BT_2V_NA_third_etch_15min_Pb_ED_3h_180C_MAI_no_200nm_Ag_memory_6V_carbon_paste_no_wait.xlsx': 0.641237383816028,\n",
       " 'I-V_data_1.5um_length_200nm_diameter_BT_4V_NA_third_etch_10min_Pb_ED_1h_180C_MAI_no_100nm_Ag_memory_8V_carbon_paste_no_wait.xlsx': 0.009127350771256844,\n",
       " 'I-V_data_1.5um_length_200nm_diameter_BT_4V_NA_third_etch_10min_Pb_ED_1h_180C_MAI_no_100nm_Ag_memory_8V_carbon_paste_no_wait_2.xlsx': 0.08531171444790903,\n",
       " 'I-V_data_1.5um_length_200nm_diameter_BT_4V_NA_third_etch_15min_Pb_ED_3h_180C_MAI_no_200nm_Ag_memory_6V_carbon_paste_no_wait.xlsx': 0.2836772576827003,\n",
       " 'I-V_data_1.5um_length_200nm_diameter_BT_4V_annealing_500C_5hrs_NA_third_etch_15min_Pb_ED_3h_180C_MAI_no_200nm_Ag_memory_6V_carbon_paste_no_wait.xlsx': 0.6023755125289901,\n",
       " 'I-V_data_1.5um_length_5nm_diameter_BT_4V_NA_third_etch_8min_Pb_ED_3h_180C_MAI_no_150nm_Ag_memory_6V_carbon_paste_no_wait.xlsx': 1.3700022894417224e-16,\n",
       " 'I-V_data_1.6um_length_250nm_diameter_BT_4V_NA_third_etch_15min_Pb_ED_3h_180C_MAI_PMMA_100nm_Ag_memory_6V_carbon_paste_no_wait.xlsx': 0.7736753916477861,\n",
       " 'I-V_data_1.6um_length_250nm_diameter_BT_4V_NA_third_etch_15min_Pb_ED_3h_180C_MAI_no_100nm_Ag_memory_8V_carbon_paste_no_wait.xlsx': 0.6041611810353714,\n",
       " 'I-V_data_1.8um_length_50nm_diameter_BT_4V_NA_third_etch_20min_Pb_ED_3h_180C_MAI_no_200nm_Ag_memory_6V_carbon_paste_no_wait.xlsx': 8.30265600420149e-06,\n",
       " 'I-V_data_1um_length_200nm_diameter_BT_4V_NA_third_etch_10min_Pb_ED_1h_180C_MAI_no_100nm_Ag_memory_8V_carbon_paste_no_wait.xlsx': 0.006588873912809546,\n",
       " 'I-V_data_1um_length_200nm_diameter_BT_4V_NA_third_etch_25min_Pb_ED_1h_180C_MAI_no_100nm_Ag_memory_8V_carbon_paste_no_wait.xlsx': 0.007282609885080164,\n",
       " 'I-V_data_2.5um_length_200nm_diameter_BT_4V_NA_third_etch_25min_Pb_ED_1h_180C_MAI_no_100nm_Ag_memory_3V_carbon_paste_no_wait.xlsx': 2.345825380445094,\n",
       " 'I-V_data_2.5um_length_200nm_diameter_BT_4V_NA_third_etch_25min_Pb_ED_1h_180C_MAI_no_100nm_Ag_memory_5V_silver_paste_no_wait.xlsx': 0.7018921503943217,\n",
       " 'I-V_data_2.5um_length_200nm_diameter_BT_4V_NA_third_etch_25min_Pb_ED_1h_180C_MAI_no_100nm_Ag_memory_8V_silver_paste_no_wait.xlsx': 0.12971871261118534,\n",
       " 'I-V_data_2um_length_200nm_diameter_BT_4V_NA_third_etch_15min_Pb_ED_3h_370+450C_CsPbI3_no_200nm_Ag_memory_6V_probe_wait_1min.xlsx': 0.29892967590041325,\n",
       " 'I-V_data_2um_length_200nm_diameter_BT_4V_NA_third_etch_18min_Pb_ED_10h_180+210C_FAI_no_200nm_Ag_memory_6V_silver_paste_no_wait.xlsx': 0.06229671432380941,\n",
       " 'I-V_data_2um_length_200nm_diameter_BT_4V_NA_third_etch_18min_Pb_ED_3h_210C_MABr_no_200nm_Ag_memory_6V_silver_paste_no_wait.xlsx': 0.15837797408259324,\n",
       " 'I-V_data_2um_length_200nm_diameter_BT_4V_NA_third_etch_18min_Pb_ED_3h_210C_MABr_no_200nm_Ag_memory_8V_probe_no_wait.xlsx': 0.24728097668385146,\n",
       " 'I-V_data_2um_length_250nm_diameter_BT_4V_NA_third_etch_15min_Pb_ED_3h_180C_MAI_no_200nm_Ag_memory_6V_carbon_paste_no_wait.xlsx': 0.004893866123810633,\n",
       " 'I-V_data_2um_length_300nm_diameter_BT_4V_NA_third_etch_10min_Pb_ED_1h_180C_MAI_no_100nm_Ag_memory_4V_carbon_paste_no_wait.xlsx': 1.2174662236023048,\n",
       " 'I-V_data_2um_length_300nm_diameter_BT_4V_NA_third_etch_15min_Pb_ED_1h_180C_MAI_no_100nm_Ag_memory_6V_carbon_paste_no_wait.xlsx': 0.2703683942217807,\n",
       " 'I-V_data_3um_length_50nm_diameter_BT_4V_NA_third_etch_20min_Pb_ED_3h_180C_MAI_no_200nm_Ag_memory_6V_carbon_paste_no_wait.xlsx': 0.7682853707962163}"
      ]
     },
     "execution_count": 10,
     "metadata": {},
     "output_type": "execute_result"
    }
   ],
   "source": [
    "file2sigma"
   ]
  },
  {
   "cell_type": "code",
   "execution_count": 11,
   "id": "7eb64eed-f402-45a5-ba35-adc9c534a00f",
   "metadata": {
    "ExecutionIndicator": {
     "show": true
    },
    "execution": {
     "iopub.execute_input": "2023-07-24T02:26:10.078694Z",
     "iopub.status.busy": "2023-07-24T02:26:10.078427Z",
     "iopub.status.idle": "2023-07-24T02:26:10.080550Z",
     "shell.execute_reply": "2023-07-24T02:26:10.080165Z",
     "shell.execute_reply.started": "2023-07-24T02:26:10.078681Z"
    },
    "tags": []
   },
   "outputs": [],
   "source": [
    "# np.load('file2usability.npy', allow_pickle=True).item()#)#[0]#.todict()#['I-V_data_0.7um_length_200nm_diameter_NA_third_etch_10min_Pb_ED_1h_180C_MAI_no_100nm_Ag_memory_1V_carbon_paste.xlsx']"
   ]
  },
  {
   "cell_type": "code",
   "execution_count": 12,
   "id": "67cda288-d012-4bb3-9cd0-ed149611506b",
   "metadata": {
    "ExecutionIndicator": {
     "show": false
    },
    "execution": {
     "iopub.execute_input": "2023-07-24T02:26:10.081200Z",
     "iopub.status.busy": "2023-07-24T02:26:10.081068Z",
     "iopub.status.idle": "2023-07-24T02:26:10.084076Z",
     "shell.execute_reply": "2023-07-24T02:26:10.083653Z",
     "shell.execute_reply.started": "2023-07-24T02:26:10.081189Z"
    },
    "tags": []
   },
   "outputs": [
    {
     "name": "stdout",
     "output_type": "stream",
     "text": [
      "1.3700022894417224e-16 I-V_data_1.5um_length_5nm_diameter_BT_4V_NA_third_etch_8min_Pb_ED_3h_180C_MAI_no_150nm_Ag_memory_6V_carbon_paste_no_wait.xlsx\n",
      "8.30265600420149e-06 I-V_data_1.8um_length_50nm_diameter_BT_4V_NA_third_etch_20min_Pb_ED_3h_180C_MAI_no_200nm_Ag_memory_6V_carbon_paste_no_wait.xlsx\n",
      "0.002659952221105319 I-V_data_1.2um_length_200nm_diameter_BT_4V_NA_third_etch_15min_Pb_ED_10h_180+210C_FAI_PMMA_200nm_Ag_memory_6V_silver_paste_no_wait.xlsx\n",
      "0.003065681896698354 I-V_data_1.2um_length_250nm_diameter_BT_4V_NA_third_etch_15min_Pb_ED_3h_180C_MAI_PMMA_600nm_Ag_memory_6V_carbon_paste_no_wait.xlsx\n",
      "0.004893866123810633 I-V_data_2um_length_250nm_diameter_BT_4V_NA_third_etch_15min_Pb_ED_3h_180C_MAI_no_200nm_Ag_memory_6V_carbon_paste_no_wait.xlsx\n",
      "0.006552443852351946 I-V_data_1.2um_length_200nm_diameter_BT_4V_NA_third_etch_15min_Pb_ED_3h_210C_MABr_PMMA_200nm_Ag_memory_6V_silver_paste_no_wait.xlsx\n",
      "0.006588873912809546 I-V_data_1um_length_200nm_diameter_BT_4V_NA_third_etch_10min_Pb_ED_1h_180C_MAI_no_100nm_Ag_memory_8V_carbon_paste_no_wait.xlsx\n",
      "0.006720265700331256 I-V_data_1.2um_length_250nm_diameter_BT_4V_NA_third_etch_15min_Pb_ED_3h_180C_MAI_no_600nm_Ag_memory_6V_carbon_paste_no_wait.xlsx\n",
      "0.007282609885080164 I-V_data_1um_length_200nm_diameter_BT_4V_NA_third_etch_25min_Pb_ED_1h_180C_MAI_no_100nm_Ag_memory_8V_carbon_paste_no_wait.xlsx\n",
      "0.009097429143701681 I-V_data_1.2um_length_250nm_diameter_BT_4V_10s_third_etch_15min_Pb_ED_3h_180C_MAI_no_200nm_Ag_memory_6V_carbon_paste_no_wait.xlsx\n",
      "0.009127350771256844 I-V_data_1.5um_length_200nm_diameter_BT_4V_NA_third_etch_10min_Pb_ED_1h_180C_MAI_no_100nm_Ag_memory_8V_carbon_paste_no_wait.xlsx\n",
      "0.014474517297733476 I-V_data_1.2um_length_200nm_diameter_BT_4V_NA_third_etch_15min_Pb_ED_10h_180+210C_FAI_no_200nm_Ag_memory_6V_probe_no_wait.xlsx\n",
      "0.034563685795860666 I-V_data_1.2um_length_200nm_diameter_BT_4V_NA_third_etch_15min_Pb_ED_3h_210C_MABr_PMMA_200nm_Ag_memory_6V_probe_no_wait.xlsx\n",
      "0.045186830120836324 I-V_data_1.2um_length_200nm_diameter_BT_4V_NA_third_etch_15min_Pb_ED_3h_210C_MABr_no_200nm_Ag_memory_6V_probe_no_wait.xlsx\n",
      "0.05186920595483783 I-V_data_1.2um_length_200nm_diameter_BT_4V_NA_third_etch_15min_Pb_ED_10h_180+210C_FAI_no_200nm_Ag_memory_6V_silver_paste_no_wait.xlsx\n",
      "0.06229671432380941 I-V_data_2um_length_200nm_diameter_BT_4V_NA_third_etch_18min_Pb_ED_10h_180+210C_FAI_no_200nm_Ag_memory_6V_silver_paste_no_wait.xlsx\n",
      "0.06579636794072251 I-V_data_1.2um_length_200nm_diameter_BT_4V_NA_third_etch_15min_Pb_ED_3h_210C_MABr_no_200nm_Ag_memory_6V_silver_paste_no_wait.xlsx\n",
      "0.08531171444790903 I-V_data_1.5um_length_200nm_diameter_BT_4V_NA_third_etch_10min_Pb_ED_1h_180C_MAI_no_100nm_Ag_memory_8V_carbon_paste_no_wait_2.xlsx\n",
      "0.09235709242649176 I-V_data_1.2um_length_200nm_diameter_BT_4V_NA_third_etch_25min_Pb_ED_1h_180C_MAI_no_100nm_Ag_memory_8V_carbon_paste_no_wait.xlsx\n",
      "0.10906065186314605 I-V_data_0.7um_length_200nm_diameter_BT_4V_NA_third_etch_10min_Pb_ED_1h_180C_MAI_no_100nm_Ag_memory_1V_probe_no_wait.xlsx\n",
      "0.11346464062485402 I-V_data_1.2um_length_200nm_diameter_BT_4V_NA_third_etch_15min_Pb_ED_10h_180+210C_FAI_PMMA_200nm_Ag_memory_6V_probe_no_wait.xlsx\n",
      "0.12971871261118534 I-V_data_2.5um_length_200nm_diameter_BT_4V_NA_third_etch_25min_Pb_ED_1h_180C_MAI_no_100nm_Ag_memory_8V_silver_paste_no_wait.xlsx\n",
      "0.14248893145556166 I-V_data_1.5um_length_200nm_diameter_BT_2V_NA_third_etch_15min_Pb_ED_3h_180C_MAI_no_200nm_Ag_memory_4V_carbon_paste_wait_1min.xlsx\n",
      "0.15837797408259324 I-V_data_2um_length_200nm_diameter_BT_4V_NA_third_etch_18min_Pb_ED_3h_210C_MABr_no_200nm_Ag_memory_6V_silver_paste_no_wait.xlsx\n",
      "0.24728097668385146 I-V_data_2um_length_200nm_diameter_BT_4V_NA_third_etch_18min_Pb_ED_3h_210C_MABr_no_200nm_Ag_memory_8V_probe_no_wait.xlsx\n",
      "0.2703683942217807 I-V_data_2um_length_300nm_diameter_BT_4V_NA_third_etch_15min_Pb_ED_1h_180C_MAI_no_100nm_Ag_memory_6V_carbon_paste_no_wait.xlsx\n",
      "0.2836772576827003 I-V_data_1.5um_length_200nm_diameter_BT_4V_NA_third_etch_15min_Pb_ED_3h_180C_MAI_no_200nm_Ag_memory_6V_carbon_paste_no_wait.xlsx\n",
      "0.29892967590041325 I-V_data_2um_length_200nm_diameter_BT_4V_NA_third_etch_15min_Pb_ED_3h_370+450C_CsPbI3_no_200nm_Ag_memory_6V_probe_wait_1min.xlsx\n",
      "0.6023755125289901 I-V_data_1.5um_length_200nm_diameter_BT_4V_annealing_500C_5hrs_NA_third_etch_15min_Pb_ED_3h_180C_MAI_no_200nm_Ag_memory_6V_carbon_paste_no_wait.xlsx\n",
      "0.6041611810353714 I-V_data_1.6um_length_250nm_diameter_BT_4V_NA_third_etch_15min_Pb_ED_3h_180C_MAI_no_100nm_Ag_memory_8V_carbon_paste_no_wait.xlsx\n",
      "0.641237383816028 I-V_data_1.5um_length_200nm_diameter_BT_2V_NA_third_etch_15min_Pb_ED_3h_180C_MAI_no_200nm_Ag_memory_6V_carbon_paste_no_wait.xlsx\n",
      "0.6426642689467759 I-V_data_1.2um_length_200nm_diameter_BT_4V_NA_third_etch_15min_Pb_ED_1h_180C_MAI_no_100nm_Ag_memory_5V_carbon_paste_no_wait_2.xlsx\n",
      "0.7018921503943217 I-V_data_2.5um_length_200nm_diameter_BT_4V_NA_third_etch_25min_Pb_ED_1h_180C_MAI_no_100nm_Ag_memory_5V_silver_paste_no_wait.xlsx\n",
      "0.760636499258092 I-V_data_1.2um_length_250nm_diameter_BT_4V_20s_third_etch_15min_Pb_ED_3h_180C_MAI_no_200nm_Ag_memory_6V_carbon_paste_no_wait.xlsx\n",
      "0.7682853707962163 I-V_data_3um_length_50nm_diameter_BT_4V_NA_third_etch_20min_Pb_ED_3h_180C_MAI_no_200nm_Ag_memory_6V_carbon_paste_no_wait.xlsx\n",
      "0.7736753916477861 I-V_data_1.6um_length_250nm_diameter_BT_4V_NA_third_etch_15min_Pb_ED_3h_180C_MAI_PMMA_100nm_Ag_memory_6V_carbon_paste_no_wait.xlsx\n",
      "1.2174662236023048 I-V_data_2um_length_300nm_diameter_BT_4V_NA_third_etch_10min_Pb_ED_1h_180C_MAI_no_100nm_Ag_memory_4V_carbon_paste_no_wait.xlsx\n",
      "1.2479002401848487 I-V_data_0.7um_length_200nm_diameter_BT_4V_NA_third_etch_10min_Pb_ED_1h_180C_MAI_no_100nm_Ag_memory_5V_silver_paste_no_wait.xlsx\n",
      "1.2800728181867342 I-V_data_0.7um_length_200nm_diameter_BT_4V_NA_third_etch_25min_Pb_ED_1h_180C_MAI_no_100nm_Ag_memory_8V_carbon_paste_no_wait.xlsx\n",
      "1.5010752566933228 I-V_data_1.2um_length_200nm_diameter_BT_4V_NA_third_etch_15min_Pb_ED_1h_180C_MAI_no_100nm_Ag_memory_5V_carbon_paste_no_wait.xlsx\n",
      "1.8469772022159765 I-V_data_0.7um_length_200nm_diameter_BT_4V_NA_third_etch_10min_Pb_ED_1h_180C_MAI_no_100nm_Ag_memory_1V_carbon_paste_no_wait.xlsx\n",
      "2.1042131440534195 I-V_data_0.7um_length_200nm_diameter_BT_4V_NA_third_etch_10min_Pb_ED_1h_180C_MAI_no_100nm_Ag_memory_1V_silver_paste_no_wait.xlsx\n",
      "2.345825380445094 I-V_data_2.5um_length_200nm_diameter_BT_4V_NA_third_etch_25min_Pb_ED_1h_180C_MAI_no_100nm_Ag_memory_3V_carbon_paste_no_wait.xlsx\n"
     ]
    }
   ],
   "source": [
    "for i, j in sorted(zip(file2sigma.values(), file2sigma.keys())):\n",
    "    print(i, j)\n"
   ]
  },
  {
   "cell_type": "markdown",
   "id": "3ce320e0-851a-45e8-846e-9ab15bd031ba",
   "metadata": {},
   "source": [
    "sigma CI"
   ]
  },
  {
   "cell_type": "code",
   "execution_count": 13,
   "id": "8b918ff2-170e-4170-ac51-5d59c905aa3f",
   "metadata": {
    "ExecutionIndicator": {
     "show": true
    },
    "execution": {
     "iopub.execute_input": "2023-07-24T02:26:10.084863Z",
     "iopub.status.busy": "2023-07-24T02:26:10.084611Z",
     "iopub.status.idle": "2023-07-24T02:26:10.089294Z",
     "shell.execute_reply": "2023-07-24T02:26:10.088912Z",
     "shell.execute_reply.started": "2023-07-24T02:26:10.084850Z"
    },
    "tags": []
   },
   "outputs": [],
   "source": [
    "from scipy.stats import chi2\n",
    "\n",
    "def mlesigma_with_CI(f_name, st_indx, end_indx):\n",
    "    \"\"\"\n",
    "    我们引入 MLE 方法来估计忆阻器电导值与对应电压水平下电导均值的比值的 mu 和 sigma\n",
    "    函数返回 sigma 值，它的值反映了等效噪声水平的强度\n",
    "    '''\n",
    "    关于噪声分布形式设定与转换的说明：\n",
    "    X ~ logNorm(a, b)  # m, v 是对数正态分布本身的均值和方差\n",
    "    # 这说的是 X 是一个值永远为正的随机变量，只有取对数之后才是正态分布\n",
    "    即 logX ~ Norm(mu, sigma)\n",
    "\n",
    "    换算关系：\n",
    "    m = exp(mu + sigma^2/2)  # 注意到 m 是 >0 的\n",
    "    v = exp(2*mu + sigma^2) * exp(sigma^2 - 1)  \n",
    "\n",
    "    因此，一个随机变量 Y 如果服从正态分布，即 Y ~ Norm(mu, sigma)\n",
    "    就一定可以有一个 X = exp(Y), 使得 Y = logX ~ Norm(mu, sigma)\n",
    "\n",
    "    所以，一个正态分布随机变量取指数得到的变量就服从对数正态分布\n",
    "\n",
    "    具体到上面的代码，已知gaussian_kernel 服从正态分布，则 \n",
    "            torch.exp(noise_sigma*gassian_kernel.sample(noise_sigma.size())) \n",
    "    服从对数正态分布，其中我们施加的 mu, sigma 都是对应的正态分布的参数，而非对数正态分布的参数\n",
    "\n",
    "    又由于 (m, v) 和 (mu, sigma) 是一一映射，我们控制谁都一样，\n",
    "    所以，为了方便和统一，今后：\n",
    "    1）需要采样对数正态分布样本，都采取先用 mu, sigma 采样正态分布，再 exp 的方式\n",
    "    2）需要估计对数正态分布参数，都采取先对对数正态分布样本取 log，再用 norm.fit 拟合的方式\n",
    "    '''\n",
    "    \"\"\"\n",
    "    eps = 1e-12\n",
    "    data = pd.read_excel(f_name, engine='openpyxl').iloc[st_indx: end_indx+1, :]\n",
    "    # data = data.iloc[st_indx: end_indx+1, :]\n",
    "    \n",
    "    conductance = data.drop(['voltage'], axis=1).div((data['voltage']+eps), axis=0)\n",
    "    # conductance = conductance[(conductance!=np.inf).all(axis=1)]\n",
    "    \n",
    "    conductance_by_mean = np.array(conductance.div(conductance.mean(axis=1), axis=0)).reshape(1, -1)[0]\n",
    "    samples = np.log(conductance_by_mean + eps)\n",
    "    samples_fine = np.delete(conductance_by_mean, np.isfinite(samples)==False)\n",
    "\n",
    "    mu_hat, sigma_hat = norm.fit(samples_fine)  # 通过极大似然估计得到 sigma\\hat，不固定均值为 0\n",
    "    # mu_hat, sigma_hat = norm.fit(samples_fine, floc=0)  # 通过极大似然估计得到 sigma\\hat，固定均值为 0\n",
    "    sigma_hat_upper95 = sigma_hat * np.sqrt((end_indx-st_indx+1) / chi2.ppf(q=0.005, df=end_indx-st_indx))\n",
    "    \n",
    "    return mu_hat, sigma_hat, sigma_hat_upper95"
   ]
  },
  {
   "cell_type": "code",
   "execution_count": 14,
   "id": "bd5c1c6c-a66c-4e05-bed5-f645f82307d5",
   "metadata": {
    "ExecutionIndicator": {
     "show": true
    },
    "execution": {
     "iopub.execute_input": "2023-07-24T02:26:10.090129Z",
     "iopub.status.busy": "2023-07-24T02:26:10.089836Z",
     "iopub.status.idle": "2023-07-24T02:26:10.136120Z",
     "shell.execute_reply": "2023-07-24T02:26:10.135756Z",
     "shell.execute_reply.started": "2023-07-24T02:26:10.090115Z"
    },
    "tags": []
   },
   "outputs": [
    {
     "data": {
      "text/plain": [
       "(1.0, 0.18021548046445335, 0.22072744309852402)"
      ]
     },
     "execution_count": 14,
     "metadata": {},
     "output_type": "execute_result"
    }
   ],
   "source": [
    "mlesigma_with_CI(f_name='I-V_data_25min_AAO_10min_Pb_ED_1h_180C_MAI_memory_8V_2.xlsx', st_indx=0, end_indx=100)"
   ]
  },
  {
   "cell_type": "markdown",
   "id": "5248a5ce-735a-4ed0-b438-daf749de599d",
   "metadata": {},
   "source": []
  },
  {
   "cell_type": "code",
   "execution_count": 15,
   "id": "5b5797fb-a39f-46a9-9c35-142a1454ae57",
   "metadata": {
    "ExecutionIndicator": {
     "show": true
    },
    "execution": {
     "iopub.execute_input": "2023-07-24T02:26:10.136930Z",
     "iopub.status.busy": "2023-07-24T02:26:10.136635Z",
     "iopub.status.idle": "2023-07-24T02:26:10.138719Z",
     "shell.execute_reply": "2023-07-24T02:26:10.138327Z",
     "shell.execute_reply.started": "2023-07-24T02:26:10.136917Z"
    },
    "tags": []
   },
   "outputs": [],
   "source": [
    "# for f_name in "
   ]
  },
  {
   "cell_type": "code",
   "execution_count": null,
   "id": "ecd8df4c-b8c6-4ef9-9ab7-b8b582693970",
   "metadata": {},
   "outputs": [],
   "source": []
  },
  {
   "cell_type": "code",
   "execution_count": null,
   "id": "999d6f9e-ecf3-4ac8-a4a7-fd9020ade0b7",
   "metadata": {},
   "outputs": [],
   "source": []
  },
  {
   "cell_type": "code",
   "execution_count": 21,
   "id": "94f3767c-d6f3-41c7-b765-a7d7fc7ead78",
   "metadata": {
    "ExecutionIndicator": {
     "show": false
    },
    "execution": {
     "iopub.execute_input": "2023-07-24T04:01:26.353987Z",
     "iopub.status.busy": "2023-07-24T04:01:26.353549Z",
     "iopub.status.idle": "2023-07-24T04:01:29.401486Z",
     "shell.execute_reply": "2023-07-24T04:01:29.401058Z",
     "shell.execute_reply.started": "2023-07-24T04:01:26.353968Z"
    },
    "tags": []
   },
   "outputs": [
    {
     "name": "stdout",
     "output_type": "stream",
     "text": [
      "57 99\n"
     ]
    },
    {
     "data": {
      "text/plain": [
       "(0.41999999999999993, 1.3700022894417224e-16, 1.9007041307276222e-16)"
      ]
     },
     "execution_count": 21,
     "metadata": {},
     "output_type": "execute_result"
    }
   ],
   "source": [
    "def get_usability_st_end(file_name):\n",
    "    eps = 1e-12\n",
    "    df = pd.read_excel(file_name, engine='openpyxl')\n",
    "\n",
    "    c_mean_smooth = calculate_smoothed_cmean(file_name)#= Kalman1D(c_std_smooth,damping=1)\n",
    "\n",
    "    longest_start, longest_end = LCIS(c_mean_smooth)\n",
    "    print(longest_start, longest_end)\n",
    "    # c_mean_smooth, c_std_smooth = mlesigma(file_name, longest_start, longest_end+1)\n",
    "    c_mean_smooth, c_std_smooth, sigma_hat_upper95 = mlesigma_with_CI(file_name, longest_start, longest_end+1)\n",
    "    \n",
    "    usability = (longest_end - longest_start) / 100. * (1 - c_std_smooth / c_mean_smooth)\n",
    "    return usability, c_std_smooth, sigma_hat_upper95\n",
    "\n",
    "# sunqiao/OpenPCDet/tools/hardware_noise/hardware_IV_and_condition_summary/hardware_data\n",
    "get_usability_st_end('hardware_IV_and_condition_summary/hardware_data/\\\n",
    "                     I-V_data_1.5um_length_5nm_diameter_BT_4V_NA_third_etch_8min_Pb_ED_3h_180C_MAI_no_150nm_Ag_memory_6V_carbon_paste_no_wait.xlsx')"
   ]
  },
  {
   "cell_type": "code",
   "execution_count": null,
   "id": "2d0ce310-17c1-4caf-b8ea-a643a8617957",
   "metadata": {},
   "outputs": [],
   "source": []
  },
  {
   "cell_type": "code",
   "execution_count": 16,
   "id": "de227b4c-61a7-4b87-b184-f7c6d1b6b28a",
   "metadata": {
    "execution": {
     "iopub.execute_input": "2023-07-24T02:26:10.139609Z",
     "iopub.status.busy": "2023-07-24T02:26:10.139215Z",
     "iopub.status.idle": "2023-07-24T02:26:10.141319Z",
     "shell.execute_reply": "2023-07-24T02:26:10.140956Z",
     "shell.execute_reply.started": "2023-07-24T02:26:10.139596Z"
    },
    "tags": []
   },
   "outputs": [],
   "source": [
    "# get_usability_with_sigma('I-V_data_25min_AAO_10min_Pb_ED_1h_180C_MAI_memory_8V_2.xlsx')"
   ]
  },
  {
   "cell_type": "code",
   "execution_count": 17,
   "id": "4ce53684-354f-4e62-8976-706df5ba7c22",
   "metadata": {
    "execution": {
     "iopub.execute_input": "2023-07-24T02:26:10.142168Z",
     "iopub.status.busy": "2023-07-24T02:26:10.141875Z",
     "iopub.status.idle": "2023-07-24T02:26:10.143924Z",
     "shell.execute_reply": "2023-07-24T02:26:10.143551Z",
     "shell.execute_reply.started": "2023-07-24T02:26:10.142155Z"
    },
    "tags": []
   },
   "outputs": [],
   "source": [
    "# get_usability_with_sigma('I-V_data_30min_AAO_5min second etch_15min_Pb_ED_3h_180C_MAI_200nm_Ag_memory_6V.xlsx')"
   ]
  },
  {
   "cell_type": "code",
   "execution_count": 18,
   "id": "f2549573-4a95-4d0a-a244-cae4d90c50f0",
   "metadata": {
    "ExecutionIndicator": {
     "show": false
    },
    "execution": {
     "iopub.execute_input": "2023-07-24T02:26:10.144664Z",
     "iopub.status.busy": "2023-07-24T02:26:10.144396Z",
     "iopub.status.idle": "2023-07-24T02:26:10.146433Z",
     "shell.execute_reply": "2023-07-24T02:26:10.146052Z",
     "shell.execute_reply.started": "2023-07-24T02:26:10.144643Z"
    },
    "tags": []
   },
   "outputs": [],
   "source": [
    "# get_usability_with_sigma('I-V_data_25min_AAO_10min_Pb_ED_1h_180C_MAI_memory_8V.xlsx')"
   ]
  }
 ],
 "metadata": {
  "kernelspec": {
   "display_name": "Python 3 (ipykernel)",
   "language": "python",
   "name": "python3"
  },
  "language_info": {
   "codemirror_mode": {
    "name": "ipython",
    "version": 3
   },
   "file_extension": ".py",
   "mimetype": "text/x-python",
   "name": "python",
   "nbconvert_exporter": "python",
   "pygments_lexer": "ipython3",
   "version": "3.9.15"
  }
 },
 "nbformat": 4,
 "nbformat_minor": 5
}
