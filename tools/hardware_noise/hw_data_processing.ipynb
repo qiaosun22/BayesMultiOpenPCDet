{
 "cells": [
  {
   "cell_type": "markdown",
   "id": "2c129366-3f43-4abf-85f4-3fd0f0e883cd",
   "metadata": {},
   "source": [
    "# Utils functions"
   ]
  },
  {
   "cell_type": "code",
   "execution_count": 1,
   "id": "c3bb61c4-b300-4f4a-b32f-a1b65f0a29b5",
   "metadata": {
    "ExecutionIndicator": {
     "show": false
    },
    "execution": {
     "iopub.execute_input": "2023-07-04T04:52:26.088242Z",
     "iopub.status.busy": "2023-07-04T04:52:26.087999Z",
     "iopub.status.idle": "2023-07-04T04:52:26.870127Z",
     "shell.execute_reply": "2023-07-04T04:52:26.869639Z",
     "shell.execute_reply.started": "2023-07-04T04:52:26.088227Z"
    },
    "scrolled": true,
    "tags": []
   },
   "outputs": [],
   "source": [
    "import matplotlib.pyplot as plt\n",
    "import pandas as pd\n",
    "import numpy as np\n",
    "from scipy import interpolate\n",
    "from pykalman import KalmanFilter\n",
    "\n",
    "\n",
    "#Define useful functions\n",
    "def Kalman1D(observations,damping=0):\n",
    "    # To return the smoothed time series data\n",
    "    observation_covariance = damping\n",
    "    initial_value_guess = observations[0]\n",
    "    transition_matrix = 1\n",
    "    transition_covariance = 0.1\n",
    "    initial_value_guess\n",
    "    kf = KalmanFilter(\n",
    "            initial_state_mean=initial_value_guess,\n",
    "            initial_state_covariance=observation_covariance,\n",
    "            observation_covariance=observation_covariance,\n",
    "            transition_covariance=transition_covariance,\n",
    "            transition_matrices=transition_matrix\n",
    "        )\n",
    "    pred_state, state_cov = kf.smooth(observations)\n",
    "    return pred_state\n",
    "\n",
    "\n",
    "def LCIS(arr):\n",
    "    decrease_cnt = 0\n",
    "    start_index = 0\n",
    "    end_index = 0\n",
    "    sub_len = 0\n",
    "    longest_start = 0\n",
    "    longest_end = 0\n",
    "    longest_len = 0\n",
    "    decrease_point_0 = -1\n",
    "    decrease_point_1 = -1\n",
    "    for i in range(1, len(arr)):\n",
    "        if arr[i] > arr[i-1]:\n",
    "            end_index += 1\n",
    "        else:\n",
    "            decrease_cnt += 1\n",
    "            if decrease_cnt == 1:\n",
    "                end_index += 1\n",
    "                decrease_point_0 = end_index\n",
    "\n",
    "            elif decrease_cnt == 2:\n",
    "                end_index += 1\n",
    "                decrease_point_1 = end_index\n",
    "                \n",
    "            else:\n",
    "                sub_len = end_index - start_index + 1\n",
    "                if longest_len < sub_len:\n",
    "                    longest_len = sub_len\n",
    "                    longest_start = start_index\n",
    "                    longest_end = end_index\n",
    "                start_index = decrease_point_0\n",
    "                decrease_point_0 = decrease_point_1\n",
    "                decrease_point_1 = i\n",
    "                end_index = i\n",
    "                decrease_cnt = 2\n",
    "\n",
    "    sub_len = end_index - start_index + 1\n",
    "    if longest_len < sub_len:\n",
    "        longest_len = sub_len\n",
    "        longest_start = start_index\n",
    "        longest_end = end_index\n",
    "\n",
    "\n",
    "    start = longest_start\n",
    "    end = longest_end\n",
    "    longest_start = 42\n",
    "    longest_end = 98\n",
    "    return longest_start, longest_end+1,arr[longest_start:longest_end+1],start,end+1\n",
    "\n",
    "    # print('start index: {}, end index: {}, len: {}, LCIS: {}'.format(longest_start, longest_end, longest_len, arr[longest_start:longest_end+1]))\n",
    "#     mm = np.arange(longest_start, longest_end, 1)\n",
    "#     c_max = max(arr)\n",
    "#     c_min = min(arr)\n",
    "#     hope_start = 42\n",
    "#     hope_end=98\n",
    "#     for i in range(hope_start,hope_end+1):\n",
    "#         if i not in mm:\n",
    "#             temp = (arr[i]-c_min)/(c_max-c_min)*c_max\n",
    "#             arr[i] = temp"
   ]
  },
  {
   "cell_type": "markdown",
   "id": "0d426ef9-7811-41b5-8e71-8b5723cc4056",
   "metadata": {},
   "source": [
    "# Calulating usability"
   ]
  },
  {
   "cell_type": "code",
   "execution_count": 99,
   "id": "3e707cae-5aa5-4d9a-8f53-0b98d0e45b14",
   "metadata": {
    "ExecutionIndicator": {
     "show": true
    },
    "execution": {
     "iopub.execute_input": "2023-07-04T07:56:10.458202Z",
     "iopub.status.busy": "2023-07-04T07:56:10.457771Z",
     "iopub.status.idle": "2023-07-04T07:56:10.879926Z",
     "shell.execute_reply": "2023-07-04T07:56:10.879365Z",
     "shell.execute_reply.started": "2023-07-04T07:56:10.458184Z"
    },
    "tags": []
   },
   "outputs": [
    {
     "ename": "ValueError",
     "evalue": "not enough values to unpack (expected 5, got 2)",
     "output_type": "error",
     "traceback": [
      "\u001b[0;31m---------------------------------------------------------------------------\u001b[0m",
      "\u001b[0;31mValueError\u001b[0m                                Traceback (most recent call last)",
      "Cell \u001b[0;32mIn[99], line 58\u001b[0m\n\u001b[1;32m     55\u001b[0m     \u001b[38;5;28;01mreturn\u001b[39;00m usability\n\u001b[1;32m     57\u001b[0m \u001b[38;5;66;03m# get_usability('./hardware_data/I-V_data_0.7um_length_200nm_diameter_NA_third_etch_10min_Pb_ED_1h_180C_MAI_no_100nm_Ag_memory_1V_carbon_paste.xlsx')\u001b[39;00m\n\u001b[0;32m---> 58\u001b[0m \u001b[43mget_usability\u001b[49m\u001b[43m(\u001b[49m\u001b[38;5;124;43m'\u001b[39;49m\u001b[38;5;124;43m./hardware_data/I-V_data_2.5um_length_200nm_diameter_NA_third_etch_25min_Pb_ED_1h_180C_MAI_no_100nm_Ag_memory_8V_silver_paste.xlsx\u001b[39;49m\u001b[38;5;124;43m'\u001b[39;49m\u001b[43m)\u001b[49m\n",
      "Cell \u001b[0;32mIn[99], line 52\u001b[0m, in \u001b[0;36mget_usability\u001b[0;34m(file_name)\u001b[0m\n\u001b[1;32m     48\u001b[0m c_mean_smooth \u001b[38;5;241m=\u001b[39m Kalman1D(c_mean_smooth,damping\u001b[38;5;241m=\u001b[39m\u001b[38;5;241m1\u001b[39m)\n\u001b[1;32m     49\u001b[0m c_std_smooth \u001b[38;5;241m=\u001b[39m Kalman1D(c_std_smooth,damping\u001b[38;5;241m=\u001b[39m\u001b[38;5;241m1\u001b[39m)\n\u001b[0;32m---> 52\u001b[0m longest_start, longest_end, arr, start, end \u001b[38;5;241m=\u001b[39m LCIS(c_mean_smooth)\n\u001b[1;32m     54\u001b[0m usability \u001b[38;5;241m=\u001b[39m (longest_end\u001b[38;5;241m-\u001b[39mlongest_start)\u001b[38;5;241m/\u001b[39m\u001b[38;5;241m100.\u001b[39m\u001b[38;5;241m*\u001b[39m(\u001b[38;5;241m1\u001b[39m\u001b[38;5;241m-\u001b[39m\u001b[38;5;28msum\u001b[39m(c_std_smooth)\u001b[38;5;241m/\u001b[39m\u001b[38;5;28msum\u001b[39m(c_mean_smooth))\n\u001b[1;32m     55\u001b[0m \u001b[38;5;28;01mreturn\u001b[39;00m usability\n",
      "\u001b[0;31mValueError\u001b[0m: not enough values to unpack (expected 5, got 2)"
     ]
    }
   ],
   "source": [
    "def get_usability(file_name):\n",
    "    # './hardware_data/I-V_data_0.7um_length_200nm_diameter_NA_third_etch_10min_Pb_ED_1h_180C_MAI_no_100nm_Ag_memory_1V_carbon_paste.xlsx'\n",
    "    df = pd.read_excel(file_name, engine='openpyxl')\n",
    "\n",
    "    #data cleaning\n",
    "    dropcolumn = []\n",
    "    for i in range(len(df.columns)):\n",
    "        if 'Unnamed' in df.columns[i]:\n",
    "            dropcolumn.append(df.columns[i])\n",
    "\n",
    "    df = df.drop(columns=dropcolumn)\n",
    "    df = df.dropna(axis=0, how='all')\n",
    "\n",
    "    #calculate mean and std current for each row and remove the NAN\n",
    "    voltage = df['voltage']\n",
    "    current_mean_list = []\n",
    "    current_std_list = []\n",
    "    for i in range(len(voltage)):\n",
    "        # print(1)\n",
    "        current_row = df.iloc[[i]].to_numpy()\n",
    "        try:\n",
    "            current_row = current_row[~np.isnan(current_row)]\n",
    "        except:\n",
    "            pass\n",
    "\n",
    "        low_percentile = np.percentile(current_row, 25)\n",
    "        high_percentile = np.percentile(current_row, 75)\n",
    "        current_row = current_row[(current_row >=low_percentile ) & (current_row <= high_percentile)]\n",
    "\n",
    "        current_mean = np.mean(current_row)\n",
    "\n",
    "        current_std = np.std(current_row)\n",
    "        current_mean_list.append(current_mean)\n",
    "        current_std_list.append(current_std)\n",
    "\n",
    "    current_mean_list = np.array(current_mean_list)\n",
    "    current_std_list = np.array(current_std_list)\n",
    "\n",
    "    voltage_list = df['voltage'].to_numpy()\n",
    "\n",
    "    conductance_mean = current_mean_list/(voltage_list+1e-9)\n",
    "    conductance_std = current_std_list/(voltage_list+1e-9)\n",
    "\n",
    "    c_mean_smooth = conductance_mean[1:100]\n",
    "    c_std_smooth = conductance_std[1:100]\n",
    "\n",
    "\n",
    "    c_mean_smooth = Kalman1D(c_mean_smooth,damping=1)\n",
    "    c_std_smooth = Kalman1D(c_std_smooth,damping=1)\n",
    "\n",
    "\n",
    "    longest_start, longest_end, arr, start, end = LCIS(c_mean_smooth)\n",
    "\n",
    "    usability = (longest_end-longest_start)/100.*(1-sum(c_std_smooth)/sum(c_mean_smooth))\n",
    "    return usability\n",
    "\n",
    "# get_usability('./hardware_data/I-V_data_0.7um_length_200nm_diameter_NA_third_etch_10min_Pb_ED_1h_180C_MAI_no_100nm_Ag_memory_1V_carbon_paste.xlsx')\n",
    "get_usability('./hardware_data/I-V_data_2.5um_length_200nm_diameter_NA_third_etch_25min_Pb_ED_1h_180C_MAI_no_100nm_Ag_memory_8V_silver_paste.xlsx')"
   ]
  },
  {
   "cell_type": "code",
   "execution_count": 3,
   "id": "839572a4-62b1-42f5-8fc4-39deeac21753",
   "metadata": {
    "execution": {
     "iopub.execute_input": "2023-07-04T04:52:27.077784Z",
     "iopub.status.busy": "2023-07-04T04:52:27.077461Z",
     "iopub.status.idle": "2023-07-04T04:52:27.080080Z",
     "shell.execute_reply": "2023-07-04T04:52:27.079716Z",
     "shell.execute_reply.started": "2023-07-04T04:52:27.077769Z"
    }
   },
   "outputs": [],
   "source": [
    "# print(\"xxxxxxxxxxxxxxxxxxxxxxxxxx\")\n",
    "# print(usability)\n",
    "\n",
    "# #Curve interpolations\n",
    "# x = np.arange(longest_start, longest_end, 1)\n",
    "# y = arr \n",
    "# interp_func_mean = interpolate.splrep(x, y, s=0)\n",
    "\n",
    "\n",
    "# y_std = c_std_smooth[longest_start:longest_end]\n",
    "# interp_func_std = interpolate.splrep(x, y_std, s=0)\n",
    "\n",
    "\n",
    "\n",
    "# xfit = np.linspace(longest_start, longest_end, 100)\n",
    "# yfit = interpolate.splev(xfit, interp_func_mean, der=0)\n",
    "# yfit_std = interpolate.splev(xfit, interp_func_std, der=0) #计算取样点的插值结果\n",
    "\n",
    "\n",
    "\n",
    "\n",
    "# y_p = []\n",
    "# for i in range(len(yfit)):\n",
    "#     y_p.append(1)\n",
    "# mm = np.arange(start, end, 1)\n",
    "# c_max = max(yfit)\n",
    "# c_min = min(yfit)\n",
    "# hope_start = 42\n",
    "# hope_end=98\n",
    "# for i in range(hope_start,hope_end+1):\n",
    "#     if i not in mm:\n",
    "#         temp = (yfit[i]-c_min)/(c_max-c_min)\n",
    "#         y_p[i] = temp\n",
    "\n",
    "# df_from_arr = pd.DataFrame({'SweepingTime':xfit,'Conductance_mean':yfit, 'Conductance_std':yfit_std, \n",
    "#                             'Conductance_std_ratio': yfit_std/(yfit+1e-9),'radio':y_p})\n",
    "\n",
    "\n",
    "# df_from_arr.to_csv('0.14_ratio_hw_conductance_std.csv', index=False)"
   ]
  },
  {
   "cell_type": "markdown",
   "id": "5810f9ec-0096-42c8-b031-635814c53d2b",
   "metadata": {},
   "source": [
    "# file2usability"
   ]
  },
  {
   "cell_type": "code",
   "execution_count": 4,
   "id": "6a0b5b55-cb8b-4a13-8276-04c9135ebda7",
   "metadata": {
    "ExecutionIndicator": {
     "show": true
    },
    "execution": {
     "iopub.execute_input": "2023-07-04T04:52:27.081310Z",
     "iopub.status.busy": "2023-07-04T04:52:27.081027Z",
     "iopub.status.idle": "2023-07-04T04:53:09.725129Z",
     "shell.execute_reply": "2023-07-04T04:53:09.724653Z",
     "shell.execute_reply.started": "2023-07-04T04:52:27.081298Z"
    },
    "scrolled": true,
    "tags": []
   },
   "outputs": [
    {
     "name": "stdout",
     "output_type": "stream",
     "text": [
      "I-V_data_0.7um_length_200nm_diameter_NA_third_etch_10min_Pb_ED_1h_180C_MAI_no_100nm_Ag_memory_1V_carbon_paste.xlsx\n",
      "0.2641632692293397\n",
      "I-V_data_0.7um_length_200nm_diameter_NA_third_etch_10min_Pb_ED_1h_180C_MAI_no_100nm_Ag_memory_1V_probe.xlsx\n",
      "0.5346664824133427\n",
      "I-V_data_0.7um_length_200nm_diameter_NA_third_etch_10min_Pb_ED_1h_180C_MAI_no_100nm_Ag_memory_1V_silver_paste.xlsx\n",
      "0.4476151015635515\n",
      "I-V_data_0.7um_length_200nm_diameter_NA_third_etch_10min_Pb_ED_1h_180C_MAI_no_100nm_Ag_memory_5V_silver_paste.xlsx\n",
      "0.4087611447459245\n",
      "I-V_data_0.7um_length_200nm_diameter_NA_third_etch_25min_Pb_ED_1h_180C_MAI_no_100nm_Ag_memory_8V_carbon_paste.xlsx\n",
      "0.41103895850549743\n",
      "I-V_data_1.2um_length_200nm_diameter_NA_third_etch_15min_Pb_ED_10h_180+210C_FAI_PMMA_200nm_Ag_memory_6V_probe.xlsx\n",
      "0.4820345513335516\n",
      "I-V_data_1.2um_length_200nm_diameter_NA_third_etch_15min_Pb_ED_10h_180+210C_FAI_PMMA_200nm_Ag_memory_6V_silver_paste.xlsx\n",
      "0.5047464961368245\n",
      "I-V_data_1.2um_length_200nm_diameter_NA_third_etch_15min_Pb_ED_10h_180+210C_FAI_no_200nm_Ag_memory_6V_probe.xlsx\n",
      "0.5085348189808583\n",
      "I-V_data_1.2um_length_200nm_diameter_NA_third_etch_15min_Pb_ED_10h_180+210C_FAI_no_200nm_Ag_memory_6V_silver_paste.xlsx\n",
      "0.5296380346257995\n",
      "I-V_data_1.2um_length_200nm_diameter_NA_third_etch_15min_Pb_ED_10h_210C_MABr_PMMA_200nm_Ag_memory_6V_probe.xlsx\n",
      "0.54648166726632\n",
      "I-V_data_1.2um_length_200nm_diameter_NA_third_etch_15min_Pb_ED_10h_210C_MABr_PMMA_200nm_Ag_memory_6V_silver_paste.xlsx\n",
      "0.5557658301145276\n",
      "I-V_data_1.2um_length_200nm_diameter_NA_third_etch_15min_Pb_ED_1h_180C_MAI_no_100nm_Ag_memory_5V_carbon_paste.xlsx\n",
      "0.47539407558235075\n",
      "I-V_data_1.2um_length_200nm_diameter_NA_third_etch_15min_Pb_ED_1h_180C_MAI_no_100nm_Ag_memory_5V_carbon_paste_2.xlsx\n",
      "0.40437911410721267\n",
      "I-V_data_1.2um_length_200nm_diameter_NA_third_etch_15min_Pb_ED_3h_180C_MABr_no_200nm_Ag_memory_6V_probe.xlsx\n",
      "0.5487311516018161\n",
      "I-V_data_1.2um_length_200nm_diameter_NA_third_etch_15min_Pb_ED_3h_180C_MABr_no_200nm_Ag_memory_6V_silver_paste.xlsx\n",
      "0.5287694969734124\n",
      "I-V_data_1.2um_length_200nm_diameter_NA_third_etch_25min_Pb_ED_1h_180C_MAI_no_100nm_Ag_memory_8V_carbon_paste.xlsx\n",
      "0.5475779013777806\n",
      "I-V_data_1.2um_length_250nm_diameter_10s_third_etch_15min_Pb_ED_3h_180C_MAI_no_200nm_Ag_memory_6V_carbon_paste.xlsx\n",
      "0.5201754368190997\n",
      "I-V_data_1.2um_length_250nm_diameter_20s_third_etch_15min_Pb_ED_3h_180C_MAI_no_200nm_Ag_memory_6V_carbon_paste.xlsx\n",
      "0.4686706580262392\n",
      "I-V_data_1.2um_length_250nm_diameter_NA_third_etch_15min_Pb_ED_3h_180C_MAI_PMMA_600nm_Ag_memory_6V_carbon_paste.xlsx\n",
      "0.4235557142360831\n",
      "I-V_data_1.2um_length_250nm_diameter_NA_third_etch_15min_Pb_ED_3h_180C_MAI_no_600nm_Ag_memory_6V_carbon_paste.xlsx\n",
      "0.5149663144708064\n",
      "I-V_data_1.5um_length_200nm_diameter_NA_third_etch_10min_Pb_ED_1h_180C_MAI_no_100nm_Ag_memory_8V_carbon_paste.xlsx\n",
      "0.36501976907954836\n",
      "I-V_data_1.5um_length_200nm_diameter_NA_third_etch_10min_Pb_ED_1h_180C_MAI_no_100nm_Ag_memory_8V_carbon_paste_2.xlsx\n",
      "0.5517287828488227\n",
      "I-V_data_1.6um_length_250nm_diameter_NA_third_etch_15min_Pb_ED_3h_180C_MAI_PMMA_0nm_Ag_memory_6V_carbon_paste.xlsx\n",
      "0.28002425413926785\n",
      "I-V_data_1.6um_length_250nm_diameter_NA_third_etch_15min_Pb_ED_3h_180C_MAI_no_100nm_Ag_memory_8V_carbon_paste.xlsx\n",
      "0.5327293825476341\n",
      "I-V_data_1.8um_length_50nm_diameter_NA_third_etch_20min_Pb_ED_3h_180C_MAI_no_200nm_Ag_memory_6V_carbon_paste.xlsx\n",
      "0.5359817419681839\n",
      "I-V_data_1um_length_200nm_diameter_NA_third_etch_10min_Pb_ED_1h_180C_MAI_no_100nm_Ag_memory_8V_carbon_paste.xlsx\n",
      "0.5467611183172466\n",
      "I-V_data_1um_length_200nm_diameter_NA_third_etch_25min_Pb_ED_1h_180C_MAI_no_100nm_Ag_memory_8V_carbon_paste.xlsx\n",
      "0.5495856255925807\n",
      "I-V_data_2.5um_length_200nm_diameter_NA_third_etch_25min_Pb_ED_1h_180C_MAI_no_100nm_Ag_memory_3V_carbon_paste.xlsx\n",
      "0.5388699345485247\n",
      "I-V_data_2.5um_length_200nm_diameter_NA_third_etch_25min_Pb_ED_1h_180C_MAI_no_100nm_Ag_memory_5V_silver_paste.xlsx\n",
      "0.3755334282769784\n",
      "I-V_data_2.5um_length_200nm_diameter_NA_third_etch_25min_Pb_ED_1h_180C_MAI_no_100nm_Ag_memory_8V_silver_paste.xlsx\n",
      "0.4428094114468914\n",
      "I-V_data_2um_length_200nm_diameter_NA_third_etch_18min_Pb_ED_10h_180+210C_FAI_no_200nm_Ag_memory_6V_silver_paste.xlsx\n",
      "0.544801867539441\n",
      "I-V_data_2um_length_200nm_diameter_NA_third_etch_18min_Pb_ED_3h_180C_MABr_no_200nm_Ag_memory_6V_silver_paste.xlsx\n",
      "0.561092639506867\n",
      "I-V_data_2um_length_200nm_diameter_NA_third_etch_18min_Pb_ED_3h_180C_MABr_no_200nm_Ag_memory_8V_probe.xlsx\n",
      "0.5338185291092039\n",
      "I-V_data_2um_length_250nm_diameter_NA_third_etch_15min_Pb_ED_3h_180C_MAI_no_200nm_Ag_memory_6V_carbon_paste.xlsx\n",
      "0.4932127288123924\n",
      "I-V_data_2um_length_300nm_diameter_NA_third_etch_10min_Pb_ED_1h_180C_MAI_no_100nm_Ag_memory_4V_carbon_paste.xlsx\n",
      "0.4204436477882329\n",
      "I-V_data_2um_length_300nm_diameter_NA_third_etch_15min_Pb_ED_1h_180C_MAI_no_100nm_Ag_memory_6V_carbon_paste.xlsx\n",
      "0.4904614452745591\n",
      "I-V_data_3um_length_50nm_diameter_NA_third_etch_20min_Pb_ED_3h_180C_MAI_no_200nm_Ag_memory_6V_carbon_paste.xlsx\n",
      "0.3120045968662019\n"
     ]
    }
   ],
   "source": [
    "import pandas as pd\n",
    "import os\n",
    "\n",
    "dir_name = 'hardware_data/'#'./data_refined/'  # \n",
    "\n",
    "hw_data_files = os.listdir(dir_name)\n",
    "# len(hw_data_files) # 38\n",
    "\n",
    "file2usability = {}\n",
    "for f_name in sorted(hw_data_files):\n",
    "    if f_name.endswith('xlsx'):\n",
    "        print(f_name)\n",
    "\n",
    "        try:\n",
    "            print(get_usability(dir_name+f_name)[0])\n",
    "            file2usability[f_name] = get_usability(dir_name+f_name)[0]\n",
    "        except:\n",
    "            print('!!!!!!!!')\n",
    "            file2usability[f_name] = None\n",
    "        # df = pd.read_excel('hardware_data/'+f_name, engine='openpyxl')\n",
    "        # print(df.shape)\n",
    "    "
   ]
  },
  {
   "cell_type": "code",
   "execution_count": 5,
   "id": "5e3c1931-a7d7-43b8-8613-cb243f17bdaa",
   "metadata": {
    "ExecutionIndicator": {
     "show": false
    },
    "execution": {
     "iopub.execute_input": "2023-07-04T04:53:09.726001Z",
     "iopub.status.busy": "2023-07-04T04:53:09.725776Z",
     "iopub.status.idle": "2023-07-04T04:53:09.730030Z",
     "shell.execute_reply": "2023-07-04T04:53:09.729148Z",
     "shell.execute_reply.started": "2023-07-04T04:53:09.725988Z"
    },
    "tags": []
   },
   "outputs": [
    {
     "data": {
      "text/plain": [
       "{'I-V_data_0.7um_length_200nm_diameter_NA_third_etch_10min_Pb_ED_1h_180C_MAI_no_100nm_Ag_memory_1V_carbon_paste.xlsx': 0.2641632692293397,\n",
       " 'I-V_data_0.7um_length_200nm_diameter_NA_third_etch_10min_Pb_ED_1h_180C_MAI_no_100nm_Ag_memory_1V_probe.xlsx': 0.5346664824133427,\n",
       " 'I-V_data_0.7um_length_200nm_diameter_NA_third_etch_10min_Pb_ED_1h_180C_MAI_no_100nm_Ag_memory_1V_silver_paste.xlsx': 0.4476151015635515,\n",
       " 'I-V_data_0.7um_length_200nm_diameter_NA_third_etch_10min_Pb_ED_1h_180C_MAI_no_100nm_Ag_memory_5V_silver_paste.xlsx': 0.4087611447459245,\n",
       " 'I-V_data_0.7um_length_200nm_diameter_NA_third_etch_25min_Pb_ED_1h_180C_MAI_no_100nm_Ag_memory_8V_carbon_paste.xlsx': 0.41103895850549743,\n",
       " 'I-V_data_1.2um_length_200nm_diameter_NA_third_etch_15min_Pb_ED_10h_180+210C_FAI_PMMA_200nm_Ag_memory_6V_probe.xlsx': 0.4820345513335516,\n",
       " 'I-V_data_1.2um_length_200nm_diameter_NA_third_etch_15min_Pb_ED_10h_180+210C_FAI_PMMA_200nm_Ag_memory_6V_silver_paste.xlsx': 0.5047464961368245,\n",
       " 'I-V_data_1.2um_length_200nm_diameter_NA_third_etch_15min_Pb_ED_10h_180+210C_FAI_no_200nm_Ag_memory_6V_probe.xlsx': 0.5085348189808583,\n",
       " 'I-V_data_1.2um_length_200nm_diameter_NA_third_etch_15min_Pb_ED_10h_180+210C_FAI_no_200nm_Ag_memory_6V_silver_paste.xlsx': 0.5296380346257995,\n",
       " 'I-V_data_1.2um_length_200nm_diameter_NA_third_etch_15min_Pb_ED_10h_210C_MABr_PMMA_200nm_Ag_memory_6V_probe.xlsx': 0.54648166726632,\n",
       " 'I-V_data_1.2um_length_200nm_diameter_NA_third_etch_15min_Pb_ED_10h_210C_MABr_PMMA_200nm_Ag_memory_6V_silver_paste.xlsx': 0.5557658301145276,\n",
       " 'I-V_data_1.2um_length_200nm_diameter_NA_third_etch_15min_Pb_ED_1h_180C_MAI_no_100nm_Ag_memory_5V_carbon_paste.xlsx': 0.47539407558235075,\n",
       " 'I-V_data_1.2um_length_200nm_diameter_NA_third_etch_15min_Pb_ED_1h_180C_MAI_no_100nm_Ag_memory_5V_carbon_paste_2.xlsx': 0.40437911410721267,\n",
       " 'I-V_data_1.2um_length_200nm_diameter_NA_third_etch_15min_Pb_ED_3h_180C_MABr_no_200nm_Ag_memory_6V_probe.xlsx': 0.5487311516018161,\n",
       " 'I-V_data_1.2um_length_200nm_diameter_NA_third_etch_15min_Pb_ED_3h_180C_MABr_no_200nm_Ag_memory_6V_silver_paste.xlsx': 0.5287694969734124,\n",
       " 'I-V_data_1.2um_length_200nm_diameter_NA_third_etch_25min_Pb_ED_1h_180C_MAI_no_100nm_Ag_memory_8V_carbon_paste.xlsx': 0.5475779013777806,\n",
       " 'I-V_data_1.2um_length_250nm_diameter_10s_third_etch_15min_Pb_ED_3h_180C_MAI_no_200nm_Ag_memory_6V_carbon_paste.xlsx': 0.5201754368190997,\n",
       " 'I-V_data_1.2um_length_250nm_diameter_20s_third_etch_15min_Pb_ED_3h_180C_MAI_no_200nm_Ag_memory_6V_carbon_paste.xlsx': 0.4686706580262392,\n",
       " 'I-V_data_1.2um_length_250nm_diameter_NA_third_etch_15min_Pb_ED_3h_180C_MAI_PMMA_600nm_Ag_memory_6V_carbon_paste.xlsx': 0.4235557142360831,\n",
       " 'I-V_data_1.2um_length_250nm_diameter_NA_third_etch_15min_Pb_ED_3h_180C_MAI_no_600nm_Ag_memory_6V_carbon_paste.xlsx': 0.5149663144708064,\n",
       " 'I-V_data_1.5um_length_200nm_diameter_NA_third_etch_10min_Pb_ED_1h_180C_MAI_no_100nm_Ag_memory_8V_carbon_paste.xlsx': 0.36501976907954836,\n",
       " 'I-V_data_1.5um_length_200nm_diameter_NA_third_etch_10min_Pb_ED_1h_180C_MAI_no_100nm_Ag_memory_8V_carbon_paste_2.xlsx': 0.5517287828488227,\n",
       " 'I-V_data_1.6um_length_250nm_diameter_NA_third_etch_15min_Pb_ED_3h_180C_MAI_PMMA_0nm_Ag_memory_6V_carbon_paste.xlsx': 0.28002425413926785,\n",
       " 'I-V_data_1.6um_length_250nm_diameter_NA_third_etch_15min_Pb_ED_3h_180C_MAI_no_100nm_Ag_memory_8V_carbon_paste.xlsx': 0.5327293825476341,\n",
       " 'I-V_data_1.8um_length_50nm_diameter_NA_third_etch_20min_Pb_ED_3h_180C_MAI_no_200nm_Ag_memory_6V_carbon_paste.xlsx': 0.5359817419681839,\n",
       " 'I-V_data_1um_length_200nm_diameter_NA_third_etch_10min_Pb_ED_1h_180C_MAI_no_100nm_Ag_memory_8V_carbon_paste.xlsx': 0.5467611183172466,\n",
       " 'I-V_data_1um_length_200nm_diameter_NA_third_etch_25min_Pb_ED_1h_180C_MAI_no_100nm_Ag_memory_8V_carbon_paste.xlsx': 0.5495856255925807,\n",
       " 'I-V_data_2.5um_length_200nm_diameter_NA_third_etch_25min_Pb_ED_1h_180C_MAI_no_100nm_Ag_memory_3V_carbon_paste.xlsx': 0.5388699345485247,\n",
       " 'I-V_data_2.5um_length_200nm_diameter_NA_third_etch_25min_Pb_ED_1h_180C_MAI_no_100nm_Ag_memory_5V_silver_paste.xlsx': 0.3755334282769784,\n",
       " 'I-V_data_2.5um_length_200nm_diameter_NA_third_etch_25min_Pb_ED_1h_180C_MAI_no_100nm_Ag_memory_8V_silver_paste.xlsx': 0.4428094114468914,\n",
       " 'I-V_data_2um_length_200nm_diameter_NA_third_etch_18min_Pb_ED_10h_180+210C_FAI_no_200nm_Ag_memory_6V_silver_paste.xlsx': 0.544801867539441,\n",
       " 'I-V_data_2um_length_200nm_diameter_NA_third_etch_18min_Pb_ED_3h_180C_MABr_no_200nm_Ag_memory_6V_silver_paste.xlsx': 0.561092639506867,\n",
       " 'I-V_data_2um_length_200nm_diameter_NA_third_etch_18min_Pb_ED_3h_180C_MABr_no_200nm_Ag_memory_8V_probe.xlsx': 0.5338185291092039,\n",
       " 'I-V_data_2um_length_250nm_diameter_NA_third_etch_15min_Pb_ED_3h_180C_MAI_no_200nm_Ag_memory_6V_carbon_paste.xlsx': 0.4932127288123924,\n",
       " 'I-V_data_2um_length_300nm_diameter_NA_third_etch_10min_Pb_ED_1h_180C_MAI_no_100nm_Ag_memory_4V_carbon_paste.xlsx': 0.4204436477882329,\n",
       " 'I-V_data_2um_length_300nm_diameter_NA_third_etch_15min_Pb_ED_1h_180C_MAI_no_100nm_Ag_memory_6V_carbon_paste.xlsx': 0.4904614452745591,\n",
       " 'I-V_data_3um_length_50nm_diameter_NA_third_etch_20min_Pb_ED_3h_180C_MAI_no_200nm_Ag_memory_6V_carbon_paste.xlsx': 0.3120045968662019}"
      ]
     },
     "execution_count": 5,
     "metadata": {},
     "output_type": "execute_result"
    }
   ],
   "source": [
    "file2usability"
   ]
  },
  {
   "cell_type": "markdown",
   "id": "77ae781d-67ef-4db5-b808-b1f905cf1a2d",
   "metadata": {},
   "source": [
    "# Save file2usability"
   ]
  },
  {
   "cell_type": "code",
   "execution_count": 6,
   "id": "66e74441-d49e-4fba-ace4-8e1f3a12fb3e",
   "metadata": {
    "ExecutionIndicator": {
     "show": true
    },
    "execution": {
     "iopub.execute_input": "2023-07-04T04:53:09.730774Z",
     "iopub.status.busy": "2023-07-04T04:53:09.730640Z",
     "iopub.status.idle": "2023-07-04T04:53:09.739373Z",
     "shell.execute_reply": "2023-07-04T04:53:09.738280Z",
     "shell.execute_reply.started": "2023-07-04T04:53:09.730762Z"
    },
    "tags": []
   },
   "outputs": [
    {
     "name": "stdout",
     "output_type": "stream",
     "text": [
      "{'I-V_data_0.7um_length_200nm_diameter_NA_third_etch_10min_Pb_ED_1h_180C_MAI_no_100nm_Ag_memory_1V_carbon_paste.xlsx': 0.2641632692293397, 'I-V_data_0.7um_length_200nm_diameter_NA_third_etch_10min_Pb_ED_1h_180C_MAI_no_100nm_Ag_memory_1V_probe.xlsx': 0.5346664824133427, 'I-V_data_0.7um_length_200nm_diameter_NA_third_etch_10min_Pb_ED_1h_180C_MAI_no_100nm_Ag_memory_1V_silver_paste.xlsx': 0.4476151015635515, 'I-V_data_0.7um_length_200nm_diameter_NA_third_etch_10min_Pb_ED_1h_180C_MAI_no_100nm_Ag_memory_5V_silver_paste.xlsx': 0.4087611447459245, 'I-V_data_0.7um_length_200nm_diameter_NA_third_etch_25min_Pb_ED_1h_180C_MAI_no_100nm_Ag_memory_8V_carbon_paste.xlsx': 0.41103895850549743, 'I-V_data_1.2um_length_200nm_diameter_NA_third_etch_15min_Pb_ED_10h_180+210C_FAI_PMMA_200nm_Ag_memory_6V_probe.xlsx': 0.4820345513335516, 'I-V_data_1.2um_length_200nm_diameter_NA_third_etch_15min_Pb_ED_10h_180+210C_FAI_PMMA_200nm_Ag_memory_6V_silver_paste.xlsx': 0.5047464961368245, 'I-V_data_1.2um_length_200nm_diameter_NA_third_etch_15min_Pb_ED_10h_180+210C_FAI_no_200nm_Ag_memory_6V_probe.xlsx': 0.5085348189808583, 'I-V_data_1.2um_length_200nm_diameter_NA_third_etch_15min_Pb_ED_10h_180+210C_FAI_no_200nm_Ag_memory_6V_silver_paste.xlsx': 0.5296380346257995, 'I-V_data_1.2um_length_200nm_diameter_NA_third_etch_15min_Pb_ED_10h_210C_MABr_PMMA_200nm_Ag_memory_6V_probe.xlsx': 0.54648166726632, 'I-V_data_1.2um_length_200nm_diameter_NA_third_etch_15min_Pb_ED_10h_210C_MABr_PMMA_200nm_Ag_memory_6V_silver_paste.xlsx': 0.5557658301145276, 'I-V_data_1.2um_length_200nm_diameter_NA_third_etch_15min_Pb_ED_1h_180C_MAI_no_100nm_Ag_memory_5V_carbon_paste.xlsx': 0.47539407558235075, 'I-V_data_1.2um_length_200nm_diameter_NA_third_etch_15min_Pb_ED_1h_180C_MAI_no_100nm_Ag_memory_5V_carbon_paste_2.xlsx': 0.40437911410721267, 'I-V_data_1.2um_length_200nm_diameter_NA_third_etch_15min_Pb_ED_3h_180C_MABr_no_200nm_Ag_memory_6V_probe.xlsx': 0.5487311516018161, 'I-V_data_1.2um_length_200nm_diameter_NA_third_etch_15min_Pb_ED_3h_180C_MABr_no_200nm_Ag_memory_6V_silver_paste.xlsx': 0.5287694969734124, 'I-V_data_1.2um_length_200nm_diameter_NA_third_etch_25min_Pb_ED_1h_180C_MAI_no_100nm_Ag_memory_8V_carbon_paste.xlsx': 0.5475779013777806, 'I-V_data_1.2um_length_250nm_diameter_10s_third_etch_15min_Pb_ED_3h_180C_MAI_no_200nm_Ag_memory_6V_carbon_paste.xlsx': 0.5201754368190997, 'I-V_data_1.2um_length_250nm_diameter_20s_third_etch_15min_Pb_ED_3h_180C_MAI_no_200nm_Ag_memory_6V_carbon_paste.xlsx': 0.4686706580262392, 'I-V_data_1.2um_length_250nm_diameter_NA_third_etch_15min_Pb_ED_3h_180C_MAI_PMMA_600nm_Ag_memory_6V_carbon_paste.xlsx': 0.4235557142360831, 'I-V_data_1.2um_length_250nm_diameter_NA_third_etch_15min_Pb_ED_3h_180C_MAI_no_600nm_Ag_memory_6V_carbon_paste.xlsx': 0.5149663144708064, 'I-V_data_1.5um_length_200nm_diameter_NA_third_etch_10min_Pb_ED_1h_180C_MAI_no_100nm_Ag_memory_8V_carbon_paste.xlsx': 0.36501976907954836, 'I-V_data_1.5um_length_200nm_diameter_NA_third_etch_10min_Pb_ED_1h_180C_MAI_no_100nm_Ag_memory_8V_carbon_paste_2.xlsx': 0.5517287828488227, 'I-V_data_1.6um_length_250nm_diameter_NA_third_etch_15min_Pb_ED_3h_180C_MAI_PMMA_0nm_Ag_memory_6V_carbon_paste.xlsx': 0.28002425413926785, 'I-V_data_1.6um_length_250nm_diameter_NA_third_etch_15min_Pb_ED_3h_180C_MAI_no_100nm_Ag_memory_8V_carbon_paste.xlsx': 0.5327293825476341, 'I-V_data_1.8um_length_50nm_diameter_NA_third_etch_20min_Pb_ED_3h_180C_MAI_no_200nm_Ag_memory_6V_carbon_paste.xlsx': 0.5359817419681839, 'I-V_data_1um_length_200nm_diameter_NA_third_etch_10min_Pb_ED_1h_180C_MAI_no_100nm_Ag_memory_8V_carbon_paste.xlsx': 0.5467611183172466, 'I-V_data_1um_length_200nm_diameter_NA_third_etch_25min_Pb_ED_1h_180C_MAI_no_100nm_Ag_memory_8V_carbon_paste.xlsx': 0.5495856255925807, 'I-V_data_2.5um_length_200nm_diameter_NA_third_etch_25min_Pb_ED_1h_180C_MAI_no_100nm_Ag_memory_3V_carbon_paste.xlsx': 0.5388699345485247, 'I-V_data_2.5um_length_200nm_diameter_NA_third_etch_25min_Pb_ED_1h_180C_MAI_no_100nm_Ag_memory_5V_silver_paste.xlsx': 0.3755334282769784, 'I-V_data_2.5um_length_200nm_diameter_NA_third_etch_25min_Pb_ED_1h_180C_MAI_no_100nm_Ag_memory_8V_silver_paste.xlsx': 0.4428094114468914, 'I-V_data_2um_length_200nm_diameter_NA_third_etch_18min_Pb_ED_10h_180+210C_FAI_no_200nm_Ag_memory_6V_silver_paste.xlsx': 0.544801867539441, 'I-V_data_2um_length_200nm_diameter_NA_third_etch_18min_Pb_ED_3h_180C_MABr_no_200nm_Ag_memory_6V_silver_paste.xlsx': 0.561092639506867, 'I-V_data_2um_length_200nm_diameter_NA_third_etch_18min_Pb_ED_3h_180C_MABr_no_200nm_Ag_memory_8V_probe.xlsx': 0.5338185291092039, 'I-V_data_2um_length_250nm_diameter_NA_third_etch_15min_Pb_ED_3h_180C_MAI_no_200nm_Ag_memory_6V_carbon_paste.xlsx': 0.4932127288123924, 'I-V_data_2um_length_300nm_diameter_NA_third_etch_10min_Pb_ED_1h_180C_MAI_no_100nm_Ag_memory_4V_carbon_paste.xlsx': 0.4204436477882329, 'I-V_data_2um_length_300nm_diameter_NA_third_etch_15min_Pb_ED_1h_180C_MAI_no_100nm_Ag_memory_6V_carbon_paste.xlsx': 0.4904614452745591, 'I-V_data_3um_length_50nm_diameter_NA_third_etch_20min_Pb_ED_3h_180C_MAI_no_200nm_Ag_memory_6V_carbon_paste.xlsx': 0.3120045968662019}\n"
     ]
    }
   ],
   "source": [
    "import numpy as np\n",
    "\n",
    "my_dict = file2usability  # { 'Apple': 4, 'Banana': 2, 'Orange': 6, 'Grapes': 11}\n",
    "# 保存文件\n",
    "np.save('file2usability.npy', my_dict)\n",
    "# 读取文件 \n",
    "new_dict = np.load('file2usability.npy', allow_pickle='TRUE').item()\n",
    "print(new_dict)\n"
   ]
  },
  {
   "cell_type": "code",
   "execution_count": 7,
   "id": "27be2bf4-3a0c-4935-b7f5-e1427ef45423",
   "metadata": {
    "ExecutionIndicator": {
     "show": true
    },
    "execution": {
     "iopub.execute_input": "2023-07-04T04:53:09.740122Z",
     "iopub.status.busy": "2023-07-04T04:53:09.739887Z",
     "iopub.status.idle": "2023-07-04T04:53:09.745226Z",
     "shell.execute_reply": "2023-07-04T04:53:09.744838Z",
     "shell.execute_reply.started": "2023-07-04T04:53:09.740109Z"
    },
    "tags": []
   },
   "outputs": [],
   "source": [
    "def calculate(file):\n",
    "    # df = pd.read_excel(file)\n",
    "    # df = pd.read_excel('I-V_data_25min_AAO_10min_Pb_ED_1h_180C_MAI_memory_8V_2.xlsx') #0.55\n",
    "    # df = pd.read_excel('I-V_data_30min_AAO_5min second etch_15min_Pb_ED_3h_180C_MAI_200nm_Ag_memory_6V.xlsx') #0.33\n",
    "    df = pd.read_excel(file, engine='openpyxl') #0.14\n",
    "    # sunqiao/OpenPCDet/tools/hardware_noise/hardware_data/I-V_data_0.7um_length_200nm_diameter_NA_third_etch_10min_Pb_ED_1h_180C_MAI_no_100nm_Ag_memory_1V_carbon_paste.xlsx\n",
    "    dropcolumn = []\n",
    "    for i in range(len(df.columns)):\n",
    "        if 'Unnamed' in df.columns[i]:\n",
    "            dropcolumn.append(df.columns[i])\n",
    "            \n",
    "\n",
    "    df = df.drop(columns=dropcolumn)\n",
    "    df = df.dropna(axis=0, how='all')\n",
    "\n",
    "    #calculate mean and std current for each row and remove the NAN\n",
    "    voltage = df['voltage']\n",
    "    current_mean_list = []\n",
    "    current_std_list = []\n",
    "    for i in range(len(voltage)):\n",
    "        current_row = df.iloc[[i]].to_numpy()\n",
    "        current_row = current_row[~np.isnan(current_row)]\n",
    "        \n",
    "        # print(current_row)\n",
    "        # if len(current_row) == 0:\n",
    "        #     continue\n",
    "        low_percentile = np.percentile(current_row, 25)\n",
    "        high_percentile = np.percentile(current_row, 75)\n",
    "        current_row = current_row[(current_row >=low_percentile ) & (current_row <= high_percentile)]\n",
    "        \n",
    "        current_mean = np.mean(current_row)\n",
    "        \n",
    "        \n",
    "        current_std = np.std(current_row)\n",
    "        current_mean_list.append(current_mean)\n",
    "        current_std_list.append(current_std)\n",
    "\n",
    "    current_mean_list = np.array(current_mean_list)\n",
    "    current_std_list = np.array(current_std_list)\n",
    "\n",
    "    voltage_list = df['voltage'].to_numpy()\n",
    "\n",
    "    conductance_mean = current_mean_list/(voltage_list+1e-9)\n",
    "    conductance_std  = current_std_list/(voltage_list+1e-9)\n",
    "\n",
    "    c_mean_smooth = conductance_mean[1:100] \n",
    "\n",
    "    c_std_smooth = conductance_std[1:100]\n",
    "\n",
    "\n",
    "    c_mean_smooth = Kalman1D(c_mean_smooth,damping=1)\n",
    "    c_std_smooth  = Kalman1D(c_std_smooth,damping=1)\n",
    "    # print(c_mean_smooth, c_std_smooth)\n",
    "    return c_mean_smooth, c_std_smooth"
   ]
  },
  {
   "cell_type": "code",
   "execution_count": 8,
   "id": "a5c97485-d070-4fe9-89af-061a64cbbb1c",
   "metadata": {
    "ExecutionIndicator": {
     "show": true
    },
    "execution": {
     "iopub.execute_input": "2023-07-04T04:53:09.745864Z",
     "iopub.status.busy": "2023-07-04T04:53:09.745730Z",
     "iopub.status.idle": "2023-07-04T04:53:10.063467Z",
     "shell.execute_reply": "2023-07-04T04:53:10.063049Z",
     "shell.execute_reply.started": "2023-07-04T04:53:09.745852Z"
    },
    "tags": []
   },
   "outputs": [
    {
     "data": {
      "text/plain": [
       "0.07272489313749271"
      ]
     },
     "execution_count": 8,
     "metadata": {},
     "output_type": "execute_result"
    }
   ],
   "source": [
    "from scipy.stats import norm\n",
    "import matplotlib.pyplot as plt\n",
    "\n",
    "def get_equivalent_sigma(f_name):\n",
    "    data = pd.read_excel(f_name, engine='openpyxl') #0.55\n",
    "    c_mean_smooth, c_std_smooth = calculate(f_name)\n",
    "    max_index = c_mean_smooth.shape[0]\n",
    "    c_max = c_mean_smooth.max()\n",
    "    c_min = c_mean_smooth.min()\n",
    "\n",
    "    \"\"\"\n",
    "    We calculate the LCIS of the curve to find a monotonicly increasing part of the curve.\n",
    "    \"\"\"\n",
    "\n",
    "    longest_start, longest_end, arr, start, end = LCIS(c_mean_smooth) \n",
    "\n",
    "    # mono_len = end_index - start_index\n",
    "\n",
    "    data = data.iloc[longest_start: longest_end+1, :]\n",
    "    data.dropna(axis=0, how='any')\n",
    "    conductance = data.drop(['voltage'], axis=1).div(data['voltage'], axis=0)\n",
    "    conductance = conductance[(conductance!=np.inf).all(axis=1)]\n",
    "    conductance.div(conductance.mean(axis=1), axis=0)\n",
    "\n",
    "    conductance_by_mean = np.array(conductance.div(conductance.mean(axis=1), axis=0)).reshape(1, -1)[0]\n",
    "    samples = np.log(conductance_by_mean)\n",
    "    samples_fine = np.delete(conductance_by_mean, np.isfinite(samples)==False)\n",
    "    # plt.hist(samples_fine, bins=100)  # 直方图显示\n",
    "    # plt.show()\n",
    "    # print(norm.fit(samples_fine))  # 返回极大似然估计\n",
    "    # print(norm.fit(samples_fine, floc=0))  # 返回极大似然估计\n",
    "    return norm.fit(samples_fine)[1]\n",
    "\n",
    "f_name = './I-V_data_25min_AAO_10min_Pb_ED_1h_180C_MAI_memory_8V_2.xlsx'\n",
    "get_equivalent_sigma(f_name)"
   ]
  },
  {
   "cell_type": "markdown",
   "id": "c5b8c95a-54f7-4151-bcc3-fcb133b8f9de",
   "metadata": {},
   "source": [
    "# file2sigma"
   ]
  },
  {
   "cell_type": "code",
   "execution_count": 9,
   "id": "2ef74600-eeec-4970-85ed-4f6498e9f23d",
   "metadata": {
    "ExecutionIndicator": {
     "show": true
    },
    "execution": {
     "iopub.execute_input": "2023-07-04T04:53:10.064367Z",
     "iopub.status.busy": "2023-07-04T04:53:10.064056Z",
     "iopub.status.idle": "2023-07-04T04:54:27.516574Z",
     "shell.execute_reply": "2023-07-04T04:54:27.516064Z",
     "shell.execute_reply.started": "2023-07-04T04:53:10.064354Z"
    },
    "tags": []
   },
   "outputs": [
    {
     "name": "stdout",
     "output_type": "stream",
     "text": [
      "I-V_data_0.7um_length_200nm_diameter_NA_third_etch_10min_Pb_ED_1h_180C_MAI_no_100nm_Ag_memory_1V_carbon_paste.xlsx\n",
      "1.1110804232271452\n",
      "I-V_data_0.7um_length_200nm_diameter_NA_third_etch_10min_Pb_ED_1h_180C_MAI_no_100nm_Ag_memory_1V_probe.xlsx\n",
      "0.2890661175740662\n",
      "I-V_data_0.7um_length_200nm_diameter_NA_third_etch_10min_Pb_ED_1h_180C_MAI_no_100nm_Ag_memory_1V_silver_paste.xlsx\n",
      "0.7003371157734772\n",
      "I-V_data_0.7um_length_200nm_diameter_NA_third_etch_10min_Pb_ED_1h_180C_MAI_no_100nm_Ag_memory_5V_silver_paste.xlsx\n",
      "1.186862296132586\n",
      "I-V_data_0.7um_length_200nm_diameter_NA_third_etch_25min_Pb_ED_1h_180C_MAI_no_100nm_Ag_memory_8V_carbon_paste.xlsx\n",
      "0.6020028504994165\n",
      "I-V_data_1.2um_length_200nm_diameter_NA_third_etch_15min_Pb_ED_10h_180+210C_FAI_PMMA_200nm_Ag_memory_6V_probe.xlsx\n",
      "0.30952700621997337\n",
      "I-V_data_1.2um_length_200nm_diameter_NA_third_etch_15min_Pb_ED_10h_180+210C_FAI_PMMA_200nm_Ag_memory_6V_silver_paste.xlsx\n",
      "0.0023512851594402976\n",
      "I-V_data_1.2um_length_200nm_diameter_NA_third_etch_15min_Pb_ED_10h_180+210C_FAI_no_200nm_Ag_memory_6V_probe.xlsx\n",
      "0.1534881869859253\n",
      "I-V_data_1.2um_length_200nm_diameter_NA_third_etch_15min_Pb_ED_10h_180+210C_FAI_no_200nm_Ag_memory_6V_silver_paste.xlsx\n",
      "0.04761751049864772\n",
      "I-V_data_1.2um_length_200nm_diameter_NA_third_etch_15min_Pb_ED_10h_210C_MABr_PMMA_200nm_Ag_memory_6V_probe.xlsx\n",
      "0.037288746150418925\n",
      "I-V_data_1.2um_length_200nm_diameter_NA_third_etch_15min_Pb_ED_10h_210C_MABr_PMMA_200nm_Ag_memory_6V_silver_paste.xlsx\n",
      "0.007102848308155331\n",
      "I-V_data_1.2um_length_200nm_diameter_NA_third_etch_15min_Pb_ED_1h_180C_MAI_no_100nm_Ag_memory_5V_carbon_paste.xlsx\n",
      "1.264554946217218\n",
      "I-V_data_1.2um_length_200nm_diameter_NA_third_etch_15min_Pb_ED_1h_180C_MAI_no_100nm_Ag_memory_5V_carbon_paste_2.xlsx\n",
      "0.6563771569625769\n",
      "I-V_data_1.2um_length_200nm_diameter_NA_third_etch_15min_Pb_ED_3h_180C_MABr_no_200nm_Ag_memory_6V_probe.xlsx\n",
      "0.039041616998365176\n",
      "I-V_data_1.2um_length_200nm_diameter_NA_third_etch_15min_Pb_ED_3h_180C_MABr_no_200nm_Ag_memory_6V_silver_paste.xlsx\n",
      "0.05669441072094622\n",
      "I-V_data_1.2um_length_200nm_diameter_NA_third_etch_25min_Pb_ED_1h_180C_MAI_no_100nm_Ag_memory_8V_carbon_paste.xlsx\n",
      "0.3242194868977608\n",
      "I-V_data_1.2um_length_250nm_diameter_10s_third_etch_15min_Pb_ED_3h_180C_MAI_no_200nm_Ag_memory_6V_carbon_paste.xlsx\n",
      "0.2883935116412527\n",
      "I-V_data_1.2um_length_250nm_diameter_20s_third_etch_15min_Pb_ED_3h_180C_MAI_no_200nm_Ag_memory_6V_carbon_paste.xlsx\n",
      "0.27127127166345166\n",
      "I-V_data_1.2um_length_250nm_diameter_NA_third_etch_15min_Pb_ED_3h_180C_MAI_PMMA_600nm_Ag_memory_6V_carbon_paste.xlsx\n",
      "0.10457151375215339\n",
      "I-V_data_1.2um_length_250nm_diameter_NA_third_etch_15min_Pb_ED_3h_180C_MAI_no_600nm_Ag_memory_6V_carbon_paste.xlsx\n",
      "0.13271494985897853\n",
      "I-V_data_1.5um_length_200nm_diameter_NA_third_etch_10min_Pb_ED_1h_180C_MAI_no_100nm_Ag_memory_8V_carbon_paste.xlsx\n",
      "0.36582911093598\n",
      "I-V_data_1.5um_length_200nm_diameter_NA_third_etch_10min_Pb_ED_1h_180C_MAI_no_100nm_Ag_memory_8V_carbon_paste_2.xlsx\n",
      "0.07272489313749271\n",
      "I-V_data_1.6um_length_250nm_diameter_NA_third_etch_15min_Pb_ED_3h_180C_MAI_PMMA_0nm_Ag_memory_6V_carbon_paste.xlsx\n",
      "0.9017921487789452\n",
      "I-V_data_1.6um_length_250nm_diameter_NA_third_etch_15min_Pb_ED_3h_180C_MAI_no_100nm_Ag_memory_8V_carbon_paste.xlsx\n",
      "0.4244138105712882\n",
      "I-V_data_1.8um_length_50nm_diameter_NA_third_etch_20min_Pb_ED_3h_180C_MAI_no_200nm_Ag_memory_6V_carbon_paste.xlsx\n",
      "0.2201505679612211\n",
      "I-V_data_1um_length_200nm_diameter_NA_third_etch_10min_Pb_ED_1h_180C_MAI_no_100nm_Ag_memory_8V_carbon_paste.xlsx\n",
      "0.035427869536204415\n",
      "I-V_data_1um_length_200nm_diameter_NA_third_etch_25min_Pb_ED_1h_180C_MAI_no_100nm_Ag_memory_8V_carbon_paste.xlsx\n",
      "0.009772484563477605\n",
      "I-V_data_2.5um_length_200nm_diameter_NA_third_etch_25min_Pb_ED_1h_180C_MAI_no_100nm_Ag_memory_3V_carbon_paste.xlsx\n",
      "2.4302459559440517\n"
     ]
    },
    {
     "name": "stderr",
     "output_type": "stream",
     "text": [
      "/tmp/ipykernel_179629/1009061270.py:26: RuntimeWarning: divide by zero encountered in log\n",
      "  samples = np.log(conductance_by_mean)\n",
      "/tmp/ipykernel_179629/1009061270.py:26: RuntimeWarning: divide by zero encountered in log\n",
      "  samples = np.log(conductance_by_mean)\n"
     ]
    },
    {
     "name": "stdout",
     "output_type": "stream",
     "text": [
      "I-V_data_2.5um_length_200nm_diameter_NA_third_etch_25min_Pb_ED_1h_180C_MAI_no_100nm_Ag_memory_5V_silver_paste.xlsx\n",
      "0.6619707713967171\n",
      "I-V_data_2.5um_length_200nm_diameter_NA_third_etch_25min_Pb_ED_1h_180C_MAI_no_100nm_Ag_memory_8V_silver_paste.xlsx\n",
      "0.33568877384648993\n",
      "I-V_data_2um_length_200nm_diameter_NA_third_etch_18min_Pb_ED_10h_180+210C_FAI_no_200nm_Ag_memory_6V_silver_paste.xlsx\n",
      "0.37868553213176376\n",
      "I-V_data_2um_length_200nm_diameter_NA_third_etch_18min_Pb_ED_3h_180C_MABr_no_200nm_Ag_memory_6V_silver_paste.xlsx\n",
      "0.22109198176969252\n",
      "I-V_data_2um_length_200nm_diameter_NA_third_etch_18min_Pb_ED_3h_180C_MABr_no_200nm_Ag_memory_8V_probe.xlsx\n",
      "0.2949888954241426\n",
      "I-V_data_2um_length_250nm_diameter_NA_third_etch_15min_Pb_ED_3h_180C_MAI_no_200nm_Ag_memory_6V_carbon_paste.xlsx\n",
      "0.08149124790758212\n",
      "I-V_data_2um_length_300nm_diameter_NA_third_etch_10min_Pb_ED_1h_180C_MAI_no_100nm_Ag_memory_4V_carbon_paste.xlsx\n",
      "0.9904828623194804\n",
      "I-V_data_2um_length_300nm_diameter_NA_third_etch_15min_Pb_ED_1h_180C_MAI_no_100nm_Ag_memory_6V_carbon_paste.xlsx\n",
      "0.2676210433413249\n",
      "I-V_data_3um_length_50nm_diameter_NA_third_etch_20min_Pb_ED_3h_180C_MAI_no_200nm_Ag_memory_6V_carbon_paste.xlsx\n",
      "0.8954126718389973\n"
     ]
    }
   ],
   "source": [
    "import os\n",
    "hw_data_files = os.listdir(dir_name)\n",
    "# len(hw_data_files) # 38\n",
    "\n",
    "file2sigma = {}\n",
    "for f_name in sorted(hw_data_files):\n",
    "    if f_name.endswith('xlsx'):\n",
    "        print(f_name)\n",
    "\n",
    "        # try:\n",
    "        print(get_equivalent_sigma(dir_name+f_name))\n",
    "        file2sigma[f_name] = get_equivalent_sigma(dir_name+f_name)#[0]\n",
    "        # except:\n",
    "        #     print('!!!!!!!!')\n",
    "        #     file2sigma[f_name] = None"
   ]
  },
  {
   "cell_type": "code",
   "execution_count": 10,
   "id": "04b0c248-a351-4931-8b30-dcde1b4bfe84",
   "metadata": {
    "execution": {
     "iopub.execute_input": "2023-07-04T04:54:27.518142Z",
     "iopub.status.busy": "2023-07-04T04:54:27.517918Z",
     "iopub.status.idle": "2023-07-04T04:54:27.521659Z",
     "shell.execute_reply": "2023-07-04T04:54:27.521278Z",
     "shell.execute_reply.started": "2023-07-04T04:54:27.518128Z"
    },
    "tags": []
   },
   "outputs": [
    {
     "data": {
      "text/plain": [
       "{'I-V_data_0.7um_length_200nm_diameter_NA_third_etch_10min_Pb_ED_1h_180C_MAI_no_100nm_Ag_memory_1V_carbon_paste.xlsx': 1.1110804232271452,\n",
       " 'I-V_data_0.7um_length_200nm_diameter_NA_third_etch_10min_Pb_ED_1h_180C_MAI_no_100nm_Ag_memory_1V_probe.xlsx': 0.2890661175740662,\n",
       " 'I-V_data_0.7um_length_200nm_diameter_NA_third_etch_10min_Pb_ED_1h_180C_MAI_no_100nm_Ag_memory_1V_silver_paste.xlsx': 0.7003371157734772,\n",
       " 'I-V_data_0.7um_length_200nm_diameter_NA_third_etch_10min_Pb_ED_1h_180C_MAI_no_100nm_Ag_memory_5V_silver_paste.xlsx': 1.186862296132586,\n",
       " 'I-V_data_0.7um_length_200nm_diameter_NA_third_etch_25min_Pb_ED_1h_180C_MAI_no_100nm_Ag_memory_8V_carbon_paste.xlsx': 0.6020028504994165,\n",
       " 'I-V_data_1.2um_length_200nm_diameter_NA_third_etch_15min_Pb_ED_10h_180+210C_FAI_PMMA_200nm_Ag_memory_6V_probe.xlsx': 0.30952700621997337,\n",
       " 'I-V_data_1.2um_length_200nm_diameter_NA_third_etch_15min_Pb_ED_10h_180+210C_FAI_PMMA_200nm_Ag_memory_6V_silver_paste.xlsx': 0.0023512851594402976,\n",
       " 'I-V_data_1.2um_length_200nm_diameter_NA_third_etch_15min_Pb_ED_10h_180+210C_FAI_no_200nm_Ag_memory_6V_probe.xlsx': 0.1534881869859253,\n",
       " 'I-V_data_1.2um_length_200nm_diameter_NA_third_etch_15min_Pb_ED_10h_180+210C_FAI_no_200nm_Ag_memory_6V_silver_paste.xlsx': 0.04761751049864772,\n",
       " 'I-V_data_1.2um_length_200nm_diameter_NA_third_etch_15min_Pb_ED_10h_210C_MABr_PMMA_200nm_Ag_memory_6V_probe.xlsx': 0.037288746150418925,\n",
       " 'I-V_data_1.2um_length_200nm_diameter_NA_third_etch_15min_Pb_ED_10h_210C_MABr_PMMA_200nm_Ag_memory_6V_silver_paste.xlsx': 0.007102848308155331,\n",
       " 'I-V_data_1.2um_length_200nm_diameter_NA_third_etch_15min_Pb_ED_1h_180C_MAI_no_100nm_Ag_memory_5V_carbon_paste.xlsx': 1.264554946217218,\n",
       " 'I-V_data_1.2um_length_200nm_diameter_NA_third_etch_15min_Pb_ED_1h_180C_MAI_no_100nm_Ag_memory_5V_carbon_paste_2.xlsx': 0.6563771569625769,\n",
       " 'I-V_data_1.2um_length_200nm_diameter_NA_third_etch_15min_Pb_ED_3h_180C_MABr_no_200nm_Ag_memory_6V_probe.xlsx': 0.039041616998365176,\n",
       " 'I-V_data_1.2um_length_200nm_diameter_NA_third_etch_15min_Pb_ED_3h_180C_MABr_no_200nm_Ag_memory_6V_silver_paste.xlsx': 0.05669441072094622,\n",
       " 'I-V_data_1.2um_length_200nm_diameter_NA_third_etch_25min_Pb_ED_1h_180C_MAI_no_100nm_Ag_memory_8V_carbon_paste.xlsx': 0.3242194868977608,\n",
       " 'I-V_data_1.2um_length_250nm_diameter_10s_third_etch_15min_Pb_ED_3h_180C_MAI_no_200nm_Ag_memory_6V_carbon_paste.xlsx': 0.2883935116412527,\n",
       " 'I-V_data_1.2um_length_250nm_diameter_20s_third_etch_15min_Pb_ED_3h_180C_MAI_no_200nm_Ag_memory_6V_carbon_paste.xlsx': 0.27127127166345166,\n",
       " 'I-V_data_1.2um_length_250nm_diameter_NA_third_etch_15min_Pb_ED_3h_180C_MAI_PMMA_600nm_Ag_memory_6V_carbon_paste.xlsx': 0.10457151375215339,\n",
       " 'I-V_data_1.2um_length_250nm_diameter_NA_third_etch_15min_Pb_ED_3h_180C_MAI_no_600nm_Ag_memory_6V_carbon_paste.xlsx': 0.13271494985897853,\n",
       " 'I-V_data_1.5um_length_200nm_diameter_NA_third_etch_10min_Pb_ED_1h_180C_MAI_no_100nm_Ag_memory_8V_carbon_paste.xlsx': 0.36582911093598,\n",
       " 'I-V_data_1.5um_length_200nm_diameter_NA_third_etch_10min_Pb_ED_1h_180C_MAI_no_100nm_Ag_memory_8V_carbon_paste_2.xlsx': 0.07272489313749271,\n",
       " 'I-V_data_1.6um_length_250nm_diameter_NA_third_etch_15min_Pb_ED_3h_180C_MAI_PMMA_0nm_Ag_memory_6V_carbon_paste.xlsx': 0.9017921487789452,\n",
       " 'I-V_data_1.6um_length_250nm_diameter_NA_third_etch_15min_Pb_ED_3h_180C_MAI_no_100nm_Ag_memory_8V_carbon_paste.xlsx': 0.4244138105712882,\n",
       " 'I-V_data_1.8um_length_50nm_diameter_NA_third_etch_20min_Pb_ED_3h_180C_MAI_no_200nm_Ag_memory_6V_carbon_paste.xlsx': 0.2201505679612211,\n",
       " 'I-V_data_1um_length_200nm_diameter_NA_third_etch_10min_Pb_ED_1h_180C_MAI_no_100nm_Ag_memory_8V_carbon_paste.xlsx': 0.035427869536204415,\n",
       " 'I-V_data_1um_length_200nm_diameter_NA_third_etch_25min_Pb_ED_1h_180C_MAI_no_100nm_Ag_memory_8V_carbon_paste.xlsx': 0.009772484563477605,\n",
       " 'I-V_data_2.5um_length_200nm_diameter_NA_third_etch_25min_Pb_ED_1h_180C_MAI_no_100nm_Ag_memory_3V_carbon_paste.xlsx': 2.4302459559440517,\n",
       " 'I-V_data_2.5um_length_200nm_diameter_NA_third_etch_25min_Pb_ED_1h_180C_MAI_no_100nm_Ag_memory_5V_silver_paste.xlsx': 0.6619707713967171,\n",
       " 'I-V_data_2.5um_length_200nm_diameter_NA_third_etch_25min_Pb_ED_1h_180C_MAI_no_100nm_Ag_memory_8V_silver_paste.xlsx': 0.33568877384648993,\n",
       " 'I-V_data_2um_length_200nm_diameter_NA_third_etch_18min_Pb_ED_10h_180+210C_FAI_no_200nm_Ag_memory_6V_silver_paste.xlsx': 0.37868553213176376,\n",
       " 'I-V_data_2um_length_200nm_diameter_NA_third_etch_18min_Pb_ED_3h_180C_MABr_no_200nm_Ag_memory_6V_silver_paste.xlsx': 0.22109198176969252,\n",
       " 'I-V_data_2um_length_200nm_diameter_NA_third_etch_18min_Pb_ED_3h_180C_MABr_no_200nm_Ag_memory_8V_probe.xlsx': 0.2949888954241426,\n",
       " 'I-V_data_2um_length_250nm_diameter_NA_third_etch_15min_Pb_ED_3h_180C_MAI_no_200nm_Ag_memory_6V_carbon_paste.xlsx': 0.08149124790758212,\n",
       " 'I-V_data_2um_length_300nm_diameter_NA_third_etch_10min_Pb_ED_1h_180C_MAI_no_100nm_Ag_memory_4V_carbon_paste.xlsx': 0.9904828623194804,\n",
       " 'I-V_data_2um_length_300nm_diameter_NA_third_etch_15min_Pb_ED_1h_180C_MAI_no_100nm_Ag_memory_6V_carbon_paste.xlsx': 0.2676210433413249,\n",
       " 'I-V_data_3um_length_50nm_diameter_NA_third_etch_20min_Pb_ED_3h_180C_MAI_no_200nm_Ag_memory_6V_carbon_paste.xlsx': 0.8954126718389973}"
      ]
     },
     "execution_count": 10,
     "metadata": {},
     "output_type": "execute_result"
    }
   ],
   "source": [
    "file2sigma"
   ]
  },
  {
   "cell_type": "markdown",
   "id": "867ed929-6ee4-400d-a906-f84970319286",
   "metadata": {},
   "source": [
    "# Save file2sigma"
   ]
  },
  {
   "cell_type": "code",
   "execution_count": 11,
   "id": "64fc7654-0cb4-4919-ae63-16d1dcfbc2e3",
   "metadata": {
    "execution": {
     "iopub.execute_input": "2023-07-04T04:54:27.522531Z",
     "iopub.status.busy": "2023-07-04T04:54:27.522257Z",
     "iopub.status.idle": "2023-07-04T04:54:27.535585Z",
     "shell.execute_reply": "2023-07-04T04:54:27.535158Z",
     "shell.execute_reply.started": "2023-07-04T04:54:27.522518Z"
    },
    "tags": []
   },
   "outputs": [
    {
     "name": "stdout",
     "output_type": "stream",
     "text": [
      "{'I-V_data_0.7um_length_200nm_diameter_NA_third_etch_10min_Pb_ED_1h_180C_MAI_no_100nm_Ag_memory_1V_carbon_paste.xlsx': 1.1110804232271452, 'I-V_data_0.7um_length_200nm_diameter_NA_third_etch_10min_Pb_ED_1h_180C_MAI_no_100nm_Ag_memory_1V_probe.xlsx': 0.2890661175740662, 'I-V_data_0.7um_length_200nm_diameter_NA_third_etch_10min_Pb_ED_1h_180C_MAI_no_100nm_Ag_memory_1V_silver_paste.xlsx': 0.7003371157734772, 'I-V_data_0.7um_length_200nm_diameter_NA_third_etch_10min_Pb_ED_1h_180C_MAI_no_100nm_Ag_memory_5V_silver_paste.xlsx': 1.186862296132586, 'I-V_data_0.7um_length_200nm_diameter_NA_third_etch_25min_Pb_ED_1h_180C_MAI_no_100nm_Ag_memory_8V_carbon_paste.xlsx': 0.6020028504994165, 'I-V_data_1.2um_length_200nm_diameter_NA_third_etch_15min_Pb_ED_10h_180+210C_FAI_PMMA_200nm_Ag_memory_6V_probe.xlsx': 0.30952700621997337, 'I-V_data_1.2um_length_200nm_diameter_NA_third_etch_15min_Pb_ED_10h_180+210C_FAI_PMMA_200nm_Ag_memory_6V_silver_paste.xlsx': 0.0023512851594402976, 'I-V_data_1.2um_length_200nm_diameter_NA_third_etch_15min_Pb_ED_10h_180+210C_FAI_no_200nm_Ag_memory_6V_probe.xlsx': 0.1534881869859253, 'I-V_data_1.2um_length_200nm_diameter_NA_third_etch_15min_Pb_ED_10h_180+210C_FAI_no_200nm_Ag_memory_6V_silver_paste.xlsx': 0.04761751049864772, 'I-V_data_1.2um_length_200nm_diameter_NA_third_etch_15min_Pb_ED_10h_210C_MABr_PMMA_200nm_Ag_memory_6V_probe.xlsx': 0.037288746150418925, 'I-V_data_1.2um_length_200nm_diameter_NA_third_etch_15min_Pb_ED_10h_210C_MABr_PMMA_200nm_Ag_memory_6V_silver_paste.xlsx': 0.007102848308155331, 'I-V_data_1.2um_length_200nm_diameter_NA_third_etch_15min_Pb_ED_1h_180C_MAI_no_100nm_Ag_memory_5V_carbon_paste.xlsx': 1.264554946217218, 'I-V_data_1.2um_length_200nm_diameter_NA_third_etch_15min_Pb_ED_1h_180C_MAI_no_100nm_Ag_memory_5V_carbon_paste_2.xlsx': 0.6563771569625769, 'I-V_data_1.2um_length_200nm_diameter_NA_third_etch_15min_Pb_ED_3h_180C_MABr_no_200nm_Ag_memory_6V_probe.xlsx': 0.039041616998365176, 'I-V_data_1.2um_length_200nm_diameter_NA_third_etch_15min_Pb_ED_3h_180C_MABr_no_200nm_Ag_memory_6V_silver_paste.xlsx': 0.05669441072094622, 'I-V_data_1.2um_length_200nm_diameter_NA_third_etch_25min_Pb_ED_1h_180C_MAI_no_100nm_Ag_memory_8V_carbon_paste.xlsx': 0.3242194868977608, 'I-V_data_1.2um_length_250nm_diameter_10s_third_etch_15min_Pb_ED_3h_180C_MAI_no_200nm_Ag_memory_6V_carbon_paste.xlsx': 0.2883935116412527, 'I-V_data_1.2um_length_250nm_diameter_20s_third_etch_15min_Pb_ED_3h_180C_MAI_no_200nm_Ag_memory_6V_carbon_paste.xlsx': 0.27127127166345166, 'I-V_data_1.2um_length_250nm_diameter_NA_third_etch_15min_Pb_ED_3h_180C_MAI_PMMA_600nm_Ag_memory_6V_carbon_paste.xlsx': 0.10457151375215339, 'I-V_data_1.2um_length_250nm_diameter_NA_third_etch_15min_Pb_ED_3h_180C_MAI_no_600nm_Ag_memory_6V_carbon_paste.xlsx': 0.13271494985897853, 'I-V_data_1.5um_length_200nm_diameter_NA_third_etch_10min_Pb_ED_1h_180C_MAI_no_100nm_Ag_memory_8V_carbon_paste.xlsx': 0.36582911093598, 'I-V_data_1.5um_length_200nm_diameter_NA_third_etch_10min_Pb_ED_1h_180C_MAI_no_100nm_Ag_memory_8V_carbon_paste_2.xlsx': 0.07272489313749271, 'I-V_data_1.6um_length_250nm_diameter_NA_third_etch_15min_Pb_ED_3h_180C_MAI_PMMA_0nm_Ag_memory_6V_carbon_paste.xlsx': 0.9017921487789452, 'I-V_data_1.6um_length_250nm_diameter_NA_third_etch_15min_Pb_ED_3h_180C_MAI_no_100nm_Ag_memory_8V_carbon_paste.xlsx': 0.4244138105712882, 'I-V_data_1.8um_length_50nm_diameter_NA_third_etch_20min_Pb_ED_3h_180C_MAI_no_200nm_Ag_memory_6V_carbon_paste.xlsx': 0.2201505679612211, 'I-V_data_1um_length_200nm_diameter_NA_third_etch_10min_Pb_ED_1h_180C_MAI_no_100nm_Ag_memory_8V_carbon_paste.xlsx': 0.035427869536204415, 'I-V_data_1um_length_200nm_diameter_NA_third_etch_25min_Pb_ED_1h_180C_MAI_no_100nm_Ag_memory_8V_carbon_paste.xlsx': 0.009772484563477605, 'I-V_data_2.5um_length_200nm_diameter_NA_third_etch_25min_Pb_ED_1h_180C_MAI_no_100nm_Ag_memory_3V_carbon_paste.xlsx': 2.4302459559440517, 'I-V_data_2.5um_length_200nm_diameter_NA_third_etch_25min_Pb_ED_1h_180C_MAI_no_100nm_Ag_memory_5V_silver_paste.xlsx': 0.6619707713967171, 'I-V_data_2.5um_length_200nm_diameter_NA_third_etch_25min_Pb_ED_1h_180C_MAI_no_100nm_Ag_memory_8V_silver_paste.xlsx': 0.33568877384648993, 'I-V_data_2um_length_200nm_diameter_NA_third_etch_18min_Pb_ED_10h_180+210C_FAI_no_200nm_Ag_memory_6V_silver_paste.xlsx': 0.37868553213176376, 'I-V_data_2um_length_200nm_diameter_NA_third_etch_18min_Pb_ED_3h_180C_MABr_no_200nm_Ag_memory_6V_silver_paste.xlsx': 0.22109198176969252, 'I-V_data_2um_length_200nm_diameter_NA_third_etch_18min_Pb_ED_3h_180C_MABr_no_200nm_Ag_memory_8V_probe.xlsx': 0.2949888954241426, 'I-V_data_2um_length_250nm_diameter_NA_third_etch_15min_Pb_ED_3h_180C_MAI_no_200nm_Ag_memory_6V_carbon_paste.xlsx': 0.08149124790758212, 'I-V_data_2um_length_300nm_diameter_NA_third_etch_10min_Pb_ED_1h_180C_MAI_no_100nm_Ag_memory_4V_carbon_paste.xlsx': 0.9904828623194804, 'I-V_data_2um_length_300nm_diameter_NA_third_etch_15min_Pb_ED_1h_180C_MAI_no_100nm_Ag_memory_6V_carbon_paste.xlsx': 0.2676210433413249, 'I-V_data_3um_length_50nm_diameter_NA_third_etch_20min_Pb_ED_3h_180C_MAI_no_200nm_Ag_memory_6V_carbon_paste.xlsx': 0.8954126718389973}\n"
     ]
    }
   ],
   "source": [
    "import numpy as np\n",
    "\n",
    "my_dict = file2sigma  # { 'Apple': 4, 'Banana': 2, 'Orange': 6, 'Grapes': 11}\n",
    "# 保存文件\n",
    "np.save('file2sigma.npy', my_dict)\n",
    "# 读取文件 \n",
    "new_dict = np.load('file2sigma.npy', allow_pickle='TRUE').item()\n",
    "print(new_dict)\n"
   ]
  },
  {
   "cell_type": "code",
   "execution_count": 12,
   "id": "259057ab-642f-4177-b7c2-0d2e69f7633c",
   "metadata": {
    "ExecutionIndicator": {
     "show": true
    },
    "execution": {
     "iopub.execute_input": "2023-07-04T04:54:27.536424Z",
     "iopub.status.busy": "2023-07-04T04:54:27.536144Z",
     "iopub.status.idle": "2023-07-04T04:54:27.834202Z",
     "shell.execute_reply": "2023-07-04T04:54:27.833742Z",
     "shell.execute_reply.started": "2023-07-04T04:54:27.536410Z"
    },
    "tags": []
   },
   "outputs": [
    {
     "data": {
      "image/png": "[encoded data removed]",
      "text/plain": [
       "<Figure size 3840x2160 with 1 Axes>"
      ]
     },
     "metadata": {},
     "output_type": "display_data"
    }
   ],
   "source": [
    "from matplotlib import pyplot as plt\n",
    "\n",
    "x = np.array(list(file2usability.values()))\n",
    "y = np.array(list(file2sigma.values()))\n",
    "\n",
    "z = np.polyfit(x, y, 1)\n",
    "p = np.poly1d(z)\n",
    "sigma_hat = p(x)\n",
    "\n",
    "plt.figure(dpi=240,figsize=(16, 9))\n",
    "plt.scatter(x, y)\n",
    "plt.plot(file2usability.values(), sigma_hat)\n",
    "plt.xlabel('Usability')\n",
    "plt.ylabel('Equivalent_sigma')\n",
    "plt.show()\n",
    "\n"
   ]
  },
  {
   "cell_type": "code",
   "execution_count": 13,
   "id": "5d1961f8-1d01-4e0e-9851-4f8dd60c355a",
   "metadata": {
    "execution": {
     "iopub.execute_input": "2023-07-04T04:54:27.835230Z",
     "iopub.status.busy": "2023-07-04T04:54:27.834852Z",
     "iopub.status.idle": "2023-07-04T04:54:27.901228Z",
     "shell.execute_reply": "2023-07-04T04:54:27.900802Z",
     "shell.execute_reply.started": "2023-07-04T04:54:27.835215Z"
    },
    "tags": []
   },
   "outputs": [
    {
     "data": {
      "image/png": "[encoded data removed]",
      "text/plain": [
       "<Figure size 640x480 with 1 Axes>"
      ]
     },
     "metadata": {},
     "output_type": "display_data"
    }
   ],
   "source": [
    "'''\n",
    "Author: CloudSir\n",
    "Date: 2021-08-01 13:40:50\n",
    "LastEditTime: 2021-08-02 09:41:54\n",
    "LastEditors: CloudSir\n",
    "Description: Python拟合多项式\n",
    "https://github.com/cloudsir\n",
    "'''\n",
    "import matplotlib.pyplot as plt\n",
    "import numpy as np\n",
    " \n",
    "x = [0, 1, 2, 3, 4, 5, 6, 7, 8, 9, 10]\n",
    "y = [2.83, 9.53, 14.52, 21.57, 38.26, 53.92, 73.15, 101.56, 129.54, 169.75, 207.59]\n",
    "z1 = np.polyfit(x, y, 3) #用3次多项式拟合，输出系数从高到0\n",
    "p1 = np.poly1d(z1) #使用次数合成多项式\n",
    "y_pre = p1(x)\n",
    " \n",
    "plt.plot(x,y,'.')\n",
    "plt.plot(x,y_pre)\n",
    "plt.show()\n"
   ]
  },
  {
   "cell_type": "code",
   "execution_count": 16,
   "id": "cfa114e1-cf31-457a-8094-b6276b12b617",
   "metadata": {
    "ExecutionIndicator": {
     "show": true
    },
    "execution": {
     "iopub.execute_input": "2023-07-04T06:04:06.173980Z",
     "iopub.status.busy": "2023-07-04T06:04:06.173553Z",
     "iopub.status.idle": "2023-07-04T06:04:06.238836Z",
     "shell.execute_reply": "2023-07-04T06:04:06.238424Z",
     "shell.execute_reply.started": "2023-07-04T06:04:06.173960Z"
    },
    "tags": []
   },
   "outputs": [
    {
     "data": {
      "text/html": [
       "<div>\n",
       "<style scoped>\n",
       "    .dataframe tbody tr th:only-of-type {\n",
       "        vertical-align: middle;\n",
       "    }\n",
       "\n",
       "    .dataframe tbody tr th {\n",
       "        vertical-align: top;\n",
       "    }\n",
       "\n",
       "    .dataframe thead th {\n",
       "        text-align: right;\n",
       "    }\n",
       "</style>\n",
       "<table border=\"1\" class=\"dataframe\">\n",
       "  <thead>\n",
       "    <tr style=\"text-align: right;\">\n",
       "      <th></th>\n",
       "      <th>voltage</th>\n",
       "      <th>current_cycle1</th>\n",
       "      <th>current_cycle2</th>\n",
       "      <th>current_cycle3</th>\n",
       "      <th>current_cycle4</th>\n",
       "      <th>current_cycle5</th>\n",
       "      <th>current_cycle6</th>\n",
       "      <th>current_cycle7</th>\n",
       "      <th>current_cycle8</th>\n",
       "      <th>current_cycle9</th>\n",
       "      <th>current_cycle10</th>\n",
       "      <th>current_cycle11</th>\n",
       "      <th>current_cycle12</th>\n",
       "      <th>current_cycle13</th>\n",
       "      <th>current_cycle14</th>\n",
       "      <th>current_cycle15</th>\n",
       "      <th>current_cycle16</th>\n",
       "      <th>current_cycle17</th>\n",
       "      <th>current_cycle18</th>\n",
       "      <th>current_cycle19</th>\n",
       "    </tr>\n",
       "  </thead>\n",
       "  <tbody>\n",
       "    <tr>\n",
       "      <th>0</th>\n",
       "      <td>0.0</td>\n",
       "      <td>6.693900e-10</td>\n",
       "      <td>2.968590e-09</td>\n",
       "      <td>1.135050e-09</td>\n",
       "      <td>2.153680e-09</td>\n",
       "      <td>1.891750e-09</td>\n",
       "      <td>1.513400e-09</td>\n",
       "      <td>1.309670e-09</td>\n",
       "      <td>1.018630e-09</td>\n",
       "      <td>9.895300e-10</td>\n",
       "      <td>3.579770e-09</td>\n",
       "      <td>5.180480e-09</td>\n",
       "      <td>2.328300e-10</td>\n",
       "      <td>3.667080e-09</td>\n",
       "      <td>3.579770e-09</td>\n",
       "      <td>3.434250e-09</td>\n",
       "      <td>3.405150e-09</td>\n",
       "      <td>2.852180e-09</td>\n",
       "      <td>2.619300e-10</td>\n",
       "      <td>3.085010e-09</td>\n",
       "    </tr>\n",
       "    <tr>\n",
       "      <th>1</th>\n",
       "      <td>0.1</td>\n",
       "      <td>1.545413e-08</td>\n",
       "      <td>2.182787e-08</td>\n",
       "      <td>1.973240e-08</td>\n",
       "      <td>2.118759e-08</td>\n",
       "      <td>2.083834e-08</td>\n",
       "      <td>2.063462e-08</td>\n",
       "      <td>2.051820e-08</td>\n",
       "      <td>2.019806e-08</td>\n",
       "      <td>1.996523e-08</td>\n",
       "      <td>2.363231e-08</td>\n",
       "      <td>2.441811e-08</td>\n",
       "      <td>6.984900e-10</td>\n",
       "      <td>2.351590e-08</td>\n",
       "      <td>2.337038e-08</td>\n",
       "      <td>2.325396e-08</td>\n",
       "      <td>2.307934e-08</td>\n",
       "      <td>2.208981e-08</td>\n",
       "      <td>1.885928e-08</td>\n",
       "      <td>2.232264e-08</td>\n",
       "    </tr>\n",
       "    <tr>\n",
       "      <th>2</th>\n",
       "      <td>0.2</td>\n",
       "      <td>1.679291e-08</td>\n",
       "      <td>2.415618e-08</td>\n",
       "      <td>2.174056e-08</td>\n",
       "      <td>2.380693e-08</td>\n",
       "      <td>2.354500e-08</td>\n",
       "      <td>2.331217e-08</td>\n",
       "      <td>2.328306e-08</td>\n",
       "      <td>2.310844e-08</td>\n",
       "      <td>2.284651e-08</td>\n",
       "      <td>2.578599e-08</td>\n",
       "      <td>3.460445e-08</td>\n",
       "      <td>1.193260e-09</td>\n",
       "      <td>2.596062e-08</td>\n",
       "      <td>2.601882e-08</td>\n",
       "      <td>2.584420e-08</td>\n",
       "      <td>2.593151e-08</td>\n",
       "      <td>2.485467e-08</td>\n",
       "      <td>2.121669e-08</td>\n",
       "      <td>2.505840e-08</td>\n",
       "    </tr>\n",
       "    <tr>\n",
       "      <th>3</th>\n",
       "      <td>0.3</td>\n",
       "      <td>1.763692e-08</td>\n",
       "      <td>2.584420e-08</td>\n",
       "      <td>2.331217e-08</td>\n",
       "      <td>2.578599e-08</td>\n",
       "      <td>2.546585e-08</td>\n",
       "      <td>2.526212e-08</td>\n",
       "      <td>2.526212e-08</td>\n",
       "      <td>2.517481e-08</td>\n",
       "      <td>2.476736e-08</td>\n",
       "      <td>2.753222e-08</td>\n",
       "      <td>2.206070e-08</td>\n",
       "      <td>1.804440e-09</td>\n",
       "      <td>2.785237e-08</td>\n",
       "      <td>2.779416e-08</td>\n",
       "      <td>2.779416e-08</td>\n",
       "      <td>2.785237e-08</td>\n",
       "      <td>2.671732e-08</td>\n",
       "      <td>2.264278e-08</td>\n",
       "      <td>2.706656e-08</td>\n",
       "    </tr>\n",
       "    <tr>\n",
       "      <th>4</th>\n",
       "      <td>0.4</td>\n",
       "      <td>1.824810e-08</td>\n",
       "      <td>2.712477e-08</td>\n",
       "      <td>2.453453e-08</td>\n",
       "      <td>2.735760e-08</td>\n",
       "      <td>2.709567e-08</td>\n",
       "      <td>2.689194e-08</td>\n",
       "      <td>2.689194e-08</td>\n",
       "      <td>2.677552e-08</td>\n",
       "      <td>2.648449e-08</td>\n",
       "      <td>2.875458e-08</td>\n",
       "      <td>3.687455e-08</td>\n",
       "      <td>8.149100e-10</td>\n",
       "      <td>2.927845e-08</td>\n",
       "      <td>2.954039e-08</td>\n",
       "      <td>2.924935e-08</td>\n",
       "      <td>2.927845e-08</td>\n",
       "      <td>2.823072e-08</td>\n",
       "      <td>2.380693e-08</td>\n",
       "      <td>2.875458e-08</td>\n",
       "    </tr>\n",
       "    <tr>\n",
       "      <th>...</th>\n",
       "      <td>...</td>\n",
       "      <td>...</td>\n",
       "      <td>...</td>\n",
       "      <td>...</td>\n",
       "      <td>...</td>\n",
       "      <td>...</td>\n",
       "      <td>...</td>\n",
       "      <td>...</td>\n",
       "      <td>...</td>\n",
       "      <td>...</td>\n",
       "      <td>...</td>\n",
       "      <td>...</td>\n",
       "      <td>...</td>\n",
       "      <td>...</td>\n",
       "      <td>...</td>\n",
       "      <td>...</td>\n",
       "      <td>...</td>\n",
       "      <td>...</td>\n",
       "      <td>...</td>\n",
       "      <td>...</td>\n",
       "    </tr>\n",
       "    <tr>\n",
       "      <th>239</th>\n",
       "      <td>-0.4</td>\n",
       "      <td>3.425521e-08</td>\n",
       "      <td>1.244276e-06</td>\n",
       "      <td>1.009001e-06</td>\n",
       "      <td>3.457535e-08</td>\n",
       "      <td>3.431342e-08</td>\n",
       "      <td>3.419700e-08</td>\n",
       "      <td>3.402238e-08</td>\n",
       "      <td>3.384775e-08</td>\n",
       "      <td>2.740318e-05</td>\n",
       "      <td>3.768946e-08</td>\n",
       "      <td>1.979060e-09</td>\n",
       "      <td>3.661262e-08</td>\n",
       "      <td>3.652531e-08</td>\n",
       "      <td>3.640889e-08</td>\n",
       "      <td>3.640889e-08</td>\n",
       "      <td>2.738499e-05</td>\n",
       "      <td>2.328306e-08</td>\n",
       "      <td>3.463356e-08</td>\n",
       "      <td>1.210978e-05</td>\n",
       "    </tr>\n",
       "    <tr>\n",
       "      <th>240</th>\n",
       "      <td>-0.3</td>\n",
       "      <td>3.442983e-08</td>\n",
       "      <td>9.419746e-07</td>\n",
       "      <td>5.791662e-07</td>\n",
       "      <td>3.477908e-08</td>\n",
       "      <td>3.460445e-08</td>\n",
       "      <td>3.442983e-08</td>\n",
       "      <td>3.413879e-08</td>\n",
       "      <td>3.408059e-08</td>\n",
       "      <td>2.739797e-05</td>\n",
       "      <td>3.067544e-08</td>\n",
       "      <td>1.673470e-08</td>\n",
       "      <td>3.690366e-08</td>\n",
       "      <td>3.681635e-08</td>\n",
       "      <td>3.675814e-08</td>\n",
       "      <td>3.669993e-08</td>\n",
       "      <td>2.738059e-05</td>\n",
       "      <td>2.392335e-08</td>\n",
       "      <td>3.533205e-08</td>\n",
       "      <td>9.139243e-06</td>\n",
       "    </tr>\n",
       "    <tr>\n",
       "      <th>241</th>\n",
       "      <td>-0.2</td>\n",
       "      <td>3.457535e-08</td>\n",
       "      <td>1.962180e-07</td>\n",
       "      <td>1.915905e-07</td>\n",
       "      <td>3.504101e-08</td>\n",
       "      <td>3.489549e-08</td>\n",
       "      <td>3.480818e-08</td>\n",
       "      <td>3.457535e-08</td>\n",
       "      <td>3.434252e-08</td>\n",
       "      <td>2.738551e-05</td>\n",
       "      <td>5.535549e-08</td>\n",
       "      <td>4.278260e-09</td>\n",
       "      <td>3.716559e-08</td>\n",
       "      <td>3.707828e-08</td>\n",
       "      <td>3.699097e-08</td>\n",
       "      <td>3.707828e-08</td>\n",
       "      <td>2.737273e-05</td>\n",
       "      <td>2.453453e-08</td>\n",
       "      <td>3.582682e-08</td>\n",
       "      <td>5.958893e-06</td>\n",
       "    </tr>\n",
       "    <tr>\n",
       "      <th>242</th>\n",
       "      <td>-0.1</td>\n",
       "      <td>3.477908e-08</td>\n",
       "      <td>1.836452e-08</td>\n",
       "      <td>5.529730e-09</td>\n",
       "      <td>3.527384e-08</td>\n",
       "      <td>3.501191e-08</td>\n",
       "      <td>3.504101e-08</td>\n",
       "      <td>3.501191e-08</td>\n",
       "      <td>3.451714e-08</td>\n",
       "      <td>2.072463e-05</td>\n",
       "      <td>4.700269e-08</td>\n",
       "      <td>2.083834e-08</td>\n",
       "      <td>3.748573e-08</td>\n",
       "      <td>3.736932e-08</td>\n",
       "      <td>3.742753e-08</td>\n",
       "      <td>3.742753e-08</td>\n",
       "      <td>2.734727e-05</td>\n",
       "      <td>2.517481e-08</td>\n",
       "      <td>3.643800e-08</td>\n",
       "      <td>3.208930e-06</td>\n",
       "    </tr>\n",
       "    <tr>\n",
       "      <th>243</th>\n",
       "      <td>0.0</td>\n",
       "      <td>3.492460e-08</td>\n",
       "      <td>2.968591e-08</td>\n",
       "      <td>3.515743e-08</td>\n",
       "      <td>3.553578e-08</td>\n",
       "      <td>3.550667e-08</td>\n",
       "      <td>3.536115e-08</td>\n",
       "      <td>3.536115e-08</td>\n",
       "      <td>3.504101e-08</td>\n",
       "      <td>5.005860e-09</td>\n",
       "      <td>1.431908e-08</td>\n",
       "      <td>1.356238e-08</td>\n",
       "      <td>3.774767e-08</td>\n",
       "      <td>3.774767e-08</td>\n",
       "      <td>3.783498e-08</td>\n",
       "      <td>3.768946e-08</td>\n",
       "      <td>4.778849e-08</td>\n",
       "      <td>2.575689e-08</td>\n",
       "      <td>3.702007e-08</td>\n",
       "      <td>1.804437e-08</td>\n",
       "    </tr>\n",
       "  </tbody>\n",
       "</table>\n",
       "<p>244 rows × 20 columns</p>\n",
       "</div>"
      ],
      "text/plain": [
       "     voltage  current_cycle1  current_cycle2  current_cycle3  current_cycle4   \n",
       "0        0.0    6.693900e-10    2.968590e-09    1.135050e-09    2.153680e-09  \\\n",
       "1        0.1    1.545413e-08    2.182787e-08    1.973240e-08    2.118759e-08   \n",
       "2        0.2    1.679291e-08    2.415618e-08    2.174056e-08    2.380693e-08   \n",
       "3        0.3    1.763692e-08    2.584420e-08    2.331217e-08    2.578599e-08   \n",
       "4        0.4    1.824810e-08    2.712477e-08    2.453453e-08    2.735760e-08   \n",
       "..       ...             ...             ...             ...             ...   \n",
       "239     -0.4    3.425521e-08    1.244276e-06    1.009001e-06    3.457535e-08   \n",
       "240     -0.3    3.442983e-08    9.419746e-07    5.791662e-07    3.477908e-08   \n",
       "241     -0.2    3.457535e-08    1.962180e-07    1.915905e-07    3.504101e-08   \n",
       "242     -0.1    3.477908e-08    1.836452e-08    5.529730e-09    3.527384e-08   \n",
       "243      0.0    3.492460e-08    2.968591e-08    3.515743e-08    3.553578e-08   \n",
       "\n",
       "     current_cycle5  current_cycle6  current_cycle7  current_cycle8   \n",
       "0      1.891750e-09    1.513400e-09    1.309670e-09    1.018630e-09  \\\n",
       "1      2.083834e-08    2.063462e-08    2.051820e-08    2.019806e-08   \n",
       "2      2.354500e-08    2.331217e-08    2.328306e-08    2.310844e-08   \n",
       "3      2.546585e-08    2.526212e-08    2.526212e-08    2.517481e-08   \n",
       "4      2.709567e-08    2.689194e-08    2.689194e-08    2.677552e-08   \n",
       "..              ...             ...             ...             ...   \n",
       "239    3.431342e-08    3.419700e-08    3.402238e-08    3.384775e-08   \n",
       "240    3.460445e-08    3.442983e-08    3.413879e-08    3.408059e-08   \n",
       "241    3.489549e-08    3.480818e-08    3.457535e-08    3.434252e-08   \n",
       "242    3.501191e-08    3.504101e-08    3.501191e-08    3.451714e-08   \n",
       "243    3.550667e-08    3.536115e-08    3.536115e-08    3.504101e-08   \n",
       "\n",
       "     current_cycle9  current_cycle10  current_cycle11  current_cycle12   \n",
       "0      9.895300e-10     3.579770e-09     5.180480e-09     2.328300e-10  \\\n",
       "1      1.996523e-08     2.363231e-08     2.441811e-08     6.984900e-10   \n",
       "2      2.284651e-08     2.578599e-08     3.460445e-08     1.193260e-09   \n",
       "3      2.476736e-08     2.753222e-08     2.206070e-08     1.804440e-09   \n",
       "4      2.648449e-08     2.875458e-08     3.687455e-08     8.149100e-10   \n",
       "..              ...              ...              ...              ...   \n",
       "239    2.740318e-05     3.768946e-08     1.979060e-09     3.661262e-08   \n",
       "240    2.739797e-05     3.067544e-08     1.673470e-08     3.690366e-08   \n",
       "241    2.738551e-05     5.535549e-08     4.278260e-09     3.716559e-08   \n",
       "242    2.072463e-05     4.700269e-08     2.083834e-08     3.748573e-08   \n",
       "243    5.005860e-09     1.431908e-08     1.356238e-08     3.774767e-08   \n",
       "\n",
       "     current_cycle13  current_cycle14  current_cycle15  current_cycle16   \n",
       "0       3.667080e-09     3.579770e-09     3.434250e-09     3.405150e-09  \\\n",
       "1       2.351590e-08     2.337038e-08     2.325396e-08     2.307934e-08   \n",
       "2       2.596062e-08     2.601882e-08     2.584420e-08     2.593151e-08   \n",
       "3       2.785237e-08     2.779416e-08     2.779416e-08     2.785237e-08   \n",
       "4       2.927845e-08     2.954039e-08     2.924935e-08     2.927845e-08   \n",
       "..               ...              ...              ...              ...   \n",
       "239     3.652531e-08     3.640889e-08     3.640889e-08     2.738499e-05   \n",
       "240     3.681635e-08     3.675814e-08     3.669993e-08     2.738059e-05   \n",
       "241     3.707828e-08     3.699097e-08     3.707828e-08     2.737273e-05   \n",
       "242     3.736932e-08     3.742753e-08     3.742753e-08     2.734727e-05   \n",
       "243     3.774767e-08     3.783498e-08     3.768946e-08     4.778849e-08   \n",
       "\n",
       "     current_cycle17  current_cycle18  current_cycle19  \n",
       "0       2.852180e-09     2.619300e-10     3.085010e-09  \n",
       "1       2.208981e-08     1.885928e-08     2.232264e-08  \n",
       "2       2.485467e-08     2.121669e-08     2.505840e-08  \n",
       "3       2.671732e-08     2.264278e-08     2.706656e-08  \n",
       "4       2.823072e-08     2.380693e-08     2.875458e-08  \n",
       "..               ...              ...              ...  \n",
       "239     2.328306e-08     3.463356e-08     1.210978e-05  \n",
       "240     2.392335e-08     3.533205e-08     9.139243e-06  \n",
       "241     2.453453e-08     3.582682e-08     5.958893e-06  \n",
       "242     2.517481e-08     3.643800e-08     3.208930e-06  \n",
       "243     2.575689e-08     3.702007e-08     1.804437e-08  \n",
       "\n",
       "[244 rows x 20 columns]"
      ]
     },
     "execution_count": 16,
     "metadata": {},
     "output_type": "execute_result"
    }
   ],
   "source": [
    "df = pd.read_excel(dir_name + f_name)\n",
    "df"
   ]
  },
  {
   "cell_type": "code",
   "execution_count": 44,
   "id": "c094cf11-aeec-4b04-b718-f62645ba25c8",
   "metadata": {
    "execution": {
     "iopub.execute_input": "2023-07-04T06:18:49.717047Z",
     "iopub.status.busy": "2023-07-04T06:18:49.716590Z",
     "iopub.status.idle": "2023-07-04T06:18:49.720197Z",
     "shell.execute_reply": "2023-07-04T06:18:49.719774Z",
     "shell.execute_reply.started": "2023-07-04T06:18:49.717029Z"
    },
    "tags": []
   },
   "outputs": [],
   "source": [
    "def Kalman1D(observations, damping=0):\n",
    "    # To return the smoothed time series data\n",
    "    observation_covariance = damping\n",
    "    initial_value_guess = observations[0]\n",
    "    transition_matrix = 1\n",
    "    transition_covariance = 0.1\n",
    "    initial_value_guess\n",
    "    kf = KalmanFilter(\n",
    "            initial_state_mean=initial_value_guess,\n",
    "            initial_state_covariance=observation_covariance,\n",
    "            observation_covariance=observation_covariance,\n",
    "            transition_covariance=transition_covariance,\n",
    "            transition_matrices=transition_matrix\n",
    "        )\n",
    "    pred_state, state_cov = kf.smooth(observations)\n",
    "    return pred_state\n",
    "\n"
   ]
  },
  {
   "cell_type": "code",
   "execution_count": null,
   "id": "381858ef-b66c-41d3-9bc8-6407f8607218",
   "metadata": {},
   "outputs": [],
   "source": [
    "def calculate_smoothed_cmean(f_name):\n",
    "    eps = 1e-12\n",
    "\n",
    "    current_cols = df.iloc[:, 1:]\n",
    "    voltage_col = df.iloc[:, :1].values\n",
    "\n",
    "    conductance_cols = current_cols.div(voltage_col + eps)\n",
    "    conductance_mean_col = conductance_cols.mean(axis=1).values\n",
    "    conductance_mean_col_head100 = conductance_mean_col[1: 101]\n",
    "    c_mean_smooth = Kalman1D(conductance_mean_col_head100)\n",
    "    c_mean_smooth = c_mean_smooth.T[0]\n",
    "    return c_mean_smooth\n"
   ]
  },
  {
   "cell_type": "code",
   "execution_count": 73,
   "id": "3a35a4b3-0620-48de-a52b-f4837ed98fec",
   "metadata": {
    "ExecutionIndicator": {
     "show": true
    },
    "execution": {
     "iopub.execute_input": "2023-07-04T06:41:57.643719Z",
     "iopub.status.busy": "2023-07-04T06:41:57.643271Z",
     "iopub.status.idle": "2023-07-04T06:41:57.667380Z",
     "shell.execute_reply": "2023-07-04T06:41:57.666921Z",
     "shell.execute_reply.started": "2023-07-04T06:41:57.643700Z"
    },
    "tags": []
   },
   "outputs": [],
   "source": [
    "\n",
    "eps = 1e-12\n",
    "\n",
    "current_cols = df.iloc[:, 1:]\n",
    "voltage_col = df.iloc[:, :1].values\n",
    "\n",
    "conductance_cols = current_cols.div(voltage_col + eps)\n",
    "conductance_mean_col = conductance_cols.mean(axis=1).values\n",
    "conductance_mean_col_head100 = conductance_mean_col[1: 101]\n",
    "c_mean_smooth = Kalman1D(conductance_mean_col_head100)\n",
    "c_mean_smooth = c_mean_smooth.T[0]"
   ]
  },
  {
   "cell_type": "markdown",
   "id": "1b9849c7-00a5-4cba-8fb9-e14bd825629f",
   "metadata": {},
   "source": []
  },
  {
   "cell_type": "code",
   "execution_count": 96,
   "id": "1e1280bc-ec2c-4b51-85a5-58a247546a09",
   "metadata": {
    "ExecutionIndicator": {
     "show": false
    },
    "execution": {
     "iopub.execute_input": "2023-07-04T06:56:57.871952Z",
     "iopub.status.busy": "2023-07-04T06:56:57.871516Z",
     "iopub.status.idle": "2023-07-04T06:56:57.875164Z",
     "shell.execute_reply": "2023-07-04T06:56:57.874710Z",
     "shell.execute_reply.started": "2023-07-04T06:56:57.871935Z"
    },
    "tags": []
   },
   "outputs": [
    {
     "data": {
      "text/plain": [
       "(67, 99)"
      ]
     },
     "execution_count": 96,
     "metadata": {},
     "output_type": "execute_result"
    }
   ],
   "source": [
    "LCIS(c_mean_smooth)"
   ]
  },
  {
   "cell_type": "code",
   "execution_count": 75,
   "id": "bc762d36-9d93-42e4-87b2-602801a0ea6a",
   "metadata": {
    "ExecutionIndicator": {
     "show": true
    },
    "execution": {
     "iopub.execute_input": "2023-07-04T06:42:06.876499Z",
     "iopub.status.busy": "2023-07-04T06:42:06.876054Z",
     "iopub.status.idle": "2023-07-04T06:42:06.880140Z",
     "shell.execute_reply": "2023-07-04T06:42:06.879742Z",
     "shell.execute_reply.started": "2023-07-04T06:42:06.876481Z"
    },
    "tags": []
   },
   "outputs": [
    {
     "data": {
      "text/plain": [
       "array([False, False, False, False, False, False,  True, False, False,\n",
       "       False, False, False,  True,  True, False, False, False,  True,\n",
       "        True, False, False, False, False,  True, False, False, False,\n",
       "       False, False, False, False,  True,  True,  True,  True,  True,\n",
       "        True, False, False,  True,  True,  True,  True, False,  True,\n",
       "        True,  True,  True,  True,  True,  True,  True,  True,  True,\n",
       "        True,  True,  True,  True,  True, False,  True, False, False,\n",
       "       False, False,  True, False,  True,  True,  True, False,  True,\n",
       "        True, False,  True,  True,  True,  True,  True,  True,  True,\n",
       "        True,  True,  True,  True,  True,  True,  True,  True,  True,\n",
       "        True,  True,  True,  True,  True,  True,  True,  True,  True])"
      ]
     },
     "execution_count": 75,
     "metadata": {},
     "output_type": "execute_result"
    }
   ],
   "source": [
    "\n",
    "whether_increase = (c_mean_smooth - np.roll(c_mean_smooth, 1))[1: ] > 0\n",
    "whether_increase"
   ]
  },
  {
   "cell_type": "code",
   "execution_count": 95,
   "id": "225e4692-74e1-4a3b-a3a0-11d0c78b4f3e",
   "metadata": {
    "ExecutionIndicator": {
     "show": false
    },
    "execution": {
     "iopub.execute_input": "2023-07-04T06:56:05.192625Z",
     "iopub.status.busy": "2023-07-04T06:56:05.192184Z",
     "iopub.status.idle": "2023-07-04T06:56:05.197356Z",
     "shell.execute_reply": "2023-07-04T06:56:05.196963Z",
     "shell.execute_reply.started": "2023-07-04T06:56:05.192608Z"
    },
    "tags": []
   },
   "outputs": [
    {
     "data": {
      "text/plain": [
       "(0, 0, 63)"
      ]
     },
     "execution_count": 95,
     "metadata": {},
     "output_type": "execute_result"
    }
   ],
   "source": [
    "\n",
    "# st_indx = 0\n",
    "# end_indx = 0\n",
    "# longest_st = 0\n",
    "# longest_end = 0\n",
    "# longest_len = 0\n",
    "# cum_inc_len = 0\n",
    "# decrease_cnt = 0\n",
    "\n",
    "\n",
    "# for st_indx, item in enumerate(whether_increase):\n",
    "#     end_indx = st_indx\n",
    "#     if item == True:\n",
    "#         end_indx += 1\n",
    "#         cum_inc_len += 1\n",
    "        \n",
    "#     else:\n",
    "#         decrease_cnt += 1\n",
    "\n",
    "#     if decrease_cnt == 2:\n",
    "#         '''more than 2 times decrease: reset'''\n",
    "\n",
    "#         # longest_len = cum_inc_len if cum_inc_len > longest_len else longest_len\n",
    "#         if cum_inc_len > longest_len:\n",
    "#             longest_len = cum_inc_len\n",
    "#             longest_st = st_indx\n",
    "#             longest_end = end_indx \n",
    "#         cum_inc_len = 0\n",
    "#         # st_indx = i\n",
    "#         # end_indx = i + 1\n",
    "        \n",
    "# longest_st, longest_end, cum_inc_len"
   ]
  },
  {
   "cell_type": "code",
   "execution_count": 82,
   "id": "0dc52e30-1991-4f02-8b44-f6a72d01cc84",
   "metadata": {
    "execution": {
     "iopub.execute_input": "2023-07-04T06:49:13.003180Z",
     "iopub.status.busy": "2023-07-04T06:49:13.002743Z",
     "iopub.status.idle": "2023-07-04T06:49:13.006259Z",
     "shell.execute_reply": "2023-07-04T06:49:13.005878Z",
     "shell.execute_reply.started": "2023-07-04T06:49:13.003162Z"
    },
    "tags": []
   },
   "outputs": [
    {
     "data": {
      "text/plain": [
       "(0, 0)"
      ]
     },
     "execution_count": 82,
     "metadata": {},
     "output_type": "execute_result"
    }
   ],
   "source": []
  },
  {
   "cell_type": "code",
   "execution_count": 51,
   "id": "904e4623-0f06-415a-9eca-f74062f99b80",
   "metadata": {
    "ExecutionIndicator": {
     "show": false
    },
    "execution": {
     "iopub.execute_input": "2023-07-04T06:20:48.594511Z",
     "iopub.status.busy": "2023-07-04T06:20:48.594071Z",
     "iopub.status.idle": "2023-07-04T06:20:48.598516Z",
     "shell.execute_reply": "2023-07-04T06:20:48.598104Z",
     "shell.execute_reply.started": "2023-07-04T06:20:48.594493Z"
    },
    "tags": []
   },
   "outputs": [
    {
     "data": {
      "text/plain": [
       "array([[2.02945611e-07],\n",
       "       [1.15542203e-07],\n",
       "       [8.02857228e-08],\n",
       "       [6.52615092e-08],\n",
       "       [5.45834674e-08],\n",
       "       [4.75464675e-08],\n",
       "       [4.31677632e-08],\n",
       "       [4.66178263e-08],\n",
       "       [3.77277550e-08],\n",
       "       [3.35934795e-08],\n",
       "       [3.29318885e-08],\n",
       "       [2.93259382e-08],\n",
       "       [2.71973534e-08],\n",
       "       [3.88157572e-07],\n",
       "       [3.92556397e-07],\n",
       "       [3.52551674e-07],\n",
       "       [2.95907562e-07],\n",
       "       [2.76185140e-07],\n",
       "       [3.09926776e-07],\n",
       "       [3.60866803e-07],\n",
       "       [3.33800543e-07],\n",
       "       [2.77936711e-07],\n",
       "       [2.37916803e-07],\n",
       "       [2.10232400e-07],\n",
       "       [7.22101479e-07],\n",
       "       [6.96727929e-07],\n",
       "       [6.67150475e-07],\n",
       "       [6.35660986e-07],\n",
       "       [6.23194959e-07],\n",
       "       [5.87520991e-07],\n",
       "       [5.79996387e-07],\n",
       "       [5.74645981e-07],\n",
       "       [5.90796592e-07],\n",
       "       [7.76085220e-07],\n",
       "       [9.99794498e-07],\n",
       "       [1.09045889e-06],\n",
       "       [1.21794685e-06],\n",
       "       [1.24722694e-06],\n",
       "       [1.20529256e-06],\n",
       "       [1.19817479e-06],\n",
       "       [1.21609600e-06],\n",
       "       [1.22612182e-06],\n",
       "       [1.25780343e-06],\n",
       "       [1.27966231e-06],\n",
       "       [1.24088391e-06],\n",
       "       [1.31327269e-06],\n",
       "       [1.33538906e-06],\n",
       "       [1.40093775e-06],\n",
       "       [1.48920761e-06],\n",
       "       [1.53046873e-06],\n",
       "       [1.63183255e-06],\n",
       "       [1.74118733e-06],\n",
       "       [1.77299154e-06],\n",
       "       [1.86869735e-06],\n",
       "       [1.97117954e-06],\n",
       "       [2.07195363e-06],\n",
       "       [2.21232934e-06],\n",
       "       [2.38055979e-06],\n",
       "       [2.60886568e-06],\n",
       "       [2.75061007e-06],\n",
       "       [2.72550563e-06],\n",
       "       [2.89118531e-06],\n",
       "       [2.88355918e-06],\n",
       "       [2.80327466e-06],\n",
       "       [2.73833406e-06],\n",
       "       [2.68321278e-06],\n",
       "       [2.76818012e-06],\n",
       "       [2.73070013e-06],\n",
       "       [2.76908922e-06],\n",
       "       [2.94134782e-06],\n",
       "       [2.98414415e-06],\n",
       "       [2.98389293e-06],\n",
       "       [3.02275242e-06],\n",
       "       [3.02706979e-06],\n",
       "       [3.02350583e-06],\n",
       "       [3.28904512e-06],\n",
       "       [3.31639476e-06],\n",
       "       [3.34946692e-06],\n",
       "       [3.38649736e-06],\n",
       "       [3.43492019e-06],\n",
       "       [3.64267415e-06],\n",
       "       [3.89364123e-06],\n",
       "       [3.94572527e-06],\n",
       "       [4.16925553e-06],\n",
       "       [4.43762886e-06],\n",
       "       [4.75602712e-06],\n",
       "       [5.15000645e-06],\n",
       "       [5.53340712e-06],\n",
       "       [5.81603662e-06],\n",
       "       [6.00509258e-06],\n",
       "       [6.20657854e-06],\n",
       "       [6.42264822e-06],\n",
       "       [6.65425101e-06],\n",
       "       [6.90502955e-06],\n",
       "       [7.17155423e-06],\n",
       "       [7.45823197e-06],\n",
       "       [7.76969657e-06],\n",
       "       [8.01945810e-06],\n",
       "       [8.22560969e-06],\n",
       "       [8.87738431e-06]])"
      ]
     },
     "execution_count": 51,
     "metadata": {},
     "output_type": "execute_result"
    }
   ],
   "source": [
    "c_mean_smooth - c_mean_smooth"
   ]
  },
  {
   "cell_type": "code",
   "execution_count": 52,
   "id": "2941b3ba-dd8a-4792-b7b8-d534da59c6ca",
   "metadata": {
    "execution": {
     "iopub.execute_input": "2023-07-04T06:21:25.846269Z",
     "iopub.status.busy": "2023-07-04T06:21:25.845902Z",
     "iopub.status.idle": "2023-07-04T06:21:25.850930Z",
     "shell.execute_reply": "2023-07-04T06:21:25.850493Z",
     "shell.execute_reply.started": "2023-07-04T06:21:25.846251Z"
    },
    "tags": []
   },
   "outputs": [],
   "source": [
    "def LCIS(arr):\n",
    "    \"\"\"\n",
    "    求最长连续[递增]*子序列\n",
    "    返回最长连续递增子序列的\n",
    "    ---------\n",
    "    *该[递增]序列并不要求始终严格增，而是最多允许两次递减\n",
    "    \"\"\"\n",
    "    decrease_cnt = 0\n",
    "    start_index = 0\n",
    "    end_index = 0\n",
    "    sub_len = 0\n",
    "    longest_start = 0\n",
    "    longest_end = 0\n",
    "    longest_len = 0\n",
    "    decrease_point_0 = -1\n",
    "    decrease_point_1 = -1\n",
    "    for i in range(1, len(arr)):\n",
    "        if arr[i] > arr[i-1]:\n",
    "            end_index += 1\n",
    "        else:\n",
    "            decrease_cnt += 1\n",
    "            if decrease_cnt == 1:\n",
    "                end_index += 1\n",
    "                decrease_point_0 = end_index\n",
    "            elif decrease_cnt == 2:\n",
    "                end_index += 1\n",
    "                decrease_point_1 = end_index\n",
    "            else:\n",
    "                sub_len = end_index - start_index + 1\n",
    "                if longest_len < sub_len:\n",
    "                    longest_len = sub_len\n",
    "                    longest_start = start_index\n",
    "                    longest_end = end_index\n",
    "                start_index = decrease_point_0\n",
    "                decrease_point_0 = decrease_point_1\n",
    "                decrease_point_1 = i\n",
    "                end_index = i\n",
    "                decrease_cnt = 2\n",
    "\n",
    "    sub_len = end_index - start_index + 1\n",
    "    if longest_len < sub_len:\n",
    "        longest_len = sub_len\n",
    "        longest_start = start_index\n",
    "        longest_end = end_index\n",
    "\n",
    "    return longest_start, longest_end\n"
   ]
  },
  {
   "cell_type": "code",
   "execution_count": 54,
   "id": "1b857dc1-409e-4414-9f44-8cdd031a2514",
   "metadata": {
    "ExecutionIndicator": {
     "show": false
    },
    "execution": {
     "iopub.execute_input": "2023-07-04T06:21:51.074116Z",
     "iopub.status.busy": "2023-07-04T06:21:51.073672Z",
     "iopub.status.idle": "2023-07-04T06:21:51.077354Z",
     "shell.execute_reply": "2023-07-04T06:21:51.076960Z",
     "shell.execute_reply.started": "2023-07-04T06:21:51.074099Z"
    },
    "tags": []
   },
   "outputs": [
    {
     "data": {
      "text/plain": [
       "(0, 0)"
      ]
     },
     "execution_count": 54,
     "metadata": {},
     "output_type": "execute_result"
    }
   ],
   "source": []
  }
 ],
 "metadata": {
  "kernelspec": {
   "display_name": "Python 3 (ipykernel)",
   "language": "python",
   "name": "python3"
  },
  "language_info": {
   "codemirror_mode": {
    "name": "ipython",
    "version": 3
   },
   "file_extension": ".py",
   "mimetype": "text/x-python",
   "name": "python",
   "nbconvert_exporter": "python",
   "pygments_lexer": "ipython3",
   "version": "3.9.15"
  }
 },
 "nbformat": 4,
 "nbformat_minor": 5
}
