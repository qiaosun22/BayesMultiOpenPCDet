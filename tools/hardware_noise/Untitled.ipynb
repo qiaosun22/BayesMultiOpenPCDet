{
 "cells": [
  {
   "cell_type": "code",
   "execution_count": 3,
   "id": "3188844f-ffb1-47c4-9496-6976c68ae794",
   "metadata": {
    "ExecutionIndicator": {
     "show": true
    },
    "execution": {
     "iopub.execute_input": "2023-07-17T06:07:05.846661Z",
     "iopub.status.busy": "2023-07-17T06:07:05.846333Z",
     "iopub.status.idle": "2023-07-17T06:07:06.253679Z",
     "shell.execute_reply": "2023-07-17T06:07:06.252955Z",
     "shell.execute_reply.started": "2023-07-17T06:07:05.846641Z"
    },
    "tags": []
   },
   "outputs": [
    {
     "name": "stdout",
     "output_type": "stream",
     "text": [
      "  adding: data_added0709/ (stored 0%)\n",
      "  adding: data_added0709/I-V_data_1.2um_length_200nm_diameter_NA_third_etch_15min_Pb_ED_10h_210C_MABr_PMMA_200nm_Ag_memory_6V_probe.xlsx (deflated 7%)\n",
      "  adding: data_added0709/I-V_data_0.7um_length_200nm_diameter_NA_third_etch_10min_Pb_ED_1h_180C_MAI_no_100nm_Ag_memory_1V_probe.xlsx (deflated 7%)\n",
      "  adding: data_added0709/I-V_data_1.5um_length_200nm_diameter_BT_2V_NA_third_etch_15min_Pb_ED_3h_180C_MAI_no_200nm_Ag_memory_6V_carbon_paste.xlsx (deflated 51%)\n",
      "  adding: data_added0709/I-V_data_1.2um_length_200nm_diameter_NA_third_etch_15min_Pb_ED_10h_180+210C_FAI_no_200nm_Ag_memory_6V_silver_paste.xlsx (deflated 8%)\n",
      "  adding: data_added0709/I-V_data_2um_length_200nm_diameter_NA_third_etch_15min_Pb_ED_3h_180C_CsPbI3_no_200nm_Ag_memory_6V_wait_1min_probe.xlsx (deflated 55%)\n",
      "  adding: data_added0709/I-V_data_1.2um_length_250nm_diameter_20s_third_etch_15min_Pb_ED_3h_180C_MAI_no_200nm_Ag_memory_6V_carbon_paste.xlsx (deflated 18%)\n",
      "  adding: data_added0709/I-V_data_1.5um_length_200nm_diameter_annealing_500C_5hrs_NA_third_etch_15min_Pb_ED_3h_180C_MAI_no_200nm_Ag_memory_6V_carbon_paste.xlsx (deflated 55%)\n",
      "  adding: data_added0709/I-V_data_1.5um_length_200nm_diameter_BT_2V_NA_third_etch_15min_Pb_ED_3h_180C_MAI_no_200nm_Ag_memory_4V_carbon_paste_wait 1min.xlsx (deflated 55%)\n",
      "  adding: data_added0709/I-V_data_1.5um_length_200nm_diameter_NA_third_etch_15min_Pb_ED_3h_180C_MAI_no_200nm_Ag_memory_6V_carbon_paste.xlsx (deflated 49%)\n",
      "  adding: data_added0709/I-V_data_1.5um_length_5nm_diameter_NA_third_etch_8min_Pb_ED_3h_180C_MAI_no_150nm_Ag_memory_6V_carbon_paste.xlsx (deflated 52%)\n"
     ]
    }
   ],
   "source": [
    "!zip data_added0717.zip -r data_added0709 "
   ]
  },
  {
   "cell_type": "code",
   "execution_count": 4,
   "id": "d6ff7222-aaee-4541-a1f3-a6f7bc0db4a6",
   "metadata": {
    "execution": {
     "iopub.execute_input": "2023-07-17T06:07:54.044421Z",
     "iopub.status.busy": "2023-07-17T06:07:54.044046Z",
     "iopub.status.idle": "2023-07-17T06:07:54.470444Z",
     "shell.execute_reply": "2023-07-17T06:07:54.469871Z",
     "shell.execute_reply.started": "2023-07-17T06:07:54.044388Z"
    },
    "tags": []
   },
   "outputs": [
    {
     "name": "stdout",
     "output_type": "stream",
     "text": [
      "  adding: hardware_data/ (stored 0%)\n",
      "  adding: hardware_data/I-V_data_1.8um_length_50nm_diameter_NA_third_etch_20min_Pb_ED_3h_180C_MAI_no_200nm_Ag_memory_6V_carbon_paste.xlsx (deflated 4%)\n",
      "  adding: hardware_data/I-V_data_1.2um_length_250nm_diameter_NA_third_etch_15min_Pb_ED_3h_180C_MAI_PMMA_600nm_Ag_memory_6V_carbon_paste.xlsx (deflated 67%)\n",
      "  adding: hardware_data/I-V_data_1.2um_length_200nm_diameter_NA_third_etch_15min_Pb_ED_1h_180C_MAI_no_100nm_Ag_memory_5V_carbon_paste.xlsx (deflated 1%)\n",
      "  adding: hardware_data/I-V_data_1.2um_length_200nm_diameter_NA_third_etch_15min_Pb_ED_10h_180+210C_FAI_no_200nm_Ag_memory_6V_probe.xlsx (deflated 4%)\n",
      "  adding: hardware_data/I-V_data_1.2um_length_200nm_diameter_NA_third_etch_15min_Pb_ED_3h_180C_MABr_no_200nm_Ag_memory_6V_silver_paste.xlsx (deflated 6%)\n",
      "  adding: hardware_data/.ipynb_checkpoints/ (stored 0%)\n",
      "  adding: hardware_data/I-V_data_1um_length_200nm_diameter_NA_third_etch_25min_Pb_ED_1h_180C_MAI_no_100nm_Ag_memory_8V_carbon_paste.xlsx (deflated 56%)\n",
      "  adding: hardware_data/I-V_data_0.7um_length_200nm_diameter_NA_third_etch_10min_Pb_ED_1h_180C_MAI_no_100nm_Ag_memory_5V_silver_paste.xlsx (deflated 8%)\n",
      "  adding: hardware_data/I-V_data_2um_length_300nm_diameter_NA_third_etch_10min_Pb_ED_1h_180C_MAI_no_100nm_Ag_memory_4V_carbon_paste.xlsx (deflated 9%)\n",
      "  adding: hardware_data/I-V_data_2.5um_length_200nm_diameter_NA_third_etch_25min_Pb_ED_1h_180C_MAI_no_100nm_Ag_memory_5V_silver_paste.xlsx (deflated 6%)\n",
      "  adding: hardware_data/I-V_data_0.7um_length_200nm_diameter_NA_third_etch_10min_Pb_ED_1h_180C_MAI_no_100nm_Ag_memory_1V_silver_paste.xlsx (deflated 7%)\n",
      "  adding: hardware_data/I-V_data_1.2um_length_200nm_diameter_NA_third_etch_15min_Pb_ED_10h_180+210C_FAI_PMMA_200nm_Ag_memory_6V_probe.xlsx (deflated 7%)\n",
      "  adding: hardware_data/I-V_data_2um_length_250nm_diameter_NA_third_etch_15min_Pb_ED_3h_180C_MAI_no_200nm_Ag_memory_6V_carbon_paste.xlsx (deflated 68%)\n",
      "  adding: hardware_data/I-V_data_1.2um_length_200nm_diameter_NA_third_etch_15min_Pb_ED_10h_210C_MABr_PMMA_200nm_Ag_memory_6V_silver_paste.xlsx (deflated 7%)\n",
      "  adding: hardware_data/not used I-V_data_0.7um_length_200nm_diameter_NA_third_etch_10min_Pb_ED_1h_180C_MAI_no_100nm_Ag_memory_1V_probe.xlsx (deflated 9%)\n",
      "  adding: hardware_data/not used I-V_data_1.2um_length_200nm_diameter_NA_third_etch_15min_Pb_ED_10h_180+210C_FAI_no_200nm_Ag_memory_6V_silver_paste.xlsx (deflated 8%)\n",
      "  adding: hardware_data/I-V_data_2um_length_300nm_diameter_NA_third_etch_15min_Pb_ED_1h_180C_MAI_no_100nm_Ag_memory_6V_carbon_paste.xlsx (deflated 43%)\n",
      "  adding: hardware_data/I-V_data_0.7um_length_200nm_diameter_NA_third_etch_10min_Pb_ED_1h_180C_MAI_no_100nm_Ag_memory_1V_carbon_paste.xlsx (deflated 10%)\n",
      "  adding: hardware_data/I-V_data_1.5um_length_200nm_diameter_NA_third_etch_10min_Pb_ED_1h_180C_MAI_no_100nm_Ag_memory_8V_carbon_paste.xlsx (deflated 30%)\n",
      "  adding: hardware_data/I-V_data_0.7um_length_200nm_diameter_NA_third_etch_25min_Pb_ED_1h_180C_MAI_no_100nm_Ag_memory_8V_carbon_paste.xlsx (deflated 69%)\n",
      "  adding: hardware_data/I-V_data_1.2um_length_200nm_diameter_NA_third_etch_15min_Pb_ED_3h_180C_MABr_no_200nm_Ag_memory_6V_probe.xlsx (deflated 5%)\n",
      "  adding: hardware_data/I-V_data_1.5um_length_200nm_diameter_NA_third_etch_10min_Pb_ED_1h_180C_MAI_no_100nm_Ag_memory_8V_carbon_paste_2.xlsx (deflated 39%)\n",
      "  adding: hardware_data/not used I-V_data_1.2um_length_250nm_diameter_20s_third_etch_15min_Pb_ED_3h_180C_MAI_no_200nm_Ag_memory_6V_carbon_paste.xlsx (deflated 5%)\n",
      "  adding: hardware_data/I-V_data_2um_length_200nm_diameter_NA_third_etch_18min_Pb_ED_3h_180C_MABr_no_200nm_Ag_memory_6V_silver_paste.xlsx (deflated 7%)\n",
      "  adding: hardware_data/not used I-V_data_1.2um_length_200nm_diameter_NA_third_etch_15min_Pb_ED_10h_210C_MABr_PMMA_200nm_Ag_memory_6V_probe.xlsx (deflated 10%)\n",
      "  adding: hardware_data/I-V_data_1um_length_200nm_diameter_NA_third_etch_10min_Pb_ED_1h_180C_MAI_no_100nm_Ag_memory_8V_carbon_paste.xlsx (deflated 90%)\n",
      "  adding: hardware_data/I-V_data_2um_length_200nm_diameter_NA_third_etch_18min_Pb_ED_10h_180+210C_FAI_no_200nm_Ag_memory_6V_silver_paste.xlsx (deflated 4%)\n",
      "  adding: hardware_data/I-V_data_1.2um_length_200nm_diameter_NA_third_etch_15min_Pb_ED_1h_180C_MAI_no_100nm_Ag_memory_5V_carbon_paste_2.xlsx (deflated 6%)\n",
      "  adding: hardware_data/I-V_data_1.2um_length_250nm_diameter_NA_third_etch_15min_Pb_ED_3h_180C_MAI_no_600nm_Ag_memory_6V_carbon_paste.xlsx (deflated 4%)\n",
      "  adding: hardware_data/I-V_data_2.5um_length_200nm_diameter_NA_third_etch_25min_Pb_ED_1h_180C_MAI_no_100nm_Ag_memory_3V_carbon_paste.xlsx (deflated 8%)\n",
      "  adding: hardware_data/I-V_data_3um_length_50nm_diameter_NA_third_etch_20min_Pb_ED_3h_180C_MAI_no_200nm_Ag_memory_6V_carbon_paste.xlsx (deflated 4%)\n",
      "  adding: hardware_data/I-V_data_1.2um_length_200nm_diameter_NA_third_etch_15min_Pb_ED_10h_180+210C_FAI_PMMA_200nm_Ag_memory_6V_silver_paste.xlsx (deflated 4%)\n",
      "  adding: hardware_data/I-V_data_1.2um_length_250nm_diameter_10s_third_etch_15min_Pb_ED_3h_180C_MAI_no_200nm_Ag_memory_6V_carbon_paste.xlsx (deflated 4%)\n",
      "  adding: hardware_data/I-V_data_2um_length_200nm_diameter_NA_third_etch_18min_Pb_ED_3h_180C_MABr_no_200nm_Ag_memory_8V_probe.xlsx (deflated 5%)\n",
      "  adding: hardware_data/I-V_data_1.6um_length_250nm_diameter_NA_third_etch_15min_Pb_ED_3h_180C_MAI_PMMA_0nm_Ag_memory_6V_carbon_paste.xlsx (deflated 54%)\n",
      "  adding: hardware_data/I-V_data_1.6um_length_250nm_diameter_NA_third_etch_15min_Pb_ED_3h_180C_MAI_no_100nm_Ag_memory_8V_carbon_paste.xlsx (deflated 4%)\n",
      "  adding: hardware_data/I-V_data_1.2um_length_200nm_diameter_NA_third_etch_25min_Pb_ED_1h_180C_MAI_no_100nm_Ag_memory_8V_carbon_paste.xlsx (deflated 4%)\n",
      "  adding: hardware_data/I-V_data_2.5um_length_200nm_diameter_NA_third_etch_25min_Pb_ED_1h_180C_MAI_no_100nm_Ag_memory_8V_silver_paste.xlsx (deflated 6%)\n"
     ]
    }
   ],
   "source": [
    "!zip hardware_data0717.zip -r hardware_data"
   ]
  },
  {
   "cell_type": "code",
   "execution_count": 6,
   "id": "a7152359-849f-44f4-a63f-79a4c8573ebd",
   "metadata": {
    "ExecutionIndicator": {
     "show": true
    },
    "execution": {
     "iopub.execute_input": "2023-07-17T09:25:55.159198Z",
     "iopub.status.busy": "2023-07-17T09:25:55.158881Z",
     "iopub.status.idle": "2023-07-17T09:25:55.450886Z",
     "shell.execute_reply": "2023-07-17T09:25:55.450328Z",
     "shell.execute_reply.started": "2023-07-17T09:25:55.159176Z"
    },
    "tags": []
   },
   "outputs": [
    {
     "name": "stdout",
     "output_type": "stream",
     "text": [
      "Archive:  hardware IV and condition summary.zip\n",
      "  inflating: hardware IV and condition summary/fabrication and characterization conditions.xlsx  \n",
      " extracting: hardware IV and condition summary/hardware_data.zip  \n"
     ]
    }
   ],
   "source": [
    "!unzip \"hardware IV and condition summary\"\n"
   ]
  },
  {
   "cell_type": "code",
   "execution_count": 25,
   "id": "500fb50e-6f45-47f3-8fee-ba36a5608517",
   "metadata": {
    "execution": {
     "iopub.execute_input": "2023-07-17T23:00:53.802152Z",
     "iopub.status.busy": "2023-07-17T23:00:53.801731Z",
     "iopub.status.idle": "2023-07-17T23:00:53.973610Z",
     "shell.execute_reply": "2023-07-17T23:00:53.972755Z",
     "shell.execute_reply.started": "2023-07-17T23:00:53.802134Z"
    },
    "tags": []
   },
   "outputs": [],
   "source": [
    "!cd hardware_data"
   ]
  },
  {
   "cell_type": "markdown",
   "id": "9a77cb5d-1e5e-4577-878e-5d317c59125f",
   "metadata": {},
   "source": []
  },
  {
   "cell_type": "code",
   "execution_count": 26,
   "id": "7d4ebf8a-c35e-4c02-88f3-0aae682dfe34",
   "metadata": {
    "execution": {
     "iopub.execute_input": "2023-07-17T23:00:59.267570Z",
     "iopub.status.busy": "2023-07-17T23:00:59.267251Z",
     "iopub.status.idle": "2023-07-17T23:00:59.490448Z",
     "shell.execute_reply": "2023-07-17T23:00:59.489981Z",
     "shell.execute_reply.started": "2023-07-17T23:00:59.267549Z"
    },
    "tags": []
   },
   "outputs": [
    {
     "name": "stdout",
     "output_type": "stream",
     "text": [
      " cal_usability_with_sigma_finalv-0707newdata.ipynb\n",
      " cal_usability_with_sigma_finalv.ipynb\n",
      " \u001b[0m\u001b[34;42mdata_added0709\u001b[0m/\n",
      " data_added0709.zip\n",
      " data_added0717.zip\n",
      " \u001b[01;34mdata_refined\u001b[0m/\n",
      " data_refined.zip\n",
      " EDA.ipynb\n",
      " file2sigma.npy\n",
      " file2usability.npy\n",
      " Filename_Usability.csv\n",
      " \u001b[01;34mhardware_data\u001b[0m/\n",
      " \u001b[34;42mhardware_data_\u001b[0m/\n",
      " hardware_data0717.zip\n",
      " hardware_data.zip\n",
      " hardware_data_.zip\n",
      " \u001b[34;42mhardware_IV_and_condition_summary\u001b[0m/\n",
      "'hardware IV and condition summary.zip'\n",
      " hw_data_processing.ipynb\n",
      " I-V_data_25min_AAO_10min_Pb_ED_1h_180C_MAI_memory_8V_2.xlsx\n",
      " I-V_data_25min_AAO_10min_Pb_ED_1h_180C_MAI_memory_8V.xlsx\n",
      "'I-V_data_30min_AAO_5min second etch_15min_Pb_ED_3h_180C_MAI_200nm_Ag_memory_6V.xlsx'\n",
      " \u001b[34;42m__MACOSX\u001b[0m/\n",
      " main.ipynb\n",
      " mlesigma.py\n",
      " my_main.ipynb\n",
      " new_weight_mapping-0630.ipynb\n",
      " new_weight_mapping.ipynb\n",
      " new_weight_mapping.py\n",
      " \u001b[34;42m__pycache__\u001b[0m/\n",
      " Untitled.ipynb\n",
      " weight_mapping_finalv.py\n",
      " weight_mapping.ipynb\n",
      " weight_mapping.py\n"
     ]
    }
   ],
   "source": [
    "ls"
   ]
  },
  {
   "cell_type": "code",
   "execution_count": 27,
   "id": "3d54764f-f130-442a-b755-38ad32a1f94e",
   "metadata": {
    "ExecutionIndicator": {
     "show": true
    },
    "execution": {
     "iopub.execute_input": "2023-07-17T23:01:22.814607Z",
     "iopub.status.busy": "2023-07-17T23:01:22.814280Z",
     "iopub.status.idle": "2023-07-17T23:01:22.988637Z",
     "shell.execute_reply": "2023-07-17T23:01:22.987706Z",
     "shell.execute_reply.started": "2023-07-17T23:01:22.814584Z"
    },
    "tags": []
   },
   "outputs": [],
   "source": [
    "!cd hardware_IV_and_condition_summary"
   ]
  },
  {
   "cell_type": "code",
   "execution_count": 29,
   "id": "a595b5a7-b72a-4f7c-a95c-8a57a21d9c6e",
   "metadata": {
    "execution": {
     "iopub.execute_input": "2023-07-17T23:01:34.110066Z",
     "iopub.status.busy": "2023-07-17T23:01:34.109653Z",
     "iopub.status.idle": "2023-07-17T23:01:34.281824Z",
     "shell.execute_reply": "2023-07-17T23:01:34.280949Z",
     "shell.execute_reply.started": "2023-07-17T23:01:34.110049Z"
    },
    "tags": []
   },
   "outputs": [],
   "source": [
    "!cd .."
   ]
  },
  {
   "cell_type": "code",
   "execution_count": 30,
   "id": "2abac9cb-d86b-4ad8-b79e-7ce70b676d3f",
   "metadata": {
    "execution": {
     "iopub.execute_input": "2023-07-17T23:01:35.769677Z",
     "iopub.status.busy": "2023-07-17T23:01:35.769217Z",
     "iopub.status.idle": "2023-07-17T23:01:35.773020Z",
     "shell.execute_reply": "2023-07-17T23:01:35.772662Z",
     "shell.execute_reply.started": "2023-07-17T23:01:35.769653Z"
    },
    "tags": []
   },
   "outputs": [
    {
     "data": {
      "text/plain": [
       "'/mnt/workspace/sunqiao/OpenPCDet/tools/hardware_noise'"
      ]
     },
     "execution_count": 30,
     "metadata": {},
     "output_type": "execute_result"
    }
   ],
   "source": [
    "pwd"
   ]
  },
  {
   "cell_type": "code",
   "execution_count": 16,
   "id": "07eae37c-387a-4f0b-b7e6-b9c13193a18a",
   "metadata": {
    "ExecutionIndicator": {
     "show": true
    },
    "execution": {
     "iopub.execute_input": "2023-07-17T22:57:46.320062Z",
     "iopub.status.busy": "2023-07-17T22:57:46.319753Z",
     "iopub.status.idle": "2023-07-17T22:58:16.255837Z",
     "shell.execute_reply": "2023-07-17T22:58:16.255026Z",
     "shell.execute_reply.started": "2023-07-17T22:57:46.320041Z"
    },
    "tags": []
   },
   "outputs": [
    {
     "name": "stdout",
     "output_type": "stream",
     "text": [
      "Archive:  hardware_data.zip\n",
      "replace __MACOSX/._hardware_data? [y]es, [n]o, [A]ll, [N]one, [r]ename: ^C\n"
     ]
    }
   ],
   "source": [
    "!unzip hardware_data.zip "
   ]
  }
 ],
 "metadata": {
  "kernelspec": {
   "display_name": "Python 3 (ipykernel)",
   "language": "python",
   "name": "python3"
  },
  "language_info": {
   "codemirror_mode": {
    "name": "ipython",
    "version": 3
   },
   "file_extension": ".py",
   "mimetype": "text/x-python",
   "name": "python",
   "nbconvert_exporter": "python",
   "pygments_lexer": "ipython3",
   "version": "3.9.15"
  }
 },
 "nbformat": 4,
 "nbformat_minor": 5
}
